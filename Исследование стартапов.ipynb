{
 "cells": [
  {
   "cell_type": "markdown",
   "metadata": {
    "id": "4mJbK1knrJgz"
   },
   "source": [
    "# Проект: Исследование стартапов"
   ]
  },
  {
   "cell_type": "markdown",
   "metadata": {
    "id": "P6j0r3worJg0"
   },
   "source": [
    "## Введение"
   ]
  },
  {
   "cell_type": "markdown",
   "metadata": {
    "id": "8lQtbsIUyFG6"
   },
   "source": [
    "Поле для вашего введения: описания контекста и цели проекта целом. Чтобы изменить содержимое ячейки, дважды нажмите на неё (или нажмите «Ввод»)."
   ]
  },
  {
   "cell_type": "markdown",
   "metadata": {
    "id": "xqr6uttCrJg0"
   },
   "source": [
    "\n",
    "## Шаг 1. Знакомство с данными: загрузка и первичная предобработка\n",
    "\n",
    "Названия файлов:\n",
    "* acquisition.csv\n",
    "* company_and_rounds.csv\n",
    "* degrees.csv\n",
    "* education.csv\n",
    "* fund.csv\n",
    "* investment.csv\n",
    "* people.csv\n",
    "\n",
    "Они находятся в папке datasets, если вы выполняете работу на платформе. В случае, если вы делаете работу локально, доступ к файлам в папке можно получить по адресу `https://code.s3.yandex.net/datasets/` + имя файла.\n",
    "\n",
    "### 1.1. Вывод общей информации, исправление названия столбцов"
   ]
  },
  {
   "cell_type": "code",
   "execution_count": 1,
   "metadata": {},
   "outputs": [
    {
     "name": "stdout",
     "output_type": "stream",
     "text": [
      "Requirement already satisfied: scipy in /opt/conda/lib/python3.9/site-packages (1.9.1)\r\n",
      "Requirement already satisfied: numpy<1.25.0,>=1.18.5 in /opt/conda/lib/python3.9/site-packages (from scipy) (1.21.1)\r\n"
     ]
    }
   ],
   "source": [
    "# Импортируем библиотеки\n",
    "import pandas as pd\n",
    "# Загружаем библиотеки для визуализации данных\n",
    "import matplotlib.pyplot as plt\n",
    "# Загружаем библиотеки для визуализации данных\n",
    "import seaborn as sns\n",
    "\n",
    "!pip install scipy\n",
    "\n",
    "import scipy.stats\n",
    "\n",
    "# Проверяем наличие библиотеки phik\n",
    "try:\n",
    "    from phik import phik_matrix  # Добавлено для импорта функции phik_matrix\n",
    "except ModuleNotFoundError:\n",
    "    print(\"Библиотека 'phik' не найдена. Убедитесь, что она установлена.\")\n",
    "    # Установка библиотеки phik\n",
    "    !pip install phik\n",
    "    # Рекомендуется перезапустить ядро после установки\n",
    "# Импорт необходимых библиотек\n",
    "import numpy as np\n",
    "import matplotlib.pyplot as plt"
   ]
  },
  {
   "cell_type": "code",
   "execution_count": 2,
   "metadata": {},
   "outputs": [
    {
     "data": {
      "text/html": [
       "<style>.container { width:100% !important; }</style>"
      ],
      "text/plain": [
       "<IPython.core.display.HTML object>"
      ]
     },
     "metadata": {},
     "output_type": "display_data"
    }
   ],
   "source": [
    "from IPython.core.display import display, HTML\n",
    "display(HTML(\"<style>.container { width:100% !important; }</style>\"))"
   ]
  },
  {
   "cell_type": "code",
   "execution_count": 3,
   "metadata": {},
   "outputs": [],
   "source": [
    "df_acquisition = pd.read_csv('https://code.s3.yandex.net/datasets/acquisition.csv')"
   ]
  },
  {
   "cell_type": "code",
   "execution_count": 4,
   "metadata": {},
   "outputs": [],
   "source": [
    "df_company = pd.read_csv('https://code.s3.yandex.net/datasets/company_and_rounds.csv')"
   ]
  },
  {
   "cell_type": "code",
   "execution_count": 5,
   "metadata": {},
   "outputs": [],
   "source": [
    "df_degrees = pd.read_csv('https://code.s3.yandex.net/datasets/degrees.csv')"
   ]
  },
  {
   "cell_type": "code",
   "execution_count": 6,
   "metadata": {},
   "outputs": [],
   "source": [
    "df_education = pd.read_csv('https://code.s3.yandex.net/datasets/education.csv')"
   ]
  },
  {
   "cell_type": "code",
   "execution_count": 7,
   "metadata": {},
   "outputs": [],
   "source": [
    "df_fund = pd.read_csv('https://code.s3.yandex.net/datasets/fund.csv')"
   ]
  },
  {
   "cell_type": "code",
   "execution_count": 8,
   "metadata": {},
   "outputs": [],
   "source": [
    "df_investment = pd.read_csv('https://code.s3.yandex.net/datasets/investment.csv')"
   ]
  },
  {
   "cell_type": "code",
   "execution_count": 9,
   "metadata": {},
   "outputs": [],
   "source": [
    "df_people = pd.read_csv('https://code.s3.yandex.net/datasets/people.csv')"
   ]
  },
  {
   "cell_type": "code",
   "execution_count": 10,
   "metadata": {},
   "outputs": [
    {
     "data": {
      "text/plain": [
       "Index(['id', 'acquiring_company_id', 'acquired_company_id', 'term_code',\n",
       "       'price_amount', 'acquired_at'],\n",
       "      dtype='object')"
      ]
     },
     "execution_count": 10,
     "metadata": {},
     "output_type": "execute_result"
    }
   ],
   "source": [
    "df_acquisition.columns"
   ]
  },
  {
   "cell_type": "code",
   "execution_count": 11,
   "metadata": {},
   "outputs": [
    {
     "data": {
      "text/plain": [
       "Index(['company  ID', 'name', 'category  code', 'status', 'founded  at',\n",
       "       'closed  at', 'domain', 'network  username', 'country  code',\n",
       "       'investment  rounds', 'funding  rounds', 'funding  total', 'milestones',\n",
       "       'funding  round  id', 'company  id', 'funded  at',\n",
       "       'funding  round  type', 'raised  amount', 'pre  money  valuation',\n",
       "       'participants', 'is  first  round', 'is  last  round'],\n",
       "      dtype='object')"
      ]
     },
     "execution_count": 11,
     "metadata": {},
     "output_type": "execute_result"
    }
   ],
   "source": [
    "df_company.columns"
   ]
  },
  {
   "cell_type": "markdown",
   "metadata": {},
   "source": [
    "Наименования столбцов датафрейма df_company содержат пробелы, заменим их на '_'"
   ]
  },
  {
   "cell_type": "code",
   "execution_count": 12,
   "metadata": {},
   "outputs": [],
   "source": [
    "df_company.columns = df_company.columns.str.replace(' ', '_').str.lower()"
   ]
  },
  {
   "cell_type": "code",
   "execution_count": 13,
   "metadata": {},
   "outputs": [
    {
     "data": {
      "text/plain": [
       "Index(['company__id', 'name', 'category__code', 'status', 'founded__at',\n",
       "       'closed__at', 'domain', 'network__username', 'country__code',\n",
       "       'investment__rounds', 'funding__rounds', 'funding__total', 'milestones',\n",
       "       'funding__round__id', 'company__id', 'funded__at',\n",
       "       'funding__round__type', 'raised__amount', 'pre__money__valuation',\n",
       "       'participants', 'is__first__round', 'is__last__round'],\n",
       "      dtype='object')"
      ]
     },
     "execution_count": 13,
     "metadata": {},
     "output_type": "execute_result"
    }
   ],
   "source": [
    "df_company.columns"
   ]
  },
  {
   "cell_type": "code",
   "execution_count": 14,
   "metadata": {},
   "outputs": [
    {
     "data": {
      "text/plain": [
       "Index(['company__id', 'name', 'category__code', 'status', 'founded__at',\n",
       "       'closed__at', 'domain', 'network__username', 'country__code',\n",
       "       'investment__rounds', 'funding__rounds', 'funding__total', 'milestones',\n",
       "       'funding__round__id', 'company__id_1', 'funded__at',\n",
       "       'funding__round__type', 'raised__amount', 'pre__money__valuation',\n",
       "       'participants', 'is__first__round', 'is__last__round'],\n",
       "      dtype='object')"
      ]
     },
     "execution_count": 14,
     "metadata": {},
     "output_type": "execute_result"
    }
   ],
   "source": [
    "df_company.columns = ['company__id', 'name', 'category__code', 'status', 'founded__at',\n",
    "       'closed__at', 'domain', 'network__username', 'country__code',\n",
    "       'investment__rounds', 'funding__rounds', 'funding__total', 'milestones',\n",
    "       'funding__round__id', 'company__id_1', 'funded__at',\n",
    "       'funding__round__type', 'raised__amount', 'pre__money__valuation',\n",
    "       'participants', 'is__first__round', 'is__last__round']\n",
    "df_company.columns"
   ]
  },
  {
   "cell_type": "code",
   "execution_count": 15,
   "metadata": {},
   "outputs": [
    {
     "data": {
      "text/plain": [
       "Index(['company__id', 'name', 'category__code', 'status', 'founded__at',\n",
       "       'closed__at', 'domain', 'network__username', 'country__code',\n",
       "       'investment__rounds', 'funding__rounds', 'funding__total', 'milestones',\n",
       "       'funding__round__id', 'company__id_1', 'funded__at',\n",
       "       'funding__round__type', 'raised__amount', 'pre__money__valuation',\n",
       "       'participants', 'is__first__round', 'is__last__round', 'company_ID'],\n",
       "      dtype='object')"
      ]
     },
     "execution_count": 15,
     "metadata": {},
     "output_type": "execute_result"
    }
   ],
   "source": [
    "# Объединение значений в один столбец\n",
    "df_company['company_ID'] = df_company.apply(lambda row: f\"{row['company__id']}, {row['company__id_1']}\", axis=1)\n",
    "df_company.columns"
   ]
  },
  {
   "cell_type": "code",
   "execution_count": 16,
   "metadata": {},
   "outputs": [
    {
     "data": {
      "text/plain": [
       "Index(['id', 'object_id', 'degree_type', 'subject'], dtype='object')"
      ]
     },
     "execution_count": 16,
     "metadata": {},
     "output_type": "execute_result"
    }
   ],
   "source": [
    "df_degrees.columns"
   ]
  },
  {
   "cell_type": "code",
   "execution_count": 17,
   "metadata": {},
   "outputs": [
    {
     "data": {
      "text/plain": [
       "Index(['id', 'person_id', 'instituition', 'graduated_at'], dtype='object')"
      ]
     },
     "execution_count": 17,
     "metadata": {},
     "output_type": "execute_result"
    }
   ],
   "source": [
    "df_education.columns"
   ]
  },
  {
   "cell_type": "code",
   "execution_count": 18,
   "metadata": {},
   "outputs": [
    {
     "data": {
      "text/plain": [
       "Index(['id', 'name', 'founded_at', 'domain', 'network_username',\n",
       "       'country_code', 'investment_rounds', 'invested_companies',\n",
       "       'milestones'],\n",
       "      dtype='object')"
      ]
     },
     "execution_count": 18,
     "metadata": {},
     "output_type": "execute_result"
    }
   ],
   "source": [
    "df_fund.columns"
   ]
  },
  {
   "cell_type": "code",
   "execution_count": 19,
   "metadata": {},
   "outputs": [
    {
     "data": {
      "text/plain": [
       "Index(['id', 'funding_round_id', 'company_id', 'fund_id'], dtype='object')"
      ]
     },
     "execution_count": 19,
     "metadata": {},
     "output_type": "execute_result"
    }
   ],
   "source": [
    "df_investment.columns"
   ]
  },
  {
   "cell_type": "code",
   "execution_count": 20,
   "metadata": {},
   "outputs": [
    {
     "data": {
      "text/plain": [
       "Index(['id', 'first_name', 'last_name', 'company_id', 'network_username'], dtype='object')"
      ]
     },
     "execution_count": 20,
     "metadata": {},
     "output_type": "execute_result"
    }
   ],
   "source": [
    "df_people.columns"
   ]
  },
  {
   "cell_type": "markdown",
   "metadata": {},
   "source": [
    "Пробелы в наименованиях столбцов в датафрейме df_company заменены на '_'. После преобразования все наименования столбцов в едином столе, все представлены типом данных object."
   ]
  },
  {
   "cell_type": "markdown",
   "metadata": {},
   "source": [
    "\n",
    "* Выведем информацию, которая необходима вам для принятия решений о предобработке, для каждого из датасетов."
   ]
  },
  {
   "cell_type": "code",
   "execution_count": 21,
   "metadata": {
    "id": "4u9np9gSnyqT"
   },
   "outputs": [
    {
     "name": "stdout",
     "output_type": "stream",
     "text": [
      "<class 'pandas.core.frame.DataFrame'>\n",
      "RangeIndex: 9407 entries, 0 to 9406\n",
      "Data columns (total 6 columns):\n",
      " #   Column                Non-Null Count  Dtype \n",
      "---  ------                --------------  ----- \n",
      " 0   id                    9407 non-null   int64 \n",
      " 1   acquiring_company_id  9407 non-null   int64 \n",
      " 2   acquired_company_id   9407 non-null   int64 \n",
      " 3   term_code             1831 non-null   object\n",
      " 4   price_amount          9407 non-null   int64 \n",
      " 5   acquired_at           9378 non-null   object\n",
      "dtypes: int64(4), object(2)\n",
      "memory usage: 441.1+ KB\n"
     ]
    }
   ],
   "source": [
    "df_acquisition.info()"
   ]
  },
  {
   "cell_type": "code",
   "execution_count": 22,
   "metadata": {},
   "outputs": [
    {
     "data": {
      "text/html": [
       "<div>\n",
       "<style scoped>\n",
       "    .dataframe tbody tr th:only-of-type {\n",
       "        vertical-align: middle;\n",
       "    }\n",
       "\n",
       "    .dataframe tbody tr th {\n",
       "        vertical-align: top;\n",
       "    }\n",
       "\n",
       "    .dataframe thead th {\n",
       "        text-align: right;\n",
       "    }\n",
       "</style>\n",
       "<table border=\"1\" class=\"dataframe\">\n",
       "  <thead>\n",
       "    <tr style=\"text-align: right;\">\n",
       "      <th></th>\n",
       "      <th>id</th>\n",
       "      <th>acquiring_company_id</th>\n",
       "      <th>acquired_company_id</th>\n",
       "      <th>term_code</th>\n",
       "      <th>price_amount</th>\n",
       "      <th>acquired_at</th>\n",
       "    </tr>\n",
       "  </thead>\n",
       "  <tbody>\n",
       "    <tr>\n",
       "      <th>0</th>\n",
       "      <td>1</td>\n",
       "      <td>11</td>\n",
       "      <td>10</td>\n",
       "      <td>NaN</td>\n",
       "      <td>20000000</td>\n",
       "      <td>2007-05-30</td>\n",
       "    </tr>\n",
       "    <tr>\n",
       "      <th>1</th>\n",
       "      <td>7</td>\n",
       "      <td>59</td>\n",
       "      <td>72</td>\n",
       "      <td>cash</td>\n",
       "      <td>60000000</td>\n",
       "      <td>2007-07-01</td>\n",
       "    </tr>\n",
       "    <tr>\n",
       "      <th>2</th>\n",
       "      <td>8</td>\n",
       "      <td>24</td>\n",
       "      <td>132</td>\n",
       "      <td>cash</td>\n",
       "      <td>280000000</td>\n",
       "      <td>2007-05-01</td>\n",
       "    </tr>\n",
       "    <tr>\n",
       "      <th>3</th>\n",
       "      <td>9</td>\n",
       "      <td>59</td>\n",
       "      <td>155</td>\n",
       "      <td>cash</td>\n",
       "      <td>100000000</td>\n",
       "      <td>2007-06-01</td>\n",
       "    </tr>\n",
       "    <tr>\n",
       "      <th>4</th>\n",
       "      <td>10</td>\n",
       "      <td>212</td>\n",
       "      <td>215</td>\n",
       "      <td>cash</td>\n",
       "      <td>25000000</td>\n",
       "      <td>2007-07-01</td>\n",
       "    </tr>\n",
       "    <tr>\n",
       "      <th>...</th>\n",
       "      <td>...</td>\n",
       "      <td>...</td>\n",
       "      <td>...</td>\n",
       "      <td>...</td>\n",
       "      <td>...</td>\n",
       "      <td>...</td>\n",
       "    </tr>\n",
       "    <tr>\n",
       "      <th>9402</th>\n",
       "      <td>10525</td>\n",
       "      <td>267859</td>\n",
       "      <td>285995</td>\n",
       "      <td>stock</td>\n",
       "      <td>222000000</td>\n",
       "      <td>2013-12-11</td>\n",
       "    </tr>\n",
       "    <tr>\n",
       "      <th>9403</th>\n",
       "      <td>10526</td>\n",
       "      <td>285493</td>\n",
       "      <td>286006</td>\n",
       "      <td>NaN</td>\n",
       "      <td>0</td>\n",
       "      <td>2013-12-09</td>\n",
       "    </tr>\n",
       "    <tr>\n",
       "      <th>9404</th>\n",
       "      <td>10527</td>\n",
       "      <td>223792</td>\n",
       "      <td>220208</td>\n",
       "      <td>NaN</td>\n",
       "      <td>26000000000</td>\n",
       "      <td>2007-07-03</td>\n",
       "    </tr>\n",
       "    <tr>\n",
       "      <th>9405</th>\n",
       "      <td>10528</td>\n",
       "      <td>227620</td>\n",
       "      <td>286176</td>\n",
       "      <td>cash</td>\n",
       "      <td>52400000</td>\n",
       "      <td>2013-12-12</td>\n",
       "    </tr>\n",
       "    <tr>\n",
       "      <th>9406</th>\n",
       "      <td>10529</td>\n",
       "      <td>53</td>\n",
       "      <td>92846</td>\n",
       "      <td>NaN</td>\n",
       "      <td>42600000</td>\n",
       "      <td>2013-12-12</td>\n",
       "    </tr>\n",
       "  </tbody>\n",
       "</table>\n",
       "<p>9407 rows × 6 columns</p>\n",
       "</div>"
      ],
      "text/plain": [
       "         id  acquiring_company_id  acquired_company_id term_code  \\\n",
       "0         1                    11                   10       NaN   \n",
       "1         7                    59                   72      cash   \n",
       "2         8                    24                  132      cash   \n",
       "3         9                    59                  155      cash   \n",
       "4        10                   212                  215      cash   \n",
       "...     ...                   ...                  ...       ...   \n",
       "9402  10525                267859               285995     stock   \n",
       "9403  10526                285493               286006       NaN   \n",
       "9404  10527                223792               220208       NaN   \n",
       "9405  10528                227620               286176      cash   \n",
       "9406  10529                    53                92846       NaN   \n",
       "\n",
       "      price_amount acquired_at  \n",
       "0         20000000  2007-05-30  \n",
       "1         60000000  2007-07-01  \n",
       "2        280000000  2007-05-01  \n",
       "3        100000000  2007-06-01  \n",
       "4         25000000  2007-07-01  \n",
       "...            ...         ...  \n",
       "9402     222000000  2013-12-11  \n",
       "9403             0  2013-12-09  \n",
       "9404   26000000000  2007-07-03  \n",
       "9405      52400000  2013-12-12  \n",
       "9406      42600000  2013-12-12  \n",
       "\n",
       "[9407 rows x 6 columns]"
      ]
     },
     "metadata": {},
     "output_type": "display_data"
    }
   ],
   "source": [
    "display(df_acquisition)"
   ]
  },
  {
   "cell_type": "code",
   "execution_count": 23,
   "metadata": {},
   "outputs": [
    {
     "data": {
      "text/plain": [
       "0"
      ]
     },
     "execution_count": 23,
     "metadata": {},
     "output_type": "execute_result"
    }
   ],
   "source": [
    "df_acquisition.duplicated().sum()"
   ]
  },
  {
   "cell_type": "markdown",
   "metadata": {},
   "source": [
    "Датасет df_acquisition содержит информацию о покупках одними компаниями других компаний. Представлен 6  столбцами и содержит 9407 строк. Объем данных 441.1+ KB. Столбцы с числовыми данными представлены типом данных int64, столбцы с вещественными данными представлены типом данных object. Столбец acquired_at так же представлен типом данных object.\n",
    "Предложения: acquired_at перевести в тип данных datetime. id уменьшить разрядность типа данных.\n",
    "Дубликатов нет"
   ]
  },
  {
   "cell_type": "code",
   "execution_count": 24,
   "metadata": {},
   "outputs": [
    {
     "name": "stdout",
     "output_type": "stream",
     "text": [
      "<class 'pandas.core.frame.DataFrame'>\n",
      "RangeIndex: 217774 entries, 0 to 217773\n",
      "Data columns (total 23 columns):\n",
      " #   Column                 Non-Null Count   Dtype  \n",
      "---  ------                 --------------   -----  \n",
      " 0   company__id            217472 non-null  float64\n",
      " 1   name                   217472 non-null  object \n",
      " 2   category__code         143886 non-null  object \n",
      " 3   status                 217472 non-null  object \n",
      " 4   founded__at            109956 non-null  object \n",
      " 5   closed__at             3449 non-null    object \n",
      " 6   domain                 147159 non-null  object \n",
      " 7   network__username      95534 non-null   object \n",
      " 8   country__code          108607 non-null  object \n",
      " 9   investment__rounds     217472 non-null  float64\n",
      " 10  funding__rounds        217472 non-null  float64\n",
      " 11  funding__total         217472 non-null  float64\n",
      " 12  milestones             217472 non-null  float64\n",
      " 13  funding__round__id     52928 non-null   float64\n",
      " 14  company__id_1          52928 non-null   float64\n",
      " 15  funded__at             52680 non-null   object \n",
      " 16  funding__round__type   52928 non-null   object \n",
      " 17  raised__amount         52928 non-null   float64\n",
      " 18  pre__money__valuation  52928 non-null   float64\n",
      " 19  participants           52928 non-null   float64\n",
      " 20  is__first__round       52928 non-null   float64\n",
      " 21  is__last__round        52928 non-null   float64\n",
      " 22  company_ID             217774 non-null  object \n",
      "dtypes: float64(12), object(11)\n",
      "memory usage: 38.2+ MB\n"
     ]
    }
   ],
   "source": [
    "df_company.info()"
   ]
  },
  {
   "cell_type": "code",
   "execution_count": 25,
   "metadata": {},
   "outputs": [
    {
     "data": {
      "text/html": [
       "<div>\n",
       "<style scoped>\n",
       "    .dataframe tbody tr th:only-of-type {\n",
       "        vertical-align: middle;\n",
       "    }\n",
       "\n",
       "    .dataframe tbody tr th {\n",
       "        vertical-align: top;\n",
       "    }\n",
       "\n",
       "    .dataframe thead th {\n",
       "        text-align: right;\n",
       "    }\n",
       "</style>\n",
       "<table border=\"1\" class=\"dataframe\">\n",
       "  <thead>\n",
       "    <tr style=\"text-align: right;\">\n",
       "      <th></th>\n",
       "      <th>company__id</th>\n",
       "      <th>name</th>\n",
       "      <th>category__code</th>\n",
       "      <th>status</th>\n",
       "      <th>founded__at</th>\n",
       "      <th>closed__at</th>\n",
       "      <th>domain</th>\n",
       "      <th>network__username</th>\n",
       "      <th>country__code</th>\n",
       "      <th>investment__rounds</th>\n",
       "      <th>...</th>\n",
       "      <th>funding__round__id</th>\n",
       "      <th>company__id_1</th>\n",
       "      <th>funded__at</th>\n",
       "      <th>funding__round__type</th>\n",
       "      <th>raised__amount</th>\n",
       "      <th>pre__money__valuation</th>\n",
       "      <th>participants</th>\n",
       "      <th>is__first__round</th>\n",
       "      <th>is__last__round</th>\n",
       "      <th>company_ID</th>\n",
       "    </tr>\n",
       "  </thead>\n",
       "  <tbody>\n",
       "    <tr>\n",
       "      <th>0</th>\n",
       "      <td>1.0</td>\n",
       "      <td>Wetpaint</td>\n",
       "      <td>web</td>\n",
       "      <td>operating</td>\n",
       "      <td>2005-10-17</td>\n",
       "      <td>NaN</td>\n",
       "      <td>wetpaint-inc.com</td>\n",
       "      <td>BachelrWetpaint</td>\n",
       "      <td>USA</td>\n",
       "      <td>0.0</td>\n",
       "      <td>...</td>\n",
       "      <td>888.0</td>\n",
       "      <td>1.0</td>\n",
       "      <td>2005-10-01</td>\n",
       "      <td>series-a</td>\n",
       "      <td>5250000.0</td>\n",
       "      <td>0.0</td>\n",
       "      <td>2.0</td>\n",
       "      <td>0.0</td>\n",
       "      <td>1.0</td>\n",
       "      <td>1.0, 1.0</td>\n",
       "    </tr>\n",
       "    <tr>\n",
       "      <th>1</th>\n",
       "      <td>1.0</td>\n",
       "      <td>Wetpaint</td>\n",
       "      <td>web</td>\n",
       "      <td>operating</td>\n",
       "      <td>2005-10-17</td>\n",
       "      <td>NaN</td>\n",
       "      <td>wetpaint-inc.com</td>\n",
       "      <td>BachelrWetpaint</td>\n",
       "      <td>USA</td>\n",
       "      <td>0.0</td>\n",
       "      <td>...</td>\n",
       "      <td>889.0</td>\n",
       "      <td>1.0</td>\n",
       "      <td>2007-01-01</td>\n",
       "      <td>series-b</td>\n",
       "      <td>9500000.0</td>\n",
       "      <td>0.0</td>\n",
       "      <td>3.0</td>\n",
       "      <td>0.0</td>\n",
       "      <td>0.0</td>\n",
       "      <td>1.0, 1.0</td>\n",
       "    </tr>\n",
       "    <tr>\n",
       "      <th>2</th>\n",
       "      <td>1.0</td>\n",
       "      <td>Wetpaint</td>\n",
       "      <td>web</td>\n",
       "      <td>operating</td>\n",
       "      <td>2005-10-17</td>\n",
       "      <td>NaN</td>\n",
       "      <td>wetpaint-inc.com</td>\n",
       "      <td>BachelrWetpaint</td>\n",
       "      <td>USA</td>\n",
       "      <td>0.0</td>\n",
       "      <td>...</td>\n",
       "      <td>2312.0</td>\n",
       "      <td>1.0</td>\n",
       "      <td>2008-05-19</td>\n",
       "      <td>series-c+</td>\n",
       "      <td>25000000.0</td>\n",
       "      <td>0.0</td>\n",
       "      <td>4.0</td>\n",
       "      <td>1.0</td>\n",
       "      <td>0.0</td>\n",
       "      <td>1.0, 1.0</td>\n",
       "    </tr>\n",
       "    <tr>\n",
       "      <th>3</th>\n",
       "      <td>10.0</td>\n",
       "      <td>Flektor</td>\n",
       "      <td>games_video</td>\n",
       "      <td>acquired</td>\n",
       "      <td>NaN</td>\n",
       "      <td>NaN</td>\n",
       "      <td>flektor.com</td>\n",
       "      <td>NaN</td>\n",
       "      <td>USA</td>\n",
       "      <td>0.0</td>\n",
       "      <td>...</td>\n",
       "      <td>NaN</td>\n",
       "      <td>NaN</td>\n",
       "      <td>NaN</td>\n",
       "      <td>NaN</td>\n",
       "      <td>NaN</td>\n",
       "      <td>NaN</td>\n",
       "      <td>NaN</td>\n",
       "      <td>NaN</td>\n",
       "      <td>NaN</td>\n",
       "      <td>10.0, nan</td>\n",
       "    </tr>\n",
       "    <tr>\n",
       "      <th>4</th>\n",
       "      <td>100.0</td>\n",
       "      <td>There</td>\n",
       "      <td>games_video</td>\n",
       "      <td>acquired</td>\n",
       "      <td>NaN</td>\n",
       "      <td>NaN</td>\n",
       "      <td>there.com</td>\n",
       "      <td>NaN</td>\n",
       "      <td>USA</td>\n",
       "      <td>0.0</td>\n",
       "      <td>...</td>\n",
       "      <td>NaN</td>\n",
       "      <td>NaN</td>\n",
       "      <td>NaN</td>\n",
       "      <td>NaN</td>\n",
       "      <td>NaN</td>\n",
       "      <td>NaN</td>\n",
       "      <td>NaN</td>\n",
       "      <td>NaN</td>\n",
       "      <td>NaN</td>\n",
       "      <td>100.0, nan</td>\n",
       "    </tr>\n",
       "    <tr>\n",
       "      <th>...</th>\n",
       "      <td>...</td>\n",
       "      <td>...</td>\n",
       "      <td>...</td>\n",
       "      <td>...</td>\n",
       "      <td>...</td>\n",
       "      <td>...</td>\n",
       "      <td>...</td>\n",
       "      <td>...</td>\n",
       "      <td>...</td>\n",
       "      <td>...</td>\n",
       "      <td>...</td>\n",
       "      <td>...</td>\n",
       "      <td>...</td>\n",
       "      <td>...</td>\n",
       "      <td>...</td>\n",
       "      <td>...</td>\n",
       "      <td>...</td>\n",
       "      <td>...</td>\n",
       "      <td>...</td>\n",
       "      <td>...</td>\n",
       "      <td>...</td>\n",
       "    </tr>\n",
       "    <tr>\n",
       "      <th>217769</th>\n",
       "      <td>NaN</td>\n",
       "      <td>NaN</td>\n",
       "      <td>NaN</td>\n",
       "      <td>NaN</td>\n",
       "      <td>NaN</td>\n",
       "      <td>NaN</td>\n",
       "      <td>NaN</td>\n",
       "      <td>NaN</td>\n",
       "      <td>NaN</td>\n",
       "      <td>NaN</td>\n",
       "      <td>...</td>\n",
       "      <td>56454.0</td>\n",
       "      <td>282847.0</td>\n",
       "      <td>2011-01-31</td>\n",
       "      <td>other</td>\n",
       "      <td>5500000.0</td>\n",
       "      <td>0.0</td>\n",
       "      <td>0.0</td>\n",
       "      <td>1.0</td>\n",
       "      <td>1.0</td>\n",
       "      <td>nan, 282847.0</td>\n",
       "    </tr>\n",
       "    <tr>\n",
       "      <th>217770</th>\n",
       "      <td>NaN</td>\n",
       "      <td>NaN</td>\n",
       "      <td>NaN</td>\n",
       "      <td>NaN</td>\n",
       "      <td>NaN</td>\n",
       "      <td>NaN</td>\n",
       "      <td>NaN</td>\n",
       "      <td>NaN</td>\n",
       "      <td>NaN</td>\n",
       "      <td>NaN</td>\n",
       "      <td>...</td>\n",
       "      <td>56542.0</td>\n",
       "      <td>55477.0</td>\n",
       "      <td>2011-01-13</td>\n",
       "      <td>venture</td>\n",
       "      <td>10633300.0</td>\n",
       "      <td>0.0</td>\n",
       "      <td>0.0</td>\n",
       "      <td>0.0</td>\n",
       "      <td>1.0</td>\n",
       "      <td>nan, 55477.0</td>\n",
       "    </tr>\n",
       "    <tr>\n",
       "      <th>217771</th>\n",
       "      <td>NaN</td>\n",
       "      <td>NaN</td>\n",
       "      <td>NaN</td>\n",
       "      <td>NaN</td>\n",
       "      <td>NaN</td>\n",
       "      <td>NaN</td>\n",
       "      <td>NaN</td>\n",
       "      <td>NaN</td>\n",
       "      <td>NaN</td>\n",
       "      <td>NaN</td>\n",
       "      <td>...</td>\n",
       "      <td>56543.0</td>\n",
       "      <td>55477.0</td>\n",
       "      <td>2012-05-31</td>\n",
       "      <td>venture</td>\n",
       "      <td>2125720.0</td>\n",
       "      <td>0.0</td>\n",
       "      <td>0.0</td>\n",
       "      <td>1.0</td>\n",
       "      <td>0.0</td>\n",
       "      <td>nan, 55477.0</td>\n",
       "    </tr>\n",
       "    <tr>\n",
       "      <th>217772</th>\n",
       "      <td>NaN</td>\n",
       "      <td>NaN</td>\n",
       "      <td>NaN</td>\n",
       "      <td>NaN</td>\n",
       "      <td>NaN</td>\n",
       "      <td>NaN</td>\n",
       "      <td>NaN</td>\n",
       "      <td>NaN</td>\n",
       "      <td>NaN</td>\n",
       "      <td>NaN</td>\n",
       "      <td>...</td>\n",
       "      <td>56928.0</td>\n",
       "      <td>283492.0</td>\n",
       "      <td>2013-12-03</td>\n",
       "      <td>venture</td>\n",
       "      <td>3602480.0</td>\n",
       "      <td>0.0</td>\n",
       "      <td>5.0</td>\n",
       "      <td>1.0</td>\n",
       "      <td>1.0</td>\n",
       "      <td>nan, 283492.0</td>\n",
       "    </tr>\n",
       "    <tr>\n",
       "      <th>217773</th>\n",
       "      <td>NaN</td>\n",
       "      <td>NaN</td>\n",
       "      <td>NaN</td>\n",
       "      <td>NaN</td>\n",
       "      <td>NaN</td>\n",
       "      <td>NaN</td>\n",
       "      <td>NaN</td>\n",
       "      <td>NaN</td>\n",
       "      <td>NaN</td>\n",
       "      <td>NaN</td>\n",
       "      <td>...</td>\n",
       "      <td>57063.0</td>\n",
       "      <td>284191.0</td>\n",
       "      <td>2013-12-04</td>\n",
       "      <td>venture</td>\n",
       "      <td>7000000.0</td>\n",
       "      <td>0.0</td>\n",
       "      <td>4.0</td>\n",
       "      <td>1.0</td>\n",
       "      <td>1.0</td>\n",
       "      <td>nan, 284191.0</td>\n",
       "    </tr>\n",
       "  </tbody>\n",
       "</table>\n",
       "<p>217774 rows × 23 columns</p>\n",
       "</div>"
      ],
      "text/plain": [
       "        company__id      name category__code     status founded__at  \\\n",
       "0               1.0  Wetpaint            web  operating  2005-10-17   \n",
       "1               1.0  Wetpaint            web  operating  2005-10-17   \n",
       "2               1.0  Wetpaint            web  operating  2005-10-17   \n",
       "3              10.0   Flektor    games_video   acquired         NaN   \n",
       "4             100.0     There    games_video   acquired         NaN   \n",
       "...             ...       ...            ...        ...         ...   \n",
       "217769          NaN       NaN            NaN        NaN         NaN   \n",
       "217770          NaN       NaN            NaN        NaN         NaN   \n",
       "217771          NaN       NaN            NaN        NaN         NaN   \n",
       "217772          NaN       NaN            NaN        NaN         NaN   \n",
       "217773          NaN       NaN            NaN        NaN         NaN   \n",
       "\n",
       "       closed__at            domain network__username country__code  \\\n",
       "0             NaN  wetpaint-inc.com   BachelrWetpaint           USA   \n",
       "1             NaN  wetpaint-inc.com   BachelrWetpaint           USA   \n",
       "2             NaN  wetpaint-inc.com   BachelrWetpaint           USA   \n",
       "3             NaN       flektor.com               NaN           USA   \n",
       "4             NaN         there.com               NaN           USA   \n",
       "...           ...               ...               ...           ...   \n",
       "217769        NaN               NaN               NaN           NaN   \n",
       "217770        NaN               NaN               NaN           NaN   \n",
       "217771        NaN               NaN               NaN           NaN   \n",
       "217772        NaN               NaN               NaN           NaN   \n",
       "217773        NaN               NaN               NaN           NaN   \n",
       "\n",
       "        investment__rounds  ...  funding__round__id  company__id_1  \\\n",
       "0                      0.0  ...               888.0            1.0   \n",
       "1                      0.0  ...               889.0            1.0   \n",
       "2                      0.0  ...              2312.0            1.0   \n",
       "3                      0.0  ...                 NaN            NaN   \n",
       "4                      0.0  ...                 NaN            NaN   \n",
       "...                    ...  ...                 ...            ...   \n",
       "217769                 NaN  ...             56454.0       282847.0   \n",
       "217770                 NaN  ...             56542.0        55477.0   \n",
       "217771                 NaN  ...             56543.0        55477.0   \n",
       "217772                 NaN  ...             56928.0       283492.0   \n",
       "217773                 NaN  ...             57063.0       284191.0   \n",
       "\n",
       "        funded__at  funding__round__type  raised__amount  \\\n",
       "0       2005-10-01              series-a       5250000.0   \n",
       "1       2007-01-01              series-b       9500000.0   \n",
       "2       2008-05-19             series-c+      25000000.0   \n",
       "3              NaN                   NaN             NaN   \n",
       "4              NaN                   NaN             NaN   \n",
       "...            ...                   ...             ...   \n",
       "217769  2011-01-31                 other       5500000.0   \n",
       "217770  2011-01-13               venture      10633300.0   \n",
       "217771  2012-05-31               venture       2125720.0   \n",
       "217772  2013-12-03               venture       3602480.0   \n",
       "217773  2013-12-04               venture       7000000.0   \n",
       "\n",
       "       pre__money__valuation participants  is__first__round  is__last__round  \\\n",
       "0                        0.0          2.0               0.0              1.0   \n",
       "1                        0.0          3.0               0.0              0.0   \n",
       "2                        0.0          4.0               1.0              0.0   \n",
       "3                        NaN          NaN               NaN              NaN   \n",
       "4                        NaN          NaN               NaN              NaN   \n",
       "...                      ...          ...               ...              ...   \n",
       "217769                   0.0          0.0               1.0              1.0   \n",
       "217770                   0.0          0.0               0.0              1.0   \n",
       "217771                   0.0          0.0               1.0              0.0   \n",
       "217772                   0.0          5.0               1.0              1.0   \n",
       "217773                   0.0          4.0               1.0              1.0   \n",
       "\n",
       "           company_ID  \n",
       "0            1.0, 1.0  \n",
       "1            1.0, 1.0  \n",
       "2            1.0, 1.0  \n",
       "3           10.0, nan  \n",
       "4          100.0, nan  \n",
       "...               ...  \n",
       "217769  nan, 282847.0  \n",
       "217770   nan, 55477.0  \n",
       "217771   nan, 55477.0  \n",
       "217772  nan, 283492.0  \n",
       "217773  nan, 284191.0  \n",
       "\n",
       "[217774 rows x 23 columns]"
      ]
     },
     "metadata": {},
     "output_type": "display_data"
    }
   ],
   "source": [
    "display(df_company)"
   ]
  },
  {
   "cell_type": "code",
   "execution_count": 26,
   "metadata": {},
   "outputs": [
    {
     "data": {
      "text/plain": [
       "0"
      ]
     },
     "execution_count": 26,
     "metadata": {},
     "output_type": "execute_result"
    }
   ],
   "source": [
    "df_company.duplicated().sum()"
   ]
  },
  {
   "cell_type": "markdown",
   "metadata": {},
   "source": [
    "Датасет df_company Содержит информацию о компаниях и раундах финансирования. Представлен 22  столбцами и содержит 217774 строками. Объем данных 36.6+ MB. \n",
    "Столбцы с числовыми данными представлены типом данных int64, столбцы с вещественными данными представлены типом данных object. Столбцы acquired_at, closed at, funded at представлены типом данных object. \n",
    "Предложения: founded__at, closed at, funded at перевести в тип данных datetime. Учитывая условия задания в задаче 3, оставим датасет df_company без преобразования.Дубликатов нет."
   ]
  },
  {
   "cell_type": "code",
   "execution_count": 27,
   "metadata": {},
   "outputs": [
    {
     "name": "stdout",
     "output_type": "stream",
     "text": [
      "<class 'pandas.core.frame.DataFrame'>\n",
      "RangeIndex: 109610 entries, 0 to 109609\n",
      "Data columns (total 4 columns):\n",
      " #   Column       Non-Null Count   Dtype \n",
      "---  ------       --------------   ----- \n",
      " 0   id           109610 non-null  int64 \n",
      " 1   object_id    109610 non-null  object\n",
      " 2   degree_type  98392 non-null   object\n",
      " 3   subject      81298 non-null   object\n",
      "dtypes: int64(1), object(3)\n",
      "memory usage: 3.3+ MB\n"
     ]
    }
   ],
   "source": [
    "df_degrees.info()"
   ]
  },
  {
   "cell_type": "code",
   "execution_count": 28,
   "metadata": {},
   "outputs": [
    {
     "data": {
      "text/html": [
       "<div>\n",
       "<style scoped>\n",
       "    .dataframe tbody tr th:only-of-type {\n",
       "        vertical-align: middle;\n",
       "    }\n",
       "\n",
       "    .dataframe tbody tr th {\n",
       "        vertical-align: top;\n",
       "    }\n",
       "\n",
       "    .dataframe thead th {\n",
       "        text-align: right;\n",
       "    }\n",
       "</style>\n",
       "<table border=\"1\" class=\"dataframe\">\n",
       "  <thead>\n",
       "    <tr style=\"text-align: right;\">\n",
       "      <th></th>\n",
       "      <th>id</th>\n",
       "      <th>object_id</th>\n",
       "      <th>degree_type</th>\n",
       "      <th>subject</th>\n",
       "    </tr>\n",
       "  </thead>\n",
       "  <tbody>\n",
       "    <tr>\n",
       "      <th>0</th>\n",
       "      <td>1</td>\n",
       "      <td>p:6117</td>\n",
       "      <td>MBA</td>\n",
       "      <td>NaN</td>\n",
       "    </tr>\n",
       "    <tr>\n",
       "      <th>1</th>\n",
       "      <td>2</td>\n",
       "      <td>p:6136</td>\n",
       "      <td>BA</td>\n",
       "      <td>English, French</td>\n",
       "    </tr>\n",
       "    <tr>\n",
       "      <th>2</th>\n",
       "      <td>3</td>\n",
       "      <td>p:6136</td>\n",
       "      <td>MS</td>\n",
       "      <td>Mass Communication</td>\n",
       "    </tr>\n",
       "    <tr>\n",
       "      <th>3</th>\n",
       "      <td>4</td>\n",
       "      <td>p:6005</td>\n",
       "      <td>MS</td>\n",
       "      <td>Internet Technology</td>\n",
       "    </tr>\n",
       "    <tr>\n",
       "      <th>4</th>\n",
       "      <td>5</td>\n",
       "      <td>p:5832</td>\n",
       "      <td>BCS</td>\n",
       "      <td>Computer Science, Psychology</td>\n",
       "    </tr>\n",
       "    <tr>\n",
       "      <th>...</th>\n",
       "      <td>...</td>\n",
       "      <td>...</td>\n",
       "      <td>...</td>\n",
       "      <td>...</td>\n",
       "    </tr>\n",
       "    <tr>\n",
       "      <th>109605</th>\n",
       "      <td>109606</td>\n",
       "      <td>p:268589</td>\n",
       "      <td>CPA</td>\n",
       "      <td>NaN</td>\n",
       "    </tr>\n",
       "    <tr>\n",
       "      <th>109606</th>\n",
       "      <td>109607</td>\n",
       "      <td>p:268527</td>\n",
       "      <td>MS &amp; BS</td>\n",
       "      <td>Engineering</td>\n",
       "    </tr>\n",
       "    <tr>\n",
       "      <th>109607</th>\n",
       "      <td>109608</td>\n",
       "      <td>p:268527</td>\n",
       "      <td>PhD</td>\n",
       "      <td>Engineering</td>\n",
       "    </tr>\n",
       "    <tr>\n",
       "      <th>109608</th>\n",
       "      <td>109609</td>\n",
       "      <td>p:268528</td>\n",
       "      <td>B.S.</td>\n",
       "      <td>Electrical Engineering</td>\n",
       "    </tr>\n",
       "    <tr>\n",
       "      <th>109609</th>\n",
       "      <td>109610</td>\n",
       "      <td>p:268528</td>\n",
       "      <td>J.D.</td>\n",
       "      <td>NaN</td>\n",
       "    </tr>\n",
       "  </tbody>\n",
       "</table>\n",
       "<p>109610 rows × 4 columns</p>\n",
       "</div>"
      ],
      "text/plain": [
       "            id object_id degree_type                       subject\n",
       "0            1    p:6117         MBA                           NaN\n",
       "1            2    p:6136          BA               English, French\n",
       "2            3    p:6136          MS            Mass Communication\n",
       "3            4    p:6005          MS           Internet Technology\n",
       "4            5    p:5832         BCS  Computer Science, Psychology\n",
       "...        ...       ...         ...                           ...\n",
       "109605  109606  p:268589         CPA                           NaN\n",
       "109606  109607  p:268527     MS & BS                   Engineering\n",
       "109607  109608  p:268527         PhD                   Engineering\n",
       "109608  109609  p:268528        B.S.        Electrical Engineering\n",
       "109609  109610  p:268528        J.D.                           NaN\n",
       "\n",
       "[109610 rows x 4 columns]"
      ]
     },
     "metadata": {},
     "output_type": "display_data"
    }
   ],
   "source": [
    "display(df_degrees)"
   ]
  },
  {
   "cell_type": "code",
   "execution_count": 29,
   "metadata": {},
   "outputs": [
    {
     "data": {
      "text/plain": [
       "0"
      ]
     },
     "execution_count": 29,
     "metadata": {},
     "output_type": "execute_result"
    }
   ],
   "source": [
    "df_degrees.duplicated().sum()"
   ]
  },
  {
   "cell_type": "markdown",
   "metadata": {},
   "source": [
    "Датасет df_degrees Содержит информацию об образовании сотрудника. Представлен 4 столбцами и содержит 109610 строк. Объем данных 3.3+ MB. \n",
    "Столбцы с числовыми данными представлены типом данных int64, столбцы с вещественными данными представлены типом данных object. \n",
    "Предложения: id уменьшить разрядность типа данных. Дубликатов нет."
   ]
  },
  {
   "cell_type": "code",
   "execution_count": 30,
   "metadata": {},
   "outputs": [
    {
     "name": "stdout",
     "output_type": "stream",
     "text": [
      "<class 'pandas.core.frame.DataFrame'>\n",
      "RangeIndex: 109610 entries, 0 to 109609\n",
      "Data columns (total 4 columns):\n",
      " #   Column        Non-Null Count   Dtype \n",
      "---  ------        --------------   ----- \n",
      " 0   id            109610 non-null  int64 \n",
      " 1   person_id     109610 non-null  int64 \n",
      " 2   instituition  109555 non-null  object\n",
      " 3   graduated_at  58054 non-null   object\n",
      "dtypes: int64(2), object(2)\n",
      "memory usage: 3.3+ MB\n"
     ]
    }
   ],
   "source": [
    "df_education.info()"
   ]
  },
  {
   "cell_type": "code",
   "execution_count": 31,
   "metadata": {
    "id": "W_W4jRazrJg0"
   },
   "outputs": [
    {
     "data": {
      "text/html": [
       "<div>\n",
       "<style scoped>\n",
       "    .dataframe tbody tr th:only-of-type {\n",
       "        vertical-align: middle;\n",
       "    }\n",
       "\n",
       "    .dataframe tbody tr th {\n",
       "        vertical-align: top;\n",
       "    }\n",
       "\n",
       "    .dataframe thead th {\n",
       "        text-align: right;\n",
       "    }\n",
       "</style>\n",
       "<table border=\"1\" class=\"dataframe\">\n",
       "  <thead>\n",
       "    <tr style=\"text-align: right;\">\n",
       "      <th></th>\n",
       "      <th>id</th>\n",
       "      <th>person_id</th>\n",
       "      <th>instituition</th>\n",
       "      <th>graduated_at</th>\n",
       "    </tr>\n",
       "  </thead>\n",
       "  <tbody>\n",
       "    <tr>\n",
       "      <th>0</th>\n",
       "      <td>1</td>\n",
       "      <td>6117</td>\n",
       "      <td>NaN</td>\n",
       "      <td>NaN</td>\n",
       "    </tr>\n",
       "    <tr>\n",
       "      <th>1</th>\n",
       "      <td>2</td>\n",
       "      <td>6136</td>\n",
       "      <td>Washington University, St. Louis</td>\n",
       "      <td>1990-01-01</td>\n",
       "    </tr>\n",
       "    <tr>\n",
       "      <th>2</th>\n",
       "      <td>3</td>\n",
       "      <td>6136</td>\n",
       "      <td>Boston University</td>\n",
       "      <td>1992-01-01</td>\n",
       "    </tr>\n",
       "    <tr>\n",
       "      <th>3</th>\n",
       "      <td>4</td>\n",
       "      <td>6005</td>\n",
       "      <td>University of Greenwich</td>\n",
       "      <td>2006-01-01</td>\n",
       "    </tr>\n",
       "    <tr>\n",
       "      <th>4</th>\n",
       "      <td>5</td>\n",
       "      <td>5832</td>\n",
       "      <td>Rice University</td>\n",
       "      <td>NaN</td>\n",
       "    </tr>\n",
       "    <tr>\n",
       "      <th>...</th>\n",
       "      <td>...</td>\n",
       "      <td>...</td>\n",
       "      <td>...</td>\n",
       "      <td>...</td>\n",
       "    </tr>\n",
       "    <tr>\n",
       "      <th>109605</th>\n",
       "      <td>109606</td>\n",
       "      <td>268589</td>\n",
       "      <td>American Institute of Certtified Public Accoun...</td>\n",
       "      <td>NaN</td>\n",
       "    </tr>\n",
       "    <tr>\n",
       "      <th>109606</th>\n",
       "      <td>109607</td>\n",
       "      <td>268527</td>\n",
       "      <td>South China University of Technology</td>\n",
       "      <td>NaN</td>\n",
       "    </tr>\n",
       "    <tr>\n",
       "      <th>109607</th>\n",
       "      <td>109608</td>\n",
       "      <td>268527</td>\n",
       "      <td>Clarkson University</td>\n",
       "      <td>NaN</td>\n",
       "    </tr>\n",
       "    <tr>\n",
       "      <th>109608</th>\n",
       "      <td>109609</td>\n",
       "      <td>268528</td>\n",
       "      <td>Colorado State University</td>\n",
       "      <td>NaN</td>\n",
       "    </tr>\n",
       "    <tr>\n",
       "      <th>109609</th>\n",
       "      <td>109610</td>\n",
       "      <td>268528</td>\n",
       "      <td>University of San Diego School of Law</td>\n",
       "      <td>NaN</td>\n",
       "    </tr>\n",
       "  </tbody>\n",
       "</table>\n",
       "<p>109610 rows × 4 columns</p>\n",
       "</div>"
      ],
      "text/plain": [
       "            id  person_id                                       instituition  \\\n",
       "0            1       6117                                                NaN   \n",
       "1            2       6136                   Washington University, St. Louis   \n",
       "2            3       6136                                  Boston University   \n",
       "3            4       6005                            University of Greenwich   \n",
       "4            5       5832                                    Rice University   \n",
       "...        ...        ...                                                ...   \n",
       "109605  109606     268589  American Institute of Certtified Public Accoun...   \n",
       "109606  109607     268527               South China University of Technology   \n",
       "109607  109608     268527                                Clarkson University   \n",
       "109608  109609     268528                          Colorado State University   \n",
       "109609  109610     268528              University of San Diego School of Law   \n",
       "\n",
       "       graduated_at  \n",
       "0               NaN  \n",
       "1        1990-01-01  \n",
       "2        1992-01-01  \n",
       "3        2006-01-01  \n",
       "4               NaN  \n",
       "...             ...  \n",
       "109605          NaN  \n",
       "109606          NaN  \n",
       "109607          NaN  \n",
       "109608          NaN  \n",
       "109609          NaN  \n",
       "\n",
       "[109610 rows x 4 columns]"
      ]
     },
     "metadata": {},
     "output_type": "display_data"
    }
   ],
   "source": [
    "display(df_education)"
   ]
  },
  {
   "cell_type": "code",
   "execution_count": 32,
   "metadata": {},
   "outputs": [
    {
     "data": {
      "text/plain": [
       "0"
      ]
     },
     "execution_count": 32,
     "metadata": {},
     "output_type": "execute_result"
    }
   ],
   "source": [
    "df_education.duplicated().sum()"
   ]
  },
  {
   "cell_type": "markdown",
   "metadata": {},
   "source": [
    "Датасет df_education Содержит информацию информацию о сотрудниках. Представлен 4 столбцами и содержит 109610 строк. Объем данных 3.3+ MB. \n",
    "Столбцы с числовыми данными представлены типом данных int64, столбцы с вещественными данными представлены типом данных object. \n",
    "Предложения: id уменьшить разрядность типа данных. graduated_at перевести в тип данных datetime. Дубликатов нет."
   ]
  },
  {
   "cell_type": "code",
   "execution_count": 33,
   "metadata": {},
   "outputs": [
    {
     "name": "stdout",
     "output_type": "stream",
     "text": [
      "<class 'pandas.core.frame.DataFrame'>\n",
      "RangeIndex: 11652 entries, 0 to 11651\n",
      "Data columns (total 9 columns):\n",
      " #   Column              Non-Null Count  Dtype \n",
      "---  ------              --------------  ----- \n",
      " 0   id                  11652 non-null  int64 \n",
      " 1   name                11650 non-null  object\n",
      " 2   founded_at          4605 non-null   object\n",
      " 3   domain              7362 non-null   object\n",
      " 4   network_username    2149 non-null   object\n",
      " 5   country_code        7053 non-null   object\n",
      " 6   investment_rounds   11652 non-null  int64 \n",
      " 7   invested_companies  11652 non-null  int64 \n",
      " 8   milestones          11652 non-null  int64 \n",
      "dtypes: int64(4), object(5)\n",
      "memory usage: 819.4+ KB\n"
     ]
    }
   ],
   "source": [
    "df_fund.info()"
   ]
  },
  {
   "cell_type": "code",
   "execution_count": 34,
   "metadata": {},
   "outputs": [
    {
     "data": {
      "text/html": [
       "<div>\n",
       "<style scoped>\n",
       "    .dataframe tbody tr th:only-of-type {\n",
       "        vertical-align: middle;\n",
       "    }\n",
       "\n",
       "    .dataframe tbody tr th {\n",
       "        vertical-align: top;\n",
       "    }\n",
       "\n",
       "    .dataframe thead th {\n",
       "        text-align: right;\n",
       "    }\n",
       "</style>\n",
       "<table border=\"1\" class=\"dataframe\">\n",
       "  <thead>\n",
       "    <tr style=\"text-align: right;\">\n",
       "      <th></th>\n",
       "      <th>id</th>\n",
       "      <th>name</th>\n",
       "      <th>founded_at</th>\n",
       "      <th>domain</th>\n",
       "      <th>network_username</th>\n",
       "      <th>country_code</th>\n",
       "      <th>investment_rounds</th>\n",
       "      <th>invested_companies</th>\n",
       "      <th>milestones</th>\n",
       "    </tr>\n",
       "  </thead>\n",
       "  <tbody>\n",
       "    <tr>\n",
       "      <th>0</th>\n",
       "      <td>13131</td>\n",
       "      <td>NaN</td>\n",
       "      <td>NaN</td>\n",
       "      <td>NaN</td>\n",
       "      <td>NaN</td>\n",
       "      <td>NaN</td>\n",
       "      <td>0</td>\n",
       "      <td>0</td>\n",
       "      <td>0</td>\n",
       "    </tr>\n",
       "    <tr>\n",
       "      <th>1</th>\n",
       "      <td>1</td>\n",
       "      <td>Greylock Partners</td>\n",
       "      <td>1965-01-01</td>\n",
       "      <td>greylock.com</td>\n",
       "      <td>greylockvc</td>\n",
       "      <td>USA</td>\n",
       "      <td>307</td>\n",
       "      <td>196</td>\n",
       "      <td>0</td>\n",
       "    </tr>\n",
       "    <tr>\n",
       "      <th>2</th>\n",
       "      <td>10</td>\n",
       "      <td>Mission Ventures</td>\n",
       "      <td>1996-01-01</td>\n",
       "      <td>missionventures.com</td>\n",
       "      <td>NaN</td>\n",
       "      <td>USA</td>\n",
       "      <td>58</td>\n",
       "      <td>33</td>\n",
       "      <td>0</td>\n",
       "    </tr>\n",
       "    <tr>\n",
       "      <th>3</th>\n",
       "      <td>100</td>\n",
       "      <td>Kapor Enterprises, Inc.</td>\n",
       "      <td>NaN</td>\n",
       "      <td>kei.com</td>\n",
       "      <td>NaN</td>\n",
       "      <td>USA</td>\n",
       "      <td>2</td>\n",
       "      <td>1</td>\n",
       "      <td>0</td>\n",
       "    </tr>\n",
       "    <tr>\n",
       "      <th>4</th>\n",
       "      <td>1000</td>\n",
       "      <td>Speed Ventures</td>\n",
       "      <td>NaN</td>\n",
       "      <td>NaN</td>\n",
       "      <td>NaN</td>\n",
       "      <td>NaN</td>\n",
       "      <td>0</td>\n",
       "      <td>0</td>\n",
       "      <td>1</td>\n",
       "    </tr>\n",
       "    <tr>\n",
       "      <th>...</th>\n",
       "      <td>...</td>\n",
       "      <td>...</td>\n",
       "      <td>...</td>\n",
       "      <td>...</td>\n",
       "      <td>...</td>\n",
       "      <td>...</td>\n",
       "      <td>...</td>\n",
       "      <td>...</td>\n",
       "      <td>...</td>\n",
       "    </tr>\n",
       "    <tr>\n",
       "      <th>11647</th>\n",
       "      <td>9997</td>\n",
       "      <td>Axel Johnson</td>\n",
       "      <td>1920-01-01</td>\n",
       "      <td>axeljohnson.com</td>\n",
       "      <td>NaN</td>\n",
       "      <td>USA</td>\n",
       "      <td>1</td>\n",
       "      <td>1</td>\n",
       "      <td>0</td>\n",
       "    </tr>\n",
       "    <tr>\n",
       "      <th>11648</th>\n",
       "      <td>9998</td>\n",
       "      <td>Liberty City Ventures</td>\n",
       "      <td>2012-07-01</td>\n",
       "      <td>libertycityventures.com</td>\n",
       "      <td>LCVentures</td>\n",
       "      <td>USA</td>\n",
       "      <td>5</td>\n",
       "      <td>5</td>\n",
       "      <td>0</td>\n",
       "    </tr>\n",
       "    <tr>\n",
       "      <th>11649</th>\n",
       "      <td>9999</td>\n",
       "      <td>CalSTRS</td>\n",
       "      <td>1913-07-01</td>\n",
       "      <td>calstrs.com</td>\n",
       "      <td>CalSTRS</td>\n",
       "      <td>USA</td>\n",
       "      <td>1</td>\n",
       "      <td>1</td>\n",
       "      <td>0</td>\n",
       "    </tr>\n",
       "    <tr>\n",
       "      <th>11650</th>\n",
       "      <td>11555</td>\n",
       "      <td>Haystack</td>\n",
       "      <td>2013-01-01</td>\n",
       "      <td>network.com::haystack_fund</td>\n",
       "      <td>haystack_fund</td>\n",
       "      <td>NaN</td>\n",
       "      <td>5</td>\n",
       "      <td>5</td>\n",
       "      <td>0</td>\n",
       "    </tr>\n",
       "    <tr>\n",
       "      <th>11651</th>\n",
       "      <td>2553</td>\n",
       "      <td>fbFund</td>\n",
       "      <td>NaN</td>\n",
       "      <td>developers.socialnet.com::fbfund.php</td>\n",
       "      <td>fbFund</td>\n",
       "      <td>NaN</td>\n",
       "      <td>23</td>\n",
       "      <td>21</td>\n",
       "      <td>2</td>\n",
       "    </tr>\n",
       "  </tbody>\n",
       "</table>\n",
       "<p>11652 rows × 9 columns</p>\n",
       "</div>"
      ],
      "text/plain": [
       "          id                     name  founded_at  \\\n",
       "0      13131                      NaN         NaN   \n",
       "1          1        Greylock Partners  1965-01-01   \n",
       "2         10         Mission Ventures  1996-01-01   \n",
       "3        100  Kapor Enterprises, Inc.         NaN   \n",
       "4       1000           Speed Ventures         NaN   \n",
       "...      ...                      ...         ...   \n",
       "11647   9997             Axel Johnson  1920-01-01   \n",
       "11648   9998    Liberty City Ventures  2012-07-01   \n",
       "11649   9999                  CalSTRS  1913-07-01   \n",
       "11650  11555                 Haystack  2013-01-01   \n",
       "11651   2553                   fbFund         NaN   \n",
       "\n",
       "                                     domain network_username country_code  \\\n",
       "0                                       NaN              NaN          NaN   \n",
       "1                              greylock.com       greylockvc          USA   \n",
       "2                       missionventures.com              NaN          USA   \n",
       "3                                   kei.com              NaN          USA   \n",
       "4                                       NaN              NaN          NaN   \n",
       "...                                     ...              ...          ...   \n",
       "11647                       axeljohnson.com              NaN          USA   \n",
       "11648               libertycityventures.com       LCVentures          USA   \n",
       "11649                           calstrs.com          CalSTRS          USA   \n",
       "11650            network.com::haystack_fund    haystack_fund          NaN   \n",
       "11651  developers.socialnet.com::fbfund.php           fbFund          NaN   \n",
       "\n",
       "       investment_rounds  invested_companies  milestones  \n",
       "0                      0                   0           0  \n",
       "1                    307                 196           0  \n",
       "2                     58                  33           0  \n",
       "3                      2                   1           0  \n",
       "4                      0                   0           1  \n",
       "...                  ...                 ...         ...  \n",
       "11647                  1                   1           0  \n",
       "11648                  5                   5           0  \n",
       "11649                  1                   1           0  \n",
       "11650                  5                   5           0  \n",
       "11651                 23                  21           2  \n",
       "\n",
       "[11652 rows x 9 columns]"
      ]
     },
     "metadata": {},
     "output_type": "display_data"
    }
   ],
   "source": [
    "display(df_fund)"
   ]
  },
  {
   "cell_type": "code",
   "execution_count": 35,
   "metadata": {},
   "outputs": [
    {
     "data": {
      "text/plain": [
       "0"
      ]
     },
     "execution_count": 35,
     "metadata": {},
     "output_type": "execute_result"
    }
   ],
   "source": [
    "df_fund.duplicated().sum()"
   ]
  },
  {
   "cell_type": "markdown",
   "metadata": {},
   "source": [
    "Датасет display Содержит  информацию о фондах. Представлен 9 столбцами и содержит 11652 строк. Объем данных 819.4+ KB. \n",
    "Столбцы с числовыми данными представлены типом данных int64, столбцы с вещественными данными представлены типом данных object. \n",
    "Предложения: id уменьшить разрядность типа данных. founded_at перевести в тип данных datetime. Дубликатов нет."
   ]
  },
  {
   "cell_type": "code",
   "execution_count": 36,
   "metadata": {},
   "outputs": [
    {
     "name": "stdout",
     "output_type": "stream",
     "text": [
      "<class 'pandas.core.frame.DataFrame'>\n",
      "RangeIndex: 61403 entries, 0 to 61402\n",
      "Data columns (total 4 columns):\n",
      " #   Column            Non-Null Count  Dtype\n",
      "---  ------            --------------  -----\n",
      " 0   id                61403 non-null  int64\n",
      " 1   funding_round_id  61403 non-null  int64\n",
      " 2   company_id        61403 non-null  int64\n",
      " 3   fund_id           61403 non-null  int64\n",
      "dtypes: int64(4)\n",
      "memory usage: 1.9 MB\n"
     ]
    }
   ],
   "source": [
    "df_investment.info()"
   ]
  },
  {
   "cell_type": "code",
   "execution_count": 37,
   "metadata": {},
   "outputs": [
    {
     "data": {
      "text/html": [
       "<div>\n",
       "<style scoped>\n",
       "    .dataframe tbody tr th:only-of-type {\n",
       "        vertical-align: middle;\n",
       "    }\n",
       "\n",
       "    .dataframe tbody tr th {\n",
       "        vertical-align: top;\n",
       "    }\n",
       "\n",
       "    .dataframe thead th {\n",
       "        text-align: right;\n",
       "    }\n",
       "</style>\n",
       "<table border=\"1\" class=\"dataframe\">\n",
       "  <thead>\n",
       "    <tr style=\"text-align: right;\">\n",
       "      <th></th>\n",
       "      <th>id</th>\n",
       "      <th>funding_round_id</th>\n",
       "      <th>company_id</th>\n",
       "      <th>fund_id</th>\n",
       "    </tr>\n",
       "  </thead>\n",
       "  <tbody>\n",
       "    <tr>\n",
       "      <th>0</th>\n",
       "      <td>1</td>\n",
       "      <td>1</td>\n",
       "      <td>4</td>\n",
       "      <td>1</td>\n",
       "    </tr>\n",
       "    <tr>\n",
       "      <th>1</th>\n",
       "      <td>2</td>\n",
       "      <td>1</td>\n",
       "      <td>4</td>\n",
       "      <td>2</td>\n",
       "    </tr>\n",
       "    <tr>\n",
       "      <th>2</th>\n",
       "      <td>3</td>\n",
       "      <td>3</td>\n",
       "      <td>5</td>\n",
       "      <td>4</td>\n",
       "    </tr>\n",
       "    <tr>\n",
       "      <th>3</th>\n",
       "      <td>4</td>\n",
       "      <td>4</td>\n",
       "      <td>5</td>\n",
       "      <td>1</td>\n",
       "    </tr>\n",
       "    <tr>\n",
       "      <th>4</th>\n",
       "      <td>5</td>\n",
       "      <td>4</td>\n",
       "      <td>5</td>\n",
       "      <td>5</td>\n",
       "    </tr>\n",
       "    <tr>\n",
       "      <th>...</th>\n",
       "      <td>...</td>\n",
       "      <td>...</td>\n",
       "      <td>...</td>\n",
       "      <td>...</td>\n",
       "    </tr>\n",
       "    <tr>\n",
       "      <th>61398</th>\n",
       "      <td>61399</td>\n",
       "      <td>57926</td>\n",
       "      <td>15847</td>\n",
       "      <td>173</td>\n",
       "    </tr>\n",
       "    <tr>\n",
       "      <th>61399</th>\n",
       "      <td>61400</td>\n",
       "      <td>57926</td>\n",
       "      <td>15847</td>\n",
       "      <td>1290</td>\n",
       "    </tr>\n",
       "    <tr>\n",
       "      <th>61400</th>\n",
       "      <td>61401</td>\n",
       "      <td>57926</td>\n",
       "      <td>15847</td>\n",
       "      <td>73</td>\n",
       "    </tr>\n",
       "    <tr>\n",
       "      <th>61401</th>\n",
       "      <td>61402</td>\n",
       "      <td>57942</td>\n",
       "      <td>70841</td>\n",
       "      <td>15098</td>\n",
       "    </tr>\n",
       "    <tr>\n",
       "      <th>61402</th>\n",
       "      <td>61403</td>\n",
       "      <td>57948</td>\n",
       "      <td>211890</td>\n",
       "      <td>2101</td>\n",
       "    </tr>\n",
       "  </tbody>\n",
       "</table>\n",
       "<p>61403 rows × 4 columns</p>\n",
       "</div>"
      ],
      "text/plain": [
       "          id  funding_round_id  company_id  fund_id\n",
       "0          1                 1           4        1\n",
       "1          2                 1           4        2\n",
       "2          3                 3           5        4\n",
       "3          4                 4           5        1\n",
       "4          5                 4           5        5\n",
       "...      ...               ...         ...      ...\n",
       "61398  61399             57926       15847      173\n",
       "61399  61400             57926       15847     1290\n",
       "61400  61401             57926       15847       73\n",
       "61401  61402             57942       70841    15098\n",
       "61402  61403             57948      211890     2101\n",
       "\n",
       "[61403 rows x 4 columns]"
      ]
     },
     "metadata": {},
     "output_type": "display_data"
    }
   ],
   "source": [
    "display(df_investment)"
   ]
  },
  {
   "cell_type": "code",
   "execution_count": 38,
   "metadata": {},
   "outputs": [
    {
     "data": {
      "text/plain": [
       "0"
      ]
     },
     "execution_count": 38,
     "metadata": {},
     "output_type": "execute_result"
    }
   ],
   "source": [
    "df_investment.duplicated().sum()"
   ]
  },
  {
   "cell_type": "markdown",
   "metadata": {},
   "source": [
    "Датасет df_investment Содержит информацию о раундах инвестирования. Представлен 4 столбцами и содержит 61403 строк. Объем данных 1.9 MB. \n",
    "Dct cтолбцы с числовыми данными представлены типом данных int64 \n",
    "Предложения: учитывая небольшой объем памяти, можно оставить в первоначальном виде. Дубликатов нет."
   ]
  },
  {
   "cell_type": "code",
   "execution_count": 39,
   "metadata": {},
   "outputs": [
    {
     "name": "stdout",
     "output_type": "stream",
     "text": [
      "<class 'pandas.core.frame.DataFrame'>\n",
      "RangeIndex: 226709 entries, 0 to 226708\n",
      "Data columns (total 5 columns):\n",
      " #   Column            Non-Null Count   Dtype  \n",
      "---  ------            --------------   -----  \n",
      " 0   id                226709 non-null  int64  \n",
      " 1   first_name        226704 non-null  object \n",
      " 2   last_name         226708 non-null  object \n",
      " 3   company_id        34615 non-null   float64\n",
      " 4   network_username  38867 non-null   object \n",
      "dtypes: float64(1), int64(1), object(3)\n",
      "memory usage: 8.6+ MB\n"
     ]
    }
   ],
   "source": [
    "df_people.info()"
   ]
  },
  {
   "cell_type": "code",
   "execution_count": 40,
   "metadata": {},
   "outputs": [
    {
     "data": {
      "text/html": [
       "<div>\n",
       "<style scoped>\n",
       "    .dataframe tbody tr th:only-of-type {\n",
       "        vertical-align: middle;\n",
       "    }\n",
       "\n",
       "    .dataframe tbody tr th {\n",
       "        vertical-align: top;\n",
       "    }\n",
       "\n",
       "    .dataframe thead th {\n",
       "        text-align: right;\n",
       "    }\n",
       "</style>\n",
       "<table border=\"1\" class=\"dataframe\">\n",
       "  <thead>\n",
       "    <tr style=\"text-align: right;\">\n",
       "      <th></th>\n",
       "      <th>id</th>\n",
       "      <th>first_name</th>\n",
       "      <th>last_name</th>\n",
       "      <th>company_id</th>\n",
       "      <th>network_username</th>\n",
       "    </tr>\n",
       "  </thead>\n",
       "  <tbody>\n",
       "    <tr>\n",
       "      <th>0</th>\n",
       "      <td>10</td>\n",
       "      <td>Mark</td>\n",
       "      <td>Zuckerberg</td>\n",
       "      <td>5.0</td>\n",
       "      <td>NaN</td>\n",
       "    </tr>\n",
       "    <tr>\n",
       "      <th>1</th>\n",
       "      <td>100</td>\n",
       "      <td>Peter</td>\n",
       "      <td>Lester</td>\n",
       "      <td>27.0</td>\n",
       "      <td>NaN</td>\n",
       "    </tr>\n",
       "    <tr>\n",
       "      <th>2</th>\n",
       "      <td>1000</td>\n",
       "      <td>Dr. Steven</td>\n",
       "      <td>E. Saunders</td>\n",
       "      <td>292.0</td>\n",
       "      <td>NaN</td>\n",
       "    </tr>\n",
       "    <tr>\n",
       "      <th>3</th>\n",
       "      <td>10000</td>\n",
       "      <td>Neil</td>\n",
       "      <td>Capel</td>\n",
       "      <td>2526.0</td>\n",
       "      <td>NaN</td>\n",
       "    </tr>\n",
       "    <tr>\n",
       "      <th>4</th>\n",
       "      <td>100000</td>\n",
       "      <td>Sue</td>\n",
       "      <td>Pilsch</td>\n",
       "      <td>NaN</td>\n",
       "      <td>NaN</td>\n",
       "    </tr>\n",
       "    <tr>\n",
       "      <th>...</th>\n",
       "      <td>...</td>\n",
       "      <td>...</td>\n",
       "      <td>...</td>\n",
       "      <td>...</td>\n",
       "      <td>...</td>\n",
       "    </tr>\n",
       "    <tr>\n",
       "      <th>226704</th>\n",
       "      <td>99999</td>\n",
       "      <td>Ramon</td>\n",
       "      <td>Peypoch</td>\n",
       "      <td>NaN</td>\n",
       "      <td>NaN</td>\n",
       "    </tr>\n",
       "    <tr>\n",
       "      <th>226705</th>\n",
       "      <td>174088</td>\n",
       "      <td>Dr. Ray</td>\n",
       "      <td>Woods</td>\n",
       "      <td>188200.0</td>\n",
       "      <td>network</td>\n",
       "    </tr>\n",
       "    <tr>\n",
       "      <th>226706</th>\n",
       "      <td>118386</td>\n",
       "      <td>Ricardo</td>\n",
       "      <td>Durand</td>\n",
       "      <td>143419.0</td>\n",
       "      <td>itechsocialnet</td>\n",
       "    </tr>\n",
       "    <tr>\n",
       "      <th>226707</th>\n",
       "      <td>175827</td>\n",
       "      <td>mahesh</td>\n",
       "      <td>kumar</td>\n",
       "      <td>NaN</td>\n",
       "      <td>socialnethubs</td>\n",
       "    </tr>\n",
       "    <tr>\n",
       "      <th>226708</th>\n",
       "      <td>178190</td>\n",
       "      <td>Alex</td>\n",
       "      <td>Smith</td>\n",
       "      <td>NaN</td>\n",
       "      <td>esocialnetlike</td>\n",
       "    </tr>\n",
       "  </tbody>\n",
       "</table>\n",
       "<p>226709 rows × 5 columns</p>\n",
       "</div>"
      ],
      "text/plain": [
       "            id  first_name    last_name  company_id network_username\n",
       "0           10        Mark   Zuckerberg         5.0              NaN\n",
       "1          100       Peter       Lester        27.0              NaN\n",
       "2         1000  Dr. Steven  E. Saunders       292.0              NaN\n",
       "3        10000        Neil        Capel      2526.0              NaN\n",
       "4       100000         Sue       Pilsch         NaN              NaN\n",
       "...        ...         ...          ...         ...              ...\n",
       "226704   99999       Ramon      Peypoch         NaN              NaN\n",
       "226705  174088     Dr. Ray        Woods    188200.0          network\n",
       "226706  118386     Ricardo       Durand    143419.0   itechsocialnet\n",
       "226707  175827      mahesh        kumar         NaN    socialnethubs\n",
       "226708  178190        Alex        Smith         NaN   esocialnetlike\n",
       "\n",
       "[226709 rows x 5 columns]"
      ]
     },
     "metadata": {},
     "output_type": "display_data"
    }
   ],
   "source": [
    "display(df_people)"
   ]
  },
  {
   "cell_type": "code",
   "execution_count": 41,
   "metadata": {},
   "outputs": [
    {
     "data": {
      "text/plain": [
       "0"
      ]
     },
     "execution_count": 41,
     "metadata": {},
     "output_type": "execute_result"
    }
   ],
   "source": [
    "df_people.duplicated().sum()"
   ]
  },
  {
   "cell_type": "markdown",
   "metadata": {},
   "source": [
    "Датасет df_people Содержит информацию о типе образования сотрудника. Представлен 5 столбцами и содержит 226709 строк. Объем данных 8.6+ MB. \n",
    "Столбцы с числовыми данными представлены типом данных int64, float64, столбцы с вещественными данными представлены типом данных object. \n",
    "Предложения: id уменьшить разрядность типа данных. Дубликатов нет."
   ]
  },
  {
   "cell_type": "markdown",
   "metadata": {
    "id": "mg2gEwh0rJg0"
   },
   "source": [
    "### 1.2. Смена типов и анализ пропусков\n",
    "\n",
    "* Обработка типов данных в столбцах, которые хранят значения даты и времени, если это необходимо."
   ]
  },
  {
   "cell_type": "markdown",
   "metadata": {},
   "source": [
    "\n",
    "* Оценка полноту данных — сделайте предварительный вывод, достаточно ли данных для решения задач проекта."
   ]
  },
  {
   "cell_type": "code",
   "execution_count": 42,
   "metadata": {
    "id": "FsL0A8RBrJg1"
   },
   "outputs": [],
   "source": [
    "# Оптимизируем целочисленный тип данных в датафрейме df_acquisition['id']\n",
    "df_acquisition['id'] = pd.to_numeric(df_acquisition['id'], downcast='integer') "
   ]
  },
  {
   "cell_type": "code",
   "execution_count": 43,
   "metadata": {},
   "outputs": [],
   "source": [
    "#Приведем к типу данных datetime в датафрейме \n",
    "df_acquisition['acquired_at'] = pd.to_datetime(df_acquisition['acquired_at'], errors='coerce')"
   ]
  },
  {
   "cell_type": "code",
   "execution_count": 44,
   "metadata": {},
   "outputs": [
    {
     "name": "stdout",
     "output_type": "stream",
     "text": [
      "<class 'pandas.core.frame.DataFrame'>\n",
      "RangeIndex: 9407 entries, 0 to 9406\n",
      "Data columns (total 6 columns):\n",
      " #   Column                Non-Null Count  Dtype         \n",
      "---  ------                --------------  -----         \n",
      " 0   id                    9407 non-null   int16         \n",
      " 1   acquiring_company_id  9407 non-null   int64         \n",
      " 2   acquired_company_id   9407 non-null   int64         \n",
      " 3   term_code             1831 non-null   object        \n",
      " 4   price_amount          9407 non-null   int64         \n",
      " 5   acquired_at           9378 non-null   datetime64[ns]\n",
      "dtypes: datetime64[ns](1), int16(1), int64(3), object(1)\n",
      "memory usage: 386.0+ KB\n"
     ]
    }
   ],
   "source": [
    "df_acquisition.info()"
   ]
  },
  {
   "cell_type": "code",
   "execution_count": 45,
   "metadata": {},
   "outputs": [
    {
     "data": {
      "text/plain": [
       "id                         0\n",
       "acquiring_company_id       0\n",
       "acquired_company_id        0\n",
       "term_code               7576\n",
       "price_amount               0\n",
       "acquired_at               29\n",
       "dtype: int64"
      ]
     },
     "execution_count": 45,
     "metadata": {},
     "output_type": "execute_result"
    }
   ],
   "source": [
    "# Вычисляем  сумму пропущенных значений в df_acquisition\n",
    "df_acquisition.isna().sum()"
   ]
  },
  {
   "cell_type": "code",
   "execution_count": 46,
   "metadata": {},
   "outputs": [
    {
     "data": {
      "text/html": [
       "<style  type=\"text/css\" >\n",
       "#T_6b53a_row0_col0{\n",
       "            background-color:  #b40426;\n",
       "            color:  #f1f1f1;\n",
       "        }#T_6b53a_row1_col0,#T_6b53a_row2_col0,#T_6b53a_row3_col0,#T_6b53a_row4_col0,#T_6b53a_row5_col0{\n",
       "            background-color:  #3b4cc0;\n",
       "            color:  #f1f1f1;\n",
       "        }</style><table id=\"T_6b53a_\" ><thead>    <tr>        <th class=\"blank level0\" ></th>        <th class=\"col_heading level0 col0\" >Missing</th>    </tr></thead><tbody>\n",
       "                <tr>\n",
       "                        <th id=\"T_6b53a_level0_row0\" class=\"row_heading level0 row0\" >term_code</th>\n",
       "                        <td id=\"T_6b53a_row0_col0\" class=\"data row0 col0\" >0.81</td>\n",
       "            </tr>\n",
       "            <tr>\n",
       "                        <th id=\"T_6b53a_level0_row1\" class=\"row_heading level0 row1\" >acquired_at</th>\n",
       "                        <td id=\"T_6b53a_row1_col0\" class=\"data row1 col0\" >0.00</td>\n",
       "            </tr>\n",
       "            <tr>\n",
       "                        <th id=\"T_6b53a_level0_row2\" class=\"row_heading level0 row2\" >id</th>\n",
       "                        <td id=\"T_6b53a_row2_col0\" class=\"data row2 col0\" >0.00</td>\n",
       "            </tr>\n",
       "            <tr>\n",
       "                        <th id=\"T_6b53a_level0_row3\" class=\"row_heading level0 row3\" >acquiring_company_id</th>\n",
       "                        <td id=\"T_6b53a_row3_col0\" class=\"data row3 col0\" >0.00</td>\n",
       "            </tr>\n",
       "            <tr>\n",
       "                        <th id=\"T_6b53a_level0_row4\" class=\"row_heading level0 row4\" >acquired_company_id</th>\n",
       "                        <td id=\"T_6b53a_row4_col0\" class=\"data row4 col0\" >0.00</td>\n",
       "            </tr>\n",
       "            <tr>\n",
       "                        <th id=\"T_6b53a_level0_row5\" class=\"row_heading level0 row5\" >price_amount</th>\n",
       "                        <td id=\"T_6b53a_row5_col0\" class=\"data row5 col0\" >0.00</td>\n",
       "            </tr>\n",
       "    </tbody></table>"
      ],
      "text/plain": [
       "<pandas.io.formats.style.Styler at 0x7fe5f6c0a970>"
      ]
     },
     "execution_count": 46,
     "metadata": {},
     "output_type": "execute_result"
    }
   ],
   "source": [
    "# Вычисляем процент пропущенных значений в df_acquisition\n",
    "missing = (df_acquisition.isna().sum() / df_acquisition.shape[0]).sort_values(ascending=False)\n",
    "\n",
    "# Преобразуем Series в df_acquisition\n",
    "missing_df = missing.to_frame(name='Missing')\n",
    "\n",
    "# Применяем градиентный фон к результатам\n",
    "styled_output = missing_df.style.background_gradient(cmap='coolwarm', axis=0).set_precision(2)\n",
    "\n",
    "styled_output"
   ]
  },
  {
   "cell_type": "markdown",
   "metadata": {},
   "source": [
    "датафрейм df_acquisition стоблец term_code содержит 7576 пропусков (81%) и acquired_at 29 пропусков (0%). Значимое количество попусков в столбце term_code - варианты расчёта."
   ]
  },
  {
   "cell_type": "code",
   "execution_count": 47,
   "metadata": {},
   "outputs": [
    {
     "data": {
      "text/plain": [
       "company__id                 302\n",
       "name                        302\n",
       "category__code            73888\n",
       "status                      302\n",
       "founded__at              107818\n",
       "closed__at               214325\n",
       "domain                    70615\n",
       "network__username        122240\n",
       "country__code            109167\n",
       "investment__rounds          302\n",
       "funding__rounds             302\n",
       "funding__total              302\n",
       "milestones                  302\n",
       "funding__round__id       164846\n",
       "company__id_1            164846\n",
       "funded__at               165094\n",
       "funding__round__type     164846\n",
       "raised__amount           164846\n",
       "pre__money__valuation    164846\n",
       "participants             164846\n",
       "is__first__round         164846\n",
       "is__last__round          164846\n",
       "company_ID                    0\n",
       "dtype: int64"
      ]
     },
     "execution_count": 47,
     "metadata": {},
     "output_type": "execute_result"
    }
   ],
   "source": [
    "# Вычисляем  сумму пропущенных значений в df_company\n",
    "df_company.isna().sum()"
   ]
  },
  {
   "cell_type": "code",
   "execution_count": 48,
   "metadata": {},
   "outputs": [
    {
     "data": {
      "text/plain": [
       "company__id              0.001387\n",
       "name                     0.001387\n",
       "category__code           0.339288\n",
       "status                   0.001387\n",
       "founded__at              0.495091\n",
       "closed__at               0.984162\n",
       "domain                   0.324258\n",
       "network__username        0.561316\n",
       "country__code            0.501286\n",
       "investment__rounds       0.001387\n",
       "funding__rounds          0.001387\n",
       "funding__total           0.001387\n",
       "milestones               0.001387\n",
       "funding__round__id       0.756959\n",
       "company__id_1            0.756959\n",
       "funded__at               0.758098\n",
       "funding__round__type     0.756959\n",
       "raised__amount           0.756959\n",
       "pre__money__valuation    0.756959\n",
       "participants             0.756959\n",
       "is__first__round         0.756959\n",
       "is__last__round          0.756959\n",
       "company_ID               0.000000\n",
       "dtype: float64"
      ]
     },
     "execution_count": 48,
     "metadata": {},
     "output_type": "execute_result"
    }
   ],
   "source": [
    "# Вычисляем процент пропущенных значений в df_company\n",
    "df_company.isna().mean()"
   ]
  },
  {
   "cell_type": "code",
   "execution_count": 49,
   "metadata": {},
   "outputs": [],
   "source": [
    "#Приведем к типу данных datetime в датафрейме \n",
    "df_company['founded__at'] = pd.to_datetime(df_company['founded__at'], errors='coerce')"
   ]
  },
  {
   "cell_type": "code",
   "execution_count": 50,
   "metadata": {},
   "outputs": [],
   "source": [
    "#Приведем к типу данных datetime в датафрейме \n",
    "df_company['closed__at'] = pd.to_datetime(df_company['closed__at'], errors='coerce')"
   ]
  },
  {
   "cell_type": "code",
   "execution_count": 51,
   "metadata": {},
   "outputs": [],
   "source": [
    "#Приведем к типу данных datetime в датафрейме \n",
    "df_company['funded__at'] = pd.to_datetime(df_company['funded__at'], errors='coerce')"
   ]
  },
  {
   "cell_type": "code",
   "execution_count": 52,
   "metadata": {},
   "outputs": [
    {
     "name": "stdout",
     "output_type": "stream",
     "text": [
      "<class 'pandas.core.frame.DataFrame'>\n",
      "RangeIndex: 217774 entries, 0 to 217773\n",
      "Data columns (total 23 columns):\n",
      " #   Column                 Non-Null Count   Dtype         \n",
      "---  ------                 --------------   -----         \n",
      " 0   company__id            217472 non-null  float64       \n",
      " 1   name                   217472 non-null  object        \n",
      " 2   category__code         143886 non-null  object        \n",
      " 3   status                 217472 non-null  object        \n",
      " 4   founded__at            109956 non-null  datetime64[ns]\n",
      " 5   closed__at             3449 non-null    datetime64[ns]\n",
      " 6   domain                 147159 non-null  object        \n",
      " 7   network__username      95534 non-null   object        \n",
      " 8   country__code          108607 non-null  object        \n",
      " 9   investment__rounds     217472 non-null  float64       \n",
      " 10  funding__rounds        217472 non-null  float64       \n",
      " 11  funding__total         217472 non-null  float64       \n",
      " 12  milestones             217472 non-null  float64       \n",
      " 13  funding__round__id     52928 non-null   float64       \n",
      " 14  company__id_1          52928 non-null   float64       \n",
      " 15  funded__at             52680 non-null   datetime64[ns]\n",
      " 16  funding__round__type   52928 non-null   object        \n",
      " 17  raised__amount         52928 non-null   float64       \n",
      " 18  pre__money__valuation  52928 non-null   float64       \n",
      " 19  participants           52928 non-null   float64       \n",
      " 20  is__first__round       52928 non-null   float64       \n",
      " 21  is__last__round        52928 non-null   float64       \n",
      " 22  company_ID             217774 non-null  object        \n",
      "dtypes: datetime64[ns](3), float64(12), object(8)\n",
      "memory usage: 38.2+ MB\n"
     ]
    }
   ],
   "source": [
    "df_company.info()"
   ]
  },
  {
   "cell_type": "markdown",
   "metadata": {},
   "source": [
    "в датафрейме df_company (Содержит информацию о компаниях и раундах финансирования) каждый столбец имеет пропуски. 98 % в столбце closed__at  - 214325 строк.\n",
    "\n",
    "76% отмечается во многих столбцах - founded__at (107818), funding__round__id (164846), company__id (164846), funded__at (165094), funding__round__type (164846), raised__amount (164846), pre__money__valuation (164846), participants (164846), is__first__round (164846), is__last__round (164846)\n",
    "\n",
    "56 % в столбце network__username (122240), 50% в столбцах country__code (109167), founded__at (107818).\n",
    "\n",
    "34%  в столбце category__code 73888.\n",
    "\n",
    "В столбце domain 70615 пропуска, что составило 32 %.\n",
    "\n",
    "В меньшем количестве (0,00%) столбцы company__ID, milestones, name, funding__rounds, investment__rounds, status, funding__total. Данные столбцы пригодны к обработке без искажения данных.\n",
    "Привеены к соответствию тип данных"
   ]
  },
  {
   "cell_type": "code",
   "execution_count": 53,
   "metadata": {},
   "outputs": [],
   "source": [
    "# Оптимизируем целочисленный тип данных в датафрейме df_degrees['id']\n",
    "df_degrees['id'] = pd.to_numeric(df_degrees['id'], downcast='integer') "
   ]
  },
  {
   "cell_type": "code",
   "execution_count": 54,
   "metadata": {},
   "outputs": [
    {
     "name": "stdout",
     "output_type": "stream",
     "text": [
      "<class 'pandas.core.frame.DataFrame'>\n",
      "RangeIndex: 109610 entries, 0 to 109609\n",
      "Data columns (total 4 columns):\n",
      " #   Column       Non-Null Count   Dtype \n",
      "---  ------       --------------   ----- \n",
      " 0   id           109610 non-null  int32 \n",
      " 1   object_id    109610 non-null  object\n",
      " 2   degree_type  98392 non-null   object\n",
      " 3   subject      81298 non-null   object\n",
      "dtypes: int32(1), object(3)\n",
      "memory usage: 2.9+ MB\n"
     ]
    }
   ],
   "source": [
    "df_degrees.info()"
   ]
  },
  {
   "cell_type": "code",
   "execution_count": 55,
   "metadata": {},
   "outputs": [
    {
     "data": {
      "text/plain": [
       "id                 0\n",
       "object_id          0\n",
       "degree_type    11218\n",
       "subject        28312\n",
       "dtype: int64"
      ]
     },
     "execution_count": 55,
     "metadata": {},
     "output_type": "execute_result"
    }
   ],
   "source": [
    "# Вычисляем  сумму пропущенных значений в df_degrees\n",
    "df_degrees.isna().sum()"
   ]
  },
  {
   "cell_type": "code",
   "execution_count": 56,
   "metadata": {},
   "outputs": [
    {
     "data": {
      "text/html": [
       "<style  type=\"text/css\" >\n",
       "#T_f4198_row0_col0{\n",
       "            background-color:  #b40426;\n",
       "            color:  #f1f1f1;\n",
       "        }#T_f4198_row1_col0{\n",
       "            background-color:  #bfd3f6;\n",
       "            color:  #000000;\n",
       "        }#T_f4198_row2_col0,#T_f4198_row3_col0{\n",
       "            background-color:  #3b4cc0;\n",
       "            color:  #f1f1f1;\n",
       "        }</style><table id=\"T_f4198_\" ><thead>    <tr>        <th class=\"blank level0\" ></th>        <th class=\"col_heading level0 col0\" >Missing</th>    </tr></thead><tbody>\n",
       "                <tr>\n",
       "                        <th id=\"T_f4198_level0_row0\" class=\"row_heading level0 row0\" >subject</th>\n",
       "                        <td id=\"T_f4198_row0_col0\" class=\"data row0 col0\" >0.26</td>\n",
       "            </tr>\n",
       "            <tr>\n",
       "                        <th id=\"T_f4198_level0_row1\" class=\"row_heading level0 row1\" >degree_type</th>\n",
       "                        <td id=\"T_f4198_row1_col0\" class=\"data row1 col0\" >0.10</td>\n",
       "            </tr>\n",
       "            <tr>\n",
       "                        <th id=\"T_f4198_level0_row2\" class=\"row_heading level0 row2\" >id</th>\n",
       "                        <td id=\"T_f4198_row2_col0\" class=\"data row2 col0\" >0.00</td>\n",
       "            </tr>\n",
       "            <tr>\n",
       "                        <th id=\"T_f4198_level0_row3\" class=\"row_heading level0 row3\" >object_id</th>\n",
       "                        <td id=\"T_f4198_row3_col0\" class=\"data row3 col0\" >0.00</td>\n",
       "            </tr>\n",
       "    </tbody></table>"
      ],
      "text/plain": [
       "<pandas.io.formats.style.Styler at 0x7fe5f6bed7f0>"
      ]
     },
     "execution_count": 56,
     "metadata": {},
     "output_type": "execute_result"
    }
   ],
   "source": [
    "# Вычисляем процент пропущенных значений в df_degrees\n",
    "missing = (df_degrees.isna().sum() / df_degrees.shape[0]).sort_values(ascending=False)\n",
    "\n",
    "# Преобразуем Series в df_degrees\n",
    "missing_df = missing.to_frame(name='Missing')\n",
    "\n",
    "# Применяем градиентный фон к результатам\n",
    "styled_output = missing_df.style.background_gradient(cmap='coolwarm', axis=0).set_precision(2)\n",
    "\n",
    "styled_output"
   ]
  },
  {
   "cell_type": "markdown",
   "metadata": {},
   "source": [
    "Число пропусков в df_degrees составляет: degree_type 11218 (10%)\n",
    "subject 28312 (26%)"
   ]
  },
  {
   "cell_type": "code",
   "execution_count": 57,
   "metadata": {},
   "outputs": [],
   "source": [
    "# Оптимизируем целочисленный тип данных в датафрейме df_education['id']\n",
    "df_education['id'] = pd.to_numeric(df_education['id'], downcast='integer')"
   ]
  },
  {
   "cell_type": "code",
   "execution_count": 58,
   "metadata": {},
   "outputs": [],
   "source": [
    "#Приведем к типу данных datetime в датафрейме df_education['funded__at']\n",
    "df_education['graduated_at'] = pd.to_datetime(df_education['graduated_at'], errors='coerce')"
   ]
  },
  {
   "cell_type": "code",
   "execution_count": 59,
   "metadata": {},
   "outputs": [
    {
     "name": "stdout",
     "output_type": "stream",
     "text": [
      "<class 'pandas.core.frame.DataFrame'>\n",
      "RangeIndex: 109610 entries, 0 to 109609\n",
      "Data columns (total 4 columns):\n",
      " #   Column        Non-Null Count   Dtype         \n",
      "---  ------        --------------   -----         \n",
      " 0   id            109610 non-null  int32         \n",
      " 1   person_id     109610 non-null  int64         \n",
      " 2   instituition  109555 non-null  object        \n",
      " 3   graduated_at  58054 non-null   datetime64[ns]\n",
      "dtypes: datetime64[ns](1), int32(1), int64(1), object(1)\n",
      "memory usage: 2.9+ MB\n"
     ]
    }
   ],
   "source": [
    "df_education.info()"
   ]
  },
  {
   "cell_type": "code",
   "execution_count": 60,
   "metadata": {},
   "outputs": [
    {
     "data": {
      "text/plain": [
       "id                  0\n",
       "person_id           0\n",
       "instituition       55\n",
       "graduated_at    51556\n",
       "dtype: int64"
      ]
     },
     "execution_count": 60,
     "metadata": {},
     "output_type": "execute_result"
    }
   ],
   "source": [
    "# Вычисляем  сумму пропущенных значений в df_education\n",
    "df_education.isna().sum()"
   ]
  },
  {
   "cell_type": "code",
   "execution_count": 61,
   "metadata": {},
   "outputs": [
    {
     "data": {
      "text/html": [
       "<style  type=\"text/css\" >\n",
       "#T_561ae_row0_col0{\n",
       "            background-color:  #b40426;\n",
       "            color:  #f1f1f1;\n",
       "        }#T_561ae_row1_col0,#T_561ae_row2_col0,#T_561ae_row3_col0{\n",
       "            background-color:  #3b4cc0;\n",
       "            color:  #f1f1f1;\n",
       "        }</style><table id=\"T_561ae_\" ><thead>    <tr>        <th class=\"blank level0\" ></th>        <th class=\"col_heading level0 col0\" >Missing</th>    </tr></thead><tbody>\n",
       "                <tr>\n",
       "                        <th id=\"T_561ae_level0_row0\" class=\"row_heading level0 row0\" >graduated_at</th>\n",
       "                        <td id=\"T_561ae_row0_col0\" class=\"data row0 col0\" >0.47</td>\n",
       "            </tr>\n",
       "            <tr>\n",
       "                        <th id=\"T_561ae_level0_row1\" class=\"row_heading level0 row1\" >instituition</th>\n",
       "                        <td id=\"T_561ae_row1_col0\" class=\"data row1 col0\" >0.00</td>\n",
       "            </tr>\n",
       "            <tr>\n",
       "                        <th id=\"T_561ae_level0_row2\" class=\"row_heading level0 row2\" >id</th>\n",
       "                        <td id=\"T_561ae_row2_col0\" class=\"data row2 col0\" >0.00</td>\n",
       "            </tr>\n",
       "            <tr>\n",
       "                        <th id=\"T_561ae_level0_row3\" class=\"row_heading level0 row3\" >person_id</th>\n",
       "                        <td id=\"T_561ae_row3_col0\" class=\"data row3 col0\" >0.00</td>\n",
       "            </tr>\n",
       "    </tbody></table>"
      ],
      "text/plain": [
       "<pandas.io.formats.style.Styler at 0x7fe5f75af130>"
      ]
     },
     "execution_count": 61,
     "metadata": {},
     "output_type": "execute_result"
    }
   ],
   "source": [
    "# Вычисляем процент пропущенных значений в df_degrees\n",
    "missing = (df_education.isna().sum() / df_education.shape[0]).sort_values(ascending=False)\n",
    "\n",
    "# Преобразуем Series в df_degrees\n",
    "missing_df = missing.to_frame(name='Missing')\n",
    "\n",
    "# Применяем градиентный фон к результатам\n",
    "styled_output = missing_df.style.background_gradient(cmap='coolwarm', axis=0).set_precision(2)\n",
    "\n",
    "styled_output"
   ]
  },
  {
   "cell_type": "markdown",
   "metadata": {},
   "source": [
    "Число пропусков в df_education  составляет:  instituition 55 (0,00%), \n",
    "graduated_at 51556 (47%)"
   ]
  },
  {
   "cell_type": "code",
   "execution_count": 62,
   "metadata": {},
   "outputs": [],
   "source": [
    "# Оптимизируем целочисленный тип данных в датафрейме df_fund['id']\n",
    "df_fund['founded_at'] = df_fund['founded_at'] = pd.to_datetime(df_fund['founded_at'], errors='coerce')"
   ]
  },
  {
   "cell_type": "code",
   "execution_count": 63,
   "metadata": {},
   "outputs": [],
   "source": [
    "#Приведем к типу данных datetime в датафрейме df_education['funded__at']\n",
    "df_fund['founded_at'] = pd.to_datetime(df_fund['founded_at'], errors='coerce')  "
   ]
  },
  {
   "cell_type": "code",
   "execution_count": 64,
   "metadata": {},
   "outputs": [
    {
     "name": "stdout",
     "output_type": "stream",
     "text": [
      "<class 'pandas.core.frame.DataFrame'>\n",
      "RangeIndex: 11652 entries, 0 to 11651\n",
      "Data columns (total 9 columns):\n",
      " #   Column              Non-Null Count  Dtype         \n",
      "---  ------              --------------  -----         \n",
      " 0   id                  11652 non-null  int64         \n",
      " 1   name                11650 non-null  object        \n",
      " 2   founded_at          4605 non-null   datetime64[ns]\n",
      " 3   domain              7362 non-null   object        \n",
      " 4   network_username    2149 non-null   object        \n",
      " 5   country_code        7053 non-null   object        \n",
      " 6   investment_rounds   11652 non-null  int64         \n",
      " 7   invested_companies  11652 non-null  int64         \n",
      " 8   milestones          11652 non-null  int64         \n",
      "dtypes: datetime64[ns](1), int64(4), object(4)\n",
      "memory usage: 819.4+ KB\n"
     ]
    }
   ],
   "source": [
    "df_fund.info()"
   ]
  },
  {
   "cell_type": "code",
   "execution_count": 65,
   "metadata": {},
   "outputs": [
    {
     "data": {
      "text/plain": [
       "id                       0\n",
       "name                     2\n",
       "founded_at            7047\n",
       "domain                4290\n",
       "network_username      9503\n",
       "country_code          4599\n",
       "investment_rounds        0\n",
       "invested_companies       0\n",
       "milestones               0\n",
       "dtype: int64"
      ]
     },
     "execution_count": 65,
     "metadata": {},
     "output_type": "execute_result"
    }
   ],
   "source": [
    "# Вычисляем  сумму пропущенных значений в df_fund\n",
    "df_fund.isna().sum()"
   ]
  },
  {
   "cell_type": "code",
   "execution_count": 66,
   "metadata": {},
   "outputs": [
    {
     "data": {
      "text/html": [
       "<style  type=\"text/css\" >\n",
       "#T_1fa68_row0_col0{\n",
       "            background-color:  #b40426;\n",
       "            color:  #f1f1f1;\n",
       "        }#T_1fa68_row1_col0{\n",
       "            background-color:  #f59d7e;\n",
       "            color:  #000000;\n",
       "        }#T_1fa68_row2_col0{\n",
       "            background-color:  #d8dce2;\n",
       "            color:  #000000;\n",
       "        }#T_1fa68_row3_col0{\n",
       "            background-color:  #cfdaea;\n",
       "            color:  #000000;\n",
       "        }#T_1fa68_row4_col0,#T_1fa68_row5_col0,#T_1fa68_row6_col0,#T_1fa68_row7_col0,#T_1fa68_row8_col0{\n",
       "            background-color:  #3b4cc0;\n",
       "            color:  #f1f1f1;\n",
       "        }</style><table id=\"T_1fa68_\" ><thead>    <tr>        <th class=\"blank level0\" ></th>        <th class=\"col_heading level0 col0\" >Missing</th>    </tr></thead><tbody>\n",
       "                <tr>\n",
       "                        <th id=\"T_1fa68_level0_row0\" class=\"row_heading level0 row0\" >network_username</th>\n",
       "                        <td id=\"T_1fa68_row0_col0\" class=\"data row0 col0\" >0.82</td>\n",
       "            </tr>\n",
       "            <tr>\n",
       "                        <th id=\"T_1fa68_level0_row1\" class=\"row_heading level0 row1\" >founded_at</th>\n",
       "                        <td id=\"T_1fa68_row1_col0\" class=\"data row1 col0\" >0.60</td>\n",
       "            </tr>\n",
       "            <tr>\n",
       "                        <th id=\"T_1fa68_level0_row2\" class=\"row_heading level0 row2\" >country_code</th>\n",
       "                        <td id=\"T_1fa68_row2_col0\" class=\"data row2 col0\" >0.39</td>\n",
       "            </tr>\n",
       "            <tr>\n",
       "                        <th id=\"T_1fa68_level0_row3\" class=\"row_heading level0 row3\" >domain</th>\n",
       "                        <td id=\"T_1fa68_row3_col0\" class=\"data row3 col0\" >0.37</td>\n",
       "            </tr>\n",
       "            <tr>\n",
       "                        <th id=\"T_1fa68_level0_row4\" class=\"row_heading level0 row4\" >name</th>\n",
       "                        <td id=\"T_1fa68_row4_col0\" class=\"data row4 col0\" >0.00</td>\n",
       "            </tr>\n",
       "            <tr>\n",
       "                        <th id=\"T_1fa68_level0_row5\" class=\"row_heading level0 row5\" >id</th>\n",
       "                        <td id=\"T_1fa68_row5_col0\" class=\"data row5 col0\" >0.00</td>\n",
       "            </tr>\n",
       "            <tr>\n",
       "                        <th id=\"T_1fa68_level0_row6\" class=\"row_heading level0 row6\" >investment_rounds</th>\n",
       "                        <td id=\"T_1fa68_row6_col0\" class=\"data row6 col0\" >0.00</td>\n",
       "            </tr>\n",
       "            <tr>\n",
       "                        <th id=\"T_1fa68_level0_row7\" class=\"row_heading level0 row7\" >invested_companies</th>\n",
       "                        <td id=\"T_1fa68_row7_col0\" class=\"data row7 col0\" >0.00</td>\n",
       "            </tr>\n",
       "            <tr>\n",
       "                        <th id=\"T_1fa68_level0_row8\" class=\"row_heading level0 row8\" >milestones</th>\n",
       "                        <td id=\"T_1fa68_row8_col0\" class=\"data row8 col0\" >0.00</td>\n",
       "            </tr>\n",
       "    </tbody></table>"
      ],
      "text/plain": [
       "<pandas.io.formats.style.Styler at 0x7fe5f75af4f0>"
      ]
     },
     "execution_count": 66,
     "metadata": {},
     "output_type": "execute_result"
    }
   ],
   "source": [
    "# Вычисляем процент пропущенных значений в df_fund\n",
    "missing = (df_fund.isna().sum() / df_fund.shape[0]).sort_values(ascending=False)\n",
    "\n",
    "# Преобразуем Series в df_fund\n",
    "missing_df = missing.to_frame(name='Missing')\n",
    "\n",
    "# Применяем градиентный фон к результатам\n",
    "styled_output = missing_df.style.background_gradient(cmap='coolwarm', axis=0).set_precision(2)\n",
    "\n",
    "styled_output"
   ]
  },
  {
   "cell_type": "markdown",
   "metadata": {},
   "source": [
    "Число пропусков в df_fund составляет: в name 2 (0,00%), \n",
    "founded_at 7047 (60%)\n",
    "domain  4290 (37%)\n",
    "network_username 9503 (82%)\n",
    "country_code 4599 (39%)"
   ]
  },
  {
   "cell_type": "code",
   "execution_count": 67,
   "metadata": {},
   "outputs": [],
   "source": [
    "# Оптимизируем целочисленный тип данных в датафрейме df_fund['id']\n",
    "df_people['id'] = pd.to_numeric(df_people['id'], downcast='integer')"
   ]
  },
  {
   "cell_type": "code",
   "execution_count": 68,
   "metadata": {},
   "outputs": [
    {
     "name": "stdout",
     "output_type": "stream",
     "text": [
      "<class 'pandas.core.frame.DataFrame'>\n",
      "RangeIndex: 226709 entries, 0 to 226708\n",
      "Data columns (total 5 columns):\n",
      " #   Column            Non-Null Count   Dtype  \n",
      "---  ------            --------------   -----  \n",
      " 0   id                226709 non-null  int32  \n",
      " 1   first_name        226704 non-null  object \n",
      " 2   last_name         226708 non-null  object \n",
      " 3   company_id        34615 non-null   float64\n",
      " 4   network_username  38867 non-null   object \n",
      "dtypes: float64(1), int32(1), object(3)\n",
      "memory usage: 7.8+ MB\n"
     ]
    }
   ],
   "source": [
    "df_people.info()"
   ]
  },
  {
   "cell_type": "code",
   "execution_count": 69,
   "metadata": {},
   "outputs": [
    {
     "data": {
      "text/plain": [
       "id                       0\n",
       "last_name                1\n",
       "first_name               5\n",
       "network_username    187842\n",
       "company_id          192094\n",
       "dtype: int64"
      ]
     },
     "execution_count": 69,
     "metadata": {},
     "output_type": "execute_result"
    }
   ],
   "source": [
    "# Вычисляем  сумму пропущенных значений в df_people\n",
    "df_people.isna().sum().sort_values(False)"
   ]
  },
  {
   "cell_type": "code",
   "execution_count": 70,
   "metadata": {},
   "outputs": [
    {
     "data": {
      "text/html": [
       "<style  type=\"text/css\" >\n",
       "#T_87daa_row0_col0{\n",
       "            background-color:  #b40426;\n",
       "            color:  #f1f1f1;\n",
       "        }#T_87daa_row1_col0{\n",
       "            background-color:  #bb1b2c;\n",
       "            color:  #f1f1f1;\n",
       "        }#T_87daa_row2_col0,#T_87daa_row3_col0,#T_87daa_row4_col0{\n",
       "            background-color:  #3b4cc0;\n",
       "            color:  #f1f1f1;\n",
       "        }</style><table id=\"T_87daa_\" ><thead>    <tr>        <th class=\"blank level0\" ></th>        <th class=\"col_heading level0 col0\" >Missing</th>    </tr></thead><tbody>\n",
       "                <tr>\n",
       "                        <th id=\"T_87daa_level0_row0\" class=\"row_heading level0 row0\" >company_id</th>\n",
       "                        <td id=\"T_87daa_row0_col0\" class=\"data row0 col0\" >0.85</td>\n",
       "            </tr>\n",
       "            <tr>\n",
       "                        <th id=\"T_87daa_level0_row1\" class=\"row_heading level0 row1\" >network_username</th>\n",
       "                        <td id=\"T_87daa_row1_col0\" class=\"data row1 col0\" >0.83</td>\n",
       "            </tr>\n",
       "            <tr>\n",
       "                        <th id=\"T_87daa_level0_row2\" class=\"row_heading level0 row2\" >first_name</th>\n",
       "                        <td id=\"T_87daa_row2_col0\" class=\"data row2 col0\" >0.00</td>\n",
       "            </tr>\n",
       "            <tr>\n",
       "                        <th id=\"T_87daa_level0_row3\" class=\"row_heading level0 row3\" >last_name</th>\n",
       "                        <td id=\"T_87daa_row3_col0\" class=\"data row3 col0\" >0.00</td>\n",
       "            </tr>\n",
       "            <tr>\n",
       "                        <th id=\"T_87daa_level0_row4\" class=\"row_heading level0 row4\" >id</th>\n",
       "                        <td id=\"T_87daa_row4_col0\" class=\"data row4 col0\" >0.00</td>\n",
       "            </tr>\n",
       "    </tbody></table>"
      ],
      "text/plain": [
       "<pandas.io.formats.style.Styler at 0x7fe5f74b4cd0>"
      ]
     },
     "execution_count": 70,
     "metadata": {},
     "output_type": "execute_result"
    }
   ],
   "source": [
    "# Вычисляем процент пропущенных значений в df_people\n",
    "missing = (df_people.isna().sum() / df_people.shape[0]).sort_values(ascending=False)\n",
    "\n",
    "# Преобразуем Series в df_education\n",
    "missing_df = missing.to_frame(name='Missing')\n",
    "\n",
    "# Применяем градиентный фон к результатам\n",
    "styled_output = missing_df.style.background_gradient(cmap='coolwarm', axis=0).set_precision(2)\n",
    "\n",
    "styled_output"
   ]
  },
  {
   "cell_type": "markdown",
   "metadata": {},
   "source": [
    "Число пропусков в df_people в столбце company_id - 192094 (85%), network_username - 187842 (83%), last_name -1 (0%)"
   ]
  },
  {
   "cell_type": "markdown",
   "metadata": {
    "id": "u60cHsn6rJg1"
   },
   "source": [
    "## Шаг 2. Предобработка данных, предварительное исследование"
   ]
  },
  {
   "cell_type": "markdown",
   "metadata": {
    "id": "g2bHIIjcrJg1"
   },
   "source": [
    "\n",
    "### 2.1. Раунды финансирования по годам"
   ]
  },
  {
   "cell_type": "code",
   "execution_count": 71,
   "metadata": {},
   "outputs": [
    {
     "data": {
      "text/plain": [
       "0        2005-10-01\n",
       "1        2007-01-01\n",
       "2        2008-05-19\n",
       "3               NaT\n",
       "4               NaT\n",
       "            ...    \n",
       "217769   2011-01-31\n",
       "217770   2011-01-13\n",
       "217771   2012-05-31\n",
       "217772   2013-12-03\n",
       "217773   2013-12-04\n",
       "Name: funded__at, Length: 217774, dtype: datetime64[ns]"
      ]
     },
     "metadata": {},
     "output_type": "display_data"
    }
   ],
   "source": [
    "display(df_company['funded__at'])"
   ]
  },
  {
   "cell_type": "code",
   "execution_count": 72,
   "metadata": {},
   "outputs": [],
   "source": [
    "# Преобразуем столбец funded__at в founded__year в datetime и извлекаем год\n",
    "df_company['funded__at'] = pd.to_datetime(df_company['funded__at']).dt.year"
   ]
  },
  {
   "cell_type": "code",
   "execution_count": 73,
   "metadata": {},
   "outputs": [
    {
     "name": "stdout",
     "output_type": "stream",
     "text": [
      "Статистические показатели столбца raised__amount:\n"
     ]
    },
    {
     "data": {
      "text/plain": [
       "count    5.292800e+04\n",
       "mean     7.946092e+06\n",
       "std      4.216821e+07\n",
       "min      0.000000e+00\n",
       "25%      2.463300e+05\n",
       "50%      1.600000e+06\n",
       "75%      6.700000e+06\n",
       "max      3.835050e+09\n",
       "Name: raised__amount, dtype: float64"
      ]
     },
     "execution_count": 73,
     "metadata": {},
     "output_type": "execute_result"
    }
   ],
   "source": [
    "# Изучаем статистические показатели столбца seats\n",
    "print('Статистические показатели столбца raised__amount:')\n",
    "df_company['raised__amount'].describe()"
   ]
  },
  {
   "cell_type": "markdown",
   "metadata": {},
   "source": [
    "На основании датасета company_and_rounds.csv. проведен анализ количества финансовых процедур. \n",
    "Общее количество раундов финансирования составило 52928 шт. Среднее финансирование 7946092.26 рублей, max составил 3835050000.00 рублей\n",
    "Можно предположить, что данные столбца \"raised__amount\" имеют правостороннее распределение. Значение стандартного отклонения значимо выше среднего —  42168205.89, при среднем 7946092.26, что указывает, что данные могут иметь незначительный разброс. Разница между минимальным и максимальным значениями это подтверждает."
   ]
  },
  {
   "cell_type": "code",
   "execution_count": 74,
   "metadata": {},
   "outputs": [
    {
     "name": "stdout",
     "output_type": "stream",
     "text": [
      "    funded__at  raised__amount\n",
      "0       1960.0             0.0\n",
      "1       1973.0             0.0\n",
      "2       1974.0             0.0\n",
      "3       1984.0         41000.0\n",
      "4       1985.0             0.0\n",
      "5       1987.0       1250000.0\n",
      "6       1989.0         15000.0\n",
      "7       1990.0       1000000.0\n",
      "8       1992.0       2000000.0\n",
      "9       1993.0         62500.0\n",
      "10      1994.0       6700000.0\n",
      "11      1995.0       2000000.0\n",
      "12      1996.0         12500.0\n",
      "13      1997.0       3300000.0\n",
      "14      1998.0        100000.0\n",
      "15      1999.0       2000000.0\n",
      "16      2000.0       4200000.0\n",
      "17      2001.0       3000000.0\n",
      "18      2002.0       4200000.0\n",
      "19      2003.0       3000000.0\n",
      "20      2004.0       5000000.0\n",
      "21      2005.0       5500000.0\n",
      "22      2006.0       5000000.0\n",
      "23      2007.0       3973320.0\n",
      "24      2008.0       3110000.0\n",
      "25      2009.0       2000000.0\n",
      "26      2010.0       1602500.0\n",
      "27      2011.0       1200000.0\n",
      "28      2012.0       1000000.0\n",
      "29      2013.0       1200000.0\n"
     ]
    }
   ],
   "source": [
    "# Вычисляем средние рейтинги по категориям\n",
    "funded__company = df_company.groupby('funded__at')['raised__amount'].median().reset_index()\n",
    "print(funded__company)"
   ]
  },
  {
   "cell_type": "code",
   "execution_count": 75,
   "metadata": {},
   "outputs": [
    {
     "name": "stdout",
     "output_type": "stream",
     "text": [
      "                     max     median        min\n",
      "funded__at                                    \n",
      "1960.0      5.000000e+07        0.0        0.0\n",
      "1973.0      0.000000e+00        0.0        0.0\n",
      "1974.0      0.000000e+00        0.0        0.0\n",
      "1984.0      1.000000e+05    41000.0        0.0\n",
      "1985.0      0.000000e+00        0.0        0.0\n",
      "1987.0      2.500000e+06  1250000.0        0.0\n",
      "1989.0      1.500000e+04    15000.0    15000.0\n",
      "1990.0      1.000000e+06  1000000.0  1000000.0\n",
      "1992.0      2.000000e+06  2000000.0  2000000.0\n",
      "1993.0      1.250000e+05    62500.0        0.0\n",
      "1994.0      1.300000e+07  6700000.0   400000.0\n",
      "1995.0      8.000000e+06  2000000.0        0.0\n",
      "1996.0      8.000000e+06    12500.0        0.0\n",
      "1997.0      4.100000e+07  3300000.0        0.0\n",
      "1998.0      5.535000e+07   100000.0        0.0\n",
      "1999.0      8.000000e+07  2000000.0        0.0\n",
      "2000.0      1.200000e+08  4200000.0        0.0\n",
      "2001.0      9.000000e+07  3000000.0        0.0\n",
      "2002.0      2.000000e+08  4200000.0        0.0\n",
      "2003.0      4.700000e+07  3000000.0        0.0\n",
      "2004.0      1.100000e+08  5000000.0        0.0\n",
      "2005.0      1.000000e+09  5500000.0        0.0\n",
      "2006.0      1.600000e+08  5000000.0        0.0\n",
      "2007.0      4.493000e+08  3973320.0        0.0\n",
      "2008.0      3.200000e+09  3110000.0        0.0\n",
      "2009.0      1.500000e+09  2000000.0        0.0\n",
      "2010.0      1.200000e+09  1602500.0        0.0\n",
      "2011.0      1.500000e+09  1200000.0        0.0\n",
      "2012.0      3.835050e+09  1000000.0        0.0\n",
      "2013.0      3.822520e+09  1200000.0        0.0\n"
     ]
    }
   ],
   "source": [
    "# Создаём сводную таблицу\n",
    "df_company_tabl = pd.pivot_table(\n",
    "    df_company, \n",
    "    values='raised__amount', \n",
    "    index='funded__at', \n",
    "    aggfunc={'raised__amount': ['min', 'max', 'median']}\n",
    ")\n",
    "print(df_company_tabl)"
   ]
  },
  {
   "cell_type": "code",
   "execution_count": 76,
   "metadata": {},
   "outputs": [
    {
     "name": "stdout",
     "output_type": "stream",
     "text": [
      "           funding__rounds raised__amount                \n",
      "                     count            max     median  min\n",
      "funded__at                                               \n",
      "1999.0                  76   8.000000e+07  2000000.0  0.0\n",
      "2000.0                 125   1.200000e+08  4200000.0  0.0\n",
      "2001.0                  95   9.000000e+07  3000000.0  0.0\n",
      "2002.0                 115   2.000000e+08  4200000.0  0.0\n",
      "2003.0                 154   4.700000e+07  3000000.0  0.0\n",
      "2004.0                 286   1.100000e+08  5000000.0  0.0\n",
      "2005.0                1624   1.000000e+09  5500000.0  0.0\n",
      "2006.0                2409   1.600000e+08  5000000.0  0.0\n",
      "2007.0                3220   4.493000e+08  3973320.0  0.0\n",
      "2008.0                3735   3.200000e+09  3110000.0  0.0\n",
      "2009.0                4112   1.500000e+09  2000000.0  0.0\n",
      "2010.0                6194   1.200000e+09  1602500.0  0.0\n",
      "2011.0                9162   1.500000e+09  1200000.0  0.0\n",
      "2012.0                9956   3.835050e+09  1000000.0  0.0\n",
      "2013.0               11042   3.822520e+09  1200000.0  0.0\n"
     ]
    }
   ],
   "source": [
    "# Создаём сводную таблицу\n",
    "df_company_tabl = pd.pivot_table(\n",
    "    df_company,  # используем отфильтрованные данные\n",
    "    values=['raised__amount', 'funding__rounds'],        \n",
    "    index='funded__at', \n",
    "    aggfunc={'raised__amount': ['min', 'max', 'median'], 'funding__rounds': ['count']}\n",
    ")\n",
    "\n",
    "# Фильтрация по количеству funding__rounds > 50\n",
    "df_company_tabl = df_company_tabl[df_company_tabl[('funding__rounds', 'count')] > 50]\n",
    "\n",
    "print(df_company_tabl)"
   ]
  },
  {
   "cell_type": "markdown",
   "metadata": {},
   "source": [
    "В период с 1960 года по 2013год рост раунов отмечается с 2005 года. По этого периода в пределах 10 раундов отмечалось вплодь до 1997 года, финансирование составляло  до 8.000000e+06.\n",
    "В период с 2000 до 2005 год число раундов составило от 100 до 286 макс. финансирование составляло 2.000000e+08 (2002 год).\n",
    "С 2005 года стабильна тенденция по росту числа раундов. Пик прихолится на 2013 год. \n",
    "Максимальное количество рандов отмечалось в 2013 году. В этом же г.максимальная сумма финансирования составила 3.822520e+09. Нулевых раундов не было. При снижении максимального финансирования в 2013 году по сравнению с 2012(3.822520e+09 против 3.835050e+09), среднее финансирование возрасло (2013 год 1200000.0, 2012 год -  1000000.0).\n",
    "Обращает внимание минимальное инансирование. Только в 1994, 1998, 1990, 1992 годах оно было плюсовым. В остальные годы оно нулевое."
   ]
  },
  {
   "cell_type": "code",
   "execution_count": 77,
   "metadata": {
    "id": "HB81GTA9n04M"
   },
   "outputs": [
    {
     "data": {
      "image/png": "[encoded data removed]",
      "text/plain": [
       "<Figure size 1152x432 with 2 Axes>"
      ]
     },
     "metadata": {
      "needs_background": "light"
     },
     "output_type": "display_data"
    }
   ],
   "source": [
    "# Группируем данные\n",
    "df_agg = df_company.groupby('funded__at').agg({'raised__amount':'median', 'funding__rounds':'count'})\n",
    "\n",
    "# Фильтруем данные, оставляя только те, где количество раундов больше 50\n",
    "df_agg = df_agg[df_agg['funding__rounds'] > 50]\n",
    "\n",
    "# Строим график\n",
    "axes = df_agg.plot(kind='line',\n",
    "                   subplots=True,\n",
    "                   sharex=True,\n",
    "                   sharey=False,\n",
    "                   legend=False,\n",
    "                   marker='o', # Установка маркера для точек\n",
    "                   title=['Сумма финансирования по годам', 'Количество раундов'],\n",
    "                   figsize=(16, 6))\n",
    "\n",
    "# Устанавливаем подпись для оси Y каждого из подграфиков\n",
    "axes[0].set_ylabel('Сумма финансирования')\n",
    "axes[1].set_ylabel('Количество раундов')\n",
    "\n",
    "# Включаем сетку для каждого из подграфиков\n",
    "axes[0].grid(which='both')\n",
    "axes[1].grid(which='both')\n",
    "\n",
    "# Устанавливаем размер шрифта для меток оси Y\n",
    "axes[0].tick_params(axis='y', labelsize=14)  # Установите нужный размер шрифта\n",
    "axes[1].tick_params(axis='x', labelsize=14)\n",
    "\n",
    "# Подписываем ось X\n",
    "plt.xlabel('Год основания')\n",
    "\n",
    "pd.options.display.float_format = '{:.2f}'.format\n",
    "\n",
    "plt.show()"
   ]
  },
  {
   "cell_type": "markdown",
   "metadata": {},
   "source": [
    "С 1999 года число раундов зафиксировано больше 50.\n",
    "в период с 1999 по 2004 год количество раундов практически на одной прямой, нет ни роста ни падения. При этом, сумма финансирования имеет пиковое распределение. Рост в 2004 году в сравнении с 1999 годом. Далее два пика 2000 и 2002 года. \n",
    "С 2003 года визуализация наглядно показывает рост числа раундов и финансирования. Пик финансирования в 2005 года, возможно обусловлено макс выбросами.\n",
    "Максимальное число раундов в 2013 год. При этом, отмечается тенденция к снижению финансирования с 2005 года. \n",
    "есть тенденция к \"дроблению\" финансирования - снижение объемов за счет увеличения количества раундов.\n",
    "Можно сказать, что есть тенденция к \"дроблению\" финансирования - снижение объемов за счет увеличения количества раундов.\n",
    "Максимумальное финансирование составило 1.300000e+07. среднее 6700000.0. Но, минимальная продажа составла   400000.0"
   ]
  },
  {
   "cell_type": "markdown",
   "metadata": {
    "id": "45if1en1rJg2"
   },
   "source": [
    "\n",
    "### 2.2. Люди и их образование\n",
    "\n",
    "Заказчик хочет понять, зависит ли полнота сведений о сотрудниках (например, об их образовании) от размера компаний.\n",
    "\n",
    "* Оцените, насколько информация об образовании сотрудников полна. Используя датасеты `people.csv` и `education.csv`, разделите все компании на несколько групп по количеству сотрудников и оцените среднюю долю сотрудников без информации об образовании в каждой из групп. Обоснуйте выбранные границы групп.\n",
    "\n",
    "* Оцените, возможно ли для выполнения задания присоединить к этим таблицам ещё и таблицу `degrees.csv`."
   ]
  },
  {
   "cell_type": "code",
   "execution_count": 78,
   "metadata": {},
   "outputs": [
    {
     "data": {
      "text/html": [
       "<div>\n",
       "<style scoped>\n",
       "    .dataframe tbody tr th:only-of-type {\n",
       "        vertical-align: middle;\n",
       "    }\n",
       "\n",
       "    .dataframe tbody tr th {\n",
       "        vertical-align: top;\n",
       "    }\n",
       "\n",
       "    .dataframe thead th {\n",
       "        text-align: right;\n",
       "    }\n",
       "</style>\n",
       "<table border=\"1\" class=\"dataframe\">\n",
       "  <thead>\n",
       "    <tr style=\"text-align: right;\">\n",
       "      <th></th>\n",
       "      <th>id_x</th>\n",
       "      <th>first_name</th>\n",
       "      <th>last_name</th>\n",
       "      <th>company_id</th>\n",
       "      <th>network_username</th>\n",
       "      <th>id_y</th>\n",
       "      <th>person_id</th>\n",
       "      <th>instituition</th>\n",
       "      <th>graduated_at</th>\n",
       "    </tr>\n",
       "  </thead>\n",
       "  <tbody>\n",
       "    <tr>\n",
       "      <th>0</th>\n",
       "      <td>10</td>\n",
       "      <td>Mark</td>\n",
       "      <td>Zuckerberg</td>\n",
       "      <td>5.00</td>\n",
       "      <td>NaN</td>\n",
       "      <td>2415.00</td>\n",
       "      <td>10.00</td>\n",
       "      <td>Harvard University</td>\n",
       "      <td>NaT</td>\n",
       "    </tr>\n",
       "    <tr>\n",
       "      <th>1</th>\n",
       "      <td>100</td>\n",
       "      <td>Peter</td>\n",
       "      <td>Lester</td>\n",
       "      <td>27.00</td>\n",
       "      <td>NaN</td>\n",
       "      <td>NaN</td>\n",
       "      <td>NaN</td>\n",
       "      <td>NaN</td>\n",
       "      <td>NaT</td>\n",
       "    </tr>\n",
       "    <tr>\n",
       "      <th>2</th>\n",
       "      <td>1000</td>\n",
       "      <td>Dr. Steven</td>\n",
       "      <td>E. Saunders</td>\n",
       "      <td>292.00</td>\n",
       "      <td>NaN</td>\n",
       "      <td>NaN</td>\n",
       "      <td>NaN</td>\n",
       "      <td>NaN</td>\n",
       "      <td>NaT</td>\n",
       "    </tr>\n",
       "    <tr>\n",
       "      <th>3</th>\n",
       "      <td>10000</td>\n",
       "      <td>Neil</td>\n",
       "      <td>Capel</td>\n",
       "      <td>2526.00</td>\n",
       "      <td>NaN</td>\n",
       "      <td>NaN</td>\n",
       "      <td>NaN</td>\n",
       "      <td>NaN</td>\n",
       "      <td>NaT</td>\n",
       "    </tr>\n",
       "    <tr>\n",
       "      <th>4</th>\n",
       "      <td>100000</td>\n",
       "      <td>Sue</td>\n",
       "      <td>Pilsch</td>\n",
       "      <td>NaN</td>\n",
       "      <td>NaN</td>\n",
       "      <td>NaN</td>\n",
       "      <td>NaN</td>\n",
       "      <td>NaN</td>\n",
       "      <td>NaT</td>\n",
       "    </tr>\n",
       "    <tr>\n",
       "      <th>...</th>\n",
       "      <td>...</td>\n",
       "      <td>...</td>\n",
       "      <td>...</td>\n",
       "      <td>...</td>\n",
       "      <td>...</td>\n",
       "      <td>...</td>\n",
       "      <td>...</td>\n",
       "      <td>...</td>\n",
       "      <td>...</td>\n",
       "    </tr>\n",
       "    <tr>\n",
       "      <th>267689</th>\n",
       "      <td>99999</td>\n",
       "      <td>Ramon</td>\n",
       "      <td>Peypoch</td>\n",
       "      <td>NaN</td>\n",
       "      <td>NaN</td>\n",
       "      <td>NaN</td>\n",
       "      <td>NaN</td>\n",
       "      <td>NaN</td>\n",
       "      <td>NaT</td>\n",
       "    </tr>\n",
       "    <tr>\n",
       "      <th>267690</th>\n",
       "      <td>174088</td>\n",
       "      <td>Dr. Ray</td>\n",
       "      <td>Woods</td>\n",
       "      <td>188200.00</td>\n",
       "      <td>network</td>\n",
       "      <td>25958.00</td>\n",
       "      <td>174088.00</td>\n",
       "      <td>Sydney University Medical School</td>\n",
       "      <td>1982-01-01</td>\n",
       "    </tr>\n",
       "    <tr>\n",
       "      <th>267691</th>\n",
       "      <td>118386</td>\n",
       "      <td>Ricardo</td>\n",
       "      <td>Durand</td>\n",
       "      <td>143419.00</td>\n",
       "      <td>itechsocialnet</td>\n",
       "      <td>18871.00</td>\n",
       "      <td>118386.00</td>\n",
       "      <td>ESCS</td>\n",
       "      <td>2004-01-01</td>\n",
       "    </tr>\n",
       "    <tr>\n",
       "      <th>267692</th>\n",
       "      <td>175827</td>\n",
       "      <td>mahesh</td>\n",
       "      <td>kumar</td>\n",
       "      <td>NaN</td>\n",
       "      <td>socialnethubs</td>\n",
       "      <td>NaN</td>\n",
       "      <td>NaN</td>\n",
       "      <td>NaN</td>\n",
       "      <td>NaT</td>\n",
       "    </tr>\n",
       "    <tr>\n",
       "      <th>267693</th>\n",
       "      <td>178190</td>\n",
       "      <td>Alex</td>\n",
       "      <td>Smith</td>\n",
       "      <td>NaN</td>\n",
       "      <td>esocialnetlike</td>\n",
       "      <td>NaN</td>\n",
       "      <td>NaN</td>\n",
       "      <td>NaN</td>\n",
       "      <td>NaT</td>\n",
       "    </tr>\n",
       "  </tbody>\n",
       "</table>\n",
       "<p>267694 rows × 9 columns</p>\n",
       "</div>"
      ],
      "text/plain": [
       "          id_x  first_name    last_name  company_id network_username     id_y  \\\n",
       "0           10        Mark   Zuckerberg        5.00              NaN  2415.00   \n",
       "1          100       Peter       Lester       27.00              NaN      NaN   \n",
       "2         1000  Dr. Steven  E. Saunders      292.00              NaN      NaN   \n",
       "3        10000        Neil        Capel     2526.00              NaN      NaN   \n",
       "4       100000         Sue       Pilsch         NaN              NaN      NaN   \n",
       "...        ...         ...          ...         ...              ...      ...   \n",
       "267689   99999       Ramon      Peypoch         NaN              NaN      NaN   \n",
       "267690  174088     Dr. Ray        Woods   188200.00          network 25958.00   \n",
       "267691  118386     Ricardo       Durand   143419.00   itechsocialnet 18871.00   \n",
       "267692  175827      mahesh        kumar         NaN    socialnethubs      NaN   \n",
       "267693  178190        Alex        Smith         NaN   esocialnetlike      NaN   \n",
       "\n",
       "        person_id                      instituition graduated_at  \n",
       "0           10.00                Harvard University          NaT  \n",
       "1             NaN                               NaN          NaT  \n",
       "2             NaN                               NaN          NaT  \n",
       "3             NaN                               NaN          NaT  \n",
       "4             NaN                               NaN          NaT  \n",
       "...           ...                               ...          ...  \n",
       "267689        NaN                               NaN          NaT  \n",
       "267690  174088.00  Sydney University Medical School   1982-01-01  \n",
       "267691  118386.00                              ESCS   2004-01-01  \n",
       "267692        NaN                               NaN          NaT  \n",
       "267693        NaN                               NaN          NaT  \n",
       "\n",
       "[267694 rows x 9 columns]"
      ]
     },
     "metadata": {},
     "output_type": "display_data"
    }
   ],
   "source": [
    "# Объединение данных\n",
    "df_sorted = df_people.merge(df_education, how='left', left_on='id', right_on='person_id')\n",
    "#sorted_people_education_degrees = sorted_people_education.merge(df_degrees, how='left', left_on='id_y', right_on='id')\n",
    "display(df_sorted)"
   ]
  },
  {
   "cell_type": "code",
   "execution_count": 79,
   "metadata": {},
   "outputs": [
    {
     "data": {
      "text/plain": [
       "id_x                     0\n",
       "first_name               5\n",
       "last_name                1\n",
       "company_id          222905\n",
       "network_username    216919\n",
       "id_y                158638\n",
       "person_id           158638\n",
       "instituition        158692\n",
       "graduated_at        210003\n",
       "dtype: int64"
      ]
     },
     "execution_count": 79,
     "metadata": {},
     "output_type": "execute_result"
    }
   ],
   "source": [
    "df_sorted.isna().sum()"
   ]
  },
  {
   "cell_type": "code",
   "execution_count": 80,
   "metadata": {},
   "outputs": [
    {
     "data": {
      "text/plain": [
       "0"
      ]
     },
     "execution_count": 80,
     "metadata": {},
     "output_type": "execute_result"
    }
   ],
   "source": [
    "df_sorted.duplicated().sum() "
   ]
  },
  {
   "cell_type": "markdown",
   "metadata": {},
   "source": [
    "Дубликатов в датасете нет"
   ]
  },
  {
   "cell_type": "code",
   "execution_count": 81,
   "metadata": {},
   "outputs": [
    {
     "name": "stdout",
     "output_type": "stream",
     "text": [
      "Доля сотрудников с образованим 40.72\n"
     ]
    }
   ],
   "source": [
    "# Группируем по 'id_x' и суммируем значения в столбце 'instituition'\n",
    "df_sorted['instituition'].value_counts().reset_index()\n",
    "df_sorted_plot = round(df_sorted['instituition'].count()/len(df_sorted['instituition']) * 100, 2)\n",
    "print( f'Доля сотрудников с образованим', df_sorted_plot)"
   ]
  },
  {
   "cell_type": "markdown",
   "metadata": {},
   "source": [
    "40.72% сотрудников с образованием. Следовательно,  основная доля сотрудников без образования."
   ]
  },
  {
   "cell_type": "code",
   "execution_count": 82,
   "metadata": {},
   "outputs": [
    {
     "data": {
      "text/plain": [
       "id_x                     0\n",
       "first_name               5\n",
       "last_name                1\n",
       "company_id          222905\n",
       "network_username    216919\n",
       "id_y                158638\n",
       "person_id           158638\n",
       "instituition        158692\n",
       "graduated_at        210003\n",
       "dtype: int64"
      ]
     },
     "execution_count": 82,
     "metadata": {},
     "output_type": "execute_result"
    }
   ],
   "source": [
    "df_sorted.isna().sum()"
   ]
  },
  {
   "cell_type": "code",
   "execution_count": 83,
   "metadata": {},
   "outputs": [],
   "source": [
    "#присоединим таблицу degree\n",
    "df_sorted_degree = df_sorted.merge(df_degrees, how='left', left_on='id_y', right_on='id')"
   ]
  },
  {
   "cell_type": "code",
   "execution_count": 84,
   "metadata": {},
   "outputs": [
    {
     "name": "stdout",
     "output_type": "stream",
     "text": [
      "Доля сотрудников с образованим 36.57\n"
     ]
    }
   ],
   "source": [
    "df_sorted_degree['degree_type'].value_counts().reset_index()\n",
    "df_sorted_degree_plot = round(df_sorted_degree['degree_type'].count()/len(df_sorted_degree['degree_type']) * 100, 2)\n",
    "print( f'Доля сотрудников с образованим', df_sorted_degree_plot)"
   ]
  },
  {
   "cell_type": "code",
   "execution_count": 85,
   "metadata": {},
   "outputs": [
    {
     "data": {
      "text/plain": [
       "id_x                     0\n",
       "first_name               5\n",
       "last_name                1\n",
       "company_id          222905\n",
       "network_username    216919\n",
       "id_y                158638\n",
       "person_id           158638\n",
       "instituition        158692\n",
       "graduated_at        210003\n",
       "id                  158638\n",
       "object_id           158638\n",
       "degree_type         169808\n",
       "subject             186804\n",
       "dtype: int64"
      ]
     },
     "execution_count": 85,
     "metadata": {},
     "output_type": "execute_result"
    }
   ],
   "source": [
    "df_sorted_degree.isna().sum()"
   ]
  },
  {
   "cell_type": "markdown",
   "metadata": {},
   "source": [
    "Доля сотрудников стала меньше и составила 36,57%"
   ]
  },
  {
   "cell_type": "code",
   "execution_count": 86,
   "metadata": {
    "scrolled": true
   },
   "outputs": [
    {
     "name": "stdout",
     "output_type": "stream",
     "text": [
      "       company_id  total_employees  employees_with_education\n",
      "0            1.00                3                         2\n",
      "1            2.00                1                         1\n",
      "2            3.00                5                         4\n",
      "3            4.00               18                        17\n",
      "4            5.00               84                        68\n",
      "...           ...              ...                       ...\n",
      "22917   285897.00                2                         2\n",
      "22918   285953.00                1                         0\n",
      "22919   285972.00                2                         1\n",
      "22920   285996.00                1                         1\n",
      "22921   286091.00                7                         5\n",
      "\n",
      "[22922 rows x 3 columns]\n"
     ]
    }
   ],
   "source": [
    "# Проверки наличия информации об образовании\n",
    "def create_is_edu(x):\n",
    "    return not pd.isna(x) and x != 'NaN'\n",
    "\n",
    "# Применение функции к столбцу 'instituition'\n",
    "df_sorted_degree['has_education'] = df_sorted_degree['instituition'].apply(create_is_edu)\n",
    "\n",
    "# Группировка по компаниям и подсчет сотрудников\n",
    "company_group = df_sorted_degree.groupby('company_id').agg(\n",
    "    total_employees=('first_name', 'count'),  # считаем количество сотрудников\n",
    "    employees_with_education=('has_education', 'sum') # считаем количество сотрудников c образованием\n",
    ").reset_index()\n",
    "print(company_group)"
   ]
  },
  {
   "cell_type": "code",
   "execution_count": 87,
   "metadata": {},
   "outputs": [
    {
     "name": "stdout",
     "output_type": "stream",
     "text": [
      "  size_group  percentage_without_education\n",
      "0        1-5                          0.47\n",
      "1       6-10                          0.30\n",
      "2      11-20                          0.32\n",
      "3      21-50                          0.21\n",
      "4     51-100                          0.19\n",
      "5       100+                          0.17\n"
     ]
    }
   ],
   "source": [
    "# Расчет доли сотрудников без информации об образовании\n",
    "company_group['employees_without_education'] = company_group['total_employees'] - company_group['employees_with_education']\n",
    "company_group['percentage_without_education'] = company_group['employees_without_education'] / company_group['total_employees']\n",
    "\n",
    "# Определение групп по количеству сотрудников\n",
    "bins = [0, 5, 10, 20, 50, 100, float('inf')]\n",
    "labels = ['1-5', '6-10', '11-20', '21-50', '51-100', '100+']\n",
    "company_group['size_group'] = pd.cut(\n",
    "    company_group['total_employees'], \n",
    "    bins=bins, \n",
    "    labels=labels, \n",
    "    right=False)\n",
    "\n",
    "# Расчет средней доли сотрудников без информации об образовании в каждой группе\n",
    "average_percentage = company_group.groupby('size_group')['percentage_without_education'].mean().reset_index()\n",
    "\n",
    "# Печать результата\n",
    "print(average_percentage)\n"
   ]
  },
  {
   "cell_type": "markdown",
   "metadata": {},
   "source": [
    "### 2.3. Объединять или не объединять — вот в чём вопрос\n",
    "\n",
    "Некоторые названия столбцов встречаются в датасетах чаще других. И, например, в результате предварительной проверки датасетов было выяснено, что столбец `company_id` подходит для объединения данных, так как большая часть значений встречается в разных датасетах не один, а несколько раз. Этот столбец может быть использован для объединения данных.\n",
    "\n",
    "* Установите, подходит ли для объединения данных столбец `network_username`, который встречается в нескольких датасетах. Нам необходимо понимать, дублируется ли для разных датасетов информация в столбцах с таким названием, и если да — то насколько часто.\n",
    "\n",
    "* Оцените, можно ли использовать столбцы с именем `network_username` для объединения данных."
   ]
  },
  {
   "cell_type": "code",
   "execution_count": 88,
   "metadata": {
    "id": "Cf5IjfOQrJg1"
   },
   "outputs": [
    {
     "name": "stdout",
     "output_type": "stream",
     "text": [
      "<class 'pandas.core.frame.DataFrame'>\n",
      "RangeIndex: 217774 entries, 0 to 217773\n",
      "Data columns (total 23 columns):\n",
      " #   Column                 Non-Null Count   Dtype         \n",
      "---  ------                 --------------   -----         \n",
      " 0   company__id            217472 non-null  float64       \n",
      " 1   name                   217472 non-null  object        \n",
      " 2   category__code         143886 non-null  object        \n",
      " 3   status                 217472 non-null  object        \n",
      " 4   founded__at            109956 non-null  datetime64[ns]\n",
      " 5   closed__at             3449 non-null    datetime64[ns]\n",
      " 6   domain                 147159 non-null  object        \n",
      " 7   network__username      95534 non-null   object        \n",
      " 8   country__code          108607 non-null  object        \n",
      " 9   investment__rounds     217472 non-null  float64       \n",
      " 10  funding__rounds        217472 non-null  float64       \n",
      " 11  funding__total         217472 non-null  float64       \n",
      " 12  milestones             217472 non-null  float64       \n",
      " 13  funding__round__id     52928 non-null   float64       \n",
      " 14  company__id_1          52928 non-null   float64       \n",
      " 15  funded__at             52680 non-null   float64       \n",
      " 16  funding__round__type   52928 non-null   object        \n",
      " 17  raised__amount         52928 non-null   float64       \n",
      " 18  pre__money__valuation  52928 non-null   float64       \n",
      " 19  participants           52928 non-null   float64       \n",
      " 20  is__first__round       52928 non-null   float64       \n",
      " 21  is__last__round        52928 non-null   float64       \n",
      " 22  company_ID             217774 non-null  object        \n",
      "dtypes: datetime64[ns](2), float64(13), object(8)\n",
      "memory usage: 38.2+ MB\n"
     ]
    }
   ],
   "source": [
    "df_company.info()"
   ]
  },
  {
   "cell_type": "code",
   "execution_count": 89,
   "metadata": {},
   "outputs": [
    {
     "name": "stdout",
     "output_type": "stream",
     "text": [
      "Число уникальных значений в столбце: 79571\n",
      "Число пропусков в столбце: 122240\n"
     ]
    }
   ],
   "source": [
    "unique_count = df_company['network__username'].nunique()\n",
    "print(f'Число уникальных значений в столбце: {unique_count}')\n",
    "network_username_isna = df_company['network__username'].isna().sum()\n",
    "print(f'Число пропусков в столбце: {network_username_isna}')"
   ]
  },
  {
   "cell_type": "code",
   "execution_count": 90,
   "metadata": {},
   "outputs": [
    {
     "name": "stdout",
     "output_type": "stream",
     "text": [
      "Число уникальных значений в столбце: 38421\n",
      "Число пропусков в столбце: 187842\n"
     ]
    }
   ],
   "source": [
    "unique_count = df_people['network_username'].nunique()\n",
    "print(f'Число уникальных значений в столбце: {unique_count}')\n",
    "network_username_isna = df_people['network_username'].isna().sum()\n",
    "print(f'Число пропусков в столбце: {network_username_isna}')"
   ]
  },
  {
   "cell_type": "code",
   "execution_count": 91,
   "metadata": {},
   "outputs": [
    {
     "name": "stdout",
     "output_type": "stream",
     "text": [
      "<class 'pandas.core.frame.DataFrame'>\n",
      "RangeIndex: 226709 entries, 0 to 226708\n",
      "Data columns (total 5 columns):\n",
      " #   Column            Non-Null Count   Dtype  \n",
      "---  ------            --------------   -----  \n",
      " 0   id                226709 non-null  int32  \n",
      " 1   first_name        226704 non-null  object \n",
      " 2   last_name         226708 non-null  object \n",
      " 3   company_id        34615 non-null   float64\n",
      " 4   network_username  38867 non-null   object \n",
      "dtypes: float64(1), int32(1), object(3)\n",
      "memory usage: 7.8+ MB\n"
     ]
    }
   ],
   "source": [
    "df_people.info()"
   ]
  },
  {
   "cell_type": "code",
   "execution_count": 92,
   "metadata": {},
   "outputs": [
    {
     "name": "stdout",
     "output_type": "stream",
     "text": [
      "Число уникальных значений в столбце: 2098\n",
      "Число пропусков в столбце: 9503\n"
     ]
    }
   ],
   "source": [
    "unique_count = df_fund['network_username'].nunique()\n",
    "print(f'Число уникальных значений в столбце: {unique_count}')\n",
    "network_username_isna = df_fund['network_username'].isna().sum()\n",
    "print(f'Число пропусков в столбце: {network_username_isna}')"
   ]
  },
  {
   "cell_type": "code",
   "execution_count": 93,
   "metadata": {},
   "outputs": [
    {
     "name": "stdout",
     "output_type": "stream",
     "text": [
      "<class 'pandas.core.frame.DataFrame'>\n",
      "RangeIndex: 11652 entries, 0 to 11651\n",
      "Data columns (total 9 columns):\n",
      " #   Column              Non-Null Count  Dtype         \n",
      "---  ------              --------------  -----         \n",
      " 0   id                  11652 non-null  int64         \n",
      " 1   name                11650 non-null  object        \n",
      " 2   founded_at          4605 non-null   datetime64[ns]\n",
      " 3   domain              7362 non-null   object        \n",
      " 4   network_username    2149 non-null   object        \n",
      " 5   country_code        7053 non-null   object        \n",
      " 6   investment_rounds   11652 non-null  int64         \n",
      " 7   invested_companies  11652 non-null  int64         \n",
      " 8   milestones          11652 non-null  int64         \n",
      "dtypes: datetime64[ns](1), int64(4), object(4)\n",
      "memory usage: 819.4+ KB\n"
     ]
    }
   ],
   "source": [
    "df_fund.info()"
   ]
  },
  {
   "cell_type": "markdown",
   "metadata": {},
   "source": [
    "в датасете df_company столбец network__username имеет 122240 строка пустая, уникальных значений 79571. Всего 217774 строки\n",
    "в датасете df_people столбец network__username имеет 187842 строка пустая, уникальных значений 38421. Всего 217774 строки\n",
    "в датасете df_fund столбец network__username имеет 9503 строк пустых, уникальных значений 2098. Всего 11652 строки.\n"
   ]
  },
  {
   "cell_type": "code",
   "execution_count": 94,
   "metadata": {},
   "outputs": [
    {
     "name": "stdout",
     "output_type": "stream",
     "text": [
      "0        False\n",
      "1         True\n",
      "2        False\n",
      "3        False\n",
      "4        False\n",
      "         ...  \n",
      "79567    False\n",
      "79568    False\n",
      "79569    False\n",
      "79570    False\n",
      "79571    False\n",
      "Length: 79572, dtype: bool\n",
      "Число пересечений: 2200\n"
     ]
    }
   ],
   "source": [
    "# Создание списка уникальных значений в df_company\n",
    "company_network_unique = df_company['network__username'].unique().tolist() \n",
    "# Создание списка уникальных значений в df_people\n",
    "people_network_unique = df_people['network_username'].unique().tolist() \n",
    "\n",
    "# Пересечение значений\n",
    "intersection = pd.Series(company_network_unique).isin(people_network_unique) \n",
    "print(intersection)\n",
    "\n",
    "# Подсчет числа пересечений\n",
    "count_intersections = intersection.sum()\n",
    "\n",
    "print(f'Число пересечений: {count_intersections}')"
   ]
  },
  {
   "cell_type": "code",
   "execution_count": 95,
   "metadata": {},
   "outputs": [
    {
     "name": "stdout",
     "output_type": "stream",
     "text": [
      "0        False\n",
      "1         True\n",
      "2        False\n",
      "3        False\n",
      "4        False\n",
      "         ...  \n",
      "79567    False\n",
      "79568    False\n",
      "79569    False\n",
      "79570    False\n",
      "79571    False\n",
      "Length: 79572, dtype: bool\n",
      "Число пересечений: 71\n"
     ]
    }
   ],
   "source": [
    "# Создание списка уникальных значений в df_company\n",
    "company_network_unique = df_company['network__username'].unique().tolist() \n",
    "# Создание списка уникальных значений в df_people\n",
    "fund_network_unique = df_fund['network_username'].unique().tolist() \n",
    "\n",
    "# Пересечение значений\n",
    "intersection = pd.Series(company_network_unique).isin(fund_network_unique) \n",
    "print(intersection)\n",
    "\n",
    "# Подсчет числа пересечений\n",
    "count_intersections = intersection.sum()\n",
    "\n",
    "print(f'Число пересечений: {count_intersections}')"
   ]
  },
  {
   "cell_type": "code",
   "execution_count": 96,
   "metadata": {},
   "outputs": [
    {
     "name": "stdout",
     "output_type": "stream",
     "text": [
      "0         True\n",
      "1        False\n",
      "2        False\n",
      "3        False\n",
      "4        False\n",
      "         ...  \n",
      "38417    False\n",
      "38418    False\n",
      "38419    False\n",
      "38420    False\n",
      "38421    False\n",
      "Length: 38422, dtype: bool\n",
      "Число пересечений: 80\n"
     ]
    }
   ],
   "source": [
    "# Пересечение значений\n",
    "intersection = pd.Series(people_network_unique).isin(fund_network_unique) \n",
    "print(intersection)\n",
    "\n",
    "# Подсчет числа пересечений\n",
    "count_intersections = intersection.sum()\n",
    "\n",
    "print(f'Число пересечений: {count_intersections}')"
   ]
  },
  {
   "cell_type": "markdown",
   "metadata": {},
   "source": [
    "При пересечений датасетов df_company и df_people пересечений значений по столбцу network__username 2200.\n",
    "При пересечении датасетов df_company и  df_fund пересечений значений по столбцу network__username 71.\n",
    "При пересечении датасетов df_people и  df_fund пересечений значений по столбцу network__username 80.\n",
    "\n",
    "Следовательно,объединение df_people и  df_company  более целесообразно в виду большего количества персечений. Большее количество строк так же доказывает, что объединение будет более информативным"
   ]
  },
  {
   "cell_type": "markdown",
   "metadata": {
    "id": "EHcODomVrJg1"
   },
   "source": [
    "\n",
    "### 2.4. Проблемный датасет и причина возникновения пропусков\n",
    "\n",
    "Во время собственного анализа данных у заказчика больше всего вопросов возникло к датасету `company_and_rounds.csv`. В нём много пропусков как раз в информации о раундах, которая заказчику важна. Хотя информация об общем объёме финансирования по раундам присутствует в других датасетах, заказчик считает данные `company_and_rounds.csv` о размере средств наиболее верными.\n",
    "\n",
    "* Любым удобным способом приведите данные в вид, который позволяет проводить анализ в разрезе отдельных компаний. Можно изменять форму данных, порядок их хранения. Обратите внимание на структуру датасета, порядок и названия столбцов, проанализируйте значения.\n",
    "\n",
    "По гипотезе заказчика данные по компаниям из этой таблицы раньше хранились иначе, более удобным для исследования образом.\n",
    "\n",
    "* Максимальным образом сохраняя данные, сохранив их связность и исключив возможные возникающие при этом ошибки, подготовьте данные так, чтобы удобно было отобрать компании по параметрам и рассчитать показатели из расчёта на одну компанию."
   ]
  },
  {
   "cell_type": "code",
   "execution_count": 97,
   "metadata": {
    "id": "tJ6Sl6MKrJg1"
   },
   "outputs": [
    {
     "data": {
      "text/plain": [
       "Index(['company__id', 'name', 'category__code', 'status', 'founded__at',\n",
       "       'closed__at', 'domain', 'network__username', 'country__code',\n",
       "       'investment__rounds', 'funding__rounds', 'funding__total', 'milestones',\n",
       "       'funding__round__id', 'company__id_1', 'funded__at',\n",
       "       'funding__round__type', 'raised__amount', 'pre__money__valuation',\n",
       "       'participants', 'is__first__round', 'is__last__round', 'company_ID'],\n",
       "      dtype='object')"
      ]
     },
     "execution_count": 97,
     "metadata": {},
     "output_type": "execute_result"
    }
   ],
   "source": [
    "df_company.columns"
   ]
  },
  {
   "cell_type": "code",
   "execution_count": 98,
   "metadata": {
    "id": "SFfUmzron0Tc"
   },
   "outputs": [
    {
     "data": {
      "text/plain": [
       "company__id                 302\n",
       "name                        302\n",
       "category__code            73888\n",
       "status                      302\n",
       "founded__at              107818\n",
       "closed__at               214325\n",
       "domain                    70615\n",
       "network__username        122240\n",
       "country__code            109167\n",
       "investment__rounds          302\n",
       "funding__rounds             302\n",
       "funding__total              302\n",
       "milestones                  302\n",
       "funding__round__id       164846\n",
       "company__id_1            164846\n",
       "funded__at               165094\n",
       "funding__round__type     164846\n",
       "raised__amount           164846\n",
       "pre__money__valuation    164846\n",
       "participants             164846\n",
       "is__first__round         164846\n",
       "is__last__round          164846\n",
       "company_ID                    0\n",
       "dtype: int64"
      ]
     },
     "execution_count": 98,
     "metadata": {},
     "output_type": "execute_result"
    }
   ],
   "source": [
    "df_company.isna().sum()"
   ]
  },
  {
   "cell_type": "code",
   "execution_count": 99,
   "metadata": {},
   "outputs": [
    {
     "name": "stdout",
     "output_type": "stream",
     "text": [
      "<class 'pandas.core.frame.DataFrame'>\n",
      "RangeIndex: 217774 entries, 0 to 217773\n",
      "Data columns (total 23 columns):\n",
      " #   Column                 Non-Null Count   Dtype         \n",
      "---  ------                 --------------   -----         \n",
      " 0   company__id            217472 non-null  float64       \n",
      " 1   name                   217472 non-null  object        \n",
      " 2   category__code         143886 non-null  object        \n",
      " 3   status                 217472 non-null  object        \n",
      " 4   founded__at            109956 non-null  datetime64[ns]\n",
      " 5   closed__at             3449 non-null    datetime64[ns]\n",
      " 6   domain                 147159 non-null  object        \n",
      " 7   network__username      95534 non-null   object        \n",
      " 8   country__code          108607 non-null  object        \n",
      " 9   investment__rounds     217472 non-null  float64       \n",
      " 10  funding__rounds        217472 non-null  float64       \n",
      " 11  funding__total         217472 non-null  float64       \n",
      " 12  milestones             217472 non-null  float64       \n",
      " 13  funding__round__id     52928 non-null   float64       \n",
      " 14  company__id_1          52928 non-null   float64       \n",
      " 15  funded__at             52680 non-null   float64       \n",
      " 16  funding__round__type   52928 non-null   object        \n",
      " 17  raised__amount         52928 non-null   float64       \n",
      " 18  pre__money__valuation  52928 non-null   float64       \n",
      " 19  participants           52928 non-null   float64       \n",
      " 20  is__first__round       52928 non-null   float64       \n",
      " 21  is__last__round        52928 non-null   float64       \n",
      " 22  company_ID             217774 non-null  object        \n",
      "dtypes: datetime64[ns](2), float64(13), object(8)\n",
      "memory usage: 38.2+ MB\n"
     ]
    }
   ],
   "source": [
    "df_company.info()"
   ]
  },
  {
   "cell_type": "code",
   "execution_count": 100,
   "metadata": {},
   "outputs": [],
   "source": [
    "df_company_company = df_company[['company__id','name', \n",
    "        'category__code', 'status', 'founded__at',\n",
    "       'closed__at', 'domain', 'network__username', \n",
    "        'country__code', 'investment__rounds', \n",
    "        'funding__rounds', 'funding__total', 'milestones']].copy()"
   ]
  },
  {
   "cell_type": "code",
   "execution_count": 101,
   "metadata": {},
   "outputs": [
    {
     "name": "stdout",
     "output_type": "stream",
     "text": [
      "<class 'pandas.core.frame.DataFrame'>\n",
      "RangeIndex: 217774 entries, 0 to 217773\n",
      "Data columns (total 13 columns):\n",
      " #   Column              Non-Null Count   Dtype         \n",
      "---  ------              --------------   -----         \n",
      " 0   company__id         217472 non-null  float64       \n",
      " 1   name                217472 non-null  object        \n",
      " 2   category__code      143886 non-null  object        \n",
      " 3   status              217472 non-null  object        \n",
      " 4   founded__at         109956 non-null  datetime64[ns]\n",
      " 5   closed__at          3449 non-null    datetime64[ns]\n",
      " 6   domain              147159 non-null  object        \n",
      " 7   network__username   95534 non-null   object        \n",
      " 8   country__code       108607 non-null  object        \n",
      " 9   investment__rounds  217472 non-null  float64       \n",
      " 10  funding__rounds     217472 non-null  float64       \n",
      " 11  funding__total      217472 non-null  float64       \n",
      " 12  milestones          217472 non-null  float64       \n",
      "dtypes: datetime64[ns](2), float64(5), object(6)\n",
      "memory usage: 21.6+ MB\n"
     ]
    }
   ],
   "source": [
    "df_company_company.info()"
   ]
  },
  {
   "cell_type": "code",
   "execution_count": 102,
   "metadata": {},
   "outputs": [
    {
     "data": {
      "text/plain": [
       "21220"
      ]
     },
     "execution_count": 102,
     "metadata": {},
     "output_type": "execute_result"
    }
   ],
   "source": [
    "df_company_company.duplicated().sum()"
   ]
  },
  {
   "cell_type": "code",
   "execution_count": 103,
   "metadata": {},
   "outputs": [
    {
     "name": "stdout",
     "output_type": "stream",
     "text": [
      "\n",
      "DataFrame после удаления дубликатов:\n"
     ]
    },
    {
     "data": {
      "text/plain": [
       "0"
      ]
     },
     "execution_count": 103,
     "metadata": {},
     "output_type": "execute_result"
    }
   ],
   "source": [
    "# Удаление дубликатов, оставляя первые строки\n",
    "df_company_company.drop_duplicates(inplace=True)\n",
    "\n",
    "# Печать DataFrame после удаления дубликатов\n",
    "print(\"\\nDataFrame после удаления дубликатов:\")\n",
    "df_company_company.duplicated().sum()"
   ]
  },
  {
   "cell_type": "code",
   "execution_count": 104,
   "metadata": {},
   "outputs": [
    {
     "data": {
      "text/plain": [
       "company__id                1\n",
       "name                       1\n",
       "category__code         73368\n",
       "status                     1\n",
       "founded__at           105327\n",
       "closed__at            193934\n",
       "domain                 70009\n",
       "network__username     115963\n",
       "country__code         108564\n",
       "investment__rounds         1\n",
       "funding__rounds            1\n",
       "funding__total             1\n",
       "milestones                 1\n",
       "dtype: int64"
      ]
     },
     "execution_count": 104,
     "metadata": {},
     "output_type": "execute_result"
    }
   ],
   "source": [
    "df_company_company.isna().sum()"
   ]
  },
  {
   "cell_type": "markdown",
   "metadata": {},
   "source": [
    "В датасете 21220 дубликатов. Удалила дубликаты, оставив первые строки.\n",
    "Пропусков много в category__code 73368, founded__at 105327, closed__at 193934, domain 70009, network__username 115963, country__code 108564."
   ]
  },
  {
   "cell_type": "code",
   "execution_count": 105,
   "metadata": {},
   "outputs": [],
   "source": [
    "df_company_raund = df_company[['company__id_1', 'funding__round__id',\n",
    "        'funded__at', 'funding__round__type',\n",
    "         'raised__amount', 'pre__money__valuation',\n",
    "          'participants', 'is__first__round',\n",
    "         'is__last__round']].copy()"
   ]
  },
  {
   "cell_type": "markdown",
   "metadata": {
    "id": "bmVYhphNrJg2"
   },
   "source": [
    "\n",
    "## Шаг 3. Исследовательский анализ объединённых таблиц\n",
    "\n",
    "<big>Приступите к шагу 3 после проверки ревьюера.</big>"
   ]
  },
  {
   "cell_type": "markdown",
   "metadata": {
    "id": "3Di6tCT3rJg2"
   },
   "source": [
    "\n",
    "### 3.1. Объединение данных\n",
    "\n",
    "Объедините данные для ответа на вопросы заказчика, которые касаются интересующих его компаний.\n",
    "\n",
    "В качестве основы для объединённой таблицы возьмите данные из обработанного датасета `company_and_rounds.csv` — выберите только те компании, у которых указаны значения `funding_rounds` или `investment_rounds` больше нуля, и те, у которых в колонке `status` указано `acquired`.\n",
    "\n",
    "Далее работайте только с этими данными."
   ]
  },
  {
   "cell_type": "code",
   "execution_count": 106,
   "metadata": {
    "id": "mGYqoHS7rJg2"
   },
   "outputs": [
    {
     "data": {
      "text/html": [
       "<div>\n",
       "<style scoped>\n",
       "    .dataframe tbody tr th:only-of-type {\n",
       "        vertical-align: middle;\n",
       "    }\n",
       "\n",
       "    .dataframe tbody tr th {\n",
       "        vertical-align: top;\n",
       "    }\n",
       "\n",
       "    .dataframe thead th {\n",
       "        text-align: right;\n",
       "    }\n",
       "</style>\n",
       "<table border=\"1\" class=\"dataframe\">\n",
       "  <thead>\n",
       "    <tr style=\"text-align: right;\">\n",
       "      <th></th>\n",
       "      <th>company__id</th>\n",
       "      <th>name</th>\n",
       "      <th>category__code</th>\n",
       "      <th>status</th>\n",
       "      <th>founded__at</th>\n",
       "      <th>closed__at</th>\n",
       "      <th>domain</th>\n",
       "      <th>network__username</th>\n",
       "      <th>country__code</th>\n",
       "      <th>investment__rounds</th>\n",
       "      <th>...</th>\n",
       "      <th>funding__round__id</th>\n",
       "      <th>company__id_1</th>\n",
       "      <th>funded__at</th>\n",
       "      <th>funding__round__type</th>\n",
       "      <th>raised__amount</th>\n",
       "      <th>pre__money__valuation</th>\n",
       "      <th>participants</th>\n",
       "      <th>is__first__round</th>\n",
       "      <th>is__last__round</th>\n",
       "      <th>company_ID</th>\n",
       "    </tr>\n",
       "  </thead>\n",
       "  <tbody>\n",
       "    <tr>\n",
       "      <th>0</th>\n",
       "      <td>1.00</td>\n",
       "      <td>Wetpaint</td>\n",
       "      <td>web</td>\n",
       "      <td>operating</td>\n",
       "      <td>2005-10-17</td>\n",
       "      <td>NaT</td>\n",
       "      <td>wetpaint-inc.com</td>\n",
       "      <td>BachelrWetpaint</td>\n",
       "      <td>USA</td>\n",
       "      <td>0.00</td>\n",
       "      <td>...</td>\n",
       "      <td>888.00</td>\n",
       "      <td>1.00</td>\n",
       "      <td>2005.00</td>\n",
       "      <td>series-a</td>\n",
       "      <td>5250000.00</td>\n",
       "      <td>0.00</td>\n",
       "      <td>2.00</td>\n",
       "      <td>0.00</td>\n",
       "      <td>1.00</td>\n",
       "      <td>1.0, 1.0</td>\n",
       "    </tr>\n",
       "    <tr>\n",
       "      <th>1</th>\n",
       "      <td>1.00</td>\n",
       "      <td>Wetpaint</td>\n",
       "      <td>web</td>\n",
       "      <td>operating</td>\n",
       "      <td>2005-10-17</td>\n",
       "      <td>NaT</td>\n",
       "      <td>wetpaint-inc.com</td>\n",
       "      <td>BachelrWetpaint</td>\n",
       "      <td>USA</td>\n",
       "      <td>0.00</td>\n",
       "      <td>...</td>\n",
       "      <td>889.00</td>\n",
       "      <td>1.00</td>\n",
       "      <td>2007.00</td>\n",
       "      <td>series-b</td>\n",
       "      <td>9500000.00</td>\n",
       "      <td>0.00</td>\n",
       "      <td>3.00</td>\n",
       "      <td>0.00</td>\n",
       "      <td>0.00</td>\n",
       "      <td>1.0, 1.0</td>\n",
       "    </tr>\n",
       "    <tr>\n",
       "      <th>2</th>\n",
       "      <td>1.00</td>\n",
       "      <td>Wetpaint</td>\n",
       "      <td>web</td>\n",
       "      <td>operating</td>\n",
       "      <td>2005-10-17</td>\n",
       "      <td>NaT</td>\n",
       "      <td>wetpaint-inc.com</td>\n",
       "      <td>BachelrWetpaint</td>\n",
       "      <td>USA</td>\n",
       "      <td>0.00</td>\n",
       "      <td>...</td>\n",
       "      <td>2312.00</td>\n",
       "      <td>1.00</td>\n",
       "      <td>2008.00</td>\n",
       "      <td>series-c+</td>\n",
       "      <td>25000000.00</td>\n",
       "      <td>0.00</td>\n",
       "      <td>4.00</td>\n",
       "      <td>1.00</td>\n",
       "      <td>0.00</td>\n",
       "      <td>1.0, 1.0</td>\n",
       "    </tr>\n",
       "    <tr>\n",
       "      <th>3</th>\n",
       "      <td>10.00</td>\n",
       "      <td>Flektor</td>\n",
       "      <td>games_video</td>\n",
       "      <td>acquired</td>\n",
       "      <td>NaT</td>\n",
       "      <td>NaT</td>\n",
       "      <td>flektor.com</td>\n",
       "      <td>NaN</td>\n",
       "      <td>USA</td>\n",
       "      <td>0.00</td>\n",
       "      <td>...</td>\n",
       "      <td>NaN</td>\n",
       "      <td>NaN</td>\n",
       "      <td>NaN</td>\n",
       "      <td>NaN</td>\n",
       "      <td>NaN</td>\n",
       "      <td>NaN</td>\n",
       "      <td>NaN</td>\n",
       "      <td>NaN</td>\n",
       "      <td>NaN</td>\n",
       "      <td>10.0, nan</td>\n",
       "    </tr>\n",
       "    <tr>\n",
       "      <th>4</th>\n",
       "      <td>100.00</td>\n",
       "      <td>There</td>\n",
       "      <td>games_video</td>\n",
       "      <td>acquired</td>\n",
       "      <td>NaT</td>\n",
       "      <td>NaT</td>\n",
       "      <td>there.com</td>\n",
       "      <td>NaN</td>\n",
       "      <td>USA</td>\n",
       "      <td>0.00</td>\n",
       "      <td>...</td>\n",
       "      <td>NaN</td>\n",
       "      <td>NaN</td>\n",
       "      <td>NaN</td>\n",
       "      <td>NaN</td>\n",
       "      <td>NaN</td>\n",
       "      <td>NaN</td>\n",
       "      <td>NaN</td>\n",
       "      <td>NaN</td>\n",
       "      <td>NaN</td>\n",
       "      <td>100.0, nan</td>\n",
       "    </tr>\n",
       "    <tr>\n",
       "      <th>...</th>\n",
       "      <td>...</td>\n",
       "      <td>...</td>\n",
       "      <td>...</td>\n",
       "      <td>...</td>\n",
       "      <td>...</td>\n",
       "      <td>...</td>\n",
       "      <td>...</td>\n",
       "      <td>...</td>\n",
       "      <td>...</td>\n",
       "      <td>...</td>\n",
       "      <td>...</td>\n",
       "      <td>...</td>\n",
       "      <td>...</td>\n",
       "      <td>...</td>\n",
       "      <td>...</td>\n",
       "      <td>...</td>\n",
       "      <td>...</td>\n",
       "      <td>...</td>\n",
       "      <td>...</td>\n",
       "      <td>...</td>\n",
       "      <td>...</td>\n",
       "    </tr>\n",
       "    <tr>\n",
       "      <th>217466</th>\n",
       "      <td>3429.00</td>\n",
       "      <td>Zend Technologies</td>\n",
       "      <td>software</td>\n",
       "      <td>operating</td>\n",
       "      <td>1999-01-01</td>\n",
       "      <td>NaT</td>\n",
       "      <td>zend.com</td>\n",
       "      <td>networkzend</td>\n",
       "      <td>USA</td>\n",
       "      <td>0.00</td>\n",
       "      <td>...</td>\n",
       "      <td>20896.00</td>\n",
       "      <td>3429.00</td>\n",
       "      <td>2011.00</td>\n",
       "      <td>venture</td>\n",
       "      <td>7000000.00</td>\n",
       "      <td>0.00</td>\n",
       "      <td>1.00</td>\n",
       "      <td>1.00</td>\n",
       "      <td>0.00</td>\n",
       "      <td>3429.0, 3429.0</td>\n",
       "    </tr>\n",
       "    <tr>\n",
       "      <th>217467</th>\n",
       "      <td>7748.00</td>\n",
       "      <td>Flowgram</td>\n",
       "      <td>web</td>\n",
       "      <td>closed</td>\n",
       "      <td>2007-06-01</td>\n",
       "      <td>2008-06-11</td>\n",
       "      <td>flowgram.com</td>\n",
       "      <td>network</td>\n",
       "      <td>USA</td>\n",
       "      <td>0.00</td>\n",
       "      <td>...</td>\n",
       "      <td>2836.00</td>\n",
       "      <td>7748.00</td>\n",
       "      <td>2008.00</td>\n",
       "      <td>angel</td>\n",
       "      <td>1300000.00</td>\n",
       "      <td>0.00</td>\n",
       "      <td>8.00</td>\n",
       "      <td>1.00</td>\n",
       "      <td>1.00</td>\n",
       "      <td>7748.0, 7748.0</td>\n",
       "    </tr>\n",
       "    <tr>\n",
       "      <th>217469</th>\n",
       "      <td>43233.00</td>\n",
       "      <td>Photonet</td>\n",
       "      <td>photo_video</td>\n",
       "      <td>acquired</td>\n",
       "      <td>2010-03-01</td>\n",
       "      <td>NaT</td>\n",
       "      <td>Photonet.com</td>\n",
       "      <td>Photonet</td>\n",
       "      <td>USA</td>\n",
       "      <td>0.00</td>\n",
       "      <td>...</td>\n",
       "      <td>12687.00</td>\n",
       "      <td>43233.00</td>\n",
       "      <td>2010.00</td>\n",
       "      <td>angel</td>\n",
       "      <td>500000.00</td>\n",
       "      <td>0.00</td>\n",
       "      <td>2.00</td>\n",
       "      <td>0.00</td>\n",
       "      <td>1.00</td>\n",
       "      <td>43233.0, 43233.0</td>\n",
       "    </tr>\n",
       "    <tr>\n",
       "      <th>217470</th>\n",
       "      <td>43233.00</td>\n",
       "      <td>Photonet</td>\n",
       "      <td>photo_video</td>\n",
       "      <td>acquired</td>\n",
       "      <td>2010-03-01</td>\n",
       "      <td>NaT</td>\n",
       "      <td>Photonet.com</td>\n",
       "      <td>Photonet</td>\n",
       "      <td>USA</td>\n",
       "      <td>0.00</td>\n",
       "      <td>...</td>\n",
       "      <td>21259.00</td>\n",
       "      <td>43233.00</td>\n",
       "      <td>2011.00</td>\n",
       "      <td>series-a</td>\n",
       "      <td>7000000.00</td>\n",
       "      <td>0.00</td>\n",
       "      <td>5.00</td>\n",
       "      <td>0.00</td>\n",
       "      <td>0.00</td>\n",
       "      <td>43233.0, 43233.0</td>\n",
       "    </tr>\n",
       "    <tr>\n",
       "      <th>217471</th>\n",
       "      <td>43233.00</td>\n",
       "      <td>Photonet</td>\n",
       "      <td>photo_video</td>\n",
       "      <td>acquired</td>\n",
       "      <td>2010-03-01</td>\n",
       "      <td>NaT</td>\n",
       "      <td>Photonet.com</td>\n",
       "      <td>Photonet</td>\n",
       "      <td>USA</td>\n",
       "      <td>0.00</td>\n",
       "      <td>...</td>\n",
       "      <td>28645.00</td>\n",
       "      <td>43233.00</td>\n",
       "      <td>2012.00</td>\n",
       "      <td>series-b</td>\n",
       "      <td>50000000.00</td>\n",
       "      <td>0.00</td>\n",
       "      <td>5.00</td>\n",
       "      <td>1.00</td>\n",
       "      <td>0.00</td>\n",
       "      <td>43233.0, 43233.0</td>\n",
       "    </tr>\n",
       "  </tbody>\n",
       "</table>\n",
       "<p>61666 rows × 23 columns</p>\n",
       "</div>"
      ],
      "text/plain": [
       "        company__id               name category__code     status founded__at  \\\n",
       "0              1.00           Wetpaint            web  operating  2005-10-17   \n",
       "1              1.00           Wetpaint            web  operating  2005-10-17   \n",
       "2              1.00           Wetpaint            web  operating  2005-10-17   \n",
       "3             10.00            Flektor    games_video   acquired         NaT   \n",
       "4            100.00              There    games_video   acquired         NaT   \n",
       "...             ...                ...            ...        ...         ...   \n",
       "217466      3429.00  Zend Technologies       software  operating  1999-01-01   \n",
       "217467      7748.00           Flowgram            web     closed  2007-06-01   \n",
       "217469     43233.00           Photonet    photo_video   acquired  2010-03-01   \n",
       "217470     43233.00           Photonet    photo_video   acquired  2010-03-01   \n",
       "217471     43233.00           Photonet    photo_video   acquired  2010-03-01   \n",
       "\n",
       "       closed__at            domain network__username country__code  \\\n",
       "0             NaT  wetpaint-inc.com   BachelrWetpaint           USA   \n",
       "1             NaT  wetpaint-inc.com   BachelrWetpaint           USA   \n",
       "2             NaT  wetpaint-inc.com   BachelrWetpaint           USA   \n",
       "3             NaT       flektor.com               NaN           USA   \n",
       "4             NaT         there.com               NaN           USA   \n",
       "...           ...               ...               ...           ...   \n",
       "217466        NaT          zend.com       networkzend           USA   \n",
       "217467 2008-06-11      flowgram.com           network           USA   \n",
       "217469        NaT      Photonet.com          Photonet           USA   \n",
       "217470        NaT      Photonet.com          Photonet           USA   \n",
       "217471        NaT      Photonet.com          Photonet           USA   \n",
       "\n",
       "        investment__rounds  ...  funding__round__id  company__id_1  \\\n",
       "0                     0.00  ...              888.00           1.00   \n",
       "1                     0.00  ...              889.00           1.00   \n",
       "2                     0.00  ...             2312.00           1.00   \n",
       "3                     0.00  ...                 NaN            NaN   \n",
       "4                     0.00  ...                 NaN            NaN   \n",
       "...                    ...  ...                 ...            ...   \n",
       "217466                0.00  ...            20896.00        3429.00   \n",
       "217467                0.00  ...             2836.00        7748.00   \n",
       "217469                0.00  ...            12687.00       43233.00   \n",
       "217470                0.00  ...            21259.00       43233.00   \n",
       "217471                0.00  ...            28645.00       43233.00   \n",
       "\n",
       "        funded__at  funding__round__type  raised__amount  \\\n",
       "0          2005.00              series-a      5250000.00   \n",
       "1          2007.00              series-b      9500000.00   \n",
       "2          2008.00             series-c+     25000000.00   \n",
       "3              NaN                   NaN             NaN   \n",
       "4              NaN                   NaN             NaN   \n",
       "...            ...                   ...             ...   \n",
       "217466     2011.00               venture      7000000.00   \n",
       "217467     2008.00                 angel      1300000.00   \n",
       "217469     2010.00                 angel       500000.00   \n",
       "217470     2011.00              series-a      7000000.00   \n",
       "217471     2012.00              series-b     50000000.00   \n",
       "\n",
       "        pre__money__valuation participants  is__first__round  is__last__round  \\\n",
       "0                        0.00         2.00              0.00             1.00   \n",
       "1                        0.00         3.00              0.00             0.00   \n",
       "2                        0.00         4.00              1.00             0.00   \n",
       "3                         NaN          NaN               NaN              NaN   \n",
       "4                         NaN          NaN               NaN              NaN   \n",
       "...                       ...          ...               ...              ...   \n",
       "217466                   0.00         1.00              1.00             0.00   \n",
       "217467                   0.00         8.00              1.00             1.00   \n",
       "217469                   0.00         2.00              0.00             1.00   \n",
       "217470                   0.00         5.00              0.00             0.00   \n",
       "217471                   0.00         5.00              1.00             0.00   \n",
       "\n",
       "              company_ID  \n",
       "0               1.0, 1.0  \n",
       "1               1.0, 1.0  \n",
       "2               1.0, 1.0  \n",
       "3              10.0, nan  \n",
       "4             100.0, nan  \n",
       "...                  ...  \n",
       "217466    3429.0, 3429.0  \n",
       "217467    7748.0, 7748.0  \n",
       "217469  43233.0, 43233.0  \n",
       "217470  43233.0, 43233.0  \n",
       "217471  43233.0, 43233.0  \n",
       "\n",
       "[61666 rows x 23 columns]"
      ]
     },
     "metadata": {},
     "output_type": "display_data"
    }
   ],
   "source": [
    "# Фильтрация по условиям\n",
    "df_company_sort = df_company[\n",
    "    ((df_company['funding__rounds'] > 0) | (df_company['investment__rounds'] > 0)) | \n",
    "    (df_company['status'] == 'acquired')\n",
    "]\n",
    "\n",
    "# Вывод результата\n",
    "display(df_company_sort)"
   ]
  },
  {
   "cell_type": "code",
   "execution_count": 107,
   "metadata": {},
   "outputs": [
    {
     "name": "stdout",
     "output_type": "stream",
     "text": [
      "<class 'pandas.core.frame.DataFrame'>\n",
      "Int64Index: 61666 entries, 0 to 217471\n",
      "Data columns (total 23 columns):\n",
      " #   Column                 Non-Null Count  Dtype         \n",
      "---  ------                 --------------  -----         \n",
      " 0   company__id            61666 non-null  float64       \n",
      " 1   name                   61666 non-null  object        \n",
      " 2   category__code         56015 non-null  object        \n",
      " 3   status                 61666 non-null  object        \n",
      " 4   founded__at            46536 non-null  datetime64[ns]\n",
      " 5   closed__at             2957 non-null   datetime64[ns]\n",
      " 6   domain                 56368 non-null  object        \n",
      " 7   network__username      35793 non-null  object        \n",
      " 8   country__code          55359 non-null  object        \n",
      " 9   investment__rounds     61666 non-null  float64       \n",
      " 10  funding__rounds        61666 non-null  float64       \n",
      " 11  funding__total         61666 non-null  float64       \n",
      " 12  milestones             61666 non-null  float64       \n",
      " 13  funding__round__id     52626 non-null  float64       \n",
      " 14  company__id_1          52626 non-null  float64       \n",
      " 15  funded__at             52382 non-null  float64       \n",
      " 16  funding__round__type   52626 non-null  object        \n",
      " 17  raised__amount         52626 non-null  float64       \n",
      " 18  pre__money__valuation  52626 non-null  float64       \n",
      " 19  participants           52626 non-null  float64       \n",
      " 20  is__first__round       52626 non-null  float64       \n",
      " 21  is__last__round        52626 non-null  float64       \n",
      " 22  company_ID             61666 non-null  object        \n",
      "dtypes: datetime64[ns](2), float64(13), object(8)\n",
      "memory usage: 11.3+ MB\n"
     ]
    }
   ],
   "source": [
    "df_company_sort.info()"
   ]
  },
  {
   "cell_type": "code",
   "execution_count": 108,
   "metadata": {
    "id": "vJZ4mO2Un1yt"
   },
   "outputs": [
    {
     "name": "stdout",
     "output_type": "stream",
     "text": [
      "Empty DataFrame\n",
      "Columns: [company__id, name, category__code, status, founded__at, closed__at, domain, network__username, country__code, investment__rounds, funding__rounds, funding__total, milestones, funding__round__id, company__id_1, funded__at, funding__round__type, raised__amount, pre__money__valuation, participants, is__first__round, is__last__round, company_ID]\n",
      "Index: []\n",
      "\n",
      "[0 rows x 23 columns]\n"
     ]
    }
   ],
   "source": [
    "# Вывод дубликатов\n",
    "duplicates = df_company_sort[df_company_sort.duplicated(keep=False)]\n",
    "print(duplicates)"
   ]
  },
  {
   "cell_type": "markdown",
   "metadata": {},
   "source": [
    "в новом датасете 61666 строки, 23 столбца, объем 11.3+ Mв"
   ]
  },
  {
   "cell_type": "markdown",
   "metadata": {
    "id": "DFHINkV3rJg2"
   },
   "source": [
    "\n",
    "### 3.2. Анализ выбросов\n",
    "\n",
    "Заказчика интересует обычный для рассматриваемого периода размер средств, который предоставлялся компаниям.\n",
    "\n",
    "* По предобработанному столбцу `funding_total` графическим способом оцените, какой размер общего финансирования для одной компании будет типичным, а какой — выбивающимся.\n",
    "\n",
    "* В процессе расчёта значений обратите внимание, например, на показатели, возвращаемые методом `.describe()`, — объясните их. Применимы ли к таким данным обычные способы нахождения типичных значений?"
   ]
  },
  {
   "cell_type": "code",
   "execution_count": 109,
   "metadata": {},
   "outputs": [
    {
     "data": {
      "image/png": "[encoded data removed]",
      "text/plain": [
       "<Figure size 864x720 with 1 Axes>"
      ]
     },
     "metadata": {
      "needs_background": "light"
     },
     "output_type": "display_data"
    }
   ],
   "source": [
    "# Строим диаграмму размаха методом boxplot()\n",
    "boxplot = df_company_sort.boxplot(column='funding__total',\n",
    "                     vert=False, \n",
    "                     figsize=(12, 10))\n",
    "# Добавляем заголовок и метку оси X\n",
    "boxplot.set_title('Размер общего финансирования')\n",
    "boxplot.set_xlabel('Сумма финансирования (млн.руб.)')\n",
    "plt.xlim(-1000000,100000000)\n",
    "plt.show()"
   ]
  },
  {
   "cell_type": "markdown",
   "metadata": {},
   "source": [
    "Огромное количество выбросов отмечается свыше 4 млн.рублей"
   ]
  },
  {
   "cell_type": "code",
   "execution_count": 110,
   "metadata": {},
   "outputs": [
    {
     "data": {
      "image/png": "[encoded data removed]",
      "text/plain": [
       "<Figure size 720x432 with 1 Axes>"
      ]
     },
     "metadata": {
      "needs_background": "light"
     },
     "output_type": "display_data"
    }
   ],
   "source": [
    "# Группируем данные по наименованию компании и суммируем финансирование\n",
    "grouped_data = df_company_sort.groupby('name')['funding__total'].sum().reset_index()\n",
    "\n",
    "# Устанавливаем размеры графика\n",
    "plt.figure(figsize=(10, 6))\n",
    "\n",
    "# Строим гистограмму, настраивая параметры отображения\n",
    "plt.hist(grouped_data['funding__total'], bins=100, alpha=1, \n",
    "         color='salmon', edgecolor='black'\n",
    ")\n",
    "plt.yscale('log')  # Применяем логарифмическую шкалу к оси Y\n",
    "\n",
    "# Устанавливаем заголовок графика\n",
    "plt.title('Гистограмма распределения финансирования по компаниям')\n",
    "\n",
    "# Устанавливаем подпись оси X\n",
    "plt.xlabel('Сумма финансирования')\n",
    "\n",
    "# Устанавливаем подпись оси Y\n",
    "plt.ylabel('Частота')\n",
    "\n",
    "# вычисление процентилей для отфильтрованных данных\n",
    "percentiles = np.percentile(grouped_data['funding__total'], [90, 85, 75, 50])\n",
    "percentile_labels = ['90%', '85%', '75%', '50%']\n",
    "percentile_colors = ['green', 'purple', 'brown', 'red']  # разные цвет для каждой линии\n",
    "\n",
    "# добавление вертикальных линий для процентилей с разными цветами\n",
    "for percentile, label, color in zip(percentiles, percentile_labels, percentile_colors):\n",
    "    plt.axvline(percentile, color=color, linestyle='--', label=f'{label}: {percentile:,.0f}')\n",
    "    \n",
    "# Отображаем график\n",
    "plt.show()"
   ]
  },
  {
   "cell_type": "code",
   "execution_count": 111,
   "metadata": {},
   "outputs": [
    {
     "data": {
      "text/plain": [
       "name                 funding__total\n",
       "\"Canal do Credito\"   750000.00         1\n",
       "REAC Fuel            4500000.00        1\n",
       "RB-Doors             11000000.00       1\n",
       "RBK Money            0.00              1\n",
       "RBS e.BricksDigital  0.00              1\n",
       "                                      ..\n",
       "GiftRocket           0.00              1\n",
       "Giftah               1580.00           1\n",
       "Giftango             12800000.00       1\n",
       "Giftiki              2040000.00        1\n",
       "ÜberResearch         0.00              1\n",
       "Length: 40747, dtype: int64"
      ]
     },
     "execution_count": 111,
     "metadata": {},
     "output_type": "execute_result"
    }
   ],
   "source": [
    "grouped_data.value_counts()"
   ]
  },
  {
   "cell_type": "code",
   "execution_count": 112,
   "metadata": {
    "id": "8jm75fKXrJg2"
   },
   "outputs": [
    {
     "name": "stdout",
     "output_type": "stream",
     "text": [
      "count        61666.00\n",
      "mean      21146234.18\n",
      "std       90130450.99\n",
      "min              0.00\n",
      "25%          60000.00\n",
      "50%        2490000.00\n",
      "75%       15948800.00\n",
      "max     5700000000.00\n",
      "Name: funding__total, dtype: float64\n"
     ]
    }
   ],
   "source": [
    "# Выводим результат describe()\n",
    "print(df_company_sort['funding__total'].describe())"
   ]
  },
  {
   "cell_type": "markdown",
   "metadata": {
    "id": "dIWqyEomn2MU"
   },
   "source": [
    "Число финансовых процедур составило 61666.\n",
    "Средняя сумма финансирования 21146234\n",
    "стандартная сумма финансирования 90130450.99\n",
    "25%          60000.00\n",
    "50%        2490000.00\n",
    "75%       15948800.00\n",
    "max сумма финансирования составила 5700000000.00"
   ]
  },
  {
   "cell_type": "markdown",
   "metadata": {
    "id": "JqkRAQrIrJg2"
   },
   "source": [
    "\n",
    "### 3.3. Куплены забесплатно?\n",
    "\n",
    "* Исследуйте компании, которые были проданы за ноль или за один доллар, и при этом известно, что у них был ненулевой общий объём финансирования.\n",
    "\n",
    "* Рассчитайте аналитически верхнюю и нижнюю границу выбросов для столбца `funding_total` и укажите, каким процентилям границы соответствуют. Учитывая озвученные выше предпосылки и собственные соображения, сделайте выводы о корректности планируемой заказчиком замены нижней и верхней границы выбросов на значения, рассчитанные по процентилям."
   ]
  },
  {
   "cell_type": "code",
   "execution_count": 113,
   "metadata": {},
   "outputs": [
    {
     "data": {
      "text/plain": [
       "Index(['company__id', 'name', 'category__code', 'status', 'founded__at',\n",
       "       'closed__at', 'domain', 'network__username', 'country__code',\n",
       "       'investment__rounds', 'funding__rounds', 'funding__total', 'milestones',\n",
       "       'funding__round__id', 'company__id_1', 'funded__at',\n",
       "       'funding__round__type', 'raised__amount', 'pre__money__valuation',\n",
       "       'participants', 'is__first__round', 'is__last__round', 'company_ID'],\n",
       "      dtype='object')"
      ]
     },
     "execution_count": 113,
     "metadata": {},
     "output_type": "execute_result"
    }
   ],
   "source": [
    "df_company_sort.columns"
   ]
  },
  {
   "cell_type": "code",
   "execution_count": 114,
   "metadata": {},
   "outputs": [
    {
     "data": {
      "text/plain": [
       "Index(['id', 'acquiring_company_id', 'acquired_company_id', 'term_code',\n",
       "       'price_amount', 'acquired_at'],\n",
       "      dtype='object')"
      ]
     },
     "execution_count": 114,
     "metadata": {},
     "output_type": "execute_result"
    }
   ],
   "source": [
    "df_acquisition.columns"
   ]
  },
  {
   "cell_type": "code",
   "execution_count": 115,
   "metadata": {},
   "outputs": [
    {
     "name": "stderr",
     "output_type": "stream",
     "text": [
      "/opt/conda/lib/python3.9/site-packages/pandas/core/frame.py:4441: SettingWithCopyWarning: \n",
      "A value is trying to be set on a copy of a slice from a DataFrame\n",
      "\n",
      "See the caveats in the documentation: https://pandas.pydata.org/pandas-docs/stable/user_guide/indexing.html#returning-a-view-versus-a-copy\n",
      "  return super().rename(\n"
     ]
    }
   ],
   "source": [
    "#Переименуем столбец company__id\n",
    "df_company_sort.rename(columns={'company__id':'acquired_company_id'}, inplace=True)"
   ]
  },
  {
   "cell_type": "code",
   "execution_count": 116,
   "metadata": {},
   "outputs": [],
   "source": [
    "#Присоединим df_acquisition\n",
    "df_company_merge = pd.merge(df_company_sort, df_acquisition, on='acquired_company_id', how ='left')"
   ]
  },
  {
   "cell_type": "code",
   "execution_count": 117,
   "metadata": {},
   "outputs": [
    {
     "data": {
      "text/html": [
       "<div>\n",
       "<style scoped>\n",
       "    .dataframe tbody tr th:only-of-type {\n",
       "        vertical-align: middle;\n",
       "    }\n",
       "\n",
       "    .dataframe tbody tr th {\n",
       "        vertical-align: top;\n",
       "    }\n",
       "\n",
       "    .dataframe thead th {\n",
       "        text-align: right;\n",
       "    }\n",
       "</style>\n",
       "<table border=\"1\" class=\"dataframe\">\n",
       "  <thead>\n",
       "    <tr style=\"text-align: right;\">\n",
       "      <th></th>\n",
       "      <th>acquired_company_id</th>\n",
       "      <th>name</th>\n",
       "      <th>category__code</th>\n",
       "      <th>status</th>\n",
       "      <th>founded__at</th>\n",
       "      <th>closed__at</th>\n",
       "      <th>domain</th>\n",
       "      <th>network__username</th>\n",
       "      <th>country__code</th>\n",
       "      <th>investment__rounds</th>\n",
       "      <th>...</th>\n",
       "      <th>pre__money__valuation</th>\n",
       "      <th>participants</th>\n",
       "      <th>is__first__round</th>\n",
       "      <th>is__last__round</th>\n",
       "      <th>company_ID</th>\n",
       "      <th>id</th>\n",
       "      <th>acquiring_company_id</th>\n",
       "      <th>term_code</th>\n",
       "      <th>price_amount</th>\n",
       "      <th>acquired_at</th>\n",
       "    </tr>\n",
       "  </thead>\n",
       "  <tbody>\n",
       "    <tr>\n",
       "      <th>0</th>\n",
       "      <td>1.00</td>\n",
       "      <td>Wetpaint</td>\n",
       "      <td>web</td>\n",
       "      <td>operating</td>\n",
       "      <td>2005-10-17</td>\n",
       "      <td>NaT</td>\n",
       "      <td>wetpaint-inc.com</td>\n",
       "      <td>BachelrWetpaint</td>\n",
       "      <td>USA</td>\n",
       "      <td>0.00</td>\n",
       "      <td>...</td>\n",
       "      <td>0.00</td>\n",
       "      <td>2.00</td>\n",
       "      <td>0.00</td>\n",
       "      <td>1.00</td>\n",
       "      <td>1.0, 1.0</td>\n",
       "      <td>NaN</td>\n",
       "      <td>NaN</td>\n",
       "      <td>NaN</td>\n",
       "      <td>NaN</td>\n",
       "      <td>NaT</td>\n",
       "    </tr>\n",
       "    <tr>\n",
       "      <th>1</th>\n",
       "      <td>1.00</td>\n",
       "      <td>Wetpaint</td>\n",
       "      <td>web</td>\n",
       "      <td>operating</td>\n",
       "      <td>2005-10-17</td>\n",
       "      <td>NaT</td>\n",
       "      <td>wetpaint-inc.com</td>\n",
       "      <td>BachelrWetpaint</td>\n",
       "      <td>USA</td>\n",
       "      <td>0.00</td>\n",
       "      <td>...</td>\n",
       "      <td>0.00</td>\n",
       "      <td>3.00</td>\n",
       "      <td>0.00</td>\n",
       "      <td>0.00</td>\n",
       "      <td>1.0, 1.0</td>\n",
       "      <td>NaN</td>\n",
       "      <td>NaN</td>\n",
       "      <td>NaN</td>\n",
       "      <td>NaN</td>\n",
       "      <td>NaT</td>\n",
       "    </tr>\n",
       "    <tr>\n",
       "      <th>2</th>\n",
       "      <td>1.00</td>\n",
       "      <td>Wetpaint</td>\n",
       "      <td>web</td>\n",
       "      <td>operating</td>\n",
       "      <td>2005-10-17</td>\n",
       "      <td>NaT</td>\n",
       "      <td>wetpaint-inc.com</td>\n",
       "      <td>BachelrWetpaint</td>\n",
       "      <td>USA</td>\n",
       "      <td>0.00</td>\n",
       "      <td>...</td>\n",
       "      <td>0.00</td>\n",
       "      <td>4.00</td>\n",
       "      <td>1.00</td>\n",
       "      <td>0.00</td>\n",
       "      <td>1.0, 1.0</td>\n",
       "      <td>NaN</td>\n",
       "      <td>NaN</td>\n",
       "      <td>NaN</td>\n",
       "      <td>NaN</td>\n",
       "      <td>NaT</td>\n",
       "    </tr>\n",
       "    <tr>\n",
       "      <th>3</th>\n",
       "      <td>10.00</td>\n",
       "      <td>Flektor</td>\n",
       "      <td>games_video</td>\n",
       "      <td>acquired</td>\n",
       "      <td>NaT</td>\n",
       "      <td>NaT</td>\n",
       "      <td>flektor.com</td>\n",
       "      <td>NaN</td>\n",
       "      <td>USA</td>\n",
       "      <td>0.00</td>\n",
       "      <td>...</td>\n",
       "      <td>NaN</td>\n",
       "      <td>NaN</td>\n",
       "      <td>NaN</td>\n",
       "      <td>NaN</td>\n",
       "      <td>10.0, nan</td>\n",
       "      <td>1.00</td>\n",
       "      <td>11.00</td>\n",
       "      <td>NaN</td>\n",
       "      <td>20000000.00</td>\n",
       "      <td>2007-05-30</td>\n",
       "    </tr>\n",
       "    <tr>\n",
       "      <th>4</th>\n",
       "      <td>100.00</td>\n",
       "      <td>There</td>\n",
       "      <td>games_video</td>\n",
       "      <td>acquired</td>\n",
       "      <td>NaT</td>\n",
       "      <td>NaT</td>\n",
       "      <td>there.com</td>\n",
       "      <td>NaN</td>\n",
       "      <td>USA</td>\n",
       "      <td>0.00</td>\n",
       "      <td>...</td>\n",
       "      <td>NaN</td>\n",
       "      <td>NaN</td>\n",
       "      <td>NaN</td>\n",
       "      <td>NaN</td>\n",
       "      <td>100.0, nan</td>\n",
       "      <td>20.00</td>\n",
       "      <td>377.00</td>\n",
       "      <td>cash</td>\n",
       "      <td>0.00</td>\n",
       "      <td>2005-05-29</td>\n",
       "    </tr>\n",
       "    <tr>\n",
       "      <th>...</th>\n",
       "      <td>...</td>\n",
       "      <td>...</td>\n",
       "      <td>...</td>\n",
       "      <td>...</td>\n",
       "      <td>...</td>\n",
       "      <td>...</td>\n",
       "      <td>...</td>\n",
       "      <td>...</td>\n",
       "      <td>...</td>\n",
       "      <td>...</td>\n",
       "      <td>...</td>\n",
       "      <td>...</td>\n",
       "      <td>...</td>\n",
       "      <td>...</td>\n",
       "      <td>...</td>\n",
       "      <td>...</td>\n",
       "      <td>...</td>\n",
       "      <td>...</td>\n",
       "      <td>...</td>\n",
       "      <td>...</td>\n",
       "      <td>...</td>\n",
       "    </tr>\n",
       "    <tr>\n",
       "      <th>61850</th>\n",
       "      <td>3429.00</td>\n",
       "      <td>Zend Technologies</td>\n",
       "      <td>software</td>\n",
       "      <td>operating</td>\n",
       "      <td>1999-01-01</td>\n",
       "      <td>NaT</td>\n",
       "      <td>zend.com</td>\n",
       "      <td>networkzend</td>\n",
       "      <td>USA</td>\n",
       "      <td>0.00</td>\n",
       "      <td>...</td>\n",
       "      <td>0.00</td>\n",
       "      <td>1.00</td>\n",
       "      <td>1.00</td>\n",
       "      <td>0.00</td>\n",
       "      <td>3429.0, 3429.0</td>\n",
       "      <td>NaN</td>\n",
       "      <td>NaN</td>\n",
       "      <td>NaN</td>\n",
       "      <td>NaN</td>\n",
       "      <td>NaT</td>\n",
       "    </tr>\n",
       "    <tr>\n",
       "      <th>61851</th>\n",
       "      <td>7748.00</td>\n",
       "      <td>Flowgram</td>\n",
       "      <td>web</td>\n",
       "      <td>closed</td>\n",
       "      <td>2007-06-01</td>\n",
       "      <td>2008-06-11</td>\n",
       "      <td>flowgram.com</td>\n",
       "      <td>network</td>\n",
       "      <td>USA</td>\n",
       "      <td>0.00</td>\n",
       "      <td>...</td>\n",
       "      <td>0.00</td>\n",
       "      <td>8.00</td>\n",
       "      <td>1.00</td>\n",
       "      <td>1.00</td>\n",
       "      <td>7748.0, 7748.0</td>\n",
       "      <td>NaN</td>\n",
       "      <td>NaN</td>\n",
       "      <td>NaN</td>\n",
       "      <td>NaN</td>\n",
       "      <td>NaT</td>\n",
       "    </tr>\n",
       "    <tr>\n",
       "      <th>61852</th>\n",
       "      <td>43233.00</td>\n",
       "      <td>Photonet</td>\n",
       "      <td>photo_video</td>\n",
       "      <td>acquired</td>\n",
       "      <td>2010-03-01</td>\n",
       "      <td>NaT</td>\n",
       "      <td>Photonet.com</td>\n",
       "      <td>Photonet</td>\n",
       "      <td>USA</td>\n",
       "      <td>0.00</td>\n",
       "      <td>...</td>\n",
       "      <td>0.00</td>\n",
       "      <td>2.00</td>\n",
       "      <td>0.00</td>\n",
       "      <td>1.00</td>\n",
       "      <td>43233.0, 43233.0</td>\n",
       "      <td>6968.00</td>\n",
       "      <td>5.00</td>\n",
       "      <td>cash_and_stock</td>\n",
       "      <td>1010470000.00</td>\n",
       "      <td>2012-04-09</td>\n",
       "    </tr>\n",
       "    <tr>\n",
       "      <th>61853</th>\n",
       "      <td>43233.00</td>\n",
       "      <td>Photonet</td>\n",
       "      <td>photo_video</td>\n",
       "      <td>acquired</td>\n",
       "      <td>2010-03-01</td>\n",
       "      <td>NaT</td>\n",
       "      <td>Photonet.com</td>\n",
       "      <td>Photonet</td>\n",
       "      <td>USA</td>\n",
       "      <td>0.00</td>\n",
       "      <td>...</td>\n",
       "      <td>0.00</td>\n",
       "      <td>5.00</td>\n",
       "      <td>0.00</td>\n",
       "      <td>0.00</td>\n",
       "      <td>43233.0, 43233.0</td>\n",
       "      <td>6968.00</td>\n",
       "      <td>5.00</td>\n",
       "      <td>cash_and_stock</td>\n",
       "      <td>1010470000.00</td>\n",
       "      <td>2012-04-09</td>\n",
       "    </tr>\n",
       "    <tr>\n",
       "      <th>61854</th>\n",
       "      <td>43233.00</td>\n",
       "      <td>Photonet</td>\n",
       "      <td>photo_video</td>\n",
       "      <td>acquired</td>\n",
       "      <td>2010-03-01</td>\n",
       "      <td>NaT</td>\n",
       "      <td>Photonet.com</td>\n",
       "      <td>Photonet</td>\n",
       "      <td>USA</td>\n",
       "      <td>0.00</td>\n",
       "      <td>...</td>\n",
       "      <td>0.00</td>\n",
       "      <td>5.00</td>\n",
       "      <td>1.00</td>\n",
       "      <td>0.00</td>\n",
       "      <td>43233.0, 43233.0</td>\n",
       "      <td>6968.00</td>\n",
       "      <td>5.00</td>\n",
       "      <td>cash_and_stock</td>\n",
       "      <td>1010470000.00</td>\n",
       "      <td>2012-04-09</td>\n",
       "    </tr>\n",
       "  </tbody>\n",
       "</table>\n",
       "<p>61855 rows × 28 columns</p>\n",
       "</div>"
      ],
      "text/plain": [
       "       acquired_company_id               name category__code     status  \\\n",
       "0                     1.00           Wetpaint            web  operating   \n",
       "1                     1.00           Wetpaint            web  operating   \n",
       "2                     1.00           Wetpaint            web  operating   \n",
       "3                    10.00            Flektor    games_video   acquired   \n",
       "4                   100.00              There    games_video   acquired   \n",
       "...                    ...                ...            ...        ...   \n",
       "61850              3429.00  Zend Technologies       software  operating   \n",
       "61851              7748.00           Flowgram            web     closed   \n",
       "61852             43233.00           Photonet    photo_video   acquired   \n",
       "61853             43233.00           Photonet    photo_video   acquired   \n",
       "61854             43233.00           Photonet    photo_video   acquired   \n",
       "\n",
       "      founded__at closed__at            domain network__username  \\\n",
       "0      2005-10-17        NaT  wetpaint-inc.com   BachelrWetpaint   \n",
       "1      2005-10-17        NaT  wetpaint-inc.com   BachelrWetpaint   \n",
       "2      2005-10-17        NaT  wetpaint-inc.com   BachelrWetpaint   \n",
       "3             NaT        NaT       flektor.com               NaN   \n",
       "4             NaT        NaT         there.com               NaN   \n",
       "...           ...        ...               ...               ...   \n",
       "61850  1999-01-01        NaT          zend.com       networkzend   \n",
       "61851  2007-06-01 2008-06-11      flowgram.com           network   \n",
       "61852  2010-03-01        NaT      Photonet.com          Photonet   \n",
       "61853  2010-03-01        NaT      Photonet.com          Photonet   \n",
       "61854  2010-03-01        NaT      Photonet.com          Photonet   \n",
       "\n",
       "      country__code  investment__rounds  ...  pre__money__valuation  \\\n",
       "0               USA                0.00  ...                   0.00   \n",
       "1               USA                0.00  ...                   0.00   \n",
       "2               USA                0.00  ...                   0.00   \n",
       "3               USA                0.00  ...                    NaN   \n",
       "4               USA                0.00  ...                    NaN   \n",
       "...             ...                 ...  ...                    ...   \n",
       "61850           USA                0.00  ...                   0.00   \n",
       "61851           USA                0.00  ...                   0.00   \n",
       "61852           USA                0.00  ...                   0.00   \n",
       "61853           USA                0.00  ...                   0.00   \n",
       "61854           USA                0.00  ...                   0.00   \n",
       "\n",
       "       participants  is__first__round  is__last__round        company_ID  \\\n",
       "0              2.00              0.00             1.00          1.0, 1.0   \n",
       "1              3.00              0.00             0.00          1.0, 1.0   \n",
       "2              4.00              1.00             0.00          1.0, 1.0   \n",
       "3               NaN               NaN              NaN         10.0, nan   \n",
       "4               NaN               NaN              NaN        100.0, nan   \n",
       "...             ...               ...              ...               ...   \n",
       "61850          1.00              1.00             0.00    3429.0, 3429.0   \n",
       "61851          8.00              1.00             1.00    7748.0, 7748.0   \n",
       "61852          2.00              0.00             1.00  43233.0, 43233.0   \n",
       "61853          5.00              0.00             0.00  43233.0, 43233.0   \n",
       "61854          5.00              1.00             0.00  43233.0, 43233.0   \n",
       "\n",
       "           id acquiring_company_id       term_code  price_amount  acquired_at  \n",
       "0         NaN                  NaN             NaN           NaN          NaT  \n",
       "1         NaN                  NaN             NaN           NaN          NaT  \n",
       "2         NaN                  NaN             NaN           NaN          NaT  \n",
       "3        1.00                11.00             NaN   20000000.00   2007-05-30  \n",
       "4       20.00               377.00            cash          0.00   2005-05-29  \n",
       "...       ...                  ...             ...           ...          ...  \n",
       "61850     NaN                  NaN             NaN           NaN          NaT  \n",
       "61851     NaN                  NaN             NaN           NaN          NaT  \n",
       "61852 6968.00                 5.00  cash_and_stock 1010470000.00   2012-04-09  \n",
       "61853 6968.00                 5.00  cash_and_stock 1010470000.00   2012-04-09  \n",
       "61854 6968.00                 5.00  cash_and_stock 1010470000.00   2012-04-09  \n",
       "\n",
       "[61855 rows x 28 columns]"
      ]
     },
     "execution_count": 117,
     "metadata": {},
     "output_type": "execute_result"
    }
   ],
   "source": [
    "df_company_merge"
   ]
  },
  {
   "cell_type": "code",
   "execution_count": 118,
   "metadata": {
    "id": "wJHXCBwwrJg2"
   },
   "outputs": [
    {
     "data": {
      "text/html": [
       "<div>\n",
       "<style scoped>\n",
       "    .dataframe tbody tr th:only-of-type {\n",
       "        vertical-align: middle;\n",
       "    }\n",
       "\n",
       "    .dataframe tbody tr th {\n",
       "        vertical-align: top;\n",
       "    }\n",
       "\n",
       "    .dataframe thead th {\n",
       "        text-align: right;\n",
       "    }\n",
       "</style>\n",
       "<table border=\"1\" class=\"dataframe\">\n",
       "  <thead>\n",
       "    <tr style=\"text-align: right;\">\n",
       "      <th></th>\n",
       "      <th>acquired_company_id</th>\n",
       "      <th>name</th>\n",
       "      <th>category__code</th>\n",
       "      <th>status</th>\n",
       "      <th>founded__at</th>\n",
       "      <th>closed__at</th>\n",
       "      <th>domain</th>\n",
       "      <th>network__username</th>\n",
       "      <th>country__code</th>\n",
       "      <th>investment__rounds</th>\n",
       "      <th>...</th>\n",
       "      <th>pre__money__valuation</th>\n",
       "      <th>participants</th>\n",
       "      <th>is__first__round</th>\n",
       "      <th>is__last__round</th>\n",
       "      <th>company_ID</th>\n",
       "      <th>id</th>\n",
       "      <th>acquiring_company_id</th>\n",
       "      <th>term_code</th>\n",
       "      <th>price_amount</th>\n",
       "      <th>acquired_at</th>\n",
       "    </tr>\n",
       "  </thead>\n",
       "  <tbody>\n",
       "    <tr>\n",
       "      <th>4</th>\n",
       "      <td>100.00</td>\n",
       "      <td>There</td>\n",
       "      <td>games_video</td>\n",
       "      <td>acquired</td>\n",
       "      <td>NaT</td>\n",
       "      <td>NaT</td>\n",
       "      <td>there.com</td>\n",
       "      <td>NaN</td>\n",
       "      <td>USA</td>\n",
       "      <td>0.00</td>\n",
       "      <td>...</td>\n",
       "      <td>NaN</td>\n",
       "      <td>NaN</td>\n",
       "      <td>NaN</td>\n",
       "      <td>NaN</td>\n",
       "      <td>100.0, nan</td>\n",
       "      <td>20.00</td>\n",
       "      <td>377.00</td>\n",
       "      <td>cash</td>\n",
       "      <td>0.00</td>\n",
       "      <td>2005-05-29</td>\n",
       "    </tr>\n",
       "    <tr>\n",
       "      <th>6</th>\n",
       "      <td>10014.00</td>\n",
       "      <td>Mobclix</td>\n",
       "      <td>mobile</td>\n",
       "      <td>acquired</td>\n",
       "      <td>2008-03-01</td>\n",
       "      <td>NaT</td>\n",
       "      <td>mobclix.com</td>\n",
       "      <td>mobclix</td>\n",
       "      <td>USA</td>\n",
       "      <td>0.00</td>\n",
       "      <td>...</td>\n",
       "      <td>0.00</td>\n",
       "      <td>1.00</td>\n",
       "      <td>1.00</td>\n",
       "      <td>1.00</td>\n",
       "      <td>10014.0, 10014.0</td>\n",
       "      <td>3878.00</td>\n",
       "      <td>23054.00</td>\n",
       "      <td>NaN</td>\n",
       "      <td>0.00</td>\n",
       "      <td>2010-09-30</td>\n",
       "    </tr>\n",
       "    <tr>\n",
       "      <th>30</th>\n",
       "      <td>100265.00</td>\n",
       "      <td>Coastal Supply Company</td>\n",
       "      <td>NaN</td>\n",
       "      <td>acquired</td>\n",
       "      <td>NaT</td>\n",
       "      <td>NaT</td>\n",
       "      <td>NaN</td>\n",
       "      <td>NaN</td>\n",
       "      <td>NaN</td>\n",
       "      <td>0.00</td>\n",
       "      <td>...</td>\n",
       "      <td>NaN</td>\n",
       "      <td>NaN</td>\n",
       "      <td>NaN</td>\n",
       "      <td>NaN</td>\n",
       "      <td>100265.0, nan</td>\n",
       "      <td>6106.00</td>\n",
       "      <td>38215.00</td>\n",
       "      <td>NaN</td>\n",
       "      <td>0.00</td>\n",
       "      <td>2011-09-06</td>\n",
       "    </tr>\n",
       "    <tr>\n",
       "      <th>36</th>\n",
       "      <td>1004.00</td>\n",
       "      <td>Tioti</td>\n",
       "      <td>games_video</td>\n",
       "      <td>acquired</td>\n",
       "      <td>NaT</td>\n",
       "      <td>NaT</td>\n",
       "      <td>tioti.com</td>\n",
       "      <td>NaN</td>\n",
       "      <td>USA</td>\n",
       "      <td>0.00</td>\n",
       "      <td>...</td>\n",
       "      <td>NaN</td>\n",
       "      <td>NaN</td>\n",
       "      <td>NaN</td>\n",
       "      <td>NaN</td>\n",
       "      <td>1004.0, nan</td>\n",
       "      <td>796.00</td>\n",
       "      <td>15389.00</td>\n",
       "      <td>NaN</td>\n",
       "      <td>0.00</td>\n",
       "      <td>2008-12-15</td>\n",
       "    </tr>\n",
       "    <tr>\n",
       "      <th>37</th>\n",
       "      <td>10049.00</td>\n",
       "      <td>INNCOM</td>\n",
       "      <td>hardware</td>\n",
       "      <td>acquired</td>\n",
       "      <td>1986-01-01</td>\n",
       "      <td>NaT</td>\n",
       "      <td>inncom.com</td>\n",
       "      <td>NaN</td>\n",
       "      <td>USA</td>\n",
       "      <td>0.00</td>\n",
       "      <td>...</td>\n",
       "      <td>NaN</td>\n",
       "      <td>NaN</td>\n",
       "      <td>NaN</td>\n",
       "      <td>NaN</td>\n",
       "      <td>10049.0, nan</td>\n",
       "      <td>7201.00</td>\n",
       "      <td>15850.00</td>\n",
       "      <td>NaN</td>\n",
       "      <td>0.00</td>\n",
       "      <td>2012-06-05</td>\n",
       "    </tr>\n",
       "    <tr>\n",
       "      <th>...</th>\n",
       "      <td>...</td>\n",
       "      <td>...</td>\n",
       "      <td>...</td>\n",
       "      <td>...</td>\n",
       "      <td>...</td>\n",
       "      <td>...</td>\n",
       "      <td>...</td>\n",
       "      <td>...</td>\n",
       "      <td>...</td>\n",
       "      <td>...</td>\n",
       "      <td>...</td>\n",
       "      <td>...</td>\n",
       "      <td>...</td>\n",
       "      <td>...</td>\n",
       "      <td>...</td>\n",
       "      <td>...</td>\n",
       "      <td>...</td>\n",
       "      <td>...</td>\n",
       "      <td>...</td>\n",
       "      <td>...</td>\n",
       "      <td>...</td>\n",
       "    </tr>\n",
       "    <tr>\n",
       "      <th>61808</th>\n",
       "      <td>118723.00</td>\n",
       "      <td>NetworkBar</td>\n",
       "      <td>NaN</td>\n",
       "      <td>acquired</td>\n",
       "      <td>NaT</td>\n",
       "      <td>NaT</td>\n",
       "      <td>NaN</td>\n",
       "      <td>NaN</td>\n",
       "      <td>NaN</td>\n",
       "      <td>0.00</td>\n",
       "      <td>...</td>\n",
       "      <td>NaN</td>\n",
       "      <td>NaN</td>\n",
       "      <td>NaN</td>\n",
       "      <td>NaN</td>\n",
       "      <td>118723.0, nan</td>\n",
       "      <td>6217.00</td>\n",
       "      <td>21138.00</td>\n",
       "      <td>NaN</td>\n",
       "      <td>0.00</td>\n",
       "      <td>2011-04-06</td>\n",
       "    </tr>\n",
       "    <tr>\n",
       "      <th>61809</th>\n",
       "      <td>11484.00</td>\n",
       "      <td>Networktise</td>\n",
       "      <td>web</td>\n",
       "      <td>acquired</td>\n",
       "      <td>2008-08-01</td>\n",
       "      <td>NaT</td>\n",
       "      <td>networktise.com</td>\n",
       "      <td>NaN</td>\n",
       "      <td>NaN</td>\n",
       "      <td>0.00</td>\n",
       "      <td>...</td>\n",
       "      <td>NaN</td>\n",
       "      <td>NaN</td>\n",
       "      <td>NaN</td>\n",
       "      <td>NaN</td>\n",
       "      <td>11484.0, nan</td>\n",
       "      <td>8605.00</td>\n",
       "      <td>205151.00</td>\n",
       "      <td>NaN</td>\n",
       "      <td>0.00</td>\n",
       "      <td>2013-05-10</td>\n",
       "    </tr>\n",
       "    <tr>\n",
       "      <th>61832</th>\n",
       "      <td>153326.00</td>\n",
       "      <td>Yoke</td>\n",
       "      <td>web</td>\n",
       "      <td>acquired</td>\n",
       "      <td>NaT</td>\n",
       "      <td>NaT</td>\n",
       "      <td>apps.socialnet.com::yokeapp</td>\n",
       "      <td>NaN</td>\n",
       "      <td>NaN</td>\n",
       "      <td>0.00</td>\n",
       "      <td>...</td>\n",
       "      <td>0.00</td>\n",
       "      <td>2.00</td>\n",
       "      <td>1.00</td>\n",
       "      <td>1.00</td>\n",
       "      <td>153326.0, 153326.0</td>\n",
       "      <td>7948.00</td>\n",
       "      <td>2352.00</td>\n",
       "      <td>NaN</td>\n",
       "      <td>0.00</td>\n",
       "      <td>2012-09-11</td>\n",
       "    </tr>\n",
       "    <tr>\n",
       "      <th>61841</th>\n",
       "      <td>53224.00</td>\n",
       "      <td>UberNetwork</td>\n",
       "      <td>web</td>\n",
       "      <td>acquired</td>\n",
       "      <td>NaT</td>\n",
       "      <td>NaT</td>\n",
       "      <td>ubernetwork.com::</td>\n",
       "      <td>NaN</td>\n",
       "      <td>NaN</td>\n",
       "      <td>0.00</td>\n",
       "      <td>...</td>\n",
       "      <td>NaN</td>\n",
       "      <td>NaN</td>\n",
       "      <td>NaN</td>\n",
       "      <td>NaN</td>\n",
       "      <td>53224.0, nan</td>\n",
       "      <td>5034.00</td>\n",
       "      <td>45529.00</td>\n",
       "      <td>NaN</td>\n",
       "      <td>0.00</td>\n",
       "      <td>2011-01-23</td>\n",
       "    </tr>\n",
       "    <tr>\n",
       "      <th>61842</th>\n",
       "      <td>69612.00</td>\n",
       "      <td>Networkcism</td>\n",
       "      <td>NaN</td>\n",
       "      <td>acquired</td>\n",
       "      <td>NaT</td>\n",
       "      <td>NaT</td>\n",
       "      <td>networkcism.com</td>\n",
       "      <td>NaN</td>\n",
       "      <td>NaN</td>\n",
       "      <td>0.00</td>\n",
       "      <td>...</td>\n",
       "      <td>NaN</td>\n",
       "      <td>NaN</td>\n",
       "      <td>NaN</td>\n",
       "      <td>NaN</td>\n",
       "      <td>69612.0, nan</td>\n",
       "      <td>5189.00</td>\n",
       "      <td>22309.00</td>\n",
       "      <td>NaN</td>\n",
       "      <td>0.00</td>\n",
       "      <td>2011-02-23</td>\n",
       "    </tr>\n",
       "  </tbody>\n",
       "</table>\n",
       "<p>8386 rows × 28 columns</p>\n",
       "</div>"
      ],
      "text/plain": [
       "       acquired_company_id                    name category__code    status  \\\n",
       "4                   100.00                   There    games_video  acquired   \n",
       "6                 10014.00                 Mobclix         mobile  acquired   \n",
       "30               100265.00  Coastal Supply Company            NaN  acquired   \n",
       "36                 1004.00                   Tioti    games_video  acquired   \n",
       "37                10049.00                  INNCOM       hardware  acquired   \n",
       "...                    ...                     ...            ...       ...   \n",
       "61808            118723.00              NetworkBar            NaN  acquired   \n",
       "61809             11484.00             Networktise            web  acquired   \n",
       "61832            153326.00                    Yoke            web  acquired   \n",
       "61841             53224.00             UberNetwork            web  acquired   \n",
       "61842             69612.00             Networkcism            NaN  acquired   \n",
       "\n",
       "      founded__at closed__at                       domain network__username  \\\n",
       "4             NaT        NaT                    there.com               NaN   \n",
       "6      2008-03-01        NaT                  mobclix.com           mobclix   \n",
       "30            NaT        NaT                          NaN               NaN   \n",
       "36            NaT        NaT                    tioti.com               NaN   \n",
       "37     1986-01-01        NaT                   inncom.com               NaN   \n",
       "...           ...        ...                          ...               ...   \n",
       "61808         NaT        NaT                          NaN               NaN   \n",
       "61809  2008-08-01        NaT              networktise.com               NaN   \n",
       "61832         NaT        NaT  apps.socialnet.com::yokeapp               NaN   \n",
       "61841         NaT        NaT            ubernetwork.com::               NaN   \n",
       "61842         NaT        NaT              networkcism.com               NaN   \n",
       "\n",
       "      country__code  investment__rounds  ...  pre__money__valuation  \\\n",
       "4               USA                0.00  ...                    NaN   \n",
       "6               USA                0.00  ...                   0.00   \n",
       "30              NaN                0.00  ...                    NaN   \n",
       "36              USA                0.00  ...                    NaN   \n",
       "37              USA                0.00  ...                    NaN   \n",
       "...             ...                 ...  ...                    ...   \n",
       "61808           NaN                0.00  ...                    NaN   \n",
       "61809           NaN                0.00  ...                    NaN   \n",
       "61832           NaN                0.00  ...                   0.00   \n",
       "61841           NaN                0.00  ...                    NaN   \n",
       "61842           NaN                0.00  ...                    NaN   \n",
       "\n",
       "       participants  is__first__round  is__last__round          company_ID  \\\n",
       "4               NaN               NaN              NaN          100.0, nan   \n",
       "6              1.00              1.00             1.00    10014.0, 10014.0   \n",
       "30              NaN               NaN              NaN       100265.0, nan   \n",
       "36              NaN               NaN              NaN         1004.0, nan   \n",
       "37              NaN               NaN              NaN        10049.0, nan   \n",
       "...             ...               ...              ...                 ...   \n",
       "61808           NaN               NaN              NaN       118723.0, nan   \n",
       "61809           NaN               NaN              NaN        11484.0, nan   \n",
       "61832          2.00              1.00             1.00  153326.0, 153326.0   \n",
       "61841           NaN               NaN              NaN        53224.0, nan   \n",
       "61842           NaN               NaN              NaN        69612.0, nan   \n",
       "\n",
       "           id acquiring_company_id  term_code  price_amount  acquired_at  \n",
       "4       20.00               377.00       cash          0.00   2005-05-29  \n",
       "6     3878.00             23054.00        NaN          0.00   2010-09-30  \n",
       "30    6106.00             38215.00        NaN          0.00   2011-09-06  \n",
       "36     796.00             15389.00        NaN          0.00   2008-12-15  \n",
       "37    7201.00             15850.00        NaN          0.00   2012-06-05  \n",
       "...       ...                  ...        ...           ...          ...  \n",
       "61808 6217.00             21138.00        NaN          0.00   2011-04-06  \n",
       "61809 8605.00            205151.00        NaN          0.00   2013-05-10  \n",
       "61832 7948.00              2352.00        NaN          0.00   2012-09-11  \n",
       "61841 5034.00             45529.00        NaN          0.00   2011-01-23  \n",
       "61842 5189.00             22309.00        NaN          0.00   2011-02-23  \n",
       "\n",
       "[8386 rows x 28 columns]"
      ]
     },
     "metadata": {},
     "output_type": "display_data"
    }
   ],
   "source": [
    "#Фильтрация по условиям\n",
    "df_company_price = df_company_merge[\n",
    "    ((df_company_merge['price_amount'] == 0) | (df_company_merge['price_amount'] == 1) & \n",
    "    (df_company_merge['funding__total'] > 0))\n",
    "]\n",
    "\n",
    "# Вывод результата\n",
    "display(df_company_price)"
   ]
  },
  {
   "cell_type": "code",
   "execution_count": 119,
   "metadata": {},
   "outputs": [],
   "source": [
    "# Получение уникальных значений в столбце 'name'\n",
    "unique_names = df_company_price['name'].unique()"
   ]
  },
  {
   "cell_type": "code",
   "execution_count": 174,
   "metadata": {
    "id": "-kA4CO27n2ql"
   },
   "outputs": [
    {
     "name": "stdout",
     "output_type": "stream",
     "text": [
      "count        61666.00\n",
      "mean      21146234.18\n",
      "std       90130450.99\n",
      "min              0.00\n",
      "0%               0.00\n",
      "25%          60000.00\n",
      "50%        2490000.00\n",
      "60%        5500000.00\n",
      "70%       11100000.00\n",
      "80%       22939700.00\n",
      "95%       85650000.00\n",
      "99%      255000000.00\n",
      "max     5700000000.00\n",
      "Name: funding__total, dtype: float64\n"
     ]
    }
   ],
   "source": [
    "# Определим процентильные значения\n",
    "print(df_company_sort['funding__total'].describe(percentiles=[0, 0.25, 0.5, 0.6, 0.7, 0.8, 0.95, 0.99]))"
   ]
  },
  {
   "cell_type": "code",
   "execution_count": 121,
   "metadata": {},
   "outputs": [
    {
     "name": "stdout",
     "output_type": "stream",
     "text": [
      "Нижняя граница выбросов: -23773200.0\n",
      "Верхняя граница выбросов: 39782000.0\n"
     ]
    }
   ],
   "source": [
    "# Рассчитаем Q1 и Q3\n",
    "Q1 = df_company_sort['funding__total'].quantile(0.25)\n",
    "Q3 = df_company_sort['funding__total'].quantile(0.75)\n",
    "\n",
    "# Рассчитаем IQR\n",
    "IQR = Q3 - Q1\n",
    "\n",
    "# Определим границы выбросов\n",
    "lower_bound = Q1 - 1.5 * IQR\n",
    "upper_bound = Q3 + 1.5 * IQR\n",
    "\n",
    "print(f'Нижняя граница выбросов: {lower_bound}')\n",
    "print(f'Верхняя граница выбросов: {upper_bound}')"
   ]
  },
  {
   "cell_type": "code",
   "execution_count": 173,
   "metadata": {
    "scrolled": true
   },
   "outputs": [
    {
     "name": "stdout",
     "output_type": "stream",
     "text": [
      "53769\n"
     ]
    }
   ],
   "source": [
    "#Находим число значений меньше верхней границ\n",
    "count_upper_bound = (df_company_sort['funding__total'] <= upper_bound).sum()\n",
    "print(count_upper_bound)"
   ]
  },
  {
   "cell_type": "code",
   "execution_count": 175,
   "metadata": {},
   "outputs": [
    {
     "name": "stdout",
     "output_type": "stream",
     "text": [
      "7897\n"
     ]
    }
   ],
   "source": [
    "#Находим общее число значений\n",
    "count_upper = (df_company_sort['funding__total']> upper_bound).sum()\n",
    "print(count_upper)"
   ]
  },
  {
   "cell_type": "code",
   "execution_count": 178,
   "metadata": {},
   "outputs": [],
   "source": [
    "#Находим процентиль\n",
    "procentel = round((count_upper_bound/(count_upper_bound+count_upper)) * 100, 2)"
   ]
  },
  {
   "cell_type": "markdown",
   "metadata": {},
   "source": [
    "Анализ компаний, которые были проданы за ноль или за один доллар, и при этом известно, что у них был ненулевой общий объём финансирования. показывает.\n",
    "Число раунов у таких компаний было 8386. Средняя финансования сумма 10517732.65, стандартная - 126777814.85."
   ]
  },
  {
   "cell_type": "code",
   "execution_count": 179,
   "metadata": {},
   "outputs": [
    {
     "name": "stdout",
     "output_type": "stream",
     "text": [
      "Верхняя граница выбросов: 39782000.0, соответствует 87.19 процентилю\n"
     ]
    }
   ],
   "source": [
    "print(f'Верхняя граница выбросов: {upper_bound}, соответствует {procentel} процентилю')"
   ]
  },
  {
   "cell_type": "markdown",
   "metadata": {},
   "source": [
    "Нижняя граница выбросов: -23773200.0\n",
    "Очевидно отрицательная нижняя граница, которая просто интерпретируется как 0.\n",
    "Верхняя граница выбросов: 39782000.0, соответствует 87.19 процентилю\n",
    "При замене верхней границы выбросов на значения, расположенные в 75% процентилях, приведет к риску. В случае удачной финансовой сделке, возможна макисмальная прибыль "
   ]
  },
  {
   "cell_type": "markdown",
   "metadata": {
    "id": "mEiWpROjrJg2"
   },
   "source": [
    "\n",
    "### 3.4. Цены стартапов по категориям\n",
    "\n",
    "Категории стартапов с наибольшими ценами и значительным разбросом цен могут быть наиболее привлекательными для крупных инвесторов, которые готовы к высоким рискам ради потенциально больших доходов. Среди категорий стартапов выделите категории стартапов, характеризующиеся:\n",
    "\n",
    "* наибольшими ценами;\n",
    "* и наибольшим разбросом цен за стартап.\n",
    "\n",
    "Объясните, почему решили составить топ именно из такого числа категорий и почему рассчитывали именно так."
   ]
  },
  {
   "cell_type": "code",
   "execution_count": 139,
   "metadata": {
    "id": "jQ09dYUWrJg2"
   },
   "outputs": [],
   "source": [
    "# Группировка данных\n",
    "grouped = df_company_sort.groupby('category__code')['funding__total'].agg(['mean', 'std', 'max'])"
   ]
  },
  {
   "cell_type": "code",
   "execution_count": 147,
   "metadata": {},
   "outputs": [
    {
     "name": "stdout",
     "output_type": "stream",
     "text": [
      "Компании в категории с наибольшими ценами:\n",
      "category__code\n",
      "mobile          5700000000.00\n",
      "health          2600000000.00\n",
      "social          2425700000.00\n",
      "biotech         2400000000.00\n",
      "manufacturing   1765500000.00\n",
      "Name: max, dtype: float64\n"
     ]
    }
   ],
   "source": [
    "# Тoп категорий по цене\n",
    "print(f'Компании в категории с наибольшими ценами:')\n",
    "print(grouped['max'].sort_values( ascending=False).head(5))"
   ]
  },
  {
   "cell_type": "code",
   "execution_count": 149,
   "metadata": {},
   "outputs": [
    {
     "name": "stdout",
     "output_type": "stream",
     "text": [
      "Компании в категории с наибольшим разбросом цен:\n",
      "                       mean          std           max\n",
      "category__code                                        \n",
      "automotive     155127783.60 377283161.46 1451000000.00\n",
      "social          49368151.11 278301225.56 2425700000.00\n",
      "manufacturing   46379680.73 220088302.26 1765500000.00\n",
      "mobile          24647835.09 207306194.78 5700000000.00\n",
      "nanotech        85391234.46 146326586.54  520000000.00\n"
     ]
    }
   ],
   "source": [
    "# Тoп категорий по разбросу\n",
    "print(f'Компании в категории с наибольшим разбросом цен:')\n",
    "print(grouped.sort_values('std', ascending=False).head(5))"
   ]
  },
  {
   "cell_type": "markdown",
   "metadata": {},
   "source": [
    "Компания в категории с наибольшими ценами:  mobile\n",
    "Компании в категории с наибольшим разбросом цен: automotive \n",
    "\n",
    "Топ компании в категории с наибольшими ценами:\n",
    "mobile  максимальная цена - 5700000000.00\n",
    "health максимальная цена - 2600000000.00\n",
    "social максимальная цена - 2425700000.00\n",
    "biotech максимальная цена - 2400000000.00\n",
    "manufacturing максимальная цена -1765500000.00\n",
    "\n",
    "Топ компании в категории с наибольшим разбросом цен:                                     \n",
    "automotive средняя цена - 155127783.60 разброс цен: 377283161.46 -1451000000.00\n",
    "social средняя цена - 49368151.11 разброс цен: 278301225.56 - 2425700000.00\n",
    "manufacturing средняя цена - 46379680.73 разброс цен: 220088302.26 - 1765500000.00\n",
    "mobile средняя цена -  24647835.09 разброс цен: 207306194.78 - 5700000000.00\n",
    "nanotech  средняя цена - 85391234.46 разброс цен: 146326586.54 - 520000000.00\n",
    "\n",
    "\n",
    "Нижняя граница выбросов: -23773200.0, соответствует 0.0 процентилю\n",
    "Верхняя граница выбросов: 39782000.0, соответствует 255000000.0 процентилю"
   ]
  },
  {
   "cell_type": "markdown",
   "metadata": {
    "id": "ADOfyVY_rJg3"
   },
   "source": [
    "\n",
    "### 3.5. Сколько раундов продержится стартап перед покупкой\n",
    "\n",
    "* Необходимо проанализировать столбец `funding_rounds`. Исследуйте значения столбца. Заказчика интересует типичное значение количества раундов для каждого возможного статуса стартапа.\n",
    "\n",
    "* Постройте график, который отображает, сколько в среднем раундов финансирования проходило для стартапов из каждой группы. Сделайте выводы."
   ]
  },
  {
   "cell_type": "code",
   "execution_count": null,
   "metadata": {
    "id": "hgXMPC4WrJg3"
   },
   "outputs": [],
   "source": [
    "# Фильтрация данных: оставляем только те строки, где количество раундов больше 0\n",
    "df_company_filtered = df_company_sort[df_company_sort['funding__rounds'] > 0]\n",
    "\n",
    "# Группировка и агрегация данных\n",
    "df_company_startap = df_company_filtered.groupby('status')['funding__rounds'].agg(['mean', 'std', 'max'])\n",
    "\n",
    "df_company_startap\n"
   ]
  },
  {
   "cell_type": "code",
   "execution_count": null,
   "metadata": {},
   "outputs": [],
   "source": [
    "# Группируем данные\n",
    "df_startap = df_company_filtered.groupby('status').agg({'funding__rounds':'mean'})\n",
    "\n",
    "# Строим график\n",
    "axes = df_startap.plot(kind='bar',  # Изменено с 'line' на 'bar'\n",
    "                   subplots=True,\n",
    "                   sharex=True,\n",
    "                   sharey=False,\n",
    "                   legend=False,\n",
    "                   title=['Среднее число раундов'],\n",
    "                   figsize=(16, 6))\n",
    "\n",
    "# Устанавливаем подпись для оси Y графика\n",
    "axes[0].set_ylabel('Количество раундов')\n",
    "\n",
    "# Включаем сетку для подграфика\n",
    "axes[0].grid(which='both')\n",
    "\n",
    "# Устанавливаем размер шрифта для меток оси Y\n",
    "axes[0].tick_params(axis='y', labelsize=14)  # Установите нужный размер шрифта\n",
    "\n",
    "# Подписываем ось X\n",
    "plt.xlabel('Статус')\n",
    "\n",
    "pd.options.display.float_format = '{:.2f}'.format\n",
    "\n",
    "plt.show()"
   ]
  },
  {
   "cell_type": "markdown",
   "metadata": {},
   "source": [
    "Максимальное число раундов отмечает при статусе стартапа operating (15 шт.), Чуть меньше ipo (13) и acquired (12) Самое маленькое количество у статуса closed - 8 шт.\n",
    "Среднее число раундов отличается! \n",
    "На первое место выходит статус ipo среднее число раундов составляет 4, 47, стандартное 3,18, на втором месте acquired среднее число раундов составляет 2.76, стандартное 1.79, чуть меньше статус operating 2,49 и 1,87 соответственно. Меньше всего у статуса closed.  среднее число раундов 1.89, стандартное \t1.34,максиально число  8.00.\n",
    "Визуализаци показывает, что среднее количество раундов наблюдается у стартапы со статусом ipo. Далее с небольшим различием статусы operating, acquired. Меньшее число раундов у стартапов closed."
   ]
  },
  {
   "cell_type": "markdown",
   "metadata": {
    "id": "VAFEZ2HBrJg3"
   },
   "source": [
    "\n",
    "## Шаг 4. Итоговый вывод и рекомендации\n",
    "\n",
    "Опишите, что было сделано в проекте, какие были сделаны выводы, подкрепляют ли они друг друга или заставляют сомневаться в полученных результатах."
   ]
  },
  {
   "cell_type": "markdown",
   "metadata": {},
   "source": [
    "Перед проведением анализа, мною проведена преобработка имеющихся таблиц, а именно:\n",
    "Датасет df_company содержит информацию о компаниях и раундах финансирования. Представлен 22 столбцами и 217774 строками. Объем данных 36.6+ MB. \n",
    "Столбцы с числовыми данными представлены типом данных int64, столбцы с вещественными данными представлены типом данных object. Столбцы acquired_at, closed at, funded at представлены типом данных object. \n",
    "Предложения: founded__at, closed at, funded at перевести в тип данных datetime. Дубликатов нет.\n",
    "в датафрейме df_company каждый столбец имеет пропуски. 98 % в столбце closed__at - 214325 строк.\n",
    "76% отмечается во многих столбцах - founded__at (107818), funding__round__id (164846), company__id (164846), funded__at (165094), funding__round__type (164846), raised__amount (164846), pre__money__valuation (164846), participants (164846), is__first__round (164846), is__last__round (164846)\n",
    "56 % в столбце network__username (122240), 50% в столбцах country__code (109167), founded__at (107818).\n",
    "34% в столбце category__code 73888.\n",
    "В столбце domain 70615 пропуска, что составило 32 %.\n",
    "В меньшем количестве (0,00%) столбцы company__ID, milestones, name, funding__rounds, investment__rounds, status, funding__total. Данные столбцы пригодны к обработке без искажения данных. Привеены к соответствию тип данных\n",
    "\n",
    "Датасет df_acquisition содержит информацию о покупках одними компаниями других компаний. Представлен 6 столбцами и содержит 9407 строк. Объем данных 441.1+ KB. Столбцы с числовыми данными представлены типом данных int64, столбцы с вещественными данными представлены типом данных object. Столбец acquired_at так же представлен типом данных object. Данные в столбце acquired_at переведены в тип данных datetime. В id уменьшена разрядность типа данных. Дубликатов нет.\n",
    "Датафрейм df_acquisition стоблец term_code содержит 7576 пропусков (81%) и acquired_at 29 пропусков (0%). Значимое количество попусков в столбце term_code - варианты расчёта.\n",
    "\n",
    "Датасет df_degrees содержит информацию об образовании сотрудника. Представлен 4 столбцами и содержит 109610 строк. Объем данных 3.3+ MB. Столбцы с числовыми данными представлены типом данных int64, столбцы с вещественными данными представлены типом данных object. Столбец id уменьшена разрядность типа данных. Дубликатов нет. \n",
    "Число пропусков в df_degrees составляет: degree_type 11218 (10%) subject 28312 (26%)\n",
    "\n",
    "Число пропусков в df_fund составляет: в name 2 (0,00%), founded_at 7047 (60%) domain 4290 (37%) network_username 9503 (82%) country_code 4599 (39%)\n",
    "\n",
    "\n",
    "Датасет df_education содержит информацию информацию о сотрудниках. Представлен 4 столбцами и содержит 109610 строк. Объем данных 3.3+ MB. Столбцы с числовыми данными представлены типом данных int64, столбцы с вещественными данными представлены типом данных object. Данные столбца id: уменьшена разрядность типа данных. graduated_at переведен в тип данных datetime. Дубликатов нет.\n",
    "\n",
    "Датасет display содержит информацию о фондах. Представлен 9 столбцами и содержит 11652 строк. Объем данных 819.4+ KB. Столбцы с числовыми данными представлены типом данных int64, столбцы с вещественными данными представлены типом данных object. Данные столбца id: уменьшена разрядность типа данных. Данные стобца founded_at переведдены в тип данных datetime. Дубликатов нет.\n",
    "\n",
    "Датасет df_investment Содержит информацию о раундах инвестирования. Представлен 4 столбцами и содержит 61403 строк. Объем данных 1.9 MB. Dct cтолбцы с числовыми данными представлены типом данных int64 Учитывая небольшой объем памяти, оставлен в первоначальном виде. Дубликатов нет.\n",
    "\n",
    "Датасет df_people Содержит информацию о типе образования сотрудника. Представлен 5 столбцами и содержит 226709 строк. Объем данных 8.6+ MB. Столбцы с числовыми данными представлены типом данных int64, float64, столбцы с вещественными данными представлены типом данных object. Данные столбца id: уменьшена разрядность типа данных. Дубликатов нет. Число пропусков в df_people в столбце company_id - 192094 (85%), network_username - 187842 (83%), last_name -1 (0%).\n",
    "\n",
    "На основании датасета company_and_rounds.csv. проведен анализ количества финансовых процедур. \n",
    "Общее количество раундов финансирования составило 52928 шт. Среднее финансирование 7946092.26 рублей, max составил 3835050000.00 рублей\n",
    "Можно предположить, что данные столбца \"raised__amount\" имеют правостороннее распределение. Значение стандартного отклонения значимо выше среднего —  42168205.89, при среднем 7946092.26, что указывает, что данные могут иметь незначительный разброс. Разница между минимальным и максимальным значениями это подтверждает.\n",
    "\n",
    "В период с 1960 года по 2013год рост раунов отмечается с 2005 года. По этого периода в пределах 10 раундов отмечалось вплодь до 1997 года, финансирование составляло  до 8.000000e+06.\n",
    "В период с 2000 до 2005 год число раундов составило от 100 до 286 макс. финансирование составляло 2.000000e+08 (2002 год).\n",
    "С 2005 года стабильна тенденция по росту числа раундов. Пик прихолится на 2013 год. \n",
    "Максимальное количество рандов отмечалось в 2013 году. В этом же г.максимальная сумма финансирования составила 3.822520e+09. Нулевых раундов не было. При снижении максимального финансирования в 2013 году по сравнению с 2012(3.822520e+09 против 3.835050e+09), среднее финансирование возрасло (2013 год 1200000.0, 2012 год -  1000000.0).\n",
    "Обращает внимание минимальное инансирование. Только в 1994, 1998, 1990, 1992 годах оно было плюсовым. В остальные годы оно нулевое.\n",
    "\n",
    "Анализ предоставленной информации в датасетах позволил сделать определенные выводы.\n",
    "Информация в датасетах представлена, начиная с  1960 года по 2013 год Период с 1960 года по 1999 год число раундов насчитывалось до 50. Поэтому, будем анализировать те года, когда число рауодв превышает 50раунов. А это период с 1999 года по 2013 года.\n",
    "\n",
    "В период с 1999 года по 2004 год количество раундов практически на одной прямой, нет ни роста ни падения. При этом, сумма финансирования имеет пиковое распределение. Рост в 2004 году в сравнении с 1999 годом. Далее два пика 2000 и 2002 года. С 2003 года визуализация наглядно показывает рост числа раундов и финансирования. \n",
    "\n",
    "Пик финансирования в 2005 года, возм\n",
    "ожно обусловлено макс выбросами. Максимальное число раундов в 2013 году. При этом, отмечается тенденция к снижению финансирования с 2005 года. Возможно, есть тенденция к \"дроблению\" финансирования - снижение объемов за счет увеличения количества раундов. \n",
    "Максимумальное финансирование составило 1.300000e+07. среднее 6700000.0. Но, минимальная продажа составла 400000.0\n",
    "\n",
    "\n",
    "Заказчик хочет понять, зависит ли полнота сведений о сотрудниках (например, об их образовании) от размера компаний.\n",
    "\n",
    "Среднюю долю сотрудников без информации об образовании равна 40.72%. \n",
    "\n",
    "При пересечений датасетов df_company и df_people пересечений значений по столбцу network__username 2200. При пересечении датасетов df_company и df_fund пересечений значений по столбцу network__username 71. При пересечении датасетов df_people и df_fund пересечений значений по столбцу network__username 80.\n",
    "Следовательно,объединение df_people и df_company более не целесообразно в виду маленькой доли пересечений. \n",
    "\n",
    "В процессе работы над проектом выявлено, что в датасете df_company  фактически \"склеены\" две таблицы - данные по компаниям, данные по раундам финансирования. Датасет разделен на две таблицы. Таблица с данными по компаниям проанализирована, удалены дубликаты.\n",
    "Нализз компаний проведен далее в таблицах,  которых указаны значения funding_rounds или investment_rounds больше нуля, и те, у которых в колонке status указано acquired.\n",
    "\n",
    "Аналмз выброс: Число финансовых процедур составило 61666. Средняя сумма финансирования 21146234 стандартная сумма финансирования 90130450.99 25% 60000.00 50% 2490000.00 75% 15948800.00 max сумма финансирования составила 5700000000.00. Отмечается большое количество выбросов отмечается свыше 4 млн.рублей\n",
    "\n",
    "Анализ компаний, которые были проданы за ноль или за один доллар, и при этом известно, что у них был ненулевой общий объём финансирования. показывает. Число раунов у таких компаний было 8386. Средняя финансования сумма 10517732.65, стандартная - 126777814.85. Нижняя граница выбросов для столбца funding_total равна нулю.Верхняя 4100000.00, что соответвтует 75% процентилям границы. выбросы составили 5700000000.00, что максимально по всем компаниями.\n",
    "\n",
    "При замене верхней границы выбросов на значения, расположенные в 75% процентилях, приведет к риску. В случае удачной финансовой сделки, возможна макисмальная прибыль\n",
    "\n",
    "Компания в категории с наибольшими ценами:  mobile\n",
    "Компании в категории с наибольшим разбросом цен: automotive \n",
    "Нижняя граница выбросов составляет: -23773200.0, соответствует 0.0 процентилю\n",
    "Верхняя граница выбросов составляет: 39782000.0, соответствует 255000000.0 процентилю\n",
    "\n",
    "Максимальное число раундов отмечает при статусе стартапа operating (15 шт.), Чуть меньше ipo (13) и acquired (12) Самое маленькое количество у статуса closed - 8 шт. Среднее число раундов отличается! На первое место выходит статус ipo среднее число раундов составляет 4, 47, стандартное 3,18, на втором месте acquired среднее число раундов составляет 2.76, стандартное 1.79, чуть меньше статус operating 2,49 и 1,87 соответственно. Меньше всего у статуса closed. среднее число раундов 1.89, стандартное 1.34,максиально число 8.00. Визуализаци показывает, что среднее количество раундов наблюдается у стартапы со статусом ipo. Далее с небольшим различием статусы operating, acquired. Меньшее число раундов у стартапов closed.\n",
    "\n",
    "Анализ компаний, которые были проданы за ноль или за один доллар, и при этом известно, что у них был ненулевой общий объём финансирования. показывает.\n",
    "Число раунов у таких компаний было 8386. Средняя финансования сумма 10517732.65, стандартная - 126777814.85.\n",
    "Нижняя граница выбросов: -23773200.0\n",
    "Очевидно отрицательная нижняя граница, которая просто интерпретируется как 0.\n",
    "Верхняя граница выбросов: 39782000.0, соответствует 87.19 процентилю\n",
    "При замене верхней границы выбросов на значения, расположенные в 75% процентилях, приведет к риску. В случае удачной финансовой сделке, возможна макисмальная прибыль "
   ]
  }
 ],
 "metadata": {
  "ExecuteTimeLog": [
   {
    "duration": 112,
    "start_time": "2025-01-14T16:34:29.265Z"
   },
   {
    "duration": 99,
    "start_time": "2025-01-14T16:35:26.349Z"
   },
   {
    "duration": 7413,
    "start_time": "2025-01-14T16:37:21.417Z"
   },
   {
    "duration": 102,
    "start_time": "2025-01-14T16:37:28.833Z"
   },
   {
    "duration": 162,
    "start_time": "2025-01-14T16:38:02.793Z"
   },
   {
    "duration": 4064,
    "start_time": "2025-01-14T16:38:27.238Z"
   },
   {
    "duration": 160,
    "start_time": "2025-01-14T16:38:31.304Z"
   },
   {
    "duration": 56,
    "start_time": "2025-01-14T16:39:19.615Z"
   },
   {
    "duration": 151,
    "start_time": "2025-01-14T16:41:27.439Z"
   },
   {
    "duration": 13,
    "start_time": "2025-01-14T16:41:46.932Z"
   },
   {
    "duration": 14,
    "start_time": "2025-01-14T16:42:01.141Z"
   },
   {
    "duration": 1135,
    "start_time": "2025-01-14T16:43:20.805Z"
   },
   {
    "duration": 26,
    "start_time": "2025-01-14T16:43:37.463Z"
   },
   {
    "duration": 191,
    "start_time": "2025-01-14T16:46:50.563Z"
   },
   {
    "duration": 8,
    "start_time": "2025-01-14T16:46:51.195Z"
   },
   {
    "duration": 204,
    "start_time": "2025-01-14T16:47:58.205Z"
   },
   {
    "duration": 8,
    "start_time": "2025-01-14T16:47:58.590Z"
   },
   {
    "duration": 101,
    "start_time": "2025-01-14T16:48:53.099Z"
   },
   {
    "duration": 11,
    "start_time": "2025-01-14T16:48:53.559Z"
   },
   {
    "duration": 82,
    "start_time": "2025-01-14T16:49:03.268Z"
   },
   {
    "duration": 12,
    "start_time": "2025-01-14T16:49:03.969Z"
   },
   {
    "duration": 103,
    "start_time": "2025-01-14T16:49:53.211Z"
   },
   {
    "duration": 8,
    "start_time": "2025-01-14T16:49:53.784Z"
   },
   {
    "duration": 628,
    "start_time": "2025-01-14T16:50:44.375Z"
   },
   {
    "duration": 10,
    "start_time": "2025-01-14T16:50:45.005Z"
   },
   {
    "duration": 4,
    "start_time": "2025-01-14T16:57:23.644Z"
   },
   {
    "duration": 4,
    "start_time": "2025-01-14T16:57:27.884Z"
   },
   {
    "duration": 4,
    "start_time": "2025-01-14T16:57:40.829Z"
   },
   {
    "duration": 4,
    "start_time": "2025-01-14T16:57:51.580Z"
   },
   {
    "duration": 4,
    "start_time": "2025-01-14T16:57:58.019Z"
   },
   {
    "duration": 6,
    "start_time": "2025-01-14T16:58:02.633Z"
   },
   {
    "duration": 5,
    "start_time": "2025-01-14T16:58:04.546Z"
   },
   {
    "duration": 10,
    "start_time": "2025-01-14T17:01:07.198Z"
   },
   {
    "duration": 14,
    "start_time": "2025-01-14T17:01:15.071Z"
   },
   {
    "duration": 17,
    "start_time": "2025-01-14T17:11:17.993Z"
   },
   {
    "duration": 8,
    "start_time": "2025-01-14T17:11:59.608Z"
   },
   {
    "duration": 14,
    "start_time": "2025-01-14T17:12:06.035Z"
   },
   {
    "duration": 12,
    "start_time": "2025-01-14T17:14:10.723Z"
   },
   {
    "duration": 1404,
    "start_time": "2025-01-14T17:14:35.471Z"
   },
   {
    "duration": 6,
    "start_time": "2025-01-14T17:15:26.471Z"
   },
   {
    "duration": 14,
    "start_time": "2025-01-14T17:16:33.567Z"
   },
   {
    "duration": 5,
    "start_time": "2025-01-14T17:17:05.841Z"
   },
   {
    "duration": 14,
    "start_time": "2025-01-14T17:17:07.595Z"
   },
   {
    "duration": 5,
    "start_time": "2025-01-14T17:19:32.998Z"
   },
   {
    "duration": 10,
    "start_time": "2025-01-14T17:19:33.497Z"
   },
   {
    "duration": 12,
    "start_time": "2025-01-14T17:19:41.913Z"
   },
   {
    "duration": 12,
    "start_time": "2025-01-14T17:20:07.166Z"
   },
   {
    "duration": 10,
    "start_time": "2025-01-14T17:20:24.985Z"
   },
   {
    "duration": 13,
    "start_time": "2025-01-14T17:20:26.252Z"
   },
   {
    "duration": 112,
    "start_time": "2025-01-14T17:22:03.205Z"
   },
   {
    "duration": 2279,
    "start_time": "2025-01-14T17:37:18.026Z"
   },
   {
    "duration": 1,
    "start_time": "2025-01-14T17:37:20.307Z"
   },
   {
    "duration": 0,
    "start_time": "2025-01-14T17:37:20.309Z"
   },
   {
    "duration": 0,
    "start_time": "2025-01-14T17:37:20.311Z"
   },
   {
    "duration": 1473,
    "start_time": "2025-01-14T17:37:20.797Z"
   },
   {
    "duration": 1445,
    "start_time": "2025-01-14T17:37:28.450Z"
   },
   {
    "duration": 0,
    "start_time": "2025-01-14T17:37:29.897Z"
   },
   {
    "duration": 1535,
    "start_time": "2025-01-14T17:38:05.060Z"
   },
   {
    "duration": 3901,
    "start_time": "2025-01-14T17:38:48.329Z"
   },
   {
    "duration": 61,
    "start_time": "2025-01-14T17:38:52.233Z"
   },
   {
    "duration": 1208,
    "start_time": "2025-01-14T17:38:52.296Z"
   },
   {
    "duration": 225,
    "start_time": "2025-01-14T17:38:53.507Z"
   },
   {
    "duration": 262,
    "start_time": "2025-01-14T17:38:53.734Z"
   },
   {
    "duration": 94,
    "start_time": "2025-01-14T17:38:53.998Z"
   },
   {
    "duration": 126,
    "start_time": "2025-01-14T17:38:54.094Z"
   },
   {
    "duration": 509,
    "start_time": "2025-01-14T17:38:54.221Z"
   },
   {
    "duration": 7,
    "start_time": "2025-01-14T17:38:54.732Z"
   },
   {
    "duration": 7,
    "start_time": "2025-01-14T17:38:54.741Z"
   },
   {
    "duration": 5,
    "start_time": "2025-01-14T17:38:54.759Z"
   },
   {
    "duration": 8,
    "start_time": "2025-01-14T17:38:54.765Z"
   },
   {
    "duration": 9,
    "start_time": "2025-01-14T17:38:54.774Z"
   },
   {
    "duration": 6,
    "start_time": "2025-01-14T17:38:54.785Z"
   },
   {
    "duration": 5,
    "start_time": "2025-01-14T17:38:54.793Z"
   },
   {
    "duration": 98,
    "start_time": "2025-01-14T17:38:54.800Z"
   },
   {
    "duration": 0,
    "start_time": "2025-01-14T17:38:54.900Z"
   },
   {
    "duration": 0,
    "start_time": "2025-01-14T17:38:54.901Z"
   },
   {
    "duration": 0,
    "start_time": "2025-01-14T17:38:54.903Z"
   },
   {
    "duration": 1,
    "start_time": "2025-01-14T17:38:54.903Z"
   },
   {
    "duration": 0,
    "start_time": "2025-01-14T17:38:54.905Z"
   },
   {
    "duration": 0,
    "start_time": "2025-01-14T17:38:54.906Z"
   },
   {
    "duration": 0,
    "start_time": "2025-01-14T17:38:54.907Z"
   },
   {
    "duration": 0,
    "start_time": "2025-01-14T17:38:54.907Z"
   },
   {
    "duration": 0,
    "start_time": "2025-01-14T17:38:54.909Z"
   },
   {
    "duration": 0,
    "start_time": "2025-01-14T17:38:54.909Z"
   },
   {
    "duration": 0,
    "start_time": "2025-01-14T17:38:54.910Z"
   },
   {
    "duration": 14,
    "start_time": "2025-01-14T17:39:06.049Z"
   },
   {
    "duration": 16,
    "start_time": "2025-01-14T17:39:06.824Z"
   },
   {
    "duration": 100,
    "start_time": "2025-01-14T17:39:09.555Z"
   },
   {
    "duration": 5,
    "start_time": "2025-01-14T17:39:13.945Z"
   },
   {
    "duration": 10,
    "start_time": "2025-01-14T17:39:14.587Z"
   },
   {
    "duration": 1564,
    "start_time": "2025-01-14T17:39:19.050Z"
   },
   {
    "duration": 0,
    "start_time": "2025-01-14T17:39:20.616Z"
   },
   {
    "duration": 0,
    "start_time": "2025-01-14T17:39:20.617Z"
   },
   {
    "duration": 1724,
    "start_time": "2025-01-14T17:40:12.931Z"
   },
   {
    "duration": 4,
    "start_time": "2025-01-14T17:44:44.743Z"
   },
   {
    "duration": 4,
    "start_time": "2025-01-14T17:44:46.187Z"
   },
   {
    "duration": 4,
    "start_time": "2025-01-14T17:45:09.114Z"
   },
   {
    "duration": 3,
    "start_time": "2025-01-14T17:45:09.793Z"
   },
   {
    "duration": 4,
    "start_time": "2025-01-14T17:45:10.372Z"
   },
   {
    "duration": 1653,
    "start_time": "2025-01-14T17:48:09.054Z"
   },
   {
    "duration": 1376,
    "start_time": "2025-01-14T17:48:33.504Z"
   },
   {
    "duration": 3920,
    "start_time": "2025-01-14T17:48:40.080Z"
   },
   {
    "duration": 63,
    "start_time": "2025-01-14T17:48:44.003Z"
   },
   {
    "duration": 1028,
    "start_time": "2025-01-14T17:48:44.068Z"
   },
   {
    "duration": 173,
    "start_time": "2025-01-14T17:48:45.099Z"
   },
   {
    "duration": 239,
    "start_time": "2025-01-14T17:48:45.274Z"
   },
   {
    "duration": 118,
    "start_time": "2025-01-14T17:48:45.515Z"
   },
   {
    "duration": 76,
    "start_time": "2025-01-14T17:48:45.634Z"
   },
   {
    "duration": 324,
    "start_time": "2025-01-14T17:48:45.712Z"
   },
   {
    "duration": 8,
    "start_time": "2025-01-14T17:48:46.038Z"
   },
   {
    "duration": 19,
    "start_time": "2025-01-14T17:48:46.059Z"
   },
   {
    "duration": 25,
    "start_time": "2025-01-14T17:48:46.080Z"
   },
   {
    "duration": 15,
    "start_time": "2025-01-14T17:48:46.107Z"
   },
   {
    "duration": 28,
    "start_time": "2025-01-14T17:48:46.124Z"
   },
   {
    "duration": 18,
    "start_time": "2025-01-14T17:48:46.154Z"
   },
   {
    "duration": 9,
    "start_time": "2025-01-14T17:48:46.175Z"
   },
   {
    "duration": 21,
    "start_time": "2025-01-14T17:48:46.186Z"
   },
   {
    "duration": 25,
    "start_time": "2025-01-14T17:48:46.208Z"
   },
   {
    "duration": 26,
    "start_time": "2025-01-14T17:48:46.234Z"
   },
   {
    "duration": 23,
    "start_time": "2025-01-14T17:48:46.262Z"
   },
   {
    "duration": 111,
    "start_time": "2025-01-14T17:48:46.286Z"
   },
   {
    "duration": 5,
    "start_time": "2025-01-14T17:48:46.398Z"
   },
   {
    "duration": 16,
    "start_time": "2025-01-14T17:48:46.404Z"
   },
   {
    "duration": 1609,
    "start_time": "2025-01-14T17:48:46.421Z"
   },
   {
    "duration": 0,
    "start_time": "2025-01-14T17:48:48.032Z"
   },
   {
    "duration": 0,
    "start_time": "2025-01-14T17:48:48.034Z"
   },
   {
    "duration": 0,
    "start_time": "2025-01-14T17:48:48.035Z"
   },
   {
    "duration": 0,
    "start_time": "2025-01-14T17:48:48.036Z"
   },
   {
    "duration": 0,
    "start_time": "2025-01-14T17:48:48.037Z"
   },
   {
    "duration": 5,
    "start_time": "2025-01-14T17:49:46.860Z"
   },
   {
    "duration": 4,
    "start_time": "2025-01-14T17:49:51.000Z"
   },
   {
    "duration": 4,
    "start_time": "2025-01-14T17:49:51.433Z"
   },
   {
    "duration": 189,
    "start_time": "2025-01-14T17:50:46.050Z"
   },
   {
    "duration": 675,
    "start_time": "2025-01-14T17:51:34.940Z"
   },
   {
    "duration": 727,
    "start_time": "2025-01-14T17:52:39.202Z"
   },
   {
    "duration": 6,
    "start_time": "2025-01-14T17:55:43.334Z"
   },
   {
    "duration": 7,
    "start_time": "2025-01-14T17:56:32.963Z"
   },
   {
    "duration": 1369,
    "start_time": "2025-01-14T17:56:33.597Z"
   },
   {
    "duration": 6,
    "start_time": "2025-01-14T17:57:36.913Z"
   },
   {
    "duration": 6,
    "start_time": "2025-01-14T17:58:05.946Z"
   },
   {
    "duration": 1454,
    "start_time": "2025-01-14T17:58:18.358Z"
   },
   {
    "duration": 40,
    "start_time": "2025-01-14T17:58:43.388Z"
   },
   {
    "duration": 33,
    "start_time": "2025-01-14T17:59:19.095Z"
   },
   {
    "duration": 38,
    "start_time": "2025-01-14T17:59:22.772Z"
   },
   {
    "duration": 9,
    "start_time": "2025-01-14T17:59:49.583Z"
   },
   {
    "duration": 107,
    "start_time": "2025-01-14T18:00:00.957Z"
   },
   {
    "duration": 111,
    "start_time": "2025-01-14T18:01:35.744Z"
   },
   {
    "duration": 40,
    "start_time": "2025-01-14T18:01:48.433Z"
   },
   {
    "duration": 102,
    "start_time": "2025-01-14T18:01:50.146Z"
   },
   {
    "duration": 141,
    "start_time": "2025-01-14T18:04:13.744Z"
   },
   {
    "duration": 36,
    "start_time": "2025-01-14T18:04:39.907Z"
   },
   {
    "duration": 6,
    "start_time": "2025-01-14T18:06:48.728Z"
   },
   {
    "duration": 10,
    "start_time": "2025-01-14T18:06:49.452Z"
   },
   {
    "duration": 6,
    "start_time": "2025-01-14T18:06:52.994Z"
   },
   {
    "duration": 6,
    "start_time": "2025-01-14T18:06:53.705Z"
   },
   {
    "duration": 5,
    "start_time": "2025-01-14T18:06:54.233Z"
   },
   {
    "duration": 39,
    "start_time": "2025-01-14T18:06:54.785Z"
   },
   {
    "duration": 32,
    "start_time": "2025-01-14T18:06:55.488Z"
   },
   {
    "duration": 35,
    "start_time": "2025-01-14T18:06:56.506Z"
   },
   {
    "duration": 109,
    "start_time": "2025-01-14T18:06:58.127Z"
   },
   {
    "duration": 25,
    "start_time": "2025-01-14T18:08:42.516Z"
   },
   {
    "duration": 11,
    "start_time": "2025-01-14T18:08:43.730Z"
   },
   {
    "duration": 8,
    "start_time": "2025-01-14T18:11:29.662Z"
   },
   {
    "duration": 105,
    "start_time": "2025-01-14T18:12:00.989Z"
   },
   {
    "duration": 25,
    "start_time": "2025-01-14T18:13:37.428Z"
   },
   {
    "duration": 22,
    "start_time": "2025-01-14T18:15:33.956Z"
   },
   {
    "duration": 11,
    "start_time": "2025-01-14T18:15:34.831Z"
   },
   {
    "duration": 1424,
    "start_time": "2025-01-14T18:18:11.094Z"
   },
   {
    "duration": 1383,
    "start_time": "2025-01-14T18:18:59.058Z"
   },
   {
    "duration": 6,
    "start_time": "2025-01-14T18:20:24.811Z"
   },
   {
    "duration": 25,
    "start_time": "2025-01-14T18:20:25.399Z"
   },
   {
    "duration": 8,
    "start_time": "2025-01-14T18:21:10.688Z"
   },
   {
    "duration": 20,
    "start_time": "2025-01-14T18:21:55.703Z"
   },
   {
    "duration": 15,
    "start_time": "2025-01-14T18:22:59.952Z"
   },
   {
    "duration": 14,
    "start_time": "2025-01-14T18:23:25.784Z"
   },
   {
    "duration": 5,
    "start_time": "2025-01-14T18:26:28.903Z"
   },
   {
    "duration": 9,
    "start_time": "2025-01-14T18:27:56.637Z"
   },
   {
    "duration": 13,
    "start_time": "2025-01-14T18:28:02.197Z"
   },
   {
    "duration": 10,
    "start_time": "2025-01-14T18:29:04.571Z"
   },
   {
    "duration": 104,
    "start_time": "2025-01-14T18:29:28.974Z"
   },
   {
    "duration": 10,
    "start_time": "2025-01-14T18:29:38.142Z"
   },
   {
    "duration": 13,
    "start_time": "2025-01-14T18:34:29.763Z"
   },
   {
    "duration": 42,
    "start_time": "2025-01-14T18:34:42.041Z"
   },
   {
    "duration": 11,
    "start_time": "2025-01-14T18:37:29.393Z"
   },
   {
    "duration": 43,
    "start_time": "2025-01-14T18:37:29.921Z"
   },
   {
    "duration": 12,
    "start_time": "2025-01-14T18:43:47.480Z"
   },
   {
    "duration": 7,
    "start_time": "2025-01-14T18:43:55.393Z"
   },
   {
    "duration": 60,
    "start_time": "2025-01-14T18:46:18.739Z"
   },
   {
    "duration": 21,
    "start_time": "2025-01-14T18:46:36.956Z"
   },
   {
    "duration": 8,
    "start_time": "2025-01-14T18:47:05.208Z"
   },
   {
    "duration": 15,
    "start_time": "2025-01-14T18:47:06.262Z"
   },
   {
    "duration": 3762,
    "start_time": "2025-01-14T18:53:06.409Z"
   },
   {
    "duration": 117,
    "start_time": "2025-01-14T18:53:10.173Z"
   },
   {
    "duration": 1483,
    "start_time": "2025-01-14T18:53:10.291Z"
   },
   {
    "duration": 229,
    "start_time": "2025-01-14T18:53:11.777Z"
   },
   {
    "duration": 231,
    "start_time": "2025-01-14T18:53:12.008Z"
   },
   {
    "duration": 98,
    "start_time": "2025-01-14T18:53:12.240Z"
   },
   {
    "duration": 117,
    "start_time": "2025-01-14T18:53:12.340Z"
   },
   {
    "duration": 340,
    "start_time": "2025-01-14T18:53:12.459Z"
   },
   {
    "duration": 6,
    "start_time": "2025-01-14T18:53:12.801Z"
   },
   {
    "duration": 14,
    "start_time": "2025-01-14T18:53:12.810Z"
   },
   {
    "duration": 8,
    "start_time": "2025-01-14T18:53:12.826Z"
   },
   {
    "duration": 5,
    "start_time": "2025-01-14T18:53:12.836Z"
   },
   {
    "duration": 17,
    "start_time": "2025-01-14T18:53:12.842Z"
   },
   {
    "duration": 7,
    "start_time": "2025-01-14T18:53:12.861Z"
   },
   {
    "duration": 4,
    "start_time": "2025-01-14T18:53:12.870Z"
   },
   {
    "duration": 6,
    "start_time": "2025-01-14T18:53:12.875Z"
   },
   {
    "duration": 4,
    "start_time": "2025-01-14T18:53:12.883Z"
   },
   {
    "duration": 14,
    "start_time": "2025-01-14T18:53:12.889Z"
   },
   {
    "duration": 15,
    "start_time": "2025-01-14T18:53:12.904Z"
   },
   {
    "duration": 157,
    "start_time": "2025-01-14T18:53:12.921Z"
   },
   {
    "duration": 207,
    "start_time": "2025-01-14T18:53:13.080Z"
   },
   {
    "duration": 26,
    "start_time": "2025-01-14T18:53:13.289Z"
   },
   {
    "duration": 12,
    "start_time": "2025-01-14T18:53:13.317Z"
   },
   {
    "duration": 47,
    "start_time": "2025-01-14T18:53:13.330Z"
   },
   {
    "duration": 11,
    "start_time": "2025-01-14T18:53:13.379Z"
   },
   {
    "duration": 19,
    "start_time": "2025-01-14T18:53:13.392Z"
   },
   {
    "duration": 14,
    "start_time": "2025-01-14T18:53:13.413Z"
   },
   {
    "duration": 36,
    "start_time": "2025-01-14T18:53:13.431Z"
   },
   {
    "duration": 10,
    "start_time": "2025-01-14T18:53:13.469Z"
   },
   {
    "duration": 59,
    "start_time": "2025-01-14T18:53:13.480Z"
   },
   {
    "duration": 28,
    "start_time": "2025-01-14T18:53:13.541Z"
   },
   {
    "duration": 5,
    "start_time": "2025-01-14T18:53:13.571Z"
   },
   {
    "duration": 11,
    "start_time": "2025-01-14T18:53:13.578Z"
   },
   {
    "duration": 31,
    "start_time": "2025-01-14T18:53:13.591Z"
   },
   {
    "duration": 46,
    "start_time": "2025-01-14T18:53:13.624Z"
   },
   {
    "duration": 57,
    "start_time": "2025-01-14T18:53:13.672Z"
   },
   {
    "duration": 44,
    "start_time": "2025-01-14T18:53:13.731Z"
   },
   {
    "duration": 33,
    "start_time": "2025-01-14T18:53:13.777Z"
   },
   {
    "duration": 62,
    "start_time": "2025-01-14T18:53:13.811Z"
   },
   {
    "duration": 110,
    "start_time": "2025-01-14T18:53:13.874Z"
   },
   {
    "duration": 111,
    "start_time": "2025-01-14T18:53:13.986Z"
   },
   {
    "duration": 115,
    "start_time": "2025-01-14T18:53:14.099Z"
   },
   {
    "duration": 7,
    "start_time": "2025-01-14T18:53:14.215Z"
   },
   {
    "duration": 44,
    "start_time": "2025-01-14T18:53:14.224Z"
   },
   {
    "duration": 22,
    "start_time": "2025-01-14T18:53:14.269Z"
   },
   {
    "duration": 28,
    "start_time": "2025-01-14T18:53:14.293Z"
   },
   {
    "duration": 8,
    "start_time": "2025-01-14T18:53:14.323Z"
   },
   {
    "duration": 46,
    "start_time": "2025-01-14T18:53:14.332Z"
   },
   {
    "duration": 28,
    "start_time": "2025-01-14T18:53:14.380Z"
   },
   {
    "duration": 20,
    "start_time": "2025-01-14T18:53:14.410Z"
   },
   {
    "duration": 39,
    "start_time": "2025-01-14T18:53:14.432Z"
   },
   {
    "duration": 5,
    "start_time": "2025-01-14T18:53:14.472Z"
   },
   {
    "duration": 18,
    "start_time": "2025-01-14T18:53:14.478Z"
   },
   {
    "duration": 25,
    "start_time": "2025-01-14T18:53:14.497Z"
   },
   {
    "duration": 18,
    "start_time": "2025-01-14T18:53:14.523Z"
   },
   {
    "duration": 39,
    "start_time": "2025-01-14T18:53:14.542Z"
   },
   {
    "duration": 12,
    "start_time": "2025-01-14T18:53:14.582Z"
   },
   {
    "duration": 66,
    "start_time": "2025-01-14T18:53:14.595Z"
   },
   {
    "duration": 45,
    "start_time": "2025-01-14T18:53:14.662Z"
   },
   {
    "duration": 62,
    "start_time": "2025-01-14T18:53:14.709Z"
   },
   {
    "duration": 9,
    "start_time": "2025-01-14T18:58:37.641Z"
   },
   {
    "duration": 22,
    "start_time": "2025-01-14T18:58:38.277Z"
   },
   {
    "duration": 20,
    "start_time": "2025-01-14T18:58:46.616Z"
   },
   {
    "duration": 7708,
    "start_time": "2025-01-15T17:42:23.964Z"
   },
   {
    "duration": 172,
    "start_time": "2025-01-15T17:42:31.674Z"
   },
   {
    "duration": 1373,
    "start_time": "2025-01-15T17:42:31.848Z"
   },
   {
    "duration": 256,
    "start_time": "2025-01-15T17:42:33.223Z"
   },
   {
    "duration": 268,
    "start_time": "2025-01-15T17:42:33.481Z"
   },
   {
    "duration": 143,
    "start_time": "2025-01-15T17:42:33.751Z"
   },
   {
    "duration": 111,
    "start_time": "2025-01-15T17:42:33.895Z"
   },
   {
    "duration": 404,
    "start_time": "2025-01-15T17:42:34.007Z"
   },
   {
    "duration": 6,
    "start_time": "2025-01-15T17:42:34.413Z"
   },
   {
    "duration": 6,
    "start_time": "2025-01-15T17:42:34.422Z"
   },
   {
    "duration": 3,
    "start_time": "2025-01-15T17:42:34.430Z"
   },
   {
    "duration": 12,
    "start_time": "2025-01-15T17:42:34.435Z"
   },
   {
    "duration": 14,
    "start_time": "2025-01-15T17:42:34.448Z"
   },
   {
    "duration": 24,
    "start_time": "2025-01-15T17:42:34.464Z"
   },
   {
    "duration": 15,
    "start_time": "2025-01-15T17:42:34.489Z"
   },
   {
    "duration": 19,
    "start_time": "2025-01-15T17:42:34.506Z"
   },
   {
    "duration": 8,
    "start_time": "2025-01-15T17:42:34.527Z"
   },
   {
    "duration": 24,
    "start_time": "2025-01-15T17:42:34.536Z"
   },
   {
    "duration": 16,
    "start_time": "2025-01-15T17:42:34.561Z"
   },
   {
    "duration": 89,
    "start_time": "2025-01-15T17:42:34.579Z"
   },
   {
    "duration": 143,
    "start_time": "2025-01-15T17:42:34.670Z"
   },
   {
    "duration": 20,
    "start_time": "2025-01-15T17:42:34.815Z"
   },
   {
    "duration": 10,
    "start_time": "2025-01-15T17:42:34.836Z"
   },
   {
    "duration": 41,
    "start_time": "2025-01-15T17:42:34.847Z"
   },
   {
    "duration": 9,
    "start_time": "2025-01-15T17:42:34.889Z"
   },
   {
    "duration": 11,
    "start_time": "2025-01-15T17:42:34.899Z"
   },
   {
    "duration": 12,
    "start_time": "2025-01-15T17:42:34.911Z"
   },
   {
    "duration": 10,
    "start_time": "2025-01-15T17:42:34.928Z"
   },
   {
    "duration": 52,
    "start_time": "2025-01-15T17:42:34.940Z"
   },
   {
    "duration": 33,
    "start_time": "2025-01-15T17:42:34.993Z"
   },
   {
    "duration": 12,
    "start_time": "2025-01-15T17:42:35.027Z"
   },
   {
    "duration": 7,
    "start_time": "2025-01-15T17:42:35.040Z"
   },
   {
    "duration": 39,
    "start_time": "2025-01-15T17:42:35.048Z"
   },
   {
    "duration": 10,
    "start_time": "2025-01-15T17:42:35.088Z"
   },
   {
    "duration": 13,
    "start_time": "2025-01-15T17:42:35.099Z"
   },
   {
    "duration": 55,
    "start_time": "2025-01-15T17:42:35.113Z"
   },
   {
    "duration": 43,
    "start_time": "2025-01-15T17:42:35.175Z"
   },
   {
    "duration": 29,
    "start_time": "2025-01-15T17:42:35.220Z"
   },
   {
    "duration": 56,
    "start_time": "2025-01-15T17:42:35.251Z"
   },
   {
    "duration": 103,
    "start_time": "2025-01-15T17:42:35.310Z"
   },
   {
    "duration": 88,
    "start_time": "2025-01-15T17:42:35.415Z"
   },
   {
    "duration": 108,
    "start_time": "2025-01-15T17:42:35.505Z"
   },
   {
    "duration": 9,
    "start_time": "2025-01-15T17:42:35.614Z"
   },
   {
    "duration": 22,
    "start_time": "2025-01-15T17:42:35.625Z"
   },
   {
    "duration": 86,
    "start_time": "2025-01-15T17:42:35.648Z"
   },
   {
    "duration": 24,
    "start_time": "2025-01-15T17:42:35.736Z"
   },
   {
    "duration": 7,
    "start_time": "2025-01-15T17:42:35.762Z"
   },
   {
    "duration": 32,
    "start_time": "2025-01-15T17:42:35.771Z"
   },
   {
    "duration": 36,
    "start_time": "2025-01-15T17:42:35.804Z"
   },
   {
    "duration": 28,
    "start_time": "2025-01-15T17:42:35.841Z"
   },
   {
    "duration": 27,
    "start_time": "2025-01-15T17:42:35.870Z"
   },
   {
    "duration": 8,
    "start_time": "2025-01-15T17:42:35.899Z"
   },
   {
    "duration": 13,
    "start_time": "2025-01-15T17:42:35.909Z"
   },
   {
    "duration": 12,
    "start_time": "2025-01-15T17:42:35.924Z"
   },
   {
    "duration": 9,
    "start_time": "2025-01-15T17:42:35.938Z"
   },
   {
    "duration": 39,
    "start_time": "2025-01-15T17:42:35.948Z"
   },
   {
    "duration": 7,
    "start_time": "2025-01-15T17:42:35.989Z"
   },
   {
    "duration": 101,
    "start_time": "2025-01-15T17:42:35.998Z"
   },
   {
    "duration": 27,
    "start_time": "2025-01-15T17:42:36.100Z"
   },
   {
    "duration": 35,
    "start_time": "2025-01-15T17:42:36.128Z"
   },
   {
    "duration": 7,
    "start_time": "2025-01-15T18:17:37.606Z"
   },
   {
    "duration": 10,
    "start_time": "2025-01-15T18:17:39.116Z"
   },
   {
    "duration": 12,
    "start_time": "2025-01-15T18:17:43.345Z"
   },
   {
    "duration": 6,
    "start_time": "2025-01-15T18:19:39.009Z"
   },
   {
    "duration": 10,
    "start_time": "2025-01-15T18:19:43.114Z"
   },
   {
    "duration": 46,
    "start_time": "2025-01-15T18:20:06.362Z"
   },
   {
    "duration": 33,
    "start_time": "2025-01-15T18:20:06.410Z"
   },
   {
    "duration": 3942,
    "start_time": "2025-01-15T18:21:34.619Z"
   },
   {
    "duration": 55,
    "start_time": "2025-01-15T18:21:38.563Z"
   },
   {
    "duration": 1096,
    "start_time": "2025-01-15T18:21:38.620Z"
   },
   {
    "duration": 143,
    "start_time": "2025-01-15T18:21:39.719Z"
   },
   {
    "duration": 297,
    "start_time": "2025-01-15T18:21:39.864Z"
   },
   {
    "duration": 54,
    "start_time": "2025-01-15T18:21:40.163Z"
   },
   {
    "duration": 143,
    "start_time": "2025-01-15T18:21:40.218Z"
   },
   {
    "duration": 418,
    "start_time": "2025-01-15T18:21:40.362Z"
   },
   {
    "duration": 9,
    "start_time": "2025-01-15T18:21:40.783Z"
   },
   {
    "duration": 3,
    "start_time": "2025-01-15T18:21:40.796Z"
   },
   {
    "duration": 4,
    "start_time": "2025-01-15T18:21:40.801Z"
   },
   {
    "duration": 5,
    "start_time": "2025-01-15T18:21:40.807Z"
   },
   {
    "duration": 4,
    "start_time": "2025-01-15T18:21:40.814Z"
   },
   {
    "duration": 5,
    "start_time": "2025-01-15T18:21:40.820Z"
   },
   {
    "duration": 60,
    "start_time": "2025-01-15T18:21:40.827Z"
   },
   {
    "duration": 41,
    "start_time": "2025-01-15T18:21:40.889Z"
   },
   {
    "duration": 16,
    "start_time": "2025-01-15T18:21:40.932Z"
   },
   {
    "duration": 15,
    "start_time": "2025-01-15T18:21:40.950Z"
   },
   {
    "duration": 14,
    "start_time": "2025-01-15T18:21:40.967Z"
   },
   {
    "duration": 84,
    "start_time": "2025-01-15T18:21:40.983Z"
   },
   {
    "duration": 188,
    "start_time": "2025-01-15T18:21:41.068Z"
   },
   {
    "duration": 29,
    "start_time": "2025-01-15T18:21:41.258Z"
   },
   {
    "duration": 9,
    "start_time": "2025-01-15T18:21:41.289Z"
   },
   {
    "duration": 17,
    "start_time": "2025-01-15T18:21:41.299Z"
   },
   {
    "duration": 16,
    "start_time": "2025-01-15T18:21:41.317Z"
   },
   {
    "duration": 11,
    "start_time": "2025-01-15T18:21:41.335Z"
   },
   {
    "duration": 46,
    "start_time": "2025-01-15T18:21:41.347Z"
   },
   {
    "duration": 9,
    "start_time": "2025-01-15T18:21:41.396Z"
   },
   {
    "duration": 8,
    "start_time": "2025-01-15T18:21:41.406Z"
   },
   {
    "duration": 32,
    "start_time": "2025-01-15T18:21:41.415Z"
   },
   {
    "duration": 40,
    "start_time": "2025-01-15T18:21:41.448Z"
   },
   {
    "duration": 45,
    "start_time": "2025-01-15T18:21:41.489Z"
   },
   {
    "duration": 8,
    "start_time": "2025-01-15T18:21:41.535Z"
   },
   {
    "duration": 11,
    "start_time": "2025-01-15T18:21:41.544Z"
   },
   {
    "duration": 7,
    "start_time": "2025-01-15T18:21:41.556Z"
   },
   {
    "duration": 53,
    "start_time": "2025-01-15T18:21:41.564Z"
   },
   {
    "duration": 52,
    "start_time": "2025-01-15T18:21:41.618Z"
   },
   {
    "duration": 36,
    "start_time": "2025-01-15T18:21:41.671Z"
   },
   {
    "duration": 79,
    "start_time": "2025-01-15T18:21:41.709Z"
   },
   {
    "duration": 71,
    "start_time": "2025-01-15T18:21:41.790Z"
   },
   {
    "duration": 78,
    "start_time": "2025-01-15T18:21:41.863Z"
   },
   {
    "duration": 90,
    "start_time": "2025-01-15T18:21:41.943Z"
   },
   {
    "duration": 6,
    "start_time": "2025-01-15T18:21:42.035Z"
   },
   {
    "duration": 20,
    "start_time": "2025-01-15T18:21:42.042Z"
   },
   {
    "duration": 37,
    "start_time": "2025-01-15T18:21:42.064Z"
   },
   {
    "duration": 23,
    "start_time": "2025-01-15T18:21:42.102Z"
   },
   {
    "duration": 7,
    "start_time": "2025-01-15T18:21:42.126Z"
   },
   {
    "duration": 59,
    "start_time": "2025-01-15T18:21:42.134Z"
   },
   {
    "duration": 15,
    "start_time": "2025-01-15T18:21:42.195Z"
   },
   {
    "duration": 12,
    "start_time": "2025-01-15T18:21:42.212Z"
   },
   {
    "duration": 17,
    "start_time": "2025-01-15T18:21:42.225Z"
   },
   {
    "duration": 7,
    "start_time": "2025-01-15T18:21:42.244Z"
   },
   {
    "duration": 11,
    "start_time": "2025-01-15T18:21:42.287Z"
   },
   {
    "duration": 14,
    "start_time": "2025-01-15T18:21:42.300Z"
   },
   {
    "duration": 8,
    "start_time": "2025-01-15T18:21:42.316Z"
   },
   {
    "duration": 13,
    "start_time": "2025-01-15T18:21:42.325Z"
   },
   {
    "duration": 49,
    "start_time": "2025-01-15T18:21:42.340Z"
   },
   {
    "duration": 34,
    "start_time": "2025-01-15T18:21:42.390Z"
   },
   {
    "duration": 30,
    "start_time": "2025-01-15T18:21:42.425Z"
   },
   {
    "duration": 69,
    "start_time": "2025-01-15T18:21:42.456Z"
   },
   {
    "duration": 148,
    "start_time": "2025-01-15T18:21:42.527Z"
   },
   {
    "duration": 34,
    "start_time": "2025-01-15T18:22:19.404Z"
   },
   {
    "duration": 141,
    "start_time": "2025-01-15T18:22:33.302Z"
   },
   {
    "duration": 30,
    "start_time": "2025-01-15T18:22:57.042Z"
   },
   {
    "duration": 54,
    "start_time": "2025-01-15T18:23:29.420Z"
   },
   {
    "duration": 34,
    "start_time": "2025-01-15T18:24:33.696Z"
   },
   {
    "duration": 29,
    "start_time": "2025-01-15T18:24:44.933Z"
   },
   {
    "duration": 3966,
    "start_time": "2025-01-15T18:28:47.844Z"
   },
   {
    "duration": 69,
    "start_time": "2025-01-15T18:28:51.813Z"
   },
   {
    "duration": 1194,
    "start_time": "2025-01-15T18:28:51.884Z"
   },
   {
    "duration": 199,
    "start_time": "2025-01-15T18:28:53.080Z"
   },
   {
    "duration": 199,
    "start_time": "2025-01-15T18:28:53.281Z"
   },
   {
    "duration": 67,
    "start_time": "2025-01-15T18:28:53.481Z"
   },
   {
    "duration": 134,
    "start_time": "2025-01-15T18:28:53.549Z"
   },
   {
    "duration": 362,
    "start_time": "2025-01-15T18:28:53.685Z"
   },
   {
    "duration": 6,
    "start_time": "2025-01-15T18:28:54.049Z"
   },
   {
    "duration": 22,
    "start_time": "2025-01-15T18:28:54.057Z"
   },
   {
    "duration": 7,
    "start_time": "2025-01-15T18:28:54.085Z"
   },
   {
    "duration": 6,
    "start_time": "2025-01-15T18:28:54.093Z"
   },
   {
    "duration": 4,
    "start_time": "2025-01-15T18:28:54.100Z"
   },
   {
    "duration": 4,
    "start_time": "2025-01-15T18:28:54.105Z"
   },
   {
    "duration": 6,
    "start_time": "2025-01-15T18:28:54.110Z"
   },
   {
    "duration": 44,
    "start_time": "2025-01-15T18:28:54.117Z"
   },
   {
    "duration": 58,
    "start_time": "2025-01-15T18:28:54.162Z"
   },
   {
    "duration": 12,
    "start_time": "2025-01-15T18:28:54.222Z"
   },
   {
    "duration": 14,
    "start_time": "2025-01-15T18:28:54.235Z"
   },
   {
    "duration": 86,
    "start_time": "2025-01-15T18:28:54.251Z"
   },
   {
    "duration": 148,
    "start_time": "2025-01-15T18:28:54.340Z"
   },
   {
    "duration": 22,
    "start_time": "2025-01-15T18:28:54.490Z"
   },
   {
    "duration": 11,
    "start_time": "2025-01-15T18:28:54.514Z"
   },
   {
    "duration": 26,
    "start_time": "2025-01-15T18:28:54.527Z"
   },
   {
    "duration": 40,
    "start_time": "2025-01-15T18:28:54.555Z"
   },
   {
    "duration": 21,
    "start_time": "2025-01-15T18:28:54.596Z"
   },
   {
    "duration": 13,
    "start_time": "2025-01-15T18:28:54.619Z"
   },
   {
    "duration": 9,
    "start_time": "2025-01-15T18:28:54.635Z"
   },
   {
    "duration": 12,
    "start_time": "2025-01-15T18:28:54.645Z"
   },
   {
    "duration": 38,
    "start_time": "2025-01-15T18:28:54.687Z"
   },
   {
    "duration": 20,
    "start_time": "2025-01-15T18:28:54.727Z"
   },
   {
    "duration": 10,
    "start_time": "2025-01-15T18:28:54.749Z"
   },
   {
    "duration": 7,
    "start_time": "2025-01-15T18:28:54.760Z"
   },
   {
    "duration": 11,
    "start_time": "2025-01-15T18:28:54.786Z"
   },
   {
    "duration": 10,
    "start_time": "2025-01-15T18:28:54.799Z"
   },
   {
    "duration": 82,
    "start_time": "2025-01-15T18:28:54.811Z"
   },
   {
    "duration": 79,
    "start_time": "2025-01-15T18:28:54.894Z"
   },
   {
    "duration": 87,
    "start_time": "2025-01-15T18:28:54.987Z"
   },
   {
    "duration": 6,
    "start_time": "2025-01-15T18:28:55.087Z"
   },
   {
    "duration": 28,
    "start_time": "2025-01-15T18:28:55.095Z"
   },
   {
    "duration": 18,
    "start_time": "2025-01-15T18:28:55.125Z"
   },
   {
    "duration": 48,
    "start_time": "2025-01-15T18:28:55.145Z"
   },
   {
    "duration": 18,
    "start_time": "2025-01-15T18:28:55.195Z"
   },
   {
    "duration": 22,
    "start_time": "2025-01-15T18:28:55.215Z"
   },
   {
    "duration": 18,
    "start_time": "2025-01-15T18:28:55.239Z"
   },
   {
    "duration": 10,
    "start_time": "2025-01-15T18:28:55.259Z"
   },
   {
    "duration": 16,
    "start_time": "2025-01-15T18:28:55.286Z"
   },
   {
    "duration": 7,
    "start_time": "2025-01-15T18:28:55.304Z"
   },
   {
    "duration": 9,
    "start_time": "2025-01-15T18:28:55.312Z"
   },
   {
    "duration": 29,
    "start_time": "2025-01-15T18:28:55.322Z"
   },
   {
    "duration": 14,
    "start_time": "2025-01-15T18:28:55.353Z"
   },
   {
    "duration": 26,
    "start_time": "2025-01-15T18:28:55.368Z"
   },
   {
    "duration": 12,
    "start_time": "2025-01-15T18:28:55.396Z"
   },
   {
    "duration": 45,
    "start_time": "2025-01-15T18:28:55.410Z"
   },
   {
    "duration": 58,
    "start_time": "2025-01-15T18:28:55.457Z"
   },
   {
    "duration": 90,
    "start_time": "2025-01-15T18:28:55.517Z"
   },
   {
    "duration": 123,
    "start_time": "2025-01-15T18:28:55.609Z"
   },
   {
    "duration": 111,
    "start_time": "2025-01-15T18:35:55.152Z"
   },
   {
    "duration": 8,
    "start_time": "2025-01-15T18:36:18.813Z"
   },
   {
    "duration": 109,
    "start_time": "2025-01-15T18:36:26.428Z"
   },
   {
    "duration": 96,
    "start_time": "2025-01-15T18:38:02.321Z"
   },
   {
    "duration": 88,
    "start_time": "2025-01-15T18:38:35.387Z"
   },
   {
    "duration": 100,
    "start_time": "2025-01-15T18:38:48.754Z"
   },
   {
    "duration": 91,
    "start_time": "2025-01-15T18:38:58.668Z"
   },
   {
    "duration": 8,
    "start_time": "2025-01-15T18:39:04.345Z"
   },
   {
    "duration": 14,
    "start_time": "2025-01-15T18:39:39.891Z"
   },
   {
    "duration": 5,
    "start_time": "2025-01-15T18:43:44.961Z"
   },
   {
    "duration": 19,
    "start_time": "2025-01-15T18:47:34.994Z"
   },
   {
    "duration": 55,
    "start_time": "2025-01-15T18:47:52.896Z"
   },
   {
    "duration": 10,
    "start_time": "2025-01-15T18:51:11.519Z"
   },
   {
    "duration": 10,
    "start_time": "2025-01-15T18:51:21.903Z"
   },
   {
    "duration": 9,
    "start_time": "2025-01-15T18:51:33.240Z"
   },
   {
    "duration": 1342,
    "start_time": "2025-01-15T18:56:50.595Z"
   },
   {
    "duration": 96,
    "start_time": "2025-01-15T18:57:04.108Z"
   },
   {
    "duration": 1364,
    "start_time": "2025-01-15T18:57:11.743Z"
   },
   {
    "duration": 5,
    "start_time": "2025-01-15T18:57:17.033Z"
   },
   {
    "duration": 5,
    "start_time": "2025-01-15T18:57:40.408Z"
   },
   {
    "duration": 46,
    "start_time": "2025-01-15T19:05:52.940Z"
   },
   {
    "duration": 90,
    "start_time": "2025-01-15T19:06:19.103Z"
   },
   {
    "duration": 53,
    "start_time": "2025-01-15T19:07:37.652Z"
   },
   {
    "duration": 15,
    "start_time": "2025-01-15T19:14:11.481Z"
   },
   {
    "duration": 74,
    "start_time": "2025-01-15T19:25:17.084Z"
   },
   {
    "duration": 126,
    "start_time": "2025-01-15T19:28:36.310Z"
   },
   {
    "duration": 113,
    "start_time": "2025-01-15T19:29:58.881Z"
   },
   {
    "duration": 39,
    "start_time": "2025-01-15T19:30:20.518Z"
   },
   {
    "duration": 41,
    "start_time": "2025-01-15T19:38:04.337Z"
   },
   {
    "duration": 4,
    "start_time": "2025-01-15T19:39:10.967Z"
   },
   {
    "duration": 41,
    "start_time": "2025-01-15T19:39:56.264Z"
   },
   {
    "duration": 40,
    "start_time": "2025-01-15T19:40:13.542Z"
   },
   {
    "duration": 46,
    "start_time": "2025-01-15T19:41:10.825Z"
   },
   {
    "duration": 43,
    "start_time": "2025-01-15T19:41:34.595Z"
   },
   {
    "duration": 116,
    "start_time": "2025-01-15T19:41:47.428Z"
   },
   {
    "duration": 11,
    "start_time": "2025-01-15T19:43:01.932Z"
   },
   {
    "duration": 11,
    "start_time": "2025-01-15T19:43:56.693Z"
   },
   {
    "duration": 171,
    "start_time": "2025-01-16T15:30:03.402Z"
   },
   {
    "duration": 46,
    "start_time": "2025-01-16T15:31:50.374Z"
   },
   {
    "duration": 7,
    "start_time": "2025-01-16T15:31:54.391Z"
   },
   {
    "duration": 7625,
    "start_time": "2025-01-16T15:31:58.497Z"
   },
   {
    "duration": 148,
    "start_time": "2025-01-16T15:32:06.124Z"
   },
   {
    "duration": 1165,
    "start_time": "2025-01-16T15:32:06.274Z"
   },
   {
    "duration": 201,
    "start_time": "2025-01-16T15:32:07.441Z"
   },
   {
    "duration": 246,
    "start_time": "2025-01-16T15:32:07.643Z"
   },
   {
    "duration": 107,
    "start_time": "2025-01-16T15:32:07.891Z"
   },
   {
    "duration": 173,
    "start_time": "2025-01-16T15:32:08.000Z"
   },
   {
    "duration": 333,
    "start_time": "2025-01-16T15:32:08.175Z"
   },
   {
    "duration": 5,
    "start_time": "2025-01-16T15:32:08.510Z"
   },
   {
    "duration": 21,
    "start_time": "2025-01-16T15:32:08.518Z"
   },
   {
    "duration": 5,
    "start_time": "2025-01-16T15:32:08.540Z"
   },
   {
    "duration": 16,
    "start_time": "2025-01-16T15:32:08.546Z"
   },
   {
    "duration": 43,
    "start_time": "2025-01-16T15:32:08.564Z"
   },
   {
    "duration": 6,
    "start_time": "2025-01-16T15:32:08.608Z"
   },
   {
    "duration": 4,
    "start_time": "2025-01-16T15:32:08.615Z"
   },
   {
    "duration": 6,
    "start_time": "2025-01-16T15:32:08.620Z"
   },
   {
    "duration": 10,
    "start_time": "2025-01-16T15:32:08.627Z"
   },
   {
    "duration": 13,
    "start_time": "2025-01-16T15:32:08.638Z"
   },
   {
    "duration": 14,
    "start_time": "2025-01-16T15:32:08.653Z"
   },
   {
    "duration": 98,
    "start_time": "2025-01-16T15:32:08.668Z"
   },
   {
    "duration": 147,
    "start_time": "2025-01-16T15:32:08.768Z"
   },
   {
    "duration": 21,
    "start_time": "2025-01-16T15:32:08.917Z"
   },
   {
    "duration": 19,
    "start_time": "2025-01-16T15:32:08.939Z"
   },
   {
    "duration": 22,
    "start_time": "2025-01-16T15:32:08.959Z"
   },
   {
    "duration": 18,
    "start_time": "2025-01-16T15:32:08.983Z"
   },
   {
    "duration": 13,
    "start_time": "2025-01-16T15:32:09.002Z"
   },
   {
    "duration": 12,
    "start_time": "2025-01-16T15:32:09.017Z"
   },
   {
    "duration": 9,
    "start_time": "2025-01-16T15:32:09.054Z"
   },
   {
    "duration": 10,
    "start_time": "2025-01-16T15:32:09.064Z"
   },
   {
    "duration": 50,
    "start_time": "2025-01-16T15:32:09.075Z"
   },
   {
    "duration": 12,
    "start_time": "2025-01-16T15:32:09.126Z"
   },
   {
    "duration": 3,
    "start_time": "2025-01-16T15:32:09.152Z"
   },
   {
    "duration": 12,
    "start_time": "2025-01-16T15:32:09.157Z"
   },
   {
    "duration": 12,
    "start_time": "2025-01-16T15:32:09.170Z"
   },
   {
    "duration": 14,
    "start_time": "2025-01-16T15:32:09.183Z"
   },
   {
    "duration": 54,
    "start_time": "2025-01-16T15:32:09.199Z"
   },
   {
    "duration": 81,
    "start_time": "2025-01-16T15:32:09.254Z"
   },
   {
    "duration": 95,
    "start_time": "2025-01-16T15:32:09.336Z"
   },
   {
    "duration": 5,
    "start_time": "2025-01-16T15:32:09.433Z"
   },
   {
    "duration": 28,
    "start_time": "2025-01-16T15:32:09.440Z"
   },
   {
    "duration": 21,
    "start_time": "2025-01-16T15:32:09.469Z"
   },
   {
    "duration": 22,
    "start_time": "2025-01-16T15:32:09.491Z"
   },
   {
    "duration": 7,
    "start_time": "2025-01-16T15:32:09.514Z"
   },
   {
    "duration": 43,
    "start_time": "2025-01-16T15:32:09.523Z"
   },
   {
    "duration": 22,
    "start_time": "2025-01-16T15:32:09.567Z"
   },
   {
    "duration": 9,
    "start_time": "2025-01-16T15:32:09.591Z"
   },
   {
    "duration": 17,
    "start_time": "2025-01-16T15:32:09.601Z"
   },
   {
    "duration": 6,
    "start_time": "2025-01-16T15:32:09.619Z"
   },
   {
    "duration": 10,
    "start_time": "2025-01-16T15:32:09.626Z"
   },
   {
    "duration": 23,
    "start_time": "2025-01-16T15:32:09.637Z"
   },
   {
    "duration": 7,
    "start_time": "2025-01-16T15:32:09.661Z"
   },
   {
    "duration": 21,
    "start_time": "2025-01-16T15:32:09.669Z"
   },
   {
    "duration": 7,
    "start_time": "2025-01-16T15:32:09.692Z"
   },
   {
    "duration": 40,
    "start_time": "2025-01-16T15:32:09.701Z"
   },
   {
    "duration": 38,
    "start_time": "2025-01-16T15:32:09.742Z"
   },
   {
    "duration": 56,
    "start_time": "2025-01-16T15:32:09.782Z"
   },
   {
    "duration": 5,
    "start_time": "2025-01-16T15:32:09.840Z"
   },
   {
    "duration": 94,
    "start_time": "2025-01-16T15:32:09.846Z"
   },
   {
    "duration": 2,
    "start_time": "2025-01-16T15:32:09.942Z"
   },
   {
    "duration": 116,
    "start_time": "2025-01-16T15:32:09.945Z"
   },
   {
    "duration": 395,
    "start_time": "2025-01-16T15:44:16.627Z"
   },
   {
    "duration": 464,
    "start_time": "2025-01-16T15:45:52.152Z"
   },
   {
    "duration": 374,
    "start_time": "2025-01-16T15:47:26.256Z"
   },
   {
    "duration": 392,
    "start_time": "2025-01-16T15:48:25.951Z"
   },
   {
    "duration": 354,
    "start_time": "2025-01-16T15:48:55.582Z"
   },
   {
    "duration": 360,
    "start_time": "2025-01-16T15:51:14.178Z"
   },
   {
    "duration": 9,
    "start_time": "2025-01-16T15:51:41.846Z"
   },
   {
    "duration": 2261,
    "start_time": "2025-01-16T15:52:01.112Z"
   },
   {
    "duration": 547,
    "start_time": "2025-01-16T15:53:46.223Z"
   },
   {
    "duration": 399,
    "start_time": "2025-01-16T15:55:00.413Z"
   },
   {
    "duration": 610,
    "start_time": "2025-01-16T15:56:28.895Z"
   },
   {
    "duration": 1472,
    "start_time": "2025-01-16T15:59:08.601Z"
   },
   {
    "duration": 46,
    "start_time": "2025-01-16T16:00:39.622Z"
   },
   {
    "duration": 257,
    "start_time": "2025-01-16T16:01:20.988Z"
   },
   {
    "duration": 322,
    "start_time": "2025-01-16T16:01:53.704Z"
   },
   {
    "duration": 386,
    "start_time": "2025-01-16T16:07:53.592Z"
   },
   {
    "duration": 361,
    "start_time": "2025-01-16T16:12:20.328Z"
   },
   {
    "duration": 43,
    "start_time": "2025-01-16T16:16:09.000Z"
   },
   {
    "duration": 33,
    "start_time": "2025-01-16T16:16:30.105Z"
   },
   {
    "duration": 39,
    "start_time": "2025-01-16T16:19:10.625Z"
   },
   {
    "duration": 33,
    "start_time": "2025-01-16T16:20:56.112Z"
   },
   {
    "duration": 48,
    "start_time": "2025-01-16T16:22:42.114Z"
   },
   {
    "duration": 339,
    "start_time": "2025-01-16T16:23:17.427Z"
   },
   {
    "duration": 1668,
    "start_time": "2025-01-16T16:39:49.496Z"
   },
   {
    "duration": 357,
    "start_time": "2025-01-16T16:39:54.298Z"
   },
   {
    "duration": 1443,
    "start_time": "2025-01-16T16:41:14.867Z"
   },
   {
    "duration": 40,
    "start_time": "2025-01-16T16:42:50.181Z"
   },
   {
    "duration": 93,
    "start_time": "2025-01-16T16:43:36.480Z"
   },
   {
    "duration": 211,
    "start_time": "2025-01-16T16:43:39.425Z"
   },
   {
    "duration": 9,
    "start_time": "2025-01-16T16:58:12.923Z"
   },
   {
    "duration": 65,
    "start_time": "2025-01-16T16:59:25.632Z"
   },
   {
    "duration": 63,
    "start_time": "2025-01-16T16:59:38.081Z"
   },
   {
    "duration": 74,
    "start_time": "2025-01-16T17:09:27.601Z"
   },
   {
    "duration": 79,
    "start_time": "2025-01-16T17:09:45.911Z"
   },
   {
    "duration": 3,
    "start_time": "2025-01-16T17:09:48.649Z"
   },
   {
    "duration": 85,
    "start_time": "2025-01-16T17:10:39.286Z"
   },
   {
    "duration": 3,
    "start_time": "2025-01-16T17:10:40.238Z"
   },
   {
    "duration": 3,
    "start_time": "2025-01-16T17:11:04.300Z"
   },
   {
    "duration": 121,
    "start_time": "2025-01-16T17:12:49.877Z"
   },
   {
    "duration": 127,
    "start_time": "2025-01-16T17:13:13.067Z"
   },
   {
    "duration": 140,
    "start_time": "2025-01-16T17:13:53.348Z"
   },
   {
    "duration": 8,
    "start_time": "2025-01-16T17:22:14.928Z"
   },
   {
    "duration": 29,
    "start_time": "2025-01-16T17:22:37.139Z"
   },
   {
    "duration": 17,
    "start_time": "2025-01-16T17:31:20.270Z"
   },
   {
    "duration": 188,
    "start_time": "2025-01-16T17:35:33.818Z"
   },
   {
    "duration": 113,
    "start_time": "2025-01-16T17:36:09.580Z"
   },
   {
    "duration": 139,
    "start_time": "2025-01-16T17:38:36.435Z"
   },
   {
    "duration": 96,
    "start_time": "2025-01-16T17:38:44.532Z"
   },
   {
    "duration": 252,
    "start_time": "2025-01-16T17:39:16.680Z"
   },
   {
    "duration": 88,
    "start_time": "2025-01-16T17:48:07.511Z"
   },
   {
    "duration": 91,
    "start_time": "2025-01-16T17:48:35.624Z"
   },
   {
    "duration": 87,
    "start_time": "2025-01-16T17:49:11.611Z"
   },
   {
    "duration": 185,
    "start_time": "2025-01-16T17:50:48.459Z"
   },
   {
    "duration": 87,
    "start_time": "2025-01-16T17:51:01.365Z"
   },
   {
    "duration": 69,
    "start_time": "2025-01-16T17:52:29.680Z"
   },
   {
    "duration": 97,
    "start_time": "2025-01-16T17:52:52.603Z"
   },
   {
    "duration": 79,
    "start_time": "2025-01-16T17:53:20.166Z"
   },
   {
    "duration": 100,
    "start_time": "2025-01-16T17:53:43.398Z"
   },
   {
    "duration": 13,
    "start_time": "2025-01-16T17:53:58.569Z"
   },
   {
    "duration": 16,
    "start_time": "2025-01-16T17:54:30.469Z"
   },
   {
    "duration": 97,
    "start_time": "2025-01-16T18:00:19.239Z"
   },
   {
    "duration": 170,
    "start_time": "2025-01-16T18:01:42.901Z"
   },
   {
    "duration": 127,
    "start_time": "2025-01-16T18:01:52.427Z"
   },
   {
    "duration": 142,
    "start_time": "2025-01-16T18:02:21.634Z"
   },
   {
    "duration": 125,
    "start_time": "2025-01-16T18:02:29.762Z"
   },
   {
    "duration": 145,
    "start_time": "2025-01-16T18:02:30.898Z"
   },
   {
    "duration": 16,
    "start_time": "2025-01-16T18:02:36.665Z"
   },
   {
    "duration": 100,
    "start_time": "2025-01-16T18:03:08.342Z"
   },
   {
    "duration": 126,
    "start_time": "2025-01-16T18:03:17.688Z"
   },
   {
    "duration": 15,
    "start_time": "2025-01-16T18:03:55.357Z"
   },
   {
    "duration": 61,
    "start_time": "2025-01-16T18:07:28.043Z"
   },
   {
    "duration": 3961,
    "start_time": "2025-01-16T18:09:41.110Z"
   },
   {
    "duration": 91,
    "start_time": "2025-01-16T18:09:45.073Z"
   },
   {
    "duration": 1449,
    "start_time": "2025-01-16T18:09:45.166Z"
   },
   {
    "duration": 214,
    "start_time": "2025-01-16T18:09:46.617Z"
   },
   {
    "duration": 269,
    "start_time": "2025-01-16T18:09:46.833Z"
   },
   {
    "duration": 129,
    "start_time": "2025-01-16T18:09:47.104Z"
   },
   {
    "duration": 187,
    "start_time": "2025-01-16T18:09:47.235Z"
   },
   {
    "duration": 337,
    "start_time": "2025-01-16T18:09:47.423Z"
   },
   {
    "duration": 11,
    "start_time": "2025-01-16T18:09:47.762Z"
   },
   {
    "duration": 35,
    "start_time": "2025-01-16T18:09:47.775Z"
   },
   {
    "duration": 59,
    "start_time": "2025-01-16T18:09:47.811Z"
   },
   {
    "duration": 30,
    "start_time": "2025-01-16T18:09:47.872Z"
   },
   {
    "duration": 31,
    "start_time": "2025-01-16T18:09:47.904Z"
   },
   {
    "duration": 31,
    "start_time": "2025-01-16T18:09:47.936Z"
   },
   {
    "duration": 30,
    "start_time": "2025-01-16T18:09:47.969Z"
   },
   {
    "duration": 28,
    "start_time": "2025-01-16T18:09:48.000Z"
   },
   {
    "duration": 21,
    "start_time": "2025-01-16T18:09:48.030Z"
   },
   {
    "duration": 33,
    "start_time": "2025-01-16T18:09:48.052Z"
   },
   {
    "duration": 43,
    "start_time": "2025-01-16T18:09:48.087Z"
   },
   {
    "duration": 114,
    "start_time": "2025-01-16T18:09:48.131Z"
   },
   {
    "duration": 182,
    "start_time": "2025-01-16T18:09:48.246Z"
   },
   {
    "duration": 36,
    "start_time": "2025-01-16T18:09:48.429Z"
   },
   {
    "duration": 22,
    "start_time": "2025-01-16T18:09:48.467Z"
   },
   {
    "duration": 49,
    "start_time": "2025-01-16T18:09:48.491Z"
   },
   {
    "duration": 35,
    "start_time": "2025-01-16T18:09:48.542Z"
   },
   {
    "duration": 24,
    "start_time": "2025-01-16T18:09:48.579Z"
   },
   {
    "duration": 71,
    "start_time": "2025-01-16T18:09:48.604Z"
   },
   {
    "duration": 8,
    "start_time": "2025-01-16T18:09:48.679Z"
   },
   {
    "duration": 7,
    "start_time": "2025-01-16T18:09:48.689Z"
   },
   {
    "duration": 32,
    "start_time": "2025-01-16T18:09:48.697Z"
   },
   {
    "duration": 26,
    "start_time": "2025-01-16T18:09:48.730Z"
   },
   {
    "duration": 5,
    "start_time": "2025-01-16T18:09:48.758Z"
   },
   {
    "duration": 7,
    "start_time": "2025-01-16T18:09:48.765Z"
   },
   {
    "duration": 9,
    "start_time": "2025-01-16T18:09:48.774Z"
   },
   {
    "duration": 5,
    "start_time": "2025-01-16T18:09:48.785Z"
   },
   {
    "duration": 80,
    "start_time": "2025-01-16T18:09:48.791Z"
   },
   {
    "duration": 97,
    "start_time": "2025-01-16T18:09:48.874Z"
   },
   {
    "duration": 91,
    "start_time": "2025-01-16T18:09:48.972Z"
   },
   {
    "duration": 7,
    "start_time": "2025-01-16T18:09:49.065Z"
   },
   {
    "duration": 20,
    "start_time": "2025-01-16T18:09:49.073Z"
   },
   {
    "duration": 16,
    "start_time": "2025-01-16T18:09:49.094Z"
   },
   {
    "duration": 51,
    "start_time": "2025-01-16T18:09:49.111Z"
   },
   {
    "duration": 8,
    "start_time": "2025-01-16T18:09:49.164Z"
   },
   {
    "duration": 16,
    "start_time": "2025-01-16T18:09:49.173Z"
   },
   {
    "duration": 13,
    "start_time": "2025-01-16T18:09:49.190Z"
   },
   {
    "duration": 8,
    "start_time": "2025-01-16T18:09:49.205Z"
   },
   {
    "duration": 39,
    "start_time": "2025-01-16T18:09:49.215Z"
   },
   {
    "duration": 8,
    "start_time": "2025-01-16T18:09:49.255Z"
   },
   {
    "duration": 13,
    "start_time": "2025-01-16T18:09:49.265Z"
   },
   {
    "duration": 11,
    "start_time": "2025-01-16T18:09:49.280Z"
   },
   {
    "duration": 8,
    "start_time": "2025-01-16T18:09:49.292Z"
   },
   {
    "duration": 20,
    "start_time": "2025-01-16T18:09:49.301Z"
   },
   {
    "duration": 10,
    "start_time": "2025-01-16T18:09:49.322Z"
   },
   {
    "duration": 60,
    "start_time": "2025-01-16T18:09:49.333Z"
   },
   {
    "duration": 27,
    "start_time": "2025-01-16T18:09:49.394Z"
   },
   {
    "duration": 60,
    "start_time": "2025-01-16T18:09:49.422Z"
   },
   {
    "duration": 4,
    "start_time": "2025-01-16T18:09:49.484Z"
   },
   {
    "duration": 109,
    "start_time": "2025-01-16T18:09:49.489Z"
   },
   {
    "duration": 397,
    "start_time": "2025-01-16T18:09:49.600Z"
   },
   {
    "duration": 40,
    "start_time": "2025-01-16T18:09:49.998Z"
   },
   {
    "duration": 229,
    "start_time": "2025-01-16T18:09:50.040Z"
   },
   {
    "duration": 98,
    "start_time": "2025-01-16T18:09:50.271Z"
   },
   {
    "duration": 0,
    "start_time": "2025-01-16T18:09:50.370Z"
   },
   {
    "duration": 0,
    "start_time": "2025-01-16T18:09:50.371Z"
   },
   {
    "duration": 0,
    "start_time": "2025-01-16T18:09:50.372Z"
   },
   {
    "duration": 98,
    "start_time": "2025-01-16T18:10:35.351Z"
   },
   {
    "duration": 123,
    "start_time": "2025-01-16T18:10:36.429Z"
   },
   {
    "duration": 227,
    "start_time": "2025-01-16T18:10:41.666Z"
   },
   {
    "duration": 52,
    "start_time": "2025-01-16T18:11:58.836Z"
   },
   {
    "duration": 3926,
    "start_time": "2025-01-16T18:13:33.793Z"
   },
   {
    "duration": 91,
    "start_time": "2025-01-16T18:13:37.721Z"
   },
   {
    "duration": 2018,
    "start_time": "2025-01-16T18:13:37.814Z"
   },
   {
    "duration": 250,
    "start_time": "2025-01-16T18:13:39.834Z"
   },
   {
    "duration": 375,
    "start_time": "2025-01-16T18:13:40.085Z"
   },
   {
    "duration": 103,
    "start_time": "2025-01-16T18:13:40.462Z"
   },
   {
    "duration": 230,
    "start_time": "2025-01-16T18:13:40.567Z"
   },
   {
    "duration": 520,
    "start_time": "2025-01-16T18:13:40.799Z"
   },
   {
    "duration": 5,
    "start_time": "2025-01-16T18:13:41.321Z"
   },
   {
    "duration": 22,
    "start_time": "2025-01-16T18:13:41.328Z"
   },
   {
    "duration": 23,
    "start_time": "2025-01-16T18:13:41.351Z"
   },
   {
    "duration": 17,
    "start_time": "2025-01-16T18:13:41.375Z"
   },
   {
    "duration": 16,
    "start_time": "2025-01-16T18:13:41.393Z"
   },
   {
    "duration": 13,
    "start_time": "2025-01-16T18:13:41.411Z"
   },
   {
    "duration": 21,
    "start_time": "2025-01-16T18:13:41.425Z"
   },
   {
    "duration": 24,
    "start_time": "2025-01-16T18:13:41.447Z"
   },
   {
    "duration": 11,
    "start_time": "2025-01-16T18:13:41.474Z"
   },
   {
    "duration": 15,
    "start_time": "2025-01-16T18:13:41.486Z"
   },
   {
    "duration": 13,
    "start_time": "2025-01-16T18:13:41.502Z"
   },
   {
    "duration": 102,
    "start_time": "2025-01-16T18:13:41.516Z"
   },
   {
    "duration": 149,
    "start_time": "2025-01-16T18:13:41.620Z"
   },
   {
    "duration": 21,
    "start_time": "2025-01-16T18:13:41.771Z"
   },
   {
    "duration": 10,
    "start_time": "2025-01-16T18:13:41.793Z"
   },
   {
    "duration": 22,
    "start_time": "2025-01-16T18:13:41.804Z"
   },
   {
    "duration": 32,
    "start_time": "2025-01-16T18:13:41.827Z"
   },
   {
    "duration": 19,
    "start_time": "2025-01-16T18:13:41.863Z"
   },
   {
    "duration": 13,
    "start_time": "2025-01-16T18:13:41.884Z"
   },
   {
    "duration": 17,
    "start_time": "2025-01-16T18:13:41.901Z"
   },
   {
    "duration": 15,
    "start_time": "2025-01-16T18:13:41.919Z"
   },
   {
    "duration": 55,
    "start_time": "2025-01-16T18:13:41.935Z"
   },
   {
    "duration": 12,
    "start_time": "2025-01-16T18:13:41.992Z"
   },
   {
    "duration": 12,
    "start_time": "2025-01-16T18:13:42.005Z"
   },
   {
    "duration": 19,
    "start_time": "2025-01-16T18:13:42.018Z"
   },
   {
    "duration": 9,
    "start_time": "2025-01-16T18:13:42.038Z"
   },
   {
    "duration": 19,
    "start_time": "2025-01-16T18:13:42.049Z"
   },
   {
    "duration": 49,
    "start_time": "2025-01-16T18:13:42.070Z"
   },
   {
    "duration": 96,
    "start_time": "2025-01-16T18:13:42.121Z"
   },
   {
    "duration": 109,
    "start_time": "2025-01-16T18:13:42.218Z"
   },
   {
    "duration": 7,
    "start_time": "2025-01-16T18:13:42.328Z"
   },
   {
    "duration": 39,
    "start_time": "2025-01-16T18:13:42.336Z"
   },
   {
    "duration": 48,
    "start_time": "2025-01-16T18:13:42.377Z"
   },
   {
    "duration": 20,
    "start_time": "2025-01-16T18:13:42.427Z"
   },
   {
    "duration": 8,
    "start_time": "2025-01-16T18:13:42.449Z"
   },
   {
    "duration": 23,
    "start_time": "2025-01-16T18:13:42.459Z"
   },
   {
    "duration": 14,
    "start_time": "2025-01-16T18:13:42.484Z"
   },
   {
    "duration": 15,
    "start_time": "2025-01-16T18:13:42.499Z"
   },
   {
    "duration": 15,
    "start_time": "2025-01-16T18:13:42.515Z"
   },
   {
    "duration": 29,
    "start_time": "2025-01-16T18:13:42.532Z"
   },
   {
    "duration": 16,
    "start_time": "2025-01-16T18:13:42.565Z"
   },
   {
    "duration": 11,
    "start_time": "2025-01-16T18:13:42.582Z"
   },
   {
    "duration": 6,
    "start_time": "2025-01-16T18:13:42.594Z"
   },
   {
    "duration": 12,
    "start_time": "2025-01-16T18:13:42.601Z"
   },
   {
    "duration": 7,
    "start_time": "2025-01-16T18:13:42.615Z"
   },
   {
    "duration": 60,
    "start_time": "2025-01-16T18:13:42.623Z"
   },
   {
    "duration": 27,
    "start_time": "2025-01-16T18:13:42.685Z"
   },
   {
    "duration": 50,
    "start_time": "2025-01-16T18:13:42.714Z"
   },
   {
    "duration": 6,
    "start_time": "2025-01-16T18:13:42.766Z"
   },
   {
    "duration": 102,
    "start_time": "2025-01-16T18:13:42.773Z"
   },
   {
    "duration": 412,
    "start_time": "2025-01-16T18:13:42.877Z"
   },
   {
    "duration": 42,
    "start_time": "2025-01-16T18:13:43.291Z"
   },
   {
    "duration": 218,
    "start_time": "2025-01-16T18:13:43.335Z"
   },
   {
    "duration": 215,
    "start_time": "2025-01-16T18:13:43.566Z"
   },
   {
    "duration": 0,
    "start_time": "2025-01-16T18:13:43.784Z"
   },
   {
    "duration": 0,
    "start_time": "2025-01-16T18:13:43.785Z"
   },
   {
    "duration": 0,
    "start_time": "2025-01-16T18:13:43.785Z"
   },
   {
    "duration": 116,
    "start_time": "2025-01-16T18:13:44.315Z"
   },
   {
    "duration": 340,
    "start_time": "2025-01-16T18:13:52.794Z"
   },
   {
    "duration": 339,
    "start_time": "2025-01-16T18:15:57.042Z"
   },
   {
    "duration": 192,
    "start_time": "2025-01-16T18:17:17.048Z"
   },
   {
    "duration": 194,
    "start_time": "2025-01-16T18:17:48.409Z"
   },
   {
    "duration": 191,
    "start_time": "2025-01-16T18:20:38.001Z"
   },
   {
    "duration": 179,
    "start_time": "2025-01-16T18:21:09.698Z"
   },
   {
    "duration": 228,
    "start_time": "2025-01-16T18:24:39.542Z"
   },
   {
    "duration": 8,
    "start_time": "2025-01-16T18:25:15.488Z"
   },
   {
    "duration": 12,
    "start_time": "2025-01-16T18:25:46.185Z"
   },
   {
    "duration": 11,
    "start_time": "2025-01-16T18:26:05.027Z"
   },
   {
    "duration": 52,
    "start_time": "2025-01-17T16:01:08.996Z"
   },
   {
    "duration": 7,
    "start_time": "2025-01-17T16:01:34.763Z"
   },
   {
    "duration": 8,
    "start_time": "2025-01-17T16:01:48.832Z"
   },
   {
    "duration": 9,
    "start_time": "2025-01-17T16:02:27.595Z"
   },
   {
    "duration": 7620,
    "start_time": "2025-01-17T16:02:39.098Z"
   },
   {
    "duration": 47,
    "start_time": "2025-01-17T16:02:46.720Z"
   },
   {
    "duration": 1667,
    "start_time": "2025-01-17T16:02:46.768Z"
   },
   {
    "duration": 197,
    "start_time": "2025-01-17T16:02:48.437Z"
   },
   {
    "duration": 165,
    "start_time": "2025-01-17T16:02:48.635Z"
   },
   {
    "duration": 54,
    "start_time": "2025-01-17T16:02:48.801Z"
   },
   {
    "duration": 77,
    "start_time": "2025-01-17T16:02:48.856Z"
   },
   {
    "duration": 316,
    "start_time": "2025-01-17T16:02:48.935Z"
   },
   {
    "duration": 7,
    "start_time": "2025-01-17T16:02:49.252Z"
   },
   {
    "duration": 6,
    "start_time": "2025-01-17T16:02:49.271Z"
   },
   {
    "duration": 16,
    "start_time": "2025-01-17T16:02:49.278Z"
   },
   {
    "duration": 11,
    "start_time": "2025-01-17T16:02:49.296Z"
   },
   {
    "duration": 10,
    "start_time": "2025-01-17T16:02:49.308Z"
   },
   {
    "duration": 9,
    "start_time": "2025-01-17T16:02:49.319Z"
   },
   {
    "duration": 16,
    "start_time": "2025-01-17T16:02:49.329Z"
   },
   {
    "duration": 7,
    "start_time": "2025-01-17T16:02:49.347Z"
   },
   {
    "duration": 11,
    "start_time": "2025-01-17T16:02:49.355Z"
   },
   {
    "duration": 22,
    "start_time": "2025-01-17T16:02:49.368Z"
   },
   {
    "duration": 15,
    "start_time": "2025-01-17T16:02:49.391Z"
   },
   {
    "duration": 125,
    "start_time": "2025-01-17T16:02:49.408Z"
   },
   {
    "duration": 148,
    "start_time": "2025-01-17T16:02:49.535Z"
   },
   {
    "duration": 25,
    "start_time": "2025-01-17T16:02:49.685Z"
   },
   {
    "duration": 10,
    "start_time": "2025-01-17T16:02:49.712Z"
   },
   {
    "duration": 28,
    "start_time": "2025-01-17T16:02:49.723Z"
   },
   {
    "duration": 36,
    "start_time": "2025-01-17T16:02:49.753Z"
   },
   {
    "duration": 62,
    "start_time": "2025-01-17T16:02:49.791Z"
   },
   {
    "duration": 47,
    "start_time": "2025-01-17T16:02:49.855Z"
   },
   {
    "duration": 36,
    "start_time": "2025-01-17T16:02:49.906Z"
   },
   {
    "duration": 31,
    "start_time": "2025-01-17T16:02:49.944Z"
   },
   {
    "duration": 54,
    "start_time": "2025-01-17T16:02:49.977Z"
   },
   {
    "duration": 14,
    "start_time": "2025-01-17T16:02:50.033Z"
   },
   {
    "duration": 81,
    "start_time": "2025-01-17T16:02:50.048Z"
   },
   {
    "duration": 26,
    "start_time": "2025-01-17T16:02:50.131Z"
   },
   {
    "duration": 40,
    "start_time": "2025-01-17T16:02:50.159Z"
   },
   {
    "duration": 40,
    "start_time": "2025-01-17T16:02:50.202Z"
   },
   {
    "duration": 102,
    "start_time": "2025-01-17T16:02:50.243Z"
   },
   {
    "duration": 124,
    "start_time": "2025-01-17T16:02:50.347Z"
   },
   {
    "duration": 113,
    "start_time": "2025-01-17T16:02:50.473Z"
   },
   {
    "duration": 8,
    "start_time": "2025-01-17T16:02:50.587Z"
   },
   {
    "duration": 27,
    "start_time": "2025-01-17T16:02:50.596Z"
   },
   {
    "duration": 113,
    "start_time": "2025-01-17T16:02:50.625Z"
   },
   {
    "duration": 41,
    "start_time": "2025-01-17T16:02:50.740Z"
   },
   {
    "duration": 8,
    "start_time": "2025-01-17T16:02:50.784Z"
   },
   {
    "duration": 68,
    "start_time": "2025-01-17T16:02:50.794Z"
   },
   {
    "duration": 16,
    "start_time": "2025-01-17T16:02:50.863Z"
   },
   {
    "duration": 30,
    "start_time": "2025-01-17T16:02:50.881Z"
   },
   {
    "duration": 112,
    "start_time": "2025-01-17T16:02:50.913Z"
   },
   {
    "duration": 47,
    "start_time": "2025-01-17T16:02:51.027Z"
   },
   {
    "duration": 40,
    "start_time": "2025-01-17T16:02:51.075Z"
   },
   {
    "duration": 33,
    "start_time": "2025-01-17T16:02:51.117Z"
   },
   {
    "duration": 27,
    "start_time": "2025-01-17T16:02:51.151Z"
   },
   {
    "duration": 33,
    "start_time": "2025-01-17T16:02:51.180Z"
   },
   {
    "duration": 41,
    "start_time": "2025-01-17T16:02:51.215Z"
   },
   {
    "duration": 50,
    "start_time": "2025-01-17T16:02:51.259Z"
   },
   {
    "duration": 69,
    "start_time": "2025-01-17T16:02:51.311Z"
   },
   {
    "duration": 72,
    "start_time": "2025-01-17T16:02:51.383Z"
   },
   {
    "duration": 6,
    "start_time": "2025-01-17T16:02:51.457Z"
   },
   {
    "duration": 116,
    "start_time": "2025-01-17T16:02:51.465Z"
   },
   {
    "duration": 436,
    "start_time": "2025-01-17T16:02:51.583Z"
   },
   {
    "duration": 50,
    "start_time": "2025-01-17T16:02:52.021Z"
   },
   {
    "duration": 97,
    "start_time": "2025-01-17T16:02:52.073Z"
   },
   {
    "duration": 0,
    "start_time": "2025-01-17T16:02:52.171Z"
   },
   {
    "duration": 0,
    "start_time": "2025-01-17T16:02:52.172Z"
   },
   {
    "duration": 0,
    "start_time": "2025-01-17T16:02:52.173Z"
   },
   {
    "duration": 188,
    "start_time": "2025-01-17T16:10:11.107Z"
   },
   {
    "duration": 63,
    "start_time": "2025-01-17T16:10:12.936Z"
   },
   {
    "duration": 101,
    "start_time": "2025-01-17T16:10:32.423Z"
   },
   {
    "duration": 60,
    "start_time": "2025-01-17T16:11:57.912Z"
   },
   {
    "duration": 57,
    "start_time": "2025-01-17T16:12:11.203Z"
   },
   {
    "duration": 137,
    "start_time": "2025-01-17T16:16:00.060Z"
   },
   {
    "duration": 266,
    "start_time": "2025-01-17T16:22:37.329Z"
   },
   {
    "duration": 87,
    "start_time": "2025-01-17T16:22:48.179Z"
   },
   {
    "duration": 12,
    "start_time": "2025-01-17T16:23:02.926Z"
   },
   {
    "duration": 117,
    "start_time": "2025-01-17T16:23:10.564Z"
   },
   {
    "duration": 85,
    "start_time": "2025-01-17T16:23:33.395Z"
   },
   {
    "duration": 10,
    "start_time": "2025-01-17T16:24:01.168Z"
   },
   {
    "duration": 438,
    "start_time": "2025-01-17T16:26:11.609Z"
   },
   {
    "duration": 63,
    "start_time": "2025-01-17T16:26:32.482Z"
   },
   {
    "duration": 10,
    "start_time": "2025-01-17T16:28:11.549Z"
   },
   {
    "duration": 10,
    "start_time": "2025-01-17T16:28:46.262Z"
   },
   {
    "duration": 256,
    "start_time": "2025-01-17T16:30:08.519Z"
   },
   {
    "duration": 17,
    "start_time": "2025-01-17T16:32:09.516Z"
   },
   {
    "duration": 29,
    "start_time": "2025-01-17T16:34:44.343Z"
   },
   {
    "duration": 29,
    "start_time": "2025-01-17T16:36:23.268Z"
   },
   {
    "duration": 29,
    "start_time": "2025-01-17T16:36:48.184Z"
   },
   {
    "duration": 28,
    "start_time": "2025-01-17T16:36:51.223Z"
   },
   {
    "duration": 29,
    "start_time": "2025-01-17T16:37:01.402Z"
   },
   {
    "duration": 28,
    "start_time": "2025-01-17T16:40:29.062Z"
   },
   {
    "duration": 28,
    "start_time": "2025-01-17T16:41:05.040Z"
   },
   {
    "duration": 28,
    "start_time": "2025-01-17T16:41:31.006Z"
   },
   {
    "duration": 9,
    "start_time": "2025-01-17T16:42:53.183Z"
   },
   {
    "duration": 10,
    "start_time": "2025-01-17T16:43:06.196Z"
   },
   {
    "duration": 8,
    "start_time": "2025-01-17T16:43:17.754Z"
   },
   {
    "duration": 29,
    "start_time": "2025-01-17T16:43:43.643Z"
   },
   {
    "duration": 9,
    "start_time": "2025-01-17T16:43:44.276Z"
   },
   {
    "duration": 46,
    "start_time": "2025-01-17T16:46:11.247Z"
   },
   {
    "duration": 10,
    "start_time": "2025-01-17T16:46:12.974Z"
   },
   {
    "duration": 43,
    "start_time": "2025-01-17T16:47:07.228Z"
   },
   {
    "duration": 10,
    "start_time": "2025-01-17T16:47:08.985Z"
   },
   {
    "duration": 10,
    "start_time": "2025-01-17T16:47:17.960Z"
   },
   {
    "duration": 10,
    "start_time": "2025-01-17T16:47:45.403Z"
   },
   {
    "duration": 11,
    "start_time": "2025-01-17T16:47:54.090Z"
   },
   {
    "duration": 14,
    "start_time": "2025-01-17T16:53:55.728Z"
   },
   {
    "duration": 10,
    "start_time": "2025-01-17T16:54:21.008Z"
   },
   {
    "duration": 126,
    "start_time": "2025-01-17T16:54:27.287Z"
   },
   {
    "duration": 176,
    "start_time": "2025-01-17T16:54:38.282Z"
   },
   {
    "duration": 187,
    "start_time": "2025-01-17T16:56:25.513Z"
   },
   {
    "duration": 181,
    "start_time": "2025-01-17T16:58:47.290Z"
   },
   {
    "duration": 181,
    "start_time": "2025-01-17T16:59:26.815Z"
   },
   {
    "duration": 18,
    "start_time": "2025-01-17T17:00:49.118Z"
   },
   {
    "duration": 3821,
    "start_time": "2025-01-17T17:10:13.156Z"
   },
   {
    "duration": 50,
    "start_time": "2025-01-17T17:10:16.979Z"
   },
   {
    "duration": 1293,
    "start_time": "2025-01-17T17:10:17.031Z"
   },
   {
    "duration": 354,
    "start_time": "2025-01-17T17:10:18.326Z"
   },
   {
    "duration": 281,
    "start_time": "2025-01-17T17:10:18.681Z"
   },
   {
    "duration": 56,
    "start_time": "2025-01-17T17:10:18.964Z"
   },
   {
    "duration": 77,
    "start_time": "2025-01-17T17:10:19.022Z"
   },
   {
    "duration": 323,
    "start_time": "2025-01-17T17:10:19.101Z"
   },
   {
    "duration": 6,
    "start_time": "2025-01-17T17:10:19.426Z"
   },
   {
    "duration": 9,
    "start_time": "2025-01-17T17:10:19.434Z"
   },
   {
    "duration": 6,
    "start_time": "2025-01-17T17:10:19.444Z"
   },
   {
    "duration": 20,
    "start_time": "2025-01-17T17:10:19.451Z"
   },
   {
    "duration": 7,
    "start_time": "2025-01-17T17:10:19.472Z"
   },
   {
    "duration": 5,
    "start_time": "2025-01-17T17:10:19.480Z"
   },
   {
    "duration": 5,
    "start_time": "2025-01-17T17:10:19.486Z"
   },
   {
    "duration": 6,
    "start_time": "2025-01-17T17:10:19.493Z"
   },
   {
    "duration": 4,
    "start_time": "2025-01-17T17:10:19.501Z"
   },
   {
    "duration": 37,
    "start_time": "2025-01-17T17:10:19.507Z"
   },
   {
    "duration": 22,
    "start_time": "2025-01-17T17:10:19.546Z"
   },
   {
    "duration": 103,
    "start_time": "2025-01-17T17:10:19.570Z"
   },
   {
    "duration": 198,
    "start_time": "2025-01-17T17:10:19.675Z"
   },
   {
    "duration": 24,
    "start_time": "2025-01-17T17:10:19.875Z"
   },
   {
    "duration": 57,
    "start_time": "2025-01-17T17:10:19.901Z"
   },
   {
    "duration": 44,
    "start_time": "2025-01-17T17:10:19.960Z"
   },
   {
    "duration": 20,
    "start_time": "2025-01-17T17:10:20.006Z"
   },
   {
    "duration": 49,
    "start_time": "2025-01-17T17:10:20.027Z"
   },
   {
    "duration": 50,
    "start_time": "2025-01-17T17:10:20.078Z"
   },
   {
    "duration": 38,
    "start_time": "2025-01-17T17:10:20.134Z"
   },
   {
    "duration": 25,
    "start_time": "2025-01-17T17:10:20.174Z"
   },
   {
    "duration": 77,
    "start_time": "2025-01-17T17:10:20.201Z"
   },
   {
    "duration": 14,
    "start_time": "2025-01-17T17:10:20.280Z"
   },
   {
    "duration": 12,
    "start_time": "2025-01-17T17:10:20.296Z"
   },
   {
    "duration": 12,
    "start_time": "2025-01-17T17:10:20.309Z"
   },
   {
    "duration": 31,
    "start_time": "2025-01-17T17:10:20.322Z"
   },
   {
    "duration": 31,
    "start_time": "2025-01-17T17:10:20.355Z"
   },
   {
    "duration": 81,
    "start_time": "2025-01-17T17:10:20.388Z"
   },
   {
    "duration": 94,
    "start_time": "2025-01-17T17:10:20.470Z"
   },
   {
    "duration": 106,
    "start_time": "2025-01-17T17:10:20.566Z"
   },
   {
    "duration": 6,
    "start_time": "2025-01-17T17:10:20.674Z"
   },
   {
    "duration": 51,
    "start_time": "2025-01-17T17:10:20.682Z"
   },
   {
    "duration": 93,
    "start_time": "2025-01-17T17:10:20.735Z"
   },
   {
    "duration": 42,
    "start_time": "2025-01-17T17:10:20.830Z"
   },
   {
    "duration": 10,
    "start_time": "2025-01-17T17:10:20.874Z"
   },
   {
    "duration": 22,
    "start_time": "2025-01-17T17:10:20.886Z"
   },
   {
    "duration": 87,
    "start_time": "2025-01-17T17:10:20.910Z"
   },
   {
    "duration": 72,
    "start_time": "2025-01-17T17:10:20.999Z"
   },
   {
    "duration": 18,
    "start_time": "2025-01-17T17:10:21.073Z"
   },
   {
    "duration": 14,
    "start_time": "2025-01-17T17:10:21.093Z"
   },
   {
    "duration": 10,
    "start_time": "2025-01-17T17:10:21.109Z"
   },
   {
    "duration": 35,
    "start_time": "2025-01-17T17:10:21.120Z"
   },
   {
    "duration": 13,
    "start_time": "2025-01-17T17:10:21.157Z"
   },
   {
    "duration": 14,
    "start_time": "2025-01-17T17:10:21.172Z"
   },
   {
    "duration": 9,
    "start_time": "2025-01-17T17:10:21.188Z"
   },
   {
    "duration": 113,
    "start_time": "2025-01-17T17:10:21.199Z"
   },
   {
    "duration": 104,
    "start_time": "2025-01-17T17:10:21.313Z"
   },
   {
    "duration": 64,
    "start_time": "2025-01-17T17:10:21.419Z"
   },
   {
    "duration": 5,
    "start_time": "2025-01-17T17:10:21.484Z"
   },
   {
    "duration": 154,
    "start_time": "2025-01-17T17:10:21.491Z"
   },
   {
    "duration": 444,
    "start_time": "2025-01-17T17:10:21.647Z"
   },
   {
    "duration": 49,
    "start_time": "2025-01-17T17:10:22.093Z"
   },
   {
    "duration": 124,
    "start_time": "2025-01-17T17:10:22.144Z"
   },
   {
    "duration": 0,
    "start_time": "2025-01-17T17:10:22.270Z"
   },
   {
    "duration": 0,
    "start_time": "2025-01-17T17:10:22.271Z"
   },
   {
    "duration": 0,
    "start_time": "2025-01-17T17:10:22.272Z"
   },
   {
    "duration": 0,
    "start_time": "2025-01-17T17:10:22.273Z"
   },
   {
    "duration": 0,
    "start_time": "2025-01-17T17:10:22.275Z"
   },
   {
    "duration": 0,
    "start_time": "2025-01-17T17:10:22.277Z"
   },
   {
    "duration": 0,
    "start_time": "2025-01-17T17:10:22.278Z"
   },
   {
    "duration": 0,
    "start_time": "2025-01-17T17:10:22.279Z"
   },
   {
    "duration": 4,
    "start_time": "2025-01-17T17:10:54.218Z"
   },
   {
    "duration": 112,
    "start_time": "2025-01-17T17:11:56.520Z"
   },
   {
    "duration": 1514,
    "start_time": "2025-01-17T17:12:18.883Z"
   },
   {
    "duration": 3612,
    "start_time": "2025-01-17T17:12:46.729Z"
   },
   {
    "duration": 53,
    "start_time": "2025-01-17T17:12:50.343Z"
   },
   {
    "duration": 1614,
    "start_time": "2025-01-17T17:12:50.398Z"
   },
   {
    "duration": 211,
    "start_time": "2025-01-17T17:12:52.014Z"
   },
   {
    "duration": 178,
    "start_time": "2025-01-17T17:12:52.227Z"
   },
   {
    "duration": 65,
    "start_time": "2025-01-17T17:12:52.407Z"
   },
   {
    "duration": 71,
    "start_time": "2025-01-17T17:12:52.473Z"
   },
   {
    "duration": 330,
    "start_time": "2025-01-17T17:12:52.545Z"
   },
   {
    "duration": 6,
    "start_time": "2025-01-17T17:12:52.877Z"
   },
   {
    "duration": 15,
    "start_time": "2025-01-17T17:12:52.886Z"
   },
   {
    "duration": 9,
    "start_time": "2025-01-17T17:12:52.903Z"
   },
   {
    "duration": 12,
    "start_time": "2025-01-17T17:12:52.914Z"
   },
   {
    "duration": 5,
    "start_time": "2025-01-17T17:12:52.928Z"
   },
   {
    "duration": 9,
    "start_time": "2025-01-17T17:12:52.934Z"
   },
   {
    "duration": 50,
    "start_time": "2025-01-17T17:12:52.944Z"
   },
   {
    "duration": 6,
    "start_time": "2025-01-17T17:12:52.996Z"
   },
   {
    "duration": 8,
    "start_time": "2025-01-17T17:12:53.003Z"
   },
   {
    "duration": 14,
    "start_time": "2025-01-17T17:12:53.012Z"
   },
   {
    "duration": 15,
    "start_time": "2025-01-17T17:12:53.028Z"
   },
   {
    "duration": 99,
    "start_time": "2025-01-17T17:12:53.044Z"
   },
   {
    "duration": 144,
    "start_time": "2025-01-17T17:12:53.145Z"
   },
   {
    "duration": 24,
    "start_time": "2025-01-17T17:12:53.291Z"
   },
   {
    "duration": 78,
    "start_time": "2025-01-17T17:12:53.316Z"
   },
   {
    "duration": 23,
    "start_time": "2025-01-17T17:12:53.395Z"
   },
   {
    "duration": 9,
    "start_time": "2025-01-17T17:12:53.420Z"
   },
   {
    "duration": 17,
    "start_time": "2025-01-17T17:12:53.431Z"
   },
   {
    "duration": 13,
    "start_time": "2025-01-17T17:12:53.449Z"
   },
   {
    "duration": 9,
    "start_time": "2025-01-17T17:12:53.470Z"
   },
   {
    "duration": 12,
    "start_time": "2025-01-17T17:12:53.480Z"
   },
   {
    "duration": 41,
    "start_time": "2025-01-17T17:12:53.493Z"
   },
   {
    "duration": 12,
    "start_time": "2025-01-17T17:12:53.536Z"
   },
   {
    "duration": 4,
    "start_time": "2025-01-17T17:12:53.571Z"
   },
   {
    "duration": 7,
    "start_time": "2025-01-17T17:12:53.577Z"
   },
   {
    "duration": 12,
    "start_time": "2025-01-17T17:12:53.585Z"
   },
   {
    "duration": 6,
    "start_time": "2025-01-17T17:12:53.598Z"
   },
   {
    "duration": 81,
    "start_time": "2025-01-17T17:12:53.606Z"
   },
   {
    "duration": 103,
    "start_time": "2025-01-17T17:12:53.689Z"
   },
   {
    "duration": 109,
    "start_time": "2025-01-17T17:12:53.794Z"
   },
   {
    "duration": 7,
    "start_time": "2025-01-17T17:12:53.905Z"
   },
   {
    "duration": 107,
    "start_time": "2025-01-17T17:12:53.913Z"
   },
   {
    "duration": 20,
    "start_time": "2025-01-17T17:12:54.022Z"
   },
   {
    "duration": 29,
    "start_time": "2025-01-17T17:12:54.043Z"
   },
   {
    "duration": 7,
    "start_time": "2025-01-17T17:12:54.073Z"
   },
   {
    "duration": 22,
    "start_time": "2025-01-17T17:12:54.083Z"
   },
   {
    "duration": 16,
    "start_time": "2025-01-17T17:12:54.106Z"
   },
   {
    "duration": 14,
    "start_time": "2025-01-17T17:12:54.124Z"
   },
   {
    "duration": 51,
    "start_time": "2025-01-17T17:12:54.140Z"
   },
   {
    "duration": 7,
    "start_time": "2025-01-17T17:12:54.192Z"
   },
   {
    "duration": 9,
    "start_time": "2025-01-17T17:12:54.201Z"
   },
   {
    "duration": 17,
    "start_time": "2025-01-17T17:12:54.212Z"
   },
   {
    "duration": 8,
    "start_time": "2025-01-17T17:12:54.231Z"
   },
   {
    "duration": 38,
    "start_time": "2025-01-17T17:12:54.241Z"
   },
   {
    "duration": 9,
    "start_time": "2025-01-17T17:12:54.281Z"
   },
   {
    "duration": 61,
    "start_time": "2025-01-17T17:12:54.292Z"
   },
   {
    "duration": 36,
    "start_time": "2025-01-17T17:12:54.355Z"
   },
   {
    "duration": 44,
    "start_time": "2025-01-17T17:12:54.393Z"
   },
   {
    "duration": 1528,
    "start_time": "2025-01-17T17:12:54.439Z"
   },
   {
    "duration": 0,
    "start_time": "2025-01-17T17:12:55.969Z"
   },
   {
    "duration": 0,
    "start_time": "2025-01-17T17:12:55.970Z"
   },
   {
    "duration": 0,
    "start_time": "2025-01-17T17:12:55.972Z"
   },
   {
    "duration": 0,
    "start_time": "2025-01-17T17:12:55.973Z"
   },
   {
    "duration": 0,
    "start_time": "2025-01-17T17:12:55.974Z"
   },
   {
    "duration": 0,
    "start_time": "2025-01-17T17:12:55.976Z"
   },
   {
    "duration": 0,
    "start_time": "2025-01-17T17:12:55.978Z"
   },
   {
    "duration": 0,
    "start_time": "2025-01-17T17:12:55.979Z"
   },
   {
    "duration": 0,
    "start_time": "2025-01-17T17:12:55.980Z"
   },
   {
    "duration": 0,
    "start_time": "2025-01-17T17:12:55.981Z"
   },
   {
    "duration": 0,
    "start_time": "2025-01-17T17:12:55.983Z"
   },
   {
    "duration": 0,
    "start_time": "2025-01-17T17:12:55.984Z"
   },
   {
    "duration": 3675,
    "start_time": "2025-01-17T17:13:21.024Z"
   },
   {
    "duration": 59,
    "start_time": "2025-01-17T17:13:24.701Z"
   },
   {
    "duration": 1163,
    "start_time": "2025-01-17T17:13:24.762Z"
   },
   {
    "duration": 211,
    "start_time": "2025-01-17T17:13:25.927Z"
   },
   {
    "duration": 261,
    "start_time": "2025-01-17T17:13:26.140Z"
   },
   {
    "duration": 52,
    "start_time": "2025-01-17T17:13:26.403Z"
   },
   {
    "duration": 86,
    "start_time": "2025-01-17T17:13:26.456Z"
   },
   {
    "duration": 309,
    "start_time": "2025-01-17T17:13:26.544Z"
   },
   {
    "duration": 7,
    "start_time": "2025-01-17T17:13:26.855Z"
   },
   {
    "duration": 5,
    "start_time": "2025-01-17T17:13:26.869Z"
   },
   {
    "duration": 7,
    "start_time": "2025-01-17T17:13:26.875Z"
   },
   {
    "duration": 9,
    "start_time": "2025-01-17T17:13:26.883Z"
   },
   {
    "duration": 4,
    "start_time": "2025-01-17T17:13:26.894Z"
   },
   {
    "duration": 4,
    "start_time": "2025-01-17T17:13:26.900Z"
   },
   {
    "duration": 5,
    "start_time": "2025-01-17T17:13:26.906Z"
   },
   {
    "duration": 4,
    "start_time": "2025-01-17T17:13:26.912Z"
   },
   {
    "duration": 11,
    "start_time": "2025-01-17T17:13:26.917Z"
   },
   {
    "duration": 45,
    "start_time": "2025-01-17T17:13:26.929Z"
   },
   {
    "duration": 14,
    "start_time": "2025-01-17T17:13:26.976Z"
   },
   {
    "duration": 141,
    "start_time": "2025-01-17T17:13:26.991Z"
   },
   {
    "duration": 138,
    "start_time": "2025-01-17T17:13:27.134Z"
   },
   {
    "duration": 24,
    "start_time": "2025-01-17T17:13:27.274Z"
   },
   {
    "duration": 97,
    "start_time": "2025-01-17T17:13:27.299Z"
   },
   {
    "duration": 37,
    "start_time": "2025-01-17T17:13:27.397Z"
   },
   {
    "duration": 10,
    "start_time": "2025-01-17T17:13:27.436Z"
   },
   {
    "duration": 13,
    "start_time": "2025-01-17T17:13:27.447Z"
   },
   {
    "duration": 14,
    "start_time": "2025-01-17T17:13:27.461Z"
   },
   {
    "duration": 10,
    "start_time": "2025-01-17T17:13:27.480Z"
   },
   {
    "duration": 9,
    "start_time": "2025-01-17T17:13:27.492Z"
   },
   {
    "duration": 45,
    "start_time": "2025-01-17T17:13:27.503Z"
   },
   {
    "duration": 13,
    "start_time": "2025-01-17T17:13:27.570Z"
   },
   {
    "duration": 9,
    "start_time": "2025-01-17T17:13:27.585Z"
   },
   {
    "duration": 8,
    "start_time": "2025-01-17T17:13:27.595Z"
   },
   {
    "duration": 11,
    "start_time": "2025-01-17T17:13:27.605Z"
   },
   {
    "duration": 6,
    "start_time": "2025-01-17T17:13:27.618Z"
   },
   {
    "duration": 90,
    "start_time": "2025-01-17T17:13:27.626Z"
   },
   {
    "duration": 103,
    "start_time": "2025-01-17T17:13:27.718Z"
   },
   {
    "duration": 109,
    "start_time": "2025-01-17T17:13:27.823Z"
   },
   {
    "duration": 9,
    "start_time": "2025-01-17T17:13:27.934Z"
   },
   {
    "duration": 90,
    "start_time": "2025-01-17T17:13:27.944Z"
   },
   {
    "duration": 23,
    "start_time": "2025-01-17T17:13:28.036Z"
   },
   {
    "duration": 26,
    "start_time": "2025-01-17T17:13:28.061Z"
   },
   {
    "duration": 11,
    "start_time": "2025-01-17T17:13:28.089Z"
   },
   {
    "duration": 18,
    "start_time": "2025-01-17T17:13:28.102Z"
   },
   {
    "duration": 25,
    "start_time": "2025-01-17T17:13:28.122Z"
   },
   {
    "duration": 20,
    "start_time": "2025-01-17T17:13:28.150Z"
   },
   {
    "duration": 19,
    "start_time": "2025-01-17T17:13:28.172Z"
   },
   {
    "duration": 6,
    "start_time": "2025-01-17T17:13:28.193Z"
   },
   {
    "duration": 38,
    "start_time": "2025-01-17T17:13:28.200Z"
   },
   {
    "duration": 19,
    "start_time": "2025-01-17T17:13:28.239Z"
   },
   {
    "duration": 7,
    "start_time": "2025-01-17T17:13:28.260Z"
   },
   {
    "duration": 45,
    "start_time": "2025-01-17T17:13:28.269Z"
   },
   {
    "duration": 9,
    "start_time": "2025-01-17T17:13:28.315Z"
   },
   {
    "duration": 39,
    "start_time": "2025-01-17T17:13:28.326Z"
   },
   {
    "duration": 36,
    "start_time": "2025-01-17T17:13:28.367Z"
   },
   {
    "duration": 46,
    "start_time": "2025-01-17T17:13:28.404Z"
   },
   {
    "duration": 4,
    "start_time": "2025-01-17T17:13:28.452Z"
   },
   {
    "duration": 118,
    "start_time": "2025-01-17T17:13:28.458Z"
   },
   {
    "duration": 461,
    "start_time": "2025-01-17T17:13:28.578Z"
   },
   {
    "duration": 50,
    "start_time": "2025-01-17T17:13:29.041Z"
   },
   {
    "duration": 93,
    "start_time": "2025-01-17T17:13:29.093Z"
   },
   {
    "duration": 0,
    "start_time": "2025-01-17T17:13:29.188Z"
   },
   {
    "duration": 0,
    "start_time": "2025-01-17T17:13:29.189Z"
   },
   {
    "duration": 0,
    "start_time": "2025-01-17T17:13:29.190Z"
   },
   {
    "duration": 0,
    "start_time": "2025-01-17T17:13:29.191Z"
   },
   {
    "duration": 0,
    "start_time": "2025-01-17T17:13:29.192Z"
   },
   {
    "duration": 0,
    "start_time": "2025-01-17T17:13:29.194Z"
   },
   {
    "duration": 0,
    "start_time": "2025-01-17T17:13:29.195Z"
   },
   {
    "duration": 0,
    "start_time": "2025-01-17T17:13:29.196Z"
   },
   {
    "duration": 101,
    "start_time": "2025-01-17T17:14:23.531Z"
   },
   {
    "duration": 75,
    "start_time": "2025-01-17T17:14:24.783Z"
   },
   {
    "duration": 268,
    "start_time": "2025-01-17T17:14:25.624Z"
   },
   {
    "duration": 109,
    "start_time": "2025-01-17T17:14:26.334Z"
   },
   {
    "duration": 43,
    "start_time": "2025-01-17T17:14:27.320Z"
   },
   {
    "duration": 212,
    "start_time": "2025-01-17T17:14:28.913Z"
   },
   {
    "duration": 24,
    "start_time": "2025-01-17T17:14:32.630Z"
   },
   {
    "duration": 118,
    "start_time": "2025-01-17T17:14:36.771Z"
   },
   {
    "duration": 10,
    "start_time": "2025-01-17T17:14:46.953Z"
   },
   {
    "duration": 15,
    "start_time": "2025-01-17T17:15:00.155Z"
   },
   {
    "duration": 31,
    "start_time": "2025-01-17T17:15:26.072Z"
   },
   {
    "duration": 120,
    "start_time": "2025-01-17T17:15:52.612Z"
   },
   {
    "duration": 14,
    "start_time": "2025-01-17T17:16:18.807Z"
   },
   {
    "duration": 42,
    "start_time": "2025-01-17T17:20:26.409Z"
   },
   {
    "duration": 170,
    "start_time": "2025-01-17T17:21:58.898Z"
   },
   {
    "duration": 1444,
    "start_time": "2025-01-17T17:22:47.317Z"
   },
   {
    "duration": 63,
    "start_time": "2025-01-17T17:23:26.250Z"
   },
   {
    "duration": 58,
    "start_time": "2025-01-17T17:24:25.561Z"
   },
   {
    "duration": 154,
    "start_time": "2025-01-17T17:25:14.242Z"
   },
   {
    "duration": 74,
    "start_time": "2025-01-17T17:25:41.168Z"
   },
   {
    "duration": 61,
    "start_time": "2025-01-17T17:26:53.194Z"
   },
   {
    "duration": 1433,
    "start_time": "2025-01-17T17:59:26.594Z"
   },
   {
    "duration": 1602,
    "start_time": "2025-01-17T18:00:11.234Z"
   },
   {
    "duration": 40,
    "start_time": "2025-01-17T18:00:38.091Z"
   },
   {
    "duration": 106,
    "start_time": "2025-01-17T18:02:05.783Z"
   },
   {
    "duration": 41,
    "start_time": "2025-01-17T18:04:00.077Z"
   },
   {
    "duration": 8,
    "start_time": "2025-01-17T18:05:16.304Z"
   },
   {
    "duration": 13,
    "start_time": "2025-01-17T18:06:22.653Z"
   },
   {
    "duration": 106,
    "start_time": "2025-01-17T18:12:00.971Z"
   },
   {
    "duration": 34,
    "start_time": "2025-01-17T18:13:28.535Z"
   },
   {
    "duration": 11,
    "start_time": "2025-01-17T18:15:45.173Z"
   },
   {
    "duration": 21,
    "start_time": "2025-01-17T18:17:57.487Z"
   },
   {
    "duration": 16,
    "start_time": "2025-01-17T18:18:34.572Z"
   },
   {
    "duration": 11,
    "start_time": "2025-01-17T18:20:36.755Z"
   },
   {
    "duration": 1429,
    "start_time": "2025-01-17T18:21:09.671Z"
   },
   {
    "duration": 11,
    "start_time": "2025-01-17T18:21:28.549Z"
   },
   {
    "duration": 93,
    "start_time": "2025-01-17T18:25:05.448Z"
   },
   {
    "duration": 89,
    "start_time": "2025-01-17T18:25:15.547Z"
   },
   {
    "duration": 4,
    "start_time": "2025-01-17T18:29:57.897Z"
   },
   {
    "duration": 5,
    "start_time": "2025-01-17T18:29:59.533Z"
   },
   {
    "duration": 4,
    "start_time": "2025-01-17T18:31:09.098Z"
   },
   {
    "duration": 21,
    "start_time": "2025-01-17T18:31:38.158Z"
   },
   {
    "duration": 2129,
    "start_time": "2025-01-17T18:33:23.587Z"
   },
   {
    "duration": 2911,
    "start_time": "2025-01-17T18:34:05.385Z"
   },
   {
    "duration": 2805,
    "start_time": "2025-01-17T18:34:36.480Z"
   },
   {
    "duration": 4,
    "start_time": "2025-01-17T18:35:18.761Z"
   },
   {
    "duration": 2714,
    "start_time": "2025-01-17T18:36:10.491Z"
   },
   {
    "duration": 4,
    "start_time": "2025-01-17T18:36:16.099Z"
   },
   {
    "duration": 3769,
    "start_time": "2025-01-17T18:37:22.372Z"
   },
   {
    "duration": 53,
    "start_time": "2025-01-17T18:37:26.144Z"
   },
   {
    "duration": 1083,
    "start_time": "2025-01-17T18:37:26.199Z"
   },
   {
    "duration": 262,
    "start_time": "2025-01-17T18:37:27.284Z"
   },
   {
    "duration": 286,
    "start_time": "2025-01-17T18:37:27.548Z"
   },
   {
    "duration": 116,
    "start_time": "2025-01-17T18:37:27.836Z"
   },
   {
    "duration": 107,
    "start_time": "2025-01-17T18:37:27.953Z"
   },
   {
    "duration": 387,
    "start_time": "2025-01-17T18:37:28.062Z"
   },
   {
    "duration": 6,
    "start_time": "2025-01-17T18:37:28.451Z"
   },
   {
    "duration": 3,
    "start_time": "2025-01-17T18:37:28.470Z"
   },
   {
    "duration": 5,
    "start_time": "2025-01-17T18:37:28.475Z"
   },
   {
    "duration": 6,
    "start_time": "2025-01-17T18:37:28.481Z"
   },
   {
    "duration": 5,
    "start_time": "2025-01-17T18:37:28.488Z"
   },
   {
    "duration": 4,
    "start_time": "2025-01-17T18:37:28.494Z"
   },
   {
    "duration": 4,
    "start_time": "2025-01-17T18:37:28.499Z"
   },
   {
    "duration": 5,
    "start_time": "2025-01-17T18:37:28.504Z"
   },
   {
    "duration": 5,
    "start_time": "2025-01-17T18:37:28.511Z"
   },
   {
    "duration": 54,
    "start_time": "2025-01-17T18:37:28.517Z"
   },
   {
    "duration": 16,
    "start_time": "2025-01-17T18:37:28.572Z"
   },
   {
    "duration": 128,
    "start_time": "2025-01-17T18:37:28.589Z"
   },
   {
    "duration": 153,
    "start_time": "2025-01-17T18:37:28.719Z"
   },
   {
    "duration": 24,
    "start_time": "2025-01-17T18:37:28.874Z"
   },
   {
    "duration": 10,
    "start_time": "2025-01-17T18:37:28.900Z"
   },
   {
    "duration": 19,
    "start_time": "2025-01-17T18:37:28.911Z"
   },
   {
    "duration": 12,
    "start_time": "2025-01-17T18:37:28.932Z"
   },
   {
    "duration": 14,
    "start_time": "2025-01-17T18:37:28.971Z"
   },
   {
    "duration": 38,
    "start_time": "2025-01-17T18:37:28.987Z"
   },
   {
    "duration": 34,
    "start_time": "2025-01-17T18:37:29.030Z"
   },
   {
    "duration": 23,
    "start_time": "2025-01-17T18:37:29.065Z"
   },
   {
    "duration": 42,
    "start_time": "2025-01-17T18:37:29.089Z"
   },
   {
    "duration": 12,
    "start_time": "2025-01-17T18:37:29.133Z"
   },
   {
    "duration": 5,
    "start_time": "2025-01-17T18:37:29.147Z"
   },
   {
    "duration": 18,
    "start_time": "2025-01-17T18:37:29.153Z"
   },
   {
    "duration": 10,
    "start_time": "2025-01-17T18:37:29.173Z"
   },
   {
    "duration": 16,
    "start_time": "2025-01-17T18:37:29.185Z"
   },
   {
    "duration": 68,
    "start_time": "2025-01-17T18:37:29.203Z"
   },
   {
    "duration": 104,
    "start_time": "2025-01-17T18:37:29.272Z"
   },
   {
    "duration": 113,
    "start_time": "2025-01-17T18:37:29.378Z"
   },
   {
    "duration": 7,
    "start_time": "2025-01-17T18:37:29.492Z"
   },
   {
    "duration": 87,
    "start_time": "2025-01-17T18:37:29.501Z"
   },
   {
    "duration": 20,
    "start_time": "2025-01-17T18:37:29.590Z"
   },
   {
    "duration": 26,
    "start_time": "2025-01-17T18:37:29.611Z"
   },
   {
    "duration": 6,
    "start_time": "2025-01-17T18:37:29.639Z"
   },
   {
    "duration": 39,
    "start_time": "2025-01-17T18:37:29.647Z"
   },
   {
    "duration": 16,
    "start_time": "2025-01-17T18:37:29.688Z"
   },
   {
    "duration": 15,
    "start_time": "2025-01-17T18:37:29.705Z"
   },
   {
    "duration": 17,
    "start_time": "2025-01-17T18:37:29.721Z"
   },
   {
    "duration": 33,
    "start_time": "2025-01-17T18:37:29.739Z"
   },
   {
    "duration": 47,
    "start_time": "2025-01-17T18:37:29.774Z"
   },
   {
    "duration": 14,
    "start_time": "2025-01-17T18:37:29.823Z"
   },
   {
    "duration": 7,
    "start_time": "2025-01-17T18:37:29.839Z"
   },
   {
    "duration": 15,
    "start_time": "2025-01-17T18:37:29.848Z"
   },
   {
    "duration": 9,
    "start_time": "2025-01-17T18:37:29.864Z"
   },
   {
    "duration": 45,
    "start_time": "2025-01-17T18:37:29.875Z"
   },
   {
    "duration": 35,
    "start_time": "2025-01-17T18:37:29.921Z"
   },
   {
    "duration": 61,
    "start_time": "2025-01-17T18:37:29.958Z"
   },
   {
    "duration": 63,
    "start_time": "2025-01-17T18:37:30.021Z"
   },
   {
    "duration": 151,
    "start_time": "2025-01-17T18:37:30.085Z"
   },
   {
    "duration": 434,
    "start_time": "2025-01-17T18:37:30.237Z"
   },
   {
    "duration": 52,
    "start_time": "2025-01-17T18:37:30.673Z"
   },
   {
    "duration": 145,
    "start_time": "2025-01-17T18:37:30.727Z"
   },
   {
    "duration": 57,
    "start_time": "2025-01-17T18:37:30.874Z"
   },
   {
    "duration": 264,
    "start_time": "2025-01-17T18:37:30.933Z"
   },
   {
    "duration": 84,
    "start_time": "2025-01-17T18:37:31.199Z"
   },
   {
    "duration": 0,
    "start_time": "2025-01-17T18:37:31.284Z"
   },
   {
    "duration": 0,
    "start_time": "2025-01-17T18:37:31.285Z"
   },
   {
    "duration": 0,
    "start_time": "2025-01-17T18:37:31.286Z"
   },
   {
    "duration": 0,
    "start_time": "2025-01-17T18:37:31.287Z"
   },
   {
    "duration": 0,
    "start_time": "2025-01-17T18:37:31.288Z"
   },
   {
    "duration": 0,
    "start_time": "2025-01-17T18:37:31.289Z"
   },
   {
    "duration": 0,
    "start_time": "2025-01-17T18:37:31.290Z"
   },
   {
    "duration": 0,
    "start_time": "2025-01-17T18:37:31.291Z"
   },
   {
    "duration": 0,
    "start_time": "2025-01-17T18:37:31.292Z"
   },
   {
    "duration": 0,
    "start_time": "2025-01-17T18:37:31.293Z"
   },
   {
    "duration": 1,
    "start_time": "2025-01-17T18:37:31.294Z"
   },
   {
    "duration": 0,
    "start_time": "2025-01-17T18:37:31.296Z"
   },
   {
    "duration": 0,
    "start_time": "2025-01-17T18:37:31.296Z"
   },
   {
    "duration": 0,
    "start_time": "2025-01-17T18:37:31.297Z"
   },
   {
    "duration": 0,
    "start_time": "2025-01-17T18:37:31.298Z"
   },
   {
    "duration": 0,
    "start_time": "2025-01-17T18:37:31.299Z"
   },
   {
    "duration": 44,
    "start_time": "2025-01-17T18:38:10.204Z"
   },
   {
    "duration": 199,
    "start_time": "2025-01-17T18:38:10.595Z"
   },
   {
    "duration": 18,
    "start_time": "2025-01-17T18:38:10.941Z"
   },
   {
    "duration": 92,
    "start_time": "2025-01-17T18:38:12.432Z"
   },
   {
    "duration": 61,
    "start_time": "2025-01-17T18:38:12.624Z"
   },
   {
    "duration": 39,
    "start_time": "2025-01-17T18:38:12.954Z"
   },
   {
    "duration": 40,
    "start_time": "2025-01-17T18:38:13.422Z"
   },
   {
    "duration": 9,
    "start_time": "2025-01-17T18:38:13.664Z"
   },
   {
    "duration": 13,
    "start_time": "2025-01-17T18:38:13.992Z"
   },
   {
    "duration": 20,
    "start_time": "2025-01-17T18:38:14.626Z"
   },
   {
    "duration": 12,
    "start_time": "2025-01-17T18:38:14.907Z"
   },
   {
    "duration": 12,
    "start_time": "2025-01-17T18:38:15.141Z"
   },
   {
    "duration": 5,
    "start_time": "2025-01-17T18:38:16.046Z"
   },
   {
    "duration": 88,
    "start_time": "2025-01-17T18:38:16.362Z"
   },
   {
    "duration": 2820,
    "start_time": "2025-01-17T18:38:16.618Z"
   },
   {
    "duration": 4,
    "start_time": "2025-01-17T18:38:19.440Z"
   },
   {
    "duration": 103,
    "start_time": "2025-01-17T18:41:18.342Z"
   },
   {
    "duration": 5,
    "start_time": "2025-01-17T18:43:03.968Z"
   },
   {
    "duration": 1502,
    "start_time": "2025-01-17T18:56:14.920Z"
   },
   {
    "duration": 1395,
    "start_time": "2025-01-17T18:56:30.068Z"
   },
   {
    "duration": 11,
    "start_time": "2025-01-17T18:57:22.380Z"
   },
   {
    "duration": 92,
    "start_time": "2025-01-17T18:57:41.954Z"
   },
   {
    "duration": 12,
    "start_time": "2025-01-17T18:58:18.869Z"
   },
   {
    "duration": 19,
    "start_time": "2025-01-17T18:58:45.397Z"
   },
   {
    "duration": 38,
    "start_time": "2025-01-17T18:59:18.932Z"
   },
   {
    "duration": 53,
    "start_time": "2025-01-17T18:59:22.605Z"
   },
   {
    "duration": 17,
    "start_time": "2025-01-17T18:59:50.499Z"
   },
   {
    "duration": 147,
    "start_time": "2025-01-17T19:07:27.798Z"
   },
   {
    "duration": 8,
    "start_time": "2025-01-17T19:12:24.610Z"
   },
   {
    "duration": 10,
    "start_time": "2025-01-17T19:22:28.679Z"
   },
   {
    "duration": 9,
    "start_time": "2025-01-17T19:23:22.827Z"
   },
   {
    "duration": 18,
    "start_time": "2025-01-17T19:25:03.457Z"
   },
   {
    "duration": 1474,
    "start_time": "2025-01-17T19:28:16.792Z"
   },
   {
    "duration": 178,
    "start_time": "2025-01-17T19:28:34.367Z"
   },
   {
    "duration": 136,
    "start_time": "2025-01-17T19:31:13.572Z"
   },
   {
    "duration": 1438,
    "start_time": "2025-01-17T19:31:59.999Z"
   },
   {
    "duration": 49,
    "start_time": "2025-01-18T11:04:02.233Z"
   },
   {
    "duration": 7629,
    "start_time": "2025-01-18T11:04:24.688Z"
   },
   {
    "duration": 69,
    "start_time": "2025-01-18T11:04:32.319Z"
   },
   {
    "duration": 1337,
    "start_time": "2025-01-18T11:04:32.390Z"
   },
   {
    "duration": 214,
    "start_time": "2025-01-18T11:04:33.729Z"
   },
   {
    "duration": 310,
    "start_time": "2025-01-18T11:04:33.945Z"
   },
   {
    "duration": 77,
    "start_time": "2025-01-18T11:04:34.257Z"
   },
   {
    "duration": 95,
    "start_time": "2025-01-18T11:04:34.336Z"
   },
   {
    "duration": 299,
    "start_time": "2025-01-18T11:04:34.433Z"
   },
   {
    "duration": 6,
    "start_time": "2025-01-18T11:04:34.734Z"
   },
   {
    "duration": 23,
    "start_time": "2025-01-18T11:04:34.742Z"
   },
   {
    "duration": 4,
    "start_time": "2025-01-18T11:04:34.767Z"
   },
   {
    "duration": 10,
    "start_time": "2025-01-18T11:04:34.773Z"
   },
   {
    "duration": 4,
    "start_time": "2025-01-18T11:04:34.785Z"
   },
   {
    "duration": 6,
    "start_time": "2025-01-18T11:04:34.790Z"
   },
   {
    "duration": 17,
    "start_time": "2025-01-18T11:04:34.798Z"
   },
   {
    "duration": 5,
    "start_time": "2025-01-18T11:04:34.816Z"
   },
   {
    "duration": 26,
    "start_time": "2025-01-18T11:04:34.822Z"
   },
   {
    "duration": 23,
    "start_time": "2025-01-18T11:04:34.850Z"
   },
   {
    "duration": 15,
    "start_time": "2025-01-18T11:04:34.875Z"
   },
   {
    "duration": 95,
    "start_time": "2025-01-18T11:04:34.892Z"
   },
   {
    "duration": 195,
    "start_time": "2025-01-18T11:04:34.989Z"
   },
   {
    "duration": 31,
    "start_time": "2025-01-18T11:04:35.186Z"
   },
   {
    "duration": 23,
    "start_time": "2025-01-18T11:04:35.219Z"
   },
   {
    "duration": 60,
    "start_time": "2025-01-18T11:04:35.244Z"
   },
   {
    "duration": 18,
    "start_time": "2025-01-18T11:04:35.306Z"
   },
   {
    "duration": 28,
    "start_time": "2025-01-18T11:04:35.326Z"
   },
   {
    "duration": 43,
    "start_time": "2025-01-18T11:04:35.356Z"
   },
   {
    "duration": 10,
    "start_time": "2025-01-18T11:04:35.403Z"
   },
   {
    "duration": 8,
    "start_time": "2025-01-18T11:04:35.415Z"
   },
   {
    "duration": 73,
    "start_time": "2025-01-18T11:04:35.425Z"
   },
   {
    "duration": 13,
    "start_time": "2025-01-18T11:04:35.500Z"
   },
   {
    "duration": 6,
    "start_time": "2025-01-18T11:04:35.515Z"
   },
   {
    "duration": 40,
    "start_time": "2025-01-18T11:04:35.523Z"
   },
   {
    "duration": 31,
    "start_time": "2025-01-18T11:04:35.565Z"
   },
   {
    "duration": 7,
    "start_time": "2025-01-18T11:04:35.598Z"
   },
   {
    "duration": 68,
    "start_time": "2025-01-18T11:04:35.606Z"
   },
   {
    "duration": 91,
    "start_time": "2025-01-18T11:04:35.675Z"
   },
   {
    "duration": 107,
    "start_time": "2025-01-18T11:04:35.768Z"
   },
   {
    "duration": 8,
    "start_time": "2025-01-18T11:04:35.876Z"
   },
   {
    "duration": 112,
    "start_time": "2025-01-18T11:04:35.886Z"
   },
   {
    "duration": 19,
    "start_time": "2025-01-18T11:04:36.000Z"
   },
   {
    "duration": 27,
    "start_time": "2025-01-18T11:04:36.021Z"
   },
   {
    "duration": 39,
    "start_time": "2025-01-18T11:04:36.049Z"
   },
   {
    "duration": 19,
    "start_time": "2025-01-18T11:04:36.090Z"
   },
   {
    "duration": 22,
    "start_time": "2025-01-18T11:04:36.111Z"
   },
   {
    "duration": 49,
    "start_time": "2025-01-18T11:04:36.134Z"
   },
   {
    "duration": 98,
    "start_time": "2025-01-18T11:04:36.185Z"
   },
   {
    "duration": 7,
    "start_time": "2025-01-18T11:04:36.284Z"
   },
   {
    "duration": 12,
    "start_time": "2025-01-18T11:04:36.293Z"
   },
   {
    "duration": 30,
    "start_time": "2025-01-18T11:04:36.306Z"
   },
   {
    "duration": 14,
    "start_time": "2025-01-18T11:04:36.338Z"
   },
   {
    "duration": 42,
    "start_time": "2025-01-18T11:04:36.354Z"
   },
   {
    "duration": 10,
    "start_time": "2025-01-18T11:04:36.398Z"
   },
   {
    "duration": 50,
    "start_time": "2025-01-18T11:04:36.410Z"
   },
   {
    "duration": 94,
    "start_time": "2025-01-18T11:04:36.462Z"
   },
   {
    "duration": 83,
    "start_time": "2025-01-18T11:04:36.558Z"
   },
   {
    "duration": 44,
    "start_time": "2025-01-18T11:04:36.642Z"
   },
   {
    "duration": 122,
    "start_time": "2025-01-18T11:04:36.688Z"
   },
   {
    "duration": 397,
    "start_time": "2025-01-18T11:04:36.814Z"
   },
   {
    "duration": 50,
    "start_time": "2025-01-18T11:04:37.213Z"
   },
   {
    "duration": 222,
    "start_time": "2025-01-18T11:04:37.265Z"
   },
   {
    "duration": 59,
    "start_time": "2025-01-18T11:04:37.489Z"
   },
   {
    "duration": 270,
    "start_time": "2025-01-18T11:04:37.550Z"
   },
   {
    "duration": 47,
    "start_time": "2025-01-18T11:04:37.822Z"
   },
   {
    "duration": 266,
    "start_time": "2025-01-18T11:04:37.871Z"
   },
   {
    "duration": 20,
    "start_time": "2025-01-18T11:04:38.139Z"
   },
   {
    "duration": 113,
    "start_time": "2025-01-18T11:04:38.160Z"
   },
   {
    "duration": 77,
    "start_time": "2025-01-18T11:04:38.275Z"
   },
   {
    "duration": 73,
    "start_time": "2025-01-18T11:04:38.354Z"
   },
   {
    "duration": 40,
    "start_time": "2025-01-18T11:04:38.429Z"
   },
   {
    "duration": 44,
    "start_time": "2025-01-18T11:04:38.471Z"
   },
   {
    "duration": 14,
    "start_time": "2025-01-18T11:04:38.517Z"
   },
   {
    "duration": 22,
    "start_time": "2025-01-18T11:04:38.532Z"
   },
   {
    "duration": 13,
    "start_time": "2025-01-18T11:04:38.556Z"
   },
   {
    "duration": 16,
    "start_time": "2025-01-18T11:04:38.571Z"
   },
   {
    "duration": 31,
    "start_time": "2025-01-18T11:04:38.588Z"
   },
   {
    "duration": 97,
    "start_time": "2025-01-18T11:04:38.620Z"
   },
   {
    "duration": 2714,
    "start_time": "2025-01-18T11:04:38.719Z"
   },
   {
    "duration": 85,
    "start_time": "2025-01-18T11:04:41.435Z"
   },
   {
    "duration": 0,
    "start_time": "2025-01-18T11:04:41.523Z"
   },
   {
    "duration": 0,
    "start_time": "2025-01-18T11:04:41.524Z"
   },
   {
    "duration": 0,
    "start_time": "2025-01-18T11:04:41.525Z"
   },
   {
    "duration": 0,
    "start_time": "2025-01-18T11:04:41.527Z"
   },
   {
    "duration": 0,
    "start_time": "2025-01-18T11:04:41.528Z"
   },
   {
    "duration": 0,
    "start_time": "2025-01-18T11:04:41.529Z"
   },
   {
    "duration": 0,
    "start_time": "2025-01-18T11:04:41.530Z"
   },
   {
    "duration": 0,
    "start_time": "2025-01-18T11:04:41.531Z"
   },
   {
    "duration": 96,
    "start_time": "2025-01-18T11:05:04.285Z"
   },
   {
    "duration": 86,
    "start_time": "2025-01-18T11:05:06.128Z"
   },
   {
    "duration": 102,
    "start_time": "2025-01-18T11:05:08.413Z"
   },
   {
    "duration": 49,
    "start_time": "2025-01-18T11:05:11.082Z"
   },
   {
    "duration": 17,
    "start_time": "2025-01-18T11:05:11.771Z"
   },
   {
    "duration": 17,
    "start_time": "2025-01-18T11:05:12.552Z"
   },
   {
    "duration": 3833,
    "start_time": "2025-01-18T11:05:17.118Z"
   },
   {
    "duration": 72,
    "start_time": "2025-01-18T11:05:20.953Z"
   },
   {
    "duration": 1124,
    "start_time": "2025-01-18T11:05:21.027Z"
   },
   {
    "duration": 223,
    "start_time": "2025-01-18T11:05:22.154Z"
   },
   {
    "duration": 449,
    "start_time": "2025-01-18T11:05:22.379Z"
   },
   {
    "duration": 65,
    "start_time": "2025-01-18T11:05:22.830Z"
   },
   {
    "duration": 77,
    "start_time": "2025-01-18T11:05:22.897Z"
   },
   {
    "duration": 328,
    "start_time": "2025-01-18T11:05:22.976Z"
   },
   {
    "duration": 12,
    "start_time": "2025-01-18T11:05:23.305Z"
   },
   {
    "duration": 5,
    "start_time": "2025-01-18T11:05:23.319Z"
   },
   {
    "duration": 5,
    "start_time": "2025-01-18T11:05:23.325Z"
   },
   {
    "duration": 10,
    "start_time": "2025-01-18T11:05:23.332Z"
   },
   {
    "duration": 8,
    "start_time": "2025-01-18T11:05:23.343Z"
   },
   {
    "duration": 6,
    "start_time": "2025-01-18T11:05:23.353Z"
   },
   {
    "duration": 13,
    "start_time": "2025-01-18T11:05:23.360Z"
   },
   {
    "duration": 3,
    "start_time": "2025-01-18T11:05:23.375Z"
   },
   {
    "duration": 9,
    "start_time": "2025-01-18T11:05:23.380Z"
   },
   {
    "duration": 36,
    "start_time": "2025-01-18T11:05:23.391Z"
   },
   {
    "duration": 19,
    "start_time": "2025-01-18T11:05:23.429Z"
   },
   {
    "duration": 110,
    "start_time": "2025-01-18T11:05:23.449Z"
   },
   {
    "duration": 143,
    "start_time": "2025-01-18T11:05:23.560Z"
   },
   {
    "duration": 23,
    "start_time": "2025-01-18T11:05:23.705Z"
   },
   {
    "duration": 10,
    "start_time": "2025-01-18T11:05:23.730Z"
   },
   {
    "duration": 25,
    "start_time": "2025-01-18T11:05:23.741Z"
   },
   {
    "duration": 15,
    "start_time": "2025-01-18T11:05:23.768Z"
   },
   {
    "duration": 37,
    "start_time": "2025-01-18T11:05:23.785Z"
   },
   {
    "duration": 14,
    "start_time": "2025-01-18T11:05:23.824Z"
   },
   {
    "duration": 11,
    "start_time": "2025-01-18T11:05:23.842Z"
   },
   {
    "duration": 91,
    "start_time": "2025-01-18T11:05:23.854Z"
   },
   {
    "duration": 39,
    "start_time": "2025-01-18T11:05:23.947Z"
   },
   {
    "duration": 14,
    "start_time": "2025-01-18T11:05:23.988Z"
   },
   {
    "duration": 5,
    "start_time": "2025-01-18T11:05:24.003Z"
   },
   {
    "duration": 16,
    "start_time": "2025-01-18T11:05:24.010Z"
   },
   {
    "duration": 17,
    "start_time": "2025-01-18T11:05:24.028Z"
   },
   {
    "duration": 7,
    "start_time": "2025-01-18T11:05:24.046Z"
   },
   {
    "duration": 71,
    "start_time": "2025-01-18T11:05:24.054Z"
   },
   {
    "duration": 109,
    "start_time": "2025-01-18T11:05:24.127Z"
   },
   {
    "duration": 101,
    "start_time": "2025-01-18T11:05:24.237Z"
   },
   {
    "duration": 7,
    "start_time": "2025-01-18T11:05:24.339Z"
   },
   {
    "duration": 23,
    "start_time": "2025-01-18T11:05:24.348Z"
   },
   {
    "duration": 44,
    "start_time": "2025-01-18T11:05:24.373Z"
   },
   {
    "duration": 26,
    "start_time": "2025-01-18T11:05:24.419Z"
   },
   {
    "duration": 7,
    "start_time": "2025-01-18T11:05:24.446Z"
   },
   {
    "duration": 75,
    "start_time": "2025-01-18T11:05:24.455Z"
   },
   {
    "duration": 16,
    "start_time": "2025-01-18T11:05:24.532Z"
   },
   {
    "duration": 12,
    "start_time": "2025-01-18T11:05:24.549Z"
   },
   {
    "duration": 18,
    "start_time": "2025-01-18T11:05:24.562Z"
   },
   {
    "duration": 34,
    "start_time": "2025-01-18T11:05:24.582Z"
   },
   {
    "duration": 10,
    "start_time": "2025-01-18T11:05:24.617Z"
   },
   {
    "duration": 13,
    "start_time": "2025-01-18T11:05:24.629Z"
   },
   {
    "duration": 17,
    "start_time": "2025-01-18T11:05:24.644Z"
   },
   {
    "duration": 24,
    "start_time": "2025-01-18T11:05:24.663Z"
   },
   {
    "duration": 26,
    "start_time": "2025-01-18T11:05:24.689Z"
   },
   {
    "duration": 39,
    "start_time": "2025-01-18T11:05:24.717Z"
   },
   {
    "duration": 38,
    "start_time": "2025-01-18T11:05:24.758Z"
   },
   {
    "duration": 53,
    "start_time": "2025-01-18T11:05:24.798Z"
   },
   {
    "duration": 5,
    "start_time": "2025-01-18T11:05:24.852Z"
   },
   {
    "duration": 127,
    "start_time": "2025-01-18T11:05:24.859Z"
   },
   {
    "duration": 436,
    "start_time": "2025-01-18T11:05:24.987Z"
   },
   {
    "duration": 50,
    "start_time": "2025-01-18T11:05:25.425Z"
   },
   {
    "duration": 120,
    "start_time": "2025-01-18T11:05:25.477Z"
   },
   {
    "duration": 59,
    "start_time": "2025-01-18T11:05:25.599Z"
   },
   {
    "duration": 269,
    "start_time": "2025-01-18T11:05:25.660Z"
   },
   {
    "duration": 47,
    "start_time": "2025-01-18T11:05:25.931Z"
   },
   {
    "duration": 214,
    "start_time": "2025-01-18T11:05:25.980Z"
   },
   {
    "duration": 27,
    "start_time": "2025-01-18T11:05:26.196Z"
   },
   {
    "duration": 134,
    "start_time": "2025-01-18T11:05:26.225Z"
   },
   {
    "duration": 67,
    "start_time": "2025-01-18T11:05:26.361Z"
   },
   {
    "duration": 40,
    "start_time": "2025-01-18T11:05:26.430Z"
   },
   {
    "duration": 80,
    "start_time": "2025-01-18T11:05:26.471Z"
   },
   {
    "duration": 8,
    "start_time": "2025-01-18T11:05:26.553Z"
   },
   {
    "duration": 17,
    "start_time": "2025-01-18T11:05:26.563Z"
   },
   {
    "duration": 39,
    "start_time": "2025-01-18T11:05:26.581Z"
   },
   {
    "duration": 19,
    "start_time": "2025-01-18T11:05:26.622Z"
   },
   {
    "duration": 14,
    "start_time": "2025-01-18T11:05:26.642Z"
   },
   {
    "duration": 7,
    "start_time": "2025-01-18T11:05:26.658Z"
   },
   {
    "duration": 111,
    "start_time": "2025-01-18T11:05:26.666Z"
   },
   {
    "duration": 2605,
    "start_time": "2025-01-18T11:05:26.779Z"
   },
   {
    "duration": 107,
    "start_time": "2025-01-18T11:05:29.385Z"
   },
   {
    "duration": 115,
    "start_time": "2025-01-18T11:05:29.493Z"
   },
   {
    "duration": 16,
    "start_time": "2025-01-18T11:05:29.614Z"
   },
   {
    "duration": 30,
    "start_time": "2025-01-18T11:05:29.636Z"
   },
   {
    "duration": 259,
    "start_time": "2025-01-18T11:05:29.668Z"
   },
   {
    "duration": 0,
    "start_time": "2025-01-18T11:05:29.928Z"
   },
   {
    "duration": 0,
    "start_time": "2025-01-18T11:05:29.930Z"
   },
   {
    "duration": 0,
    "start_time": "2025-01-18T11:05:29.931Z"
   },
   {
    "duration": 208,
    "start_time": "2025-01-18T11:07:53.193Z"
   },
   {
    "duration": 7,
    "start_time": "2025-01-18T11:08:45.651Z"
   },
   {
    "duration": 121,
    "start_time": "2025-01-18T11:08:47.124Z"
   },
   {
    "duration": 99,
    "start_time": "2025-01-18T11:08:55.080Z"
   },
   {
    "duration": 120,
    "start_time": "2025-01-18T11:16:24.909Z"
   },
   {
    "duration": 109,
    "start_time": "2025-01-18T11:16:40.047Z"
   },
   {
    "duration": 107,
    "start_time": "2025-01-18T11:16:48.514Z"
   },
   {
    "duration": 139,
    "start_time": "2025-01-18T11:44:39.057Z"
   },
   {
    "duration": 140,
    "start_time": "2025-01-18T11:45:02.730Z"
   },
   {
    "duration": 88,
    "start_time": "2025-01-18T11:48:49.214Z"
   },
   {
    "duration": 13,
    "start_time": "2025-01-18T11:49:14.447Z"
   },
   {
    "duration": 87,
    "start_time": "2025-01-18T11:49:39.068Z"
   },
   {
    "duration": 141,
    "start_time": "2025-01-18T11:51:32.100Z"
   },
   {
    "duration": 147,
    "start_time": "2025-01-18T11:51:44.461Z"
   },
   {
    "duration": 90,
    "start_time": "2025-01-18T11:57:20.672Z"
   },
   {
    "duration": 146,
    "start_time": "2025-01-18T11:57:53.860Z"
   },
   {
    "duration": 132,
    "start_time": "2025-01-18T11:59:56.261Z"
   },
   {
    "duration": 243,
    "start_time": "2025-01-18T12:01:28.939Z"
   },
   {
    "duration": 18,
    "start_time": "2025-01-18T12:19:38.836Z"
   },
   {
    "duration": 1431,
    "start_time": "2025-01-18T12:20:04.060Z"
   },
   {
    "duration": 139,
    "start_time": "2025-01-18T12:20:13.235Z"
   },
   {
    "duration": 3058,
    "start_time": "2025-01-18T12:21:15.058Z"
   },
   {
    "duration": 151,
    "start_time": "2025-01-18T12:21:31.882Z"
   },
   {
    "duration": 7,
    "start_time": "2025-01-18T12:25:40.690Z"
   },
   {
    "duration": 7,
    "start_time": "2025-01-18T12:26:36.146Z"
   },
   {
    "duration": 3132,
    "start_time": "2025-01-18T12:26:53.511Z"
   },
   {
    "duration": 183,
    "start_time": "2025-01-18T12:27:24.302Z"
   },
   {
    "duration": 450,
    "start_time": "2025-01-18T12:27:36.359Z"
   },
   {
    "duration": 564,
    "start_time": "2025-01-18T12:31:33.117Z"
   },
   {
    "duration": 13,
    "start_time": "2025-01-18T12:32:18.834Z"
   },
   {
    "duration": 4,
    "start_time": "2025-01-18T12:32:53.124Z"
   },
   {
    "duration": 4,
    "start_time": "2025-01-18T12:33:14.521Z"
   },
   {
    "duration": 7,
    "start_time": "2025-01-18T12:33:24.906Z"
   },
   {
    "duration": 17,
    "start_time": "2025-01-18T12:34:04.999Z"
   },
   {
    "duration": 12,
    "start_time": "2025-01-18T12:35:47.956Z"
   },
   {
    "duration": 7,
    "start_time": "2025-01-18T12:35:52.846Z"
   },
   {
    "duration": 15,
    "start_time": "2025-01-18T12:36:06.595Z"
   },
   {
    "duration": 12,
    "start_time": "2025-01-18T12:37:10.454Z"
   },
   {
    "duration": 5,
    "start_time": "2025-01-18T12:37:39.980Z"
   },
   {
    "duration": 8,
    "start_time": "2025-01-18T12:37:51.501Z"
   },
   {
    "duration": 6,
    "start_time": "2025-01-18T12:38:01.416Z"
   },
   {
    "duration": 140,
    "start_time": "2025-01-18T12:40:17.544Z"
   },
   {
    "duration": 10,
    "start_time": "2025-01-18T12:47:23.535Z"
   },
   {
    "duration": 1413,
    "start_time": "2025-01-18T12:47:53.500Z"
   },
   {
    "duration": 12,
    "start_time": "2025-01-18T12:48:12.355Z"
   },
   {
    "duration": 196,
    "start_time": "2025-01-18T12:48:46.477Z"
   },
   {
    "duration": 93,
    "start_time": "2025-01-18T12:48:52.108Z"
   },
   {
    "duration": 91,
    "start_time": "2025-01-18T12:49:01.750Z"
   },
   {
    "duration": 13,
    "start_time": "2025-01-18T12:49:30.503Z"
   },
   {
    "duration": 1371,
    "start_time": "2025-01-18T12:59:54.128Z"
   },
   {
    "duration": 50,
    "start_time": "2025-01-19T18:01:50.572Z"
   },
   {
    "duration": 5,
    "start_time": "2025-01-19T18:01:51.229Z"
   },
   {
    "duration": 8,
    "start_time": "2025-01-19T18:04:16.137Z"
   },
   {
    "duration": 6,
    "start_time": "2025-01-19T18:04:33.991Z"
   },
   {
    "duration": 7,
    "start_time": "2025-01-19T18:04:40.160Z"
   },
   {
    "duration": 6,
    "start_time": "2025-01-19T18:05:23.282Z"
   },
   {
    "duration": 7953,
    "start_time": "2025-01-19T18:05:28.450Z"
   },
   {
    "duration": 120,
    "start_time": "2025-01-19T18:05:36.406Z"
   },
   {
    "duration": 1058,
    "start_time": "2025-01-19T18:05:36.528Z"
   },
   {
    "duration": 254,
    "start_time": "2025-01-19T18:05:37.589Z"
   },
   {
    "duration": 210,
    "start_time": "2025-01-19T18:05:37.845Z"
   },
   {
    "duration": 85,
    "start_time": "2025-01-19T18:05:38.056Z"
   },
   {
    "duration": 112,
    "start_time": "2025-01-19T18:05:38.142Z"
   },
   {
    "duration": 360,
    "start_time": "2025-01-19T18:05:38.256Z"
   },
   {
    "duration": 7,
    "start_time": "2025-01-19T18:05:38.618Z"
   },
   {
    "duration": 5,
    "start_time": "2025-01-19T18:05:38.627Z"
   },
   {
    "duration": 9,
    "start_time": "2025-01-19T18:05:38.634Z"
   },
   {
    "duration": 11,
    "start_time": "2025-01-19T18:05:38.644Z"
   },
   {
    "duration": 5,
    "start_time": "2025-01-19T18:05:38.656Z"
   },
   {
    "duration": 24,
    "start_time": "2025-01-19T18:05:38.663Z"
   },
   {
    "duration": 4,
    "start_time": "2025-01-19T18:05:38.689Z"
   },
   {
    "duration": 19,
    "start_time": "2025-01-19T18:05:38.694Z"
   },
   {
    "duration": 3,
    "start_time": "2025-01-19T18:05:38.715Z"
   },
   {
    "duration": 15,
    "start_time": "2025-01-19T18:05:38.720Z"
   },
   {
    "duration": 14,
    "start_time": "2025-01-19T18:05:38.737Z"
   },
   {
    "duration": 112,
    "start_time": "2025-01-19T18:05:38.752Z"
   },
   {
    "duration": 178,
    "start_time": "2025-01-19T18:05:38.865Z"
   },
   {
    "duration": 20,
    "start_time": "2025-01-19T18:05:39.045Z"
   },
   {
    "duration": 27,
    "start_time": "2025-01-19T18:05:39.066Z"
   },
   {
    "duration": 24,
    "start_time": "2025-01-19T18:05:39.094Z"
   },
   {
    "duration": 9,
    "start_time": "2025-01-19T18:05:39.119Z"
   },
   {
    "duration": 11,
    "start_time": "2025-01-19T18:05:39.130Z"
   },
   {
    "duration": 24,
    "start_time": "2025-01-19T18:05:39.142Z"
   },
   {
    "duration": 9,
    "start_time": "2025-01-19T18:05:39.188Z"
   },
   {
    "duration": 9,
    "start_time": "2025-01-19T18:05:39.198Z"
   },
   {
    "duration": 32,
    "start_time": "2025-01-19T18:05:39.209Z"
   },
   {
    "duration": 44,
    "start_time": "2025-01-19T18:05:39.242Z"
   },
   {
    "duration": 5,
    "start_time": "2025-01-19T18:05:39.288Z"
   },
   {
    "duration": 7,
    "start_time": "2025-01-19T18:05:39.295Z"
   },
   {
    "duration": 16,
    "start_time": "2025-01-19T18:05:39.303Z"
   },
   {
    "duration": 8,
    "start_time": "2025-01-19T18:05:39.321Z"
   },
   {
    "duration": 105,
    "start_time": "2025-01-19T18:05:39.331Z"
   },
   {
    "duration": 117,
    "start_time": "2025-01-19T18:05:39.439Z"
   },
   {
    "duration": 106,
    "start_time": "2025-01-19T18:05:39.557Z"
   },
   {
    "duration": 7,
    "start_time": "2025-01-19T18:05:39.664Z"
   },
   {
    "duration": 29,
    "start_time": "2025-01-19T18:05:39.672Z"
   },
   {
    "duration": 18,
    "start_time": "2025-01-19T18:05:39.702Z"
   },
   {
    "duration": 21,
    "start_time": "2025-01-19T18:05:39.722Z"
   },
   {
    "duration": 6,
    "start_time": "2025-01-19T18:05:39.745Z"
   },
   {
    "duration": 83,
    "start_time": "2025-01-19T18:05:39.752Z"
   },
   {
    "duration": 14,
    "start_time": "2025-01-19T18:05:39.836Z"
   },
   {
    "duration": 11,
    "start_time": "2025-01-19T18:05:39.852Z"
   },
   {
    "duration": 15,
    "start_time": "2025-01-19T18:05:39.864Z"
   },
   {
    "duration": 6,
    "start_time": "2025-01-19T18:05:39.880Z"
   },
   {
    "duration": 67,
    "start_time": "2025-01-19T18:05:39.888Z"
   },
   {
    "duration": 25,
    "start_time": "2025-01-19T18:05:39.956Z"
   },
   {
    "duration": 7,
    "start_time": "2025-01-19T18:05:39.983Z"
   },
   {
    "duration": 14,
    "start_time": "2025-01-19T18:05:39.991Z"
   },
   {
    "duration": 9,
    "start_time": "2025-01-19T18:05:40.006Z"
   },
   {
    "duration": 33,
    "start_time": "2025-01-19T18:05:40.017Z"
   },
   {
    "duration": 59,
    "start_time": "2025-01-19T18:05:40.052Z"
   },
   {
    "duration": 49,
    "start_time": "2025-01-19T18:05:40.113Z"
   },
   {
    "duration": 1423,
    "start_time": "2025-01-19T18:05:40.164Z"
   },
   {
    "duration": 0,
    "start_time": "2025-01-19T18:05:41.589Z"
   },
   {
    "duration": 0,
    "start_time": "2025-01-19T18:05:41.590Z"
   },
   {
    "duration": 0,
    "start_time": "2025-01-19T18:05:41.591Z"
   },
   {
    "duration": 0,
    "start_time": "2025-01-19T18:05:41.593Z"
   },
   {
    "duration": 0,
    "start_time": "2025-01-19T18:05:41.594Z"
   },
   {
    "duration": 0,
    "start_time": "2025-01-19T18:05:41.595Z"
   },
   {
    "duration": 0,
    "start_time": "2025-01-19T18:05:41.596Z"
   },
   {
    "duration": 0,
    "start_time": "2025-01-19T18:05:41.598Z"
   },
   {
    "duration": 0,
    "start_time": "2025-01-19T18:05:41.599Z"
   },
   {
    "duration": 0,
    "start_time": "2025-01-19T18:05:41.600Z"
   },
   {
    "duration": 0,
    "start_time": "2025-01-19T18:05:41.602Z"
   },
   {
    "duration": 0,
    "start_time": "2025-01-19T18:05:41.603Z"
   },
   {
    "duration": 0,
    "start_time": "2025-01-19T18:05:41.604Z"
   },
   {
    "duration": 0,
    "start_time": "2025-01-19T18:05:41.605Z"
   },
   {
    "duration": 0,
    "start_time": "2025-01-19T18:05:41.606Z"
   },
   {
    "duration": 0,
    "start_time": "2025-01-19T18:05:41.607Z"
   },
   {
    "duration": 0,
    "start_time": "2025-01-19T18:05:41.608Z"
   },
   {
    "duration": 0,
    "start_time": "2025-01-19T18:05:41.609Z"
   },
   {
    "duration": 0,
    "start_time": "2025-01-19T18:05:41.610Z"
   },
   {
    "duration": 0,
    "start_time": "2025-01-19T18:05:41.612Z"
   },
   {
    "duration": 0,
    "start_time": "2025-01-19T18:05:41.613Z"
   },
   {
    "duration": 0,
    "start_time": "2025-01-19T18:05:41.614Z"
   },
   {
    "duration": 0,
    "start_time": "2025-01-19T18:05:41.615Z"
   },
   {
    "duration": 0,
    "start_time": "2025-01-19T18:05:41.617Z"
   },
   {
    "duration": 0,
    "start_time": "2025-01-19T18:05:41.618Z"
   },
   {
    "duration": 0,
    "start_time": "2025-01-19T18:05:41.618Z"
   },
   {
    "duration": 0,
    "start_time": "2025-01-19T18:05:41.619Z"
   },
   {
    "duration": 0,
    "start_time": "2025-01-19T18:05:41.621Z"
   },
   {
    "duration": 0,
    "start_time": "2025-01-19T18:05:41.621Z"
   },
   {
    "duration": 0,
    "start_time": "2025-01-19T18:05:41.622Z"
   },
   {
    "duration": 0,
    "start_time": "2025-01-19T18:05:41.623Z"
   },
   {
    "duration": 114,
    "start_time": "2025-01-19T18:07:29.205Z"
   },
   {
    "duration": 3,
    "start_time": "2025-01-19T18:07:35.308Z"
   },
   {
    "duration": 4,
    "start_time": "2025-01-19T18:07:36.647Z"
   },
   {
    "duration": 4052,
    "start_time": "2025-01-19T18:09:58.127Z"
   },
   {
    "duration": 72,
    "start_time": "2025-01-19T18:10:02.181Z"
   },
   {
    "duration": 872,
    "start_time": "2025-01-19T18:10:02.255Z"
   },
   {
    "duration": 1570,
    "start_time": "2025-01-19T18:10:03.129Z"
   },
   {
    "duration": 168,
    "start_time": "2025-01-19T18:10:04.701Z"
   },
   {
    "duration": 56,
    "start_time": "2025-01-19T18:10:04.870Z"
   },
   {
    "duration": 110,
    "start_time": "2025-01-19T18:10:04.927Z"
   },
   {
    "duration": 362,
    "start_time": "2025-01-19T18:10:05.040Z"
   },
   {
    "duration": 7,
    "start_time": "2025-01-19T18:10:05.404Z"
   },
   {
    "duration": 86,
    "start_time": "2025-01-19T18:10:05.413Z"
   },
   {
    "duration": 19,
    "start_time": "2025-01-19T18:10:05.501Z"
   },
   {
    "duration": 17,
    "start_time": "2025-01-19T18:10:05.522Z"
   },
   {
    "duration": 14,
    "start_time": "2025-01-19T18:10:05.541Z"
   },
   {
    "duration": 5,
    "start_time": "2025-01-19T18:10:05.557Z"
   },
   {
    "duration": 82,
    "start_time": "2025-01-19T18:10:05.564Z"
   },
   {
    "duration": 26,
    "start_time": "2025-01-19T18:10:05.648Z"
   },
   {
    "duration": 35,
    "start_time": "2025-01-19T18:10:05.676Z"
   },
   {
    "duration": 49,
    "start_time": "2025-01-19T18:10:05.713Z"
   },
   {
    "duration": 83,
    "start_time": "2025-01-19T18:10:05.763Z"
   },
   {
    "duration": 98,
    "start_time": "2025-01-19T18:10:05.848Z"
   },
   {
    "duration": 159,
    "start_time": "2025-01-19T18:10:05.948Z"
   },
   {
    "duration": 20,
    "start_time": "2025-01-19T18:10:06.109Z"
   },
   {
    "duration": 37,
    "start_time": "2025-01-19T18:10:06.131Z"
   },
   {
    "duration": 49,
    "start_time": "2025-01-19T18:10:06.170Z"
   },
   {
    "duration": 10,
    "start_time": "2025-01-19T18:10:06.221Z"
   },
   {
    "duration": 20,
    "start_time": "2025-01-19T18:10:06.233Z"
   },
   {
    "duration": 25,
    "start_time": "2025-01-19T18:10:06.255Z"
   },
   {
    "duration": 43,
    "start_time": "2025-01-19T18:10:06.284Z"
   },
   {
    "duration": 8,
    "start_time": "2025-01-19T18:10:06.329Z"
   },
   {
    "duration": 44,
    "start_time": "2025-01-19T18:10:06.338Z"
   },
   {
    "duration": 16,
    "start_time": "2025-01-19T18:10:06.383Z"
   },
   {
    "duration": 24,
    "start_time": "2025-01-19T18:10:06.401Z"
   },
   {
    "duration": 26,
    "start_time": "2025-01-19T18:10:06.427Z"
   },
   {
    "duration": 12,
    "start_time": "2025-01-19T18:10:06.455Z"
   },
   {
    "duration": 7,
    "start_time": "2025-01-19T18:10:06.469Z"
   },
   {
    "duration": 75,
    "start_time": "2025-01-19T18:10:06.478Z"
   },
   {
    "duration": 89,
    "start_time": "2025-01-19T18:10:06.555Z"
   },
   {
    "duration": 209,
    "start_time": "2025-01-19T18:10:06.646Z"
   },
   {
    "duration": 0,
    "start_time": "2025-01-19T18:10:06.858Z"
   },
   {
    "duration": 1,
    "start_time": "2025-01-19T18:10:06.858Z"
   },
   {
    "duration": 0,
    "start_time": "2025-01-19T18:10:06.860Z"
   },
   {
    "duration": 0,
    "start_time": "2025-01-19T18:10:06.861Z"
   },
   {
    "duration": 0,
    "start_time": "2025-01-19T18:10:06.862Z"
   },
   {
    "duration": 0,
    "start_time": "2025-01-19T18:10:06.863Z"
   },
   {
    "duration": 0,
    "start_time": "2025-01-19T18:10:06.864Z"
   },
   {
    "duration": 0,
    "start_time": "2025-01-19T18:10:06.865Z"
   },
   {
    "duration": 0,
    "start_time": "2025-01-19T18:10:06.866Z"
   },
   {
    "duration": 0,
    "start_time": "2025-01-19T18:10:06.867Z"
   },
   {
    "duration": 0,
    "start_time": "2025-01-19T18:10:06.893Z"
   },
   {
    "duration": 0,
    "start_time": "2025-01-19T18:10:06.894Z"
   },
   {
    "duration": 0,
    "start_time": "2025-01-19T18:10:06.895Z"
   },
   {
    "duration": 0,
    "start_time": "2025-01-19T18:10:06.895Z"
   },
   {
    "duration": 0,
    "start_time": "2025-01-19T18:10:06.896Z"
   },
   {
    "duration": 0,
    "start_time": "2025-01-19T18:10:06.896Z"
   },
   {
    "duration": 0,
    "start_time": "2025-01-19T18:10:06.897Z"
   },
   {
    "duration": 0,
    "start_time": "2025-01-19T18:10:06.897Z"
   },
   {
    "duration": 0,
    "start_time": "2025-01-19T18:10:06.900Z"
   },
   {
    "duration": 0,
    "start_time": "2025-01-19T18:10:06.901Z"
   },
   {
    "duration": 0,
    "start_time": "2025-01-19T18:10:06.902Z"
   },
   {
    "duration": 0,
    "start_time": "2025-01-19T18:10:06.903Z"
   },
   {
    "duration": 0,
    "start_time": "2025-01-19T18:10:06.905Z"
   },
   {
    "duration": 0,
    "start_time": "2025-01-19T18:10:06.906Z"
   },
   {
    "duration": 0,
    "start_time": "2025-01-19T18:10:06.907Z"
   },
   {
    "duration": 0,
    "start_time": "2025-01-19T18:10:06.909Z"
   },
   {
    "duration": 0,
    "start_time": "2025-01-19T18:10:06.910Z"
   },
   {
    "duration": 0,
    "start_time": "2025-01-19T18:10:06.910Z"
   },
   {
    "duration": 0,
    "start_time": "2025-01-19T18:10:06.912Z"
   },
   {
    "duration": 0,
    "start_time": "2025-01-19T18:10:06.913Z"
   },
   {
    "duration": 0,
    "start_time": "2025-01-19T18:10:06.914Z"
   },
   {
    "duration": 0,
    "start_time": "2025-01-19T18:10:06.915Z"
   },
   {
    "duration": 0,
    "start_time": "2025-01-19T18:10:06.916Z"
   },
   {
    "duration": 0,
    "start_time": "2025-01-19T18:10:06.917Z"
   },
   {
    "duration": 0,
    "start_time": "2025-01-19T18:10:06.918Z"
   },
   {
    "duration": 0,
    "start_time": "2025-01-19T18:10:06.919Z"
   },
   {
    "duration": 0,
    "start_time": "2025-01-19T18:10:06.920Z"
   },
   {
    "duration": 0,
    "start_time": "2025-01-19T18:10:06.922Z"
   },
   {
    "duration": 0,
    "start_time": "2025-01-19T18:10:06.923Z"
   },
   {
    "duration": 0,
    "start_time": "2025-01-19T18:10:06.924Z"
   },
   {
    "duration": 0,
    "start_time": "2025-01-19T18:10:06.925Z"
   },
   {
    "duration": 0,
    "start_time": "2025-01-19T18:10:06.926Z"
   },
   {
    "duration": 0,
    "start_time": "2025-01-19T18:10:06.927Z"
   },
   {
    "duration": 0,
    "start_time": "2025-01-19T18:10:06.928Z"
   },
   {
    "duration": 0,
    "start_time": "2025-01-19T18:10:06.929Z"
   },
   {
    "duration": 0,
    "start_time": "2025-01-19T18:10:06.930Z"
   },
   {
    "duration": 0,
    "start_time": "2025-01-19T18:10:06.931Z"
   },
   {
    "duration": 0,
    "start_time": "2025-01-19T18:10:06.932Z"
   },
   {
    "duration": 0,
    "start_time": "2025-01-19T18:10:06.933Z"
   },
   {
    "duration": 0,
    "start_time": "2025-01-19T18:10:06.999Z"
   },
   {
    "duration": 9,
    "start_time": "2025-01-19T18:13:58.290Z"
   },
   {
    "duration": 9,
    "start_time": "2025-01-19T18:14:15.710Z"
   },
   {
    "duration": 337,
    "start_time": "2025-01-19T18:14:52.056Z"
   },
   {
    "duration": 43,
    "start_time": "2025-01-19T18:15:31.833Z"
   },
   {
    "duration": 32,
    "start_time": "2025-01-19T18:16:06.804Z"
   },
   {
    "duration": 13,
    "start_time": "2025-01-19T18:16:46.498Z"
   },
   {
    "duration": 13,
    "start_time": "2025-01-19T18:17:51.772Z"
   },
   {
    "duration": 152,
    "start_time": "2025-01-19T18:18:25.535Z"
   },
   {
    "duration": 97,
    "start_time": "2025-01-19T18:19:27.199Z"
   },
   {
    "duration": 9,
    "start_time": "2025-01-19T18:20:14.256Z"
   },
   {
    "duration": 15,
    "start_time": "2025-01-19T18:22:48.899Z"
   },
   {
    "duration": 89,
    "start_time": "2025-01-19T18:22:56.686Z"
   },
   {
    "duration": 89,
    "start_time": "2025-01-19T18:23:19.140Z"
   },
   {
    "duration": 2881,
    "start_time": "2025-01-19T18:24:17.464Z"
   },
   {
    "duration": 8,
    "start_time": "2025-01-19T18:24:29.027Z"
   },
   {
    "duration": 10,
    "start_time": "2025-01-19T18:26:26.738Z"
   },
   {
    "duration": 114,
    "start_time": "2025-01-19T18:28:35.307Z"
   },
   {
    "duration": 1380,
    "start_time": "2025-01-19T18:31:34.858Z"
   },
   {
    "duration": 1493,
    "start_time": "2025-01-19T18:32:00.407Z"
   },
   {
    "duration": 1540,
    "start_time": "2025-01-19T18:32:42.901Z"
   },
   {
    "duration": 38,
    "start_time": "2025-01-19T18:33:09.370Z"
   },
   {
    "duration": 31,
    "start_time": "2025-01-19T18:34:30.017Z"
   },
   {
    "duration": 38,
    "start_time": "2025-01-19T18:37:23.663Z"
   },
   {
    "duration": 10,
    "start_time": "2025-01-19T18:41:59.908Z"
   },
   {
    "duration": 20,
    "start_time": "2025-01-19T18:42:00.741Z"
   },
   {
    "duration": 16,
    "start_time": "2025-01-19T18:42:12.660Z"
   },
   {
    "duration": 29,
    "start_time": "2025-01-19T18:42:13.801Z"
   },
   {
    "duration": 11,
    "start_time": "2025-01-19T18:42:15.500Z"
   },
   {
    "duration": 16,
    "start_time": "2025-01-19T18:42:15.848Z"
   },
   {
    "duration": 25,
    "start_time": "2025-01-19T18:42:16.089Z"
   },
   {
    "duration": 20,
    "start_time": "2025-01-19T18:42:16.291Z"
   },
   {
    "duration": 15,
    "start_time": "2025-01-19T18:42:16.516Z"
   },
   {
    "duration": 7,
    "start_time": "2025-01-19T18:42:17.118Z"
   },
   {
    "duration": 7,
    "start_time": "2025-01-19T18:42:17.553Z"
   },
   {
    "duration": 11,
    "start_time": "2025-01-19T18:42:17.772Z"
   },
   {
    "duration": 14,
    "start_time": "2025-01-19T18:42:18.202Z"
   },
   {
    "duration": 15,
    "start_time": "2025-01-19T18:42:20.206Z"
   },
   {
    "duration": 9,
    "start_time": "2025-01-19T18:42:21.768Z"
   },
   {
    "duration": 56,
    "start_time": "2025-01-19T18:42:22.281Z"
   },
   {
    "duration": 41,
    "start_time": "2025-01-19T18:42:23.074Z"
   },
   {
    "duration": 40,
    "start_time": "2025-01-19T18:42:24.256Z"
   },
   {
    "duration": 12,
    "start_time": "2025-01-19T18:42:26.694Z"
   },
   {
    "duration": 23,
    "start_time": "2025-01-19T18:42:33.923Z"
   },
   {
    "duration": 35,
    "start_time": "2025-01-19T18:43:04.485Z"
   },
   {
    "duration": 92,
    "start_time": "2025-01-19T18:44:53.780Z"
   },
   {
    "duration": 20,
    "start_time": "2025-01-19T18:47:35.092Z"
   },
   {
    "duration": 11,
    "start_time": "2025-01-19T18:50:48.250Z"
   },
   {
    "duration": 13,
    "start_time": "2025-01-19T18:51:41.125Z"
   },
   {
    "duration": 17,
    "start_time": "2025-01-19T18:51:45.977Z"
   },
   {
    "duration": 4219,
    "start_time": "2025-01-19T18:51:54.365Z"
   },
   {
    "duration": 68,
    "start_time": "2025-01-19T18:51:58.586Z"
   },
   {
    "duration": 1161,
    "start_time": "2025-01-19T18:51:58.655Z"
   },
   {
    "duration": 256,
    "start_time": "2025-01-19T18:51:59.818Z"
   },
   {
    "duration": 246,
    "start_time": "2025-01-19T18:52:00.076Z"
   },
   {
    "duration": 57,
    "start_time": "2025-01-19T18:52:00.324Z"
   },
   {
    "duration": 132,
    "start_time": "2025-01-19T18:52:00.383Z"
   },
   {
    "duration": 414,
    "start_time": "2025-01-19T18:52:00.516Z"
   },
   {
    "duration": 6,
    "start_time": "2025-01-19T18:52:00.931Z"
   },
   {
    "duration": 7,
    "start_time": "2025-01-19T18:52:00.939Z"
   },
   {
    "duration": 7,
    "start_time": "2025-01-19T18:52:00.947Z"
   },
   {
    "duration": 5,
    "start_time": "2025-01-19T18:52:00.955Z"
   },
   {
    "duration": 4,
    "start_time": "2025-01-19T18:52:00.961Z"
   },
   {
    "duration": 6,
    "start_time": "2025-01-19T18:52:00.987Z"
   },
   {
    "duration": 16,
    "start_time": "2025-01-19T18:52:00.995Z"
   },
   {
    "duration": 7,
    "start_time": "2025-01-19T18:52:01.013Z"
   },
   {
    "duration": 5,
    "start_time": "2025-01-19T18:52:01.022Z"
   },
   {
    "duration": 26,
    "start_time": "2025-01-19T18:52:01.029Z"
   },
   {
    "duration": 13,
    "start_time": "2025-01-19T18:52:01.056Z"
   },
   {
    "duration": 22,
    "start_time": "2025-01-19T18:52:01.071Z"
   },
   {
    "duration": 107,
    "start_time": "2025-01-19T18:52:01.095Z"
   },
   {
    "duration": 151,
    "start_time": "2025-01-19T18:52:01.204Z"
   },
   {
    "duration": 383,
    "start_time": "2025-01-19T18:52:01.356Z"
   },
   {
    "duration": 20,
    "start_time": "2025-01-19T18:52:01.741Z"
   },
   {
    "duration": 25,
    "start_time": "2025-01-19T18:52:01.763Z"
   },
   {
    "duration": 61,
    "start_time": "2025-01-19T18:52:01.790Z"
   },
   {
    "duration": 18,
    "start_time": "2025-01-19T18:52:01.853Z"
   },
   {
    "duration": 56,
    "start_time": "2025-01-19T18:52:01.875Z"
   },
   {
    "duration": 34,
    "start_time": "2025-01-19T18:52:01.933Z"
   },
   {
    "duration": 12,
    "start_time": "2025-01-19T18:52:01.969Z"
   },
   {
    "duration": 27,
    "start_time": "2025-01-19T18:52:01.982Z"
   },
   {
    "duration": 20,
    "start_time": "2025-01-19T18:52:02.011Z"
   },
   {
    "duration": 8,
    "start_time": "2025-01-19T18:52:02.032Z"
   },
   {
    "duration": 28,
    "start_time": "2025-01-19T18:52:02.041Z"
   },
   {
    "duration": 70,
    "start_time": "2025-01-19T18:52:02.070Z"
   },
   {
    "duration": 45,
    "start_time": "2025-01-19T18:52:02.141Z"
   },
   {
    "duration": 21,
    "start_time": "2025-01-19T18:52:02.188Z"
   },
   {
    "duration": 155,
    "start_time": "2025-01-19T18:52:02.211Z"
   },
   {
    "duration": 4,
    "start_time": "2025-01-19T18:52:02.367Z"
   },
   {
    "duration": 28,
    "start_time": "2025-01-19T18:52:02.372Z"
   },
   {
    "duration": 33,
    "start_time": "2025-01-19T18:52:02.402Z"
   },
   {
    "duration": 46,
    "start_time": "2025-01-19T18:52:02.437Z"
   },
   {
    "duration": 84,
    "start_time": "2025-01-19T18:52:02.484Z"
   },
   {
    "duration": 95,
    "start_time": "2025-01-19T18:52:02.569Z"
   },
   {
    "duration": 102,
    "start_time": "2025-01-19T18:52:02.666Z"
   },
   {
    "duration": 7,
    "start_time": "2025-01-19T18:52:02.769Z"
   },
   {
    "duration": 42,
    "start_time": "2025-01-19T18:52:02.777Z"
   },
   {
    "duration": 18,
    "start_time": "2025-01-19T18:52:02.820Z"
   },
   {
    "duration": 31,
    "start_time": "2025-01-19T18:52:02.839Z"
   },
   {
    "duration": 18,
    "start_time": "2025-01-19T18:52:02.871Z"
   },
   {
    "duration": 20,
    "start_time": "2025-01-19T18:52:02.891Z"
   },
   {
    "duration": 24,
    "start_time": "2025-01-19T18:52:02.913Z"
   },
   {
    "duration": 9,
    "start_time": "2025-01-19T18:52:02.940Z"
   },
   {
    "duration": 41,
    "start_time": "2025-01-19T18:52:02.951Z"
   },
   {
    "duration": 11,
    "start_time": "2025-01-19T18:52:02.994Z"
   },
   {
    "duration": 28,
    "start_time": "2025-01-19T18:52:03.007Z"
   },
   {
    "duration": 17,
    "start_time": "2025-01-19T18:52:03.036Z"
   },
   {
    "duration": 9,
    "start_time": "2025-01-19T18:52:03.055Z"
   },
   {
    "duration": 32,
    "start_time": "2025-01-19T18:52:03.066Z"
   },
   {
    "duration": 23,
    "start_time": "2025-01-19T18:52:03.100Z"
   },
   {
    "duration": 31,
    "start_time": "2025-01-19T18:52:03.125Z"
   },
   {
    "duration": 34,
    "start_time": "2025-01-19T18:52:03.158Z"
   },
   {
    "duration": 45,
    "start_time": "2025-01-19T18:52:03.194Z"
   },
   {
    "duration": 7,
    "start_time": "2025-01-19T18:52:03.241Z"
   },
   {
    "duration": 157,
    "start_time": "2025-01-19T18:52:03.249Z"
   },
   {
    "duration": 0,
    "start_time": "2025-01-19T18:52:03.409Z"
   },
   {
    "duration": 0,
    "start_time": "2025-01-19T18:52:03.410Z"
   },
   {
    "duration": 0,
    "start_time": "2025-01-19T18:52:03.411Z"
   },
   {
    "duration": 1,
    "start_time": "2025-01-19T18:52:03.412Z"
   },
   {
    "duration": 0,
    "start_time": "2025-01-19T18:52:03.414Z"
   },
   {
    "duration": 0,
    "start_time": "2025-01-19T18:52:03.415Z"
   },
   {
    "duration": 0,
    "start_time": "2025-01-19T18:52:03.416Z"
   },
   {
    "duration": 0,
    "start_time": "2025-01-19T18:52:03.417Z"
   },
   {
    "duration": 0,
    "start_time": "2025-01-19T18:52:03.418Z"
   },
   {
    "duration": 0,
    "start_time": "2025-01-19T18:52:03.419Z"
   },
   {
    "duration": 0,
    "start_time": "2025-01-19T18:52:03.420Z"
   },
   {
    "duration": 0,
    "start_time": "2025-01-19T18:52:03.421Z"
   },
   {
    "duration": 0,
    "start_time": "2025-01-19T18:52:03.422Z"
   },
   {
    "duration": 0,
    "start_time": "2025-01-19T18:52:03.423Z"
   },
   {
    "duration": 0,
    "start_time": "2025-01-19T18:52:03.424Z"
   },
   {
    "duration": 0,
    "start_time": "2025-01-19T18:52:03.424Z"
   },
   {
    "duration": 0,
    "start_time": "2025-01-19T18:52:03.425Z"
   },
   {
    "duration": 0,
    "start_time": "2025-01-19T18:52:03.426Z"
   },
   {
    "duration": 0,
    "start_time": "2025-01-19T18:52:03.427Z"
   },
   {
    "duration": 0,
    "start_time": "2025-01-19T18:52:03.428Z"
   },
   {
    "duration": 0,
    "start_time": "2025-01-19T18:52:03.429Z"
   },
   {
    "duration": 0,
    "start_time": "2025-01-19T18:52:03.429Z"
   },
   {
    "duration": 1,
    "start_time": "2025-01-19T18:52:03.430Z"
   },
   {
    "duration": 0,
    "start_time": "2025-01-19T18:52:03.432Z"
   },
   {
    "duration": 0,
    "start_time": "2025-01-19T18:52:03.432Z"
   },
   {
    "duration": 0,
    "start_time": "2025-01-19T18:52:03.433Z"
   },
   {
    "duration": 0,
    "start_time": "2025-01-19T18:52:03.434Z"
   },
   {
    "duration": 0,
    "start_time": "2025-01-19T18:52:03.435Z"
   },
   {
    "duration": 0,
    "start_time": "2025-01-19T18:52:03.436Z"
   },
   {
    "duration": 0,
    "start_time": "2025-01-19T18:52:03.437Z"
   },
   {
    "duration": 0,
    "start_time": "2025-01-19T18:52:03.437Z"
   },
   {
    "duration": 1977,
    "start_time": "2025-01-19T18:52:59.749Z"
   },
   {
    "duration": 80,
    "start_time": "2025-01-19T18:53:32.996Z"
   },
   {
    "duration": 41,
    "start_time": "2025-01-19T18:54:17.104Z"
   },
   {
    "duration": 26,
    "start_time": "2025-01-19T18:54:27.702Z"
   },
   {
    "duration": 5,
    "start_time": "2025-01-19T18:54:28.554Z"
   },
   {
    "duration": 16,
    "start_time": "2025-01-19T18:54:43.000Z"
   },
   {
    "duration": 7,
    "start_time": "2025-01-19T18:54:45.521Z"
   },
   {
    "duration": 16,
    "start_time": "2025-01-19T18:55:30.608Z"
   },
   {
    "duration": 15,
    "start_time": "2025-01-19T18:55:58.563Z"
   },
   {
    "duration": 16,
    "start_time": "2025-01-19T18:56:15.115Z"
   },
   {
    "duration": 5,
    "start_time": "2025-01-19T18:56:56.771Z"
   },
   {
    "duration": 1449,
    "start_time": "2025-01-19T19:04:40.528Z"
   },
   {
    "duration": 1332,
    "start_time": "2025-01-19T19:08:58.618Z"
   },
   {
    "duration": 1374,
    "start_time": "2025-01-19T19:09:35.241Z"
   },
   {
    "duration": 1480,
    "start_time": "2025-01-19T19:10:03.501Z"
   },
   {
    "duration": 1497,
    "start_time": "2025-01-19T19:11:07.708Z"
   },
   {
    "duration": 81,
    "start_time": "2025-01-19T19:11:50.630Z"
   },
   {
    "duration": 15,
    "start_time": "2025-01-19T19:11:52.026Z"
   },
   {
    "duration": 5,
    "start_time": "2025-01-19T19:12:06.065Z"
   },
   {
    "duration": 1324,
    "start_time": "2025-01-19T19:12:14.073Z"
   },
   {
    "duration": 1468,
    "start_time": "2025-01-19T19:12:21.211Z"
   },
   {
    "duration": 554,
    "start_time": "2025-01-19T19:12:38.802Z"
   },
   {
    "duration": 455,
    "start_time": "2025-01-19T19:13:04.462Z"
   },
   {
    "duration": 32,
    "start_time": "2025-01-19T19:13:57.791Z"
   },
   {
    "duration": 18,
    "start_time": "2025-01-19T19:14:01.741Z"
   },
   {
    "duration": 13,
    "start_time": "2025-01-19T19:14:02.439Z"
   },
   {
    "duration": 4,
    "start_time": "2025-01-19T19:14:04.543Z"
   },
   {
    "duration": 317,
    "start_time": "2025-01-19T19:14:11.444Z"
   },
   {
    "duration": 134,
    "start_time": "2025-01-19T19:16:04.161Z"
   },
   {
    "duration": 200,
    "start_time": "2025-01-19T19:16:24.895Z"
   },
   {
    "duration": 142,
    "start_time": "2025-01-19T19:17:02.828Z"
   },
   {
    "duration": 466,
    "start_time": "2025-01-19T19:19:42.494Z"
   },
   {
    "duration": 373,
    "start_time": "2025-01-19T19:19:52.467Z"
   },
   {
    "duration": 286,
    "start_time": "2025-01-19T19:20:00.792Z"
   },
   {
    "duration": 93,
    "start_time": "2025-01-19T19:22:55.109Z"
   },
   {
    "duration": 99,
    "start_time": "2025-01-19T19:24:10.219Z"
   },
   {
    "duration": 13,
    "start_time": "2025-01-19T19:24:20.675Z"
   },
   {
    "duration": 11,
    "start_time": "2025-01-19T19:24:47.676Z"
   },
   {
    "duration": 12,
    "start_time": "2025-01-19T19:25:17.455Z"
   },
   {
    "duration": 15,
    "start_time": "2025-01-19T19:27:40.032Z"
   },
   {
    "duration": 253,
    "start_time": "2025-01-19T19:28:09.472Z"
   },
   {
    "duration": 251,
    "start_time": "2025-01-19T19:28:25.390Z"
   },
   {
    "duration": 238,
    "start_time": "2025-01-19T19:28:38.794Z"
   },
   {
    "duration": 244,
    "start_time": "2025-01-19T19:28:47.293Z"
   },
   {
    "duration": 241,
    "start_time": "2025-01-19T19:28:57.626Z"
   },
   {
    "duration": 238,
    "start_time": "2025-01-19T19:29:05.166Z"
   },
   {
    "duration": 293,
    "start_time": "2025-01-19T19:45:52.257Z"
   },
   {
    "duration": 11,
    "start_time": "2025-01-19T19:47:54.944Z"
   },
   {
    "duration": 8,
    "start_time": "2025-01-19T19:49:46.321Z"
   },
   {
    "duration": 8,
    "start_time": "2025-01-19T19:50:05.098Z"
   },
   {
    "duration": 86,
    "start_time": "2025-01-19T19:50:07.631Z"
   },
   {
    "duration": 47,
    "start_time": "2025-01-19T19:50:09.482Z"
   },
   {
    "duration": 167,
    "start_time": "2025-01-19T19:50:10.100Z"
   },
   {
    "duration": 37,
    "start_time": "2025-01-19T19:50:11.874Z"
   },
   {
    "duration": 8,
    "start_time": "2025-01-19T19:50:13.569Z"
   },
   {
    "duration": 8,
    "start_time": "2025-01-19T19:50:22.384Z"
   },
   {
    "duration": 13,
    "start_time": "2025-01-19T19:51:20.442Z"
   },
   {
    "duration": 90,
    "start_time": "2025-01-19T19:51:41.104Z"
   },
   {
    "duration": 9,
    "start_time": "2025-01-19T19:53:14.356Z"
   },
   {
    "duration": 37,
    "start_time": "2025-01-19T19:54:23.452Z"
   },
   {
    "duration": 32,
    "start_time": "2025-01-19T19:55:02.665Z"
   },
   {
    "duration": 32,
    "start_time": "2025-01-19T19:56:22.563Z"
   },
   {
    "duration": 172,
    "start_time": "2025-01-19T19:57:59.061Z"
   },
   {
    "duration": 121,
    "start_time": "2025-01-19T19:59:05.830Z"
   },
   {
    "duration": 127,
    "start_time": "2025-01-19T19:59:12.876Z"
   },
   {
    "duration": 120,
    "start_time": "2025-01-19T19:59:30.751Z"
   },
   {
    "duration": 128,
    "start_time": "2025-01-19T19:59:45.409Z"
   },
   {
    "duration": 51,
    "start_time": "2025-01-20T15:02:27.785Z"
   },
   {
    "duration": 9,
    "start_time": "2025-01-20T15:02:42.442Z"
   },
   {
    "duration": 8,
    "start_time": "2025-01-20T15:02:53.568Z"
   },
   {
    "duration": 7,
    "start_time": "2025-01-20T15:02:57.271Z"
   },
   {
    "duration": 7737,
    "start_time": "2025-01-20T15:03:13.855Z"
   },
   {
    "duration": 229,
    "start_time": "2025-01-20T15:03:21.594Z"
   },
   {
    "duration": 2460,
    "start_time": "2025-01-20T15:03:21.825Z"
   },
   {
    "duration": 272,
    "start_time": "2025-01-20T15:03:24.287Z"
   },
   {
    "duration": 610,
    "start_time": "2025-01-20T15:03:24.560Z"
   },
   {
    "duration": 230,
    "start_time": "2025-01-20T15:03:25.172Z"
   },
   {
    "duration": 155,
    "start_time": "2025-01-20T15:03:25.404Z"
   },
   {
    "duration": 1305,
    "start_time": "2025-01-20T15:03:25.560Z"
   },
   {
    "duration": 7,
    "start_time": "2025-01-20T15:03:26.866Z"
   },
   {
    "duration": 4,
    "start_time": "2025-01-20T15:03:26.875Z"
   },
   {
    "duration": 7,
    "start_time": "2025-01-20T15:03:26.880Z"
   },
   {
    "duration": 23,
    "start_time": "2025-01-20T15:03:26.890Z"
   },
   {
    "duration": 5,
    "start_time": "2025-01-20T15:03:26.915Z"
   },
   {
    "duration": 11,
    "start_time": "2025-01-20T15:03:26.922Z"
   },
   {
    "duration": 19,
    "start_time": "2025-01-20T15:03:26.935Z"
   },
   {
    "duration": 12,
    "start_time": "2025-01-20T15:03:26.955Z"
   },
   {
    "duration": 27,
    "start_time": "2025-01-20T15:03:26.969Z"
   },
   {
    "duration": 47,
    "start_time": "2025-01-20T15:03:26.998Z"
   },
   {
    "duration": 15,
    "start_time": "2025-01-20T15:03:27.046Z"
   },
   {
    "duration": 9,
    "start_time": "2025-01-20T15:03:27.062Z"
   },
   {
    "duration": 97,
    "start_time": "2025-01-20T15:03:27.073Z"
   },
   {
    "duration": 146,
    "start_time": "2025-01-20T15:03:27.172Z"
   },
   {
    "duration": 323,
    "start_time": "2025-01-20T15:03:27.319Z"
   },
   {
    "duration": 26,
    "start_time": "2025-01-20T15:03:27.644Z"
   },
   {
    "duration": 34,
    "start_time": "2025-01-20T15:03:27.671Z"
   },
   {
    "duration": 55,
    "start_time": "2025-01-20T15:03:27.706Z"
   },
   {
    "duration": 16,
    "start_time": "2025-01-20T15:03:27.762Z"
   },
   {
    "duration": 27,
    "start_time": "2025-01-20T15:03:27.782Z"
   },
   {
    "duration": 62,
    "start_time": "2025-01-20T15:03:27.810Z"
   },
   {
    "duration": 11,
    "start_time": "2025-01-20T15:03:27.874Z"
   },
   {
    "duration": 16,
    "start_time": "2025-01-20T15:03:27.887Z"
   },
   {
    "duration": 10,
    "start_time": "2025-01-20T15:03:27.904Z"
   },
   {
    "duration": 23,
    "start_time": "2025-01-20T15:03:27.916Z"
   },
   {
    "duration": 13,
    "start_time": "2025-01-20T15:03:27.940Z"
   },
   {
    "duration": 38,
    "start_time": "2025-01-20T15:03:27.955Z"
   },
   {
    "duration": 35,
    "start_time": "2025-01-20T15:03:27.995Z"
   },
   {
    "duration": 12,
    "start_time": "2025-01-20T15:03:28.032Z"
   },
   {
    "duration": 125,
    "start_time": "2025-01-20T15:03:28.045Z"
   },
   {
    "duration": 3,
    "start_time": "2025-01-20T15:03:28.172Z"
   },
   {
    "duration": 30,
    "start_time": "2025-01-20T15:03:28.177Z"
   },
   {
    "duration": 38,
    "start_time": "2025-01-20T15:03:28.209Z"
   },
   {
    "duration": 17,
    "start_time": "2025-01-20T15:03:28.249Z"
   },
   {
    "duration": 67,
    "start_time": "2025-01-20T15:03:28.267Z"
   },
   {
    "duration": 80,
    "start_time": "2025-01-20T15:03:28.335Z"
   },
   {
    "duration": 86,
    "start_time": "2025-01-20T15:03:28.417Z"
   },
   {
    "duration": 7,
    "start_time": "2025-01-20T15:03:28.505Z"
   },
   {
    "duration": 22,
    "start_time": "2025-01-20T15:03:28.513Z"
   },
   {
    "duration": 18,
    "start_time": "2025-01-20T15:03:28.553Z"
   },
   {
    "duration": 24,
    "start_time": "2025-01-20T15:03:28.573Z"
   },
   {
    "duration": 7,
    "start_time": "2025-01-20T15:03:28.599Z"
   },
   {
    "duration": 30,
    "start_time": "2025-01-20T15:03:28.607Z"
   },
   {
    "duration": 24,
    "start_time": "2025-01-20T15:03:28.638Z"
   },
   {
    "duration": 8,
    "start_time": "2025-01-20T15:03:28.663Z"
   },
   {
    "duration": 31,
    "start_time": "2025-01-20T15:03:28.673Z"
   },
   {
    "duration": 21,
    "start_time": "2025-01-20T15:03:28.706Z"
   },
   {
    "duration": 11,
    "start_time": "2025-01-20T15:03:28.728Z"
   },
   {
    "duration": 46,
    "start_time": "2025-01-20T15:03:28.740Z"
   },
   {
    "duration": 8,
    "start_time": "2025-01-20T15:03:28.787Z"
   },
   {
    "duration": 34,
    "start_time": "2025-01-20T15:03:28.796Z"
   },
   {
    "duration": 7,
    "start_time": "2025-01-20T15:03:28.832Z"
   },
   {
    "duration": 34,
    "start_time": "2025-01-20T15:03:28.841Z"
   },
   {
    "duration": 28,
    "start_time": "2025-01-20T15:03:28.876Z"
   },
   {
    "duration": 40,
    "start_time": "2025-01-20T15:03:28.905Z"
   },
   {
    "duration": 11,
    "start_time": "2025-01-20T15:03:28.947Z"
   },
   {
    "duration": 2060,
    "start_time": "2025-01-20T15:03:28.960Z"
   },
   {
    "duration": 0,
    "start_time": "2025-01-20T15:03:31.022Z"
   },
   {
    "duration": 0,
    "start_time": "2025-01-20T15:03:31.024Z"
   },
   {
    "duration": 0,
    "start_time": "2025-01-20T15:03:31.026Z"
   },
   {
    "duration": 0,
    "start_time": "2025-01-20T15:03:31.027Z"
   },
   {
    "duration": 0,
    "start_time": "2025-01-20T15:03:31.029Z"
   },
   {
    "duration": 0,
    "start_time": "2025-01-20T15:03:31.030Z"
   },
   {
    "duration": 0,
    "start_time": "2025-01-20T15:03:31.032Z"
   },
   {
    "duration": 0,
    "start_time": "2025-01-20T15:03:31.033Z"
   },
   {
    "duration": 0,
    "start_time": "2025-01-20T15:03:31.034Z"
   },
   {
    "duration": 0,
    "start_time": "2025-01-20T15:03:31.036Z"
   },
   {
    "duration": 0,
    "start_time": "2025-01-20T15:03:31.037Z"
   },
   {
    "duration": 0,
    "start_time": "2025-01-20T15:03:31.039Z"
   },
   {
    "duration": 0,
    "start_time": "2025-01-20T15:03:31.040Z"
   },
   {
    "duration": 0,
    "start_time": "2025-01-20T15:03:31.042Z"
   },
   {
    "duration": 0,
    "start_time": "2025-01-20T15:03:31.043Z"
   },
   {
    "duration": 0,
    "start_time": "2025-01-20T15:03:31.044Z"
   },
   {
    "duration": 0,
    "start_time": "2025-01-20T15:03:31.045Z"
   },
   {
    "duration": 0,
    "start_time": "2025-01-20T15:03:31.047Z"
   },
   {
    "duration": 0,
    "start_time": "2025-01-20T15:03:31.048Z"
   },
   {
    "duration": 0,
    "start_time": "2025-01-20T15:03:31.050Z"
   },
   {
    "duration": 0,
    "start_time": "2025-01-20T15:03:31.051Z"
   },
   {
    "duration": 0,
    "start_time": "2025-01-20T15:03:31.052Z"
   },
   {
    "duration": 0,
    "start_time": "2025-01-20T15:03:31.054Z"
   },
   {
    "duration": 0,
    "start_time": "2025-01-20T15:03:31.056Z"
   },
   {
    "duration": 0,
    "start_time": "2025-01-20T15:03:31.057Z"
   },
   {
    "duration": 0,
    "start_time": "2025-01-20T15:03:31.058Z"
   },
   {
    "duration": 0,
    "start_time": "2025-01-20T15:03:31.059Z"
   },
   {
    "duration": 0,
    "start_time": "2025-01-20T15:03:31.061Z"
   },
   {
    "duration": 0,
    "start_time": "2025-01-20T15:03:31.062Z"
   },
   {
    "duration": 0,
    "start_time": "2025-01-20T15:03:31.064Z"
   },
   {
    "duration": 0,
    "start_time": "2025-01-20T15:03:31.065Z"
   },
   {
    "duration": 0,
    "start_time": "2025-01-20T15:03:31.067Z"
   },
   {
    "duration": 0,
    "start_time": "2025-01-20T15:03:31.068Z"
   },
   {
    "duration": 0,
    "start_time": "2025-01-20T15:03:31.069Z"
   },
   {
    "duration": 0,
    "start_time": "2025-01-20T15:03:31.071Z"
   },
   {
    "duration": 0,
    "start_time": "2025-01-20T15:03:31.072Z"
   },
   {
    "duration": 0,
    "start_time": "2025-01-20T15:03:31.073Z"
   },
   {
    "duration": 2116,
    "start_time": "2025-01-20T15:04:16.198Z"
   },
   {
    "duration": 77,
    "start_time": "2025-01-20T15:04:50.350Z"
   },
   {
    "duration": 14,
    "start_time": "2025-01-20T15:05:04.625Z"
   },
   {
    "duration": 5,
    "start_time": "2025-01-20T15:05:05.273Z"
   },
   {
    "duration": 228,
    "start_time": "2025-01-20T15:05:18.106Z"
   },
   {
    "duration": 216,
    "start_time": "2025-01-20T15:05:48.858Z"
   },
   {
    "duration": 212,
    "start_time": "2025-01-20T15:05:59.153Z"
   },
   {
    "duration": 218,
    "start_time": "2025-01-20T15:06:12.884Z"
   },
   {
    "duration": 231,
    "start_time": "2025-01-20T15:07:18.367Z"
   },
   {
    "duration": 218,
    "start_time": "2025-01-20T15:07:29.782Z"
   },
   {
    "duration": 270,
    "start_time": "2025-01-20T15:07:44.627Z"
   },
   {
    "duration": 225,
    "start_time": "2025-01-20T15:09:10.796Z"
   },
   {
    "duration": 211,
    "start_time": "2025-01-20T15:09:28.560Z"
   },
   {
    "duration": 255,
    "start_time": "2025-01-20T15:09:55.810Z"
   },
   {
    "duration": 256,
    "start_time": "2025-01-20T15:10:30.120Z"
   },
   {
    "duration": 241,
    "start_time": "2025-01-20T15:10:55.476Z"
   },
   {
    "duration": 3980,
    "start_time": "2025-01-20T15:11:33.530Z"
   },
   {
    "duration": 38,
    "start_time": "2025-01-20T15:11:37.512Z"
   },
   {
    "duration": 119,
    "start_time": "2025-01-20T15:11:37.551Z"
   },
   {
    "duration": 975,
    "start_time": "2025-01-20T15:11:37.672Z"
   },
   {
    "duration": 182,
    "start_time": "2025-01-20T15:11:38.648Z"
   },
   {
    "duration": 423,
    "start_time": "2025-01-20T15:11:38.831Z"
   },
   {
    "duration": 97,
    "start_time": "2025-01-20T15:11:39.256Z"
   },
   {
    "duration": 350,
    "start_time": "2025-01-20T15:11:39.355Z"
   },
   {
    "duration": 433,
    "start_time": "2025-01-20T15:11:39.707Z"
   },
   {
    "duration": 11,
    "start_time": "2025-01-20T15:11:40.142Z"
   },
   {
    "duration": 5,
    "start_time": "2025-01-20T15:11:40.155Z"
   },
   {
    "duration": 4,
    "start_time": "2025-01-20T15:11:40.162Z"
   },
   {
    "duration": 8,
    "start_time": "2025-01-20T15:11:40.168Z"
   },
   {
    "duration": 17,
    "start_time": "2025-01-20T15:11:40.178Z"
   },
   {
    "duration": 4,
    "start_time": "2025-01-20T15:11:40.196Z"
   },
   {
    "duration": 10,
    "start_time": "2025-01-20T15:11:40.202Z"
   },
   {
    "duration": 4,
    "start_time": "2025-01-20T15:11:40.214Z"
   },
   {
    "duration": 4,
    "start_time": "2025-01-20T15:11:40.220Z"
   },
   {
    "duration": 33,
    "start_time": "2025-01-20T15:11:40.225Z"
   },
   {
    "duration": 15,
    "start_time": "2025-01-20T15:11:40.260Z"
   },
   {
    "duration": 11,
    "start_time": "2025-01-20T15:11:40.277Z"
   },
   {
    "duration": 126,
    "start_time": "2025-01-20T15:11:40.290Z"
   },
   {
    "duration": 145,
    "start_time": "2025-01-20T15:11:40.418Z"
   },
   {
    "duration": 300,
    "start_time": "2025-01-20T15:11:40.565Z"
   },
   {
    "duration": 22,
    "start_time": "2025-01-20T15:11:40.867Z"
   },
   {
    "duration": 23,
    "start_time": "2025-01-20T15:11:40.891Z"
   },
   {
    "duration": 47,
    "start_time": "2025-01-20T15:11:40.915Z"
   },
   {
    "duration": 16,
    "start_time": "2025-01-20T15:11:40.966Z"
   },
   {
    "duration": 17,
    "start_time": "2025-01-20T15:11:40.983Z"
   },
   {
    "duration": 38,
    "start_time": "2025-01-20T15:11:41.002Z"
   },
   {
    "duration": 18,
    "start_time": "2025-01-20T15:11:41.041Z"
   },
   {
    "duration": 16,
    "start_time": "2025-01-20T15:11:41.060Z"
   },
   {
    "duration": 19,
    "start_time": "2025-01-20T15:11:41.077Z"
   },
   {
    "duration": 18,
    "start_time": "2025-01-20T15:11:41.098Z"
   },
   {
    "duration": 68,
    "start_time": "2025-01-20T15:11:41.118Z"
   },
   {
    "duration": 41,
    "start_time": "2025-01-20T15:11:41.188Z"
   },
   {
    "duration": 69,
    "start_time": "2025-01-20T15:11:41.230Z"
   },
   {
    "duration": 30,
    "start_time": "2025-01-20T15:11:41.301Z"
   },
   {
    "duration": 114,
    "start_time": "2025-01-20T15:11:41.332Z"
   },
   {
    "duration": 7,
    "start_time": "2025-01-20T15:11:41.448Z"
   },
   {
    "duration": 24,
    "start_time": "2025-01-20T15:11:41.456Z"
   },
   {
    "duration": 70,
    "start_time": "2025-01-20T15:11:41.481Z"
   },
   {
    "duration": 16,
    "start_time": "2025-01-20T15:11:41.552Z"
   },
   {
    "duration": 53,
    "start_time": "2025-01-20T15:11:41.569Z"
   },
   {
    "duration": 83,
    "start_time": "2025-01-20T15:11:41.624Z"
   },
   {
    "duration": 91,
    "start_time": "2025-01-20T15:11:41.709Z"
   },
   {
    "duration": 6,
    "start_time": "2025-01-20T15:11:41.802Z"
   },
   {
    "duration": 21,
    "start_time": "2025-01-20T15:11:41.809Z"
   },
   {
    "duration": 34,
    "start_time": "2025-01-20T15:11:41.832Z"
   },
   {
    "duration": 27,
    "start_time": "2025-01-20T15:11:41.868Z"
   },
   {
    "duration": 5,
    "start_time": "2025-01-20T15:11:41.896Z"
   },
   {
    "duration": 24,
    "start_time": "2025-01-20T15:11:41.903Z"
   },
   {
    "duration": 34,
    "start_time": "2025-01-20T15:11:41.929Z"
   },
   {
    "duration": 10,
    "start_time": "2025-01-20T15:11:41.964Z"
   },
   {
    "duration": 16,
    "start_time": "2025-01-20T15:11:41.975Z"
   },
   {
    "duration": 7,
    "start_time": "2025-01-20T15:11:41.992Z"
   },
   {
    "duration": 9,
    "start_time": "2025-01-20T15:11:42.000Z"
   },
   {
    "duration": 15,
    "start_time": "2025-01-20T15:11:42.010Z"
   },
   {
    "duration": 8,
    "start_time": "2025-01-20T15:11:42.053Z"
   },
   {
    "duration": 20,
    "start_time": "2025-01-20T15:11:42.062Z"
   },
   {
    "duration": 11,
    "start_time": "2025-01-20T15:11:42.083Z"
   },
   {
    "duration": 83,
    "start_time": "2025-01-20T15:11:42.096Z"
   },
   {
    "duration": 32,
    "start_time": "2025-01-20T15:11:42.181Z"
   },
   {
    "duration": 52,
    "start_time": "2025-01-20T15:11:42.214Z"
   },
   {
    "duration": 7,
    "start_time": "2025-01-20T15:11:42.267Z"
   },
   {
    "duration": 81,
    "start_time": "2025-01-20T15:11:42.275Z"
   },
   {
    "duration": 13,
    "start_time": "2025-01-20T15:11:42.357Z"
   },
   {
    "duration": 4,
    "start_time": "2025-01-20T15:11:42.372Z"
   },
   {
    "duration": 257,
    "start_time": "2025-01-20T15:11:42.377Z"
   },
   {
    "duration": 118,
    "start_time": "2025-01-20T15:11:42.635Z"
   },
   {
    "duration": 0,
    "start_time": "2025-01-20T15:11:42.755Z"
   },
   {
    "duration": 0,
    "start_time": "2025-01-20T15:11:42.756Z"
   },
   {
    "duration": 0,
    "start_time": "2025-01-20T15:11:42.757Z"
   },
   {
    "duration": 0,
    "start_time": "2025-01-20T15:11:42.758Z"
   },
   {
    "duration": 0,
    "start_time": "2025-01-20T15:11:42.759Z"
   },
   {
    "duration": 0,
    "start_time": "2025-01-20T15:11:42.760Z"
   },
   {
    "duration": 0,
    "start_time": "2025-01-20T15:11:42.761Z"
   },
   {
    "duration": 0,
    "start_time": "2025-01-20T15:11:42.762Z"
   },
   {
    "duration": 0,
    "start_time": "2025-01-20T15:11:42.763Z"
   },
   {
    "duration": 0,
    "start_time": "2025-01-20T15:11:42.763Z"
   },
   {
    "duration": 0,
    "start_time": "2025-01-20T15:11:42.764Z"
   },
   {
    "duration": 0,
    "start_time": "2025-01-20T15:11:42.765Z"
   },
   {
    "duration": 0,
    "start_time": "2025-01-20T15:11:42.766Z"
   },
   {
    "duration": 0,
    "start_time": "2025-01-20T15:11:42.767Z"
   },
   {
    "duration": 0,
    "start_time": "2025-01-20T15:11:42.768Z"
   },
   {
    "duration": 0,
    "start_time": "2025-01-20T15:11:42.770Z"
   },
   {
    "duration": 0,
    "start_time": "2025-01-20T15:11:42.771Z"
   },
   {
    "duration": 0,
    "start_time": "2025-01-20T15:11:42.772Z"
   },
   {
    "duration": 0,
    "start_time": "2025-01-20T15:11:42.773Z"
   },
   {
    "duration": 0,
    "start_time": "2025-01-20T15:11:42.774Z"
   },
   {
    "duration": 0,
    "start_time": "2025-01-20T15:11:42.776Z"
   },
   {
    "duration": 0,
    "start_time": "2025-01-20T15:11:42.777Z"
   },
   {
    "duration": 0,
    "start_time": "2025-01-20T15:11:42.778Z"
   },
   {
    "duration": 1,
    "start_time": "2025-01-20T15:11:42.779Z"
   },
   {
    "duration": 0,
    "start_time": "2025-01-20T15:11:42.781Z"
   },
   {
    "duration": 0,
    "start_time": "2025-01-20T15:11:42.782Z"
   },
   {
    "duration": 0,
    "start_time": "2025-01-20T15:11:42.784Z"
   },
   {
    "duration": 0,
    "start_time": "2025-01-20T15:11:42.785Z"
   },
   {
    "duration": 0,
    "start_time": "2025-01-20T15:11:42.786Z"
   },
   {
    "duration": 0,
    "start_time": "2025-01-20T15:11:42.787Z"
   },
   {
    "duration": 0,
    "start_time": "2025-01-20T15:11:42.789Z"
   },
   {
    "duration": 0,
    "start_time": "2025-01-20T15:11:42.790Z"
   },
   {
    "duration": 0,
    "start_time": "2025-01-20T15:11:42.791Z"
   },
   {
    "duration": 33,
    "start_time": "2025-01-20T15:16:12.709Z"
   },
   {
    "duration": 14,
    "start_time": "2025-01-20T15:16:20.277Z"
   },
   {
    "duration": 12,
    "start_time": "2025-01-20T15:16:31.004Z"
   },
   {
    "duration": 236,
    "start_time": "2025-01-20T15:16:44.326Z"
   },
   {
    "duration": 213,
    "start_time": "2025-01-20T15:17:21.287Z"
   },
   {
    "duration": 19,
    "start_time": "2025-01-20T15:25:44.530Z"
   },
   {
    "duration": 2249,
    "start_time": "2025-01-20T15:25:45.496Z"
   },
   {
    "duration": 0,
    "start_time": "2025-01-20T15:25:47.746Z"
   },
   {
    "duration": 8,
    "start_time": "2025-01-20T15:25:56.967Z"
   },
   {
    "duration": 2717,
    "start_time": "2025-01-20T15:26:07.709Z"
   },
   {
    "duration": 1903,
    "start_time": "2025-01-20T15:26:32.626Z"
   },
   {
    "duration": 5,
    "start_time": "2025-01-20T15:26:54.500Z"
   },
   {
    "duration": 8,
    "start_time": "2025-01-20T15:26:58.926Z"
   },
   {
    "duration": 3,
    "start_time": "2025-01-20T15:27:01.562Z"
   },
   {
    "duration": 16,
    "start_time": "2025-01-20T15:27:22.105Z"
   },
   {
    "duration": 5,
    "start_time": "2025-01-20T15:27:23.184Z"
   },
   {
    "duration": 7,
    "start_time": "2025-01-20T15:27:24.197Z"
   },
   {
    "duration": 4,
    "start_time": "2025-01-20T15:27:25.053Z"
   },
   {
    "duration": 3,
    "start_time": "2025-01-20T15:32:54.041Z"
   },
   {
    "duration": 6,
    "start_time": "2025-01-20T15:33:48.203Z"
   },
   {
    "duration": 4,
    "start_time": "2025-01-20T15:33:57.395Z"
   },
   {
    "duration": 5,
    "start_time": "2025-01-20T15:36:19.062Z"
   },
   {
    "duration": 4,
    "start_time": "2025-01-20T15:36:45.893Z"
   },
   {
    "duration": 6,
    "start_time": "2025-01-20T15:36:58.036Z"
   },
   {
    "duration": 4,
    "start_time": "2025-01-20T15:37:16.720Z"
   },
   {
    "duration": 9,
    "start_time": "2025-01-20T15:37:31.665Z"
   },
   {
    "duration": 5,
    "start_time": "2025-01-20T15:37:36.129Z"
   },
   {
    "duration": 5,
    "start_time": "2025-01-20T15:38:57.450Z"
   },
   {
    "duration": 95,
    "start_time": "2025-01-20T15:40:23.580Z"
   },
   {
    "duration": 127,
    "start_time": "2025-01-20T15:40:38.566Z"
   },
   {
    "duration": 95,
    "start_time": "2025-01-20T15:41:00.768Z"
   },
   {
    "duration": 115,
    "start_time": "2025-01-20T15:43:09.109Z"
   },
   {
    "duration": 35,
    "start_time": "2025-01-20T15:43:41.857Z"
   },
   {
    "duration": 60,
    "start_time": "2025-01-20T15:44:06.859Z"
   },
   {
    "duration": 7,
    "start_time": "2025-01-20T15:46:43.076Z"
   },
   {
    "duration": 5,
    "start_time": "2025-01-20T15:46:54.624Z"
   },
   {
    "duration": 34,
    "start_time": "2025-01-20T15:50:23.202Z"
   },
   {
    "duration": 58,
    "start_time": "2025-01-20T15:50:35.188Z"
   },
   {
    "duration": 10,
    "start_time": "2025-01-20T15:51:52.592Z"
   },
   {
    "duration": 5,
    "start_time": "2025-01-20T15:51:57.254Z"
   },
   {
    "duration": 17,
    "start_time": "2025-01-20T15:52:35.515Z"
   },
   {
    "duration": 3880,
    "start_time": "2025-01-20T15:54:08.068Z"
   },
   {
    "duration": 45,
    "start_time": "2025-01-20T15:54:11.950Z"
   },
   {
    "duration": 90,
    "start_time": "2025-01-20T15:54:11.997Z"
   },
   {
    "duration": 1124,
    "start_time": "2025-01-20T15:54:12.089Z"
   },
   {
    "duration": 246,
    "start_time": "2025-01-20T15:54:13.215Z"
   },
   {
    "duration": 498,
    "start_time": "2025-01-20T15:54:13.463Z"
   },
   {
    "duration": 95,
    "start_time": "2025-01-20T15:54:13.964Z"
   },
   {
    "duration": 107,
    "start_time": "2025-01-20T15:54:14.060Z"
   },
   {
    "duration": 425,
    "start_time": "2025-01-20T15:54:14.169Z"
   },
   {
    "duration": 4,
    "start_time": "2025-01-20T15:54:14.597Z"
   },
   {
    "duration": 5,
    "start_time": "2025-01-20T15:54:14.603Z"
   },
   {
    "duration": 5,
    "start_time": "2025-01-20T15:54:14.609Z"
   },
   {
    "duration": 4,
    "start_time": "2025-01-20T15:54:14.616Z"
   },
   {
    "duration": 5,
    "start_time": "2025-01-20T15:54:14.621Z"
   },
   {
    "duration": 3,
    "start_time": "2025-01-20T15:54:14.652Z"
   },
   {
    "duration": 17,
    "start_time": "2025-01-20T15:54:14.657Z"
   },
   {
    "duration": 4,
    "start_time": "2025-01-20T15:54:14.675Z"
   },
   {
    "duration": 11,
    "start_time": "2025-01-20T15:54:14.681Z"
   },
   {
    "duration": 14,
    "start_time": "2025-01-20T15:54:14.693Z"
   },
   {
    "duration": 14,
    "start_time": "2025-01-20T15:54:14.709Z"
   },
   {
    "duration": 7,
    "start_time": "2025-01-20T15:54:14.724Z"
   },
   {
    "duration": 114,
    "start_time": "2025-01-20T15:54:14.732Z"
   },
   {
    "duration": 144,
    "start_time": "2025-01-20T15:54:14.852Z"
   },
   {
    "duration": 331,
    "start_time": "2025-01-20T15:54:14.998Z"
   },
   {
    "duration": 29,
    "start_time": "2025-01-20T15:54:15.331Z"
   },
   {
    "duration": 33,
    "start_time": "2025-01-20T15:54:15.362Z"
   },
   {
    "duration": 67,
    "start_time": "2025-01-20T15:54:15.397Z"
   },
   {
    "duration": 18,
    "start_time": "2025-01-20T15:54:15.469Z"
   },
   {
    "duration": 10,
    "start_time": "2025-01-20T15:54:15.489Z"
   },
   {
    "duration": 53,
    "start_time": "2025-01-20T15:54:15.500Z"
   },
   {
    "duration": 12,
    "start_time": "2025-01-20T15:54:15.554Z"
   },
   {
    "duration": 14,
    "start_time": "2025-01-20T15:54:15.567Z"
   },
   {
    "duration": 29,
    "start_time": "2025-01-20T15:54:15.582Z"
   },
   {
    "duration": 48,
    "start_time": "2025-01-20T15:54:15.613Z"
   },
   {
    "duration": 24,
    "start_time": "2025-01-20T15:54:15.663Z"
   },
   {
    "duration": 15,
    "start_time": "2025-01-20T15:54:15.688Z"
   },
   {
    "duration": 33,
    "start_time": "2025-01-20T15:54:15.704Z"
   },
   {
    "duration": 15,
    "start_time": "2025-01-20T15:54:15.739Z"
   },
   {
    "duration": 131,
    "start_time": "2025-01-20T15:54:15.755Z"
   },
   {
    "duration": 5,
    "start_time": "2025-01-20T15:54:15.887Z"
   },
   {
    "duration": 16,
    "start_time": "2025-01-20T15:54:15.893Z"
   },
   {
    "duration": 14,
    "start_time": "2025-01-20T15:54:15.911Z"
   },
   {
    "duration": 11,
    "start_time": "2025-01-20T15:54:15.926Z"
   },
   {
    "duration": 55,
    "start_time": "2025-01-20T15:54:15.938Z"
   },
   {
    "duration": 92,
    "start_time": "2025-01-20T15:54:15.994Z"
   },
   {
    "duration": 85,
    "start_time": "2025-01-20T15:54:16.088Z"
   },
   {
    "duration": 7,
    "start_time": "2025-01-20T15:54:16.175Z"
   },
   {
    "duration": 21,
    "start_time": "2025-01-20T15:54:16.184Z"
   },
   {
    "duration": 17,
    "start_time": "2025-01-20T15:54:16.207Z"
   },
   {
    "duration": 48,
    "start_time": "2025-01-20T15:54:16.225Z"
   },
   {
    "duration": 9,
    "start_time": "2025-01-20T15:54:16.275Z"
   },
   {
    "duration": 20,
    "start_time": "2025-01-20T15:54:16.286Z"
   },
   {
    "duration": 14,
    "start_time": "2025-01-20T15:54:16.307Z"
   },
   {
    "duration": 12,
    "start_time": "2025-01-20T15:54:16.322Z"
   },
   {
    "duration": 31,
    "start_time": "2025-01-20T15:54:16.335Z"
   },
   {
    "duration": 28,
    "start_time": "2025-01-20T15:54:16.368Z"
   },
   {
    "duration": 8,
    "start_time": "2025-01-20T15:54:16.398Z"
   },
   {
    "duration": 29,
    "start_time": "2025-01-20T15:54:16.408Z"
   },
   {
    "duration": 7,
    "start_time": "2025-01-20T15:54:16.439Z"
   },
   {
    "duration": 13,
    "start_time": "2025-01-20T15:54:16.447Z"
   },
   {
    "duration": 8,
    "start_time": "2025-01-20T15:54:16.462Z"
   },
   {
    "duration": 61,
    "start_time": "2025-01-20T15:54:16.472Z"
   },
   {
    "duration": 29,
    "start_time": "2025-01-20T15:54:16.534Z"
   },
   {
    "duration": 33,
    "start_time": "2025-01-20T15:54:16.564Z"
   },
   {
    "duration": 18,
    "start_time": "2025-01-20T15:54:16.599Z"
   },
   {
    "duration": 78,
    "start_time": "2025-01-20T15:54:16.618Z"
   },
   {
    "duration": 10,
    "start_time": "2025-01-20T15:54:16.697Z"
   },
   {
    "duration": 118,
    "start_time": "2025-01-20T15:54:16.709Z"
   },
   {
    "duration": 0,
    "start_time": "2025-01-20T15:54:16.829Z"
   },
   {
    "duration": 0,
    "start_time": "2025-01-20T15:54:16.830Z"
   },
   {
    "duration": 0,
    "start_time": "2025-01-20T15:54:16.831Z"
   },
   {
    "duration": 0,
    "start_time": "2025-01-20T15:54:16.832Z"
   },
   {
    "duration": 0,
    "start_time": "2025-01-20T15:54:16.833Z"
   },
   {
    "duration": 0,
    "start_time": "2025-01-20T15:54:16.834Z"
   },
   {
    "duration": 0,
    "start_time": "2025-01-20T15:54:16.835Z"
   },
   {
    "duration": 0,
    "start_time": "2025-01-20T15:54:16.836Z"
   },
   {
    "duration": 0,
    "start_time": "2025-01-20T15:54:16.852Z"
   },
   {
    "duration": 0,
    "start_time": "2025-01-20T15:54:16.853Z"
   },
   {
    "duration": 0,
    "start_time": "2025-01-20T15:54:16.854Z"
   },
   {
    "duration": 0,
    "start_time": "2025-01-20T15:54:16.855Z"
   },
   {
    "duration": 0,
    "start_time": "2025-01-20T15:54:16.856Z"
   },
   {
    "duration": 0,
    "start_time": "2025-01-20T15:54:16.857Z"
   },
   {
    "duration": 0,
    "start_time": "2025-01-20T15:54:16.858Z"
   },
   {
    "duration": 0,
    "start_time": "2025-01-20T15:54:16.859Z"
   },
   {
    "duration": 0,
    "start_time": "2025-01-20T15:54:16.860Z"
   },
   {
    "duration": 0,
    "start_time": "2025-01-20T15:54:16.860Z"
   },
   {
    "duration": 0,
    "start_time": "2025-01-20T15:54:16.861Z"
   },
   {
    "duration": 0,
    "start_time": "2025-01-20T15:54:16.862Z"
   },
   {
    "duration": 0,
    "start_time": "2025-01-20T15:54:16.863Z"
   },
   {
    "duration": 0,
    "start_time": "2025-01-20T15:54:16.864Z"
   },
   {
    "duration": 0,
    "start_time": "2025-01-20T15:54:16.865Z"
   },
   {
    "duration": 0,
    "start_time": "2025-01-20T15:54:16.866Z"
   },
   {
    "duration": 0,
    "start_time": "2025-01-20T15:54:16.867Z"
   },
   {
    "duration": 0,
    "start_time": "2025-01-20T15:54:16.867Z"
   },
   {
    "duration": 0,
    "start_time": "2025-01-20T15:54:16.869Z"
   },
   {
    "duration": 0,
    "start_time": "2025-01-20T15:54:16.869Z"
   },
   {
    "duration": 0,
    "start_time": "2025-01-20T15:54:16.870Z"
   },
   {
    "duration": 0,
    "start_time": "2025-01-20T15:54:16.871Z"
   },
   {
    "duration": 0,
    "start_time": "2025-01-20T15:54:16.872Z"
   },
   {
    "duration": 0,
    "start_time": "2025-01-20T15:54:16.873Z"
   },
   {
    "duration": 0,
    "start_time": "2025-01-20T15:54:16.874Z"
   },
   {
    "duration": 0,
    "start_time": "2025-01-20T15:54:16.875Z"
   },
   {
    "duration": 0,
    "start_time": "2025-01-20T15:54:16.876Z"
   },
   {
    "duration": 4,
    "start_time": "2025-01-20T15:54:59.424Z"
   },
   {
    "duration": 9,
    "start_time": "2025-01-20T15:55:07.390Z"
   },
   {
    "duration": 4,
    "start_time": "2025-01-20T15:55:08.092Z"
   },
   {
    "duration": 34,
    "start_time": "2025-01-20T15:58:18.329Z"
   },
   {
    "duration": 1585,
    "start_time": "2025-01-20T16:02:10.662Z"
   },
   {
    "duration": 1315,
    "start_time": "2025-01-20T16:02:43.363Z"
   },
   {
    "duration": 1679,
    "start_time": "2025-01-20T16:07:32.405Z"
   },
   {
    "duration": 7,
    "start_time": "2025-01-20T16:07:43.842Z"
   },
   {
    "duration": 5,
    "start_time": "2025-01-20T16:08:08.079Z"
   },
   {
    "duration": 17,
    "start_time": "2025-01-20T16:08:22.970Z"
   },
   {
    "duration": 10,
    "start_time": "2025-01-20T16:17:42.182Z"
   },
   {
    "duration": 5,
    "start_time": "2025-01-20T16:17:58.513Z"
   },
   {
    "duration": 10,
    "start_time": "2025-01-20T16:17:59.371Z"
   },
   {
    "duration": 4,
    "start_time": "2025-01-20T16:18:02.498Z"
   },
   {
    "duration": 128,
    "start_time": "2025-01-20T16:20:45.964Z"
   },
   {
    "duration": 151,
    "start_time": "2025-01-20T16:22:47.002Z"
   },
   {
    "duration": 106,
    "start_time": "2025-01-20T16:23:12.530Z"
   },
   {
    "duration": 16,
    "start_time": "2025-01-20T16:24:42.281Z"
   },
   {
    "duration": 5,
    "start_time": "2025-01-20T16:25:37.471Z"
   },
   {
    "duration": 9,
    "start_time": "2025-01-20T16:25:58.991Z"
   },
   {
    "duration": 16,
    "start_time": "2025-01-20T16:26:09.846Z"
   },
   {
    "duration": 98,
    "start_time": "2025-01-20T16:32:19.139Z"
   },
   {
    "duration": 98,
    "start_time": "2025-01-20T16:32:42.640Z"
   },
   {
    "duration": 97,
    "start_time": "2025-01-20T16:33:00.807Z"
   },
   {
    "duration": 10,
    "start_time": "2025-01-20T16:34:27.438Z"
   },
   {
    "duration": 10,
    "start_time": "2025-01-20T16:34:35.965Z"
   },
   {
    "duration": 4,
    "start_time": "2025-01-20T16:34:38.633Z"
   },
   {
    "duration": 19,
    "start_time": "2025-01-20T16:34:44.975Z"
   },
   {
    "duration": 11,
    "start_time": "2025-01-20T17:01:17.717Z"
   },
   {
    "duration": 9,
    "start_time": "2025-01-20T17:01:37.390Z"
   },
   {
    "duration": 6,
    "start_time": "2025-01-20T17:01:54.775Z"
   },
   {
    "duration": 6,
    "start_time": "2025-01-20T17:02:13.566Z"
   },
   {
    "duration": 3761,
    "start_time": "2025-01-20T17:03:16.604Z"
   },
   {
    "duration": 40,
    "start_time": "2025-01-20T17:03:20.367Z"
   },
   {
    "duration": 71,
    "start_time": "2025-01-20T17:03:20.408Z"
   },
   {
    "duration": 858,
    "start_time": "2025-01-20T17:03:20.480Z"
   },
   {
    "duration": 230,
    "start_time": "2025-01-20T17:03:21.339Z"
   },
   {
    "duration": 208,
    "start_time": "2025-01-20T17:03:21.570Z"
   },
   {
    "duration": 116,
    "start_time": "2025-01-20T17:03:21.779Z"
   },
   {
    "duration": 112,
    "start_time": "2025-01-20T17:03:21.896Z"
   },
   {
    "duration": 325,
    "start_time": "2025-01-20T17:03:22.010Z"
   },
   {
    "duration": 4,
    "start_time": "2025-01-20T17:03:22.338Z"
   },
   {
    "duration": 24,
    "start_time": "2025-01-20T17:03:22.343Z"
   },
   {
    "duration": 17,
    "start_time": "2025-01-20T17:03:22.369Z"
   },
   {
    "duration": 27,
    "start_time": "2025-01-20T17:03:22.387Z"
   },
   {
    "duration": 24,
    "start_time": "2025-01-20T17:03:22.415Z"
   },
   {
    "duration": 34,
    "start_time": "2025-01-20T17:03:22.441Z"
   },
   {
    "duration": 14,
    "start_time": "2025-01-20T17:03:22.477Z"
   },
   {
    "duration": 51,
    "start_time": "2025-01-20T17:03:22.492Z"
   },
   {
    "duration": 41,
    "start_time": "2025-01-20T17:03:22.544Z"
   },
   {
    "duration": 32,
    "start_time": "2025-01-20T17:03:22.586Z"
   },
   {
    "duration": 22,
    "start_time": "2025-01-20T17:03:22.619Z"
   },
   {
    "duration": 27,
    "start_time": "2025-01-20T17:03:22.642Z"
   },
   {
    "duration": 114,
    "start_time": "2025-01-20T17:03:22.670Z"
   },
   {
    "duration": 148,
    "start_time": "2025-01-20T17:03:22.786Z"
   },
   {
    "duration": 343,
    "start_time": "2025-01-20T17:03:22.936Z"
   },
   {
    "duration": 21,
    "start_time": "2025-01-20T17:03:23.281Z"
   },
   {
    "duration": 36,
    "start_time": "2025-01-20T17:03:23.304Z"
   },
   {
    "duration": 65,
    "start_time": "2025-01-20T17:03:23.342Z"
   },
   {
    "duration": 16,
    "start_time": "2025-01-20T17:03:23.413Z"
   },
   {
    "duration": 33,
    "start_time": "2025-01-20T17:03:23.431Z"
   },
   {
    "duration": 60,
    "start_time": "2025-01-20T17:03:23.466Z"
   },
   {
    "duration": 40,
    "start_time": "2025-01-20T17:03:23.528Z"
   },
   {
    "duration": 65,
    "start_time": "2025-01-20T17:03:23.570Z"
   },
   {
    "duration": 53,
    "start_time": "2025-01-20T17:03:23.636Z"
   },
   {
    "duration": 35,
    "start_time": "2025-01-20T17:03:23.690Z"
   },
   {
    "duration": 42,
    "start_time": "2025-01-20T17:03:23.726Z"
   },
   {
    "duration": 50,
    "start_time": "2025-01-20T17:03:23.769Z"
   },
   {
    "duration": 55,
    "start_time": "2025-01-20T17:03:23.820Z"
   },
   {
    "duration": 16,
    "start_time": "2025-01-20T17:03:23.877Z"
   },
   {
    "duration": 186,
    "start_time": "2025-01-20T17:03:23.896Z"
   },
   {
    "duration": 4,
    "start_time": "2025-01-20T17:03:24.084Z"
   },
   {
    "duration": 28,
    "start_time": "2025-01-20T17:03:24.089Z"
   },
   {
    "duration": 42,
    "start_time": "2025-01-20T17:03:24.119Z"
   },
   {
    "duration": 45,
    "start_time": "2025-01-20T17:03:24.162Z"
   },
   {
    "duration": 74,
    "start_time": "2025-01-20T17:03:24.209Z"
   },
   {
    "duration": 89,
    "start_time": "2025-01-20T17:03:24.285Z"
   },
   {
    "duration": 91,
    "start_time": "2025-01-20T17:03:24.375Z"
   },
   {
    "duration": 6,
    "start_time": "2025-01-20T17:03:24.468Z"
   },
   {
    "duration": 43,
    "start_time": "2025-01-20T17:03:24.475Z"
   },
   {
    "duration": 52,
    "start_time": "2025-01-20T17:03:24.519Z"
   },
   {
    "duration": 50,
    "start_time": "2025-01-20T17:03:24.573Z"
   },
   {
    "duration": 47,
    "start_time": "2025-01-20T17:03:24.625Z"
   },
   {
    "duration": 37,
    "start_time": "2025-01-20T17:03:24.674Z"
   },
   {
    "duration": 66,
    "start_time": "2025-01-20T17:03:24.713Z"
   },
   {
    "duration": 36,
    "start_time": "2025-01-20T17:03:24.780Z"
   },
   {
    "duration": 58,
    "start_time": "2025-01-20T17:03:24.818Z"
   },
   {
    "duration": 29,
    "start_time": "2025-01-20T17:03:24.878Z"
   },
   {
    "duration": 30,
    "start_time": "2025-01-20T17:03:24.908Z"
   },
   {
    "duration": 33,
    "start_time": "2025-01-20T17:03:24.940Z"
   },
   {
    "duration": 31,
    "start_time": "2025-01-20T17:03:24.975Z"
   },
   {
    "duration": 12,
    "start_time": "2025-01-20T17:03:25.007Z"
   },
   {
    "duration": 10,
    "start_time": "2025-01-20T17:03:25.021Z"
   },
   {
    "duration": 44,
    "start_time": "2025-01-20T17:03:25.033Z"
   },
   {
    "duration": 28,
    "start_time": "2025-01-20T17:03:25.078Z"
   },
   {
    "duration": 59,
    "start_time": "2025-01-20T17:03:25.107Z"
   },
   {
    "duration": 7,
    "start_time": "2025-01-20T17:03:25.168Z"
   },
   {
    "duration": 60,
    "start_time": "2025-01-20T17:03:25.176Z"
   },
   {
    "duration": 33,
    "start_time": "2025-01-20T17:03:25.237Z"
   },
   {
    "duration": 133,
    "start_time": "2025-01-20T17:03:25.272Z"
   },
   {
    "duration": 0,
    "start_time": "2025-01-20T17:03:25.407Z"
   },
   {
    "duration": 0,
    "start_time": "2025-01-20T17:03:25.408Z"
   },
   {
    "duration": 0,
    "start_time": "2025-01-20T17:03:25.409Z"
   },
   {
    "duration": 0,
    "start_time": "2025-01-20T17:03:25.410Z"
   },
   {
    "duration": 0,
    "start_time": "2025-01-20T17:03:25.411Z"
   },
   {
    "duration": 0,
    "start_time": "2025-01-20T17:03:25.411Z"
   },
   {
    "duration": 0,
    "start_time": "2025-01-20T17:03:25.412Z"
   },
   {
    "duration": 0,
    "start_time": "2025-01-20T17:03:25.413Z"
   },
   {
    "duration": 0,
    "start_time": "2025-01-20T17:03:25.414Z"
   },
   {
    "duration": 0,
    "start_time": "2025-01-20T17:03:25.415Z"
   },
   {
    "duration": 0,
    "start_time": "2025-01-20T17:03:25.416Z"
   },
   {
    "duration": 0,
    "start_time": "2025-01-20T17:03:25.417Z"
   },
   {
    "duration": 0,
    "start_time": "2025-01-20T17:03:25.418Z"
   },
   {
    "duration": 0,
    "start_time": "2025-01-20T17:03:25.419Z"
   },
   {
    "duration": 0,
    "start_time": "2025-01-20T17:03:25.419Z"
   },
   {
    "duration": 0,
    "start_time": "2025-01-20T17:03:25.420Z"
   },
   {
    "duration": 0,
    "start_time": "2025-01-20T17:03:25.421Z"
   },
   {
    "duration": 0,
    "start_time": "2025-01-20T17:03:25.422Z"
   },
   {
    "duration": 0,
    "start_time": "2025-01-20T17:03:25.423Z"
   },
   {
    "duration": 0,
    "start_time": "2025-01-20T17:03:25.424Z"
   },
   {
    "duration": 0,
    "start_time": "2025-01-20T17:03:25.424Z"
   },
   {
    "duration": 0,
    "start_time": "2025-01-20T17:03:25.425Z"
   },
   {
    "duration": 0,
    "start_time": "2025-01-20T17:03:25.426Z"
   },
   {
    "duration": 0,
    "start_time": "2025-01-20T17:03:25.427Z"
   },
   {
    "duration": 0,
    "start_time": "2025-01-20T17:03:25.428Z"
   },
   {
    "duration": 0,
    "start_time": "2025-01-20T17:03:25.456Z"
   },
   {
    "duration": 0,
    "start_time": "2025-01-20T17:03:25.457Z"
   },
   {
    "duration": 0,
    "start_time": "2025-01-20T17:03:25.457Z"
   },
   {
    "duration": 0,
    "start_time": "2025-01-20T17:03:25.458Z"
   },
   {
    "duration": 0,
    "start_time": "2025-01-20T17:03:25.458Z"
   },
   {
    "duration": 0,
    "start_time": "2025-01-20T17:03:25.459Z"
   },
   {
    "duration": 0,
    "start_time": "2025-01-20T17:03:25.459Z"
   },
   {
    "duration": 0,
    "start_time": "2025-01-20T17:03:25.464Z"
   },
   {
    "duration": 0,
    "start_time": "2025-01-20T17:03:25.465Z"
   },
   {
    "duration": 0,
    "start_time": "2025-01-20T17:03:25.466Z"
   },
   {
    "duration": 0,
    "start_time": "2025-01-20T17:03:25.467Z"
   },
   {
    "duration": 12,
    "start_time": "2025-01-20T17:03:59.965Z"
   },
   {
    "duration": 14,
    "start_time": "2025-01-20T17:04:55.335Z"
   },
   {
    "duration": 20,
    "start_time": "2025-01-20T17:06:06.694Z"
   },
   {
    "duration": 17,
    "start_time": "2025-01-20T17:07:48.977Z"
   },
   {
    "duration": 18,
    "start_time": "2025-01-20T17:07:59.420Z"
   },
   {
    "duration": 18,
    "start_time": "2025-01-20T17:08:14.056Z"
   },
   {
    "duration": 16,
    "start_time": "2025-01-20T17:08:26.442Z"
   },
   {
    "duration": 15,
    "start_time": "2025-01-20T17:08:34.205Z"
   },
   {
    "duration": 8,
    "start_time": "2025-01-20T17:10:36.433Z"
   },
   {
    "duration": 9,
    "start_time": "2025-01-20T17:10:47.275Z"
   },
   {
    "duration": 3958,
    "start_time": "2025-01-20T17:11:32.031Z"
   },
   {
    "duration": 35,
    "start_time": "2025-01-20T17:11:35.991Z"
   },
   {
    "duration": 96,
    "start_time": "2025-01-20T17:11:36.028Z"
   },
   {
    "duration": 1288,
    "start_time": "2025-01-20T17:11:36.126Z"
   },
   {
    "duration": 150,
    "start_time": "2025-01-20T17:11:37.416Z"
   },
   {
    "duration": 232,
    "start_time": "2025-01-20T17:11:37.568Z"
   },
   {
    "duration": 121,
    "start_time": "2025-01-20T17:11:37.801Z"
   },
   {
    "duration": 111,
    "start_time": "2025-01-20T17:11:37.924Z"
   },
   {
    "duration": 289,
    "start_time": "2025-01-20T17:11:38.036Z"
   },
   {
    "duration": 5,
    "start_time": "2025-01-20T17:11:38.328Z"
   },
   {
    "duration": 5,
    "start_time": "2025-01-20T17:11:38.335Z"
   },
   {
    "duration": 4,
    "start_time": "2025-01-20T17:11:38.353Z"
   },
   {
    "duration": 32,
    "start_time": "2025-01-20T17:11:38.358Z"
   },
   {
    "duration": 44,
    "start_time": "2025-01-20T17:11:38.392Z"
   },
   {
    "duration": 5,
    "start_time": "2025-01-20T17:11:38.437Z"
   },
   {
    "duration": 5,
    "start_time": "2025-01-20T17:11:38.444Z"
   },
   {
    "duration": 5,
    "start_time": "2025-01-20T17:11:38.451Z"
   },
   {
    "duration": 4,
    "start_time": "2025-01-20T17:11:38.458Z"
   },
   {
    "duration": 15,
    "start_time": "2025-01-20T17:11:38.464Z"
   },
   {
    "duration": 17,
    "start_time": "2025-01-20T17:11:38.481Z"
   },
   {
    "duration": 6,
    "start_time": "2025-01-20T17:11:38.500Z"
   },
   {
    "duration": 109,
    "start_time": "2025-01-20T17:11:38.507Z"
   },
   {
    "duration": 152,
    "start_time": "2025-01-20T17:11:38.617Z"
   },
   {
    "duration": 316,
    "start_time": "2025-01-20T17:11:38.770Z"
   },
   {
    "duration": 19,
    "start_time": "2025-01-20T17:11:39.088Z"
   },
   {
    "duration": 14,
    "start_time": "2025-01-20T17:11:39.109Z"
   },
   {
    "duration": 54,
    "start_time": "2025-01-20T17:11:39.125Z"
   },
   {
    "duration": 16,
    "start_time": "2025-01-20T17:11:39.183Z"
   },
   {
    "duration": 8,
    "start_time": "2025-01-20T17:11:39.201Z"
   },
   {
    "duration": 50,
    "start_time": "2025-01-20T17:11:39.211Z"
   },
   {
    "duration": 11,
    "start_time": "2025-01-20T17:11:39.263Z"
   },
   {
    "duration": 13,
    "start_time": "2025-01-20T17:11:39.276Z"
   },
   {
    "duration": 12,
    "start_time": "2025-01-20T17:11:39.291Z"
   },
   {
    "duration": 9,
    "start_time": "2025-01-20T17:11:39.304Z"
   },
   {
    "duration": 40,
    "start_time": "2025-01-20T17:11:39.315Z"
   },
   {
    "duration": 13,
    "start_time": "2025-01-20T17:11:39.357Z"
   },
   {
    "duration": 31,
    "start_time": "2025-01-20T17:11:39.372Z"
   },
   {
    "duration": 12,
    "start_time": "2025-01-20T17:11:39.405Z"
   },
   {
    "duration": 151,
    "start_time": "2025-01-20T17:11:39.418Z"
   },
   {
    "duration": 4,
    "start_time": "2025-01-20T17:11:39.570Z"
   },
   {
    "duration": 7,
    "start_time": "2025-01-20T17:11:39.575Z"
   },
   {
    "duration": 10,
    "start_time": "2025-01-20T17:11:39.584Z"
   },
   {
    "duration": 5,
    "start_time": "2025-01-20T17:11:39.595Z"
   },
   {
    "duration": 76,
    "start_time": "2025-01-20T17:11:39.601Z"
   },
   {
    "duration": 88,
    "start_time": "2025-01-20T17:11:39.678Z"
   },
   {
    "duration": 86,
    "start_time": "2025-01-20T17:11:39.767Z"
   },
   {
    "duration": 7,
    "start_time": "2025-01-20T17:11:39.855Z"
   },
   {
    "duration": 45,
    "start_time": "2025-01-20T17:11:39.864Z"
   },
   {
    "duration": 17,
    "start_time": "2025-01-20T17:11:39.911Z"
   },
   {
    "duration": 24,
    "start_time": "2025-01-20T17:11:39.929Z"
   },
   {
    "duration": 6,
    "start_time": "2025-01-20T17:11:39.955Z"
   },
   {
    "duration": 16,
    "start_time": "2025-01-20T17:11:39.962Z"
   },
   {
    "duration": 28,
    "start_time": "2025-01-20T17:11:39.979Z"
   },
   {
    "duration": 15,
    "start_time": "2025-01-20T17:11:40.009Z"
   },
   {
    "duration": 18,
    "start_time": "2025-01-20T17:11:40.025Z"
   },
   {
    "duration": 10,
    "start_time": "2025-01-20T17:11:40.044Z"
   },
   {
    "duration": 12,
    "start_time": "2025-01-20T17:11:40.056Z"
   },
   {
    "duration": 36,
    "start_time": "2025-01-20T17:11:40.070Z"
   },
   {
    "duration": 33,
    "start_time": "2025-01-20T17:11:40.109Z"
   },
   {
    "duration": 18,
    "start_time": "2025-01-20T17:11:40.144Z"
   },
   {
    "duration": 9,
    "start_time": "2025-01-20T17:11:40.163Z"
   },
   {
    "duration": 33,
    "start_time": "2025-01-20T17:11:40.174Z"
   },
   {
    "duration": 51,
    "start_time": "2025-01-20T17:11:40.208Z"
   },
   {
    "duration": 40,
    "start_time": "2025-01-20T17:11:40.260Z"
   },
   {
    "duration": 20,
    "start_time": "2025-01-20T17:11:40.301Z"
   },
   {
    "duration": 71,
    "start_time": "2025-01-20T17:11:40.322Z"
   },
   {
    "duration": 30,
    "start_time": "2025-01-20T17:11:40.395Z"
   },
   {
    "duration": 128,
    "start_time": "2025-01-20T17:11:40.427Z"
   },
   {
    "duration": 0,
    "start_time": "2025-01-20T17:11:40.557Z"
   },
   {
    "duration": 0,
    "start_time": "2025-01-20T17:11:40.559Z"
   },
   {
    "duration": 0,
    "start_time": "2025-01-20T17:11:40.560Z"
   },
   {
    "duration": 0,
    "start_time": "2025-01-20T17:11:40.561Z"
   },
   {
    "duration": 0,
    "start_time": "2025-01-20T17:11:40.563Z"
   },
   {
    "duration": 0,
    "start_time": "2025-01-20T17:11:40.564Z"
   },
   {
    "duration": 0,
    "start_time": "2025-01-20T17:11:40.565Z"
   },
   {
    "duration": 0,
    "start_time": "2025-01-20T17:11:40.566Z"
   },
   {
    "duration": 0,
    "start_time": "2025-01-20T17:11:40.568Z"
   },
   {
    "duration": 0,
    "start_time": "2025-01-20T17:11:40.569Z"
   },
   {
    "duration": 0,
    "start_time": "2025-01-20T17:11:40.570Z"
   },
   {
    "duration": 0,
    "start_time": "2025-01-20T17:11:40.571Z"
   },
   {
    "duration": 0,
    "start_time": "2025-01-20T17:11:40.572Z"
   },
   {
    "duration": 0,
    "start_time": "2025-01-20T17:11:40.573Z"
   },
   {
    "duration": 0,
    "start_time": "2025-01-20T17:11:40.574Z"
   },
   {
    "duration": 0,
    "start_time": "2025-01-20T17:11:40.576Z"
   },
   {
    "duration": 0,
    "start_time": "2025-01-20T17:11:40.577Z"
   },
   {
    "duration": 0,
    "start_time": "2025-01-20T17:11:40.578Z"
   },
   {
    "duration": 0,
    "start_time": "2025-01-20T17:11:40.579Z"
   },
   {
    "duration": 0,
    "start_time": "2025-01-20T17:11:40.580Z"
   },
   {
    "duration": 0,
    "start_time": "2025-01-20T17:11:40.581Z"
   },
   {
    "duration": 0,
    "start_time": "2025-01-20T17:11:40.582Z"
   },
   {
    "duration": 0,
    "start_time": "2025-01-20T17:11:40.582Z"
   },
   {
    "duration": 0,
    "start_time": "2025-01-20T17:11:40.583Z"
   },
   {
    "duration": 0,
    "start_time": "2025-01-20T17:11:40.584Z"
   },
   {
    "duration": 0,
    "start_time": "2025-01-20T17:11:40.585Z"
   },
   {
    "duration": 0,
    "start_time": "2025-01-20T17:11:40.586Z"
   },
   {
    "duration": 0,
    "start_time": "2025-01-20T17:11:40.586Z"
   },
   {
    "duration": 0,
    "start_time": "2025-01-20T17:11:40.587Z"
   },
   {
    "duration": 0,
    "start_time": "2025-01-20T17:11:40.588Z"
   },
   {
    "duration": 0,
    "start_time": "2025-01-20T17:11:40.589Z"
   },
   {
    "duration": 0,
    "start_time": "2025-01-20T17:11:40.590Z"
   },
   {
    "duration": 0,
    "start_time": "2025-01-20T17:11:40.591Z"
   },
   {
    "duration": 0,
    "start_time": "2025-01-20T17:11:40.653Z"
   },
   {
    "duration": 0,
    "start_time": "2025-01-20T17:11:40.654Z"
   },
   {
    "duration": 0,
    "start_time": "2025-01-20T17:11:40.655Z"
   },
   {
    "duration": 0,
    "start_time": "2025-01-20T17:11:40.656Z"
   },
   {
    "duration": 0,
    "start_time": "2025-01-20T17:11:40.657Z"
   },
   {
    "duration": 16,
    "start_time": "2025-01-20T17:14:27.137Z"
   },
   {
    "duration": 19,
    "start_time": "2025-01-20T17:14:34.434Z"
   },
   {
    "duration": 18,
    "start_time": "2025-01-20T17:14:45.297Z"
   },
   {
    "duration": 13,
    "start_time": "2025-01-20T17:19:20.171Z"
   },
   {
    "duration": 9,
    "start_time": "2025-01-20T17:23:46.426Z"
   },
   {
    "duration": 8,
    "start_time": "2025-01-20T17:23:57.826Z"
   },
   {
    "duration": 3,
    "start_time": "2025-01-20T17:25:17.106Z"
   },
   {
    "duration": 8,
    "start_time": "2025-01-20T17:26:38.602Z"
   },
   {
    "duration": 23,
    "start_time": "2025-01-20T17:28:20.153Z"
   },
   {
    "duration": 21,
    "start_time": "2025-01-20T17:28:34.592Z"
   },
   {
    "duration": 14,
    "start_time": "2025-01-20T17:30:21.219Z"
   },
   {
    "duration": 15,
    "start_time": "2025-01-20T17:32:13.778Z"
   },
   {
    "duration": 1332,
    "start_time": "2025-01-20T17:32:41.681Z"
   },
   {
    "duration": 4,
    "start_time": "2025-01-20T17:32:49.905Z"
   },
   {
    "duration": 13,
    "start_time": "2025-01-20T17:33:00.395Z"
   },
   {
    "duration": 361,
    "start_time": "2025-01-20T17:33:12.083Z"
   },
   {
    "duration": 13,
    "start_time": "2025-01-20T17:33:20.992Z"
   },
   {
    "duration": 3801,
    "start_time": "2025-01-20T17:34:08.322Z"
   },
   {
    "duration": 33,
    "start_time": "2025-01-20T17:34:12.125Z"
   },
   {
    "duration": 100,
    "start_time": "2025-01-20T17:34:12.159Z"
   },
   {
    "duration": 1162,
    "start_time": "2025-01-20T17:34:12.261Z"
   },
   {
    "duration": 252,
    "start_time": "2025-01-20T17:34:13.425Z"
   },
   {
    "duration": 214,
    "start_time": "2025-01-20T17:34:13.679Z"
   },
   {
    "duration": 91,
    "start_time": "2025-01-20T17:34:13.895Z"
   },
   {
    "duration": 95,
    "start_time": "2025-01-20T17:34:13.987Z"
   },
   {
    "duration": 345,
    "start_time": "2025-01-20T17:34:14.083Z"
   },
   {
    "duration": 4,
    "start_time": "2025-01-20T17:34:14.431Z"
   },
   {
    "duration": 38,
    "start_time": "2025-01-20T17:34:14.436Z"
   },
   {
    "duration": 29,
    "start_time": "2025-01-20T17:34:14.475Z"
   },
   {
    "duration": 12,
    "start_time": "2025-01-20T17:34:14.506Z"
   },
   {
    "duration": 4,
    "start_time": "2025-01-20T17:34:14.520Z"
   },
   {
    "duration": 4,
    "start_time": "2025-01-20T17:34:14.525Z"
   },
   {
    "duration": 8,
    "start_time": "2025-01-20T17:34:14.530Z"
   },
   {
    "duration": 15,
    "start_time": "2025-01-20T17:34:14.539Z"
   },
   {
    "duration": 12,
    "start_time": "2025-01-20T17:34:14.555Z"
   },
   {
    "duration": 31,
    "start_time": "2025-01-20T17:34:14.568Z"
   },
   {
    "duration": 21,
    "start_time": "2025-01-20T17:34:14.600Z"
   },
   {
    "duration": 16,
    "start_time": "2025-01-20T17:34:14.623Z"
   },
   {
    "duration": 87,
    "start_time": "2025-01-20T17:34:14.640Z"
   },
   {
    "duration": 134,
    "start_time": "2025-01-20T17:34:14.729Z"
   },
   {
    "duration": 318,
    "start_time": "2025-01-20T17:34:14.865Z"
   },
   {
    "duration": 21,
    "start_time": "2025-01-20T17:34:15.184Z"
   },
   {
    "duration": 51,
    "start_time": "2025-01-20T17:34:15.207Z"
   },
   {
    "duration": 59,
    "start_time": "2025-01-20T17:34:15.260Z"
   },
   {
    "duration": 39,
    "start_time": "2025-01-20T17:34:15.324Z"
   },
   {
    "duration": 111,
    "start_time": "2025-01-20T17:34:15.365Z"
   },
   {
    "duration": 53,
    "start_time": "2025-01-20T17:34:15.478Z"
   },
   {
    "duration": 13,
    "start_time": "2025-01-20T17:34:15.533Z"
   },
   {
    "duration": 17,
    "start_time": "2025-01-20T17:34:15.547Z"
   },
   {
    "duration": 56,
    "start_time": "2025-01-20T17:34:15.565Z"
   },
   {
    "duration": 11,
    "start_time": "2025-01-20T17:34:15.622Z"
   },
   {
    "duration": 23,
    "start_time": "2025-01-20T17:34:15.634Z"
   },
   {
    "duration": 24,
    "start_time": "2025-01-20T17:34:15.658Z"
   },
   {
    "duration": 30,
    "start_time": "2025-01-20T17:34:15.683Z"
   },
   {
    "duration": 10,
    "start_time": "2025-01-20T17:34:15.715Z"
   },
   {
    "duration": 122,
    "start_time": "2025-01-20T17:34:15.726Z"
   },
   {
    "duration": 4,
    "start_time": "2025-01-20T17:34:15.852Z"
   },
   {
    "duration": 81,
    "start_time": "2025-01-20T17:34:15.857Z"
   },
   {
    "duration": 24,
    "start_time": "2025-01-20T17:34:15.940Z"
   },
   {
    "duration": 46,
    "start_time": "2025-01-20T17:34:15.966Z"
   },
   {
    "duration": 52,
    "start_time": "2025-01-20T17:34:16.014Z"
   },
   {
    "duration": 78,
    "start_time": "2025-01-20T17:34:16.068Z"
   },
   {
    "duration": 83,
    "start_time": "2025-01-20T17:34:16.147Z"
   },
   {
    "duration": 6,
    "start_time": "2025-01-20T17:34:16.232Z"
   },
   {
    "duration": 24,
    "start_time": "2025-01-20T17:34:16.253Z"
   },
   {
    "duration": 16,
    "start_time": "2025-01-20T17:34:16.278Z"
   },
   {
    "duration": 33,
    "start_time": "2025-01-20T17:34:16.296Z"
   },
   {
    "duration": 13,
    "start_time": "2025-01-20T17:34:16.330Z"
   },
   {
    "duration": 15,
    "start_time": "2025-01-20T17:34:16.344Z"
   },
   {
    "duration": 14,
    "start_time": "2025-01-20T17:34:16.360Z"
   },
   {
    "duration": 9,
    "start_time": "2025-01-20T17:34:16.375Z"
   },
   {
    "duration": 14,
    "start_time": "2025-01-20T17:34:16.385Z"
   },
   {
    "duration": 8,
    "start_time": "2025-01-20T17:34:16.400Z"
   },
   {
    "duration": 18,
    "start_time": "2025-01-20T17:34:16.409Z"
   },
   {
    "duration": 24,
    "start_time": "2025-01-20T17:34:16.429Z"
   },
   {
    "duration": 7,
    "start_time": "2025-01-20T17:34:16.454Z"
   },
   {
    "duration": 13,
    "start_time": "2025-01-20T17:34:16.462Z"
   },
   {
    "duration": 9,
    "start_time": "2025-01-20T17:34:16.476Z"
   },
   {
    "duration": 31,
    "start_time": "2025-01-20T17:34:16.486Z"
   },
   {
    "duration": 50,
    "start_time": "2025-01-20T17:34:16.518Z"
   },
   {
    "duration": 32,
    "start_time": "2025-01-20T17:34:16.570Z"
   },
   {
    "duration": 6,
    "start_time": "2025-01-20T17:34:16.604Z"
   },
   {
    "duration": 70,
    "start_time": "2025-01-20T17:34:16.612Z"
   },
   {
    "duration": 32,
    "start_time": "2025-01-20T17:34:16.684Z"
   },
   {
    "duration": 13,
    "start_time": "2025-01-20T17:34:16.718Z"
   },
   {
    "duration": 132,
    "start_time": "2025-01-20T17:34:16.732Z"
   },
   {
    "duration": 0,
    "start_time": "2025-01-20T17:34:16.866Z"
   },
   {
    "duration": 0,
    "start_time": "2025-01-20T17:34:16.867Z"
   },
   {
    "duration": 0,
    "start_time": "2025-01-20T17:34:16.868Z"
   },
   {
    "duration": 0,
    "start_time": "2025-01-20T17:34:16.869Z"
   },
   {
    "duration": 0,
    "start_time": "2025-01-20T17:34:16.870Z"
   },
   {
    "duration": 0,
    "start_time": "2025-01-20T17:34:16.871Z"
   },
   {
    "duration": 0,
    "start_time": "2025-01-20T17:34:16.872Z"
   },
   {
    "duration": 0,
    "start_time": "2025-01-20T17:34:16.872Z"
   },
   {
    "duration": 0,
    "start_time": "2025-01-20T17:34:16.873Z"
   },
   {
    "duration": 0,
    "start_time": "2025-01-20T17:34:16.874Z"
   },
   {
    "duration": 0,
    "start_time": "2025-01-20T17:34:16.875Z"
   },
   {
    "duration": 0,
    "start_time": "2025-01-20T17:34:16.876Z"
   },
   {
    "duration": 0,
    "start_time": "2025-01-20T17:34:16.877Z"
   },
   {
    "duration": 0,
    "start_time": "2025-01-20T17:34:16.877Z"
   },
   {
    "duration": 0,
    "start_time": "2025-01-20T17:34:16.878Z"
   },
   {
    "duration": 0,
    "start_time": "2025-01-20T17:34:16.879Z"
   },
   {
    "duration": 0,
    "start_time": "2025-01-20T17:34:16.880Z"
   },
   {
    "duration": 0,
    "start_time": "2025-01-20T17:34:16.881Z"
   },
   {
    "duration": 0,
    "start_time": "2025-01-20T17:34:16.882Z"
   },
   {
    "duration": 0,
    "start_time": "2025-01-20T17:34:16.883Z"
   },
   {
    "duration": 0,
    "start_time": "2025-01-20T17:34:16.884Z"
   },
   {
    "duration": 0,
    "start_time": "2025-01-20T17:34:16.884Z"
   },
   {
    "duration": 0,
    "start_time": "2025-01-20T17:34:16.885Z"
   },
   {
    "duration": 0,
    "start_time": "2025-01-20T17:34:16.886Z"
   },
   {
    "duration": 0,
    "start_time": "2025-01-20T17:34:16.887Z"
   },
   {
    "duration": 0,
    "start_time": "2025-01-20T17:34:16.888Z"
   },
   {
    "duration": 0,
    "start_time": "2025-01-20T17:34:16.888Z"
   },
   {
    "duration": 0,
    "start_time": "2025-01-20T17:34:16.889Z"
   },
   {
    "duration": 0,
    "start_time": "2025-01-20T17:34:16.890Z"
   },
   {
    "duration": 0,
    "start_time": "2025-01-20T17:34:16.891Z"
   },
   {
    "duration": 0,
    "start_time": "2025-01-20T17:34:16.892Z"
   },
   {
    "duration": 0,
    "start_time": "2025-01-20T17:34:16.893Z"
   },
   {
    "duration": 0,
    "start_time": "2025-01-20T17:34:16.893Z"
   },
   {
    "duration": 0,
    "start_time": "2025-01-20T17:34:16.894Z"
   },
   {
    "duration": 0,
    "start_time": "2025-01-20T17:34:16.895Z"
   },
   {
    "duration": 0,
    "start_time": "2025-01-20T17:34:16.896Z"
   },
   {
    "duration": 23,
    "start_time": "2025-01-20T17:34:51.037Z"
   },
   {
    "duration": 15,
    "start_time": "2025-01-20T17:36:34.782Z"
   },
   {
    "duration": 105,
    "start_time": "2025-01-20T17:36:51.800Z"
   },
   {
    "duration": 94,
    "start_time": "2025-01-20T17:37:18.214Z"
   },
   {
    "duration": 24,
    "start_time": "2025-01-20T17:37:22.991Z"
   },
   {
    "duration": 90,
    "start_time": "2025-01-20T17:37:23.761Z"
   },
   {
    "duration": 14,
    "start_time": "2025-01-20T17:37:41.925Z"
   },
   {
    "duration": 3865,
    "start_time": "2025-01-20T17:37:46.932Z"
   },
   {
    "duration": 29,
    "start_time": "2025-01-20T17:37:50.799Z"
   },
   {
    "duration": 104,
    "start_time": "2025-01-20T17:37:50.830Z"
   },
   {
    "duration": 1133,
    "start_time": "2025-01-20T17:37:50.936Z"
   },
   {
    "duration": 188,
    "start_time": "2025-01-20T17:37:52.071Z"
   },
   {
    "duration": 200,
    "start_time": "2025-01-20T17:37:52.261Z"
   },
   {
    "duration": 68,
    "start_time": "2025-01-20T17:37:52.463Z"
   },
   {
    "duration": 124,
    "start_time": "2025-01-20T17:37:52.532Z"
   },
   {
    "duration": 365,
    "start_time": "2025-01-20T17:37:52.657Z"
   },
   {
    "duration": 4,
    "start_time": "2025-01-20T17:37:53.025Z"
   },
   {
    "duration": 43,
    "start_time": "2025-01-20T17:37:53.030Z"
   },
   {
    "duration": 36,
    "start_time": "2025-01-20T17:37:53.075Z"
   },
   {
    "duration": 55,
    "start_time": "2025-01-20T17:37:53.113Z"
   },
   {
    "duration": 33,
    "start_time": "2025-01-20T17:37:53.170Z"
   },
   {
    "duration": 24,
    "start_time": "2025-01-20T17:37:53.205Z"
   },
   {
    "duration": 36,
    "start_time": "2025-01-20T17:37:53.230Z"
   },
   {
    "duration": 33,
    "start_time": "2025-01-20T17:37:53.267Z"
   },
   {
    "duration": 27,
    "start_time": "2025-01-20T17:37:53.301Z"
   },
   {
    "duration": 45,
    "start_time": "2025-01-20T17:37:53.330Z"
   },
   {
    "duration": 24,
    "start_time": "2025-01-20T17:37:53.376Z"
   },
   {
    "duration": 22,
    "start_time": "2025-01-20T17:37:53.401Z"
   },
   {
    "duration": 119,
    "start_time": "2025-01-20T17:37:53.424Z"
   },
   {
    "duration": 138,
    "start_time": "2025-01-20T17:37:53.545Z"
   },
   {
    "duration": 373,
    "start_time": "2025-01-20T17:37:53.685Z"
   },
   {
    "duration": 20,
    "start_time": "2025-01-20T17:37:54.059Z"
   },
   {
    "duration": 17,
    "start_time": "2025-01-20T17:37:54.080Z"
   },
   {
    "duration": 57,
    "start_time": "2025-01-20T17:37:54.099Z"
   },
   {
    "duration": 16,
    "start_time": "2025-01-20T17:37:54.161Z"
   },
   {
    "duration": 23,
    "start_time": "2025-01-20T17:37:54.178Z"
   },
   {
    "duration": 49,
    "start_time": "2025-01-20T17:37:54.202Z"
   },
   {
    "duration": 12,
    "start_time": "2025-01-20T17:37:54.252Z"
   },
   {
    "duration": 32,
    "start_time": "2025-01-20T17:37:54.265Z"
   },
   {
    "duration": 34,
    "start_time": "2025-01-20T17:37:54.299Z"
   },
   {
    "duration": 13,
    "start_time": "2025-01-20T17:37:54.335Z"
   },
   {
    "duration": 22,
    "start_time": "2025-01-20T17:37:54.350Z"
   },
   {
    "duration": 14,
    "start_time": "2025-01-20T17:37:54.373Z"
   },
   {
    "duration": 34,
    "start_time": "2025-01-20T17:37:54.389Z"
   },
   {
    "duration": 11,
    "start_time": "2025-01-20T17:37:54.425Z"
   },
   {
    "duration": 131,
    "start_time": "2025-01-20T17:37:54.438Z"
   },
   {
    "duration": 4,
    "start_time": "2025-01-20T17:37:54.570Z"
   },
   {
    "duration": 19,
    "start_time": "2025-01-20T17:37:54.575Z"
   },
   {
    "duration": 22,
    "start_time": "2025-01-20T17:37:54.595Z"
   },
   {
    "duration": 15,
    "start_time": "2025-01-20T17:37:54.619Z"
   },
   {
    "duration": 56,
    "start_time": "2025-01-20T17:37:54.635Z"
   },
   {
    "duration": 88,
    "start_time": "2025-01-20T17:37:54.692Z"
   },
   {
    "duration": 88,
    "start_time": "2025-01-20T17:37:54.782Z"
   },
   {
    "duration": 6,
    "start_time": "2025-01-20T17:37:54.872Z"
   },
   {
    "duration": 38,
    "start_time": "2025-01-20T17:37:54.879Z"
   },
   {
    "duration": 48,
    "start_time": "2025-01-20T17:37:54.918Z"
   },
   {
    "duration": 30,
    "start_time": "2025-01-20T17:37:54.967Z"
   },
   {
    "duration": 33,
    "start_time": "2025-01-20T17:37:54.999Z"
   },
   {
    "duration": 36,
    "start_time": "2025-01-20T17:37:55.034Z"
   },
   {
    "duration": 27,
    "start_time": "2025-01-20T17:37:55.072Z"
   },
   {
    "duration": 22,
    "start_time": "2025-01-20T17:37:55.100Z"
   },
   {
    "duration": 36,
    "start_time": "2025-01-20T17:37:55.124Z"
   },
   {
    "duration": 8,
    "start_time": "2025-01-20T17:37:55.161Z"
   },
   {
    "duration": 34,
    "start_time": "2025-01-20T17:37:55.170Z"
   },
   {
    "duration": 28,
    "start_time": "2025-01-20T17:37:55.206Z"
   },
   {
    "duration": 16,
    "start_time": "2025-01-20T17:37:55.236Z"
   },
   {
    "duration": 21,
    "start_time": "2025-01-20T17:37:55.254Z"
   },
   {
    "duration": 10,
    "start_time": "2025-01-20T17:37:55.277Z"
   },
   {
    "duration": 34,
    "start_time": "2025-01-20T17:37:55.289Z"
   },
   {
    "duration": 28,
    "start_time": "2025-01-20T17:37:55.325Z"
   },
   {
    "duration": 33,
    "start_time": "2025-01-20T17:37:55.355Z"
   },
   {
    "duration": 7,
    "start_time": "2025-01-20T17:37:55.389Z"
   },
   {
    "duration": 72,
    "start_time": "2025-01-20T17:37:55.397Z"
   },
   {
    "duration": 32,
    "start_time": "2025-01-20T17:37:55.470Z"
   },
   {
    "duration": 14,
    "start_time": "2025-01-20T17:37:55.503Z"
   },
   {
    "duration": 42,
    "start_time": "2025-01-20T17:37:55.518Z"
   },
   {
    "duration": 113,
    "start_time": "2025-01-20T17:37:55.562Z"
   },
   {
    "duration": 0,
    "start_time": "2025-01-20T17:37:55.677Z"
   },
   {
    "duration": 0,
    "start_time": "2025-01-20T17:37:55.678Z"
   },
   {
    "duration": 0,
    "start_time": "2025-01-20T17:37:55.679Z"
   },
   {
    "duration": 0,
    "start_time": "2025-01-20T17:37:55.680Z"
   },
   {
    "duration": 0,
    "start_time": "2025-01-20T17:37:55.681Z"
   },
   {
    "duration": 0,
    "start_time": "2025-01-20T17:37:55.682Z"
   },
   {
    "duration": 0,
    "start_time": "2025-01-20T17:37:55.683Z"
   },
   {
    "duration": 0,
    "start_time": "2025-01-20T17:37:55.684Z"
   },
   {
    "duration": 0,
    "start_time": "2025-01-20T17:37:55.684Z"
   },
   {
    "duration": 0,
    "start_time": "2025-01-20T17:37:55.685Z"
   },
   {
    "duration": 0,
    "start_time": "2025-01-20T17:37:55.686Z"
   },
   {
    "duration": 0,
    "start_time": "2025-01-20T17:37:55.687Z"
   },
   {
    "duration": 0,
    "start_time": "2025-01-20T17:37:55.687Z"
   },
   {
    "duration": 0,
    "start_time": "2025-01-20T17:37:55.688Z"
   },
   {
    "duration": 0,
    "start_time": "2025-01-20T17:37:55.689Z"
   },
   {
    "duration": 0,
    "start_time": "2025-01-20T17:37:55.690Z"
   },
   {
    "duration": 0,
    "start_time": "2025-01-20T17:37:55.691Z"
   },
   {
    "duration": 0,
    "start_time": "2025-01-20T17:37:55.691Z"
   },
   {
    "duration": 0,
    "start_time": "2025-01-20T17:37:55.692Z"
   },
   {
    "duration": 0,
    "start_time": "2025-01-20T17:37:55.693Z"
   },
   {
    "duration": 0,
    "start_time": "2025-01-20T17:37:55.694Z"
   },
   {
    "duration": 0,
    "start_time": "2025-01-20T17:37:55.695Z"
   },
   {
    "duration": 0,
    "start_time": "2025-01-20T17:37:55.696Z"
   },
   {
    "duration": 0,
    "start_time": "2025-01-20T17:37:55.697Z"
   },
   {
    "duration": 0,
    "start_time": "2025-01-20T17:37:55.698Z"
   },
   {
    "duration": 0,
    "start_time": "2025-01-20T17:37:55.699Z"
   },
   {
    "duration": 0,
    "start_time": "2025-01-20T17:37:55.700Z"
   },
   {
    "duration": 0,
    "start_time": "2025-01-20T17:37:55.702Z"
   },
   {
    "duration": 0,
    "start_time": "2025-01-20T17:37:55.702Z"
   },
   {
    "duration": 0,
    "start_time": "2025-01-20T17:37:55.703Z"
   },
   {
    "duration": 0,
    "start_time": "2025-01-20T17:37:55.752Z"
   },
   {
    "duration": 0,
    "start_time": "2025-01-20T17:37:55.753Z"
   },
   {
    "duration": 0,
    "start_time": "2025-01-20T17:37:55.755Z"
   },
   {
    "duration": 0,
    "start_time": "2025-01-20T17:37:55.756Z"
   },
   {
    "duration": 0,
    "start_time": "2025-01-20T17:37:55.757Z"
   },
   {
    "duration": 104,
    "start_time": "2025-01-20T17:39:29.971Z"
   },
   {
    "duration": 6,
    "start_time": "2025-01-20T17:39:34.956Z"
   },
   {
    "duration": 96,
    "start_time": "2025-01-20T17:40:28.457Z"
   },
   {
    "duration": 3,
    "start_time": "2025-01-20T17:40:54.434Z"
   },
   {
    "duration": 3,
    "start_time": "2025-01-20T17:41:20.804Z"
   },
   {
    "duration": 13,
    "start_time": "2025-01-20T17:41:29.067Z"
   },
   {
    "duration": 13,
    "start_time": "2025-01-20T17:41:49.213Z"
   },
   {
    "duration": 6,
    "start_time": "2025-01-20T17:43:41.179Z"
   },
   {
    "duration": 23,
    "start_time": "2025-01-20T17:43:52.497Z"
   },
   {
    "duration": 15,
    "start_time": "2025-01-20T17:45:10.314Z"
   },
   {
    "duration": 94,
    "start_time": "2025-01-20T17:46:55.091Z"
   },
   {
    "duration": 28,
    "start_time": "2025-01-20T17:47:11.402Z"
   },
   {
    "duration": 236,
    "start_time": "2025-01-20T17:58:54.275Z"
   },
   {
    "duration": 3736,
    "start_time": "2025-01-20T18:06:54.188Z"
   },
   {
    "duration": 42,
    "start_time": "2025-01-20T18:06:57.926Z"
   },
   {
    "duration": 149,
    "start_time": "2025-01-20T18:06:57.969Z"
   },
   {
    "duration": 1164,
    "start_time": "2025-01-20T18:06:58.120Z"
   },
   {
    "duration": 264,
    "start_time": "2025-01-20T18:06:59.286Z"
   },
   {
    "duration": 207,
    "start_time": "2025-01-20T18:06:59.551Z"
   },
   {
    "duration": 157,
    "start_time": "2025-01-20T18:06:59.760Z"
   },
   {
    "duration": 100,
    "start_time": "2025-01-20T18:06:59.919Z"
   },
   {
    "duration": 444,
    "start_time": "2025-01-20T18:07:00.021Z"
   },
   {
    "duration": 5,
    "start_time": "2025-01-20T18:07:00.468Z"
   },
   {
    "duration": 76,
    "start_time": "2025-01-20T18:07:00.475Z"
   },
   {
    "duration": 52,
    "start_time": "2025-01-20T18:07:00.553Z"
   },
   {
    "duration": 49,
    "start_time": "2025-01-20T18:07:00.606Z"
   },
   {
    "duration": 31,
    "start_time": "2025-01-20T18:07:00.657Z"
   },
   {
    "duration": 42,
    "start_time": "2025-01-20T18:07:00.690Z"
   },
   {
    "duration": 11,
    "start_time": "2025-01-20T18:07:00.733Z"
   },
   {
    "duration": 44,
    "start_time": "2025-01-20T18:07:00.746Z"
   },
   {
    "duration": 23,
    "start_time": "2025-01-20T18:07:00.792Z"
   },
   {
    "duration": 26,
    "start_time": "2025-01-20T18:07:00.817Z"
   },
   {
    "duration": 98,
    "start_time": "2025-01-20T18:07:00.844Z"
   },
   {
    "duration": 14,
    "start_time": "2025-01-20T18:07:00.944Z"
   },
   {
    "duration": 125,
    "start_time": "2025-01-20T18:07:00.959Z"
   },
   {
    "duration": 141,
    "start_time": "2025-01-20T18:07:01.086Z"
   },
   {
    "duration": 315,
    "start_time": "2025-01-20T18:07:01.229Z"
   },
   {
    "duration": 25,
    "start_time": "2025-01-20T18:07:01.546Z"
   },
   {
    "duration": 10,
    "start_time": "2025-01-20T18:07:01.572Z"
   },
   {
    "duration": 63,
    "start_time": "2025-01-20T18:07:01.584Z"
   },
   {
    "duration": 18,
    "start_time": "2025-01-20T18:07:01.652Z"
   },
   {
    "duration": 32,
    "start_time": "2025-01-20T18:07:01.672Z"
   },
   {
    "duration": 44,
    "start_time": "2025-01-20T18:07:01.706Z"
   },
   {
    "duration": 12,
    "start_time": "2025-01-20T18:07:01.752Z"
   },
   {
    "duration": 17,
    "start_time": "2025-01-20T18:07:01.765Z"
   },
   {
    "duration": 35,
    "start_time": "2025-01-20T18:07:01.783Z"
   },
   {
    "duration": 11,
    "start_time": "2025-01-20T18:07:01.820Z"
   },
   {
    "duration": 16,
    "start_time": "2025-01-20T18:07:01.833Z"
   },
   {
    "duration": 17,
    "start_time": "2025-01-20T18:07:01.850Z"
   },
   {
    "duration": 52,
    "start_time": "2025-01-20T18:07:01.868Z"
   },
   {
    "duration": 23,
    "start_time": "2025-01-20T18:07:01.921Z"
   },
   {
    "duration": 138,
    "start_time": "2025-01-20T18:07:01.945Z"
   },
   {
    "duration": 3,
    "start_time": "2025-01-20T18:07:02.084Z"
   },
   {
    "duration": 68,
    "start_time": "2025-01-20T18:07:02.089Z"
   },
   {
    "duration": 31,
    "start_time": "2025-01-20T18:07:02.159Z"
   },
   {
    "duration": 29,
    "start_time": "2025-01-20T18:07:02.192Z"
   },
   {
    "duration": 57,
    "start_time": "2025-01-20T18:07:02.222Z"
   },
   {
    "duration": 88,
    "start_time": "2025-01-20T18:07:02.280Z"
   },
   {
    "duration": 89,
    "start_time": "2025-01-20T18:07:02.369Z"
   },
   {
    "duration": 6,
    "start_time": "2025-01-20T18:07:02.459Z"
   },
   {
    "duration": 47,
    "start_time": "2025-01-20T18:07:02.467Z"
   },
   {
    "duration": 17,
    "start_time": "2025-01-20T18:07:02.515Z"
   },
   {
    "duration": 31,
    "start_time": "2025-01-20T18:07:02.533Z"
   },
   {
    "duration": 13,
    "start_time": "2025-01-20T18:07:02.565Z"
   },
   {
    "duration": 37,
    "start_time": "2025-01-20T18:07:02.579Z"
   },
   {
    "duration": 26,
    "start_time": "2025-01-20T18:07:02.617Z"
   },
   {
    "duration": 9,
    "start_time": "2025-01-20T18:07:02.644Z"
   },
   {
    "duration": 41,
    "start_time": "2025-01-20T18:07:02.654Z"
   },
   {
    "duration": 25,
    "start_time": "2025-01-20T18:07:02.696Z"
   },
   {
    "duration": 14,
    "start_time": "2025-01-20T18:07:02.723Z"
   },
   {
    "duration": 23,
    "start_time": "2025-01-20T18:07:02.739Z"
   },
   {
    "duration": 23,
    "start_time": "2025-01-20T18:07:02.763Z"
   },
   {
    "duration": 35,
    "start_time": "2025-01-20T18:07:02.788Z"
   },
   {
    "duration": 8,
    "start_time": "2025-01-20T18:07:02.825Z"
   },
   {
    "duration": 49,
    "start_time": "2025-01-20T18:07:02.835Z"
   },
   {
    "duration": 30,
    "start_time": "2025-01-20T18:07:02.886Z"
   },
   {
    "duration": 58,
    "start_time": "2025-01-20T18:07:02.918Z"
   },
   {
    "duration": 31,
    "start_time": "2025-01-20T18:07:02.977Z"
   },
   {
    "duration": 86,
    "start_time": "2025-01-20T18:07:03.010Z"
   },
   {
    "duration": 35,
    "start_time": "2025-01-20T18:07:03.098Z"
   },
   {
    "duration": 21,
    "start_time": "2025-01-20T18:07:03.134Z"
   },
   {
    "duration": 31,
    "start_time": "2025-01-20T18:07:03.156Z"
   },
   {
    "duration": 27,
    "start_time": "2025-01-20T18:07:03.189Z"
   },
   {
    "duration": 38,
    "start_time": "2025-01-20T18:07:03.217Z"
   },
   {
    "duration": 242,
    "start_time": "2025-01-20T18:07:03.256Z"
   },
   {
    "duration": 103,
    "start_time": "2025-01-20T18:07:03.499Z"
   },
   {
    "duration": 53,
    "start_time": "2025-01-20T18:07:03.604Z"
   },
   {
    "duration": 210,
    "start_time": "2025-01-20T18:07:03.658Z"
   },
   {
    "duration": 112,
    "start_time": "2025-01-20T18:07:03.871Z"
   },
   {
    "duration": 0,
    "start_time": "2025-01-20T18:07:03.985Z"
   },
   {
    "duration": 0,
    "start_time": "2025-01-20T18:07:03.986Z"
   },
   {
    "duration": 0,
    "start_time": "2025-01-20T18:07:03.987Z"
   },
   {
    "duration": 0,
    "start_time": "2025-01-20T18:07:03.988Z"
   },
   {
    "duration": 0,
    "start_time": "2025-01-20T18:07:03.989Z"
   },
   {
    "duration": 0,
    "start_time": "2025-01-20T18:07:03.991Z"
   },
   {
    "duration": 0,
    "start_time": "2025-01-20T18:07:03.992Z"
   },
   {
    "duration": 0,
    "start_time": "2025-01-20T18:07:03.993Z"
   },
   {
    "duration": 0,
    "start_time": "2025-01-20T18:07:03.993Z"
   },
   {
    "duration": 0,
    "start_time": "2025-01-20T18:07:03.994Z"
   },
   {
    "duration": 0,
    "start_time": "2025-01-20T18:07:03.995Z"
   },
   {
    "duration": 0,
    "start_time": "2025-01-20T18:07:03.996Z"
   },
   {
    "duration": 0,
    "start_time": "2025-01-20T18:07:03.997Z"
   },
   {
    "duration": 0,
    "start_time": "2025-01-20T18:07:03.998Z"
   },
   {
    "duration": 0,
    "start_time": "2025-01-20T18:07:03.999Z"
   },
   {
    "duration": 0,
    "start_time": "2025-01-20T18:07:04.000Z"
   },
   {
    "duration": 0,
    "start_time": "2025-01-20T18:07:04.001Z"
   },
   {
    "duration": 0,
    "start_time": "2025-01-20T18:07:04.002Z"
   },
   {
    "duration": 0,
    "start_time": "2025-01-20T18:07:04.002Z"
   },
   {
    "duration": 0,
    "start_time": "2025-01-20T18:07:04.003Z"
   },
   {
    "duration": 0,
    "start_time": "2025-01-20T18:07:04.004Z"
   },
   {
    "duration": 0,
    "start_time": "2025-01-20T18:07:04.005Z"
   },
   {
    "duration": 0,
    "start_time": "2025-01-20T18:07:04.006Z"
   },
   {
    "duration": 0,
    "start_time": "2025-01-20T18:07:04.007Z"
   },
   {
    "duration": 0,
    "start_time": "2025-01-20T18:07:04.008Z"
   },
   {
    "duration": 0,
    "start_time": "2025-01-20T18:07:04.009Z"
   },
   {
    "duration": 0,
    "start_time": "2025-01-20T18:07:04.010Z"
   },
   {
    "duration": 0,
    "start_time": "2025-01-20T18:07:04.012Z"
   },
   {
    "duration": 52,
    "start_time": "2025-01-20T18:07:26.838Z"
   },
   {
    "duration": 91,
    "start_time": "2025-01-20T18:07:28.762Z"
   },
   {
    "duration": 31,
    "start_time": "2025-01-20T18:07:29.582Z"
   },
   {
    "duration": 133,
    "start_time": "2025-01-20T18:07:30.991Z"
   },
   {
    "duration": 210,
    "start_time": "2025-01-20T18:07:39.032Z"
   },
   {
    "duration": 123,
    "start_time": "2025-01-20T18:08:10.199Z"
   },
   {
    "duration": 116,
    "start_time": "2025-01-20T18:08:52.116Z"
   },
   {
    "duration": 153,
    "start_time": "2025-01-20T18:10:44.743Z"
   },
   {
    "duration": 27,
    "start_time": "2025-01-20T18:16:10.232Z"
   },
   {
    "duration": 17,
    "start_time": "2025-01-20T18:17:04.724Z"
   },
   {
    "duration": 16,
    "start_time": "2025-01-20T18:17:36.038Z"
   },
   {
    "duration": 14,
    "start_time": "2025-01-20T18:18:09.183Z"
   },
   {
    "duration": 3763,
    "start_time": "2025-01-20T18:18:18.388Z"
   },
   {
    "duration": 32,
    "start_time": "2025-01-20T18:18:22.153Z"
   },
   {
    "duration": 76,
    "start_time": "2025-01-20T18:18:22.186Z"
   },
   {
    "duration": 1016,
    "start_time": "2025-01-20T18:18:22.263Z"
   },
   {
    "duration": 172,
    "start_time": "2025-01-20T18:18:23.280Z"
   },
   {
    "duration": 429,
    "start_time": "2025-01-20T18:18:23.453Z"
   },
   {
    "duration": 101,
    "start_time": "2025-01-20T18:18:23.884Z"
   },
   {
    "duration": 141,
    "start_time": "2025-01-20T18:18:23.986Z"
   },
   {
    "duration": 301,
    "start_time": "2025-01-20T18:18:24.129Z"
   },
   {
    "duration": 4,
    "start_time": "2025-01-20T18:18:24.433Z"
   },
   {
    "duration": 5,
    "start_time": "2025-01-20T18:18:24.438Z"
   },
   {
    "duration": 9,
    "start_time": "2025-01-20T18:18:24.444Z"
   },
   {
    "duration": 3,
    "start_time": "2025-01-20T18:18:24.454Z"
   },
   {
    "duration": 4,
    "start_time": "2025-01-20T18:18:24.458Z"
   },
   {
    "duration": 7,
    "start_time": "2025-01-20T18:18:24.463Z"
   },
   {
    "duration": 6,
    "start_time": "2025-01-20T18:18:24.471Z"
   },
   {
    "duration": 6,
    "start_time": "2025-01-20T18:18:24.478Z"
   },
   {
    "duration": 5,
    "start_time": "2025-01-20T18:18:24.485Z"
   },
   {
    "duration": 13,
    "start_time": "2025-01-20T18:18:24.491Z"
   },
   {
    "duration": 14,
    "start_time": "2025-01-20T18:18:24.505Z"
   },
   {
    "duration": 33,
    "start_time": "2025-01-20T18:18:24.520Z"
   },
   {
    "duration": 83,
    "start_time": "2025-01-20T18:18:24.554Z"
   },
   {
    "duration": 138,
    "start_time": "2025-01-20T18:18:24.639Z"
   },
   {
    "duration": 287,
    "start_time": "2025-01-20T18:18:24.778Z"
   },
   {
    "duration": 20,
    "start_time": "2025-01-20T18:18:25.067Z"
   },
   {
    "duration": 15,
    "start_time": "2025-01-20T18:18:25.089Z"
   },
   {
    "duration": 50,
    "start_time": "2025-01-20T18:18:25.106Z"
   },
   {
    "duration": 16,
    "start_time": "2025-01-20T18:18:25.160Z"
   },
   {
    "duration": 8,
    "start_time": "2025-01-20T18:18:25.178Z"
   },
   {
    "duration": 43,
    "start_time": "2025-01-20T18:18:25.187Z"
   },
   {
    "duration": 11,
    "start_time": "2025-01-20T18:18:25.231Z"
   },
   {
    "duration": 18,
    "start_time": "2025-01-20T18:18:25.243Z"
   },
   {
    "duration": 20,
    "start_time": "2025-01-20T18:18:25.262Z"
   },
   {
    "duration": 7,
    "start_time": "2025-01-20T18:18:25.283Z"
   },
   {
    "duration": 6,
    "start_time": "2025-01-20T18:18:25.292Z"
   },
   {
    "duration": 26,
    "start_time": "2025-01-20T18:18:25.300Z"
   },
   {
    "duration": 32,
    "start_time": "2025-01-20T18:18:25.327Z"
   },
   {
    "duration": 10,
    "start_time": "2025-01-20T18:18:25.361Z"
   },
   {
    "duration": 118,
    "start_time": "2025-01-20T18:18:25.372Z"
   },
   {
    "duration": 4,
    "start_time": "2025-01-20T18:18:25.492Z"
   },
   {
    "duration": 18,
    "start_time": "2025-01-20T18:18:25.498Z"
   },
   {
    "duration": 15,
    "start_time": "2025-01-20T18:18:25.517Z"
   },
   {
    "duration": 21,
    "start_time": "2025-01-20T18:18:25.533Z"
   },
   {
    "duration": 62,
    "start_time": "2025-01-20T18:18:25.555Z"
   },
   {
    "duration": 77,
    "start_time": "2025-01-20T18:18:25.618Z"
   },
   {
    "duration": 87,
    "start_time": "2025-01-20T18:18:25.697Z"
   },
   {
    "duration": 6,
    "start_time": "2025-01-20T18:18:25.785Z"
   },
   {
    "duration": 37,
    "start_time": "2025-01-20T18:18:25.792Z"
   },
   {
    "duration": 16,
    "start_time": "2025-01-20T18:18:25.830Z"
   },
   {
    "duration": 34,
    "start_time": "2025-01-20T18:18:25.847Z"
   },
   {
    "duration": 22,
    "start_time": "2025-01-20T18:18:25.882Z"
   },
   {
    "duration": 19,
    "start_time": "2025-01-20T18:18:25.905Z"
   },
   {
    "duration": 16,
    "start_time": "2025-01-20T18:18:25.925Z"
   },
   {
    "duration": 21,
    "start_time": "2025-01-20T18:18:25.942Z"
   },
   {
    "duration": 18,
    "start_time": "2025-01-20T18:18:25.965Z"
   },
   {
    "duration": 12,
    "start_time": "2025-01-20T18:18:25.984Z"
   },
   {
    "duration": 20,
    "start_time": "2025-01-20T18:18:25.997Z"
   },
   {
    "duration": 55,
    "start_time": "2025-01-20T18:18:26.018Z"
   },
   {
    "duration": 13,
    "start_time": "2025-01-20T18:18:26.075Z"
   },
   {
    "duration": 16,
    "start_time": "2025-01-20T18:18:26.089Z"
   },
   {
    "duration": 9,
    "start_time": "2025-01-20T18:18:26.106Z"
   },
   {
    "duration": 31,
    "start_time": "2025-01-20T18:18:26.116Z"
   },
   {
    "duration": 28,
    "start_time": "2025-01-20T18:18:26.148Z"
   },
   {
    "duration": 33,
    "start_time": "2025-01-20T18:18:26.178Z"
   },
   {
    "duration": 18,
    "start_time": "2025-01-20T18:18:26.212Z"
   },
   {
    "duration": 78,
    "start_time": "2025-01-20T18:18:26.231Z"
   },
   {
    "duration": 30,
    "start_time": "2025-01-20T18:18:26.310Z"
   },
   {
    "duration": 14,
    "start_time": "2025-01-20T18:18:26.353Z"
   },
   {
    "duration": 25,
    "start_time": "2025-01-20T18:18:26.368Z"
   },
   {
    "duration": 5,
    "start_time": "2025-01-20T18:18:26.395Z"
   },
   {
    "duration": 16,
    "start_time": "2025-01-20T18:18:26.402Z"
   },
   {
    "duration": 249,
    "start_time": "2025-01-20T18:18:26.420Z"
   },
   {
    "duration": 91,
    "start_time": "2025-01-20T18:18:26.671Z"
   },
   {
    "duration": 45,
    "start_time": "2025-01-20T18:18:26.764Z"
   },
   {
    "duration": 195,
    "start_time": "2025-01-20T18:18:26.811Z"
   },
   {
    "duration": 45,
    "start_time": "2025-01-20T18:18:27.008Z"
   },
   {
    "duration": 99,
    "start_time": "2025-01-20T18:18:27.054Z"
   },
   {
    "duration": 33,
    "start_time": "2025-01-20T18:18:27.155Z"
   },
   {
    "duration": 160,
    "start_time": "2025-01-20T18:18:27.190Z"
   },
   {
    "duration": 11,
    "start_time": "2025-01-20T18:18:27.352Z"
   },
   {
    "duration": 88,
    "start_time": "2025-01-20T18:18:27.365Z"
   },
   {
    "duration": 49,
    "start_time": "2025-01-20T18:18:27.459Z"
   },
   {
    "duration": 51,
    "start_time": "2025-01-20T18:18:27.510Z"
   },
   {
    "duration": 32,
    "start_time": "2025-01-20T18:18:27.562Z"
   },
   {
    "duration": 11,
    "start_time": "2025-01-20T18:18:27.595Z"
   },
   {
    "duration": 21,
    "start_time": "2025-01-20T18:18:27.607Z"
   },
   {
    "duration": 27,
    "start_time": "2025-01-20T18:18:27.629Z"
   },
   {
    "duration": 25,
    "start_time": "2025-01-20T18:18:27.657Z"
   },
   {
    "duration": 26,
    "start_time": "2025-01-20T18:18:27.683Z"
   },
   {
    "duration": 22,
    "start_time": "2025-01-20T18:18:27.711Z"
   },
   {
    "duration": 82,
    "start_time": "2025-01-20T18:18:27.735Z"
   },
   {
    "duration": 2121,
    "start_time": "2025-01-20T18:18:27.818Z"
   },
   {
    "duration": 0,
    "start_time": "2025-01-20T18:18:29.941Z"
   },
   {
    "duration": 0,
    "start_time": "2025-01-20T18:18:29.942Z"
   },
   {
    "duration": 0,
    "start_time": "2025-01-20T18:18:29.943Z"
   },
   {
    "duration": 0,
    "start_time": "2025-01-20T18:18:29.945Z"
   },
   {
    "duration": 0,
    "start_time": "2025-01-20T18:18:29.946Z"
   },
   {
    "duration": 0,
    "start_time": "2025-01-20T18:18:29.948Z"
   },
   {
    "duration": 0,
    "start_time": "2025-01-20T18:18:29.949Z"
   },
   {
    "duration": 0,
    "start_time": "2025-01-20T18:18:29.950Z"
   },
   {
    "duration": 0,
    "start_time": "2025-01-20T18:18:29.952Z"
   },
   {
    "duration": 0,
    "start_time": "2025-01-20T18:18:29.953Z"
   },
   {
    "duration": 14,
    "start_time": "2025-01-20T18:20:15.589Z"
   },
   {
    "duration": 15,
    "start_time": "2025-01-20T18:21:29.798Z"
   },
   {
    "duration": 5,
    "start_time": "2025-01-20T18:22:08.665Z"
   },
   {
    "duration": 20,
    "start_time": "2025-01-20T18:22:09.196Z"
   },
   {
    "duration": 13,
    "start_time": "2025-01-20T18:22:20.215Z"
   },
   {
    "duration": 2107,
    "start_time": "2025-01-20T18:25:03.435Z"
   },
   {
    "duration": 26,
    "start_time": "2025-01-20T18:25:37.528Z"
   },
   {
    "duration": 239,
    "start_time": "2025-01-20T18:26:01.514Z"
   },
   {
    "duration": 89,
    "start_time": "2025-01-20T18:26:08.548Z"
   },
   {
    "duration": 48,
    "start_time": "2025-01-20T18:26:08.992Z"
   },
   {
    "duration": 180,
    "start_time": "2025-01-20T18:26:09.617Z"
   },
   {
    "duration": 37,
    "start_time": "2025-01-20T18:26:11.582Z"
   },
   {
    "duration": 108,
    "start_time": "2025-01-20T18:26:12.347Z"
   },
   {
    "duration": 32,
    "start_time": "2025-01-20T18:26:12.658Z"
   },
   {
    "duration": 184,
    "start_time": "2025-01-20T18:26:13.894Z"
   },
   {
    "duration": 11,
    "start_time": "2025-01-20T18:26:14.493Z"
   },
   {
    "duration": 3728,
    "start_time": "2025-01-20T18:28:56.502Z"
   },
   {
    "duration": 39,
    "start_time": "2025-01-20T18:29:00.232Z"
   },
   {
    "duration": 82,
    "start_time": "2025-01-20T18:29:00.273Z"
   },
   {
    "duration": 871,
    "start_time": "2025-01-20T18:29:00.357Z"
   },
   {
    "duration": 206,
    "start_time": "2025-01-20T18:29:01.229Z"
   },
   {
    "duration": 277,
    "start_time": "2025-01-20T18:29:01.436Z"
   },
   {
    "duration": 66,
    "start_time": "2025-01-20T18:29:01.714Z"
   },
   {
    "duration": 99,
    "start_time": "2025-01-20T18:29:01.781Z"
   },
   {
    "duration": 294,
    "start_time": "2025-01-20T18:29:01.882Z"
   },
   {
    "duration": 4,
    "start_time": "2025-01-20T18:29:02.179Z"
   },
   {
    "duration": 30,
    "start_time": "2025-01-20T18:29:02.185Z"
   },
   {
    "duration": 6,
    "start_time": "2025-01-20T18:29:02.217Z"
   },
   {
    "duration": 10,
    "start_time": "2025-01-20T18:29:02.224Z"
   },
   {
    "duration": 4,
    "start_time": "2025-01-20T18:29:02.236Z"
   },
   {
    "duration": 5,
    "start_time": "2025-01-20T18:29:02.241Z"
   },
   {
    "duration": 46,
    "start_time": "2025-01-20T18:29:02.247Z"
   },
   {
    "duration": 20,
    "start_time": "2025-01-20T18:29:02.295Z"
   },
   {
    "duration": 4,
    "start_time": "2025-01-20T18:29:02.317Z"
   },
   {
    "duration": 12,
    "start_time": "2025-01-20T18:29:02.322Z"
   },
   {
    "duration": 14,
    "start_time": "2025-01-20T18:29:02.335Z"
   },
   {
    "duration": 8,
    "start_time": "2025-01-20T18:29:02.350Z"
   },
   {
    "duration": 97,
    "start_time": "2025-01-20T18:29:02.359Z"
   },
   {
    "duration": 138,
    "start_time": "2025-01-20T18:29:02.458Z"
   },
   {
    "duration": 320,
    "start_time": "2025-01-20T18:29:02.597Z"
   },
   {
    "duration": 22,
    "start_time": "2025-01-20T18:29:02.918Z"
   },
   {
    "duration": 14,
    "start_time": "2025-01-20T18:29:02.941Z"
   },
   {
    "duration": 66,
    "start_time": "2025-01-20T18:29:02.956Z"
   },
   {
    "duration": 16,
    "start_time": "2025-01-20T18:29:03.026Z"
   },
   {
    "duration": 21,
    "start_time": "2025-01-20T18:29:03.044Z"
   },
   {
    "duration": 44,
    "start_time": "2025-01-20T18:29:03.066Z"
   },
   {
    "duration": 12,
    "start_time": "2025-01-20T18:29:03.112Z"
   },
   {
    "duration": 13,
    "start_time": "2025-01-20T18:29:03.126Z"
   },
   {
    "duration": 13,
    "start_time": "2025-01-20T18:29:03.140Z"
   },
   {
    "duration": 8,
    "start_time": "2025-01-20T18:29:03.155Z"
   },
   {
    "duration": 8,
    "start_time": "2025-01-20T18:29:03.164Z"
   },
   {
    "duration": 15,
    "start_time": "2025-01-20T18:29:03.173Z"
   },
   {
    "duration": 48,
    "start_time": "2025-01-20T18:29:03.190Z"
   },
   {
    "duration": 19,
    "start_time": "2025-01-20T18:29:03.239Z"
   },
   {
    "duration": 142,
    "start_time": "2025-01-20T18:29:03.259Z"
   },
   {
    "duration": 3,
    "start_time": "2025-01-20T18:29:03.403Z"
   },
   {
    "duration": 9,
    "start_time": "2025-01-20T18:29:03.408Z"
   },
   {
    "duration": 11,
    "start_time": "2025-01-20T18:29:03.419Z"
   },
   {
    "duration": 6,
    "start_time": "2025-01-20T18:29:03.431Z"
   },
   {
    "duration": 50,
    "start_time": "2025-01-20T18:29:03.452Z"
   },
   {
    "duration": 90,
    "start_time": "2025-01-20T18:29:03.504Z"
   },
   {
    "duration": 90,
    "start_time": "2025-01-20T18:29:03.596Z"
   },
   {
    "duration": 6,
    "start_time": "2025-01-20T18:29:03.687Z"
   },
   {
    "duration": 33,
    "start_time": "2025-01-20T18:29:03.695Z"
   },
   {
    "duration": 24,
    "start_time": "2025-01-20T18:29:03.730Z"
   },
   {
    "duration": 25,
    "start_time": "2025-01-20T18:29:03.756Z"
   },
   {
    "duration": 27,
    "start_time": "2025-01-20T18:29:03.783Z"
   },
   {
    "duration": 21,
    "start_time": "2025-01-20T18:29:03.812Z"
   },
   {
    "duration": 29,
    "start_time": "2025-01-20T18:29:03.835Z"
   },
   {
    "duration": 20,
    "start_time": "2025-01-20T18:29:03.866Z"
   },
   {
    "duration": 47,
    "start_time": "2025-01-20T18:29:03.889Z"
   },
   {
    "duration": 14,
    "start_time": "2025-01-20T18:29:03.939Z"
   },
   {
    "duration": 15,
    "start_time": "2025-01-20T18:29:03.955Z"
   },
   {
    "duration": 54,
    "start_time": "2025-01-20T18:29:03.972Z"
   },
   {
    "duration": 7,
    "start_time": "2025-01-20T18:29:04.027Z"
   },
   {
    "duration": 13,
    "start_time": "2025-01-20T18:29:04.036Z"
   },
   {
    "duration": 8,
    "start_time": "2025-01-20T18:29:04.051Z"
   },
   {
    "duration": 35,
    "start_time": "2025-01-20T18:29:04.060Z"
   },
   {
    "duration": 92,
    "start_time": "2025-01-20T18:29:04.096Z"
   },
   {
    "duration": 34,
    "start_time": "2025-01-20T18:29:04.190Z"
   },
   {
    "duration": 18,
    "start_time": "2025-01-20T18:29:04.226Z"
   },
   {
    "duration": 64,
    "start_time": "2025-01-20T18:29:04.245Z"
   },
   {
    "duration": 33,
    "start_time": "2025-01-20T18:29:04.311Z"
   },
   {
    "duration": 18,
    "start_time": "2025-01-20T18:29:04.346Z"
   },
   {
    "duration": 23,
    "start_time": "2025-01-20T18:29:04.365Z"
   },
   {
    "duration": 28,
    "start_time": "2025-01-20T18:29:04.389Z"
   },
   {
    "duration": 258,
    "start_time": "2025-01-20T18:29:04.418Z"
   },
   {
    "duration": 93,
    "start_time": "2025-01-20T18:29:04.678Z"
   },
   {
    "duration": 49,
    "start_time": "2025-01-20T18:29:04.772Z"
   },
   {
    "duration": 217,
    "start_time": "2025-01-20T18:29:04.822Z"
   },
   {
    "duration": 44,
    "start_time": "2025-01-20T18:29:05.040Z"
   },
   {
    "duration": 111,
    "start_time": "2025-01-20T18:29:05.086Z"
   },
   {
    "duration": 34,
    "start_time": "2025-01-20T18:29:05.198Z"
   },
   {
    "duration": 160,
    "start_time": "2025-01-20T18:29:05.233Z"
   },
   {
    "duration": 12,
    "start_time": "2025-01-20T18:29:05.394Z"
   },
   {
    "duration": 115,
    "start_time": "2025-01-20T18:29:05.408Z"
   },
   {
    "duration": 52,
    "start_time": "2025-01-20T18:29:05.525Z"
   },
   {
    "duration": 33,
    "start_time": "2025-01-20T18:29:05.583Z"
   },
   {
    "duration": 52,
    "start_time": "2025-01-20T18:29:05.618Z"
   },
   {
    "duration": 19,
    "start_time": "2025-01-20T18:29:05.672Z"
   },
   {
    "duration": 25,
    "start_time": "2025-01-20T18:29:05.693Z"
   },
   {
    "duration": 38,
    "start_time": "2025-01-20T18:29:05.720Z"
   },
   {
    "duration": 59,
    "start_time": "2025-01-20T18:29:05.760Z"
   },
   {
    "duration": 33,
    "start_time": "2025-01-20T18:29:05.821Z"
   },
   {
    "duration": 24,
    "start_time": "2025-01-20T18:29:05.855Z"
   },
   {
    "duration": 99,
    "start_time": "2025-01-20T18:29:05.881Z"
   },
   {
    "duration": 2048,
    "start_time": "2025-01-20T18:29:05.981Z"
   },
   {
    "duration": 0,
    "start_time": "2025-01-20T18:29:08.030Z"
   },
   {
    "duration": 0,
    "start_time": "2025-01-20T18:29:08.032Z"
   },
   {
    "duration": 0,
    "start_time": "2025-01-20T18:29:08.033Z"
   },
   {
    "duration": 0,
    "start_time": "2025-01-20T18:29:08.035Z"
   },
   {
    "duration": 0,
    "start_time": "2025-01-20T18:29:08.037Z"
   },
   {
    "duration": 0,
    "start_time": "2025-01-20T18:29:08.038Z"
   },
   {
    "duration": 0,
    "start_time": "2025-01-20T18:29:08.039Z"
   },
   {
    "duration": 0,
    "start_time": "2025-01-20T18:29:08.041Z"
   },
   {
    "duration": 0,
    "start_time": "2025-01-20T18:29:08.042Z"
   },
   {
    "duration": 0,
    "start_time": "2025-01-20T18:29:08.043Z"
   },
   {
    "duration": 9,
    "start_time": "2025-01-20T18:34:16.098Z"
   },
   {
    "duration": 3,
    "start_time": "2025-01-20T18:35:07.744Z"
   },
   {
    "duration": 9,
    "start_time": "2025-01-20T18:35:25.491Z"
   },
   {
    "duration": 11,
    "start_time": "2025-01-20T18:35:42.867Z"
   },
   {
    "duration": 3,
    "start_time": "2025-01-20T18:35:56.168Z"
   },
   {
    "duration": 7,
    "start_time": "2025-01-20T18:36:27.066Z"
   },
   {
    "duration": 6,
    "start_time": "2025-01-20T18:37:36.020Z"
   },
   {
    "duration": 6,
    "start_time": "2025-01-20T18:37:43.356Z"
   },
   {
    "duration": 25,
    "start_time": "2025-01-20T18:38:57.951Z"
   },
   {
    "duration": 1841,
    "start_time": "2025-01-20T18:39:35.498Z"
   },
   {
    "duration": 51,
    "start_time": "2025-01-20T18:40:07.110Z"
   },
   {
    "duration": 39,
    "start_time": "2025-01-20T18:40:48.421Z"
   },
   {
    "duration": 39,
    "start_time": "2025-01-20T18:44:13.064Z"
   },
   {
    "duration": 30,
    "start_time": "2025-01-20T18:44:35.514Z"
   },
   {
    "duration": 28,
    "start_time": "2025-01-20T18:44:56.249Z"
   },
   {
    "duration": 40,
    "start_time": "2025-01-20T18:46:55.605Z"
   },
   {
    "duration": 1310,
    "start_time": "2025-01-20T18:48:57.294Z"
   },
   {
    "duration": 35,
    "start_time": "2025-01-20T18:49:06.980Z"
   },
   {
    "duration": 16,
    "start_time": "2025-01-20T18:49:16.267Z"
   },
   {
    "duration": 4,
    "start_time": "2025-01-20T18:50:02.695Z"
   },
   {
    "duration": 6,
    "start_time": "2025-01-20T18:50:44.919Z"
   },
   {
    "duration": 4,
    "start_time": "2025-01-20T18:50:45.620Z"
   },
   {
    "duration": 11,
    "start_time": "2025-01-20T18:50:46.264Z"
   },
   {
    "duration": 8,
    "start_time": "2025-01-20T18:52:29.435Z"
   },
   {
    "duration": 9,
    "start_time": "2025-01-20T18:52:38.437Z"
   },
   {
    "duration": 37,
    "start_time": "2025-01-20T18:55:02.403Z"
   },
   {
    "duration": 48,
    "start_time": "2025-01-20T18:57:22.413Z"
   },
   {
    "duration": 33,
    "start_time": "2025-01-20T19:00:04.641Z"
   },
   {
    "duration": 9,
    "start_time": "2025-01-20T19:01:14.614Z"
   },
   {
    "duration": 1882,
    "start_time": "2025-01-20T19:02:03.552Z"
   },
   {
    "duration": 3740,
    "start_time": "2025-01-20T19:05:08.576Z"
   },
   {
    "duration": 41,
    "start_time": "2025-01-20T19:05:12.318Z"
   },
   {
    "duration": 77,
    "start_time": "2025-01-20T19:05:12.361Z"
   },
   {
    "duration": 1132,
    "start_time": "2025-01-20T19:05:12.440Z"
   },
   {
    "duration": 229,
    "start_time": "2025-01-20T19:05:13.574Z"
   },
   {
    "duration": 317,
    "start_time": "2025-01-20T19:05:13.805Z"
   },
   {
    "duration": 113,
    "start_time": "2025-01-20T19:05:14.123Z"
   },
   {
    "duration": 148,
    "start_time": "2025-01-20T19:05:14.237Z"
   },
   {
    "duration": 380,
    "start_time": "2025-01-20T19:05:14.386Z"
   },
   {
    "duration": 5,
    "start_time": "2025-01-20T19:05:14.768Z"
   },
   {
    "duration": 8,
    "start_time": "2025-01-20T19:05:14.774Z"
   },
   {
    "duration": 10,
    "start_time": "2025-01-20T19:05:14.784Z"
   },
   {
    "duration": 4,
    "start_time": "2025-01-20T19:05:14.795Z"
   },
   {
    "duration": 4,
    "start_time": "2025-01-20T19:05:14.800Z"
   },
   {
    "duration": 4,
    "start_time": "2025-01-20T19:05:14.805Z"
   },
   {
    "duration": 3,
    "start_time": "2025-01-20T19:05:14.810Z"
   },
   {
    "duration": 4,
    "start_time": "2025-01-20T19:05:14.814Z"
   },
   {
    "duration": 4,
    "start_time": "2025-01-20T19:05:14.819Z"
   },
   {
    "duration": 12,
    "start_time": "2025-01-20T19:05:14.852Z"
   },
   {
    "duration": 20,
    "start_time": "2025-01-20T19:05:14.865Z"
   },
   {
    "duration": 6,
    "start_time": "2025-01-20T19:05:14.886Z"
   },
   {
    "duration": 95,
    "start_time": "2025-01-20T19:05:14.893Z"
   },
   {
    "duration": 176,
    "start_time": "2025-01-20T19:05:14.990Z"
   },
   {
    "duration": 341,
    "start_time": "2025-01-20T19:05:15.168Z"
   },
   {
    "duration": 20,
    "start_time": "2025-01-20T19:05:15.510Z"
   },
   {
    "duration": 22,
    "start_time": "2025-01-20T19:05:15.531Z"
   },
   {
    "duration": 36,
    "start_time": "2025-01-20T19:05:15.555Z"
   },
   {
    "duration": 15,
    "start_time": "2025-01-20T19:05:15.595Z"
   },
   {
    "duration": 23,
    "start_time": "2025-01-20T19:05:15.612Z"
   },
   {
    "duration": 65,
    "start_time": "2025-01-20T19:05:15.637Z"
   },
   {
    "duration": 11,
    "start_time": "2025-01-20T19:05:15.703Z"
   },
   {
    "duration": 16,
    "start_time": "2025-01-20T19:05:15.715Z"
   },
   {
    "duration": 22,
    "start_time": "2025-01-20T19:05:15.732Z"
   },
   {
    "duration": 9,
    "start_time": "2025-01-20T19:05:15.755Z"
   },
   {
    "duration": 15,
    "start_time": "2025-01-20T19:05:15.766Z"
   },
   {
    "duration": 17,
    "start_time": "2025-01-20T19:05:15.782Z"
   },
   {
    "duration": 51,
    "start_time": "2025-01-20T19:05:15.800Z"
   },
   {
    "duration": 11,
    "start_time": "2025-01-20T19:05:15.853Z"
   },
   {
    "duration": 130,
    "start_time": "2025-01-20T19:05:15.866Z"
   },
   {
    "duration": 4,
    "start_time": "2025-01-20T19:05:15.997Z"
   },
   {
    "duration": 31,
    "start_time": "2025-01-20T19:05:16.002Z"
   },
   {
    "duration": 23,
    "start_time": "2025-01-20T19:05:16.035Z"
   },
   {
    "duration": 15,
    "start_time": "2025-01-20T19:05:16.059Z"
   },
   {
    "duration": 65,
    "start_time": "2025-01-20T19:05:16.076Z"
   },
   {
    "duration": 81,
    "start_time": "2025-01-20T19:05:16.142Z"
   },
   {
    "duration": 89,
    "start_time": "2025-01-20T19:05:16.225Z"
   },
   {
    "duration": 5,
    "start_time": "2025-01-20T19:05:16.316Z"
   },
   {
    "duration": 30,
    "start_time": "2025-01-20T19:05:16.323Z"
   },
   {
    "duration": 16,
    "start_time": "2025-01-20T19:05:16.355Z"
   },
   {
    "duration": 32,
    "start_time": "2025-01-20T19:05:16.372Z"
   },
   {
    "duration": 19,
    "start_time": "2025-01-20T19:05:16.406Z"
   },
   {
    "duration": 27,
    "start_time": "2025-01-20T19:05:16.426Z"
   },
   {
    "duration": 16,
    "start_time": "2025-01-20T19:05:16.454Z"
   },
   {
    "duration": 11,
    "start_time": "2025-01-20T19:05:16.471Z"
   },
   {
    "duration": 15,
    "start_time": "2025-01-20T19:05:16.484Z"
   },
   {
    "duration": 7,
    "start_time": "2025-01-20T19:05:16.501Z"
   },
   {
    "duration": 10,
    "start_time": "2025-01-20T19:05:16.510Z"
   },
   {
    "duration": 36,
    "start_time": "2025-01-20T19:05:16.522Z"
   },
   {
    "duration": 8,
    "start_time": "2025-01-20T19:05:16.560Z"
   },
   {
    "duration": 14,
    "start_time": "2025-01-20T19:05:16.569Z"
   },
   {
    "duration": 9,
    "start_time": "2025-01-20T19:05:16.585Z"
   },
   {
    "duration": 66,
    "start_time": "2025-01-20T19:05:16.595Z"
   },
   {
    "duration": 30,
    "start_time": "2025-01-20T19:05:16.663Z"
   },
   {
    "duration": 35,
    "start_time": "2025-01-20T19:05:16.695Z"
   },
   {
    "duration": 6,
    "start_time": "2025-01-20T19:05:16.732Z"
   },
   {
    "duration": 52,
    "start_time": "2025-01-20T19:05:16.753Z"
   },
   {
    "duration": 31,
    "start_time": "2025-01-20T19:05:16.807Z"
   },
   {
    "duration": 14,
    "start_time": "2025-01-20T19:05:16.853Z"
   },
   {
    "duration": 29,
    "start_time": "2025-01-20T19:05:16.868Z"
   },
   {
    "duration": 27,
    "start_time": "2025-01-20T19:05:16.898Z"
   },
   {
    "duration": 245,
    "start_time": "2025-01-20T19:05:16.926Z"
   },
   {
    "duration": 92,
    "start_time": "2025-01-20T19:05:17.173Z"
   },
   {
    "duration": 43,
    "start_time": "2025-01-20T19:05:17.266Z"
   },
   {
    "duration": 191,
    "start_time": "2025-01-20T19:05:17.310Z"
   },
   {
    "duration": 36,
    "start_time": "2025-01-20T19:05:17.503Z"
   },
   {
    "duration": 92,
    "start_time": "2025-01-20T19:05:17.553Z"
   },
   {
    "duration": 35,
    "start_time": "2025-01-20T19:05:17.646Z"
   },
   {
    "duration": 152,
    "start_time": "2025-01-20T19:05:17.683Z"
   },
   {
    "duration": 23,
    "start_time": "2025-01-20T19:05:17.836Z"
   },
   {
    "duration": 77,
    "start_time": "2025-01-20T19:05:17.861Z"
   },
   {
    "duration": 45,
    "start_time": "2025-01-20T19:05:17.939Z"
   },
   {
    "duration": 25,
    "start_time": "2025-01-20T19:05:17.989Z"
   },
   {
    "duration": 47,
    "start_time": "2025-01-20T19:05:18.015Z"
   },
   {
    "duration": 6,
    "start_time": "2025-01-20T19:05:18.064Z"
   },
   {
    "duration": 12,
    "start_time": "2025-01-20T19:05:18.071Z"
   },
   {
    "duration": 45,
    "start_time": "2025-01-20T19:05:18.085Z"
   },
   {
    "duration": 50,
    "start_time": "2025-01-20T19:05:18.132Z"
   },
   {
    "duration": 9,
    "start_time": "2025-01-20T19:05:18.183Z"
   },
   {
    "duration": 5,
    "start_time": "2025-01-20T19:05:18.193Z"
   },
   {
    "duration": 110,
    "start_time": "2025-01-20T19:05:18.199Z"
   },
   {
    "duration": 2173,
    "start_time": "2025-01-20T19:05:18.310Z"
   },
   {
    "duration": 0,
    "start_time": "2025-01-20T19:05:20.485Z"
   },
   {
    "duration": 0,
    "start_time": "2025-01-20T19:05:20.486Z"
   },
   {
    "duration": 0,
    "start_time": "2025-01-20T19:05:20.487Z"
   },
   {
    "duration": 0,
    "start_time": "2025-01-20T19:05:20.488Z"
   },
   {
    "duration": 0,
    "start_time": "2025-01-20T19:05:20.489Z"
   },
   {
    "duration": 0,
    "start_time": "2025-01-20T19:05:20.490Z"
   },
   {
    "duration": 0,
    "start_time": "2025-01-20T19:05:20.491Z"
   },
   {
    "duration": 0,
    "start_time": "2025-01-20T19:05:20.491Z"
   },
   {
    "duration": 0,
    "start_time": "2025-01-20T19:05:20.492Z"
   },
   {
    "duration": 0,
    "start_time": "2025-01-20T19:05:20.493Z"
   },
   {
    "duration": 52,
    "start_time": "2025-01-21T16:11:03.373Z"
   },
   {
    "duration": 7474,
    "start_time": "2025-01-21T16:11:19.165Z"
   },
   {
    "duration": 32,
    "start_time": "2025-01-21T16:11:26.641Z"
   },
   {
    "duration": 91,
    "start_time": "2025-01-21T16:11:26.674Z"
   },
   {
    "duration": 2816,
    "start_time": "2025-01-21T16:11:26.767Z"
   },
   {
    "duration": 207,
    "start_time": "2025-01-21T16:11:29.585Z"
   },
   {
    "duration": 196,
    "start_time": "2025-01-21T16:11:29.793Z"
   },
   {
    "duration": 55,
    "start_time": "2025-01-21T16:11:29.990Z"
   },
   {
    "duration": 107,
    "start_time": "2025-01-21T16:11:30.046Z"
   },
   {
    "duration": 303,
    "start_time": "2025-01-21T16:11:30.155Z"
   },
   {
    "duration": 4,
    "start_time": "2025-01-21T16:11:30.461Z"
   },
   {
    "duration": 15,
    "start_time": "2025-01-21T16:11:30.466Z"
   },
   {
    "duration": 8,
    "start_time": "2025-01-21T16:11:30.482Z"
   },
   {
    "duration": 28,
    "start_time": "2025-01-21T16:11:30.492Z"
   },
   {
    "duration": 8,
    "start_time": "2025-01-21T16:11:30.522Z"
   },
   {
    "duration": 16,
    "start_time": "2025-01-21T16:11:30.531Z"
   },
   {
    "duration": 12,
    "start_time": "2025-01-21T16:11:30.548Z"
   },
   {
    "duration": 8,
    "start_time": "2025-01-21T16:11:30.561Z"
   },
   {
    "duration": 24,
    "start_time": "2025-01-21T16:11:30.570Z"
   },
   {
    "duration": 19,
    "start_time": "2025-01-21T16:11:30.595Z"
   },
   {
    "duration": 12,
    "start_time": "2025-01-21T16:11:30.615Z"
   },
   {
    "duration": 7,
    "start_time": "2025-01-21T16:11:30.628Z"
   },
   {
    "duration": 100,
    "start_time": "2025-01-21T16:11:30.636Z"
   },
   {
    "duration": 129,
    "start_time": "2025-01-21T16:11:30.737Z"
   },
   {
    "duration": 306,
    "start_time": "2025-01-21T16:11:30.867Z"
   },
   {
    "duration": 21,
    "start_time": "2025-01-21T16:11:31.174Z"
   },
   {
    "duration": 10,
    "start_time": "2025-01-21T16:11:31.196Z"
   },
   {
    "duration": 58,
    "start_time": "2025-01-21T16:11:31.207Z"
   },
   {
    "duration": 16,
    "start_time": "2025-01-21T16:11:31.269Z"
   },
   {
    "duration": 14,
    "start_time": "2025-01-21T16:11:31.286Z"
   },
   {
    "duration": 41,
    "start_time": "2025-01-21T16:11:31.301Z"
   },
   {
    "duration": 16,
    "start_time": "2025-01-21T16:11:31.343Z"
   },
   {
    "duration": 14,
    "start_time": "2025-01-21T16:11:31.360Z"
   },
   {
    "duration": 39,
    "start_time": "2025-01-21T16:11:31.375Z"
   },
   {
    "duration": 9,
    "start_time": "2025-01-21T16:11:31.415Z"
   },
   {
    "duration": 8,
    "start_time": "2025-01-21T16:11:31.425Z"
   },
   {
    "duration": 31,
    "start_time": "2025-01-21T16:11:31.434Z"
   },
   {
    "duration": 67,
    "start_time": "2025-01-21T16:11:31.466Z"
   },
   {
    "duration": 12,
    "start_time": "2025-01-21T16:11:31.535Z"
   },
   {
    "duration": 130,
    "start_time": "2025-01-21T16:11:31.549Z"
   },
   {
    "duration": 4,
    "start_time": "2025-01-21T16:11:31.680Z"
   },
   {
    "duration": 13,
    "start_time": "2025-01-21T16:11:31.686Z"
   },
   {
    "duration": 15,
    "start_time": "2025-01-21T16:11:31.701Z"
   },
   {
    "duration": 11,
    "start_time": "2025-01-21T16:11:31.717Z"
   },
   {
    "duration": 55,
    "start_time": "2025-01-21T16:11:31.729Z"
   },
   {
    "duration": 89,
    "start_time": "2025-01-21T16:11:31.786Z"
   },
   {
    "duration": 85,
    "start_time": "2025-01-21T16:11:31.877Z"
   },
   {
    "duration": 5,
    "start_time": "2025-01-21T16:11:31.963Z"
   },
   {
    "duration": 39,
    "start_time": "2025-01-21T16:11:31.970Z"
   },
   {
    "duration": 16,
    "start_time": "2025-01-21T16:11:32.010Z"
   },
   {
    "duration": 21,
    "start_time": "2025-01-21T16:11:32.027Z"
   },
   {
    "duration": 5,
    "start_time": "2025-01-21T16:11:32.053Z"
   },
   {
    "duration": 16,
    "start_time": "2025-01-21T16:11:32.060Z"
   },
   {
    "duration": 32,
    "start_time": "2025-01-21T16:11:32.077Z"
   },
   {
    "duration": 9,
    "start_time": "2025-01-21T16:11:32.110Z"
   },
   {
    "duration": 13,
    "start_time": "2025-01-21T16:11:32.121Z"
   },
   {
    "duration": 6,
    "start_time": "2025-01-21T16:11:32.136Z"
   },
   {
    "duration": 12,
    "start_time": "2025-01-21T16:11:32.153Z"
   },
   {
    "duration": 38,
    "start_time": "2025-01-21T16:11:32.166Z"
   },
   {
    "duration": 7,
    "start_time": "2025-01-21T16:11:32.206Z"
   },
   {
    "duration": 13,
    "start_time": "2025-01-21T16:11:32.214Z"
   },
   {
    "duration": 7,
    "start_time": "2025-01-21T16:11:32.229Z"
   },
   {
    "duration": 44,
    "start_time": "2025-01-21T16:11:32.238Z"
   },
   {
    "duration": 27,
    "start_time": "2025-01-21T16:11:32.284Z"
   },
   {
    "duration": 46,
    "start_time": "2025-01-21T16:11:32.313Z"
   },
   {
    "duration": 7,
    "start_time": "2025-01-21T16:11:32.360Z"
   },
   {
    "duration": 77,
    "start_time": "2025-01-21T16:11:32.369Z"
   },
   {
    "duration": 33,
    "start_time": "2025-01-21T16:11:32.448Z"
   },
   {
    "duration": 14,
    "start_time": "2025-01-21T16:11:32.483Z"
   },
   {
    "duration": 41,
    "start_time": "2025-01-21T16:11:32.499Z"
   },
   {
    "duration": 31,
    "start_time": "2025-01-21T16:11:32.542Z"
   },
   {
    "duration": 686,
    "start_time": "2025-01-21T16:11:32.575Z"
   },
   {
    "duration": 82,
    "start_time": "2025-01-21T16:11:33.263Z"
   },
   {
    "duration": 44,
    "start_time": "2025-01-21T16:11:33.347Z"
   },
   {
    "duration": 187,
    "start_time": "2025-01-21T16:11:33.393Z"
   },
   {
    "duration": 37,
    "start_time": "2025-01-21T16:11:33.581Z"
   },
   {
    "duration": 111,
    "start_time": "2025-01-21T16:11:33.619Z"
   },
   {
    "duration": 32,
    "start_time": "2025-01-21T16:11:33.732Z"
   },
   {
    "duration": 210,
    "start_time": "2025-01-21T16:11:33.765Z"
   },
   {
    "duration": 12,
    "start_time": "2025-01-21T16:11:33.976Z"
   },
   {
    "duration": 128,
    "start_time": "2025-01-21T16:11:33.989Z"
   },
   {
    "duration": 47,
    "start_time": "2025-01-21T16:11:34.118Z"
   },
   {
    "duration": 27,
    "start_time": "2025-01-21T16:11:34.171Z"
   },
   {
    "duration": 45,
    "start_time": "2025-01-21T16:11:34.199Z"
   },
   {
    "duration": 11,
    "start_time": "2025-01-21T16:11:34.246Z"
   },
   {
    "duration": 33,
    "start_time": "2025-01-21T16:11:34.259Z"
   },
   {
    "duration": 60,
    "start_time": "2025-01-21T16:11:34.294Z"
   },
   {
    "duration": 35,
    "start_time": "2025-01-21T16:11:34.356Z"
   },
   {
    "duration": 34,
    "start_time": "2025-01-21T16:11:34.393Z"
   },
   {
    "duration": 8,
    "start_time": "2025-01-21T16:11:34.429Z"
   },
   {
    "duration": 88,
    "start_time": "2025-01-21T16:11:34.439Z"
   },
   {
    "duration": 2025,
    "start_time": "2025-01-21T16:11:34.529Z"
   },
   {
    "duration": 0,
    "start_time": "2025-01-21T16:11:36.555Z"
   },
   {
    "duration": 0,
    "start_time": "2025-01-21T16:11:36.557Z"
   },
   {
    "duration": 0,
    "start_time": "2025-01-21T16:11:36.558Z"
   },
   {
    "duration": 0,
    "start_time": "2025-01-21T16:11:36.559Z"
   },
   {
    "duration": 0,
    "start_time": "2025-01-21T16:11:36.560Z"
   },
   {
    "duration": 0,
    "start_time": "2025-01-21T16:11:36.561Z"
   },
   {
    "duration": 0,
    "start_time": "2025-01-21T16:11:36.562Z"
   },
   {
    "duration": 0,
    "start_time": "2025-01-21T16:11:36.563Z"
   },
   {
    "duration": 0,
    "start_time": "2025-01-21T16:11:36.564Z"
   },
   {
    "duration": 0,
    "start_time": "2025-01-21T16:11:36.565Z"
   },
   {
    "duration": 2000,
    "start_time": "2025-01-21T16:13:22.706Z"
   },
   {
    "duration": 3829,
    "start_time": "2025-01-21T16:14:08.705Z"
   },
   {
    "duration": 32,
    "start_time": "2025-01-21T16:14:12.536Z"
   },
   {
    "duration": 72,
    "start_time": "2025-01-21T16:14:12.569Z"
   },
   {
    "duration": 1002,
    "start_time": "2025-01-21T16:14:12.643Z"
   },
   {
    "duration": 186,
    "start_time": "2025-01-21T16:14:13.647Z"
   },
   {
    "duration": 383,
    "start_time": "2025-01-21T16:14:13.835Z"
   },
   {
    "duration": 63,
    "start_time": "2025-01-21T16:14:14.220Z"
   },
   {
    "duration": 88,
    "start_time": "2025-01-21T16:14:14.285Z"
   },
   {
    "duration": 318,
    "start_time": "2025-01-21T16:14:14.374Z"
   },
   {
    "duration": 4,
    "start_time": "2025-01-21T16:14:14.695Z"
   },
   {
    "duration": 17,
    "start_time": "2025-01-21T16:14:14.700Z"
   },
   {
    "duration": 6,
    "start_time": "2025-01-21T16:14:14.718Z"
   },
   {
    "duration": 5,
    "start_time": "2025-01-21T16:14:14.726Z"
   },
   {
    "duration": 10,
    "start_time": "2025-01-21T16:14:14.732Z"
   },
   {
    "duration": 42,
    "start_time": "2025-01-21T16:14:14.743Z"
   },
   {
    "duration": 25,
    "start_time": "2025-01-21T16:14:14.786Z"
   },
   {
    "duration": 6,
    "start_time": "2025-01-21T16:14:14.812Z"
   },
   {
    "duration": 8,
    "start_time": "2025-01-21T16:14:14.819Z"
   },
   {
    "duration": 33,
    "start_time": "2025-01-21T16:14:14.828Z"
   },
   {
    "duration": 13,
    "start_time": "2025-01-21T16:14:14.863Z"
   },
   {
    "duration": 7,
    "start_time": "2025-01-21T16:14:14.877Z"
   },
   {
    "duration": 107,
    "start_time": "2025-01-21T16:14:14.885Z"
   },
   {
    "duration": 146,
    "start_time": "2025-01-21T16:14:14.993Z"
   },
   {
    "duration": 327,
    "start_time": "2025-01-21T16:14:15.141Z"
   },
   {
    "duration": 20,
    "start_time": "2025-01-21T16:14:15.470Z"
   },
   {
    "duration": 9,
    "start_time": "2025-01-21T16:14:15.492Z"
   },
   {
    "duration": 55,
    "start_time": "2025-01-21T16:14:15.503Z"
   },
   {
    "duration": 16,
    "start_time": "2025-01-21T16:14:15.563Z"
   },
   {
    "duration": 41,
    "start_time": "2025-01-21T16:14:15.581Z"
   },
   {
    "duration": 45,
    "start_time": "2025-01-21T16:14:15.624Z"
   },
   {
    "duration": 12,
    "start_time": "2025-01-21T16:14:15.671Z"
   },
   {
    "duration": 15,
    "start_time": "2025-01-21T16:14:15.685Z"
   },
   {
    "duration": 17,
    "start_time": "2025-01-21T16:14:15.701Z"
   },
   {
    "duration": 8,
    "start_time": "2025-01-21T16:14:15.719Z"
   },
   {
    "duration": 30,
    "start_time": "2025-01-21T16:14:15.728Z"
   },
   {
    "duration": 19,
    "start_time": "2025-01-21T16:14:15.759Z"
   },
   {
    "duration": 32,
    "start_time": "2025-01-21T16:14:15.779Z"
   },
   {
    "duration": 12,
    "start_time": "2025-01-21T16:14:15.812Z"
   },
   {
    "duration": 141,
    "start_time": "2025-01-21T16:14:15.825Z"
   },
   {
    "duration": 5,
    "start_time": "2025-01-21T16:14:15.967Z"
   },
   {
    "duration": 13,
    "start_time": "2025-01-21T16:14:15.973Z"
   },
   {
    "duration": 11,
    "start_time": "2025-01-21T16:14:15.987Z"
   },
   {
    "duration": 12,
    "start_time": "2025-01-21T16:14:15.999Z"
   },
   {
    "duration": 66,
    "start_time": "2025-01-21T16:14:16.012Z"
   },
   {
    "duration": 84,
    "start_time": "2025-01-21T16:14:16.079Z"
   },
   {
    "duration": 88,
    "start_time": "2025-01-21T16:14:16.165Z"
   },
   {
    "duration": 6,
    "start_time": "2025-01-21T16:14:16.255Z"
   },
   {
    "duration": 20,
    "start_time": "2025-01-21T16:14:16.262Z"
   },
   {
    "duration": 26,
    "start_time": "2025-01-21T16:14:16.284Z"
   },
   {
    "duration": 22,
    "start_time": "2025-01-21T16:14:16.311Z"
   },
   {
    "duration": 18,
    "start_time": "2025-01-21T16:14:16.335Z"
   },
   {
    "duration": 16,
    "start_time": "2025-01-21T16:14:16.354Z"
   },
   {
    "duration": 13,
    "start_time": "2025-01-21T16:14:16.371Z"
   },
   {
    "duration": 13,
    "start_time": "2025-01-21T16:14:16.385Z"
   },
   {
    "duration": 27,
    "start_time": "2025-01-21T16:14:16.400Z"
   },
   {
    "duration": 6,
    "start_time": "2025-01-21T16:14:16.429Z"
   },
   {
    "duration": 22,
    "start_time": "2025-01-21T16:14:16.436Z"
   },
   {
    "duration": 11,
    "start_time": "2025-01-21T16:14:16.459Z"
   },
   {
    "duration": 13,
    "start_time": "2025-01-21T16:14:16.471Z"
   },
   {
    "duration": 17,
    "start_time": "2025-01-21T16:14:16.486Z"
   },
   {
    "duration": 9,
    "start_time": "2025-01-21T16:14:16.504Z"
   },
   {
    "duration": 47,
    "start_time": "2025-01-21T16:14:16.515Z"
   },
   {
    "duration": 27,
    "start_time": "2025-01-21T16:14:16.564Z"
   },
   {
    "duration": 36,
    "start_time": "2025-01-21T16:14:16.593Z"
   },
   {
    "duration": 23,
    "start_time": "2025-01-21T16:14:16.630Z"
   },
   {
    "duration": 63,
    "start_time": "2025-01-21T16:14:16.654Z"
   },
   {
    "duration": 33,
    "start_time": "2025-01-21T16:14:16.718Z"
   },
   {
    "duration": 14,
    "start_time": "2025-01-21T16:14:16.753Z"
   },
   {
    "duration": 23,
    "start_time": "2025-01-21T16:14:16.768Z"
   },
   {
    "duration": 27,
    "start_time": "2025-01-21T16:14:16.792Z"
   },
   {
    "duration": 712,
    "start_time": "2025-01-21T16:14:16.821Z"
   },
   {
    "duration": 85,
    "start_time": "2025-01-21T16:14:17.535Z"
   },
   {
    "duration": 48,
    "start_time": "2025-01-21T16:14:17.621Z"
   },
   {
    "duration": 171,
    "start_time": "2025-01-21T16:14:17.670Z"
   },
   {
    "duration": 41,
    "start_time": "2025-01-21T16:14:17.843Z"
   },
   {
    "duration": 102,
    "start_time": "2025-01-21T16:14:17.885Z"
   },
   {
    "duration": 34,
    "start_time": "2025-01-21T16:14:17.988Z"
   },
   {
    "duration": 160,
    "start_time": "2025-01-21T16:14:18.023Z"
   },
   {
    "duration": 11,
    "start_time": "2025-01-21T16:14:18.185Z"
   },
   {
    "duration": 111,
    "start_time": "2025-01-21T16:14:18.197Z"
   },
   {
    "duration": 36,
    "start_time": "2025-01-21T16:14:18.310Z"
   },
   {
    "duration": 24,
    "start_time": "2025-01-21T16:14:18.356Z"
   },
   {
    "duration": 32,
    "start_time": "2025-01-21T16:14:18.382Z"
   },
   {
    "duration": 6,
    "start_time": "2025-01-21T16:14:18.415Z"
   },
   {
    "duration": 31,
    "start_time": "2025-01-21T16:14:18.422Z"
   },
   {
    "duration": 46,
    "start_time": "2025-01-21T16:14:18.454Z"
   },
   {
    "duration": 31,
    "start_time": "2025-01-21T16:14:18.502Z"
   },
   {
    "duration": 25,
    "start_time": "2025-01-21T16:14:18.534Z"
   },
   {
    "duration": 11,
    "start_time": "2025-01-21T16:14:18.561Z"
   },
   {
    "duration": 85,
    "start_time": "2025-01-21T16:14:18.573Z"
   },
   {
    "duration": 3691,
    "start_time": "2025-01-21T16:15:46.601Z"
   },
   {
    "duration": 33,
    "start_time": "2025-01-21T16:15:50.294Z"
   },
   {
    "duration": 117,
    "start_time": "2025-01-21T16:15:50.328Z"
   },
   {
    "duration": 869,
    "start_time": "2025-01-21T16:15:50.447Z"
   },
   {
    "duration": 182,
    "start_time": "2025-01-21T16:15:51.318Z"
   },
   {
    "duration": 177,
    "start_time": "2025-01-21T16:15:51.502Z"
   },
   {
    "duration": 237,
    "start_time": "2025-01-21T16:15:51.681Z"
   },
   {
    "duration": 82,
    "start_time": "2025-01-21T16:15:51.920Z"
   },
   {
    "duration": 284,
    "start_time": "2025-01-21T16:15:52.004Z"
   },
   {
    "duration": 4,
    "start_time": "2025-01-21T16:15:52.291Z"
   },
   {
    "duration": 32,
    "start_time": "2025-01-21T16:15:52.297Z"
   },
   {
    "duration": 3,
    "start_time": "2025-01-21T16:15:52.331Z"
   },
   {
    "duration": 6,
    "start_time": "2025-01-21T16:15:52.336Z"
   },
   {
    "duration": 5,
    "start_time": "2025-01-21T16:15:52.344Z"
   },
   {
    "duration": 5,
    "start_time": "2025-01-21T16:15:52.351Z"
   },
   {
    "duration": 6,
    "start_time": "2025-01-21T16:15:52.357Z"
   },
   {
    "duration": 9,
    "start_time": "2025-01-21T16:15:52.364Z"
   },
   {
    "duration": 32,
    "start_time": "2025-01-21T16:15:52.374Z"
   },
   {
    "duration": 47,
    "start_time": "2025-01-21T16:15:52.407Z"
   },
   {
    "duration": 13,
    "start_time": "2025-01-21T16:15:52.456Z"
   },
   {
    "duration": 6,
    "start_time": "2025-01-21T16:15:52.470Z"
   },
   {
    "duration": 100,
    "start_time": "2025-01-21T16:15:52.477Z"
   },
   {
    "duration": 134,
    "start_time": "2025-01-21T16:15:52.578Z"
   },
   {
    "duration": 313,
    "start_time": "2025-01-21T16:15:52.714Z"
   },
   {
    "duration": 29,
    "start_time": "2025-01-21T16:15:53.028Z"
   },
   {
    "duration": 10,
    "start_time": "2025-01-21T16:15:53.059Z"
   },
   {
    "duration": 50,
    "start_time": "2025-01-21T16:15:53.070Z"
   },
   {
    "duration": 16,
    "start_time": "2025-01-21T16:15:53.124Z"
   },
   {
    "duration": 18,
    "start_time": "2025-01-21T16:15:53.141Z"
   },
   {
    "duration": 29,
    "start_time": "2025-01-21T16:15:53.161Z"
   },
   {
    "duration": 11,
    "start_time": "2025-01-21T16:15:53.192Z"
   },
   {
    "duration": 24,
    "start_time": "2025-01-21T16:15:53.205Z"
   },
   {
    "duration": 18,
    "start_time": "2025-01-21T16:15:53.230Z"
   },
   {
    "duration": 10,
    "start_time": "2025-01-21T16:15:53.253Z"
   },
   {
    "duration": 8,
    "start_time": "2025-01-21T16:15:53.265Z"
   },
   {
    "duration": 20,
    "start_time": "2025-01-21T16:15:53.274Z"
   },
   {
    "duration": 60,
    "start_time": "2025-01-21T16:15:53.295Z"
   },
   {
    "duration": 12,
    "start_time": "2025-01-21T16:15:53.356Z"
   },
   {
    "duration": 125,
    "start_time": "2025-01-21T16:15:53.369Z"
   },
   {
    "duration": 4,
    "start_time": "2025-01-21T16:15:53.495Z"
   },
   {
    "duration": 15,
    "start_time": "2025-01-21T16:15:53.501Z"
   },
   {
    "duration": 18,
    "start_time": "2025-01-21T16:15:53.517Z"
   },
   {
    "duration": 6,
    "start_time": "2025-01-21T16:15:53.536Z"
   },
   {
    "duration": 57,
    "start_time": "2025-01-21T16:15:53.544Z"
   },
   {
    "duration": 90,
    "start_time": "2025-01-21T16:15:53.602Z"
   },
   {
    "duration": 88,
    "start_time": "2025-01-21T16:15:53.693Z"
   },
   {
    "duration": 6,
    "start_time": "2025-01-21T16:15:53.783Z"
   },
   {
    "duration": 20,
    "start_time": "2025-01-21T16:15:53.790Z"
   },
   {
    "duration": 16,
    "start_time": "2025-01-21T16:15:53.812Z"
   },
   {
    "duration": 41,
    "start_time": "2025-01-21T16:15:53.829Z"
   },
   {
    "duration": 7,
    "start_time": "2025-01-21T16:15:53.872Z"
   },
   {
    "duration": 25,
    "start_time": "2025-01-21T16:15:53.881Z"
   },
   {
    "duration": 22,
    "start_time": "2025-01-21T16:15:53.908Z"
   },
   {
    "duration": 35,
    "start_time": "2025-01-21T16:15:53.933Z"
   },
   {
    "duration": 35,
    "start_time": "2025-01-21T16:15:53.973Z"
   },
   {
    "duration": 5,
    "start_time": "2025-01-21T16:15:54.010Z"
   },
   {
    "duration": 12,
    "start_time": "2025-01-21T16:15:54.017Z"
   },
   {
    "duration": 12,
    "start_time": "2025-01-21T16:15:54.031Z"
   },
   {
    "duration": 11,
    "start_time": "2025-01-21T16:15:54.045Z"
   },
   {
    "duration": 15,
    "start_time": "2025-01-21T16:15:54.057Z"
   },
   {
    "duration": 8,
    "start_time": "2025-01-21T16:15:54.073Z"
   },
   {
    "duration": 32,
    "start_time": "2025-01-21T16:15:54.082Z"
   },
   {
    "duration": 81,
    "start_time": "2025-01-21T16:15:54.115Z"
   },
   {
    "duration": 33,
    "start_time": "2025-01-21T16:15:54.197Z"
   },
   {
    "duration": 7,
    "start_time": "2025-01-21T16:15:54.231Z"
   },
   {
    "duration": 64,
    "start_time": "2025-01-21T16:15:54.239Z"
   },
   {
    "duration": 32,
    "start_time": "2025-01-21T16:15:54.305Z"
   },
   {
    "duration": 21,
    "start_time": "2025-01-21T16:15:54.339Z"
   },
   {
    "duration": 22,
    "start_time": "2025-01-21T16:15:54.361Z"
   },
   {
    "duration": 28,
    "start_time": "2025-01-21T16:15:54.385Z"
   },
   {
    "duration": 475,
    "start_time": "2025-01-21T16:15:54.414Z"
   },
   {
    "duration": 83,
    "start_time": "2025-01-21T16:15:54.890Z"
   },
   {
    "duration": 44,
    "start_time": "2025-01-21T16:15:54.974Z"
   },
   {
    "duration": 187,
    "start_time": "2025-01-21T16:15:55.019Z"
   },
   {
    "duration": 45,
    "start_time": "2025-01-21T16:15:55.208Z"
   },
   {
    "duration": 90,
    "start_time": "2025-01-21T16:15:55.254Z"
   },
   {
    "duration": 32,
    "start_time": "2025-01-21T16:15:55.352Z"
   },
   {
    "duration": 146,
    "start_time": "2025-01-21T16:15:55.385Z"
   },
   {
    "duration": 20,
    "start_time": "2025-01-21T16:15:55.533Z"
   },
   {
    "duration": 77,
    "start_time": "2025-01-21T16:15:55.554Z"
   },
   {
    "duration": 44,
    "start_time": "2025-01-21T16:15:55.633Z"
   },
   {
    "duration": 24,
    "start_time": "2025-01-21T16:15:55.683Z"
   },
   {
    "duration": 47,
    "start_time": "2025-01-21T16:15:55.708Z"
   },
   {
    "duration": 5,
    "start_time": "2025-01-21T16:15:55.757Z"
   },
   {
    "duration": 28,
    "start_time": "2025-01-21T16:15:55.763Z"
   },
   {
    "duration": 57,
    "start_time": "2025-01-21T16:15:55.793Z"
   },
   {
    "duration": 32,
    "start_time": "2025-01-21T16:15:55.851Z"
   },
   {
    "duration": 10,
    "start_time": "2025-01-21T16:15:55.884Z"
   },
   {
    "duration": 8,
    "start_time": "2025-01-21T16:15:55.895Z"
   },
   {
    "duration": 88,
    "start_time": "2025-01-21T16:15:55.905Z"
   },
   {
    "duration": 143410,
    "start_time": "2025-01-21T16:15:55.995Z"
   },
   {
    "duration": 99,
    "start_time": "2025-01-21T16:18:19.407Z"
   },
   {
    "duration": 120,
    "start_time": "2025-01-21T16:18:19.508Z"
   },
   {
    "duration": 41,
    "start_time": "2025-01-21T16:18:19.629Z"
   },
   {
    "duration": 140,
    "start_time": "2025-01-21T16:18:19.671Z"
   },
   {
    "duration": 170,
    "start_time": "2025-01-21T16:18:19.812Z"
   },
   {
    "duration": 118,
    "start_time": "2025-01-21T16:18:19.984Z"
   },
   {
    "duration": 0,
    "start_time": "2025-01-21T16:18:20.103Z"
   },
   {
    "duration": 0,
    "start_time": "2025-01-21T16:18:20.105Z"
   },
   {
    "duration": 0,
    "start_time": "2025-01-21T16:18:20.106Z"
   },
   {
    "duration": 0,
    "start_time": "2025-01-21T16:18:20.107Z"
   },
   {
    "duration": 413,
    "start_time": "2025-01-21T16:22:46.749Z"
   },
   {
    "duration": 411,
    "start_time": "2025-01-21T16:23:03.123Z"
   },
   {
    "duration": 395,
    "start_time": "2025-01-21T16:23:15.826Z"
   },
   {
    "duration": 483,
    "start_time": "2025-01-21T16:23:39.935Z"
   },
   {
    "duration": 425,
    "start_time": "2025-01-21T16:24:00.698Z"
   },
   {
    "duration": 3883,
    "start_time": "2025-01-21T16:24:10.065Z"
   },
   {
    "duration": 35,
    "start_time": "2025-01-21T16:24:13.951Z"
   },
   {
    "duration": 54,
    "start_time": "2025-01-21T16:24:13.987Z"
   },
   {
    "duration": 975,
    "start_time": "2025-01-21T16:24:14.043Z"
   },
   {
    "duration": 603,
    "start_time": "2025-01-21T16:24:15.020Z"
   },
   {
    "duration": 290,
    "start_time": "2025-01-21T16:24:15.625Z"
   },
   {
    "duration": 106,
    "start_time": "2025-01-21T16:24:15.917Z"
   },
   {
    "duration": 152,
    "start_time": "2025-01-21T16:24:16.024Z"
   },
   {
    "duration": 313,
    "start_time": "2025-01-21T16:24:16.177Z"
   },
   {
    "duration": 4,
    "start_time": "2025-01-21T16:24:16.493Z"
   },
   {
    "duration": 4,
    "start_time": "2025-01-21T16:24:16.499Z"
   },
   {
    "duration": 6,
    "start_time": "2025-01-21T16:24:16.504Z"
   },
   {
    "duration": 10,
    "start_time": "2025-01-21T16:24:16.511Z"
   },
   {
    "duration": 4,
    "start_time": "2025-01-21T16:24:16.522Z"
   },
   {
    "duration": 25,
    "start_time": "2025-01-21T16:24:16.527Z"
   },
   {
    "duration": 3,
    "start_time": "2025-01-21T16:24:16.554Z"
   },
   {
    "duration": 11,
    "start_time": "2025-01-21T16:24:16.558Z"
   },
   {
    "duration": 8,
    "start_time": "2025-01-21T16:24:16.570Z"
   },
   {
    "duration": 20,
    "start_time": "2025-01-21T16:24:16.579Z"
   },
   {
    "duration": 25,
    "start_time": "2025-01-21T16:24:16.600Z"
   },
   {
    "duration": 6,
    "start_time": "2025-01-21T16:24:16.626Z"
   },
   {
    "duration": 89,
    "start_time": "2025-01-21T16:24:16.633Z"
   },
   {
    "duration": 180,
    "start_time": "2025-01-21T16:24:16.724Z"
   },
   {
    "duration": 340,
    "start_time": "2025-01-21T16:24:16.906Z"
   },
   {
    "duration": 22,
    "start_time": "2025-01-21T16:24:17.248Z"
   },
   {
    "duration": 9,
    "start_time": "2025-01-21T16:24:17.271Z"
   },
   {
    "duration": 38,
    "start_time": "2025-01-21T16:24:17.281Z"
   },
   {
    "duration": 37,
    "start_time": "2025-01-21T16:24:17.323Z"
   },
   {
    "duration": 20,
    "start_time": "2025-01-21T16:24:17.361Z"
   },
   {
    "duration": 49,
    "start_time": "2025-01-21T16:24:17.382Z"
   },
   {
    "duration": 11,
    "start_time": "2025-01-21T16:24:17.433Z"
   },
   {
    "duration": 21,
    "start_time": "2025-01-21T16:24:17.445Z"
   },
   {
    "duration": 11,
    "start_time": "2025-01-21T16:24:17.467Z"
   },
   {
    "duration": 10,
    "start_time": "2025-01-21T16:24:17.479Z"
   },
   {
    "duration": 7,
    "start_time": "2025-01-21T16:24:17.491Z"
   },
   {
    "duration": 11,
    "start_time": "2025-01-21T16:24:17.499Z"
   },
   {
    "duration": 49,
    "start_time": "2025-01-21T16:24:17.511Z"
   },
   {
    "duration": 10,
    "start_time": "2025-01-21T16:24:17.562Z"
   },
   {
    "duration": 123,
    "start_time": "2025-01-21T16:24:17.574Z"
   },
   {
    "duration": 3,
    "start_time": "2025-01-21T16:24:17.699Z"
   },
   {
    "duration": 6,
    "start_time": "2025-01-21T16:24:17.704Z"
   },
   {
    "duration": 10,
    "start_time": "2025-01-21T16:24:17.712Z"
   },
   {
    "duration": 6,
    "start_time": "2025-01-21T16:24:17.723Z"
   },
   {
    "duration": 70,
    "start_time": "2025-01-21T16:24:17.730Z"
   },
   {
    "duration": 90,
    "start_time": "2025-01-21T16:24:17.801Z"
   },
   {
    "duration": 90,
    "start_time": "2025-01-21T16:24:17.892Z"
   },
   {
    "duration": 6,
    "start_time": "2025-01-21T16:24:17.984Z"
   },
   {
    "duration": 23,
    "start_time": "2025-01-21T16:24:17.991Z"
   },
   {
    "duration": 31,
    "start_time": "2025-01-21T16:24:18.016Z"
   },
   {
    "duration": 33,
    "start_time": "2025-01-21T16:24:18.049Z"
   },
   {
    "duration": 6,
    "start_time": "2025-01-21T16:24:18.083Z"
   },
   {
    "duration": 17,
    "start_time": "2025-01-21T16:24:18.091Z"
   },
   {
    "duration": 15,
    "start_time": "2025-01-21T16:24:18.110Z"
   },
   {
    "duration": 10,
    "start_time": "2025-01-21T16:24:18.126Z"
   },
   {
    "duration": 71,
    "start_time": "2025-01-21T16:24:18.137Z"
   },
   {
    "duration": 6,
    "start_time": "2025-01-21T16:24:18.210Z"
   },
   {
    "duration": 8,
    "start_time": "2025-01-21T16:24:18.217Z"
   },
   {
    "duration": 19,
    "start_time": "2025-01-21T16:24:18.226Z"
   },
   {
    "duration": 21,
    "start_time": "2025-01-21T16:24:18.246Z"
   },
   {
    "duration": 12,
    "start_time": "2025-01-21T16:24:18.268Z"
   },
   {
    "duration": 8,
    "start_time": "2025-01-21T16:24:18.281Z"
   },
   {
    "duration": 32,
    "start_time": "2025-01-21T16:24:18.290Z"
   },
   {
    "duration": 34,
    "start_time": "2025-01-21T16:24:18.323Z"
   },
   {
    "duration": 33,
    "start_time": "2025-01-21T16:24:18.359Z"
   },
   {
    "duration": 7,
    "start_time": "2025-01-21T16:24:18.394Z"
   },
   {
    "duration": 73,
    "start_time": "2025-01-21T16:24:18.402Z"
   },
   {
    "duration": 33,
    "start_time": "2025-01-21T16:24:18.477Z"
   },
   {
    "duration": 15,
    "start_time": "2025-01-21T16:24:18.512Z"
   },
   {
    "duration": 44,
    "start_time": "2025-01-21T16:24:18.529Z"
   },
   {
    "duration": 27,
    "start_time": "2025-01-21T16:24:18.574Z"
   },
   {
    "duration": 470,
    "start_time": "2025-01-21T16:24:18.603Z"
   },
   {
    "duration": 88,
    "start_time": "2025-01-21T16:24:19.075Z"
   },
   {
    "duration": 46,
    "start_time": "2025-01-21T16:24:19.164Z"
   },
   {
    "duration": 199,
    "start_time": "2025-01-21T16:24:19.212Z"
   },
   {
    "duration": 45,
    "start_time": "2025-01-21T16:24:19.412Z"
   },
   {
    "duration": 100,
    "start_time": "2025-01-21T16:24:19.459Z"
   },
   {
    "duration": 31,
    "start_time": "2025-01-21T16:24:19.560Z"
   },
   {
    "duration": 152,
    "start_time": "2025-01-21T16:24:19.592Z"
   },
   {
    "duration": 16,
    "start_time": "2025-01-21T16:24:19.745Z"
   },
   {
    "duration": 85,
    "start_time": "2025-01-21T16:24:19.762Z"
   },
   {
    "duration": 38,
    "start_time": "2025-01-21T16:24:19.852Z"
   },
   {
    "duration": 23,
    "start_time": "2025-01-21T16:24:19.896Z"
   },
   {
    "duration": 48,
    "start_time": "2025-01-21T16:24:19.921Z"
   },
   {
    "duration": 13,
    "start_time": "2025-01-21T16:24:19.970Z"
   },
   {
    "duration": 12,
    "start_time": "2025-01-21T16:24:19.984Z"
   },
   {
    "duration": 62,
    "start_time": "2025-01-21T16:24:19.998Z"
   },
   {
    "duration": 34,
    "start_time": "2025-01-21T16:24:20.062Z"
   },
   {
    "duration": 14,
    "start_time": "2025-01-21T16:24:20.097Z"
   },
   {
    "duration": 16,
    "start_time": "2025-01-21T16:24:20.113Z"
   },
   {
    "duration": 92,
    "start_time": "2025-01-21T16:24:20.131Z"
   },
   {
    "duration": 3762,
    "start_time": "2025-01-21T16:25:56.682Z"
   },
   {
    "duration": 51,
    "start_time": "2025-01-21T16:26:00.445Z"
   },
   {
    "duration": 87,
    "start_time": "2025-01-21T16:26:00.497Z"
   },
   {
    "duration": 863,
    "start_time": "2025-01-21T16:26:00.586Z"
   },
   {
    "duration": 189,
    "start_time": "2025-01-21T16:26:01.452Z"
   },
   {
    "duration": 188,
    "start_time": "2025-01-21T16:26:01.643Z"
   },
   {
    "duration": 96,
    "start_time": "2025-01-21T16:26:01.833Z"
   },
   {
    "duration": 125,
    "start_time": "2025-01-21T16:26:01.930Z"
   },
   {
    "duration": 348,
    "start_time": "2025-01-21T16:26:02.056Z"
   },
   {
    "duration": 4,
    "start_time": "2025-01-21T16:26:02.406Z"
   },
   {
    "duration": 11,
    "start_time": "2025-01-21T16:26:02.412Z"
   },
   {
    "duration": 28,
    "start_time": "2025-01-21T16:26:02.424Z"
   },
   {
    "duration": 25,
    "start_time": "2025-01-21T16:26:02.453Z"
   },
   {
    "duration": 142200,
    "start_time": "2025-01-21T16:26:02.480Z"
   },
   {
    "duration": 3,
    "start_time": "2025-01-21T16:28:24.682Z"
   },
   {
    "duration": 9,
    "start_time": "2025-01-21T16:28:24.686Z"
   },
   {
    "duration": 9,
    "start_time": "2025-01-21T16:28:24.696Z"
   },
   {
    "duration": 6,
    "start_time": "2025-01-21T16:28:24.706Z"
   },
   {
    "duration": 29,
    "start_time": "2025-01-21T16:28:24.713Z"
   },
   {
    "duration": 30,
    "start_time": "2025-01-21T16:28:24.743Z"
   },
   {
    "duration": 37,
    "start_time": "2025-01-21T16:28:24.774Z"
   },
   {
    "duration": 13,
    "start_time": "2025-01-21T16:28:24.813Z"
   },
   {
    "duration": 116,
    "start_time": "2025-01-21T16:28:24.828Z"
   },
   {
    "duration": 229,
    "start_time": "2025-01-21T16:28:24.946Z"
   },
   {
    "duration": 552,
    "start_time": "2025-01-21T16:28:25.177Z"
   },
   {
    "duration": 26,
    "start_time": "2025-01-21T16:28:25.730Z"
   },
   {
    "duration": 9,
    "start_time": "2025-01-21T16:28:25.758Z"
   },
   {
    "duration": 55,
    "start_time": "2025-01-21T16:28:25.772Z"
   },
   {
    "duration": 26,
    "start_time": "2025-01-21T16:28:25.829Z"
   },
   {
    "duration": 10,
    "start_time": "2025-01-21T16:28:25.857Z"
   },
   {
    "duration": 30,
    "start_time": "2025-01-21T16:28:25.868Z"
   },
   {
    "duration": 11,
    "start_time": "2025-01-21T16:28:25.899Z"
   },
   {
    "duration": 26,
    "start_time": "2025-01-21T16:28:25.911Z"
   },
   {
    "duration": 22,
    "start_time": "2025-01-21T16:28:25.939Z"
   },
   {
    "duration": 12,
    "start_time": "2025-01-21T16:28:25.963Z"
   },
   {
    "duration": 14,
    "start_time": "2025-01-21T16:28:25.976Z"
   },
   {
    "duration": 20,
    "start_time": "2025-01-21T16:28:25.991Z"
   },
   {
    "duration": 55,
    "start_time": "2025-01-21T16:28:26.013Z"
   },
   {
    "duration": 12,
    "start_time": "2025-01-21T16:28:26.069Z"
   },
   {
    "duration": 124,
    "start_time": "2025-01-21T16:28:26.082Z"
   },
   {
    "duration": 4,
    "start_time": "2025-01-21T16:28:26.207Z"
   },
   {
    "duration": 5,
    "start_time": "2025-01-21T16:28:26.213Z"
   },
   {
    "duration": 11,
    "start_time": "2025-01-21T16:28:26.219Z"
   },
   {
    "duration": 22,
    "start_time": "2025-01-21T16:28:26.231Z"
   },
   {
    "duration": 46,
    "start_time": "2025-01-21T16:28:26.254Z"
   },
   {
    "duration": 98,
    "start_time": "2025-01-21T16:28:26.302Z"
   },
   {
    "duration": 99,
    "start_time": "2025-01-21T16:28:26.402Z"
   },
   {
    "duration": 6,
    "start_time": "2025-01-21T16:28:26.502Z"
   },
   {
    "duration": 36,
    "start_time": "2025-01-21T16:28:26.509Z"
   },
   {
    "duration": 22,
    "start_time": "2025-01-21T16:28:26.546Z"
   },
   {
    "duration": 33,
    "start_time": "2025-01-21T16:28:26.570Z"
   },
   {
    "duration": 6,
    "start_time": "2025-01-21T16:28:26.604Z"
   },
   {
    "duration": 15,
    "start_time": "2025-01-21T16:28:26.611Z"
   },
   {
    "duration": 19,
    "start_time": "2025-01-21T16:28:26.628Z"
   },
   {
    "duration": 14,
    "start_time": "2025-01-21T16:28:26.648Z"
   },
   {
    "duration": 25,
    "start_time": "2025-01-21T16:28:26.664Z"
   },
   {
    "duration": 6,
    "start_time": "2025-01-21T16:28:26.691Z"
   },
   {
    "duration": 12,
    "start_time": "2025-01-21T16:28:26.698Z"
   },
   {
    "duration": 17,
    "start_time": "2025-01-21T16:28:26.711Z"
   },
   {
    "duration": 11,
    "start_time": "2025-01-21T16:28:26.729Z"
   },
   {
    "duration": 14,
    "start_time": "2025-01-21T16:28:26.741Z"
   },
   {
    "duration": 9,
    "start_time": "2025-01-21T16:28:26.756Z"
   },
   {
    "duration": 35,
    "start_time": "2025-01-21T16:28:26.766Z"
   },
   {
    "duration": 30,
    "start_time": "2025-01-21T16:28:26.803Z"
   },
   {
    "duration": 51,
    "start_time": "2025-01-21T16:28:26.834Z"
   },
   {
    "duration": 54,
    "start_time": "2025-01-21T16:28:26.887Z"
   },
   {
    "duration": 63,
    "start_time": "2025-01-21T16:28:26.943Z"
   },
   {
    "duration": 45,
    "start_time": "2025-01-21T16:28:27.008Z"
   },
   {
    "duration": 15,
    "start_time": "2025-01-21T16:28:27.055Z"
   },
   {
    "duration": 23,
    "start_time": "2025-01-21T16:28:27.071Z"
   },
   {
    "duration": 27,
    "start_time": "2025-01-21T16:28:27.095Z"
   },
   {
    "duration": 477,
    "start_time": "2025-01-21T16:28:27.124Z"
   },
   {
    "duration": 84,
    "start_time": "2025-01-21T16:28:27.603Z"
   },
   {
    "duration": 46,
    "start_time": "2025-01-21T16:28:27.689Z"
   },
   {
    "duration": 196,
    "start_time": "2025-01-21T16:28:27.737Z"
   },
   {
    "duration": 48,
    "start_time": "2025-01-21T16:28:27.935Z"
   },
   {
    "duration": 116,
    "start_time": "2025-01-21T16:28:27.984Z"
   },
   {
    "duration": 33,
    "start_time": "2025-01-21T16:28:28.102Z"
   },
   {
    "duration": 166,
    "start_time": "2025-01-21T16:28:28.136Z"
   },
   {
    "duration": 11,
    "start_time": "2025-01-21T16:28:28.304Z"
   },
   {
    "duration": 109,
    "start_time": "2025-01-21T16:28:28.317Z"
   },
   {
    "duration": 46,
    "start_time": "2025-01-21T16:28:28.431Z"
   },
   {
    "duration": 27,
    "start_time": "2025-01-21T16:28:28.479Z"
   },
   {
    "duration": 52,
    "start_time": "2025-01-21T16:28:28.507Z"
   },
   {
    "duration": 6,
    "start_time": "2025-01-21T16:28:28.561Z"
   },
   {
    "duration": 20,
    "start_time": "2025-01-21T16:28:28.568Z"
   },
   {
    "duration": 65,
    "start_time": "2025-01-21T16:28:28.590Z"
   },
   {
    "duration": 33,
    "start_time": "2025-01-21T16:28:28.657Z"
   },
   {
    "duration": 21,
    "start_time": "2025-01-21T16:28:28.692Z"
   },
   {
    "duration": 12,
    "start_time": "2025-01-21T16:28:28.714Z"
   },
   {
    "duration": 99,
    "start_time": "2025-01-21T16:28:28.727Z"
   },
   {
    "duration": 3764,
    "start_time": "2025-01-21T16:29:23.761Z"
   },
   {
    "duration": 34,
    "start_time": "2025-01-21T16:29:27.527Z"
   },
   {
    "duration": 76,
    "start_time": "2025-01-21T16:29:27.562Z"
   },
   {
    "duration": 1011,
    "start_time": "2025-01-21T16:29:27.640Z"
   },
   {
    "duration": 238,
    "start_time": "2025-01-21T16:29:28.652Z"
   },
   {
    "duration": 208,
    "start_time": "2025-01-21T16:29:28.892Z"
   },
   {
    "duration": 77,
    "start_time": "2025-01-21T16:29:29.102Z"
   },
   {
    "duration": 105,
    "start_time": "2025-01-21T16:29:29.180Z"
   },
   {
    "duration": 309,
    "start_time": "2025-01-21T16:29:29.287Z"
   },
   {
    "duration": 4,
    "start_time": "2025-01-21T16:29:29.598Z"
   },
   {
    "duration": 7,
    "start_time": "2025-01-21T16:29:29.603Z"
   },
   {
    "duration": 5,
    "start_time": "2025-01-21T16:29:29.612Z"
   },
   {
    "duration": 15,
    "start_time": "2025-01-21T16:29:29.618Z"
   },
   {
    "duration": 3,
    "start_time": "2025-01-21T16:31:50.651Z"
   },
   {
    "duration": 12,
    "start_time": "2025-01-21T16:31:50.655Z"
   },
   {
    "duration": 12,
    "start_time": "2025-01-21T16:31:50.668Z"
   },
   {
    "duration": 5,
    "start_time": "2025-01-21T16:31:50.681Z"
   },
   {
    "duration": 12,
    "start_time": "2025-01-21T16:31:50.688Z"
   },
   {
    "duration": 13,
    "start_time": "2025-01-21T16:31:50.701Z"
   },
   {
    "duration": 11,
    "start_time": "2025-01-21T16:31:50.716Z"
   },
   {
    "duration": 11,
    "start_time": "2025-01-21T16:31:50.728Z"
   },
   {
    "duration": 102,
    "start_time": "2025-01-21T16:31:50.740Z"
   },
   {
    "duration": 222,
    "start_time": "2025-01-21T16:31:50.843Z"
   },
   {
    "duration": 538,
    "start_time": "2025-01-21T16:31:51.067Z"
   },
   {
    "duration": 19,
    "start_time": "2025-01-21T16:31:51.607Z"
   },
   {
    "duration": 9,
    "start_time": "2025-01-21T16:31:51.628Z"
   },
   {
    "duration": 44,
    "start_time": "2025-01-21T16:31:51.655Z"
   },
   {
    "duration": 16,
    "start_time": "2025-01-21T16:31:51.701Z"
   },
   {
    "duration": 15,
    "start_time": "2025-01-21T16:31:51.719Z"
   },
   {
    "duration": 42,
    "start_time": "2025-01-21T16:31:51.736Z"
   },
   {
    "duration": 11,
    "start_time": "2025-01-21T16:31:51.779Z"
   },
   {
    "duration": 37,
    "start_time": "2025-01-21T16:31:51.791Z"
   },
   {
    "duration": 10,
    "start_time": "2025-01-21T16:31:51.829Z"
   },
   {
    "duration": 8,
    "start_time": "2025-01-21T16:31:51.840Z"
   },
   {
    "duration": 13,
    "start_time": "2025-01-21T16:31:51.849Z"
   },
   {
    "duration": 15,
    "start_time": "2025-01-21T16:31:51.864Z"
   },
   {
    "duration": 36,
    "start_time": "2025-01-21T16:31:51.880Z"
   },
   {
    "duration": 13,
    "start_time": "2025-01-21T16:31:51.918Z"
   },
   {
    "duration": 145,
    "start_time": "2025-01-21T16:31:51.933Z"
   },
   {
    "duration": 3,
    "start_time": "2025-01-21T16:31:52.080Z"
   },
   {
    "duration": 29,
    "start_time": "2025-01-21T16:31:52.085Z"
   },
   {
    "duration": 20,
    "start_time": "2025-01-21T16:31:52.115Z"
   },
   {
    "duration": 49,
    "start_time": "2025-01-21T16:31:52.137Z"
   },
   {
    "duration": 66,
    "start_time": "2025-01-21T16:31:52.188Z"
   },
   {
    "duration": 91,
    "start_time": "2025-01-21T16:31:52.256Z"
   },
   {
    "duration": 92,
    "start_time": "2025-01-21T16:31:52.353Z"
   },
   {
    "duration": 6,
    "start_time": "2025-01-21T16:31:52.453Z"
   },
   {
    "duration": 32,
    "start_time": "2025-01-21T16:31:52.460Z"
   },
   {
    "duration": 16,
    "start_time": "2025-01-21T16:31:52.494Z"
   },
   {
    "duration": 52,
    "start_time": "2025-01-21T16:31:52.511Z"
   },
   {
    "duration": 6,
    "start_time": "2025-01-21T16:31:52.565Z"
   },
   {
    "duration": 16,
    "start_time": "2025-01-21T16:31:52.572Z"
   },
   {
    "duration": 18,
    "start_time": "2025-01-21T16:31:52.590Z"
   },
   {
    "duration": 20,
    "start_time": "2025-01-21T16:31:52.609Z"
   },
   {
    "duration": 27,
    "start_time": "2025-01-21T16:31:52.631Z"
   },
   {
    "duration": 6,
    "start_time": "2025-01-21T16:31:52.659Z"
   },
   {
    "duration": 8,
    "start_time": "2025-01-21T16:31:52.667Z"
   },
   {
    "duration": 19,
    "start_time": "2025-01-21T16:31:52.676Z"
   },
   {
    "duration": 11,
    "start_time": "2025-01-21T16:31:52.697Z"
   },
   {
    "duration": 34,
    "start_time": "2025-01-21T16:31:52.710Z"
   },
   {
    "duration": 8,
    "start_time": "2025-01-21T16:31:52.745Z"
   },
   {
    "duration": 41,
    "start_time": "2025-01-21T16:31:52.754Z"
   },
   {
    "duration": 26,
    "start_time": "2025-01-21T16:31:52.796Z"
   },
   {
    "duration": 66,
    "start_time": "2025-01-21T16:31:52.824Z"
   },
   {
    "duration": 60,
    "start_time": "2025-01-21T16:31:52.891Z"
   },
   {
    "duration": 56,
    "start_time": "2025-01-21T16:31:52.953Z"
   },
   {
    "duration": 32,
    "start_time": "2025-01-21T16:31:53.010Z"
   },
   {
    "duration": 17,
    "start_time": "2025-01-21T16:31:53.044Z"
   },
   {
    "duration": 45,
    "start_time": "2025-01-21T16:31:53.063Z"
   },
   {
    "duration": 27,
    "start_time": "2025-01-21T16:31:53.110Z"
   },
   {
    "duration": 467,
    "start_time": "2025-01-21T16:31:53.138Z"
   },
   {
    "duration": 88,
    "start_time": "2025-01-21T16:31:53.607Z"
   },
   {
    "duration": 42,
    "start_time": "2025-01-21T16:31:53.697Z"
   },
   {
    "duration": 237,
    "start_time": "2025-01-21T16:31:53.741Z"
   },
   {
    "duration": 37,
    "start_time": "2025-01-21T16:31:53.980Z"
   },
   {
    "duration": 125,
    "start_time": "2025-01-21T16:31:54.019Z"
   },
   {
    "duration": 38,
    "start_time": "2025-01-21T16:31:54.145Z"
   },
   {
    "duration": 154,
    "start_time": "2025-01-21T16:31:54.185Z"
   },
   {
    "duration": 18,
    "start_time": "2025-01-21T16:31:54.340Z"
   },
   {
    "duration": 94,
    "start_time": "2025-01-21T16:31:54.359Z"
   },
   {
    "duration": 36,
    "start_time": "2025-01-21T16:31:54.459Z"
   },
   {
    "duration": 25,
    "start_time": "2025-01-21T16:31:54.496Z"
   },
   {
    "duration": 49,
    "start_time": "2025-01-21T16:31:54.522Z"
   },
   {
    "duration": 6,
    "start_time": "2025-01-21T16:31:54.573Z"
   },
   {
    "duration": 11,
    "start_time": "2025-01-21T16:31:54.580Z"
   },
   {
    "duration": 70,
    "start_time": "2025-01-21T16:31:54.592Z"
   },
   {
    "duration": 30,
    "start_time": "2025-01-21T16:31:54.663Z"
   },
   {
    "duration": 23,
    "start_time": "2025-01-21T16:31:54.695Z"
   },
   {
    "duration": 23,
    "start_time": "2025-01-21T16:31:54.719Z"
   },
   {
    "duration": 88,
    "start_time": "2025-01-21T16:31:54.743Z"
   },
   {
    "duration": 3970,
    "start_time": "2025-01-21T16:32:03.515Z"
   },
   {
    "duration": 36,
    "start_time": "2025-01-21T16:32:07.489Z"
   },
   {
    "duration": 78,
    "start_time": "2025-01-21T16:32:07.526Z"
   },
   {
    "duration": 841,
    "start_time": "2025-01-21T16:32:07.606Z"
   },
   {
    "duration": 320,
    "start_time": "2025-01-21T16:32:08.448Z"
   },
   {
    "duration": 210,
    "start_time": "2025-01-21T16:32:08.770Z"
   },
   {
    "duration": 80,
    "start_time": "2025-01-21T16:32:08.982Z"
   },
   {
    "duration": 109,
    "start_time": "2025-01-21T16:32:09.064Z"
   },
   {
    "duration": 322,
    "start_time": "2025-01-21T16:32:09.175Z"
   },
   {
    "duration": 4,
    "start_time": "2025-01-21T16:32:09.499Z"
   },
   {
    "duration": 36,
    "start_time": "2025-01-21T16:32:09.505Z"
   },
   {
    "duration": 5,
    "start_time": "2025-01-21T16:32:09.542Z"
   },
   {
    "duration": 4,
    "start_time": "2025-01-21T16:32:09.548Z"
   },
   {
    "duration": 141909,
    "start_time": "2025-01-21T16:32:09.553Z"
   },
   {
    "duration": 3,
    "start_time": "2025-01-21T16:34:31.464Z"
   },
   {
    "duration": 13,
    "start_time": "2025-01-21T16:34:31.468Z"
   },
   {
    "duration": 20,
    "start_time": "2025-01-21T16:34:31.482Z"
   },
   {
    "duration": 11,
    "start_time": "2025-01-21T16:34:31.504Z"
   },
   {
    "duration": 22,
    "start_time": "2025-01-21T16:34:31.516Z"
   },
   {
    "duration": 33,
    "start_time": "2025-01-21T16:34:31.539Z"
   },
   {
    "duration": 12,
    "start_time": "2025-01-21T16:34:31.573Z"
   },
   {
    "duration": 23,
    "start_time": "2025-01-21T16:34:31.587Z"
   },
   {
    "duration": 101,
    "start_time": "2025-01-21T16:34:31.612Z"
   },
   {
    "duration": 184,
    "start_time": "2025-01-21T16:34:31.714Z"
   },
   {
    "duration": 526,
    "start_time": "2025-01-21T16:34:31.900Z"
   },
   {
    "duration": 29,
    "start_time": "2025-01-21T16:34:32.427Z"
   },
   {
    "duration": 9,
    "start_time": "2025-01-21T16:34:32.458Z"
   },
   {
    "duration": 42,
    "start_time": "2025-01-21T16:34:32.472Z"
   },
   {
    "duration": 23,
    "start_time": "2025-01-21T16:34:32.515Z"
   },
   {
    "duration": 11,
    "start_time": "2025-01-21T16:34:32.553Z"
   },
   {
    "duration": 34,
    "start_time": "2025-01-21T16:34:32.565Z"
   },
   {
    "duration": 12,
    "start_time": "2025-01-21T16:34:32.601Z"
   },
   {
    "duration": 12,
    "start_time": "2025-01-21T16:34:32.614Z"
   },
   {
    "duration": 34,
    "start_time": "2025-01-21T16:34:32.628Z"
   },
   {
    "duration": 37,
    "start_time": "2025-01-21T16:34:32.664Z"
   },
   {
    "duration": 10,
    "start_time": "2025-01-21T16:34:32.703Z"
   },
   {
    "duration": 14,
    "start_time": "2025-01-21T16:34:32.715Z"
   },
   {
    "duration": 33,
    "start_time": "2025-01-21T16:34:32.730Z"
   },
   {
    "duration": 12,
    "start_time": "2025-01-21T16:34:32.765Z"
   },
   {
    "duration": 133,
    "start_time": "2025-01-21T16:34:32.778Z"
   },
   {
    "duration": 4,
    "start_time": "2025-01-21T16:34:32.913Z"
   },
   {
    "duration": 24,
    "start_time": "2025-01-21T16:34:32.918Z"
   },
   {
    "duration": 19,
    "start_time": "2025-01-21T16:34:32.944Z"
   },
   {
    "duration": 16,
    "start_time": "2025-01-21T16:34:32.965Z"
   },
   {
    "duration": 63,
    "start_time": "2025-01-21T16:34:32.983Z"
   },
   {
    "duration": 92,
    "start_time": "2025-01-21T16:34:33.048Z"
   },
   {
    "duration": 100,
    "start_time": "2025-01-21T16:34:33.142Z"
   },
   {
    "duration": 13,
    "start_time": "2025-01-21T16:34:33.244Z"
   },
   {
    "duration": 56,
    "start_time": "2025-01-21T16:34:33.259Z"
   },
   {
    "duration": 22,
    "start_time": "2025-01-21T16:34:33.317Z"
   },
   {
    "duration": 30,
    "start_time": "2025-01-21T16:34:33.341Z"
   },
   {
    "duration": 28,
    "start_time": "2025-01-21T16:34:33.373Z"
   },
   {
    "duration": 25,
    "start_time": "2025-01-21T16:34:33.403Z"
   },
   {
    "duration": 25,
    "start_time": "2025-01-21T16:34:33.430Z"
   },
   {
    "duration": 8,
    "start_time": "2025-01-21T16:34:33.457Z"
   },
   {
    "duration": 34,
    "start_time": "2025-01-21T16:34:33.466Z"
   },
   {
    "duration": 28,
    "start_time": "2025-01-21T16:34:33.501Z"
   },
   {
    "duration": 24,
    "start_time": "2025-01-21T16:34:33.530Z"
   },
   {
    "duration": 54,
    "start_time": "2025-01-21T16:34:33.555Z"
   },
   {
    "duration": 16,
    "start_time": "2025-01-21T16:34:33.610Z"
   },
   {
    "duration": 22,
    "start_time": "2025-01-21T16:34:33.627Z"
   },
   {
    "duration": 29,
    "start_time": "2025-01-21T16:34:33.650Z"
   },
   {
    "duration": 52,
    "start_time": "2025-01-21T16:34:33.681Z"
   },
   {
    "duration": 28,
    "start_time": "2025-01-21T16:34:33.735Z"
   },
   {
    "duration": 56,
    "start_time": "2025-01-21T16:34:33.764Z"
   },
   {
    "duration": 75,
    "start_time": "2025-01-21T16:34:33.822Z"
   },
   {
    "duration": 92,
    "start_time": "2025-01-21T16:34:33.899Z"
   },
   {
    "duration": 41,
    "start_time": "2025-01-21T16:34:33.993Z"
   },
   {
    "duration": 23,
    "start_time": "2025-01-21T16:34:34.035Z"
   },
   {
    "duration": 25,
    "start_time": "2025-01-21T16:34:34.060Z"
   },
   {
    "duration": 30,
    "start_time": "2025-01-21T16:34:34.087Z"
   },
   {
    "duration": 530,
    "start_time": "2025-01-21T16:34:34.119Z"
   },
   {
    "duration": 89,
    "start_time": "2025-01-21T16:34:34.651Z"
   },
   {
    "duration": 55,
    "start_time": "2025-01-21T16:34:34.742Z"
   },
   {
    "duration": 210,
    "start_time": "2025-01-21T16:34:34.798Z"
   },
   {
    "duration": 44,
    "start_time": "2025-01-21T16:34:35.009Z"
   },
   {
    "duration": 116,
    "start_time": "2025-01-21T16:34:35.054Z"
   },
   {
    "duration": 33,
    "start_time": "2025-01-21T16:34:35.171Z"
   },
   {
    "duration": 162,
    "start_time": "2025-01-21T16:34:35.205Z"
   },
   {
    "duration": 12,
    "start_time": "2025-01-21T16:34:35.369Z"
   },
   {
    "duration": 130,
    "start_time": "2025-01-21T16:34:35.383Z"
   },
   {
    "duration": 43,
    "start_time": "2025-01-21T16:34:35.520Z"
   },
   {
    "duration": 27,
    "start_time": "2025-01-21T16:34:35.565Z"
   },
   {
    "duration": 36,
    "start_time": "2025-01-21T16:34:35.593Z"
   },
   {
    "duration": 24,
    "start_time": "2025-01-21T16:34:35.630Z"
   },
   {
    "duration": 29,
    "start_time": "2025-01-21T16:34:35.655Z"
   },
   {
    "duration": 53,
    "start_time": "2025-01-21T16:34:35.685Z"
   },
   {
    "duration": 31,
    "start_time": "2025-01-21T16:34:35.739Z"
   },
   {
    "duration": 45,
    "start_time": "2025-01-21T16:34:35.771Z"
   },
   {
    "duration": 31,
    "start_time": "2025-01-21T16:34:35.817Z"
   },
   {
    "duration": 134,
    "start_time": "2025-01-21T16:34:35.849Z"
   },
   {
    "duration": 139959,
    "start_time": "2025-01-21T16:34:35.984Z"
   },
   {
    "duration": 115,
    "start_time": "2025-01-21T16:36:55.945Z"
   },
   {
    "duration": 143,
    "start_time": "2025-01-21T16:36:56.061Z"
   },
   {
    "duration": 49,
    "start_time": "2025-01-21T16:36:56.205Z"
   },
   {
    "duration": 184,
    "start_time": "2025-01-21T16:36:56.256Z"
   },
   {
    "duration": 174,
    "start_time": "2025-01-21T16:36:56.442Z"
   },
   {
    "duration": 131,
    "start_time": "2025-01-21T16:36:56.617Z"
   },
   {
    "duration": 0,
    "start_time": "2025-01-21T16:36:56.749Z"
   },
   {
    "duration": 0,
    "start_time": "2025-01-21T16:36:56.752Z"
   },
   {
    "duration": 0,
    "start_time": "2025-01-21T16:36:56.753Z"
   },
   {
    "duration": 0,
    "start_time": "2025-01-21T16:36:56.754Z"
   },
   {
    "duration": 97,
    "start_time": "2025-01-21T16:37:02.461Z"
   },
   {
    "duration": 99,
    "start_time": "2025-01-21T16:37:16.075Z"
   },
   {
    "duration": 1994,
    "start_time": "2025-01-21T16:37:24.118Z"
   },
   {
    "duration": 3836,
    "start_time": "2025-01-21T16:38:01.235Z"
   },
   {
    "duration": 71,
    "start_time": "2025-01-21T16:38:05.073Z"
   },
   {
    "duration": 74,
    "start_time": "2025-01-21T16:38:05.146Z"
   },
   {
    "duration": 906,
    "start_time": "2025-01-21T16:38:05.222Z"
   },
   {
    "duration": 244,
    "start_time": "2025-01-21T16:38:06.129Z"
   },
   {
    "duration": 281,
    "start_time": "2025-01-21T16:38:06.375Z"
   },
   {
    "duration": 90,
    "start_time": "2025-01-21T16:38:06.657Z"
   },
   {
    "duration": 122,
    "start_time": "2025-01-21T16:38:06.749Z"
   },
   {
    "duration": 304,
    "start_time": "2025-01-21T16:38:06.872Z"
   },
   {
    "duration": 4,
    "start_time": "2025-01-21T16:38:07.179Z"
   },
   {
    "duration": 29,
    "start_time": "2025-01-21T16:38:07.184Z"
   },
   {
    "duration": 23,
    "start_time": "2025-01-21T16:38:07.214Z"
   },
   {
    "duration": 8,
    "start_time": "2025-01-21T16:38:07.238Z"
   },
   {
    "duration": 139694,
    "start_time": "2025-01-21T16:38:07.247Z"
   },
   {
    "duration": 11,
    "start_time": "2025-01-21T16:40:26.942Z"
   },
   {
    "duration": 3,
    "start_time": "2025-01-21T16:40:26.955Z"
   },
   {
    "duration": 6,
    "start_time": "2025-01-21T16:40:26.960Z"
   },
   {
    "duration": 18,
    "start_time": "2025-01-21T16:40:26.968Z"
   },
   {
    "duration": 15,
    "start_time": "2025-01-21T16:40:26.988Z"
   },
   {
    "duration": 20,
    "start_time": "2025-01-21T16:40:27.005Z"
   },
   {
    "duration": 12,
    "start_time": "2025-01-21T16:40:27.026Z"
   },
   {
    "duration": 7,
    "start_time": "2025-01-21T16:40:27.039Z"
   },
   {
    "duration": 98,
    "start_time": "2025-01-21T16:40:27.047Z"
   },
   {
    "duration": 213,
    "start_time": "2025-01-21T16:40:27.152Z"
   },
   {
    "duration": 543,
    "start_time": "2025-01-21T16:40:27.366Z"
   },
   {
    "duration": 20,
    "start_time": "2025-01-21T16:40:27.910Z"
   },
   {
    "duration": 22,
    "start_time": "2025-01-21T16:40:27.931Z"
   },
   {
    "duration": 40,
    "start_time": "2025-01-21T16:40:27.957Z"
   },
   {
    "duration": 16,
    "start_time": "2025-01-21T16:40:27.999Z"
   },
   {
    "duration": 9,
    "start_time": "2025-01-21T16:40:28.016Z"
   },
   {
    "duration": 50,
    "start_time": "2025-01-21T16:40:28.026Z"
   },
   {
    "duration": 11,
    "start_time": "2025-01-21T16:40:28.077Z"
   },
   {
    "duration": 11,
    "start_time": "2025-01-21T16:40:28.089Z"
   },
   {
    "duration": 11,
    "start_time": "2025-01-21T16:40:28.101Z"
   },
   {
    "duration": 9,
    "start_time": "2025-01-21T16:40:28.113Z"
   },
   {
    "duration": 33,
    "start_time": "2025-01-21T16:40:28.123Z"
   },
   {
    "duration": 12,
    "start_time": "2025-01-21T16:40:28.158Z"
   },
   {
    "duration": 31,
    "start_time": "2025-01-21T16:40:28.172Z"
   },
   {
    "duration": 11,
    "start_time": "2025-01-21T16:40:28.205Z"
   },
   {
    "duration": 137,
    "start_time": "2025-01-21T16:40:28.217Z"
   },
   {
    "duration": 4,
    "start_time": "2025-01-21T16:40:28.355Z"
   },
   {
    "duration": 18,
    "start_time": "2025-01-21T16:40:28.361Z"
   },
   {
    "duration": 15,
    "start_time": "2025-01-21T16:40:28.381Z"
   },
   {
    "duration": 7,
    "start_time": "2025-01-21T16:40:28.397Z"
   },
   {
    "duration": 48,
    "start_time": "2025-01-21T16:40:28.405Z"
   },
   {
    "duration": 101,
    "start_time": "2025-01-21T16:40:28.455Z"
   },
   {
    "duration": 98,
    "start_time": "2025-01-21T16:40:28.557Z"
   },
   {
    "duration": 7,
    "start_time": "2025-01-21T16:40:28.656Z"
   },
   {
    "duration": 22,
    "start_time": "2025-01-21T16:40:28.664Z"
   },
   {
    "duration": 16,
    "start_time": "2025-01-21T16:40:28.687Z"
   },
   {
    "duration": 21,
    "start_time": "2025-01-21T16:40:28.704Z"
   },
   {
    "duration": 27,
    "start_time": "2025-01-21T16:40:28.726Z"
   },
   {
    "duration": 36,
    "start_time": "2025-01-21T16:40:28.754Z"
   },
   {
    "duration": 26,
    "start_time": "2025-01-21T16:40:28.791Z"
   },
   {
    "duration": 9,
    "start_time": "2025-01-21T16:40:28.819Z"
   },
   {
    "duration": 14,
    "start_time": "2025-01-21T16:40:28.829Z"
   },
   {
    "duration": 6,
    "start_time": "2025-01-21T16:40:28.845Z"
   },
   {
    "duration": 9,
    "start_time": "2025-01-21T16:40:28.852Z"
   },
   {
    "duration": 10,
    "start_time": "2025-01-21T16:40:28.862Z"
   },
   {
    "duration": 6,
    "start_time": "2025-01-21T16:40:28.874Z"
   },
   {
    "duration": 13,
    "start_time": "2025-01-21T16:40:28.881Z"
   },
   {
    "duration": 8,
    "start_time": "2025-01-21T16:40:28.895Z"
   },
   {
    "duration": 52,
    "start_time": "2025-01-21T16:40:28.904Z"
   },
   {
    "duration": 26,
    "start_time": "2025-01-21T16:40:28.957Z"
   },
   {
    "duration": 36,
    "start_time": "2025-01-21T16:40:28.984Z"
   },
   {
    "duration": 80,
    "start_time": "2025-01-21T16:40:29.022Z"
   },
   {
    "duration": 61,
    "start_time": "2025-01-21T16:40:29.104Z"
   },
   {
    "duration": 26,
    "start_time": "2025-01-21T16:40:29.166Z"
   },
   {
    "duration": 13,
    "start_time": "2025-01-21T16:40:29.193Z"
   },
   {
    "duration": 20,
    "start_time": "2025-01-21T16:40:29.208Z"
   },
   {
    "duration": 47,
    "start_time": "2025-01-21T16:40:29.229Z"
   },
   {
    "duration": 451,
    "start_time": "2025-01-21T16:40:29.278Z"
   },
   {
    "duration": 87,
    "start_time": "2025-01-21T16:40:29.731Z"
   },
   {
    "duration": 52,
    "start_time": "2025-01-21T16:40:29.820Z"
   },
   {
    "duration": 221,
    "start_time": "2025-01-21T16:40:29.874Z"
   },
   {
    "duration": 36,
    "start_time": "2025-01-21T16:40:30.097Z"
   },
   {
    "duration": 135,
    "start_time": "2025-01-21T16:40:30.135Z"
   },
   {
    "duration": 33,
    "start_time": "2025-01-21T16:40:30.271Z"
   },
   {
    "duration": 187,
    "start_time": "2025-01-21T16:40:30.306Z"
   },
   {
    "duration": 10,
    "start_time": "2025-01-21T16:40:30.495Z"
   },
   {
    "duration": 146,
    "start_time": "2025-01-21T16:40:30.506Z"
   },
   {
    "duration": 36,
    "start_time": "2025-01-21T16:40:30.657Z"
   },
   {
    "duration": 41,
    "start_time": "2025-01-21T16:40:30.694Z"
   },
   {
    "duration": 40,
    "start_time": "2025-01-21T16:40:30.736Z"
   },
   {
    "duration": 43,
    "start_time": "2025-01-21T16:40:30.778Z"
   },
   {
    "duration": 23,
    "start_time": "2025-01-21T16:40:30.822Z"
   },
   {
    "duration": 70,
    "start_time": "2025-01-21T16:40:30.846Z"
   },
   {
    "duration": 37,
    "start_time": "2025-01-21T16:40:30.917Z"
   },
   {
    "duration": 66,
    "start_time": "2025-01-21T16:40:30.956Z"
   },
   {
    "duration": 23,
    "start_time": "2025-01-21T16:40:31.023Z"
   },
   {
    "duration": 112,
    "start_time": "2025-01-21T16:40:31.047Z"
   },
   {
    "duration": 3863,
    "start_time": "2025-01-21T16:42:21.460Z"
   },
   {
    "duration": 32,
    "start_time": "2025-01-21T16:42:25.325Z"
   },
   {
    "duration": 92,
    "start_time": "2025-01-21T16:42:25.358Z"
   },
   {
    "duration": 941,
    "start_time": "2025-01-21T16:42:25.452Z"
   },
   {
    "duration": 182,
    "start_time": "2025-01-21T16:42:26.395Z"
   },
   {
    "duration": 216,
    "start_time": "2025-01-21T16:42:26.578Z"
   },
   {
    "duration": 66,
    "start_time": "2025-01-21T16:42:26.796Z"
   },
   {
    "duration": 85,
    "start_time": "2025-01-21T16:42:26.864Z"
   },
   {
    "duration": 292,
    "start_time": "2025-01-21T16:42:26.951Z"
   },
   {
    "duration": 7,
    "start_time": "2025-01-21T16:42:27.246Z"
   },
   {
    "duration": 24,
    "start_time": "2025-01-21T16:42:27.254Z"
   },
   {
    "duration": 18,
    "start_time": "2025-01-21T16:42:27.279Z"
   },
   {
    "duration": 10,
    "start_time": "2025-01-21T16:42:27.299Z"
   },
   {
    "duration": 516,
    "start_time": "2025-01-21T16:42:27.310Z"
   },
   {
    "duration": 0,
    "start_time": "2025-01-21T16:42:27.830Z"
   },
   {
    "duration": 0,
    "start_time": "2025-01-21T16:42:27.831Z"
   },
   {
    "duration": 0,
    "start_time": "2025-01-21T16:42:27.832Z"
   },
   {
    "duration": 0,
    "start_time": "2025-01-21T16:42:27.833Z"
   },
   {
    "duration": 0,
    "start_time": "2025-01-21T16:42:27.834Z"
   },
   {
    "duration": 0,
    "start_time": "2025-01-21T16:42:27.835Z"
   },
   {
    "duration": 0,
    "start_time": "2025-01-21T16:42:27.836Z"
   },
   {
    "duration": 0,
    "start_time": "2025-01-21T16:42:27.837Z"
   },
   {
    "duration": 0,
    "start_time": "2025-01-21T16:42:27.838Z"
   },
   {
    "duration": 0,
    "start_time": "2025-01-21T16:42:27.839Z"
   },
   {
    "duration": 0,
    "start_time": "2025-01-21T16:42:27.840Z"
   },
   {
    "duration": 0,
    "start_time": "2025-01-21T16:42:27.840Z"
   },
   {
    "duration": 0,
    "start_time": "2025-01-21T16:42:27.841Z"
   },
   {
    "duration": 0,
    "start_time": "2025-01-21T16:42:27.842Z"
   },
   {
    "duration": 0,
    "start_time": "2025-01-21T16:42:27.843Z"
   },
   {
    "duration": 0,
    "start_time": "2025-01-21T16:42:27.844Z"
   },
   {
    "duration": 0,
    "start_time": "2025-01-21T16:42:27.845Z"
   },
   {
    "duration": 0,
    "start_time": "2025-01-21T16:42:27.846Z"
   },
   {
    "duration": 0,
    "start_time": "2025-01-21T16:42:27.847Z"
   },
   {
    "duration": 0,
    "start_time": "2025-01-21T16:42:27.848Z"
   },
   {
    "duration": 0,
    "start_time": "2025-01-21T16:42:27.849Z"
   },
   {
    "duration": 0,
    "start_time": "2025-01-21T16:42:27.849Z"
   },
   {
    "duration": 0,
    "start_time": "2025-01-21T16:42:27.850Z"
   },
   {
    "duration": 0,
    "start_time": "2025-01-21T16:42:27.851Z"
   },
   {
    "duration": 0,
    "start_time": "2025-01-21T16:42:27.852Z"
   },
   {
    "duration": 0,
    "start_time": "2025-01-21T16:42:27.853Z"
   },
   {
    "duration": 0,
    "start_time": "2025-01-21T16:42:27.854Z"
   },
   {
    "duration": 0,
    "start_time": "2025-01-21T16:42:27.855Z"
   },
   {
    "duration": 0,
    "start_time": "2025-01-21T16:42:27.856Z"
   },
   {
    "duration": 0,
    "start_time": "2025-01-21T16:42:27.857Z"
   },
   {
    "duration": 0,
    "start_time": "2025-01-21T16:42:27.858Z"
   },
   {
    "duration": 0,
    "start_time": "2025-01-21T16:42:27.859Z"
   },
   {
    "duration": 0,
    "start_time": "2025-01-21T16:42:27.860Z"
   },
   {
    "duration": 0,
    "start_time": "2025-01-21T16:42:27.861Z"
   },
   {
    "duration": 0,
    "start_time": "2025-01-21T16:42:27.861Z"
   },
   {
    "duration": 0,
    "start_time": "2025-01-21T16:42:27.862Z"
   },
   {
    "duration": 0,
    "start_time": "2025-01-21T16:42:27.863Z"
   },
   {
    "duration": 0,
    "start_time": "2025-01-21T16:42:27.864Z"
   },
   {
    "duration": 0,
    "start_time": "2025-01-21T16:42:27.865Z"
   },
   {
    "duration": 0,
    "start_time": "2025-01-21T16:42:27.865Z"
   },
   {
    "duration": 0,
    "start_time": "2025-01-21T16:42:27.866Z"
   },
   {
    "duration": 0,
    "start_time": "2025-01-21T16:42:27.867Z"
   },
   {
    "duration": 0,
    "start_time": "2025-01-21T16:42:27.868Z"
   },
   {
    "duration": 0,
    "start_time": "2025-01-21T16:42:27.869Z"
   },
   {
    "duration": 0,
    "start_time": "2025-01-21T16:42:27.870Z"
   },
   {
    "duration": 0,
    "start_time": "2025-01-21T16:42:27.871Z"
   },
   {
    "duration": 0,
    "start_time": "2025-01-21T16:42:27.871Z"
   },
   {
    "duration": 0,
    "start_time": "2025-01-21T16:42:27.872Z"
   },
   {
    "duration": 0,
    "start_time": "2025-01-21T16:42:27.873Z"
   },
   {
    "duration": 0,
    "start_time": "2025-01-21T16:42:27.874Z"
   },
   {
    "duration": 0,
    "start_time": "2025-01-21T16:42:27.875Z"
   },
   {
    "duration": 0,
    "start_time": "2025-01-21T16:42:27.876Z"
   },
   {
    "duration": 0,
    "start_time": "2025-01-21T16:42:27.877Z"
   },
   {
    "duration": 0,
    "start_time": "2025-01-21T16:42:27.878Z"
   },
   {
    "duration": 0,
    "start_time": "2025-01-21T16:42:27.879Z"
   },
   {
    "duration": 0,
    "start_time": "2025-01-21T16:42:27.880Z"
   },
   {
    "duration": 0,
    "start_time": "2025-01-21T16:42:27.881Z"
   },
   {
    "duration": 0,
    "start_time": "2025-01-21T16:42:27.882Z"
   },
   {
    "duration": 0,
    "start_time": "2025-01-21T16:42:27.883Z"
   },
   {
    "duration": 0,
    "start_time": "2025-01-21T16:42:27.884Z"
   },
   {
    "duration": 0,
    "start_time": "2025-01-21T16:42:27.886Z"
   },
   {
    "duration": 0,
    "start_time": "2025-01-21T16:42:27.886Z"
   },
   {
    "duration": 0,
    "start_time": "2025-01-21T16:42:27.888Z"
   },
   {
    "duration": 0,
    "start_time": "2025-01-21T16:42:27.889Z"
   },
   {
    "duration": 0,
    "start_time": "2025-01-21T16:42:27.890Z"
   },
   {
    "duration": 0,
    "start_time": "2025-01-21T16:42:27.891Z"
   },
   {
    "duration": 0,
    "start_time": "2025-01-21T16:42:27.892Z"
   },
   {
    "duration": 0,
    "start_time": "2025-01-21T16:42:27.953Z"
   },
   {
    "duration": 0,
    "start_time": "2025-01-21T16:42:27.953Z"
   },
   {
    "duration": 0,
    "start_time": "2025-01-21T16:42:27.954Z"
   },
   {
    "duration": 0,
    "start_time": "2025-01-21T16:42:27.955Z"
   },
   {
    "duration": 0,
    "start_time": "2025-01-21T16:42:27.956Z"
   },
   {
    "duration": 0,
    "start_time": "2025-01-21T16:42:27.957Z"
   },
   {
    "duration": 0,
    "start_time": "2025-01-21T16:42:27.958Z"
   },
   {
    "duration": 0,
    "start_time": "2025-01-21T16:42:27.958Z"
   },
   {
    "duration": 0,
    "start_time": "2025-01-21T16:42:27.959Z"
   },
   {
    "duration": 0,
    "start_time": "2025-01-21T16:42:27.960Z"
   },
   {
    "duration": 0,
    "start_time": "2025-01-21T16:42:27.961Z"
   },
   {
    "duration": 0,
    "start_time": "2025-01-21T16:42:27.961Z"
   },
   {
    "duration": 0,
    "start_time": "2025-01-21T16:42:27.962Z"
   },
   {
    "duration": 0,
    "start_time": "2025-01-21T16:42:27.963Z"
   },
   {
    "duration": 0,
    "start_time": "2025-01-21T16:42:27.964Z"
   },
   {
    "duration": 0,
    "start_time": "2025-01-21T16:42:27.965Z"
   },
   {
    "duration": 0,
    "start_time": "2025-01-21T16:42:27.965Z"
   },
   {
    "duration": 0,
    "start_time": "2025-01-21T16:42:27.966Z"
   },
   {
    "duration": 0,
    "start_time": "2025-01-21T16:42:27.967Z"
   },
   {
    "duration": 0,
    "start_time": "2025-01-21T16:42:27.967Z"
   },
   {
    "duration": 0,
    "start_time": "2025-01-21T16:42:27.968Z"
   },
   {
    "duration": 0,
    "start_time": "2025-01-21T16:42:27.969Z"
   },
   {
    "duration": 5,
    "start_time": "2025-01-21T16:43:28.028Z"
   },
   {
    "duration": 2083,
    "start_time": "2025-01-21T16:43:48.181Z"
   },
   {
    "duration": 2137,
    "start_time": "2025-01-21T16:44:01.244Z"
   },
   {
    "duration": 3758,
    "start_time": "2025-01-21T16:45:11.029Z"
   },
   {
    "duration": 33,
    "start_time": "2025-01-21T16:45:14.789Z"
   },
   {
    "duration": 76,
    "start_time": "2025-01-21T16:45:14.824Z"
   },
   {
    "duration": 1083,
    "start_time": "2025-01-21T16:45:14.902Z"
   },
   {
    "duration": 193,
    "start_time": "2025-01-21T16:45:15.986Z"
   },
   {
    "duration": 335,
    "start_time": "2025-01-21T16:45:16.180Z"
   },
   {
    "duration": 108,
    "start_time": "2025-01-21T16:45:16.517Z"
   },
   {
    "duration": 138,
    "start_time": "2025-01-21T16:45:16.627Z"
   },
   {
    "duration": 306,
    "start_time": "2025-01-21T16:45:16.767Z"
   },
   {
    "duration": 4,
    "start_time": "2025-01-21T16:45:17.076Z"
   },
   {
    "duration": 10,
    "start_time": "2025-01-21T16:45:17.081Z"
   },
   {
    "duration": 7,
    "start_time": "2025-01-21T16:45:17.092Z"
   },
   {
    "duration": 5,
    "start_time": "2025-01-21T16:45:17.101Z"
   },
   {
    "duration": 5,
    "start_time": "2025-01-21T16:45:17.107Z"
   },
   {
    "duration": 2105,
    "start_time": "2025-01-21T16:45:17.113Z"
   },
   {
    "duration": 3,
    "start_time": "2025-01-21T16:45:19.219Z"
   },
   {
    "duration": 20,
    "start_time": "2025-01-21T16:45:19.223Z"
   },
   {
    "duration": 27,
    "start_time": "2025-01-21T16:45:19.244Z"
   },
   {
    "duration": 35,
    "start_time": "2025-01-21T16:45:19.272Z"
   },
   {
    "duration": 13,
    "start_time": "2025-01-21T16:45:19.308Z"
   },
   {
    "duration": 24,
    "start_time": "2025-01-21T16:45:19.322Z"
   },
   {
    "duration": 20,
    "start_time": "2025-01-21T16:45:19.347Z"
   },
   {
    "duration": 6,
    "start_time": "2025-01-21T16:45:19.369Z"
   },
   {
    "duration": 97,
    "start_time": "2025-01-21T16:45:19.376Z"
   },
   {
    "duration": 152,
    "start_time": "2025-01-21T16:45:19.475Z"
   },
   {
    "duration": 346,
    "start_time": "2025-01-21T16:45:19.628Z"
   },
   {
    "duration": 20,
    "start_time": "2025-01-21T16:45:19.975Z"
   },
   {
    "duration": 46,
    "start_time": "2025-01-21T16:45:20.000Z"
   },
   {
    "duration": 67,
    "start_time": "2025-01-21T16:45:20.047Z"
   },
   {
    "duration": 17,
    "start_time": "2025-01-21T16:45:20.115Z"
   },
   {
    "duration": 24,
    "start_time": "2025-01-21T16:45:20.134Z"
   },
   {
    "duration": 69,
    "start_time": "2025-01-21T16:45:20.160Z"
   },
   {
    "duration": 36,
    "start_time": "2025-01-21T16:45:20.231Z"
   },
   {
    "duration": 76,
    "start_time": "2025-01-21T16:45:20.268Z"
   },
   {
    "duration": 32,
    "start_time": "2025-01-21T16:45:20.346Z"
   },
   {
    "duration": 17,
    "start_time": "2025-01-21T16:45:20.379Z"
   },
   {
    "duration": 36,
    "start_time": "2025-01-21T16:45:20.397Z"
   },
   {
    "duration": 39,
    "start_time": "2025-01-21T16:45:20.435Z"
   },
   {
    "duration": 32,
    "start_time": "2025-01-21T16:45:20.475Z"
   },
   {
    "duration": 45,
    "start_time": "2025-01-21T16:45:20.509Z"
   },
   {
    "duration": 129,
    "start_time": "2025-01-21T16:45:20.555Z"
   },
   {
    "duration": 3,
    "start_time": "2025-01-21T16:45:20.686Z"
   },
   {
    "duration": 31,
    "start_time": "2025-01-21T16:45:20.691Z"
   },
   {
    "duration": 43,
    "start_time": "2025-01-21T16:45:20.724Z"
   },
   {
    "duration": 5,
    "start_time": "2025-01-21T16:45:20.769Z"
   },
   {
    "duration": 62,
    "start_time": "2025-01-21T16:45:20.775Z"
   },
   {
    "duration": 92,
    "start_time": "2025-01-21T16:45:20.838Z"
   },
   {
    "duration": 89,
    "start_time": "2025-01-21T16:45:20.932Z"
   },
   {
    "duration": 7,
    "start_time": "2025-01-21T16:45:21.022Z"
   },
   {
    "duration": 45,
    "start_time": "2025-01-21T16:45:21.030Z"
   },
   {
    "duration": 22,
    "start_time": "2025-01-21T16:45:21.076Z"
   },
   {
    "duration": 33,
    "start_time": "2025-01-21T16:45:21.100Z"
   },
   {
    "duration": 30,
    "start_time": "2025-01-21T16:45:21.134Z"
   },
   {
    "duration": 36,
    "start_time": "2025-01-21T16:45:21.166Z"
   },
   {
    "duration": 70,
    "start_time": "2025-01-21T16:45:21.204Z"
   },
   {
    "duration": 25,
    "start_time": "2025-01-21T16:45:21.275Z"
   },
   {
    "duration": 74,
    "start_time": "2025-01-21T16:45:21.301Z"
   },
   {
    "duration": 52,
    "start_time": "2025-01-21T16:45:21.376Z"
   },
   {
    "duration": 31,
    "start_time": "2025-01-21T16:45:21.429Z"
   },
   {
    "duration": 41,
    "start_time": "2025-01-21T16:45:21.461Z"
   },
   {
    "duration": 6,
    "start_time": "2025-01-21T16:45:21.503Z"
   },
   {
    "duration": 45,
    "start_time": "2025-01-21T16:45:21.510Z"
   },
   {
    "duration": 21,
    "start_time": "2025-01-21T16:45:21.556Z"
   },
   {
    "duration": 44,
    "start_time": "2025-01-21T16:45:21.578Z"
   },
   {
    "duration": 26,
    "start_time": "2025-01-21T16:45:21.624Z"
   },
   {
    "duration": 57,
    "start_time": "2025-01-21T16:45:21.652Z"
   },
   {
    "duration": 8,
    "start_time": "2025-01-21T16:45:21.711Z"
   },
   {
    "duration": 74,
    "start_time": "2025-01-21T16:45:21.720Z"
   },
   {
    "duration": 18,
    "start_time": "2025-01-21T16:45:21.795Z"
   },
   {
    "duration": 40,
    "start_time": "2025-01-21T16:45:21.815Z"
   },
   {
    "duration": 176,
    "start_time": "2025-01-21T16:45:21.857Z"
   },
   {
    "duration": 39,
    "start_time": "2025-01-21T16:45:22.035Z"
   },
   {
    "duration": 446,
    "start_time": "2025-01-21T16:45:22.075Z"
   },
   {
    "duration": 84,
    "start_time": "2025-01-21T16:45:22.523Z"
   },
   {
    "duration": 68,
    "start_time": "2025-01-21T16:45:22.608Z"
   },
   {
    "duration": 186,
    "start_time": "2025-01-21T16:45:22.678Z"
   },
   {
    "duration": 37,
    "start_time": "2025-01-21T16:45:22.866Z"
   },
   {
    "duration": 98,
    "start_time": "2025-01-21T16:45:22.905Z"
   },
   {
    "duration": 33,
    "start_time": "2025-01-21T16:45:23.005Z"
   },
   {
    "duration": 157,
    "start_time": "2025-01-21T16:45:23.039Z"
   },
   {
    "duration": 11,
    "start_time": "2025-01-21T16:45:23.198Z"
   },
   {
    "duration": 101,
    "start_time": "2025-01-21T16:45:23.214Z"
   },
   {
    "duration": 39,
    "start_time": "2025-01-21T16:45:23.317Z"
   },
   {
    "duration": 25,
    "start_time": "2025-01-21T16:45:23.358Z"
   },
   {
    "duration": 32,
    "start_time": "2025-01-21T16:45:23.385Z"
   },
   {
    "duration": 5,
    "start_time": "2025-01-21T16:45:23.418Z"
   },
   {
    "duration": 33,
    "start_time": "2025-01-21T16:45:23.425Z"
   },
   {
    "duration": 53,
    "start_time": "2025-01-21T16:45:23.459Z"
   },
   {
    "duration": 28,
    "start_time": "2025-01-21T16:45:23.514Z"
   },
   {
    "duration": 10,
    "start_time": "2025-01-21T16:45:23.552Z"
   },
   {
    "duration": 10,
    "start_time": "2025-01-21T16:45:23.563Z"
   },
   {
    "duration": 91,
    "start_time": "2025-01-21T16:45:23.575Z"
   },
   {
    "duration": 2285,
    "start_time": "2025-01-21T16:45:23.668Z"
   },
   {
    "duration": 98,
    "start_time": "2025-01-21T16:45:25.955Z"
   },
   {
    "duration": 128,
    "start_time": "2025-01-21T16:45:26.054Z"
   },
   {
    "duration": 35,
    "start_time": "2025-01-21T16:45:26.184Z"
   },
   {
    "duration": 114,
    "start_time": "2025-01-21T16:45:26.220Z"
   },
   {
    "duration": 178,
    "start_time": "2025-01-21T16:45:26.335Z"
   },
   {
    "duration": 115,
    "start_time": "2025-01-21T16:45:26.515Z"
   },
   {
    "duration": 0,
    "start_time": "2025-01-21T16:45:26.631Z"
   },
   {
    "duration": 0,
    "start_time": "2025-01-21T16:45:26.632Z"
   },
   {
    "duration": 0,
    "start_time": "2025-01-21T16:45:26.633Z"
   },
   {
    "duration": 0,
    "start_time": "2025-01-21T16:45:26.633Z"
   },
   {
    "duration": 99,
    "start_time": "2025-01-21T16:53:08.989Z"
   },
   {
    "duration": 122,
    "start_time": "2025-01-21T16:53:22.053Z"
   },
   {
    "duration": 3,
    "start_time": "2025-01-21T16:58:31.439Z"
   },
   {
    "duration": 13,
    "start_time": "2025-01-21T16:58:32.456Z"
   },
   {
    "duration": 12,
    "start_time": "2025-01-21T16:59:18.487Z"
   },
   {
    "duration": 53,
    "start_time": "2025-01-21T16:59:39.897Z"
   },
   {
    "duration": 24,
    "start_time": "2025-01-21T16:59:40.615Z"
   },
   {
    "duration": 73,
    "start_time": "2025-01-21T17:03:55.966Z"
   },
   {
    "duration": 11,
    "start_time": "2025-01-21T17:04:22.967Z"
   },
   {
    "duration": 9,
    "start_time": "2025-01-21T17:04:40.936Z"
   },
   {
    "duration": 201,
    "start_time": "2025-01-21T17:04:56.501Z"
   },
   {
    "duration": 205,
    "start_time": "2025-01-21T17:05:04.664Z"
   },
   {
    "duration": 71,
    "start_time": "2025-01-21T17:06:19.139Z"
   },
   {
    "duration": 423,
    "start_time": "2025-01-21T17:07:23.975Z"
   },
   {
    "duration": 67,
    "start_time": "2025-01-21T17:07:27.414Z"
   },
   {
    "duration": 649,
    "start_time": "2025-01-21T17:07:39.696Z"
   },
   {
    "duration": 436,
    "start_time": "2025-01-21T17:08:06.007Z"
   },
   {
    "duration": 206,
    "start_time": "2025-01-21T17:08:20.256Z"
   },
   {
    "duration": 420,
    "start_time": "2025-01-21T17:08:22.087Z"
   },
   {
    "duration": 235,
    "start_time": "2025-01-21T17:11:14.221Z"
   },
   {
    "duration": 404,
    "start_time": "2025-01-21T17:11:33.151Z"
   },
   {
    "duration": 92,
    "start_time": "2025-01-21T17:11:57.856Z"
   },
   {
    "duration": 36,
    "start_time": "2025-01-21T17:13:15.723Z"
   },
   {
    "duration": 3774,
    "start_time": "2025-01-21T17:13:24.949Z"
   },
   {
    "duration": 35,
    "start_time": "2025-01-21T17:13:28.725Z"
   },
   {
    "duration": 68,
    "start_time": "2025-01-21T17:13:28.762Z"
   },
   {
    "duration": 896,
    "start_time": "2025-01-21T17:13:28.832Z"
   },
   {
    "duration": 216,
    "start_time": "2025-01-21T17:13:29.729Z"
   },
   {
    "duration": 459,
    "start_time": "2025-01-21T17:13:29.946Z"
   },
   {
    "duration": 80,
    "start_time": "2025-01-21T17:13:30.407Z"
   },
   {
    "duration": 85,
    "start_time": "2025-01-21T17:13:30.488Z"
   },
   {
    "duration": 318,
    "start_time": "2025-01-21T17:13:30.574Z"
   },
   {
    "duration": 4,
    "start_time": "2025-01-21T17:13:30.895Z"
   },
   {
    "duration": 43,
    "start_time": "2025-01-21T17:13:30.901Z"
   },
   {
    "duration": 25,
    "start_time": "2025-01-21T17:13:30.945Z"
   },
   {
    "duration": 36,
    "start_time": "2025-01-21T17:13:30.972Z"
   },
   {
    "duration": 17,
    "start_time": "2025-01-21T17:13:31.010Z"
   },
   {
    "duration": 2136,
    "start_time": "2025-01-21T17:13:31.029Z"
   },
   {
    "duration": 4,
    "start_time": "2025-01-21T17:13:33.166Z"
   },
   {
    "duration": 20,
    "start_time": "2025-01-21T17:13:33.171Z"
   },
   {
    "duration": 14,
    "start_time": "2025-01-21T17:13:33.193Z"
   },
   {
    "duration": 5,
    "start_time": "2025-01-21T17:13:33.208Z"
   },
   {
    "duration": 5,
    "start_time": "2025-01-21T17:13:33.214Z"
   },
   {
    "duration": 11,
    "start_time": "2025-01-21T17:13:33.220Z"
   },
   {
    "duration": 23,
    "start_time": "2025-01-21T17:13:33.233Z"
   },
   {
    "duration": 8,
    "start_time": "2025-01-21T17:13:33.257Z"
   },
   {
    "duration": 106,
    "start_time": "2025-01-21T17:13:33.267Z"
   },
   {
    "duration": 156,
    "start_time": "2025-01-21T17:13:33.374Z"
   },
   {
    "duration": 377,
    "start_time": "2025-01-21T17:13:33.532Z"
   },
   {
    "duration": 42,
    "start_time": "2025-01-21T17:13:33.911Z"
   },
   {
    "duration": 12,
    "start_time": "2025-01-21T17:13:33.957Z"
   },
   {
    "duration": 45,
    "start_time": "2025-01-21T17:13:33.971Z"
   },
   {
    "duration": 37,
    "start_time": "2025-01-21T17:13:34.018Z"
   },
   {
    "duration": 10,
    "start_time": "2025-01-21T17:13:34.057Z"
   },
   {
    "duration": 38,
    "start_time": "2025-01-21T17:13:34.068Z"
   },
   {
    "duration": 12,
    "start_time": "2025-01-21T17:13:34.108Z"
   },
   {
    "duration": 39,
    "start_time": "2025-01-21T17:13:34.122Z"
   },
   {
    "duration": 12,
    "start_time": "2025-01-21T17:13:34.162Z"
   },
   {
    "duration": 9,
    "start_time": "2025-01-21T17:13:34.176Z"
   },
   {
    "duration": 25,
    "start_time": "2025-01-21T17:13:34.187Z"
   },
   {
    "duration": 12,
    "start_time": "2025-01-21T17:13:34.214Z"
   },
   {
    "duration": 46,
    "start_time": "2025-01-21T17:13:34.228Z"
   },
   {
    "duration": 25,
    "start_time": "2025-01-21T17:13:34.275Z"
   },
   {
    "duration": 137,
    "start_time": "2025-01-21T17:13:34.302Z"
   },
   {
    "duration": 12,
    "start_time": "2025-01-21T17:13:34.441Z"
   },
   {
    "duration": 6,
    "start_time": "2025-01-21T17:13:34.455Z"
   },
   {
    "duration": 10,
    "start_time": "2025-01-21T17:13:34.462Z"
   },
   {
    "duration": 10,
    "start_time": "2025-01-21T17:13:34.473Z"
   },
   {
    "duration": 53,
    "start_time": "2025-01-21T17:13:34.484Z"
   },
   {
    "duration": 90,
    "start_time": "2025-01-21T17:13:34.552Z"
   },
   {
    "duration": 87,
    "start_time": "2025-01-21T17:13:34.652Z"
   },
   {
    "duration": 14,
    "start_time": "2025-01-21T17:13:34.740Z"
   },
   {
    "duration": 42,
    "start_time": "2025-01-21T17:13:34.756Z"
   },
   {
    "duration": 39,
    "start_time": "2025-01-21T17:13:34.800Z"
   },
   {
    "duration": 23,
    "start_time": "2025-01-21T17:13:34.841Z"
   },
   {
    "duration": 25,
    "start_time": "2025-01-21T17:13:34.865Z"
   },
   {
    "duration": 19,
    "start_time": "2025-01-21T17:13:34.891Z"
   },
   {
    "duration": 16,
    "start_time": "2025-01-21T17:13:34.911Z"
   },
   {
    "duration": 9,
    "start_time": "2025-01-21T17:13:34.929Z"
   },
   {
    "duration": 43,
    "start_time": "2025-01-21T17:13:34.940Z"
   },
   {
    "duration": 16,
    "start_time": "2025-01-21T17:13:34.985Z"
   },
   {
    "duration": 19,
    "start_time": "2025-01-21T17:13:35.003Z"
   },
   {
    "duration": 12,
    "start_time": "2025-01-21T17:13:35.023Z"
   },
   {
    "duration": 13,
    "start_time": "2025-01-21T17:13:35.036Z"
   },
   {
    "duration": 28,
    "start_time": "2025-01-21T17:13:35.050Z"
   },
   {
    "duration": 23,
    "start_time": "2025-01-21T17:13:35.079Z"
   },
   {
    "duration": 36,
    "start_time": "2025-01-21T17:13:35.104Z"
   },
   {
    "duration": 29,
    "start_time": "2025-01-21T17:13:35.142Z"
   },
   {
    "duration": 34,
    "start_time": "2025-01-21T17:13:35.172Z"
   },
   {
    "duration": 13,
    "start_time": "2025-01-21T17:13:35.207Z"
   },
   {
    "duration": 57,
    "start_time": "2025-01-21T17:13:35.221Z"
   },
   {
    "duration": 18,
    "start_time": "2025-01-21T17:13:35.280Z"
   },
   {
    "duration": 12,
    "start_time": "2025-01-21T17:13:35.299Z"
   },
   {
    "duration": 107,
    "start_time": "2025-01-21T17:13:35.313Z"
   },
   {
    "duration": 31,
    "start_time": "2025-01-21T17:13:35.422Z"
   },
   {
    "duration": 462,
    "start_time": "2025-01-21T17:13:35.455Z"
   },
   {
    "duration": 83,
    "start_time": "2025-01-21T17:13:35.919Z"
   },
   {
    "duration": 50,
    "start_time": "2025-01-21T17:13:36.003Z"
   },
   {
    "duration": 185,
    "start_time": "2025-01-21T17:13:36.055Z"
   },
   {
    "duration": 43,
    "start_time": "2025-01-21T17:13:36.241Z"
   },
   {
    "duration": 98,
    "start_time": "2025-01-21T17:13:36.286Z"
   },
   {
    "duration": 34,
    "start_time": "2025-01-21T17:13:36.386Z"
   },
   {
    "duration": 157,
    "start_time": "2025-01-21T17:13:36.422Z"
   },
   {
    "duration": 11,
    "start_time": "2025-01-21T17:13:36.581Z"
   },
   {
    "duration": 116,
    "start_time": "2025-01-21T17:13:36.597Z"
   },
   {
    "duration": 42,
    "start_time": "2025-01-21T17:13:36.715Z"
   },
   {
    "duration": 25,
    "start_time": "2025-01-21T17:13:36.758Z"
   },
   {
    "duration": 39,
    "start_time": "2025-01-21T17:13:36.784Z"
   },
   {
    "duration": 6,
    "start_time": "2025-01-21T17:13:36.824Z"
   },
   {
    "duration": 27,
    "start_time": "2025-01-21T17:13:36.831Z"
   },
   {
    "duration": 101,
    "start_time": "2025-01-21T17:13:36.859Z"
   },
   {
    "duration": 50,
    "start_time": "2025-01-21T17:13:36.961Z"
   },
   {
    "duration": 65,
    "start_time": "2025-01-21T17:13:37.012Z"
   },
   {
    "duration": 53,
    "start_time": "2025-01-21T17:13:37.079Z"
   },
   {
    "duration": 100,
    "start_time": "2025-01-21T17:13:37.133Z"
   },
   {
    "duration": 87,
    "start_time": "2025-01-21T17:13:37.235Z"
   },
   {
    "duration": 68,
    "start_time": "2025-01-21T17:13:37.323Z"
   },
   {
    "duration": 73,
    "start_time": "2025-01-21T17:13:37.393Z"
   },
   {
    "duration": 226,
    "start_time": "2025-01-21T17:13:37.468Z"
   },
   {
    "duration": 398,
    "start_time": "2025-01-21T17:13:37.695Z"
   },
   {
    "duration": 66,
    "start_time": "2025-01-21T17:13:38.094Z"
   },
   {
    "duration": 18,
    "start_time": "2025-01-21T17:13:38.162Z"
   },
   {
    "duration": 39,
    "start_time": "2025-01-21T17:13:38.182Z"
   },
   {
    "duration": 32,
    "start_time": "2025-01-21T17:13:38.222Z"
   },
   {
    "duration": 43,
    "start_time": "2025-01-21T17:13:38.255Z"
   },
   {
    "duration": 244,
    "start_time": "2025-01-21T17:13:38.299Z"
   },
   {
    "duration": 0,
    "start_time": "2025-01-21T17:13:38.553Z"
   },
   {
    "duration": 1,
    "start_time": "2025-01-21T17:13:38.553Z"
   },
   {
    "duration": 0,
    "start_time": "2025-01-21T17:13:38.555Z"
   },
   {
    "duration": 0,
    "start_time": "2025-01-21T17:13:38.556Z"
   },
   {
    "duration": 0,
    "start_time": "2025-01-21T17:13:38.557Z"
   },
   {
    "duration": 1522,
    "start_time": "2025-01-21T17:15:04.562Z"
   },
   {
    "duration": 82,
    "start_time": "2025-01-21T17:16:11.002Z"
   },
   {
    "duration": 164,
    "start_time": "2025-01-21T17:17:23.624Z"
   },
   {
    "duration": 165,
    "start_time": "2025-01-21T17:18:00.679Z"
   },
   {
    "duration": 12,
    "start_time": "2025-01-21T17:18:05.544Z"
   },
   {
    "duration": 684,
    "start_time": "2025-01-21T17:18:43.595Z"
   },
   {
    "duration": 47,
    "start_time": "2025-01-21T17:18:48.741Z"
   },
   {
    "duration": 8,
    "start_time": "2025-01-21T17:18:49.829Z"
   },
   {
    "duration": 97,
    "start_time": "2025-01-21T17:19:56.068Z"
   },
   {
    "duration": 108,
    "start_time": "2025-01-21T17:25:40.435Z"
   },
   {
    "duration": 111,
    "start_time": "2025-01-21T17:25:51.156Z"
   },
   {
    "duration": 98,
    "start_time": "2025-01-21T17:26:16.546Z"
   },
   {
    "duration": 1408,
    "start_time": "2025-01-21T17:30:20.524Z"
   },
   {
    "duration": 0,
    "start_time": "2025-01-21T17:30:21.933Z"
   },
   {
    "duration": 1413,
    "start_time": "2025-01-21T17:30:34.629Z"
   },
   {
    "duration": 139,
    "start_time": "2025-01-21T17:31:10.765Z"
   },
   {
    "duration": 91,
    "start_time": "2025-01-21T17:31:52.248Z"
   },
   {
    "duration": 105,
    "start_time": "2025-01-21T17:32:15.765Z"
   },
   {
    "duration": 1378,
    "start_time": "2025-01-21T17:32:23.529Z"
   },
   {
    "duration": 35,
    "start_time": "2025-01-21T17:32:37.255Z"
   },
   {
    "duration": 14,
    "start_time": "2025-01-21T17:51:51.262Z"
   },
   {
    "duration": 12,
    "start_time": "2025-01-21T18:01:27.803Z"
   },
   {
    "duration": 12,
    "start_time": "2025-01-21T18:02:01.531Z"
   },
   {
    "duration": 9,
    "start_time": "2025-01-21T18:02:31.776Z"
   },
   {
    "duration": 9,
    "start_time": "2025-01-21T18:02:46.079Z"
   },
   {
    "duration": 9,
    "start_time": "2025-01-21T18:03:21.050Z"
   },
   {
    "duration": 3,
    "start_time": "2025-01-21T18:03:43.408Z"
   },
   {
    "duration": 3,
    "start_time": "2025-01-21T18:04:08.886Z"
   },
   {
    "duration": 14,
    "start_time": "2025-01-21T18:04:23.812Z"
   },
   {
    "duration": 358,
    "start_time": "2025-01-21T18:05:31.696Z"
   },
   {
    "duration": 436,
    "start_time": "2025-01-21T18:05:58.041Z"
   },
   {
    "duration": 16,
    "start_time": "2025-01-21T18:07:43.628Z"
   },
   {
    "duration": 81,
    "start_time": "2025-01-21T18:12:53.145Z"
   },
   {
    "duration": 4,
    "start_time": "2025-01-21T18:12:54.414Z"
   },
   {
    "duration": 3794,
    "start_time": "2025-01-21T18:13:14.925Z"
   },
   {
    "duration": 33,
    "start_time": "2025-01-21T18:13:18.721Z"
   },
   {
    "duration": 124,
    "start_time": "2025-01-21T18:13:18.755Z"
   },
   {
    "duration": 1283,
    "start_time": "2025-01-21T18:13:18.882Z"
   },
   {
    "duration": 203,
    "start_time": "2025-01-21T18:13:20.167Z"
   },
   {
    "duration": 190,
    "start_time": "2025-01-21T18:13:20.372Z"
   },
   {
    "duration": 107,
    "start_time": "2025-01-21T18:13:20.564Z"
   },
   {
    "duration": 167,
    "start_time": "2025-01-21T18:13:20.673Z"
   },
   {
    "duration": 334,
    "start_time": "2025-01-21T18:13:20.842Z"
   },
   {
    "duration": 5,
    "start_time": "2025-01-21T18:13:21.178Z"
   },
   {
    "duration": 9,
    "start_time": "2025-01-21T18:13:21.184Z"
   },
   {
    "duration": 9,
    "start_time": "2025-01-21T18:13:21.194Z"
   },
   {
    "duration": 17,
    "start_time": "2025-01-21T18:13:21.204Z"
   },
   {
    "duration": 15,
    "start_time": "2025-01-21T18:13:21.223Z"
   },
   {
    "duration": 2136,
    "start_time": "2025-01-21T18:13:21.239Z"
   },
   {
    "duration": 116,
    "start_time": "2025-01-21T18:13:23.376Z"
   },
   {
    "duration": 0,
    "start_time": "2025-01-21T18:13:23.496Z"
   },
   {
    "duration": 0,
    "start_time": "2025-01-21T18:13:23.497Z"
   },
   {
    "duration": 0,
    "start_time": "2025-01-21T18:13:23.498Z"
   },
   {
    "duration": 0,
    "start_time": "2025-01-21T18:13:23.499Z"
   },
   {
    "duration": 0,
    "start_time": "2025-01-21T18:13:23.500Z"
   },
   {
    "duration": 0,
    "start_time": "2025-01-21T18:13:23.501Z"
   },
   {
    "duration": 0,
    "start_time": "2025-01-21T18:13:23.502Z"
   },
   {
    "duration": 0,
    "start_time": "2025-01-21T18:13:23.503Z"
   },
   {
    "duration": 0,
    "start_time": "2025-01-21T18:13:23.504Z"
   },
   {
    "duration": 0,
    "start_time": "2025-01-21T18:13:23.505Z"
   },
   {
    "duration": 0,
    "start_time": "2025-01-21T18:13:23.506Z"
   },
   {
    "duration": 0,
    "start_time": "2025-01-21T18:13:23.507Z"
   },
   {
    "duration": 0,
    "start_time": "2025-01-21T18:13:23.508Z"
   },
   {
    "duration": 0,
    "start_time": "2025-01-21T18:13:23.509Z"
   },
   {
    "duration": 0,
    "start_time": "2025-01-21T18:13:23.510Z"
   },
   {
    "duration": 0,
    "start_time": "2025-01-21T18:13:23.511Z"
   },
   {
    "duration": 0,
    "start_time": "2025-01-21T18:13:23.512Z"
   },
   {
    "duration": 0,
    "start_time": "2025-01-21T18:13:23.513Z"
   },
   {
    "duration": 0,
    "start_time": "2025-01-21T18:13:23.514Z"
   },
   {
    "duration": 0,
    "start_time": "2025-01-21T18:13:23.515Z"
   },
   {
    "duration": 0,
    "start_time": "2025-01-21T18:13:23.516Z"
   },
   {
    "duration": 0,
    "start_time": "2025-01-21T18:13:23.516Z"
   },
   {
    "duration": 0,
    "start_time": "2025-01-21T18:13:23.553Z"
   },
   {
    "duration": 0,
    "start_time": "2025-01-21T18:13:23.554Z"
   },
   {
    "duration": 0,
    "start_time": "2025-01-21T18:13:23.555Z"
   },
   {
    "duration": 0,
    "start_time": "2025-01-21T18:13:23.555Z"
   },
   {
    "duration": 0,
    "start_time": "2025-01-21T18:13:23.557Z"
   },
   {
    "duration": 0,
    "start_time": "2025-01-21T18:13:23.557Z"
   },
   {
    "duration": 0,
    "start_time": "2025-01-21T18:13:23.560Z"
   },
   {
    "duration": 0,
    "start_time": "2025-01-21T18:13:23.561Z"
   },
   {
    "duration": 0,
    "start_time": "2025-01-21T18:13:23.562Z"
   },
   {
    "duration": 0,
    "start_time": "2025-01-21T18:13:23.563Z"
   },
   {
    "duration": 0,
    "start_time": "2025-01-21T18:13:23.564Z"
   },
   {
    "duration": 0,
    "start_time": "2025-01-21T18:13:23.565Z"
   },
   {
    "duration": 0,
    "start_time": "2025-01-21T18:13:23.566Z"
   },
   {
    "duration": 0,
    "start_time": "2025-01-21T18:13:23.568Z"
   },
   {
    "duration": 0,
    "start_time": "2025-01-21T18:13:23.569Z"
   },
   {
    "duration": 0,
    "start_time": "2025-01-21T18:13:23.570Z"
   },
   {
    "duration": 0,
    "start_time": "2025-01-21T18:13:23.571Z"
   },
   {
    "duration": 0,
    "start_time": "2025-01-21T18:13:23.572Z"
   },
   {
    "duration": 0,
    "start_time": "2025-01-21T18:13:23.573Z"
   },
   {
    "duration": 0,
    "start_time": "2025-01-21T18:13:23.574Z"
   },
   {
    "duration": 0,
    "start_time": "2025-01-21T18:13:23.575Z"
   },
   {
    "duration": 0,
    "start_time": "2025-01-21T18:13:23.576Z"
   },
   {
    "duration": 0,
    "start_time": "2025-01-21T18:13:23.577Z"
   },
   {
    "duration": 0,
    "start_time": "2025-01-21T18:13:23.579Z"
   },
   {
    "duration": 0,
    "start_time": "2025-01-21T18:13:23.579Z"
   },
   {
    "duration": 0,
    "start_time": "2025-01-21T18:13:23.580Z"
   },
   {
    "duration": 0,
    "start_time": "2025-01-21T18:13:23.582Z"
   },
   {
    "duration": 0,
    "start_time": "2025-01-21T18:13:23.583Z"
   },
   {
    "duration": 0,
    "start_time": "2025-01-21T18:13:23.584Z"
   },
   {
    "duration": 0,
    "start_time": "2025-01-21T18:13:23.585Z"
   },
   {
    "duration": 0,
    "start_time": "2025-01-21T18:13:23.586Z"
   },
   {
    "duration": 0,
    "start_time": "2025-01-21T18:13:23.587Z"
   },
   {
    "duration": 0,
    "start_time": "2025-01-21T18:13:23.587Z"
   },
   {
    "duration": 0,
    "start_time": "2025-01-21T18:13:23.589Z"
   },
   {
    "duration": 0,
    "start_time": "2025-01-21T18:13:23.590Z"
   },
   {
    "duration": 0,
    "start_time": "2025-01-21T18:13:23.653Z"
   },
   {
    "duration": 0,
    "start_time": "2025-01-21T18:13:23.654Z"
   },
   {
    "duration": 0,
    "start_time": "2025-01-21T18:13:23.655Z"
   },
   {
    "duration": 0,
    "start_time": "2025-01-21T18:13:23.656Z"
   },
   {
    "duration": 0,
    "start_time": "2025-01-21T18:13:23.656Z"
   },
   {
    "duration": 0,
    "start_time": "2025-01-21T18:13:23.658Z"
   },
   {
    "duration": 0,
    "start_time": "2025-01-21T18:13:23.658Z"
   },
   {
    "duration": 0,
    "start_time": "2025-01-21T18:13:23.659Z"
   },
   {
    "duration": 0,
    "start_time": "2025-01-21T18:13:23.660Z"
   },
   {
    "duration": 0,
    "start_time": "2025-01-21T18:13:23.661Z"
   },
   {
    "duration": 0,
    "start_time": "2025-01-21T18:13:23.661Z"
   },
   {
    "duration": 0,
    "start_time": "2025-01-21T18:13:23.662Z"
   },
   {
    "duration": 0,
    "start_time": "2025-01-21T18:13:23.663Z"
   },
   {
    "duration": 0,
    "start_time": "2025-01-21T18:13:23.663Z"
   },
   {
    "duration": 0,
    "start_time": "2025-01-21T18:13:23.664Z"
   },
   {
    "duration": 0,
    "start_time": "2025-01-21T18:13:23.665Z"
   },
   {
    "duration": 0,
    "start_time": "2025-01-21T18:13:23.665Z"
   },
   {
    "duration": 0,
    "start_time": "2025-01-21T18:13:23.666Z"
   },
   {
    "duration": 0,
    "start_time": "2025-01-21T18:13:23.667Z"
   },
   {
    "duration": 0,
    "start_time": "2025-01-21T18:13:23.668Z"
   },
   {
    "duration": 0,
    "start_time": "2025-01-21T18:13:23.668Z"
   },
   {
    "duration": 0,
    "start_time": "2025-01-21T18:13:23.669Z"
   },
   {
    "duration": 0,
    "start_time": "2025-01-21T18:13:23.670Z"
   },
   {
    "duration": 0,
    "start_time": "2025-01-21T18:13:23.671Z"
   },
   {
    "duration": 0,
    "start_time": "2025-01-21T18:13:23.672Z"
   },
   {
    "duration": 0,
    "start_time": "2025-01-21T18:13:23.673Z"
   },
   {
    "duration": 0,
    "start_time": "2025-01-21T18:13:23.674Z"
   },
   {
    "duration": 0,
    "start_time": "2025-01-21T18:13:23.675Z"
   },
   {
    "duration": 0,
    "start_time": "2025-01-21T18:13:23.676Z"
   },
   {
    "duration": 0,
    "start_time": "2025-01-21T18:13:23.677Z"
   },
   {
    "duration": 0,
    "start_time": "2025-01-21T18:13:23.678Z"
   },
   {
    "duration": 0,
    "start_time": "2025-01-21T18:13:23.679Z"
   },
   {
    "duration": 0,
    "start_time": "2025-01-21T18:13:23.680Z"
   },
   {
    "duration": 0,
    "start_time": "2025-01-21T18:13:23.681Z"
   },
   {
    "duration": 0,
    "start_time": "2025-01-21T18:13:23.682Z"
   },
   {
    "duration": 0,
    "start_time": "2025-01-21T18:13:23.683Z"
   },
   {
    "duration": 0,
    "start_time": "2025-01-21T18:13:23.684Z"
   },
   {
    "duration": 0,
    "start_time": "2025-01-21T18:13:23.685Z"
   },
   {
    "duration": 3799,
    "start_time": "2025-01-21T18:14:28.568Z"
   },
   {
    "duration": 37,
    "start_time": "2025-01-21T18:14:32.369Z"
   },
   {
    "duration": 71,
    "start_time": "2025-01-21T18:14:32.407Z"
   },
   {
    "duration": 1074,
    "start_time": "2025-01-21T18:14:32.479Z"
   },
   {
    "duration": 269,
    "start_time": "2025-01-21T18:14:33.554Z"
   },
   {
    "duration": 197,
    "start_time": "2025-01-21T18:14:33.825Z"
   },
   {
    "duration": 80,
    "start_time": "2025-01-21T18:14:34.024Z"
   },
   {
    "duration": 87,
    "start_time": "2025-01-21T18:14:34.105Z"
   },
   {
    "duration": 333,
    "start_time": "2025-01-21T18:14:34.194Z"
   },
   {
    "duration": 4,
    "start_time": "2025-01-21T18:14:34.530Z"
   },
   {
    "duration": 66,
    "start_time": "2025-01-21T18:14:34.536Z"
   },
   {
    "duration": 11,
    "start_time": "2025-01-21T18:14:34.604Z"
   },
   {
    "duration": 11,
    "start_time": "2025-01-21T18:14:34.616Z"
   },
   {
    "duration": 23,
    "start_time": "2025-01-21T18:14:34.628Z"
   },
   {
    "duration": 2153,
    "start_time": "2025-01-21T18:14:34.652Z"
   },
   {
    "duration": 3,
    "start_time": "2025-01-21T18:14:36.807Z"
   },
   {
    "duration": 20,
    "start_time": "2025-01-21T18:14:36.812Z"
   },
   {
    "duration": 13,
    "start_time": "2025-01-21T18:14:36.833Z"
   },
   {
    "duration": 8,
    "start_time": "2025-01-21T18:14:36.847Z"
   },
   {
    "duration": 17,
    "start_time": "2025-01-21T18:14:36.856Z"
   },
   {
    "duration": 30,
    "start_time": "2025-01-21T18:14:36.875Z"
   },
   {
    "duration": 20,
    "start_time": "2025-01-21T18:14:36.906Z"
   },
   {
    "duration": 7,
    "start_time": "2025-01-21T18:14:36.927Z"
   },
   {
    "duration": 103,
    "start_time": "2025-01-21T18:14:36.935Z"
   },
   {
    "duration": 169,
    "start_time": "2025-01-21T18:14:37.039Z"
   },
   {
    "duration": 345,
    "start_time": "2025-01-21T18:14:37.209Z"
   },
   {
    "duration": 21,
    "start_time": "2025-01-21T18:14:37.555Z"
   },
   {
    "duration": 8,
    "start_time": "2025-01-21T18:14:37.580Z"
   },
   {
    "duration": 52,
    "start_time": "2025-01-21T18:14:37.589Z"
   },
   {
    "duration": 20,
    "start_time": "2025-01-21T18:14:37.643Z"
   },
   {
    "duration": 9,
    "start_time": "2025-01-21T18:14:37.664Z"
   },
   {
    "duration": 36,
    "start_time": "2025-01-21T18:14:37.675Z"
   },
   {
    "duration": 12,
    "start_time": "2025-01-21T18:14:37.712Z"
   },
   {
    "duration": 28,
    "start_time": "2025-01-21T18:14:37.725Z"
   },
   {
    "duration": 11,
    "start_time": "2025-01-21T18:14:37.755Z"
   },
   {
    "duration": 7,
    "start_time": "2025-01-21T18:14:37.767Z"
   },
   {
    "duration": 11,
    "start_time": "2025-01-21T18:14:37.776Z"
   },
   {
    "duration": 18,
    "start_time": "2025-01-21T18:14:37.789Z"
   },
   {
    "duration": 46,
    "start_time": "2025-01-21T18:14:37.808Z"
   },
   {
    "duration": 10,
    "start_time": "2025-01-21T18:14:37.856Z"
   },
   {
    "duration": 147,
    "start_time": "2025-01-21T18:14:37.868Z"
   },
   {
    "duration": 4,
    "start_time": "2025-01-21T18:14:38.016Z"
   },
   {
    "duration": 13,
    "start_time": "2025-01-21T18:14:38.021Z"
   },
   {
    "duration": 18,
    "start_time": "2025-01-21T18:14:38.036Z"
   },
   {
    "duration": 4,
    "start_time": "2025-01-21T18:14:38.056Z"
   },
   {
    "duration": 49,
    "start_time": "2025-01-21T18:14:38.062Z"
   },
   {
    "duration": 99,
    "start_time": "2025-01-21T18:14:38.112Z"
   },
   {
    "duration": 95,
    "start_time": "2025-01-21T18:14:38.212Z"
   },
   {
    "duration": 7,
    "start_time": "2025-01-21T18:14:38.308Z"
   },
   {
    "duration": 20,
    "start_time": "2025-01-21T18:14:38.316Z"
   },
   {
    "duration": 29,
    "start_time": "2025-01-21T18:14:38.337Z"
   },
   {
    "duration": 22,
    "start_time": "2025-01-21T18:14:38.367Z"
   },
   {
    "duration": 8,
    "start_time": "2025-01-21T18:14:38.391Z"
   },
   {
    "duration": 17,
    "start_time": "2025-01-21T18:14:38.401Z"
   },
   {
    "duration": 33,
    "start_time": "2025-01-21T18:14:38.419Z"
   },
   {
    "duration": 22,
    "start_time": "2025-01-21T18:14:38.454Z"
   },
   {
    "duration": 35,
    "start_time": "2025-01-21T18:14:38.478Z"
   },
   {
    "duration": 7,
    "start_time": "2025-01-21T18:14:38.514Z"
   },
   {
    "duration": 20,
    "start_time": "2025-01-21T18:14:38.523Z"
   },
   {
    "duration": 12,
    "start_time": "2025-01-21T18:14:38.544Z"
   },
   {
    "duration": 8,
    "start_time": "2025-01-21T18:14:38.557Z"
   },
   {
    "duration": 19,
    "start_time": "2025-01-21T18:14:38.566Z"
   },
   {
    "duration": 18,
    "start_time": "2025-01-21T18:14:38.587Z"
   },
   {
    "duration": 40,
    "start_time": "2025-01-21T18:14:38.607Z"
   },
   {
    "duration": 27,
    "start_time": "2025-01-21T18:14:38.649Z"
   },
   {
    "duration": 46,
    "start_time": "2025-01-21T18:14:38.678Z"
   },
   {
    "duration": 5,
    "start_time": "2025-01-21T18:14:38.726Z"
   },
   {
    "duration": 57,
    "start_time": "2025-01-21T18:14:38.732Z"
   },
   {
    "duration": 33,
    "start_time": "2025-01-21T18:14:38.791Z"
   },
   {
    "duration": 14,
    "start_time": "2025-01-21T18:14:38.825Z"
   },
   {
    "duration": 122,
    "start_time": "2025-01-21T18:14:38.841Z"
   },
   {
    "duration": 26,
    "start_time": "2025-01-21T18:14:38.965Z"
   },
   {
    "duration": 460,
    "start_time": "2025-01-21T18:14:38.993Z"
   },
   {
    "duration": 84,
    "start_time": "2025-01-21T18:14:39.455Z"
   },
   {
    "duration": 43,
    "start_time": "2025-01-21T18:14:39.552Z"
   },
   {
    "duration": 192,
    "start_time": "2025-01-21T18:14:39.597Z"
   },
   {
    "duration": 37,
    "start_time": "2025-01-21T18:14:39.791Z"
   },
   {
    "duration": 102,
    "start_time": "2025-01-21T18:14:39.830Z"
   },
   {
    "duration": 33,
    "start_time": "2025-01-21T18:14:39.933Z"
   },
   {
    "duration": 184,
    "start_time": "2025-01-21T18:14:39.967Z"
   },
   {
    "duration": 13,
    "start_time": "2025-01-21T18:14:40.153Z"
   },
   {
    "duration": 112,
    "start_time": "2025-01-21T18:14:40.171Z"
   },
   {
    "duration": 32,
    "start_time": "2025-01-21T18:14:40.284Z"
   },
   {
    "duration": 35,
    "start_time": "2025-01-21T18:14:40.318Z"
   },
   {
    "duration": 33,
    "start_time": "2025-01-21T18:14:40.354Z"
   },
   {
    "duration": 6,
    "start_time": "2025-01-21T18:14:40.389Z"
   },
   {
    "duration": 18,
    "start_time": "2025-01-21T18:14:40.397Z"
   },
   {
    "duration": 56,
    "start_time": "2025-01-21T18:14:40.416Z"
   },
   {
    "duration": 30,
    "start_time": "2025-01-21T18:14:40.473Z"
   },
   {
    "duration": 18,
    "start_time": "2025-01-21T18:14:40.505Z"
   },
   {
    "duration": 18,
    "start_time": "2025-01-21T18:14:40.525Z"
   },
   {
    "duration": 90,
    "start_time": "2025-01-21T18:14:40.544Z"
   },
   {
    "duration": 90,
    "start_time": "2025-01-21T18:14:40.636Z"
   },
   {
    "duration": 59,
    "start_time": "2025-01-21T18:14:40.727Z"
   },
   {
    "duration": 76,
    "start_time": "2025-01-21T18:14:40.788Z"
   },
   {
    "duration": 216,
    "start_time": "2025-01-21T18:14:40.866Z"
   },
   {
    "duration": 422,
    "start_time": "2025-01-21T18:14:41.083Z"
   },
   {
    "duration": 73,
    "start_time": "2025-01-21T18:14:41.506Z"
   },
   {
    "duration": 29,
    "start_time": "2025-01-21T18:14:41.581Z"
   },
   {
    "duration": 128,
    "start_time": "2025-01-21T18:14:41.611Z"
   },
   {
    "duration": 35,
    "start_time": "2025-01-21T18:14:41.741Z"
   },
   {
    "duration": 106,
    "start_time": "2025-01-21T18:14:41.777Z"
   },
   {
    "duration": 185,
    "start_time": "2025-01-21T18:14:41.884Z"
   },
   {
    "duration": 644,
    "start_time": "2025-01-21T18:14:42.071Z"
   },
   {
    "duration": 57,
    "start_time": "2025-01-21T18:14:42.716Z"
   },
   {
    "duration": 7,
    "start_time": "2025-01-21T18:14:42.775Z"
   },
   {
    "duration": 440,
    "start_time": "2025-01-21T18:14:42.783Z"
   },
   {
    "duration": 0,
    "start_time": "2025-01-21T18:14:43.225Z"
   },
   {
    "duration": 0,
    "start_time": "2025-01-21T18:14:43.226Z"
   },
   {
    "duration": 79,
    "start_time": "2025-01-21T18:15:49.094Z"
   },
   {
    "duration": 4,
    "start_time": "2025-01-21T18:16:00.520Z"
   },
   {
    "duration": 3953,
    "start_time": "2025-01-21T18:16:05.938Z"
   },
   {
    "duration": 98,
    "start_time": "2025-01-21T18:16:09.893Z"
   },
   {
    "duration": 178,
    "start_time": "2025-01-21T18:16:09.992Z"
   },
   {
    "duration": 1374,
    "start_time": "2025-01-21T18:16:10.172Z"
   },
   {
    "duration": 378,
    "start_time": "2025-01-21T18:16:11.548Z"
   },
   {
    "duration": 226,
    "start_time": "2025-01-21T18:16:11.927Z"
   },
   {
    "duration": 64,
    "start_time": "2025-01-21T18:16:12.155Z"
   },
   {
    "duration": 103,
    "start_time": "2025-01-21T18:16:12.221Z"
   },
   {
    "duration": 293,
    "start_time": "2025-01-21T18:16:12.325Z"
   },
   {
    "duration": 4,
    "start_time": "2025-01-21T18:16:12.621Z"
   },
   {
    "duration": 35,
    "start_time": "2025-01-21T18:16:12.626Z"
   },
   {
    "duration": 25,
    "start_time": "2025-01-21T18:16:12.662Z"
   },
   {
    "duration": 32,
    "start_time": "2025-01-21T18:16:12.688Z"
   },
   {
    "duration": 31,
    "start_time": "2025-01-21T18:16:12.721Z"
   },
   {
    "duration": 2126,
    "start_time": "2025-01-21T18:16:12.754Z"
   },
   {
    "duration": 4,
    "start_time": "2025-01-21T18:16:14.881Z"
   },
   {
    "duration": 36,
    "start_time": "2025-01-21T18:16:14.886Z"
   },
   {
    "duration": 20,
    "start_time": "2025-01-21T18:16:14.923Z"
   },
   {
    "duration": 14,
    "start_time": "2025-01-21T18:16:14.944Z"
   },
   {
    "duration": 19,
    "start_time": "2025-01-21T18:16:14.959Z"
   },
   {
    "duration": 21,
    "start_time": "2025-01-21T18:16:14.979Z"
   },
   {
    "duration": 48,
    "start_time": "2025-01-21T18:16:15.001Z"
   },
   {
    "duration": 41,
    "start_time": "2025-01-21T18:16:15.050Z"
   },
   {
    "duration": 128,
    "start_time": "2025-01-21T18:16:15.093Z"
   },
   {
    "duration": 227,
    "start_time": "2025-01-21T18:16:15.223Z"
   },
   {
    "duration": 385,
    "start_time": "2025-01-21T18:16:15.451Z"
   },
   {
    "duration": 22,
    "start_time": "2025-01-21T18:16:15.837Z"
   },
   {
    "duration": 16,
    "start_time": "2025-01-21T18:16:15.862Z"
   },
   {
    "duration": 55,
    "start_time": "2025-01-21T18:16:15.880Z"
   },
   {
    "duration": 16,
    "start_time": "2025-01-21T18:16:15.936Z"
   },
   {
    "duration": 16,
    "start_time": "2025-01-21T18:16:15.954Z"
   },
   {
    "duration": 44,
    "start_time": "2025-01-21T18:16:15.971Z"
   },
   {
    "duration": 10,
    "start_time": "2025-01-21T18:16:16.017Z"
   },
   {
    "duration": 21,
    "start_time": "2025-01-21T18:16:16.028Z"
   },
   {
    "duration": 36,
    "start_time": "2025-01-21T18:16:16.050Z"
   },
   {
    "duration": 21,
    "start_time": "2025-01-21T18:16:16.087Z"
   },
   {
    "duration": 8,
    "start_time": "2025-01-21T18:16:16.110Z"
   },
   {
    "duration": 14,
    "start_time": "2025-01-21T18:16:16.120Z"
   },
   {
    "duration": 32,
    "start_time": "2025-01-21T18:16:16.136Z"
   },
   {
    "duration": 12,
    "start_time": "2025-01-21T18:16:16.170Z"
   },
   {
    "duration": 121,
    "start_time": "2025-01-21T18:16:16.184Z"
   },
   {
    "duration": 5,
    "start_time": "2025-01-21T18:16:16.307Z"
   },
   {
    "duration": 7,
    "start_time": "2025-01-21T18:16:16.313Z"
   },
   {
    "duration": 33,
    "start_time": "2025-01-21T18:16:16.322Z"
   },
   {
    "duration": 6,
    "start_time": "2025-01-21T18:16:16.356Z"
   },
   {
    "duration": 48,
    "start_time": "2025-01-21T18:16:16.364Z"
   },
   {
    "duration": 100,
    "start_time": "2025-01-21T18:16:16.413Z"
   },
   {
    "duration": 90,
    "start_time": "2025-01-21T18:16:16.514Z"
   },
   {
    "duration": 6,
    "start_time": "2025-01-21T18:16:16.606Z"
   },
   {
    "duration": 21,
    "start_time": "2025-01-21T18:16:16.613Z"
   },
   {
    "duration": 28,
    "start_time": "2025-01-21T18:16:16.635Z"
   },
   {
    "duration": 22,
    "start_time": "2025-01-21T18:16:16.664Z"
   },
   {
    "duration": 5,
    "start_time": "2025-01-21T18:16:16.687Z"
   },
   {
    "duration": 15,
    "start_time": "2025-01-21T18:16:16.694Z"
   },
   {
    "duration": 16,
    "start_time": "2025-01-21T18:16:16.710Z"
   },
   {
    "duration": 29,
    "start_time": "2025-01-21T18:16:16.728Z"
   },
   {
    "duration": 37,
    "start_time": "2025-01-21T18:16:16.758Z"
   },
   {
    "duration": 6,
    "start_time": "2025-01-21T18:16:16.796Z"
   },
   {
    "duration": 8,
    "start_time": "2025-01-21T18:16:16.803Z"
   },
   {
    "duration": 10,
    "start_time": "2025-01-21T18:16:16.813Z"
   },
   {
    "duration": 7,
    "start_time": "2025-01-21T18:16:16.825Z"
   },
   {
    "duration": 24,
    "start_time": "2025-01-21T18:16:16.833Z"
   },
   {
    "duration": 8,
    "start_time": "2025-01-21T18:16:16.858Z"
   },
   {
    "duration": 33,
    "start_time": "2025-01-21T18:16:16.867Z"
   },
   {
    "duration": 29,
    "start_time": "2025-01-21T18:16:16.901Z"
   },
   {
    "duration": 52,
    "start_time": "2025-01-21T18:16:16.931Z"
   },
   {
    "duration": 4,
    "start_time": "2025-01-21T18:16:16.984Z"
   },
   {
    "duration": 64,
    "start_time": "2025-01-21T18:16:16.990Z"
   },
   {
    "duration": 17,
    "start_time": "2025-01-21T18:16:17.056Z"
   },
   {
    "duration": 12,
    "start_time": "2025-01-21T18:16:17.075Z"
   },
   {
    "duration": 105,
    "start_time": "2025-01-21T18:16:17.088Z"
   },
   {
    "duration": 28,
    "start_time": "2025-01-21T18:16:17.195Z"
   },
   {
    "duration": 464,
    "start_time": "2025-01-21T18:16:17.225Z"
   },
   {
    "duration": 81,
    "start_time": "2025-01-21T18:16:17.691Z"
   },
   {
    "duration": 43,
    "start_time": "2025-01-21T18:16:17.774Z"
   },
   {
    "duration": 189,
    "start_time": "2025-01-21T18:16:17.818Z"
   },
   {
    "duration": 44,
    "start_time": "2025-01-21T18:16:18.008Z"
   },
   {
    "duration": 88,
    "start_time": "2025-01-21T18:16:18.054Z"
   },
   {
    "duration": 36,
    "start_time": "2025-01-21T18:16:18.144Z"
   },
   {
    "duration": 153,
    "start_time": "2025-01-21T18:16:18.182Z"
   },
   {
    "duration": 16,
    "start_time": "2025-01-21T18:16:18.337Z"
   },
   {
    "duration": 111,
    "start_time": "2025-01-21T18:16:18.358Z"
   },
   {
    "duration": 33,
    "start_time": "2025-01-21T18:16:18.471Z"
   },
   {
    "duration": 24,
    "start_time": "2025-01-21T18:16:18.506Z"
   },
   {
    "duration": 48,
    "start_time": "2025-01-21T18:16:18.531Z"
   },
   {
    "duration": 40,
    "start_time": "2025-01-21T18:16:18.581Z"
   },
   {
    "duration": 11,
    "start_time": "2025-01-21T18:16:18.623Z"
   },
   {
    "duration": 48,
    "start_time": "2025-01-21T18:16:18.635Z"
   },
   {
    "duration": 28,
    "start_time": "2025-01-21T18:16:18.685Z"
   },
   {
    "duration": 16,
    "start_time": "2025-01-21T18:16:18.715Z"
   },
   {
    "duration": 5,
    "start_time": "2025-01-21T18:16:18.732Z"
   },
   {
    "duration": 97,
    "start_time": "2025-01-21T18:16:18.738Z"
   },
   {
    "duration": 97,
    "start_time": "2025-01-21T18:16:18.836Z"
   },
   {
    "duration": 57,
    "start_time": "2025-01-21T18:16:18.935Z"
   },
   {
    "duration": 72,
    "start_time": "2025-01-21T18:16:18.993Z"
   },
   {
    "duration": 219,
    "start_time": "2025-01-21T18:16:19.066Z"
   },
   {
    "duration": 405,
    "start_time": "2025-01-21T18:16:19.287Z"
   },
   {
    "duration": 70,
    "start_time": "2025-01-21T18:16:19.693Z"
   },
   {
    "duration": 30,
    "start_time": "2025-01-21T18:16:19.764Z"
   },
   {
    "duration": 113,
    "start_time": "2025-01-21T18:16:19.795Z"
   },
   {
    "duration": 0,
    "start_time": "2025-01-21T18:16:19.910Z"
   },
   {
    "duration": 0,
    "start_time": "2025-01-21T18:16:19.911Z"
   },
   {
    "duration": 0,
    "start_time": "2025-01-21T18:16:19.912Z"
   },
   {
    "duration": 0,
    "start_time": "2025-01-21T18:16:19.913Z"
   },
   {
    "duration": 0,
    "start_time": "2025-01-21T18:16:19.914Z"
   },
   {
    "duration": 0,
    "start_time": "2025-01-21T18:16:19.915Z"
   },
   {
    "duration": 0,
    "start_time": "2025-01-21T18:16:19.917Z"
   },
   {
    "duration": 0,
    "start_time": "2025-01-21T18:16:19.918Z"
   },
   {
    "duration": 0,
    "start_time": "2025-01-21T18:16:19.919Z"
   },
   {
    "duration": 0,
    "start_time": "2025-01-21T18:16:19.920Z"
   },
   {
    "duration": 0,
    "start_time": "2025-01-21T18:16:19.921Z"
   },
   {
    "duration": 3823,
    "start_time": "2025-01-21T18:17:00.063Z"
   },
   {
    "duration": 33,
    "start_time": "2025-01-21T18:17:03.889Z"
   },
   {
    "duration": 89,
    "start_time": "2025-01-21T18:17:03.924Z"
   },
   {
    "duration": 868,
    "start_time": "2025-01-21T18:17:04.015Z"
   },
   {
    "duration": 172,
    "start_time": "2025-01-21T18:17:04.885Z"
   },
   {
    "duration": 247,
    "start_time": "2025-01-21T18:17:05.059Z"
   },
   {
    "duration": 86,
    "start_time": "2025-01-21T18:17:05.307Z"
   },
   {
    "duration": 112,
    "start_time": "2025-01-21T18:17:05.394Z"
   },
   {
    "duration": 293,
    "start_time": "2025-01-21T18:17:05.508Z"
   },
   {
    "duration": 4,
    "start_time": "2025-01-21T18:17:05.804Z"
   },
   {
    "duration": 13,
    "start_time": "2025-01-21T18:17:05.809Z"
   },
   {
    "duration": 11,
    "start_time": "2025-01-21T18:17:05.823Z"
   },
   {
    "duration": 5,
    "start_time": "2025-01-21T18:17:05.835Z"
   },
   {
    "duration": 12,
    "start_time": "2025-01-21T18:17:05.841Z"
   },
   {
    "duration": 2155,
    "start_time": "2025-01-21T18:17:05.854Z"
   },
   {
    "duration": 3,
    "start_time": "2025-01-21T18:17:08.010Z"
   },
   {
    "duration": 6,
    "start_time": "2025-01-21T18:17:08.014Z"
   },
   {
    "duration": 3,
    "start_time": "2025-01-21T18:17:08.021Z"
   },
   {
    "duration": 12,
    "start_time": "2025-01-21T18:17:08.025Z"
   },
   {
    "duration": 3,
    "start_time": "2025-01-21T18:17:08.039Z"
   },
   {
    "duration": 14,
    "start_time": "2025-01-21T18:17:08.043Z"
   },
   {
    "duration": 12,
    "start_time": "2025-01-21T18:17:08.058Z"
   },
   {
    "duration": 31,
    "start_time": "2025-01-21T18:17:08.071Z"
   },
   {
    "duration": 169,
    "start_time": "2025-01-21T18:17:08.104Z"
   },
   {
    "duration": 217,
    "start_time": "2025-01-21T18:17:08.274Z"
   },
   {
    "duration": 371,
    "start_time": "2025-01-21T18:17:08.493Z"
   },
   {
    "duration": 20,
    "start_time": "2025-01-21T18:17:08.865Z"
   },
   {
    "duration": 19,
    "start_time": "2025-01-21T18:17:08.889Z"
   },
   {
    "duration": 44,
    "start_time": "2025-01-21T18:17:08.909Z"
   },
   {
    "duration": 15,
    "start_time": "2025-01-21T18:17:08.955Z"
   },
   {
    "duration": 9,
    "start_time": "2025-01-21T18:17:08.971Z"
   },
   {
    "duration": 35,
    "start_time": "2025-01-21T18:17:08.981Z"
   },
   {
    "duration": 10,
    "start_time": "2025-01-21T18:17:09.018Z"
   },
   {
    "duration": 30,
    "start_time": "2025-01-21T18:17:09.030Z"
   },
   {
    "duration": 10,
    "start_time": "2025-01-21T18:17:09.062Z"
   },
   {
    "duration": 8,
    "start_time": "2025-01-21T18:17:09.073Z"
   },
   {
    "duration": 7,
    "start_time": "2025-01-21T18:17:09.082Z"
   },
   {
    "duration": 11,
    "start_time": "2025-01-21T18:17:09.090Z"
   },
   {
    "duration": 58,
    "start_time": "2025-01-21T18:17:09.102Z"
   },
   {
    "duration": 11,
    "start_time": "2025-01-21T18:17:09.161Z"
   },
   {
    "duration": 119,
    "start_time": "2025-01-21T18:17:09.173Z"
   },
   {
    "duration": 4,
    "start_time": "2025-01-21T18:17:09.293Z"
   },
   {
    "duration": 16,
    "start_time": "2025-01-21T18:17:09.298Z"
   },
   {
    "duration": 9,
    "start_time": "2025-01-21T18:17:09.316Z"
   },
   {
    "duration": 5,
    "start_time": "2025-01-21T18:17:09.326Z"
   },
   {
    "duration": 60,
    "start_time": "2025-01-21T18:17:09.333Z"
   },
   {
    "duration": 90,
    "start_time": "2025-01-21T18:17:09.395Z"
   },
   {
    "duration": 96,
    "start_time": "2025-01-21T18:17:09.486Z"
   },
   {
    "duration": 7,
    "start_time": "2025-01-21T18:17:09.584Z"
   },
   {
    "duration": 21,
    "start_time": "2025-01-21T18:17:09.592Z"
   },
   {
    "duration": 16,
    "start_time": "2025-01-21T18:17:09.614Z"
   },
   {
    "duration": 37,
    "start_time": "2025-01-21T18:17:09.632Z"
   },
   {
    "duration": 6,
    "start_time": "2025-01-21T18:17:09.670Z"
   },
   {
    "duration": 23,
    "start_time": "2025-01-21T18:17:09.677Z"
   },
   {
    "duration": 13,
    "start_time": "2025-01-21T18:17:09.702Z"
   },
   {
    "duration": 9,
    "start_time": "2025-01-21T18:17:09.716Z"
   },
   {
    "duration": 35,
    "start_time": "2025-01-21T18:17:09.726Z"
   },
   {
    "duration": 6,
    "start_time": "2025-01-21T18:17:09.762Z"
   },
   {
    "duration": 12,
    "start_time": "2025-01-21T18:17:09.770Z"
   },
   {
    "duration": 19,
    "start_time": "2025-01-21T18:17:09.784Z"
   },
   {
    "duration": 7,
    "start_time": "2025-01-21T18:17:09.804Z"
   },
   {
    "duration": 13,
    "start_time": "2025-01-21T18:17:09.812Z"
   },
   {
    "duration": 15,
    "start_time": "2025-01-21T18:17:09.826Z"
   },
   {
    "duration": 32,
    "start_time": "2025-01-21T18:17:09.852Z"
   },
   {
    "duration": 28,
    "start_time": "2025-01-21T18:17:09.885Z"
   },
   {
    "duration": 48,
    "start_time": "2025-01-21T18:17:09.914Z"
   },
   {
    "duration": 4,
    "start_time": "2025-01-21T18:17:09.963Z"
   },
   {
    "duration": 49,
    "start_time": "2025-01-21T18:17:09.969Z"
   },
   {
    "duration": 35,
    "start_time": "2025-01-21T18:17:10.019Z"
   },
   {
    "duration": 12,
    "start_time": "2025-01-21T18:17:10.056Z"
   },
   {
    "duration": 108,
    "start_time": "2025-01-21T18:17:10.070Z"
   },
   {
    "duration": 28,
    "start_time": "2025-01-21T18:17:10.179Z"
   },
   {
    "duration": 449,
    "start_time": "2025-01-21T18:17:10.208Z"
   },
   {
    "duration": 84,
    "start_time": "2025-01-21T18:17:10.659Z"
   },
   {
    "duration": 49,
    "start_time": "2025-01-21T18:17:10.744Z"
   },
   {
    "duration": 184,
    "start_time": "2025-01-21T18:17:10.795Z"
   },
   {
    "duration": 37,
    "start_time": "2025-01-21T18:17:10.981Z"
   },
   {
    "duration": 101,
    "start_time": "2025-01-21T18:17:11.019Z"
   },
   {
    "duration": 39,
    "start_time": "2025-01-21T18:17:11.122Z"
   },
   {
    "duration": 144,
    "start_time": "2025-01-21T18:17:11.162Z"
   },
   {
    "duration": 11,
    "start_time": "2025-01-21T18:17:11.308Z"
   },
   {
    "duration": 98,
    "start_time": "2025-01-21T18:17:11.324Z"
   },
   {
    "duration": 40,
    "start_time": "2025-01-21T18:17:11.423Z"
   },
   {
    "duration": 25,
    "start_time": "2025-01-21T18:17:11.464Z"
   },
   {
    "duration": 33,
    "start_time": "2025-01-21T18:17:11.491Z"
   },
   {
    "duration": 30,
    "start_time": "2025-01-21T18:17:11.525Z"
   },
   {
    "duration": 14,
    "start_time": "2025-01-21T18:17:11.557Z"
   },
   {
    "duration": 46,
    "start_time": "2025-01-21T18:17:11.573Z"
   },
   {
    "duration": 44,
    "start_time": "2025-01-21T18:17:11.621Z"
   },
   {
    "duration": 9,
    "start_time": "2025-01-21T18:17:11.666Z"
   },
   {
    "duration": 6,
    "start_time": "2025-01-21T18:17:11.677Z"
   },
   {
    "duration": 104,
    "start_time": "2025-01-21T18:17:11.684Z"
   },
   {
    "duration": 96,
    "start_time": "2025-01-21T18:17:11.790Z"
   },
   {
    "duration": 51,
    "start_time": "2025-01-21T18:17:11.888Z"
   },
   {
    "duration": 83,
    "start_time": "2025-01-21T18:17:11.940Z"
   },
   {
    "duration": 243,
    "start_time": "2025-01-21T18:17:12.024Z"
   },
   {
    "duration": 430,
    "start_time": "2025-01-21T18:17:12.268Z"
   },
   {
    "duration": 73,
    "start_time": "2025-01-21T18:17:12.699Z"
   },
   {
    "duration": 15,
    "start_time": "2025-01-21T18:17:12.774Z"
   },
   {
    "duration": 115,
    "start_time": "2025-01-21T18:17:12.791Z"
   },
   {
    "duration": 0,
    "start_time": "2025-01-21T18:17:12.908Z"
   },
   {
    "duration": 0,
    "start_time": "2025-01-21T18:17:12.909Z"
   },
   {
    "duration": 0,
    "start_time": "2025-01-21T18:17:12.910Z"
   },
   {
    "duration": 0,
    "start_time": "2025-01-21T18:17:12.911Z"
   },
   {
    "duration": 0,
    "start_time": "2025-01-21T18:17:12.913Z"
   },
   {
    "duration": 0,
    "start_time": "2025-01-21T18:17:12.914Z"
   },
   {
    "duration": 0,
    "start_time": "2025-01-21T18:17:12.915Z"
   },
   {
    "duration": 0,
    "start_time": "2025-01-21T18:17:12.916Z"
   },
   {
    "duration": 0,
    "start_time": "2025-01-21T18:17:12.917Z"
   },
   {
    "duration": 0,
    "start_time": "2025-01-21T18:17:12.918Z"
   },
   {
    "duration": 0,
    "start_time": "2025-01-21T18:17:12.919Z"
   },
   {
    "duration": 82,
    "start_time": "2025-01-21T18:17:34.422Z"
   },
   {
    "duration": 77,
    "start_time": "2025-01-21T18:17:36.864Z"
   },
   {
    "duration": 14,
    "start_time": "2025-01-21T18:18:16.021Z"
   },
   {
    "duration": 33,
    "start_time": "2025-01-21T18:18:27.427Z"
   },
   {
    "duration": 85,
    "start_time": "2025-01-21T18:18:28.406Z"
   },
   {
    "duration": 178,
    "start_time": "2025-01-21T18:18:31.677Z"
   },
   {
    "duration": 648,
    "start_time": "2025-01-21T18:18:35.445Z"
   },
   {
    "duration": 49,
    "start_time": "2025-01-21T18:18:36.193Z"
   },
   {
    "duration": 9,
    "start_time": "2025-01-21T18:18:37.109Z"
   },
   {
    "duration": 14,
    "start_time": "2025-01-21T18:18:38.902Z"
   },
   {
    "duration": 42,
    "start_time": "2025-01-21T18:18:40.129Z"
   },
   {
    "duration": 44,
    "start_time": "2025-01-21T18:18:56.119Z"
   },
   {
    "duration": 33,
    "start_time": "2025-01-21T18:18:57.900Z"
   },
   {
    "duration": 7,
    "start_time": "2025-01-21T18:20:49.427Z"
   },
   {
    "duration": 1265,
    "start_time": "2025-01-21T18:22:24.066Z"
   },
   {
    "duration": 1325,
    "start_time": "2025-01-21T18:24:28.410Z"
   },
   {
    "duration": 8,
    "start_time": "2025-01-21T18:24:56.322Z"
   },
   {
    "duration": 27,
    "start_time": "2025-01-21T18:25:22.515Z"
   },
   {
    "duration": 39,
    "start_time": "2025-01-21T18:26:14.328Z"
   },
   {
    "duration": 36,
    "start_time": "2025-01-21T18:26:29.079Z"
   },
   {
    "duration": 1369,
    "start_time": "2025-01-21T18:28:06.930Z"
   },
   {
    "duration": 1454,
    "start_time": "2025-01-21T18:29:15.314Z"
   },
   {
    "duration": 38,
    "start_time": "2025-01-21T18:30:35.276Z"
   },
   {
    "duration": 36,
    "start_time": "2025-01-21T18:30:35.906Z"
   },
   {
    "duration": 39,
    "start_time": "2025-01-21T18:30:51.920Z"
   },
   {
    "duration": 36,
    "start_time": "2025-01-21T18:30:53.249Z"
   },
   {
    "duration": 14,
    "start_time": "2025-01-21T18:32:00.596Z"
   },
   {
    "duration": 10,
    "start_time": "2025-01-21T18:32:02.865Z"
   },
   {
    "duration": 37,
    "start_time": "2025-01-21T18:37:54.059Z"
   },
   {
    "duration": 35,
    "start_time": "2025-01-21T18:37:58.962Z"
   },
   {
    "duration": 37,
    "start_time": "2025-01-21T18:37:59.343Z"
   },
   {
    "duration": 10,
    "start_time": "2025-01-21T18:45:26.397Z"
   },
   {
    "duration": 40,
    "start_time": "2025-01-21T18:46:26.206Z"
   },
   {
    "duration": 10,
    "start_time": "2025-01-21T18:46:26.950Z"
   },
   {
    "duration": 36,
    "start_time": "2025-01-21T18:46:27.587Z"
   },
   {
    "duration": 3,
    "start_time": "2025-01-21T18:59:50.398Z"
   },
   {
    "duration": 12,
    "start_time": "2025-01-21T19:03:01.409Z"
   },
   {
    "duration": 12,
    "start_time": "2025-01-21T19:03:47.399Z"
   },
   {
    "duration": 15,
    "start_time": "2025-01-21T19:04:40.249Z"
   },
   {
    "duration": 9,
    "start_time": "2025-01-21T19:04:42.971Z"
   },
   {
    "duration": 34,
    "start_time": "2025-01-21T19:05:44.379Z"
   },
   {
    "duration": 10,
    "start_time": "2025-01-21T19:05:46.383Z"
   },
   {
    "duration": 3755,
    "start_time": "2025-01-21T19:05:56.878Z"
   },
   {
    "duration": 35,
    "start_time": "2025-01-21T19:06:00.635Z"
   },
   {
    "duration": 104,
    "start_time": "2025-01-21T19:06:00.671Z"
   },
   {
    "duration": 971,
    "start_time": "2025-01-21T19:06:00.777Z"
   },
   {
    "duration": 392,
    "start_time": "2025-01-21T19:06:01.753Z"
   },
   {
    "duration": 300,
    "start_time": "2025-01-21T19:06:02.146Z"
   },
   {
    "duration": 234,
    "start_time": "2025-01-21T19:06:02.448Z"
   },
   {
    "duration": 92,
    "start_time": "2025-01-21T19:06:02.683Z"
   },
   {
    "duration": 326,
    "start_time": "2025-01-21T19:06:02.776Z"
   },
   {
    "duration": 4,
    "start_time": "2025-01-21T19:06:03.104Z"
   },
   {
    "duration": 16,
    "start_time": "2025-01-21T19:06:03.109Z"
   },
   {
    "duration": 10,
    "start_time": "2025-01-21T19:06:03.126Z"
   },
   {
    "duration": 16,
    "start_time": "2025-01-21T19:06:03.138Z"
   },
   {
    "duration": 14,
    "start_time": "2025-01-21T19:06:03.155Z"
   },
   {
    "duration": 2140,
    "start_time": "2025-01-21T19:06:03.170Z"
   },
   {
    "duration": 4,
    "start_time": "2025-01-21T19:06:05.311Z"
   },
   {
    "duration": 21,
    "start_time": "2025-01-21T19:06:05.316Z"
   },
   {
    "duration": 8,
    "start_time": "2025-01-21T19:06:05.338Z"
   },
   {
    "duration": 15,
    "start_time": "2025-01-21T19:06:05.348Z"
   },
   {
    "duration": 33,
    "start_time": "2025-01-21T19:06:05.365Z"
   },
   {
    "duration": 36,
    "start_time": "2025-01-21T19:06:05.399Z"
   },
   {
    "duration": 14,
    "start_time": "2025-01-21T19:06:05.436Z"
   },
   {
    "duration": 21,
    "start_time": "2025-01-21T19:06:05.451Z"
   },
   {
    "duration": 107,
    "start_time": "2025-01-21T19:06:05.473Z"
   },
   {
    "duration": 222,
    "start_time": "2025-01-21T19:06:05.582Z"
   },
   {
    "duration": 380,
    "start_time": "2025-01-21T19:06:05.805Z"
   },
   {
    "duration": 20,
    "start_time": "2025-01-21T19:06:06.186Z"
   },
   {
    "duration": 19,
    "start_time": "2025-01-21T19:06:06.210Z"
   },
   {
    "duration": 57,
    "start_time": "2025-01-21T19:06:06.230Z"
   },
   {
    "duration": 16,
    "start_time": "2025-01-21T19:06:06.289Z"
   },
   {
    "duration": 20,
    "start_time": "2025-01-21T19:06:06.306Z"
   },
   {
    "duration": 41,
    "start_time": "2025-01-21T19:06:06.328Z"
   },
   {
    "duration": 11,
    "start_time": "2025-01-21T19:06:06.371Z"
   },
   {
    "duration": 56,
    "start_time": "2025-01-21T19:06:06.383Z"
   },
   {
    "duration": 26,
    "start_time": "2025-01-21T19:06:06.440Z"
   },
   {
    "duration": 31,
    "start_time": "2025-01-21T19:06:06.468Z"
   },
   {
    "duration": 35,
    "start_time": "2025-01-21T19:06:06.500Z"
   },
   {
    "duration": 23,
    "start_time": "2025-01-21T19:06:06.537Z"
   },
   {
    "duration": 52,
    "start_time": "2025-01-21T19:06:06.561Z"
   },
   {
    "duration": 12,
    "start_time": "2025-01-21T19:06:06.614Z"
   },
   {
    "duration": 115,
    "start_time": "2025-01-21T19:06:06.627Z"
   },
   {
    "duration": 3,
    "start_time": "2025-01-21T19:06:06.744Z"
   },
   {
    "duration": 17,
    "start_time": "2025-01-21T19:06:06.748Z"
   },
   {
    "duration": 28,
    "start_time": "2025-01-21T19:06:06.766Z"
   },
   {
    "duration": 21,
    "start_time": "2025-01-21T19:06:06.796Z"
   },
   {
    "duration": 66,
    "start_time": "2025-01-21T19:06:06.818Z"
   },
   {
    "duration": 95,
    "start_time": "2025-01-21T19:06:06.885Z"
   },
   {
    "duration": 91,
    "start_time": "2025-01-21T19:06:06.982Z"
   },
   {
    "duration": 6,
    "start_time": "2025-01-21T19:06:07.074Z"
   },
   {
    "duration": 35,
    "start_time": "2025-01-21T19:06:07.081Z"
   },
   {
    "duration": 24,
    "start_time": "2025-01-21T19:06:07.117Z"
   },
   {
    "duration": 20,
    "start_time": "2025-01-21T19:06:07.142Z"
   },
   {
    "duration": 7,
    "start_time": "2025-01-21T19:06:07.164Z"
   },
   {
    "duration": 37,
    "start_time": "2025-01-21T19:06:07.172Z"
   },
   {
    "duration": 29,
    "start_time": "2025-01-21T19:06:07.210Z"
   },
   {
    "duration": 16,
    "start_time": "2025-01-21T19:06:07.240Z"
   },
   {
    "duration": 14,
    "start_time": "2025-01-21T19:06:07.258Z"
   },
   {
    "duration": 22,
    "start_time": "2025-01-21T19:06:07.273Z"
   },
   {
    "duration": 18,
    "start_time": "2025-01-21T19:06:07.296Z"
   },
   {
    "duration": 24,
    "start_time": "2025-01-21T19:06:07.315Z"
   },
   {
    "duration": 13,
    "start_time": "2025-01-21T19:06:07.340Z"
   },
   {
    "duration": 12,
    "start_time": "2025-01-21T19:06:07.355Z"
   },
   {
    "duration": 16,
    "start_time": "2025-01-21T19:06:07.368Z"
   },
   {
    "duration": 48,
    "start_time": "2025-01-21T19:06:07.385Z"
   },
   {
    "duration": 27,
    "start_time": "2025-01-21T19:06:07.435Z"
   },
   {
    "duration": 57,
    "start_time": "2025-01-21T19:06:07.463Z"
   },
   {
    "duration": 11,
    "start_time": "2025-01-21T19:06:07.522Z"
   },
   {
    "duration": 63,
    "start_time": "2025-01-21T19:06:07.534Z"
   },
   {
    "duration": 40,
    "start_time": "2025-01-21T19:06:07.599Z"
   },
   {
    "duration": 13,
    "start_time": "2025-01-21T19:06:07.640Z"
   },
   {
    "duration": 88,
    "start_time": "2025-01-21T19:06:07.654Z"
   },
   {
    "duration": 32,
    "start_time": "2025-01-21T19:06:07.744Z"
   },
   {
    "duration": 456,
    "start_time": "2025-01-21T19:06:07.777Z"
   },
   {
    "duration": 83,
    "start_time": "2025-01-21T19:06:08.235Z"
   },
   {
    "duration": 54,
    "start_time": "2025-01-21T19:06:08.320Z"
   },
   {
    "duration": 176,
    "start_time": "2025-01-21T19:06:08.375Z"
   },
   {
    "duration": 37,
    "start_time": "2025-01-21T19:06:08.553Z"
   },
   {
    "duration": 97,
    "start_time": "2025-01-21T19:06:08.592Z"
   },
   {
    "duration": 31,
    "start_time": "2025-01-21T19:06:08.691Z"
   },
   {
    "duration": 159,
    "start_time": "2025-01-21T19:06:08.724Z"
   },
   {
    "duration": 12,
    "start_time": "2025-01-21T19:06:08.884Z"
   },
   {
    "duration": 113,
    "start_time": "2025-01-21T19:06:08.902Z"
   },
   {
    "duration": 40,
    "start_time": "2025-01-21T19:06:09.016Z"
   },
   {
    "duration": 25,
    "start_time": "2025-01-21T19:06:09.058Z"
   },
   {
    "duration": 30,
    "start_time": "2025-01-21T19:06:09.085Z"
   },
   {
    "duration": 5,
    "start_time": "2025-01-21T19:06:09.117Z"
   },
   {
    "duration": 35,
    "start_time": "2025-01-21T19:06:09.123Z"
   },
   {
    "duration": 45,
    "start_time": "2025-01-21T19:06:09.160Z"
   },
   {
    "duration": 28,
    "start_time": "2025-01-21T19:06:09.207Z"
   },
   {
    "duration": 23,
    "start_time": "2025-01-21T19:06:09.236Z"
   },
   {
    "duration": 13,
    "start_time": "2025-01-21T19:06:09.260Z"
   },
   {
    "duration": 82,
    "start_time": "2025-01-21T19:06:09.275Z"
   },
   {
    "duration": 94,
    "start_time": "2025-01-21T19:06:09.359Z"
   },
   {
    "duration": 53,
    "start_time": "2025-01-21T19:06:09.454Z"
   },
   {
    "duration": 80,
    "start_time": "2025-01-21T19:06:09.509Z"
   },
   {
    "duration": 237,
    "start_time": "2025-01-21T19:06:09.591Z"
   },
   {
    "duration": 442,
    "start_time": "2025-01-21T19:06:09.830Z"
   },
   {
    "duration": 64,
    "start_time": "2025-01-21T19:06:10.273Z"
   },
   {
    "duration": 28,
    "start_time": "2025-01-21T19:06:10.339Z"
   },
   {
    "duration": 95,
    "start_time": "2025-01-21T19:06:10.369Z"
   },
   {
    "duration": 74,
    "start_time": "2025-01-21T19:06:10.466Z"
   },
   {
    "duration": 42,
    "start_time": "2025-01-21T19:06:10.542Z"
   },
   {
    "duration": 86,
    "start_time": "2025-01-21T19:06:10.586Z"
   },
   {
    "duration": 179,
    "start_time": "2025-01-21T19:06:10.674Z"
   },
   {
    "duration": 617,
    "start_time": "2025-01-21T19:06:10.854Z"
   },
   {
    "duration": 46,
    "start_time": "2025-01-21T19:06:11.473Z"
   },
   {
    "duration": 7,
    "start_time": "2025-01-21T19:06:11.521Z"
   },
   {
    "duration": 53,
    "start_time": "2025-01-21T19:06:11.529Z"
   },
   {
    "duration": 9,
    "start_time": "2025-01-21T19:06:11.584Z"
   },
   {
    "duration": 65,
    "start_time": "2025-01-21T19:06:11.594Z"
   },
   {
    "duration": 1647,
    "start_time": "2025-01-21T19:06:11.660Z"
   },
   {
    "duration": 0,
    "start_time": "2025-01-21T19:06:13.309Z"
   },
   {
    "duration": 0,
    "start_time": "2025-01-21T19:06:13.310Z"
   },
   {
    "duration": 1630,
    "start_time": "2025-01-21T19:06:51.901Z"
   },
   {
    "duration": 9,
    "start_time": "2025-01-21T19:06:54.805Z"
   },
   {
    "duration": 1377,
    "start_time": "2025-01-21T19:07:09.842Z"
   },
   {
    "duration": 11,
    "start_time": "2025-01-21T19:07:49.282Z"
   },
   {
    "duration": 10,
    "start_time": "2025-01-21T19:08:03.975Z"
   },
   {
    "duration": 3,
    "start_time": "2025-01-21T19:09:06.083Z"
   },
   {
    "duration": 8,
    "start_time": "2025-01-21T19:10:53.274Z"
   },
   {
    "duration": 31,
    "start_time": "2025-01-21T19:11:04.313Z"
   },
   {
    "duration": 28,
    "start_time": "2025-01-21T19:11:11.687Z"
   },
   {
    "duration": 65,
    "start_time": "2025-01-21T19:14:36.867Z"
   },
   {
    "duration": 65,
    "start_time": "2025-01-21T19:15:16.744Z"
   },
   {
    "duration": 58,
    "start_time": "2025-01-21T19:15:54.140Z"
   },
   {
    "duration": 83,
    "start_time": "2025-01-21T19:19:52.955Z"
   },
   {
    "duration": 55,
    "start_time": "2025-01-22T16:47:19.478Z"
   },
   {
    "duration": 9,
    "start_time": "2025-01-22T16:47:48.514Z"
   },
   {
    "duration": 7390,
    "start_time": "2025-01-22T16:50:49.282Z"
   },
   {
    "duration": 41,
    "start_time": "2025-01-22T16:50:56.674Z"
   },
   {
    "duration": 112,
    "start_time": "2025-01-22T16:50:56.717Z"
   },
   {
    "duration": 1191,
    "start_time": "2025-01-22T16:50:56.831Z"
   },
   {
    "duration": 198,
    "start_time": "2025-01-22T16:50:58.024Z"
   },
   {
    "duration": 220,
    "start_time": "2025-01-22T16:50:58.224Z"
   },
   {
    "duration": 56,
    "start_time": "2025-01-22T16:50:58.446Z"
   },
   {
    "duration": 122,
    "start_time": "2025-01-22T16:50:58.504Z"
   },
   {
    "duration": 377,
    "start_time": "2025-01-22T16:50:58.628Z"
   },
   {
    "duration": 5,
    "start_time": "2025-01-22T16:50:59.008Z"
   },
   {
    "duration": 17,
    "start_time": "2025-01-22T16:50:59.014Z"
   },
   {
    "duration": 23,
    "start_time": "2025-01-22T16:50:59.033Z"
   },
   {
    "duration": 98,
    "start_time": "2025-01-22T16:50:59.058Z"
   },
   {
    "duration": 25,
    "start_time": "2025-01-22T16:50:59.158Z"
   },
   {
    "duration": 2151,
    "start_time": "2025-01-22T16:50:59.185Z"
   },
   {
    "duration": 5,
    "start_time": "2025-01-22T16:51:01.338Z"
   },
   {
    "duration": 12,
    "start_time": "2025-01-22T16:51:01.344Z"
   },
   {
    "duration": 13,
    "start_time": "2025-01-22T16:51:01.358Z"
   },
   {
    "duration": 28,
    "start_time": "2025-01-22T16:51:01.373Z"
   },
   {
    "duration": 41,
    "start_time": "2025-01-22T16:51:01.403Z"
   },
   {
    "duration": 46,
    "start_time": "2025-01-22T16:51:01.446Z"
   },
   {
    "duration": 84,
    "start_time": "2025-01-22T16:51:01.494Z"
   },
   {
    "duration": 30,
    "start_time": "2025-01-22T16:51:01.580Z"
   },
   {
    "duration": 151,
    "start_time": "2025-01-22T16:51:01.612Z"
   },
   {
    "duration": 174,
    "start_time": "2025-01-22T16:51:01.765Z"
   },
   {
    "duration": 406,
    "start_time": "2025-01-22T16:51:01.941Z"
   },
   {
    "duration": 33,
    "start_time": "2025-01-22T16:51:02.349Z"
   },
   {
    "duration": 54,
    "start_time": "2025-01-22T16:51:02.387Z"
   },
   {
    "duration": 44,
    "start_time": "2025-01-22T16:51:02.443Z"
   },
   {
    "duration": 27,
    "start_time": "2025-01-22T16:51:02.488Z"
   },
   {
    "duration": 349,
    "start_time": "2025-01-22T16:51:02.517Z"
   },
   {
    "duration": 64,
    "start_time": "2025-01-22T16:51:02.868Z"
   },
   {
    "duration": 14,
    "start_time": "2025-01-22T16:51:02.934Z"
   },
   {
    "duration": 44,
    "start_time": "2025-01-22T16:51:02.950Z"
   },
   {
    "duration": 52,
    "start_time": "2025-01-22T16:51:02.996Z"
   },
   {
    "duration": 39,
    "start_time": "2025-01-22T16:51:03.050Z"
   },
   {
    "duration": 87,
    "start_time": "2025-01-22T16:51:03.090Z"
   },
   {
    "duration": 30,
    "start_time": "2025-01-22T16:51:03.179Z"
   },
   {
    "duration": 48,
    "start_time": "2025-01-22T16:51:03.210Z"
   },
   {
    "duration": 13,
    "start_time": "2025-01-22T16:51:03.259Z"
   },
   {
    "duration": 169,
    "start_time": "2025-01-22T16:51:03.274Z"
   },
   {
    "duration": 5,
    "start_time": "2025-01-22T16:51:03.444Z"
   },
   {
    "duration": 15,
    "start_time": "2025-01-22T16:51:03.450Z"
   },
   {
    "duration": 20,
    "start_time": "2025-01-22T16:51:03.471Z"
   },
   {
    "duration": 25,
    "start_time": "2025-01-22T16:51:03.493Z"
   },
   {
    "duration": 115,
    "start_time": "2025-01-22T16:51:03.520Z"
   },
   {
    "duration": 108,
    "start_time": "2025-01-22T16:51:03.637Z"
   },
   {
    "duration": 123,
    "start_time": "2025-01-22T16:51:03.748Z"
   },
   {
    "duration": 8,
    "start_time": "2025-01-22T16:51:03.873Z"
   },
   {
    "duration": 45,
    "start_time": "2025-01-22T16:51:03.883Z"
   },
   {
    "duration": 28,
    "start_time": "2025-01-22T16:51:03.930Z"
   },
   {
    "duration": 27,
    "start_time": "2025-01-22T16:51:03.960Z"
   },
   {
    "duration": 16,
    "start_time": "2025-01-22T16:51:03.988Z"
   },
   {
    "duration": 70,
    "start_time": "2025-01-22T16:51:04.005Z"
   },
   {
    "duration": 39,
    "start_time": "2025-01-22T16:51:04.077Z"
   },
   {
    "duration": 203,
    "start_time": "2025-01-22T16:51:04.118Z"
   },
   {
    "duration": 45,
    "start_time": "2025-01-22T16:51:04.323Z"
   },
   {
    "duration": 36,
    "start_time": "2025-01-22T16:51:04.370Z"
   },
   {
    "duration": 23,
    "start_time": "2025-01-22T16:51:04.408Z"
   },
   {
    "duration": 26,
    "start_time": "2025-01-22T16:51:04.432Z"
   },
   {
    "duration": 48,
    "start_time": "2025-01-22T16:51:04.460Z"
   },
   {
    "duration": 112,
    "start_time": "2025-01-22T16:51:04.510Z"
   },
   {
    "duration": 26,
    "start_time": "2025-01-22T16:51:04.623Z"
   },
   {
    "duration": 47,
    "start_time": "2025-01-22T16:51:04.651Z"
   },
   {
    "duration": 115,
    "start_time": "2025-01-22T16:51:04.700Z"
   },
   {
    "duration": 110,
    "start_time": "2025-01-22T16:51:04.816Z"
   },
   {
    "duration": 6,
    "start_time": "2025-01-22T16:51:04.928Z"
   },
   {
    "duration": 60,
    "start_time": "2025-01-22T16:51:04.936Z"
   },
   {
    "duration": 23,
    "start_time": "2025-01-22T16:51:04.997Z"
   },
   {
    "duration": 26,
    "start_time": "2025-01-22T16:51:05.021Z"
   },
   {
    "duration": 90,
    "start_time": "2025-01-22T16:51:05.049Z"
   },
   {
    "duration": 37,
    "start_time": "2025-01-22T16:51:05.141Z"
   },
   {
    "duration": 132,
    "start_time": "2025-01-22T16:51:05.179Z"
   },
   {
    "duration": 0,
    "start_time": "2025-01-22T16:51:05.314Z"
   },
   {
    "duration": 0,
    "start_time": "2025-01-22T16:51:05.315Z"
   },
   {
    "duration": 0,
    "start_time": "2025-01-22T16:51:05.316Z"
   },
   {
    "duration": 0,
    "start_time": "2025-01-22T16:51:05.317Z"
   },
   {
    "duration": 0,
    "start_time": "2025-01-22T16:51:05.318Z"
   },
   {
    "duration": 0,
    "start_time": "2025-01-22T16:51:05.319Z"
   },
   {
    "duration": 0,
    "start_time": "2025-01-22T16:51:05.320Z"
   },
   {
    "duration": 0,
    "start_time": "2025-01-22T16:51:05.321Z"
   },
   {
    "duration": 0,
    "start_time": "2025-01-22T16:51:05.322Z"
   },
   {
    "duration": 0,
    "start_time": "2025-01-22T16:51:05.323Z"
   },
   {
    "duration": 0,
    "start_time": "2025-01-22T16:51:05.325Z"
   },
   {
    "duration": 0,
    "start_time": "2025-01-22T16:51:05.326Z"
   },
   {
    "duration": 0,
    "start_time": "2025-01-22T16:51:05.327Z"
   },
   {
    "duration": 0,
    "start_time": "2025-01-22T16:51:05.328Z"
   },
   {
    "duration": 0,
    "start_time": "2025-01-22T16:51:05.329Z"
   },
   {
    "duration": 0,
    "start_time": "2025-01-22T16:51:05.330Z"
   },
   {
    "duration": 0,
    "start_time": "2025-01-22T16:51:05.332Z"
   },
   {
    "duration": 0,
    "start_time": "2025-01-22T16:51:05.333Z"
   },
   {
    "duration": 0,
    "start_time": "2025-01-22T16:51:05.371Z"
   },
   {
    "duration": 0,
    "start_time": "2025-01-22T16:51:05.372Z"
   },
   {
    "duration": 0,
    "start_time": "2025-01-22T16:51:05.373Z"
   },
   {
    "duration": 0,
    "start_time": "2025-01-22T16:51:05.374Z"
   },
   {
    "duration": 0,
    "start_time": "2025-01-22T16:51:05.376Z"
   },
   {
    "duration": 0,
    "start_time": "2025-01-22T16:51:05.377Z"
   },
   {
    "duration": 0,
    "start_time": "2025-01-22T16:51:05.379Z"
   },
   {
    "duration": 0,
    "start_time": "2025-01-22T16:51:05.380Z"
   },
   {
    "duration": 0,
    "start_time": "2025-01-22T16:51:05.381Z"
   },
   {
    "duration": 0,
    "start_time": "2025-01-22T16:51:05.382Z"
   },
   {
    "duration": 0,
    "start_time": "2025-01-22T16:51:05.383Z"
   },
   {
    "duration": 0,
    "start_time": "2025-01-22T16:51:05.385Z"
   },
   {
    "duration": 0,
    "start_time": "2025-01-22T16:51:05.386Z"
   },
   {
    "duration": 0,
    "start_time": "2025-01-22T16:51:05.387Z"
   },
   {
    "duration": 0,
    "start_time": "2025-01-22T16:51:05.388Z"
   },
   {
    "duration": 0,
    "start_time": "2025-01-22T16:51:05.390Z"
   },
   {
    "duration": 0,
    "start_time": "2025-01-22T16:51:05.391Z"
   },
   {
    "duration": 0,
    "start_time": "2025-01-22T16:51:05.393Z"
   },
   {
    "duration": 0,
    "start_time": "2025-01-22T16:51:05.394Z"
   },
   {
    "duration": 0,
    "start_time": "2025-01-22T16:51:05.395Z"
   },
   {
    "duration": 0,
    "start_time": "2025-01-22T16:51:05.396Z"
   },
   {
    "duration": 0,
    "start_time": "2025-01-22T16:51:05.397Z"
   },
   {
    "duration": 9,
    "start_time": "2025-01-22T16:58:21.811Z"
   },
   {
    "duration": 8,
    "start_time": "2025-01-22T16:58:27.426Z"
   },
   {
    "duration": 40,
    "start_time": "2025-01-22T17:41:13.583Z"
   },
   {
    "duration": 8,
    "start_time": "2025-01-22T17:41:22.066Z"
   },
   {
    "duration": 4,
    "start_time": "2025-01-22T17:42:23.378Z"
   },
   {
    "duration": 516,
    "start_time": "2025-01-22T17:43:15.015Z"
   },
   {
    "duration": 86,
    "start_time": "2025-01-22T17:45:21.589Z"
   },
   {
    "duration": 58,
    "start_time": "2025-01-22T17:46:50.110Z"
   },
   {
    "duration": 3812,
    "start_time": "2025-01-22T17:47:05.247Z"
   },
   {
    "duration": 70,
    "start_time": "2025-01-22T17:47:09.061Z"
   },
   {
    "duration": 54,
    "start_time": "2025-01-22T17:47:09.133Z"
   },
   {
    "duration": 984,
    "start_time": "2025-01-22T17:47:09.189Z"
   },
   {
    "duration": 178,
    "start_time": "2025-01-22T17:47:10.175Z"
   },
   {
    "duration": 230,
    "start_time": "2025-01-22T17:47:10.355Z"
   },
   {
    "duration": 59,
    "start_time": "2025-01-22T17:47:10.587Z"
   },
   {
    "duration": 113,
    "start_time": "2025-01-22T17:47:10.648Z"
   },
   {
    "duration": 388,
    "start_time": "2025-01-22T17:47:10.762Z"
   },
   {
    "duration": 5,
    "start_time": "2025-01-22T17:47:11.153Z"
   },
   {
    "duration": 8,
    "start_time": "2025-01-22T17:47:11.170Z"
   },
   {
    "duration": 18,
    "start_time": "2025-01-22T17:47:11.180Z"
   },
   {
    "duration": 12,
    "start_time": "2025-01-22T17:47:11.199Z"
   },
   {
    "duration": 8,
    "start_time": "2025-01-22T17:47:11.213Z"
   },
   {
    "duration": 2202,
    "start_time": "2025-01-22T17:47:11.222Z"
   },
   {
    "duration": 8,
    "start_time": "2025-01-22T17:47:13.426Z"
   },
   {
    "duration": 6,
    "start_time": "2025-01-22T17:47:13.436Z"
   },
   {
    "duration": 28,
    "start_time": "2025-01-22T17:47:13.444Z"
   },
   {
    "duration": 6,
    "start_time": "2025-01-22T17:47:13.474Z"
   },
   {
    "duration": 6,
    "start_time": "2025-01-22T17:47:13.482Z"
   },
   {
    "duration": 24,
    "start_time": "2025-01-22T17:47:13.489Z"
   },
   {
    "duration": 14,
    "start_time": "2025-01-22T17:47:13.515Z"
   },
   {
    "duration": 8,
    "start_time": "2025-01-22T17:47:13.532Z"
   },
   {
    "duration": 140,
    "start_time": "2025-01-22T17:47:13.541Z"
   },
   {
    "duration": 195,
    "start_time": "2025-01-22T17:47:13.682Z"
   },
   {
    "duration": 471,
    "start_time": "2025-01-22T17:47:13.879Z"
   },
   {
    "duration": 34,
    "start_time": "2025-01-22T17:47:14.352Z"
   },
   {
    "duration": 10,
    "start_time": "2025-01-22T17:47:14.390Z"
   },
   {
    "duration": 122,
    "start_time": "2025-01-22T17:47:14.402Z"
   },
   {
    "duration": 21,
    "start_time": "2025-01-22T17:47:14.526Z"
   },
   {
    "duration": 11,
    "start_time": "2025-01-22T17:47:14.548Z"
   },
   {
    "duration": 43,
    "start_time": "2025-01-22T17:47:14.560Z"
   },
   {
    "duration": 14,
    "start_time": "2025-01-22T17:47:14.604Z"
   },
   {
    "duration": 27,
    "start_time": "2025-01-22T17:47:14.620Z"
   },
   {
    "duration": 34,
    "start_time": "2025-01-22T17:47:14.649Z"
   },
   {
    "duration": 11,
    "start_time": "2025-01-22T17:47:14.684Z"
   },
   {
    "duration": 14,
    "start_time": "2025-01-22T17:47:14.697Z"
   },
   {
    "duration": 14,
    "start_time": "2025-01-22T17:47:14.713Z"
   },
   {
    "duration": 82,
    "start_time": "2025-01-22T17:47:14.729Z"
   },
   {
    "duration": 80,
    "start_time": "2025-01-22T17:47:14.813Z"
   },
   {
    "duration": 152,
    "start_time": "2025-01-22T17:47:14.895Z"
   },
   {
    "duration": 5,
    "start_time": "2025-01-22T17:47:15.049Z"
   },
   {
    "duration": 64,
    "start_time": "2025-01-22T17:47:15.070Z"
   },
   {
    "duration": 48,
    "start_time": "2025-01-22T17:47:15.136Z"
   },
   {
    "duration": 18,
    "start_time": "2025-01-22T17:47:15.186Z"
   },
   {
    "duration": 78,
    "start_time": "2025-01-22T17:47:15.206Z"
   },
   {
    "duration": 127,
    "start_time": "2025-01-22T17:47:15.285Z"
   },
   {
    "duration": 112,
    "start_time": "2025-01-22T17:47:15.414Z"
   },
   {
    "duration": 7,
    "start_time": "2025-01-22T17:47:15.528Z"
   },
   {
    "duration": 45,
    "start_time": "2025-01-22T17:47:15.537Z"
   },
   {
    "duration": 21,
    "start_time": "2025-01-22T17:47:15.584Z"
   },
   {
    "duration": 27,
    "start_time": "2025-01-22T17:47:15.606Z"
   },
   {
    "duration": 6,
    "start_time": "2025-01-22T17:47:15.635Z"
   },
   {
    "duration": 42,
    "start_time": "2025-01-22T17:47:15.643Z"
   },
   {
    "duration": 16,
    "start_time": "2025-01-22T17:47:15.687Z"
   },
   {
    "duration": 11,
    "start_time": "2025-01-22T17:47:15.705Z"
   },
   {
    "duration": 26,
    "start_time": "2025-01-22T17:47:15.718Z"
   },
   {
    "duration": 36,
    "start_time": "2025-01-22T17:47:15.747Z"
   },
   {
    "duration": 23,
    "start_time": "2025-01-22T17:47:15.786Z"
   },
   {
    "duration": 19,
    "start_time": "2025-01-22T17:47:15.812Z"
   },
   {
    "duration": 13,
    "start_time": "2025-01-22T17:47:15.833Z"
   },
   {
    "duration": 33,
    "start_time": "2025-01-22T17:47:15.848Z"
   },
   {
    "duration": 10,
    "start_time": "2025-01-22T17:47:15.883Z"
   },
   {
    "duration": 49,
    "start_time": "2025-01-22T17:47:15.894Z"
   },
   {
    "duration": 55,
    "start_time": "2025-01-22T17:47:15.945Z"
   },
   {
    "duration": 43,
    "start_time": "2025-01-22T17:47:16.002Z"
   },
   {
    "duration": 5,
    "start_time": "2025-01-22T17:47:16.047Z"
   },
   {
    "duration": 57,
    "start_time": "2025-01-22T17:47:16.071Z"
   },
   {
    "duration": 20,
    "start_time": "2025-01-22T17:47:16.130Z"
   },
   {
    "duration": 17,
    "start_time": "2025-01-22T17:47:16.170Z"
   },
   {
    "duration": 100,
    "start_time": "2025-01-22T17:47:16.189Z"
   },
   {
    "duration": 1482,
    "start_time": "2025-01-22T17:47:16.291Z"
   },
   {
    "duration": 0,
    "start_time": "2025-01-22T17:47:17.777Z"
   },
   {
    "duration": 0,
    "start_time": "2025-01-22T17:47:17.778Z"
   },
   {
    "duration": 0,
    "start_time": "2025-01-22T17:47:17.780Z"
   },
   {
    "duration": 0,
    "start_time": "2025-01-22T17:47:17.781Z"
   },
   {
    "duration": 0,
    "start_time": "2025-01-22T17:47:17.782Z"
   },
   {
    "duration": 0,
    "start_time": "2025-01-22T17:47:17.784Z"
   },
   {
    "duration": 0,
    "start_time": "2025-01-22T17:47:17.785Z"
   },
   {
    "duration": 0,
    "start_time": "2025-01-22T17:47:17.786Z"
   },
   {
    "duration": 0,
    "start_time": "2025-01-22T17:47:17.787Z"
   },
   {
    "duration": 0,
    "start_time": "2025-01-22T17:47:17.788Z"
   },
   {
    "duration": 0,
    "start_time": "2025-01-22T17:47:17.789Z"
   },
   {
    "duration": 0,
    "start_time": "2025-01-22T17:47:17.790Z"
   },
   {
    "duration": 0,
    "start_time": "2025-01-22T17:47:17.792Z"
   },
   {
    "duration": 0,
    "start_time": "2025-01-22T17:47:17.793Z"
   },
   {
    "duration": 0,
    "start_time": "2025-01-22T17:47:17.794Z"
   },
   {
    "duration": 0,
    "start_time": "2025-01-22T17:47:17.795Z"
   },
   {
    "duration": 0,
    "start_time": "2025-01-22T17:47:17.796Z"
   },
   {
    "duration": 0,
    "start_time": "2025-01-22T17:47:17.797Z"
   },
   {
    "duration": 0,
    "start_time": "2025-01-22T17:47:17.798Z"
   },
   {
    "duration": 0,
    "start_time": "2025-01-22T17:47:17.799Z"
   },
   {
    "duration": 0,
    "start_time": "2025-01-22T17:47:17.801Z"
   },
   {
    "duration": 0,
    "start_time": "2025-01-22T17:47:17.802Z"
   },
   {
    "duration": 0,
    "start_time": "2025-01-22T17:47:17.803Z"
   },
   {
    "duration": 0,
    "start_time": "2025-01-22T17:47:17.804Z"
   },
   {
    "duration": 0,
    "start_time": "2025-01-22T17:47:17.806Z"
   },
   {
    "duration": 0,
    "start_time": "2025-01-22T17:47:17.807Z"
   },
   {
    "duration": 0,
    "start_time": "2025-01-22T17:47:17.809Z"
   },
   {
    "duration": 0,
    "start_time": "2025-01-22T17:47:17.811Z"
   },
   {
    "duration": 0,
    "start_time": "2025-01-22T17:47:17.812Z"
   },
   {
    "duration": 0,
    "start_time": "2025-01-22T17:47:17.814Z"
   },
   {
    "duration": 0,
    "start_time": "2025-01-22T17:47:17.871Z"
   },
   {
    "duration": 0,
    "start_time": "2025-01-22T17:47:17.872Z"
   },
   {
    "duration": 0,
    "start_time": "2025-01-22T17:47:17.874Z"
   },
   {
    "duration": 0,
    "start_time": "2025-01-22T17:47:17.875Z"
   },
   {
    "duration": 0,
    "start_time": "2025-01-22T17:47:17.877Z"
   },
   {
    "duration": 0,
    "start_time": "2025-01-22T17:47:17.879Z"
   },
   {
    "duration": 0,
    "start_time": "2025-01-22T17:47:17.880Z"
   },
   {
    "duration": 0,
    "start_time": "2025-01-22T17:47:17.882Z"
   },
   {
    "duration": 0,
    "start_time": "2025-01-22T17:47:17.883Z"
   },
   {
    "duration": 0,
    "start_time": "2025-01-22T17:47:17.885Z"
   },
   {
    "duration": 0,
    "start_time": "2025-01-22T17:47:17.886Z"
   },
   {
    "duration": 0,
    "start_time": "2025-01-22T17:47:17.888Z"
   },
   {
    "duration": 0,
    "start_time": "2025-01-22T17:47:17.890Z"
   },
   {
    "duration": 1322,
    "start_time": "2025-01-22T17:49:52.540Z"
   },
   {
    "duration": 9,
    "start_time": "2025-01-22T17:50:19.119Z"
   },
   {
    "duration": 1502,
    "start_time": "2025-01-22T17:51:29.868Z"
   },
   {
    "duration": 1331,
    "start_time": "2025-01-22T17:51:51.047Z"
   },
   {
    "duration": 1573,
    "start_time": "2025-01-22T17:52:03.526Z"
   },
   {
    "duration": 31,
    "start_time": "2025-01-22T17:53:11.780Z"
   },
   {
    "duration": 525,
    "start_time": "2025-01-22T17:54:18.066Z"
   },
   {
    "duration": 492,
    "start_time": "2025-01-22T17:55:00.615Z"
   },
   {
    "duration": 1814,
    "start_time": "2025-01-22T17:55:34.137Z"
   },
   {
    "duration": 86,
    "start_time": "2025-01-22T17:56:08.042Z"
   },
   {
    "duration": 1827,
    "start_time": "2025-01-22T17:56:16.340Z"
   },
   {
    "duration": 1801,
    "start_time": "2025-01-22T17:57:29.308Z"
   },
   {
    "duration": 5,
    "start_time": "2025-01-22T17:58:07.221Z"
   },
   {
    "duration": 2080,
    "start_time": "2025-01-22T17:58:23.963Z"
   },
   {
    "duration": 3932,
    "start_time": "2025-01-22T17:58:35.976Z"
   },
   {
    "duration": 39,
    "start_time": "2025-01-22T17:58:39.911Z"
   },
   {
    "duration": 52,
    "start_time": "2025-01-22T17:58:39.952Z"
   },
   {
    "duration": 1134,
    "start_time": "2025-01-22T17:58:40.007Z"
   },
   {
    "duration": 202,
    "start_time": "2025-01-22T17:58:41.143Z"
   },
   {
    "duration": 183,
    "start_time": "2025-01-22T17:58:41.347Z"
   },
   {
    "duration": 55,
    "start_time": "2025-01-22T17:58:41.532Z"
   },
   {
    "duration": 79,
    "start_time": "2025-01-22T17:58:41.588Z"
   },
   {
    "duration": 339,
    "start_time": "2025-01-22T17:58:41.669Z"
   },
   {
    "duration": 4,
    "start_time": "2025-01-22T17:58:42.011Z"
   },
   {
    "duration": 12,
    "start_time": "2025-01-22T17:58:42.017Z"
   },
   {
    "duration": 18,
    "start_time": "2025-01-22T17:58:42.031Z"
   },
   {
    "duration": 20,
    "start_time": "2025-01-22T17:58:42.051Z"
   },
   {
    "duration": 11,
    "start_time": "2025-01-22T17:58:42.073Z"
   },
   {
    "duration": 2543,
    "start_time": "2025-01-22T17:58:42.086Z"
   },
   {
    "duration": 5,
    "start_time": "2025-01-22T17:58:44.631Z"
   },
   {
    "duration": 24,
    "start_time": "2025-01-22T17:58:44.637Z"
   },
   {
    "duration": 19,
    "start_time": "2025-01-22T17:58:44.662Z"
   },
   {
    "duration": 6,
    "start_time": "2025-01-22T17:58:44.683Z"
   },
   {
    "duration": 24,
    "start_time": "2025-01-22T17:58:44.691Z"
   },
   {
    "duration": 20,
    "start_time": "2025-01-22T17:58:44.717Z"
   },
   {
    "duration": 21,
    "start_time": "2025-01-22T17:58:44.740Z"
   },
   {
    "duration": 12,
    "start_time": "2025-01-22T17:58:44.763Z"
   },
   {
    "duration": 129,
    "start_time": "2025-01-22T17:58:44.777Z"
   },
   {
    "duration": 188,
    "start_time": "2025-01-22T17:58:44.908Z"
   },
   {
    "duration": 457,
    "start_time": "2025-01-22T17:58:45.098Z"
   },
   {
    "duration": 41,
    "start_time": "2025-01-22T17:58:45.557Z"
   },
   {
    "duration": 16,
    "start_time": "2025-01-22T17:58:45.606Z"
   },
   {
    "duration": 82,
    "start_time": "2025-01-22T17:58:45.624Z"
   },
   {
    "duration": 37,
    "start_time": "2025-01-22T17:58:45.708Z"
   },
   {
    "duration": 27,
    "start_time": "2025-01-22T17:58:45.748Z"
   },
   {
    "duration": 65,
    "start_time": "2025-01-22T17:58:45.777Z"
   },
   {
    "duration": 37,
    "start_time": "2025-01-22T17:58:45.844Z"
   },
   {
    "duration": 21,
    "start_time": "2025-01-22T17:58:45.883Z"
   },
   {
    "duration": 26,
    "start_time": "2025-01-22T17:58:45.906Z"
   },
   {
    "duration": 10,
    "start_time": "2025-01-22T17:58:45.933Z"
   },
   {
    "duration": 33,
    "start_time": "2025-01-22T17:58:45.945Z"
   },
   {
    "duration": 114,
    "start_time": "2025-01-22T17:58:45.980Z"
   },
   {
    "duration": 50,
    "start_time": "2025-01-22T17:58:46.096Z"
   },
   {
    "duration": 15,
    "start_time": "2025-01-22T17:58:46.148Z"
   },
   {
    "duration": 153,
    "start_time": "2025-01-22T17:58:46.165Z"
   },
   {
    "duration": 5,
    "start_time": "2025-01-22T17:58:46.321Z"
   },
   {
    "duration": 23,
    "start_time": "2025-01-22T17:58:46.328Z"
   },
   {
    "duration": 25,
    "start_time": "2025-01-22T17:58:46.354Z"
   },
   {
    "duration": 6,
    "start_time": "2025-01-22T17:58:46.381Z"
   },
   {
    "duration": 57,
    "start_time": "2025-01-22T17:58:46.389Z"
   },
   {
    "duration": 135,
    "start_time": "2025-01-22T17:58:46.448Z"
   },
   {
    "duration": 120,
    "start_time": "2025-01-22T17:58:46.585Z"
   },
   {
    "duration": 8,
    "start_time": "2025-01-22T17:58:46.707Z"
   },
   {
    "duration": 27,
    "start_time": "2025-01-22T17:58:46.716Z"
   },
   {
    "duration": 43,
    "start_time": "2025-01-22T17:58:46.744Z"
   },
   {
    "duration": 43,
    "start_time": "2025-01-22T17:58:46.790Z"
   },
   {
    "duration": 7,
    "start_time": "2025-01-22T17:58:46.835Z"
   },
   {
    "duration": 42,
    "start_time": "2025-01-22T17:58:46.844Z"
   },
   {
    "duration": 72,
    "start_time": "2025-01-22T17:58:46.887Z"
   },
   {
    "duration": 12,
    "start_time": "2025-01-22T17:58:46.961Z"
   },
   {
    "duration": 33,
    "start_time": "2025-01-22T17:58:46.974Z"
   },
   {
    "duration": 123,
    "start_time": "2025-01-22T17:58:47.009Z"
   },
   {
    "duration": 9,
    "start_time": "2025-01-22T17:58:47.135Z"
   },
   {
    "duration": 14,
    "start_time": "2025-01-22T17:58:47.146Z"
   },
   {
    "duration": 11,
    "start_time": "2025-01-22T17:58:47.162Z"
   },
   {
    "duration": 20,
    "start_time": "2025-01-22T17:58:47.175Z"
   },
   {
    "duration": 10,
    "start_time": "2025-01-22T17:58:47.197Z"
   },
   {
    "duration": 41,
    "start_time": "2025-01-22T17:58:47.209Z"
   },
   {
    "duration": 38,
    "start_time": "2025-01-22T17:58:47.270Z"
   },
   {
    "duration": 60,
    "start_time": "2025-01-22T17:58:47.310Z"
   },
   {
    "duration": 55,
    "start_time": "2025-01-22T17:58:47.372Z"
   },
   {
    "duration": 64,
    "start_time": "2025-01-22T17:58:47.428Z"
   },
   {
    "duration": 25,
    "start_time": "2025-01-22T17:58:47.493Z"
   },
   {
    "duration": 19,
    "start_time": "2025-01-22T17:58:47.520Z"
   },
   {
    "duration": 120,
    "start_time": "2025-01-22T17:58:47.541Z"
   },
   {
    "duration": 30,
    "start_time": "2025-01-22T17:58:47.670Z"
   },
   {
    "duration": 1957,
    "start_time": "2025-01-22T17:58:47.702Z"
   },
   {
    "duration": 0,
    "start_time": "2025-01-22T17:58:49.662Z"
   },
   {
    "duration": 0,
    "start_time": "2025-01-22T17:58:49.663Z"
   },
   {
    "duration": 0,
    "start_time": "2025-01-22T17:58:49.664Z"
   },
   {
    "duration": 0,
    "start_time": "2025-01-22T17:58:49.666Z"
   },
   {
    "duration": 0,
    "start_time": "2025-01-22T17:58:49.667Z"
   },
   {
    "duration": 0,
    "start_time": "2025-01-22T17:58:49.668Z"
   },
   {
    "duration": 0,
    "start_time": "2025-01-22T17:58:49.669Z"
   },
   {
    "duration": 0,
    "start_time": "2025-01-22T17:58:49.671Z"
   },
   {
    "duration": 0,
    "start_time": "2025-01-22T17:58:49.672Z"
   },
   {
    "duration": 0,
    "start_time": "2025-01-22T17:58:49.673Z"
   },
   {
    "duration": 0,
    "start_time": "2025-01-22T17:58:49.675Z"
   },
   {
    "duration": 0,
    "start_time": "2025-01-22T17:58:49.676Z"
   },
   {
    "duration": 0,
    "start_time": "2025-01-22T17:58:49.678Z"
   },
   {
    "duration": 0,
    "start_time": "2025-01-22T17:58:49.680Z"
   },
   {
    "duration": 0,
    "start_time": "2025-01-22T17:58:49.681Z"
   },
   {
    "duration": 0,
    "start_time": "2025-01-22T17:58:49.682Z"
   },
   {
    "duration": 0,
    "start_time": "2025-01-22T17:58:49.683Z"
   },
   {
    "duration": 0,
    "start_time": "2025-01-22T17:58:49.685Z"
   },
   {
    "duration": 0,
    "start_time": "2025-01-22T17:58:49.686Z"
   },
   {
    "duration": 0,
    "start_time": "2025-01-22T17:58:49.687Z"
   },
   {
    "duration": 0,
    "start_time": "2025-01-22T17:58:49.689Z"
   },
   {
    "duration": 0,
    "start_time": "2025-01-22T17:58:49.691Z"
   },
   {
    "duration": 0,
    "start_time": "2025-01-22T17:58:49.692Z"
   },
   {
    "duration": 0,
    "start_time": "2025-01-22T17:58:49.693Z"
   },
   {
    "duration": 0,
    "start_time": "2025-01-22T17:58:49.695Z"
   },
   {
    "duration": 0,
    "start_time": "2025-01-22T17:58:49.696Z"
   },
   {
    "duration": 0,
    "start_time": "2025-01-22T17:58:49.698Z"
   },
   {
    "duration": 0,
    "start_time": "2025-01-22T17:58:49.699Z"
   },
   {
    "duration": 0,
    "start_time": "2025-01-22T17:58:49.700Z"
   },
   {
    "duration": 0,
    "start_time": "2025-01-22T17:58:49.701Z"
   },
   {
    "duration": 0,
    "start_time": "2025-01-22T17:58:49.702Z"
   },
   {
    "duration": 1,
    "start_time": "2025-01-22T17:58:49.704Z"
   },
   {
    "duration": 0,
    "start_time": "2025-01-22T17:58:49.706Z"
   },
   {
    "duration": 0,
    "start_time": "2025-01-22T17:58:49.771Z"
   },
   {
    "duration": 0,
    "start_time": "2025-01-22T17:58:49.773Z"
   },
   {
    "duration": 0,
    "start_time": "2025-01-22T17:58:49.774Z"
   },
   {
    "duration": 0,
    "start_time": "2025-01-22T17:58:49.776Z"
   },
   {
    "duration": 0,
    "start_time": "2025-01-22T17:58:49.777Z"
   },
   {
    "duration": 0,
    "start_time": "2025-01-22T17:58:49.779Z"
   },
   {
    "duration": 0,
    "start_time": "2025-01-22T17:58:49.780Z"
   },
   {
    "duration": 0,
    "start_time": "2025-01-22T17:58:49.782Z"
   },
   {
    "duration": 465,
    "start_time": "2025-01-22T17:59:04.534Z"
   },
   {
    "duration": 1839,
    "start_time": "2025-01-22T17:59:20.502Z"
   },
   {
    "duration": 471,
    "start_time": "2025-01-22T18:04:12.365Z"
   },
   {
    "duration": 526,
    "start_time": "2025-01-22T18:04:36.092Z"
   },
   {
    "duration": 304,
    "start_time": "2025-01-22T18:04:53.692Z"
   },
   {
    "duration": 307,
    "start_time": "2025-01-22T18:05:04.858Z"
   },
   {
    "duration": 311,
    "start_time": "2025-01-22T18:09:54.036Z"
   },
   {
    "duration": 302,
    "start_time": "2025-01-22T18:10:06.401Z"
   },
   {
    "duration": 295,
    "start_time": "2025-01-22T18:10:16.137Z"
   },
   {
    "duration": 11,
    "start_time": "2025-01-22T18:27:03.257Z"
   },
   {
    "duration": 3889,
    "start_time": "2025-01-22T18:27:25.578Z"
   },
   {
    "duration": 50,
    "start_time": "2025-01-22T18:27:29.470Z"
   },
   {
    "duration": 94,
    "start_time": "2025-01-22T18:27:29.522Z"
   },
   {
    "duration": 1035,
    "start_time": "2025-01-22T18:27:29.619Z"
   },
   {
    "duration": 221,
    "start_time": "2025-01-22T18:27:30.656Z"
   },
   {
    "duration": 164,
    "start_time": "2025-01-22T18:27:30.879Z"
   },
   {
    "duration": 61,
    "start_time": "2025-01-22T18:27:31.045Z"
   },
   {
    "duration": 84,
    "start_time": "2025-01-22T18:27:31.108Z"
   },
   {
    "duration": 482,
    "start_time": "2025-01-22T18:27:31.194Z"
   },
   {
    "duration": 5,
    "start_time": "2025-01-22T18:27:31.679Z"
   },
   {
    "duration": 35,
    "start_time": "2025-01-22T18:27:31.686Z"
   },
   {
    "duration": 37,
    "start_time": "2025-01-22T18:27:31.724Z"
   },
   {
    "duration": 17,
    "start_time": "2025-01-22T18:27:31.763Z"
   },
   {
    "duration": 18,
    "start_time": "2025-01-22T18:27:31.782Z"
   },
   {
    "duration": 2323,
    "start_time": "2025-01-22T18:27:31.802Z"
   },
   {
    "duration": 6,
    "start_time": "2025-01-22T18:27:34.127Z"
   },
   {
    "duration": 47,
    "start_time": "2025-01-22T18:27:34.135Z"
   },
   {
    "duration": 10,
    "start_time": "2025-01-22T18:27:34.186Z"
   },
   {
    "duration": 22,
    "start_time": "2025-01-22T18:27:34.198Z"
   },
   {
    "duration": 23,
    "start_time": "2025-01-22T18:27:34.222Z"
   },
   {
    "duration": 20,
    "start_time": "2025-01-22T18:27:34.248Z"
   },
   {
    "duration": 36,
    "start_time": "2025-01-22T18:27:34.270Z"
   },
   {
    "duration": 30,
    "start_time": "2025-01-22T18:27:34.308Z"
   },
   {
    "duration": 116,
    "start_time": "2025-01-22T18:27:34.340Z"
   },
   {
    "duration": 167,
    "start_time": "2025-01-22T18:27:34.458Z"
   },
   {
    "duration": 457,
    "start_time": "2025-01-22T18:27:34.627Z"
   },
   {
    "duration": 29,
    "start_time": "2025-01-22T18:27:35.086Z"
   },
   {
    "duration": 107,
    "start_time": "2025-01-22T18:27:35.121Z"
   },
   {
    "duration": 130,
    "start_time": "2025-01-22T18:27:35.231Z"
   },
   {
    "duration": 21,
    "start_time": "2025-01-22T18:27:35.362Z"
   },
   {
    "duration": 12,
    "start_time": "2025-01-22T18:27:35.385Z"
   },
   {
    "duration": 72,
    "start_time": "2025-01-22T18:27:35.399Z"
   },
   {
    "duration": 95,
    "start_time": "2025-01-22T18:27:35.473Z"
   },
   {
    "duration": 47,
    "start_time": "2025-01-22T18:27:35.571Z"
   },
   {
    "duration": 29,
    "start_time": "2025-01-22T18:27:35.621Z"
   },
   {
    "duration": 15,
    "start_time": "2025-01-22T18:27:35.652Z"
   },
   {
    "duration": 26,
    "start_time": "2025-01-22T18:27:35.670Z"
   },
   {
    "duration": 26,
    "start_time": "2025-01-22T18:27:35.698Z"
   },
   {
    "duration": 85,
    "start_time": "2025-01-22T18:27:35.726Z"
   },
   {
    "duration": 18,
    "start_time": "2025-01-22T18:27:35.816Z"
   },
   {
    "duration": 225,
    "start_time": "2025-01-22T18:27:35.837Z"
   },
   {
    "duration": 10,
    "start_time": "2025-01-22T18:27:36.064Z"
   },
   {
    "duration": 22,
    "start_time": "2025-01-22T18:27:36.076Z"
   },
   {
    "duration": 30,
    "start_time": "2025-01-22T18:27:36.099Z"
   },
   {
    "duration": 26,
    "start_time": "2025-01-22T18:27:36.131Z"
   },
   {
    "duration": 76,
    "start_time": "2025-01-22T18:27:36.159Z"
   },
   {
    "duration": 117,
    "start_time": "2025-01-22T18:27:36.237Z"
   },
   {
    "duration": 120,
    "start_time": "2025-01-22T18:27:36.356Z"
   },
   {
    "duration": 9,
    "start_time": "2025-01-22T18:27:36.478Z"
   },
   {
    "duration": 53,
    "start_time": "2025-01-22T18:27:36.489Z"
   },
   {
    "duration": 93,
    "start_time": "2025-01-22T18:27:36.544Z"
   },
   {
    "duration": 50,
    "start_time": "2025-01-22T18:27:36.638Z"
   },
   {
    "duration": 9,
    "start_time": "2025-01-22T18:27:36.690Z"
   },
   {
    "duration": 38,
    "start_time": "2025-01-22T18:27:36.700Z"
   },
   {
    "duration": 17,
    "start_time": "2025-01-22T18:27:36.740Z"
   },
   {
    "duration": 17,
    "start_time": "2025-01-22T18:27:36.759Z"
   },
   {
    "duration": 38,
    "start_time": "2025-01-22T18:27:36.778Z"
   },
   {
    "duration": 13,
    "start_time": "2025-01-22T18:27:36.818Z"
   },
   {
    "duration": 10,
    "start_time": "2025-01-22T18:27:36.833Z"
   },
   {
    "duration": 26,
    "start_time": "2025-01-22T18:27:36.845Z"
   },
   {
    "duration": 9,
    "start_time": "2025-01-22T18:27:36.873Z"
   },
   {
    "duration": 36,
    "start_time": "2025-01-22T18:27:36.884Z"
   },
   {
    "duration": 18,
    "start_time": "2025-01-22T18:27:36.922Z"
   },
   {
    "duration": 42,
    "start_time": "2025-01-22T18:27:36.942Z"
   },
   {
    "duration": 69,
    "start_time": "2025-01-22T18:27:36.987Z"
   },
   {
    "duration": 59,
    "start_time": "2025-01-22T18:27:37.070Z"
   },
   {
    "duration": 176,
    "start_time": "2025-01-22T18:27:37.131Z"
   },
   {
    "duration": 69,
    "start_time": "2025-01-22T18:27:37.309Z"
   },
   {
    "duration": 34,
    "start_time": "2025-01-22T18:27:37.380Z"
   },
   {
    "duration": 32,
    "start_time": "2025-01-22T18:27:37.415Z"
   },
   {
    "duration": 180,
    "start_time": "2025-01-22T18:27:37.449Z"
   },
   {
    "duration": 31,
    "start_time": "2025-01-22T18:27:37.631Z"
   },
   {
    "duration": 338,
    "start_time": "2025-01-22T18:27:37.664Z"
   },
   {
    "duration": 124,
    "start_time": "2025-01-22T18:27:38.004Z"
   },
   {
    "duration": 67,
    "start_time": "2025-01-22T18:27:38.130Z"
   },
   {
    "duration": 238,
    "start_time": "2025-01-22T18:27:38.199Z"
   },
   {
    "duration": 51,
    "start_time": "2025-01-22T18:27:38.439Z"
   },
   {
    "duration": 60,
    "start_time": "2025-01-22T18:27:38.492Z"
   },
   {
    "duration": 153,
    "start_time": "2025-01-22T18:27:38.570Z"
   },
   {
    "duration": 46,
    "start_time": "2025-01-22T18:27:38.724Z"
   },
   {
    "duration": 180,
    "start_time": "2025-01-22T18:27:38.772Z"
   },
   {
    "duration": 18,
    "start_time": "2025-01-22T18:27:38.959Z"
   },
   {
    "duration": 118,
    "start_time": "2025-01-22T18:27:38.979Z"
   },
   {
    "duration": 38,
    "start_time": "2025-01-22T18:27:39.099Z"
   },
   {
    "duration": 172,
    "start_time": "2025-01-22T18:27:39.138Z"
   },
   {
    "duration": 41,
    "start_time": "2025-01-22T18:27:39.312Z"
   },
   {
    "duration": 10,
    "start_time": "2025-01-22T18:27:39.355Z"
   },
   {
    "duration": 13,
    "start_time": "2025-01-22T18:27:39.371Z"
   },
   {
    "duration": 59,
    "start_time": "2025-01-22T18:27:39.386Z"
   },
   {
    "duration": 116,
    "start_time": "2025-01-22T18:27:39.470Z"
   },
   {
    "duration": 15,
    "start_time": "2025-01-22T18:27:39.588Z"
   },
   {
    "duration": 21,
    "start_time": "2025-01-22T18:27:39.605Z"
   },
   {
    "duration": 157,
    "start_time": "2025-01-22T18:27:39.628Z"
   },
   {
    "duration": 112,
    "start_time": "2025-01-22T18:27:39.787Z"
   },
   {
    "duration": 55,
    "start_time": "2025-01-22T18:27:39.902Z"
   },
   {
    "duration": 111,
    "start_time": "2025-01-22T18:27:39.960Z"
   },
   {
    "duration": 298,
    "start_time": "2025-01-22T18:27:40.073Z"
   },
   {
    "duration": 551,
    "start_time": "2025-01-22T18:27:40.373Z"
   },
   {
    "duration": 89,
    "start_time": "2025-01-22T18:27:40.926Z"
   },
   {
    "duration": 105,
    "start_time": "2025-01-22T18:27:41.017Z"
   },
   {
    "duration": 103,
    "start_time": "2025-01-22T18:27:41.124Z"
   },
   {
    "duration": 159,
    "start_time": "2025-01-22T18:27:41.228Z"
   },
   {
    "duration": 40,
    "start_time": "2025-01-22T18:27:41.389Z"
   },
   {
    "duration": 116,
    "start_time": "2025-01-22T18:27:41.431Z"
   },
   {
    "duration": 214,
    "start_time": "2025-01-22T18:27:41.549Z"
   },
   {
    "duration": 890,
    "start_time": "2025-01-22T18:27:41.770Z"
   },
   {
    "duration": 78,
    "start_time": "2025-01-22T18:27:42.661Z"
   },
   {
    "duration": 8,
    "start_time": "2025-01-22T18:27:42.741Z"
   },
   {
    "duration": 54,
    "start_time": "2025-01-22T18:27:42.751Z"
   },
   {
    "duration": 11,
    "start_time": "2025-01-22T18:27:42.808Z"
   },
   {
    "duration": 64,
    "start_time": "2025-01-22T18:27:42.821Z"
   },
   {
    "duration": 1518,
    "start_time": "2025-01-22T18:27:42.887Z"
   },
   {
    "duration": 0,
    "start_time": "2025-01-22T18:27:44.407Z"
   },
   {
    "duration": 0,
    "start_time": "2025-01-22T18:27:44.408Z"
   },
   {
    "duration": 99,
    "start_time": "2025-01-22T18:29:56.376Z"
   },
   {
    "duration": 3869,
    "start_time": "2025-01-22T18:41:05.245Z"
   },
   {
    "duration": 47,
    "start_time": "2025-01-22T18:41:09.117Z"
   },
   {
    "duration": 64,
    "start_time": "2025-01-22T18:41:09.166Z"
   },
   {
    "duration": 1091,
    "start_time": "2025-01-22T18:41:09.233Z"
   },
   {
    "duration": 228,
    "start_time": "2025-01-22T18:41:10.326Z"
   },
   {
    "duration": 210,
    "start_time": "2025-01-22T18:41:10.556Z"
   },
   {
    "duration": 64,
    "start_time": "2025-01-22T18:41:10.768Z"
   },
   {
    "duration": 78,
    "start_time": "2025-01-22T18:41:10.834Z"
   },
   {
    "duration": 410,
    "start_time": "2025-01-22T18:41:10.914Z"
   },
   {
    "duration": 6,
    "start_time": "2025-01-22T18:41:11.328Z"
   },
   {
    "duration": 22,
    "start_time": "2025-01-22T18:41:11.336Z"
   },
   {
    "duration": 12,
    "start_time": "2025-01-22T18:41:11.360Z"
   },
   {
    "duration": 8,
    "start_time": "2025-01-22T18:41:11.374Z"
   },
   {
    "duration": 15,
    "start_time": "2025-01-22T18:41:11.384Z"
   },
   {
    "duration": 2237,
    "start_time": "2025-01-22T18:41:11.401Z"
   },
   {
    "duration": 5,
    "start_time": "2025-01-22T18:41:13.640Z"
   },
   {
    "duration": 25,
    "start_time": "2025-01-22T18:41:13.647Z"
   },
   {
    "duration": 5,
    "start_time": "2025-01-22T18:41:13.674Z"
   },
   {
    "duration": 8,
    "start_time": "2025-01-22T18:41:13.681Z"
   },
   {
    "duration": 34,
    "start_time": "2025-01-22T18:41:13.691Z"
   },
   {
    "duration": 28,
    "start_time": "2025-01-22T18:41:13.727Z"
   },
   {
    "duration": 21,
    "start_time": "2025-01-22T18:41:13.757Z"
   },
   {
    "duration": 8,
    "start_time": "2025-01-22T18:41:13.780Z"
   },
   {
    "duration": 121,
    "start_time": "2025-01-22T18:41:13.789Z"
   },
   {
    "duration": 159,
    "start_time": "2025-01-22T18:41:13.912Z"
   },
   {
    "duration": 506,
    "start_time": "2025-01-22T18:41:14.073Z"
   },
   {
    "duration": 41,
    "start_time": "2025-01-22T18:41:14.581Z"
   },
   {
    "duration": 63,
    "start_time": "2025-01-22T18:41:14.628Z"
   },
   {
    "duration": 50,
    "start_time": "2025-01-22T18:41:14.693Z"
   },
   {
    "duration": 32,
    "start_time": "2025-01-22T18:41:14.745Z"
   },
   {
    "duration": 11,
    "start_time": "2025-01-22T18:41:14.779Z"
   },
   {
    "duration": 39,
    "start_time": "2025-01-22T18:41:14.792Z"
   },
   {
    "duration": 13,
    "start_time": "2025-01-22T18:41:14.833Z"
   },
   {
    "duration": 35,
    "start_time": "2025-01-22T18:41:14.848Z"
   },
   {
    "duration": 14,
    "start_time": "2025-01-22T18:41:14.885Z"
   },
   {
    "duration": 10,
    "start_time": "2025-01-22T18:41:14.901Z"
   },
   {
    "duration": 14,
    "start_time": "2025-01-22T18:41:14.912Z"
   },
   {
    "duration": 46,
    "start_time": "2025-01-22T18:41:14.928Z"
   },
   {
    "duration": 43,
    "start_time": "2025-01-22T18:41:14.976Z"
   },
   {
    "duration": 97,
    "start_time": "2025-01-22T18:41:15.021Z"
   },
   {
    "duration": 191,
    "start_time": "2025-01-22T18:41:15.120Z"
   },
   {
    "duration": 5,
    "start_time": "2025-01-22T18:41:15.313Z"
   },
   {
    "duration": 62,
    "start_time": "2025-01-22T18:41:15.320Z"
   },
   {
    "duration": 38,
    "start_time": "2025-01-22T18:41:15.384Z"
   },
   {
    "duration": 25,
    "start_time": "2025-01-22T18:41:15.424Z"
   },
   {
    "duration": 67,
    "start_time": "2025-01-22T18:41:15.450Z"
   },
   {
    "duration": 113,
    "start_time": "2025-01-22T18:41:15.519Z"
   },
   {
    "duration": 123,
    "start_time": "2025-01-22T18:41:15.634Z"
   },
   {
    "duration": 19,
    "start_time": "2025-01-22T18:41:15.759Z"
   },
   {
    "duration": 40,
    "start_time": "2025-01-22T18:41:15.781Z"
   },
   {
    "duration": 26,
    "start_time": "2025-01-22T18:41:15.823Z"
   },
   {
    "duration": 48,
    "start_time": "2025-01-22T18:41:15.850Z"
   },
   {
    "duration": 6,
    "start_time": "2025-01-22T18:41:15.900Z"
   },
   {
    "duration": 18,
    "start_time": "2025-01-22T18:41:15.908Z"
   },
   {
    "duration": 42,
    "start_time": "2025-01-22T18:41:15.928Z"
   },
   {
    "duration": 15,
    "start_time": "2025-01-22T18:41:15.972Z"
   },
   {
    "duration": 17,
    "start_time": "2025-01-22T18:41:15.988Z"
   },
   {
    "duration": 21,
    "start_time": "2025-01-22T18:41:16.007Z"
   },
   {
    "duration": 17,
    "start_time": "2025-01-22T18:41:16.029Z"
   },
   {
    "duration": 31,
    "start_time": "2025-01-22T18:41:16.048Z"
   },
   {
    "duration": 9,
    "start_time": "2025-01-22T18:41:16.080Z"
   },
   {
    "duration": 17,
    "start_time": "2025-01-22T18:41:16.090Z"
   },
   {
    "duration": 10,
    "start_time": "2025-01-22T18:41:16.108Z"
   },
   {
    "duration": 75,
    "start_time": "2025-01-22T18:41:16.120Z"
   },
   {
    "duration": 63,
    "start_time": "2025-01-22T18:41:16.197Z"
   },
   {
    "duration": 48,
    "start_time": "2025-01-22T18:41:16.261Z"
   },
   {
    "duration": 6,
    "start_time": "2025-01-22T18:41:16.311Z"
   },
   {
    "duration": 69,
    "start_time": "2025-01-22T18:41:16.319Z"
   },
   {
    "duration": 19,
    "start_time": "2025-01-22T18:41:16.390Z"
   },
   {
    "duration": 13,
    "start_time": "2025-01-22T18:41:16.411Z"
   },
   {
    "duration": 132,
    "start_time": "2025-01-22T18:41:16.427Z"
   },
   {
    "duration": 40,
    "start_time": "2025-01-22T18:41:16.561Z"
   },
   {
    "duration": 419,
    "start_time": "2025-01-22T18:41:16.603Z"
   },
   {
    "duration": 113,
    "start_time": "2025-01-22T18:41:17.024Z"
   },
   {
    "duration": 66,
    "start_time": "2025-01-22T18:41:17.139Z"
   },
   {
    "duration": 236,
    "start_time": "2025-01-22T18:41:17.207Z"
   },
   {
    "duration": 51,
    "start_time": "2025-01-22T18:41:17.445Z"
   },
   {
    "duration": 74,
    "start_time": "2025-01-22T18:41:17.497Z"
   },
   {
    "duration": 131,
    "start_time": "2025-01-22T18:41:17.573Z"
   },
   {
    "duration": 40,
    "start_time": "2025-01-22T18:41:17.706Z"
   },
   {
    "duration": 119,
    "start_time": "2025-01-22T18:41:17.748Z"
   },
   {
    "duration": 178,
    "start_time": "2025-01-22T18:41:17.874Z"
   },
   {
    "duration": 26,
    "start_time": "2025-01-22T18:41:18.055Z"
   },
   {
    "duration": 126,
    "start_time": "2025-01-22T18:41:18.084Z"
   },
   {
    "duration": 49,
    "start_time": "2025-01-22T18:41:18.211Z"
   },
   {
    "duration": 32,
    "start_time": "2025-01-22T18:41:18.272Z"
   },
   {
    "duration": 42,
    "start_time": "2025-01-22T18:41:18.306Z"
   },
   {
    "duration": 7,
    "start_time": "2025-01-22T18:41:18.370Z"
   },
   {
    "duration": 16,
    "start_time": "2025-01-22T18:41:18.379Z"
   },
   {
    "duration": 84,
    "start_time": "2025-01-22T18:41:18.397Z"
   },
   {
    "duration": 39,
    "start_time": "2025-01-22T18:41:18.483Z"
   },
   {
    "duration": 13,
    "start_time": "2025-01-22T18:41:18.524Z"
   },
   {
    "duration": 33,
    "start_time": "2025-01-22T18:41:18.539Z"
   },
   {
    "duration": 126,
    "start_time": "2025-01-22T18:41:18.575Z"
   },
   {
    "duration": 113,
    "start_time": "2025-01-22T18:41:18.703Z"
   },
   {
    "duration": 100,
    "start_time": "2025-01-22T18:41:18.818Z"
   },
   {
    "duration": 0,
    "start_time": "2025-01-22T18:41:18.920Z"
   },
   {
    "duration": 0,
    "start_time": "2025-01-22T18:41:18.924Z"
   },
   {
    "duration": 0,
    "start_time": "2025-01-22T18:41:18.925Z"
   },
   {
    "duration": 0,
    "start_time": "2025-01-22T18:41:18.926Z"
   },
   {
    "duration": 0,
    "start_time": "2025-01-22T18:41:18.927Z"
   },
   {
    "duration": 0,
    "start_time": "2025-01-22T18:41:18.929Z"
   },
   {
    "duration": 0,
    "start_time": "2025-01-22T18:41:18.930Z"
   },
   {
    "duration": 0,
    "start_time": "2025-01-22T18:41:18.932Z"
   },
   {
    "duration": 0,
    "start_time": "2025-01-22T18:41:18.933Z"
   },
   {
    "duration": 0,
    "start_time": "2025-01-22T18:41:18.934Z"
   },
   {
    "duration": 0,
    "start_time": "2025-01-22T18:41:18.935Z"
   },
   {
    "duration": 0,
    "start_time": "2025-01-22T18:41:18.936Z"
   },
   {
    "duration": 0,
    "start_time": "2025-01-22T18:41:18.937Z"
   },
   {
    "duration": 0,
    "start_time": "2025-01-22T18:41:18.939Z"
   },
   {
    "duration": 0,
    "start_time": "2025-01-22T18:41:18.940Z"
   },
   {
    "duration": 0,
    "start_time": "2025-01-22T18:41:18.941Z"
   },
   {
    "duration": 0,
    "start_time": "2025-01-22T18:41:18.943Z"
   },
   {
    "duration": 0,
    "start_time": "2025-01-22T18:41:18.944Z"
   },
   {
    "duration": 0,
    "start_time": "2025-01-22T18:41:18.946Z"
   },
   {
    "duration": 85,
    "start_time": "2025-01-22T18:44:01.500Z"
   },
   {
    "duration": 125,
    "start_time": "2025-01-22T18:44:19.445Z"
   },
   {
    "duration": 52,
    "start_time": "2025-01-22T18:44:37.846Z"
   },
   {
    "duration": 84,
    "start_time": "2025-01-22T18:44:40.197Z"
   },
   {
    "duration": 287,
    "start_time": "2025-01-22T18:44:53.601Z"
   },
   {
    "duration": 525,
    "start_time": "2025-01-22T18:44:57.536Z"
   },
   {
    "duration": 72,
    "start_time": "2025-01-22T18:44:58.233Z"
   },
   {
    "duration": 21,
    "start_time": "2025-01-22T18:48:21.519Z"
   },
   {
    "duration": 91,
    "start_time": "2025-01-22T18:52:29.952Z"
   },
   {
    "duration": 3921,
    "start_time": "2025-01-22T18:54:16.668Z"
   },
   {
    "duration": 66,
    "start_time": "2025-01-22T18:54:20.592Z"
   },
   {
    "duration": 57,
    "start_time": "2025-01-22T18:54:20.661Z"
   },
   {
    "duration": 1224,
    "start_time": "2025-01-22T18:54:20.721Z"
   },
   {
    "duration": 263,
    "start_time": "2025-01-22T18:54:21.946Z"
   },
   {
    "duration": 331,
    "start_time": "2025-01-22T18:54:22.211Z"
   },
   {
    "duration": 60,
    "start_time": "2025-01-22T18:54:22.544Z"
   },
   {
    "duration": 133,
    "start_time": "2025-01-22T18:54:22.607Z"
   },
   {
    "duration": 460,
    "start_time": "2025-01-22T18:54:22.742Z"
   },
   {
    "duration": 5,
    "start_time": "2025-01-22T18:54:23.205Z"
   },
   {
    "duration": 185,
    "start_time": "2025-01-22T18:54:23.212Z"
   },
   {
    "duration": 6,
    "start_time": "2025-01-22T18:54:23.399Z"
   },
   {
    "duration": 6,
    "start_time": "2025-01-22T18:54:23.406Z"
   },
   {
    "duration": 14,
    "start_time": "2025-01-22T18:54:23.414Z"
   },
   {
    "duration": 2418,
    "start_time": "2025-01-22T18:54:23.430Z"
   },
   {
    "duration": 5,
    "start_time": "2025-01-22T18:54:25.850Z"
   },
   {
    "duration": 16,
    "start_time": "2025-01-22T18:54:25.856Z"
   },
   {
    "duration": 6,
    "start_time": "2025-01-22T18:54:25.875Z"
   },
   {
    "duration": 13,
    "start_time": "2025-01-22T18:54:25.883Z"
   },
   {
    "duration": 8,
    "start_time": "2025-01-22T18:54:25.897Z"
   },
   {
    "duration": 14,
    "start_time": "2025-01-22T18:54:25.906Z"
   },
   {
    "duration": 14,
    "start_time": "2025-01-22T18:54:25.922Z"
   },
   {
    "duration": 15,
    "start_time": "2025-01-22T18:54:25.970Z"
   },
   {
    "duration": 150,
    "start_time": "2025-01-22T18:54:25.987Z"
   },
   {
    "duration": 259,
    "start_time": "2025-01-22T18:54:26.139Z"
   },
   {
    "duration": 522,
    "start_time": "2025-01-22T18:54:26.400Z"
   },
   {
    "duration": 25,
    "start_time": "2025-01-22T18:54:26.924Z"
   },
   {
    "duration": 25,
    "start_time": "2025-01-22T18:54:26.954Z"
   },
   {
    "duration": 62,
    "start_time": "2025-01-22T18:54:26.982Z"
   },
   {
    "duration": 46,
    "start_time": "2025-01-22T18:54:27.046Z"
   },
   {
    "duration": 10,
    "start_time": "2025-01-22T18:54:27.094Z"
   },
   {
    "duration": 40,
    "start_time": "2025-01-22T18:54:27.105Z"
   },
   {
    "duration": 39,
    "start_time": "2025-01-22T18:54:27.147Z"
   },
   {
    "duration": 44,
    "start_time": "2025-01-22T18:54:27.188Z"
   },
   {
    "duration": 160,
    "start_time": "2025-01-22T18:54:27.234Z"
   },
   {
    "duration": 22,
    "start_time": "2025-01-22T18:54:27.396Z"
   },
   {
    "duration": 9,
    "start_time": "2025-01-22T18:54:27.419Z"
   },
   {
    "duration": 14,
    "start_time": "2025-01-22T18:54:27.429Z"
   },
   {
    "duration": 40,
    "start_time": "2025-01-22T18:54:27.445Z"
   },
   {
    "duration": 21,
    "start_time": "2025-01-22T18:54:27.487Z"
   },
   {
    "duration": 183,
    "start_time": "2025-01-22T18:54:27.509Z"
   },
   {
    "duration": 6,
    "start_time": "2025-01-22T18:54:27.694Z"
   },
   {
    "duration": 13,
    "start_time": "2025-01-22T18:54:27.701Z"
   },
   {
    "duration": 11,
    "start_time": "2025-01-22T18:54:27.716Z"
   },
   {
    "duration": 7,
    "start_time": "2025-01-22T18:54:27.728Z"
   },
   {
    "duration": 97,
    "start_time": "2025-01-22T18:54:27.737Z"
   },
   {
    "duration": 124,
    "start_time": "2025-01-22T18:54:27.836Z"
   },
   {
    "duration": 125,
    "start_time": "2025-01-22T18:54:27.961Z"
   },
   {
    "duration": 56,
    "start_time": "2025-01-22T18:54:28.094Z"
   },
   {
    "duration": 61,
    "start_time": "2025-01-22T18:54:28.151Z"
   },
   {
    "duration": 1526,
    "start_time": "2025-01-22T18:54:28.214Z"
   },
   {
    "duration": 0,
    "start_time": "2025-01-22T18:54:29.742Z"
   },
   {
    "duration": 0,
    "start_time": "2025-01-22T18:54:29.745Z"
   },
   {
    "duration": 0,
    "start_time": "2025-01-22T18:54:29.747Z"
   },
   {
    "duration": 0,
    "start_time": "2025-01-22T18:54:29.748Z"
   },
   {
    "duration": 0,
    "start_time": "2025-01-22T18:54:29.749Z"
   },
   {
    "duration": 0,
    "start_time": "2025-01-22T18:54:29.751Z"
   },
   {
    "duration": 0,
    "start_time": "2025-01-22T18:54:29.753Z"
   },
   {
    "duration": 0,
    "start_time": "2025-01-22T18:54:29.755Z"
   },
   {
    "duration": 0,
    "start_time": "2025-01-22T18:54:29.756Z"
   },
   {
    "duration": 0,
    "start_time": "2025-01-22T18:54:29.757Z"
   },
   {
    "duration": 0,
    "start_time": "2025-01-22T18:54:29.758Z"
   },
   {
    "duration": 0,
    "start_time": "2025-01-22T18:54:29.759Z"
   },
   {
    "duration": 0,
    "start_time": "2025-01-22T18:54:29.761Z"
   },
   {
    "duration": 0,
    "start_time": "2025-01-22T18:54:29.762Z"
   },
   {
    "duration": 0,
    "start_time": "2025-01-22T18:54:29.763Z"
   },
   {
    "duration": 0,
    "start_time": "2025-01-22T18:54:29.765Z"
   },
   {
    "duration": 0,
    "start_time": "2025-01-22T18:54:29.766Z"
   },
   {
    "duration": 0,
    "start_time": "2025-01-22T18:54:29.767Z"
   },
   {
    "duration": 0,
    "start_time": "2025-01-22T18:54:29.768Z"
   },
   {
    "duration": 0,
    "start_time": "2025-01-22T18:54:29.769Z"
   },
   {
    "duration": 0,
    "start_time": "2025-01-22T18:54:29.770Z"
   },
   {
    "duration": 0,
    "start_time": "2025-01-22T18:54:29.771Z"
   },
   {
    "duration": 0,
    "start_time": "2025-01-22T18:54:29.773Z"
   },
   {
    "duration": 0,
    "start_time": "2025-01-22T18:54:29.773Z"
   },
   {
    "duration": 0,
    "start_time": "2025-01-22T18:54:29.775Z"
   },
   {
    "duration": 0,
    "start_time": "2025-01-22T18:54:29.776Z"
   },
   {
    "duration": 0,
    "start_time": "2025-01-22T18:54:29.780Z"
   },
   {
    "duration": 0,
    "start_time": "2025-01-22T18:54:29.781Z"
   },
   {
    "duration": 0,
    "start_time": "2025-01-22T18:54:29.782Z"
   },
   {
    "duration": 0,
    "start_time": "2025-01-22T18:54:29.783Z"
   },
   {
    "duration": 0,
    "start_time": "2025-01-22T18:54:29.785Z"
   },
   {
    "duration": 0,
    "start_time": "2025-01-22T18:54:29.786Z"
   },
   {
    "duration": 0,
    "start_time": "2025-01-22T18:54:29.787Z"
   },
   {
    "duration": 0,
    "start_time": "2025-01-22T18:54:29.788Z"
   },
   {
    "duration": 0,
    "start_time": "2025-01-22T18:54:29.789Z"
   },
   {
    "duration": 0,
    "start_time": "2025-01-22T18:54:29.791Z"
   },
   {
    "duration": 0,
    "start_time": "2025-01-22T18:54:29.792Z"
   },
   {
    "duration": 0,
    "start_time": "2025-01-22T18:54:29.793Z"
   },
   {
    "duration": 0,
    "start_time": "2025-01-22T18:54:29.794Z"
   },
   {
    "duration": 0,
    "start_time": "2025-01-22T18:54:29.796Z"
   },
   {
    "duration": 0,
    "start_time": "2025-01-22T18:54:29.797Z"
   },
   {
    "duration": 0,
    "start_time": "2025-01-22T18:54:29.798Z"
   },
   {
    "duration": 0,
    "start_time": "2025-01-22T18:54:29.799Z"
   },
   {
    "duration": 0,
    "start_time": "2025-01-22T18:54:29.800Z"
   },
   {
    "duration": 0,
    "start_time": "2025-01-22T18:54:29.801Z"
   },
   {
    "duration": 0,
    "start_time": "2025-01-22T18:54:29.802Z"
   },
   {
    "duration": 0,
    "start_time": "2025-01-22T18:54:29.803Z"
   },
   {
    "duration": 0,
    "start_time": "2025-01-22T18:54:29.805Z"
   },
   {
    "duration": 0,
    "start_time": "2025-01-22T18:54:29.806Z"
   },
   {
    "duration": 0,
    "start_time": "2025-01-22T18:54:29.807Z"
   },
   {
    "duration": 0,
    "start_time": "2025-01-22T18:54:29.808Z"
   },
   {
    "duration": 0,
    "start_time": "2025-01-22T18:54:29.871Z"
   },
   {
    "duration": 0,
    "start_time": "2025-01-22T18:54:29.873Z"
   },
   {
    "duration": 0,
    "start_time": "2025-01-22T18:54:29.874Z"
   },
   {
    "duration": 0,
    "start_time": "2025-01-22T18:54:29.875Z"
   },
   {
    "duration": 0,
    "start_time": "2025-01-22T18:54:29.877Z"
   },
   {
    "duration": 0,
    "start_time": "2025-01-22T18:54:29.878Z"
   },
   {
    "duration": 0,
    "start_time": "2025-01-22T18:54:29.880Z"
   },
   {
    "duration": 0,
    "start_time": "2025-01-22T18:54:29.881Z"
   },
   {
    "duration": 0,
    "start_time": "2025-01-22T18:54:29.882Z"
   },
   {
    "duration": 0,
    "start_time": "2025-01-22T18:54:29.884Z"
   },
   {
    "duration": 0,
    "start_time": "2025-01-22T18:54:29.885Z"
   },
   {
    "duration": 0,
    "start_time": "2025-01-22T18:54:29.887Z"
   },
   {
    "duration": 0,
    "start_time": "2025-01-22T18:54:29.888Z"
   },
   {
    "duration": 0,
    "start_time": "2025-01-22T18:54:29.889Z"
   },
   {
    "duration": 0,
    "start_time": "2025-01-22T18:54:29.891Z"
   },
   {
    "duration": 0,
    "start_time": "2025-01-22T18:54:29.892Z"
   },
   {
    "duration": 0,
    "start_time": "2025-01-22T18:54:29.894Z"
   },
   {
    "duration": 70,
    "start_time": "2025-01-22T18:57:55.223Z"
   },
   {
    "duration": 128,
    "start_time": "2025-01-22T18:58:28.196Z"
   },
   {
    "duration": 3912,
    "start_time": "2025-01-22T18:59:21.206Z"
   },
   {
    "duration": 42,
    "start_time": "2025-01-22T18:59:25.120Z"
   },
   {
    "duration": 63,
    "start_time": "2025-01-22T18:59:25.164Z"
   },
   {
    "duration": 987,
    "start_time": "2025-01-22T18:59:25.230Z"
   },
   {
    "duration": 219,
    "start_time": "2025-01-22T18:59:26.219Z"
   },
   {
    "duration": 227,
    "start_time": "2025-01-22T18:59:26.439Z"
   },
   {
    "duration": 55,
    "start_time": "2025-01-22T18:59:26.668Z"
   },
   {
    "duration": 102,
    "start_time": "2025-01-22T18:59:26.725Z"
   },
   {
    "duration": 329,
    "start_time": "2025-01-22T18:59:26.828Z"
   },
   {
    "duration": 4,
    "start_time": "2025-01-22T18:59:27.160Z"
   },
   {
    "duration": 74,
    "start_time": "2025-01-22T18:59:27.171Z"
   },
   {
    "duration": 158,
    "start_time": "2025-01-22T18:59:27.247Z"
   },
   {
    "duration": 40,
    "start_time": "2025-01-22T18:59:27.407Z"
   },
   {
    "duration": 7,
    "start_time": "2025-01-22T18:59:27.448Z"
   },
   {
    "duration": 2310,
    "start_time": "2025-01-22T18:59:27.457Z"
   },
   {
    "duration": 4,
    "start_time": "2025-01-22T18:59:29.771Z"
   },
   {
    "duration": 10,
    "start_time": "2025-01-22T18:59:29.777Z"
   },
   {
    "duration": 14,
    "start_time": "2025-01-22T18:59:29.788Z"
   },
   {
    "duration": 5,
    "start_time": "2025-01-22T18:59:29.804Z"
   },
   {
    "duration": 9,
    "start_time": "2025-01-22T18:59:29.810Z"
   },
   {
    "duration": 13,
    "start_time": "2025-01-22T18:59:29.821Z"
   },
   {
    "duration": 14,
    "start_time": "2025-01-22T18:59:29.835Z"
   },
   {
    "duration": 37,
    "start_time": "2025-01-22T18:59:29.851Z"
   },
   {
    "duration": 116,
    "start_time": "2025-01-22T18:59:29.890Z"
   },
   {
    "duration": 165,
    "start_time": "2025-01-22T18:59:30.008Z"
   },
   {
    "duration": 446,
    "start_time": "2025-01-22T18:59:30.175Z"
   },
   {
    "duration": 25,
    "start_time": "2025-01-22T18:59:30.623Z"
   },
   {
    "duration": 75,
    "start_time": "2025-01-22T18:59:30.652Z"
   },
   {
    "duration": 75,
    "start_time": "2025-01-22T18:59:30.728Z"
   },
   {
    "duration": 21,
    "start_time": "2025-01-22T18:59:30.805Z"
   },
   {
    "duration": 11,
    "start_time": "2025-01-22T18:59:30.827Z"
   },
   {
    "duration": 59,
    "start_time": "2025-01-22T18:59:30.840Z"
   },
   {
    "duration": 13,
    "start_time": "2025-01-22T18:59:30.900Z"
   },
   {
    "duration": 14,
    "start_time": "2025-01-22T18:59:30.915Z"
   },
   {
    "duration": 30,
    "start_time": "2025-01-22T18:59:30.931Z"
   },
   {
    "duration": 16,
    "start_time": "2025-01-22T18:59:30.962Z"
   },
   {
    "duration": 21,
    "start_time": "2025-01-22T18:59:30.979Z"
   },
   {
    "duration": 20,
    "start_time": "2025-01-22T18:59:31.002Z"
   },
   {
    "duration": 50,
    "start_time": "2025-01-22T18:59:31.024Z"
   },
   {
    "duration": 14,
    "start_time": "2025-01-22T18:59:31.076Z"
   },
   {
    "duration": 180,
    "start_time": "2025-01-22T18:59:31.091Z"
   },
   {
    "duration": 5,
    "start_time": "2025-01-22T18:59:31.273Z"
   },
   {
    "duration": 155,
    "start_time": "2025-01-22T18:59:31.279Z"
   },
   {
    "duration": 44,
    "start_time": "2025-01-22T18:59:31.436Z"
   },
   {
    "duration": 19,
    "start_time": "2025-01-22T18:59:31.482Z"
   },
   {
    "duration": 63,
    "start_time": "2025-01-22T18:59:31.503Z"
   },
   {
    "duration": 109,
    "start_time": "2025-01-22T18:59:31.568Z"
   },
   {
    "duration": 112,
    "start_time": "2025-01-22T18:59:31.679Z"
   },
   {
    "duration": 54,
    "start_time": "2025-01-22T18:59:31.792Z"
   },
   {
    "duration": 57,
    "start_time": "2025-01-22T18:59:31.847Z"
   },
   {
    "duration": 50,
    "start_time": "2025-01-22T18:59:31.905Z"
   },
   {
    "duration": 98,
    "start_time": "2025-01-22T18:59:31.956Z"
   },
   {
    "duration": 20,
    "start_time": "2025-01-22T18:59:32.056Z"
   },
   {
    "duration": 36,
    "start_time": "2025-01-22T18:59:32.077Z"
   },
   {
    "duration": 46,
    "start_time": "2025-01-22T18:59:32.115Z"
   },
   {
    "duration": 48,
    "start_time": "2025-01-22T18:59:32.163Z"
   },
   {
    "duration": 42,
    "start_time": "2025-01-22T18:59:32.213Z"
   },
   {
    "duration": 31,
    "start_time": "2025-01-22T18:59:32.256Z"
   },
   {
    "duration": 60,
    "start_time": "2025-01-22T18:59:32.289Z"
   },
   {
    "duration": 12,
    "start_time": "2025-01-22T18:59:32.351Z"
   },
   {
    "duration": 28,
    "start_time": "2025-01-22T18:59:32.365Z"
   },
   {
    "duration": 18,
    "start_time": "2025-01-22T18:59:32.395Z"
   },
   {
    "duration": 28,
    "start_time": "2025-01-22T18:59:32.415Z"
   },
   {
    "duration": 14,
    "start_time": "2025-01-22T18:59:32.445Z"
   },
   {
    "duration": 8,
    "start_time": "2025-01-22T18:59:32.461Z"
   },
   {
    "duration": 37,
    "start_time": "2025-01-22T18:59:32.470Z"
   },
   {
    "duration": 22,
    "start_time": "2025-01-22T18:59:32.509Z"
   },
   {
    "duration": 115,
    "start_time": "2025-01-22T18:59:32.532Z"
   },
   {
    "duration": 103,
    "start_time": "2025-01-22T18:59:32.649Z"
   },
   {
    "duration": 46,
    "start_time": "2025-01-22T18:59:32.754Z"
   },
   {
    "duration": 6,
    "start_time": "2025-01-22T18:59:32.802Z"
   },
   {
    "duration": 31,
    "start_time": "2025-01-22T18:59:32.810Z"
   },
   {
    "duration": 33,
    "start_time": "2025-01-22T18:59:32.843Z"
   },
   {
    "duration": 14,
    "start_time": "2025-01-22T18:59:32.879Z"
   },
   {
    "duration": 112,
    "start_time": "2025-01-22T18:59:32.895Z"
   },
   {
    "duration": 32,
    "start_time": "2025-01-22T18:59:33.009Z"
   },
   {
    "duration": 330,
    "start_time": "2025-01-22T18:59:33.043Z"
   },
   {
    "duration": 119,
    "start_time": "2025-01-22T18:59:33.375Z"
   },
   {
    "duration": 57,
    "start_time": "2025-01-22T18:59:33.496Z"
   },
   {
    "duration": 249,
    "start_time": "2025-01-22T18:59:33.554Z"
   },
   {
    "duration": 46,
    "start_time": "2025-01-22T18:59:33.805Z"
   },
   {
    "duration": 58,
    "start_time": "2025-01-22T18:59:33.870Z"
   },
   {
    "duration": 123,
    "start_time": "2025-01-22T18:59:33.929Z"
   },
   {
    "duration": 50,
    "start_time": "2025-01-22T18:59:34.054Z"
   },
   {
    "duration": 126,
    "start_time": "2025-01-22T18:59:34.106Z"
   },
   {
    "duration": 180,
    "start_time": "2025-01-22T18:59:34.234Z"
   },
   {
    "duration": 13,
    "start_time": "2025-01-22T18:59:34.416Z"
   },
   {
    "duration": 174,
    "start_time": "2025-01-22T18:59:34.431Z"
   },
   {
    "duration": 40,
    "start_time": "2025-01-22T18:59:34.607Z"
   },
   {
    "duration": 106,
    "start_time": "2025-01-22T18:59:34.649Z"
   },
   {
    "duration": 43,
    "start_time": "2025-01-22T18:59:34.757Z"
   },
   {
    "duration": 7,
    "start_time": "2025-01-22T18:59:34.801Z"
   },
   {
    "duration": 21,
    "start_time": "2025-01-22T18:59:34.809Z"
   },
   {
    "duration": 79,
    "start_time": "2025-01-22T18:59:34.831Z"
   },
   {
    "duration": 44,
    "start_time": "2025-01-22T18:59:34.912Z"
   },
   {
    "duration": 13,
    "start_time": "2025-01-22T18:59:34.971Z"
   },
   {
    "duration": 15,
    "start_time": "2025-01-22T18:59:34.985Z"
   },
   {
    "duration": 100,
    "start_time": "2025-01-22T18:59:35.002Z"
   },
   {
    "duration": 95,
    "start_time": "2025-01-22T18:59:35.104Z"
   },
   {
    "duration": 49,
    "start_time": "2025-01-22T18:59:35.201Z"
   },
   {
    "duration": 143,
    "start_time": "2025-01-22T18:59:35.252Z"
   },
   {
    "duration": 295,
    "start_time": "2025-01-22T18:59:35.397Z"
   },
   {
    "duration": 522,
    "start_time": "2025-01-22T18:59:35.693Z"
   },
   {
    "duration": 74,
    "start_time": "2025-01-22T18:59:36.217Z"
   },
   {
    "duration": 12,
    "start_time": "2025-01-22T18:59:36.293Z"
   },
   {
    "duration": 111,
    "start_time": "2025-01-22T18:59:36.307Z"
   },
   {
    "duration": 105,
    "start_time": "2025-01-22T18:59:36.420Z"
   },
   {
    "duration": 45,
    "start_time": "2025-01-22T18:59:36.527Z"
   },
   {
    "duration": 105,
    "start_time": "2025-01-22T18:59:36.574Z"
   },
   {
    "duration": 209,
    "start_time": "2025-01-22T18:59:36.681Z"
   },
   {
    "duration": 791,
    "start_time": "2025-01-22T18:59:36.892Z"
   },
   {
    "duration": 90,
    "start_time": "2025-01-22T18:59:37.685Z"
   },
   {
    "duration": 11,
    "start_time": "2025-01-22T18:59:37.777Z"
   },
   {
    "duration": 64,
    "start_time": "2025-01-22T18:59:37.790Z"
   },
   {
    "duration": 18,
    "start_time": "2025-01-22T18:59:37.856Z"
   },
   {
    "duration": 43,
    "start_time": "2025-01-22T18:59:37.876Z"
   },
   {
    "duration": 1488,
    "start_time": "2025-01-22T18:59:37.921Z"
   },
   {
    "duration": 0,
    "start_time": "2025-01-22T18:59:39.410Z"
   },
   {
    "duration": 0,
    "start_time": "2025-01-22T18:59:39.411Z"
   },
   {
    "duration": 4035,
    "start_time": "2025-01-22T19:02:49.171Z"
   },
   {
    "duration": 42,
    "start_time": "2025-01-22T19:02:53.209Z"
   },
   {
    "duration": 218,
    "start_time": "2025-01-22T19:02:53.253Z"
   },
   {
    "duration": 1058,
    "start_time": "2025-01-22T19:02:53.474Z"
   },
   {
    "duration": 212,
    "start_time": "2025-01-22T19:02:54.534Z"
   },
   {
    "duration": 220,
    "start_time": "2025-01-22T19:02:54.748Z"
   },
   {
    "duration": 57,
    "start_time": "2025-01-22T19:02:54.969Z"
   },
   {
    "duration": 90,
    "start_time": "2025-01-22T19:02:55.028Z"
   },
   {
    "duration": 316,
    "start_time": "2025-01-22T19:02:55.120Z"
   },
   {
    "duration": 4,
    "start_time": "2025-01-22T19:02:55.440Z"
   },
   {
    "duration": 9,
    "start_time": "2025-01-22T19:02:55.446Z"
   },
   {
    "duration": 17,
    "start_time": "2025-01-22T19:02:55.456Z"
   },
   {
    "duration": 13,
    "start_time": "2025-01-22T19:02:55.475Z"
   },
   {
    "duration": 9,
    "start_time": "2025-01-22T19:02:55.490Z"
   },
   {
    "duration": 2376,
    "start_time": "2025-01-22T19:02:55.501Z"
   },
   {
    "duration": 5,
    "start_time": "2025-01-22T19:02:57.880Z"
   },
   {
    "duration": 25,
    "start_time": "2025-01-22T19:02:57.887Z"
   },
   {
    "duration": 15,
    "start_time": "2025-01-22T19:02:57.914Z"
   },
   {
    "duration": 28,
    "start_time": "2025-01-22T19:02:57.931Z"
   },
   {
    "duration": 5,
    "start_time": "2025-01-22T19:02:57.961Z"
   },
   {
    "duration": 17,
    "start_time": "2025-01-22T19:02:57.968Z"
   },
   {
    "duration": 19,
    "start_time": "2025-01-22T19:02:57.987Z"
   },
   {
    "duration": 9,
    "start_time": "2025-01-22T19:02:58.007Z"
   },
   {
    "duration": 134,
    "start_time": "2025-01-22T19:02:58.017Z"
   },
   {
    "duration": 219,
    "start_time": "2025-01-22T19:02:58.153Z"
   },
   {
    "duration": 532,
    "start_time": "2025-01-22T19:02:58.374Z"
   },
   {
    "duration": 43,
    "start_time": "2025-01-22T19:02:58.909Z"
   },
   {
    "duration": 15,
    "start_time": "2025-01-22T19:02:58.970Z"
   },
   {
    "duration": 92,
    "start_time": "2025-01-22T19:02:58.987Z"
   },
   {
    "duration": 21,
    "start_time": "2025-01-22T19:02:59.081Z"
   },
   {
    "duration": 11,
    "start_time": "2025-01-22T19:02:59.104Z"
   },
   {
    "duration": 63,
    "start_time": "2025-01-22T19:02:59.116Z"
   },
   {
    "duration": 15,
    "start_time": "2025-01-22T19:02:59.181Z"
   },
   {
    "duration": 77,
    "start_time": "2025-01-22T19:02:59.197Z"
   },
   {
    "duration": 183,
    "start_time": "2025-01-22T19:02:59.276Z"
   },
   {
    "duration": 10,
    "start_time": "2025-01-22T19:02:59.461Z"
   },
   {
    "duration": 27,
    "start_time": "2025-01-22T19:02:59.473Z"
   },
   {
    "duration": 17,
    "start_time": "2025-01-22T19:02:59.502Z"
   },
   {
    "duration": 44,
    "start_time": "2025-01-22T19:02:59.521Z"
   },
   {
    "duration": 95,
    "start_time": "2025-01-22T19:02:59.571Z"
   },
   {
    "duration": 161,
    "start_time": "2025-01-22T19:02:59.669Z"
   },
   {
    "duration": 5,
    "start_time": "2025-01-22T19:02:59.832Z"
   },
   {
    "duration": 8,
    "start_time": "2025-01-22T19:02:59.839Z"
   },
   {
    "duration": 28,
    "start_time": "2025-01-22T19:02:59.849Z"
   },
   {
    "duration": 7,
    "start_time": "2025-01-22T19:02:59.880Z"
   },
   {
    "duration": 54,
    "start_time": "2025-01-22T19:02:59.889Z"
   },
   {
    "duration": 141,
    "start_time": "2025-01-22T19:02:59.945Z"
   },
   {
    "duration": 119,
    "start_time": "2025-01-22T19:03:00.088Z"
   },
   {
    "duration": 66,
    "start_time": "2025-01-22T19:03:00.210Z"
   },
   {
    "duration": 48,
    "start_time": "2025-01-22T19:03:00.277Z"
   },
   {
    "duration": 58,
    "start_time": "2025-01-22T19:03:00.327Z"
   },
   {
    "duration": 119,
    "start_time": "2025-01-22T19:03:00.387Z"
   },
   {
    "duration": 8,
    "start_time": "2025-01-22T19:03:00.508Z"
   },
   {
    "duration": 58,
    "start_time": "2025-01-22T19:03:00.518Z"
   },
   {
    "duration": 22,
    "start_time": "2025-01-22T19:03:00.578Z"
   },
   {
    "duration": 34,
    "start_time": "2025-01-22T19:03:00.602Z"
   },
   {
    "duration": 93,
    "start_time": "2025-01-22T19:03:00.638Z"
   },
   {
    "duration": 23,
    "start_time": "2025-01-22T19:03:00.733Z"
   },
   {
    "duration": 32,
    "start_time": "2025-01-22T19:03:00.758Z"
   },
   {
    "duration": 14,
    "start_time": "2025-01-22T19:03:00.792Z"
   },
   {
    "duration": 34,
    "start_time": "2025-01-22T19:03:00.808Z"
   },
   {
    "duration": 7,
    "start_time": "2025-01-22T19:03:00.844Z"
   },
   {
    "duration": 7,
    "start_time": "2025-01-22T19:03:00.853Z"
   },
   {
    "duration": 35,
    "start_time": "2025-01-22T19:03:00.861Z"
   },
   {
    "duration": 12,
    "start_time": "2025-01-22T19:03:00.898Z"
   },
   {
    "duration": 15,
    "start_time": "2025-01-22T19:03:00.911Z"
   },
   {
    "duration": 22,
    "start_time": "2025-01-22T19:03:00.928Z"
   },
   {
    "duration": 41,
    "start_time": "2025-01-22T19:03:00.952Z"
   },
   {
    "duration": 41,
    "start_time": "2025-01-22T19:03:00.994Z"
   },
   {
    "duration": 55,
    "start_time": "2025-01-22T19:03:01.037Z"
   },
   {
    "duration": 6,
    "start_time": "2025-01-22T19:03:01.094Z"
   },
   {
    "duration": 26,
    "start_time": "2025-01-22T19:03:01.102Z"
   },
   {
    "duration": 30,
    "start_time": "2025-01-22T19:03:01.129Z"
   },
   {
    "duration": 17,
    "start_time": "2025-01-22T19:03:01.160Z"
   },
   {
    "duration": 285,
    "start_time": "2025-01-22T19:03:01.179Z"
   },
   {
    "duration": 31,
    "start_time": "2025-01-22T19:03:01.466Z"
   },
   {
    "duration": 349,
    "start_time": "2025-01-22T19:03:01.499Z"
   },
   {
    "duration": 117,
    "start_time": "2025-01-22T19:03:01.850Z"
   },
   {
    "duration": 59,
    "start_time": "2025-01-22T19:03:01.971Z"
   },
   {
    "duration": 261,
    "start_time": "2025-01-22T19:03:02.032Z"
   },
   {
    "duration": 45,
    "start_time": "2025-01-22T19:03:02.295Z"
   },
   {
    "duration": 93,
    "start_time": "2025-01-22T19:03:02.346Z"
   },
   {
    "duration": 122,
    "start_time": "2025-01-22T19:03:02.441Z"
   },
   {
    "duration": 58,
    "start_time": "2025-01-22T19:03:02.565Z"
   },
   {
    "duration": 126,
    "start_time": "2025-01-22T19:03:02.625Z"
   },
   {
    "duration": 207,
    "start_time": "2025-01-22T19:03:02.754Z"
   },
   {
    "duration": 16,
    "start_time": "2025-01-22T19:03:02.971Z"
   },
   {
    "duration": 108,
    "start_time": "2025-01-22T19:03:02.988Z"
   },
   {
    "duration": 43,
    "start_time": "2025-01-22T19:03:03.099Z"
   },
   {
    "duration": 50,
    "start_time": "2025-01-22T19:03:03.144Z"
   },
   {
    "duration": 295,
    "start_time": "2025-01-22T19:03:03.196Z"
   },
   {
    "duration": 32,
    "start_time": "2025-01-22T19:03:03.494Z"
   },
   {
    "duration": 24,
    "start_time": "2025-01-22T19:03:03.528Z"
   },
   {
    "duration": 172,
    "start_time": "2025-01-22T19:03:03.554Z"
   },
   {
    "duration": 64,
    "start_time": "2025-01-22T19:03:03.728Z"
   },
   {
    "duration": 17,
    "start_time": "2025-01-22T19:03:03.793Z"
   },
   {
    "duration": 10,
    "start_time": "2025-01-22T19:03:03.811Z"
   },
   {
    "duration": 107,
    "start_time": "2025-01-22T19:03:03.824Z"
   },
   {
    "duration": 103,
    "start_time": "2025-01-22T19:03:03.933Z"
   },
   {
    "duration": 61,
    "start_time": "2025-01-22T19:03:04.037Z"
   },
   {
    "duration": 97,
    "start_time": "2025-01-22T19:03:04.100Z"
   },
   {
    "duration": 291,
    "start_time": "2025-01-22T19:03:04.199Z"
   },
   {
    "duration": 522,
    "start_time": "2025-01-22T19:03:04.492Z"
   },
   {
    "duration": 82,
    "start_time": "2025-01-22T19:03:05.017Z"
   },
   {
    "duration": 25,
    "start_time": "2025-01-22T19:03:05.101Z"
   },
   {
    "duration": 130,
    "start_time": "2025-01-22T19:03:05.128Z"
   },
   {
    "duration": 1768,
    "start_time": "2025-01-22T19:03:05.259Z"
   },
   {
    "duration": 0,
    "start_time": "2025-01-22T19:03:07.029Z"
   },
   {
    "duration": 0,
    "start_time": "2025-01-22T19:03:07.031Z"
   },
   {
    "duration": 0,
    "start_time": "2025-01-22T19:03:07.032Z"
   },
   {
    "duration": 0,
    "start_time": "2025-01-22T19:03:07.033Z"
   },
   {
    "duration": 0,
    "start_time": "2025-01-22T19:03:07.035Z"
   },
   {
    "duration": 0,
    "start_time": "2025-01-22T19:03:07.037Z"
   },
   {
    "duration": 0,
    "start_time": "2025-01-22T19:03:07.039Z"
   },
   {
    "duration": 0,
    "start_time": "2025-01-22T19:03:07.041Z"
   },
   {
    "duration": 0,
    "start_time": "2025-01-22T19:03:07.042Z"
   },
   {
    "duration": 0,
    "start_time": "2025-01-22T19:03:07.044Z"
   },
   {
    "duration": 0,
    "start_time": "2025-01-22T19:03:07.045Z"
   },
   {
    "duration": 0,
    "start_time": "2025-01-22T19:03:07.047Z"
   },
   {
    "duration": 21,
    "start_time": "2025-01-22T19:05:21.132Z"
   },
   {
    "duration": 26,
    "start_time": "2025-01-22T19:06:10.969Z"
   },
   {
    "duration": 41,
    "start_time": "2025-01-22T19:06:32.019Z"
   },
   {
    "duration": 115,
    "start_time": "2025-01-22T19:06:38.073Z"
   },
   {
    "duration": 4463,
    "start_time": "2025-01-22T19:09:58.615Z"
   },
   {
    "duration": 44,
    "start_time": "2025-01-22T19:10:03.081Z"
   },
   {
    "duration": 85,
    "start_time": "2025-01-22T19:10:03.127Z"
   },
   {
    "duration": 1176,
    "start_time": "2025-01-22T19:10:03.215Z"
   },
   {
    "duration": 216,
    "start_time": "2025-01-22T19:10:04.393Z"
   },
   {
    "duration": 288,
    "start_time": "2025-01-22T19:10:04.611Z"
   },
   {
    "duration": 89,
    "start_time": "2025-01-22T19:10:04.902Z"
   },
   {
    "duration": 86,
    "start_time": "2025-01-22T19:10:04.993Z"
   },
   {
    "duration": 349,
    "start_time": "2025-01-22T19:10:05.082Z"
   },
   {
    "duration": 4,
    "start_time": "2025-01-22T19:10:05.434Z"
   },
   {
    "duration": 69,
    "start_time": "2025-01-22T19:10:05.440Z"
   },
   {
    "duration": 17,
    "start_time": "2025-01-22T19:10:05.511Z"
   },
   {
    "duration": 17,
    "start_time": "2025-01-22T19:10:05.530Z"
   },
   {
    "duration": 14,
    "start_time": "2025-01-22T19:10:05.548Z"
   },
   {
    "duration": 2592,
    "start_time": "2025-01-22T19:10:05.564Z"
   },
   {
    "duration": 12,
    "start_time": "2025-01-22T19:10:08.157Z"
   },
   {
    "duration": 6,
    "start_time": "2025-01-22T19:10:08.177Z"
   },
   {
    "duration": 16,
    "start_time": "2025-01-22T19:10:08.189Z"
   },
   {
    "duration": 19,
    "start_time": "2025-01-22T19:10:08.207Z"
   },
   {
    "duration": 25,
    "start_time": "2025-01-22T19:10:08.227Z"
   },
   {
    "duration": 25,
    "start_time": "2025-01-22T19:10:08.254Z"
   },
   {
    "duration": 27,
    "start_time": "2025-01-22T19:10:08.281Z"
   },
   {
    "duration": 43,
    "start_time": "2025-01-22T19:10:08.311Z"
   },
   {
    "duration": 170,
    "start_time": "2025-01-22T19:10:08.356Z"
   },
   {
    "duration": 180,
    "start_time": "2025-01-22T19:10:08.528Z"
   },
   {
    "duration": 486,
    "start_time": "2025-01-22T19:10:08.710Z"
   },
   {
    "duration": 27,
    "start_time": "2025-01-22T19:10:09.198Z"
   },
   {
    "duration": 70,
    "start_time": "2025-01-22T19:10:09.230Z"
   },
   {
    "duration": 161,
    "start_time": "2025-01-22T19:10:09.302Z"
   },
   {
    "duration": 36,
    "start_time": "2025-01-22T19:10:09.465Z"
   },
   {
    "duration": 20,
    "start_time": "2025-01-22T19:10:09.503Z"
   },
   {
    "duration": 45,
    "start_time": "2025-01-22T19:10:09.524Z"
   },
   {
    "duration": 22,
    "start_time": "2025-01-22T19:10:09.571Z"
   },
   {
    "duration": 109,
    "start_time": "2025-01-22T19:10:09.595Z"
   },
   {
    "duration": 15,
    "start_time": "2025-01-22T19:10:09.707Z"
   },
   {
    "duration": 12,
    "start_time": "2025-01-22T19:10:09.724Z"
   },
   {
    "duration": 28,
    "start_time": "2025-01-22T19:10:09.737Z"
   },
   {
    "duration": 31,
    "start_time": "2025-01-22T19:10:09.767Z"
   },
   {
    "duration": 66,
    "start_time": "2025-01-22T19:10:09.800Z"
   },
   {
    "duration": 28,
    "start_time": "2025-01-22T19:10:09.868Z"
   },
   {
    "duration": 174,
    "start_time": "2025-01-22T19:10:09.899Z"
   },
   {
    "duration": 5,
    "start_time": "2025-01-22T19:10:10.076Z"
   },
   {
    "duration": 8,
    "start_time": "2025-01-22T19:10:10.083Z"
   },
   {
    "duration": 27,
    "start_time": "2025-01-22T19:10:10.093Z"
   },
   {
    "duration": 11,
    "start_time": "2025-01-22T19:10:10.122Z"
   },
   {
    "duration": 85,
    "start_time": "2025-01-22T19:10:10.136Z"
   },
   {
    "duration": 128,
    "start_time": "2025-01-22T19:10:10.223Z"
   },
   {
    "duration": 136,
    "start_time": "2025-01-22T19:10:10.353Z"
   },
   {
    "duration": 55,
    "start_time": "2025-01-22T19:10:10.491Z"
   },
   {
    "duration": 73,
    "start_time": "2025-01-22T19:10:10.547Z"
   },
   {
    "duration": 65,
    "start_time": "2025-01-22T19:10:10.622Z"
   },
   {
    "duration": 158,
    "start_time": "2025-01-22T19:10:10.691Z"
   },
   {
    "duration": 7,
    "start_time": "2025-01-22T19:10:10.851Z"
   },
   {
    "duration": 45,
    "start_time": "2025-01-22T19:10:10.860Z"
   },
   {
    "duration": 84,
    "start_time": "2025-01-22T19:10:10.907Z"
   },
   {
    "duration": 28,
    "start_time": "2025-01-22T19:10:10.993Z"
   },
   {
    "duration": 10,
    "start_time": "2025-01-22T19:10:11.023Z"
   },
   {
    "duration": 39,
    "start_time": "2025-01-22T19:10:11.035Z"
   },
   {
    "duration": 23,
    "start_time": "2025-01-22T19:10:11.078Z"
   },
   {
    "duration": 14,
    "start_time": "2025-01-22T19:10:11.103Z"
   },
   {
    "duration": 54,
    "start_time": "2025-01-22T19:10:11.120Z"
   },
   {
    "duration": 14,
    "start_time": "2025-01-22T19:10:11.179Z"
   },
   {
    "duration": 103,
    "start_time": "2025-01-22T19:10:11.195Z"
   },
   {
    "duration": 30,
    "start_time": "2025-01-22T19:10:11.300Z"
   },
   {
    "duration": 136,
    "start_time": "2025-01-22T19:10:11.331Z"
   },
   {
    "duration": 20,
    "start_time": "2025-01-22T19:10:11.469Z"
   },
   {
    "duration": 10,
    "start_time": "2025-01-22T19:10:11.491Z"
   },
   {
    "duration": 52,
    "start_time": "2025-01-22T19:10:11.503Z"
   },
   {
    "duration": 54,
    "start_time": "2025-01-22T19:10:11.557Z"
   },
   {
    "duration": 120,
    "start_time": "2025-01-22T19:10:11.613Z"
   },
   {
    "duration": 7,
    "start_time": "2025-01-22T19:10:11.735Z"
   },
   {
    "duration": 23,
    "start_time": "2025-01-22T19:10:11.744Z"
   },
   {
    "duration": 29,
    "start_time": "2025-01-22T19:10:11.768Z"
   },
   {
    "duration": 12,
    "start_time": "2025-01-22T19:10:11.799Z"
   },
   {
    "duration": 96,
    "start_time": "2025-01-22T19:10:11.813Z"
   },
   {
    "duration": 39,
    "start_time": "2025-01-22T19:10:11.911Z"
   },
   {
    "duration": 365,
    "start_time": "2025-01-22T19:10:11.952Z"
   },
   {
    "duration": 128,
    "start_time": "2025-01-22T19:10:12.318Z"
   },
   {
    "duration": 69,
    "start_time": "2025-01-22T19:10:12.448Z"
   },
   {
    "duration": 272,
    "start_time": "2025-01-22T19:10:12.519Z"
   },
   {
    "duration": 46,
    "start_time": "2025-01-22T19:10:12.792Z"
   },
   {
    "duration": 80,
    "start_time": "2025-01-22T19:10:12.844Z"
   },
   {
    "duration": 139,
    "start_time": "2025-01-22T19:10:12.926Z"
   },
   {
    "duration": 50,
    "start_time": "2025-01-22T19:10:13.067Z"
   },
   {
    "duration": 159,
    "start_time": "2025-01-22T19:10:13.119Z"
   },
   {
    "duration": 178,
    "start_time": "2025-01-22T19:10:13.283Z"
   },
   {
    "duration": 26,
    "start_time": "2025-01-22T19:10:13.463Z"
   },
   {
    "duration": 106,
    "start_time": "2025-01-22T19:10:13.491Z"
   },
   {
    "duration": 40,
    "start_time": "2025-01-22T19:10:13.599Z"
   },
   {
    "duration": 71,
    "start_time": "2025-01-22T19:10:13.641Z"
   },
   {
    "duration": 48,
    "start_time": "2025-01-22T19:10:13.714Z"
   },
   {
    "duration": 10,
    "start_time": "2025-01-22T19:10:13.764Z"
   },
   {
    "duration": 17,
    "start_time": "2025-01-22T19:10:13.775Z"
   },
   {
    "duration": 59,
    "start_time": "2025-01-22T19:10:13.794Z"
   },
   {
    "duration": 61,
    "start_time": "2025-01-22T19:10:13.856Z"
   },
   {
    "duration": 26,
    "start_time": "2025-01-22T19:10:13.919Z"
   },
   {
    "duration": 19,
    "start_time": "2025-01-22T19:10:13.947Z"
   },
   {
    "duration": 92,
    "start_time": "2025-01-22T19:10:13.968Z"
   },
   {
    "duration": 128,
    "start_time": "2025-01-22T19:10:14.062Z"
   },
   {
    "duration": 59,
    "start_time": "2025-01-22T19:10:14.193Z"
   },
   {
    "duration": 93,
    "start_time": "2025-01-22T19:10:14.253Z"
   },
   {
    "duration": 285,
    "start_time": "2025-01-22T19:10:14.348Z"
   },
   {
    "duration": 568,
    "start_time": "2025-01-22T19:10:14.635Z"
   },
   {
    "duration": 78,
    "start_time": "2025-01-22T19:10:15.205Z"
   },
   {
    "duration": 56,
    "start_time": "2025-01-22T19:10:15.285Z"
   },
   {
    "duration": 251,
    "start_time": "2025-01-22T19:10:15.344Z"
   },
   {
    "duration": 39,
    "start_time": "2025-01-22T19:10:15.597Z"
   },
   {
    "duration": 190,
    "start_time": "2025-01-22T19:10:15.638Z"
   },
   {
    "duration": 222,
    "start_time": "2025-01-22T19:10:15.830Z"
   },
   {
    "duration": 865,
    "start_time": "2025-01-22T19:10:16.054Z"
   },
   {
    "duration": 92,
    "start_time": "2025-01-22T19:10:16.921Z"
   },
   {
    "duration": 9,
    "start_time": "2025-01-22T19:10:17.014Z"
   },
   {
    "duration": 144,
    "start_time": "2025-01-22T19:10:17.025Z"
   },
   {
    "duration": 0,
    "start_time": "2025-01-22T19:10:17.171Z"
   },
   {
    "duration": 0,
    "start_time": "2025-01-22T19:10:17.172Z"
   },
   {
    "duration": 0,
    "start_time": "2025-01-22T19:10:17.176Z"
   },
   {
    "duration": 0,
    "start_time": "2025-01-22T19:10:17.178Z"
   },
   {
    "duration": 0,
    "start_time": "2025-01-22T19:10:17.179Z"
   },
   {
    "duration": 649,
    "start_time": "2025-01-22T19:12:02.436Z"
   },
   {
    "duration": 2645,
    "start_time": "2025-01-22T19:15:31.019Z"
   },
   {
    "duration": 3857,
    "start_time": "2025-01-22T19:15:37.642Z"
   },
   {
    "duration": 47,
    "start_time": "2025-01-22T19:15:41.501Z"
   },
   {
    "duration": 59,
    "start_time": "2025-01-22T19:15:41.549Z"
   },
   {
    "duration": 988,
    "start_time": "2025-01-22T19:15:41.610Z"
   },
   {
    "duration": 199,
    "start_time": "2025-01-22T19:15:42.600Z"
   },
   {
    "duration": 229,
    "start_time": "2025-01-22T19:15:42.801Z"
   },
   {
    "duration": 63,
    "start_time": "2025-01-22T19:15:43.031Z"
   },
   {
    "duration": 130,
    "start_time": "2025-01-22T19:15:43.095Z"
   },
   {
    "duration": 367,
    "start_time": "2025-01-22T19:15:43.227Z"
   },
   {
    "duration": 5,
    "start_time": "2025-01-22T19:15:43.597Z"
   },
   {
    "duration": 79,
    "start_time": "2025-01-22T19:15:43.603Z"
   },
   {
    "duration": 17,
    "start_time": "2025-01-22T19:15:43.684Z"
   },
   {
    "duration": 13,
    "start_time": "2025-01-22T19:15:43.702Z"
   },
   {
    "duration": 12,
    "start_time": "2025-01-22T19:15:43.717Z"
   },
   {
    "duration": 2253,
    "start_time": "2025-01-22T19:15:43.731Z"
   },
   {
    "duration": 4,
    "start_time": "2025-01-22T19:15:45.985Z"
   },
   {
    "duration": 6,
    "start_time": "2025-01-22T19:15:45.991Z"
   },
   {
    "duration": 5,
    "start_time": "2025-01-22T19:15:45.999Z"
   },
   {
    "duration": 20,
    "start_time": "2025-01-22T19:15:46.005Z"
   },
   {
    "duration": 5,
    "start_time": "2025-01-22T19:15:46.027Z"
   },
   {
    "duration": 20,
    "start_time": "2025-01-22T19:15:46.033Z"
   },
   {
    "duration": 14,
    "start_time": "2025-01-22T19:15:46.071Z"
   },
   {
    "duration": 11,
    "start_time": "2025-01-22T19:15:46.086Z"
   },
   {
    "duration": 127,
    "start_time": "2025-01-22T19:15:46.099Z"
   },
   {
    "duration": 171,
    "start_time": "2025-01-22T19:15:46.228Z"
   },
   {
    "duration": 443,
    "start_time": "2025-01-22T19:15:46.401Z"
   },
   {
    "duration": 34,
    "start_time": "2025-01-22T19:15:46.846Z"
   },
   {
    "duration": 10,
    "start_time": "2025-01-22T19:15:46.886Z"
   },
   {
    "duration": 47,
    "start_time": "2025-01-22T19:15:46.898Z"
   },
   {
    "duration": 42,
    "start_time": "2025-01-22T19:15:46.946Z"
   },
   {
    "duration": 11,
    "start_time": "2025-01-22T19:15:46.989Z"
   },
   {
    "duration": 38,
    "start_time": "2025-01-22T19:15:47.002Z"
   },
   {
    "duration": 36,
    "start_time": "2025-01-22T19:15:47.041Z"
   },
   {
    "duration": 14,
    "start_time": "2025-01-22T19:15:47.079Z"
   },
   {
    "duration": 13,
    "start_time": "2025-01-22T19:15:47.094Z"
   },
   {
    "duration": 10,
    "start_time": "2025-01-22T19:15:47.109Z"
   },
   {
    "duration": 24,
    "start_time": "2025-01-22T19:15:47.121Z"
   },
   {
    "duration": 32,
    "start_time": "2025-01-22T19:15:47.146Z"
   },
   {
    "duration": 40,
    "start_time": "2025-01-22T19:15:47.180Z"
   },
   {
    "duration": 92,
    "start_time": "2025-01-22T19:15:47.222Z"
   },
   {
    "duration": 150,
    "start_time": "2025-01-22T19:15:47.316Z"
   },
   {
    "duration": 6,
    "start_time": "2025-01-22T19:15:47.467Z"
   },
   {
    "duration": 41,
    "start_time": "2025-01-22T19:15:47.475Z"
   },
   {
    "duration": 37,
    "start_time": "2025-01-22T19:15:47.518Z"
   },
   {
    "duration": 6,
    "start_time": "2025-01-22T19:15:47.557Z"
   },
   {
    "duration": 58,
    "start_time": "2025-01-22T19:15:47.565Z"
   },
   {
    "duration": 110,
    "start_time": "2025-01-22T19:15:47.624Z"
   },
   {
    "duration": 121,
    "start_time": "2025-01-22T19:15:47.736Z"
   },
   {
    "duration": 60,
    "start_time": "2025-01-22T19:15:47.859Z"
   },
   {
    "duration": 62,
    "start_time": "2025-01-22T19:15:47.921Z"
   },
   {
    "duration": 48,
    "start_time": "2025-01-22T19:15:47.985Z"
   },
   {
    "duration": 107,
    "start_time": "2025-01-22T19:15:48.035Z"
   },
   {
    "duration": 7,
    "start_time": "2025-01-22T19:15:48.144Z"
   },
   {
    "duration": 52,
    "start_time": "2025-01-22T19:15:48.153Z"
   },
   {
    "duration": 21,
    "start_time": "2025-01-22T19:15:48.207Z"
   },
   {
    "duration": 27,
    "start_time": "2025-01-22T19:15:48.230Z"
   },
   {
    "duration": 16,
    "start_time": "2025-01-22T19:15:48.259Z"
   },
   {
    "duration": 18,
    "start_time": "2025-01-22T19:15:48.277Z"
   },
   {
    "duration": 31,
    "start_time": "2025-01-22T19:15:48.297Z"
   },
   {
    "duration": 12,
    "start_time": "2025-01-22T19:15:48.330Z"
   },
   {
    "duration": 43,
    "start_time": "2025-01-22T19:15:48.343Z"
   },
   {
    "duration": 7,
    "start_time": "2025-01-22T19:15:48.388Z"
   },
   {
    "duration": 13,
    "start_time": "2025-01-22T19:15:48.397Z"
   },
   {
    "duration": 21,
    "start_time": "2025-01-22T19:15:48.412Z"
   },
   {
    "duration": 17,
    "start_time": "2025-01-22T19:15:48.435Z"
   },
   {
    "duration": 22,
    "start_time": "2025-01-22T19:15:48.453Z"
   },
   {
    "duration": 13,
    "start_time": "2025-01-22T19:15:48.476Z"
   },
   {
    "duration": 57,
    "start_time": "2025-01-22T19:15:48.490Z"
   },
   {
    "duration": 42,
    "start_time": "2025-01-22T19:15:48.549Z"
   },
   {
    "duration": 43,
    "start_time": "2025-01-22T19:15:48.593Z"
   },
   {
    "duration": 7,
    "start_time": "2025-01-22T19:15:48.637Z"
   },
   {
    "duration": 42,
    "start_time": "2025-01-22T19:15:48.645Z"
   },
   {
    "duration": 96,
    "start_time": "2025-01-22T19:15:48.688Z"
   },
   {
    "duration": 13,
    "start_time": "2025-01-22T19:15:48.786Z"
   },
   {
    "duration": 111,
    "start_time": "2025-01-22T19:15:48.800Z"
   },
   {
    "duration": 72,
    "start_time": "2025-01-22T19:15:48.913Z"
   },
   {
    "duration": 342,
    "start_time": "2025-01-22T19:15:48.986Z"
   },
   {
    "duration": 109,
    "start_time": "2025-01-22T19:15:49.330Z"
   },
   {
    "duration": 63,
    "start_time": "2025-01-22T19:15:49.440Z"
   },
   {
    "duration": 407,
    "start_time": "2025-01-22T19:15:49.505Z"
   },
   {
    "duration": 79,
    "start_time": "2025-01-22T19:15:49.914Z"
   },
   {
    "duration": 110,
    "start_time": "2025-01-22T19:15:50.000Z"
   },
   {
    "duration": 124,
    "start_time": "2025-01-22T19:15:50.112Z"
   },
   {
    "duration": 43,
    "start_time": "2025-01-22T19:15:50.238Z"
   },
   {
    "duration": 125,
    "start_time": "2025-01-22T19:15:50.283Z"
   },
   {
    "duration": 173,
    "start_time": "2025-01-22T19:15:50.410Z"
   },
   {
    "duration": 13,
    "start_time": "2025-01-22T19:15:50.585Z"
   },
   {
    "duration": 115,
    "start_time": "2025-01-22T19:15:50.600Z"
   },
   {
    "duration": 44,
    "start_time": "2025-01-22T19:15:50.717Z"
   },
   {
    "duration": 44,
    "start_time": "2025-01-22T19:15:50.770Z"
   },
   {
    "duration": 60,
    "start_time": "2025-01-22T19:15:50.816Z"
   },
   {
    "duration": 8,
    "start_time": "2025-01-22T19:15:50.878Z"
   },
   {
    "duration": 13,
    "start_time": "2025-01-22T19:15:50.888Z"
   },
   {
    "duration": 92,
    "start_time": "2025-01-22T19:15:50.903Z"
   },
   {
    "duration": 49,
    "start_time": "2025-01-22T19:15:50.997Z"
   },
   {
    "duration": 12,
    "start_time": "2025-01-22T19:15:51.047Z"
   },
   {
    "duration": 29,
    "start_time": "2025-01-22T19:15:51.061Z"
   },
   {
    "duration": 91,
    "start_time": "2025-01-22T19:15:51.092Z"
   },
   {
    "duration": 94,
    "start_time": "2025-01-22T19:15:51.185Z"
   },
   {
    "duration": 48,
    "start_time": "2025-01-22T19:15:51.281Z"
   },
   {
    "duration": 114,
    "start_time": "2025-01-22T19:15:51.331Z"
   },
   {
    "duration": 331,
    "start_time": "2025-01-22T19:15:51.446Z"
   },
   {
    "duration": 469,
    "start_time": "2025-01-22T19:15:51.778Z"
   },
   {
    "duration": 67,
    "start_time": "2025-01-22T19:15:52.249Z"
   },
   {
    "duration": 11,
    "start_time": "2025-01-22T19:15:52.318Z"
   },
   {
    "duration": 121,
    "start_time": "2025-01-22T19:15:52.330Z"
   },
   {
    "duration": 44,
    "start_time": "2025-01-22T19:15:52.453Z"
   },
   {
    "duration": 115,
    "start_time": "2025-01-22T19:15:52.498Z"
   },
   {
    "duration": 205,
    "start_time": "2025-01-22T19:15:52.615Z"
   },
   {
    "duration": 990,
    "start_time": "2025-01-22T19:15:52.822Z"
   },
   {
    "duration": 75,
    "start_time": "2025-01-22T19:15:53.814Z"
   },
   {
    "duration": 9,
    "start_time": "2025-01-22T19:15:53.891Z"
   },
   {
    "duration": 135,
    "start_time": "2025-01-22T19:15:53.901Z"
   },
   {
    "duration": 0,
    "start_time": "2025-01-22T19:15:54.037Z"
   },
   {
    "duration": 0,
    "start_time": "2025-01-22T19:15:54.039Z"
   },
   {
    "duration": 0,
    "start_time": "2025-01-22T19:15:54.041Z"
   },
   {
    "duration": 0,
    "start_time": "2025-01-22T19:15:54.042Z"
   },
   {
    "duration": 0,
    "start_time": "2025-01-22T19:15:54.043Z"
   },
   {
    "duration": 16,
    "start_time": "2025-01-22T19:26:21.122Z"
   },
   {
    "duration": 11,
    "start_time": "2025-01-22T19:28:33.755Z"
   },
   {
    "duration": 5,
    "start_time": "2025-01-22T19:28:45.881Z"
   },
   {
    "duration": 4,
    "start_time": "2025-01-22T19:29:06.603Z"
   },
   {
    "duration": 4,
    "start_time": "2025-01-22T19:32:48.204Z"
   },
   {
    "duration": 4,
    "start_time": "2025-01-22T19:33:17.559Z"
   },
   {
    "duration": 9,
    "start_time": "2025-01-22T19:34:33.261Z"
   },
   {
    "duration": 9,
    "start_time": "2025-01-22T19:35:06.216Z"
   },
   {
    "duration": 4,
    "start_time": "2025-01-22T19:35:18.103Z"
   },
   {
    "duration": 73,
    "start_time": "2025-01-22T19:35:20.234Z"
   },
   {
    "duration": 12,
    "start_time": "2025-01-22T19:35:21.435Z"
   },
   {
    "duration": 9,
    "start_time": "2025-01-22T19:35:25.576Z"
   },
   {
    "duration": 1454,
    "start_time": "2025-01-22T19:35:39.394Z"
   },
   {
    "duration": 123,
    "start_time": "2025-01-22T19:36:36.921Z"
   },
   {
    "duration": 1353,
    "start_time": "2025-01-22T19:37:41.471Z"
   },
   {
    "duration": 9,
    "start_time": "2025-01-22T19:37:43.123Z"
   },
   {
    "duration": 1332,
    "start_time": "2025-01-22T19:37:53.565Z"
   },
   {
    "duration": 1361,
    "start_time": "2025-01-22T19:38:04.010Z"
   },
   {
    "duration": 1351,
    "start_time": "2025-01-22T19:38:47.315Z"
   },
   {
    "duration": 61,
    "start_time": "2025-01-22T19:38:54.625Z"
   },
   {
    "duration": 8,
    "start_time": "2025-01-22T19:39:08.664Z"
   },
   {
    "duration": 5,
    "start_time": "2025-01-22T19:48:33.341Z"
   },
   {
    "duration": 4,
    "start_time": "2025-01-22T19:48:36.825Z"
   },
   {
    "duration": 3731,
    "start_time": "2025-01-22T19:49:11.687Z"
   },
   {
    "duration": 43,
    "start_time": "2025-01-22T19:49:15.420Z"
   },
   {
    "duration": 108,
    "start_time": "2025-01-22T19:49:15.464Z"
   },
   {
    "duration": 1245,
    "start_time": "2025-01-22T19:49:15.574Z"
   },
   {
    "duration": 221,
    "start_time": "2025-01-22T19:49:16.821Z"
   },
   {
    "duration": 269,
    "start_time": "2025-01-22T19:49:17.044Z"
   },
   {
    "duration": 77,
    "start_time": "2025-01-22T19:49:17.315Z"
   },
   {
    "duration": 111,
    "start_time": "2025-01-22T19:49:17.394Z"
   },
   {
    "duration": 326,
    "start_time": "2025-01-22T19:49:17.507Z"
   },
   {
    "duration": 4,
    "start_time": "2025-01-22T19:49:17.836Z"
   },
   {
    "duration": 5,
    "start_time": "2025-01-22T19:49:17.841Z"
   },
   {
    "duration": 4,
    "start_time": "2025-01-22T19:49:17.848Z"
   },
   {
    "duration": 20,
    "start_time": "2025-01-22T19:49:17.853Z"
   },
   {
    "duration": 6,
    "start_time": "2025-01-22T19:49:17.875Z"
   },
   {
    "duration": 2194,
    "start_time": "2025-01-22T19:49:17.882Z"
   },
   {
    "duration": 5,
    "start_time": "2025-01-22T19:49:20.077Z"
   },
   {
    "duration": 9,
    "start_time": "2025-01-22T19:49:20.083Z"
   },
   {
    "duration": 10,
    "start_time": "2025-01-22T19:49:20.094Z"
   },
   {
    "duration": 17,
    "start_time": "2025-01-22T19:49:20.106Z"
   },
   {
    "duration": 8,
    "start_time": "2025-01-22T19:49:20.125Z"
   },
   {
    "duration": 26,
    "start_time": "2025-01-22T19:49:20.134Z"
   },
   {
    "duration": 39,
    "start_time": "2025-01-22T19:49:20.162Z"
   },
   {
    "duration": 26,
    "start_time": "2025-01-22T19:49:20.203Z"
   },
   {
    "duration": 115,
    "start_time": "2025-01-22T19:49:20.232Z"
   },
   {
    "duration": 158,
    "start_time": "2025-01-22T19:49:20.349Z"
   },
   {
    "duration": 422,
    "start_time": "2025-01-22T19:49:20.509Z"
   },
   {
    "duration": 25,
    "start_time": "2025-01-22T19:49:20.933Z"
   },
   {
    "duration": 9,
    "start_time": "2025-01-22T19:49:20.974Z"
   },
   {
    "duration": 49,
    "start_time": "2025-01-22T19:49:20.985Z"
   },
   {
    "duration": 34,
    "start_time": "2025-01-22T19:49:21.036Z"
   },
   {
    "duration": 10,
    "start_time": "2025-01-22T19:49:21.071Z"
   },
   {
    "duration": 45,
    "start_time": "2025-01-22T19:49:21.083Z"
   },
   {
    "duration": 13,
    "start_time": "2025-01-22T19:49:21.130Z"
   },
   {
    "duration": 26,
    "start_time": "2025-01-22T19:49:21.145Z"
   },
   {
    "duration": 13,
    "start_time": "2025-01-22T19:49:21.173Z"
   },
   {
    "duration": 10,
    "start_time": "2025-01-22T19:49:21.187Z"
   },
   {
    "duration": 8,
    "start_time": "2025-01-22T19:49:21.198Z"
   },
   {
    "duration": 15,
    "start_time": "2025-01-22T19:49:21.208Z"
   },
   {
    "duration": 69,
    "start_time": "2025-01-22T19:49:21.225Z"
   },
   {
    "duration": 12,
    "start_time": "2025-01-22T19:49:21.296Z"
   },
   {
    "duration": 162,
    "start_time": "2025-01-22T19:49:21.309Z"
   },
   {
    "duration": 4,
    "start_time": "2025-01-22T19:49:21.473Z"
   },
   {
    "duration": 17,
    "start_time": "2025-01-22T19:49:21.478Z"
   },
   {
    "duration": 13,
    "start_time": "2025-01-22T19:49:21.496Z"
   },
   {
    "duration": 6,
    "start_time": "2025-01-22T19:49:21.511Z"
   },
   {
    "duration": 63,
    "start_time": "2025-01-22T19:49:21.518Z"
   },
   {
    "duration": 112,
    "start_time": "2025-01-22T19:49:21.582Z"
   },
   {
    "duration": 112,
    "start_time": "2025-01-22T19:49:21.696Z"
   },
   {
    "duration": 61,
    "start_time": "2025-01-22T19:49:21.810Z"
   },
   {
    "duration": 43,
    "start_time": "2025-01-22T19:49:21.872Z"
   },
   {
    "duration": 58,
    "start_time": "2025-01-22T19:49:21.917Z"
   },
   {
    "duration": 94,
    "start_time": "2025-01-22T19:49:21.976Z"
   },
   {
    "duration": 7,
    "start_time": "2025-01-22T19:49:22.072Z"
   },
   {
    "duration": 25,
    "start_time": "2025-01-22T19:49:22.081Z"
   },
   {
    "duration": 19,
    "start_time": "2025-01-22T19:49:22.108Z"
   },
   {
    "duration": 51,
    "start_time": "2025-01-22T19:49:22.129Z"
   },
   {
    "duration": 15,
    "start_time": "2025-01-22T19:49:22.182Z"
   },
   {
    "duration": 17,
    "start_time": "2025-01-22T19:49:22.199Z"
   },
   {
    "duration": 16,
    "start_time": "2025-01-22T19:49:22.218Z"
   },
   {
    "duration": 12,
    "start_time": "2025-01-22T19:49:22.235Z"
   },
   {
    "duration": 38,
    "start_time": "2025-01-22T19:49:22.249Z"
   },
   {
    "duration": 7,
    "start_time": "2025-01-22T19:49:22.289Z"
   },
   {
    "duration": 8,
    "start_time": "2025-01-22T19:49:22.297Z"
   },
   {
    "duration": 13,
    "start_time": "2025-01-22T19:49:22.307Z"
   },
   {
    "duration": 8,
    "start_time": "2025-01-22T19:49:22.322Z"
   },
   {
    "duration": 47,
    "start_time": "2025-01-22T19:49:22.332Z"
   },
   {
    "duration": 10,
    "start_time": "2025-01-22T19:49:22.381Z"
   },
   {
    "duration": 41,
    "start_time": "2025-01-22T19:49:22.392Z"
   },
   {
    "duration": 53,
    "start_time": "2025-01-22T19:49:22.435Z"
   },
   {
    "duration": 45,
    "start_time": "2025-01-22T19:49:22.489Z"
   },
   {
    "duration": 5,
    "start_time": "2025-01-22T19:49:22.536Z"
   },
   {
    "duration": 43,
    "start_time": "2025-01-22T19:49:22.543Z"
   },
   {
    "duration": 19,
    "start_time": "2025-01-22T19:49:22.588Z"
   },
   {
    "duration": 12,
    "start_time": "2025-01-22T19:49:22.609Z"
   },
   {
    "duration": 109,
    "start_time": "2025-01-22T19:49:22.623Z"
   },
   {
    "duration": 39,
    "start_time": "2025-01-22T19:49:22.734Z"
   },
   {
    "duration": 308,
    "start_time": "2025-01-22T19:49:22.775Z"
   },
   {
    "duration": 111,
    "start_time": "2025-01-22T19:49:23.085Z"
   },
   {
    "duration": 55,
    "start_time": "2025-01-22T19:49:23.197Z"
   },
   {
    "duration": 229,
    "start_time": "2025-01-22T19:49:23.254Z"
   },
   {
    "duration": 44,
    "start_time": "2025-01-22T19:49:23.484Z"
   },
   {
    "duration": 68,
    "start_time": "2025-01-22T19:49:23.536Z"
   },
   {
    "duration": 164,
    "start_time": "2025-01-22T19:49:23.605Z"
   },
   {
    "duration": 37,
    "start_time": "2025-01-22T19:49:23.771Z"
   },
   {
    "duration": 106,
    "start_time": "2025-01-22T19:49:23.810Z"
   },
   {
    "duration": 172,
    "start_time": "2025-01-22T19:49:23.917Z"
   },
   {
    "duration": 14,
    "start_time": "2025-01-22T19:49:24.091Z"
   },
   {
    "duration": 122,
    "start_time": "2025-01-22T19:49:24.107Z"
   },
   {
    "duration": 45,
    "start_time": "2025-01-22T19:49:24.231Z"
   },
   {
    "duration": 27,
    "start_time": "2025-01-22T19:49:24.278Z"
   },
   {
    "duration": 40,
    "start_time": "2025-01-22T19:49:24.307Z"
   },
   {
    "duration": 24,
    "start_time": "2025-01-22T19:49:24.349Z"
   },
   {
    "duration": 12,
    "start_time": "2025-01-22T19:49:24.375Z"
   },
   {
    "duration": 59,
    "start_time": "2025-01-22T19:49:24.389Z"
   },
   {
    "duration": 52,
    "start_time": "2025-01-22T19:49:24.450Z"
   },
   {
    "duration": 12,
    "start_time": "2025-01-22T19:49:24.504Z"
   },
   {
    "duration": 6,
    "start_time": "2025-01-22T19:49:24.518Z"
   },
   {
    "duration": 114,
    "start_time": "2025-01-22T19:49:24.525Z"
   },
   {
    "duration": 99,
    "start_time": "2025-01-22T19:49:24.641Z"
   },
   {
    "duration": 58,
    "start_time": "2025-01-22T19:49:24.742Z"
   },
   {
    "duration": 74,
    "start_time": "2025-01-22T19:49:24.802Z"
   },
   {
    "duration": 251,
    "start_time": "2025-01-22T19:49:24.878Z"
   },
   {
    "duration": 476,
    "start_time": "2025-01-22T19:49:25.131Z"
   },
   {
    "duration": 69,
    "start_time": "2025-01-22T19:49:25.608Z"
   },
   {
    "duration": 22,
    "start_time": "2025-01-22T19:49:25.679Z"
   },
   {
    "duration": 159,
    "start_time": "2025-01-22T19:49:25.703Z"
   },
   {
    "duration": 45,
    "start_time": "2025-01-22T19:49:25.863Z"
   },
   {
    "duration": 109,
    "start_time": "2025-01-22T19:49:25.910Z"
   },
   {
    "duration": 193,
    "start_time": "2025-01-22T19:49:26.022Z"
   },
   {
    "duration": 978,
    "start_time": "2025-01-22T19:49:26.217Z"
   },
   {
    "duration": 74,
    "start_time": "2025-01-22T19:49:27.197Z"
   },
   {
    "duration": 10,
    "start_time": "2025-01-22T19:49:27.273Z"
   },
   {
    "duration": 5,
    "start_time": "2025-01-22T19:49:27.284Z"
   },
   {
    "duration": 12,
    "start_time": "2025-01-22T19:49:27.291Z"
   },
   {
    "duration": 5,
    "start_time": "2025-01-22T19:49:27.304Z"
   },
   {
    "duration": 99,
    "start_time": "2025-01-22T19:49:27.311Z"
   },
   {
    "duration": 112,
    "start_time": "2025-01-22T19:49:27.412Z"
   },
   {
    "duration": 64,
    "start_time": "2025-01-22T19:49:27.526Z"
   },
   {
    "duration": 64,
    "start_time": "2025-01-22T19:49:27.592Z"
   },
   {
    "duration": 30,
    "start_time": "2025-01-22T19:49:27.658Z"
   },
   {
    "duration": 168,
    "start_time": "2025-01-22T19:49:27.690Z"
   },
   {
    "duration": 119,
    "start_time": "2025-01-22T19:50:14.063Z"
   },
   {
    "duration": 103,
    "start_time": "2025-01-22T19:50:29.909Z"
   },
   {
    "duration": 11,
    "start_time": "2025-01-22T19:59:38.022Z"
   },
   {
    "duration": 15,
    "start_time": "2025-01-22T19:59:47.743Z"
   },
   {
    "duration": 163,
    "start_time": "2025-01-22T20:05:42.333Z"
   },
   {
    "duration": 169,
    "start_time": "2025-01-22T20:05:54.862Z"
   },
   {
    "duration": 97,
    "start_time": "2025-01-23T15:03:23.380Z"
   },
   {
    "duration": 84,
    "start_time": "2025-01-23T15:03:36.139Z"
   },
   {
    "duration": 85,
    "start_time": "2025-01-23T15:04:01.447Z"
   },
   {
    "duration": 8205,
    "start_time": "2025-01-23T15:04:22.183Z"
   },
   {
    "duration": 43,
    "start_time": "2025-01-23T15:04:30.391Z"
   },
   {
    "duration": 121,
    "start_time": "2025-01-23T15:04:30.436Z"
   },
   {
    "duration": 1203,
    "start_time": "2025-01-23T15:04:30.559Z"
   },
   {
    "duration": 215,
    "start_time": "2025-01-23T15:04:31.764Z"
   },
   {
    "duration": 287,
    "start_time": "2025-01-23T15:04:31.982Z"
   },
   {
    "duration": 99,
    "start_time": "2025-01-23T15:04:32.271Z"
   },
   {
    "duration": 104,
    "start_time": "2025-01-23T15:04:32.372Z"
   },
   {
    "duration": 383,
    "start_time": "2025-01-23T15:04:32.479Z"
   },
   {
    "duration": 5,
    "start_time": "2025-01-23T15:04:32.865Z"
   },
   {
    "duration": 34,
    "start_time": "2025-01-23T15:04:32.871Z"
   },
   {
    "duration": 17,
    "start_time": "2025-01-23T15:04:32.906Z"
   },
   {
    "duration": 49,
    "start_time": "2025-01-23T15:04:32.925Z"
   },
   {
    "duration": 22,
    "start_time": "2025-01-23T15:04:32.975Z"
   },
   {
    "duration": 2290,
    "start_time": "2025-01-23T15:04:32.998Z"
   },
   {
    "duration": 4,
    "start_time": "2025-01-23T15:04:35.290Z"
   },
   {
    "duration": 15,
    "start_time": "2025-01-23T15:04:35.296Z"
   },
   {
    "duration": 25,
    "start_time": "2025-01-23T15:04:35.312Z"
   },
   {
    "duration": 33,
    "start_time": "2025-01-23T15:04:35.339Z"
   },
   {
    "duration": 60,
    "start_time": "2025-01-23T15:04:35.374Z"
   },
   {
    "duration": 46,
    "start_time": "2025-01-23T15:04:35.436Z"
   },
   {
    "duration": 43,
    "start_time": "2025-01-23T15:04:35.485Z"
   },
   {
    "duration": 62,
    "start_time": "2025-01-23T15:04:35.530Z"
   },
   {
    "duration": 155,
    "start_time": "2025-01-23T15:04:35.595Z"
   },
   {
    "duration": 222,
    "start_time": "2025-01-23T15:04:35.751Z"
   },
   {
    "duration": 487,
    "start_time": "2025-01-23T15:04:35.974Z"
   },
   {
    "duration": 37,
    "start_time": "2025-01-23T15:04:36.463Z"
   },
   {
    "duration": 19,
    "start_time": "2025-01-23T15:04:36.509Z"
   },
   {
    "duration": 87,
    "start_time": "2025-01-23T15:04:36.530Z"
   },
   {
    "duration": 21,
    "start_time": "2025-01-23T15:04:36.619Z"
   },
   {
    "duration": 59,
    "start_time": "2025-01-23T15:04:36.642Z"
   },
   {
    "duration": 58,
    "start_time": "2025-01-23T15:04:36.703Z"
   },
   {
    "duration": 14,
    "start_time": "2025-01-23T15:04:36.763Z"
   },
   {
    "duration": 29,
    "start_time": "2025-01-23T15:04:36.778Z"
   },
   {
    "duration": 20,
    "start_time": "2025-01-23T15:04:36.808Z"
   },
   {
    "duration": 9,
    "start_time": "2025-01-23T15:04:36.830Z"
   },
   {
    "duration": 10,
    "start_time": "2025-01-23T15:04:36.841Z"
   },
   {
    "duration": 35,
    "start_time": "2025-01-23T15:04:36.852Z"
   },
   {
    "duration": 58,
    "start_time": "2025-01-23T15:04:36.888Z"
   },
   {
    "duration": 14,
    "start_time": "2025-01-23T15:04:36.948Z"
   },
   {
    "duration": 184,
    "start_time": "2025-01-23T15:04:36.964Z"
   },
   {
    "duration": 4,
    "start_time": "2025-01-23T15:04:37.150Z"
   },
   {
    "duration": 59,
    "start_time": "2025-01-23T15:04:37.156Z"
   },
   {
    "duration": 29,
    "start_time": "2025-01-23T15:04:37.216Z"
   },
   {
    "duration": 41,
    "start_time": "2025-01-23T15:04:37.247Z"
   },
   {
    "duration": 80,
    "start_time": "2025-01-23T15:04:37.290Z"
   },
   {
    "duration": 111,
    "start_time": "2025-01-23T15:04:37.372Z"
   },
   {
    "duration": 115,
    "start_time": "2025-01-23T15:04:37.485Z"
   },
   {
    "duration": 56,
    "start_time": "2025-01-23T15:04:37.602Z"
   },
   {
    "duration": 87,
    "start_time": "2025-01-23T15:04:37.660Z"
   },
   {
    "duration": 61,
    "start_time": "2025-01-23T15:04:37.748Z"
   },
   {
    "duration": 98,
    "start_time": "2025-01-23T15:04:37.811Z"
   },
   {
    "duration": 9,
    "start_time": "2025-01-23T15:04:37.911Z"
   },
   {
    "duration": 41,
    "start_time": "2025-01-23T15:04:37.921Z"
   },
   {
    "duration": 51,
    "start_time": "2025-01-23T15:04:37.964Z"
   },
   {
    "duration": 84,
    "start_time": "2025-01-23T15:04:38.016Z"
   },
   {
    "duration": 9,
    "start_time": "2025-01-23T15:04:38.102Z"
   },
   {
    "duration": 37,
    "start_time": "2025-01-23T15:04:38.113Z"
   },
   {
    "duration": 109,
    "start_time": "2025-01-23T15:04:38.152Z"
   },
   {
    "duration": 15,
    "start_time": "2025-01-23T15:04:38.263Z"
   },
   {
    "duration": 50,
    "start_time": "2025-01-23T15:04:38.279Z"
   },
   {
    "duration": 27,
    "start_time": "2025-01-23T15:04:38.330Z"
   },
   {
    "duration": 13,
    "start_time": "2025-01-23T15:04:38.359Z"
   },
   {
    "duration": 30,
    "start_time": "2025-01-23T15:04:38.374Z"
   },
   {
    "duration": 8,
    "start_time": "2025-01-23T15:04:38.406Z"
   },
   {
    "duration": 36,
    "start_time": "2025-01-23T15:04:38.416Z"
   },
   {
    "duration": 26,
    "start_time": "2025-01-23T15:04:38.454Z"
   },
   {
    "duration": 48,
    "start_time": "2025-01-23T15:04:38.482Z"
   },
   {
    "duration": 49,
    "start_time": "2025-01-23T15:04:38.532Z"
   },
   {
    "duration": 44,
    "start_time": "2025-01-23T15:04:38.583Z"
   },
   {
    "duration": 41,
    "start_time": "2025-01-23T15:04:38.629Z"
   },
   {
    "duration": 21,
    "start_time": "2025-01-23T15:04:38.671Z"
   },
   {
    "duration": 21,
    "start_time": "2025-01-23T15:04:38.694Z"
   },
   {
    "duration": 14,
    "start_time": "2025-01-23T15:04:38.717Z"
   },
   {
    "duration": 108,
    "start_time": "2025-01-23T15:04:38.732Z"
   },
   {
    "duration": 31,
    "start_time": "2025-01-23T15:04:38.841Z"
   },
   {
    "duration": 362,
    "start_time": "2025-01-23T15:04:38.874Z"
   },
   {
    "duration": 122,
    "start_time": "2025-01-23T15:04:39.238Z"
   },
   {
    "duration": 70,
    "start_time": "2025-01-23T15:04:39.362Z"
   },
   {
    "duration": 245,
    "start_time": "2025-01-23T15:04:39.434Z"
   },
   {
    "duration": 48,
    "start_time": "2025-01-23T15:04:39.685Z"
   },
   {
    "duration": 74,
    "start_time": "2025-01-23T15:04:39.740Z"
   },
   {
    "duration": 119,
    "start_time": "2025-01-23T15:04:39.816Z"
   },
   {
    "duration": 40,
    "start_time": "2025-01-23T15:04:39.936Z"
   },
   {
    "duration": 102,
    "start_time": "2025-01-23T15:04:39.986Z"
   },
   {
    "duration": 197,
    "start_time": "2025-01-23T15:04:40.090Z"
   },
   {
    "duration": 14,
    "start_time": "2025-01-23T15:04:40.289Z"
   },
   {
    "duration": 113,
    "start_time": "2025-01-23T15:04:40.306Z"
   },
   {
    "duration": 39,
    "start_time": "2025-01-23T15:04:40.421Z"
   },
   {
    "duration": 44,
    "start_time": "2025-01-23T15:04:40.462Z"
   },
   {
    "duration": 42,
    "start_time": "2025-01-23T15:04:40.507Z"
   },
   {
    "duration": 7,
    "start_time": "2025-01-23T15:04:40.551Z"
   },
   {
    "duration": 48,
    "start_time": "2025-01-23T15:04:40.559Z"
   },
   {
    "duration": 82,
    "start_time": "2025-01-23T15:04:40.608Z"
   },
   {
    "duration": 64,
    "start_time": "2025-01-23T15:04:40.691Z"
   },
   {
    "duration": 12,
    "start_time": "2025-01-23T15:04:40.756Z"
   },
   {
    "duration": 16,
    "start_time": "2025-01-23T15:04:40.769Z"
   },
   {
    "duration": 87,
    "start_time": "2025-01-23T15:04:40.787Z"
   },
   {
    "duration": 98,
    "start_time": "2025-01-23T15:04:40.876Z"
   },
   {
    "duration": 48,
    "start_time": "2025-01-23T15:04:40.986Z"
   },
   {
    "duration": 86,
    "start_time": "2025-01-23T15:04:41.035Z"
   },
   {
    "duration": 263,
    "start_time": "2025-01-23T15:04:41.123Z"
   },
   {
    "duration": 483,
    "start_time": "2025-01-23T15:04:41.388Z"
   },
   {
    "duration": 72,
    "start_time": "2025-01-23T15:04:41.873Z"
   },
   {
    "duration": 11,
    "start_time": "2025-01-23T15:04:41.947Z"
   },
   {
    "duration": 107,
    "start_time": "2025-01-23T15:04:41.959Z"
   },
   {
    "duration": 49,
    "start_time": "2025-01-23T15:04:42.067Z"
   },
   {
    "duration": 111,
    "start_time": "2025-01-23T15:04:42.118Z"
   },
   {
    "duration": 201,
    "start_time": "2025-01-23T15:04:42.231Z"
   },
   {
    "duration": 999,
    "start_time": "2025-01-23T15:04:42.434Z"
   },
   {
    "duration": 75,
    "start_time": "2025-01-23T15:04:43.435Z"
   },
   {
    "duration": 8,
    "start_time": "2025-01-23T15:04:43.512Z"
   },
   {
    "duration": 4,
    "start_time": "2025-01-23T15:04:43.522Z"
   },
   {
    "duration": 6,
    "start_time": "2025-01-23T15:04:43.528Z"
   },
   {
    "duration": 11,
    "start_time": "2025-01-23T15:04:43.535Z"
   },
   {
    "duration": 102,
    "start_time": "2025-01-23T15:04:43.548Z"
   },
   {
    "duration": 118,
    "start_time": "2025-01-23T15:04:43.652Z"
   },
   {
    "duration": 67,
    "start_time": "2025-01-23T15:04:43.771Z"
   },
   {
    "duration": 5,
    "start_time": "2025-01-23T15:04:43.839Z"
   },
   {
    "duration": 8,
    "start_time": "2025-01-23T15:04:43.845Z"
   },
   {
    "duration": 146,
    "start_time": "2025-01-23T15:04:43.854Z"
   },
   {
    "duration": 91,
    "start_time": "2025-01-23T15:04:44.002Z"
   },
   {
    "duration": 0,
    "start_time": "2025-01-23T15:04:44.095Z"
   },
   {
    "duration": 1740,
    "start_time": "2025-01-23T15:07:38.623Z"
   },
   {
    "duration": 1571,
    "start_time": "2025-01-23T15:07:53.889Z"
   },
   {
    "duration": 12,
    "start_time": "2025-01-23T15:10:41.555Z"
   },
   {
    "duration": 1408,
    "start_time": "2025-01-23T15:11:17.444Z"
   },
   {
    "duration": 1403,
    "start_time": "2025-01-23T15:11:23.852Z"
   },
   {
    "duration": 25,
    "start_time": "2025-01-23T15:15:31.158Z"
   },
   {
    "duration": 156,
    "start_time": "2025-01-23T15:18:29.960Z"
   },
   {
    "duration": 161,
    "start_time": "2025-01-23T15:29:12.061Z"
   },
   {
    "duration": 300,
    "start_time": "2025-01-23T15:42:18.889Z"
   },
   {
    "duration": 306,
    "start_time": "2025-01-23T15:42:29.307Z"
   },
   {
    "duration": 110,
    "start_time": "2025-01-23T17:07:37.529Z"
   },
   {
    "duration": 37,
    "start_time": "2025-01-23T17:09:19.096Z"
   },
   {
    "duration": 59,
    "start_time": "2025-01-23T17:10:14.162Z"
   },
   {
    "duration": 62,
    "start_time": "2025-01-23T17:11:11.996Z"
   },
   {
    "duration": 59,
    "start_time": "2025-01-23T17:11:40.207Z"
   },
   {
    "duration": 56,
    "start_time": "2025-01-23T17:14:11.598Z"
   },
   {
    "duration": 66,
    "start_time": "2025-01-23T17:15:15.779Z"
   },
   {
    "duration": 58,
    "start_time": "2025-01-23T17:20:01.581Z"
   },
   {
    "duration": 1326,
    "start_time": "2025-01-23T17:25:42.334Z"
   },
   {
    "duration": 13,
    "start_time": "2025-01-23T17:25:59.958Z"
   },
   {
    "duration": 48,
    "start_time": "2025-01-27T16:52:45.630Z"
   },
   {
    "duration": 7484,
    "start_time": "2025-01-27T16:53:07.881Z"
   },
   {
    "duration": 43,
    "start_time": "2025-01-27T16:53:15.368Z"
   },
   {
    "duration": 64,
    "start_time": "2025-01-27T16:53:15.413Z"
   },
   {
    "duration": 1311,
    "start_time": "2025-01-27T16:53:15.479Z"
   },
   {
    "duration": 284,
    "start_time": "2025-01-27T16:53:16.792Z"
   },
   {
    "duration": 314,
    "start_time": "2025-01-27T16:53:17.077Z"
   },
   {
    "duration": 54,
    "start_time": "2025-01-27T16:53:17.393Z"
   },
   {
    "duration": 147,
    "start_time": "2025-01-27T16:53:17.449Z"
   },
   {
    "duration": 427,
    "start_time": "2025-01-27T16:53:17.598Z"
   },
   {
    "duration": 5,
    "start_time": "2025-01-27T16:53:18.028Z"
   },
   {
    "duration": 6,
    "start_time": "2025-01-27T16:53:18.034Z"
   },
   {
    "duration": 14,
    "start_time": "2025-01-27T16:53:18.041Z"
   },
   {
    "duration": 15,
    "start_time": "2025-01-27T16:53:18.056Z"
   },
   {
    "duration": 16,
    "start_time": "2025-01-27T16:53:18.072Z"
   },
   {
    "duration": 2076,
    "start_time": "2025-01-27T16:53:18.090Z"
   },
   {
    "duration": 6,
    "start_time": "2025-01-27T16:53:20.167Z"
   },
   {
    "duration": 16,
    "start_time": "2025-01-27T16:53:20.174Z"
   },
   {
    "duration": 6,
    "start_time": "2025-01-27T16:53:20.192Z"
   },
   {
    "duration": 4,
    "start_time": "2025-01-27T16:53:20.200Z"
   },
   {
    "duration": 6,
    "start_time": "2025-01-27T16:53:20.205Z"
   },
   {
    "duration": 12,
    "start_time": "2025-01-27T16:53:20.212Z"
   },
   {
    "duration": 18,
    "start_time": "2025-01-27T16:53:20.225Z"
   },
   {
    "duration": 33,
    "start_time": "2025-01-27T16:53:20.244Z"
   },
   {
    "duration": 124,
    "start_time": "2025-01-27T16:53:20.279Z"
   },
   {
    "duration": 199,
    "start_time": "2025-01-27T16:53:20.405Z"
   },
   {
    "duration": 431,
    "start_time": "2025-01-27T16:53:20.605Z"
   },
   {
    "duration": 32,
    "start_time": "2025-01-27T16:53:21.038Z"
   },
   {
    "duration": 35,
    "start_time": "2025-01-27T16:53:21.074Z"
   },
   {
    "duration": 128,
    "start_time": "2025-01-27T16:53:21.110Z"
   },
   {
    "duration": 20,
    "start_time": "2025-01-27T16:53:21.240Z"
   },
   {
    "duration": 17,
    "start_time": "2025-01-27T16:53:21.262Z"
   },
   {
    "duration": 45,
    "start_time": "2025-01-27T16:53:21.280Z"
   },
   {
    "duration": 13,
    "start_time": "2025-01-27T16:53:21.327Z"
   },
   {
    "duration": 17,
    "start_time": "2025-01-27T16:53:21.341Z"
   },
   {
    "duration": 16,
    "start_time": "2025-01-27T16:53:21.360Z"
   },
   {
    "duration": 15,
    "start_time": "2025-01-27T16:53:21.377Z"
   },
   {
    "duration": 8,
    "start_time": "2025-01-27T16:53:21.394Z"
   },
   {
    "duration": 22,
    "start_time": "2025-01-27T16:53:21.403Z"
   },
   {
    "duration": 46,
    "start_time": "2025-01-27T16:53:21.427Z"
   },
   {
    "duration": 133,
    "start_time": "2025-01-27T16:53:21.475Z"
   },
   {
    "duration": 158,
    "start_time": "2025-01-27T16:53:21.610Z"
   },
   {
    "duration": 4,
    "start_time": "2025-01-27T16:53:21.770Z"
   },
   {
    "duration": 19,
    "start_time": "2025-01-27T16:53:21.775Z"
   },
   {
    "duration": 16,
    "start_time": "2025-01-27T16:53:21.796Z"
   },
   {
    "duration": 77,
    "start_time": "2025-01-27T16:53:21.813Z"
   },
   {
    "duration": 57,
    "start_time": "2025-01-27T16:53:21.892Z"
   },
   {
    "duration": 102,
    "start_time": "2025-01-27T16:53:21.951Z"
   },
   {
    "duration": 105,
    "start_time": "2025-01-27T16:53:22.055Z"
   },
   {
    "duration": 55,
    "start_time": "2025-01-27T16:53:22.162Z"
   },
   {
    "duration": 55,
    "start_time": "2025-01-27T16:53:22.219Z"
   },
   {
    "duration": 42,
    "start_time": "2025-01-27T16:53:22.276Z"
   },
   {
    "duration": 97,
    "start_time": "2025-01-27T16:53:22.320Z"
   },
   {
    "duration": 7,
    "start_time": "2025-01-27T16:53:22.419Z"
   },
   {
    "duration": 35,
    "start_time": "2025-01-27T16:53:22.427Z"
   },
   {
    "duration": 26,
    "start_time": "2025-01-27T16:53:22.463Z"
   },
   {
    "duration": 80,
    "start_time": "2025-01-27T16:53:22.490Z"
   },
   {
    "duration": 41,
    "start_time": "2025-01-27T16:53:22.572Z"
   },
   {
    "duration": 32,
    "start_time": "2025-01-27T16:53:22.615Z"
   },
   {
    "duration": 20,
    "start_time": "2025-01-27T16:53:22.649Z"
   },
   {
    "duration": 11,
    "start_time": "2025-01-27T16:53:22.671Z"
   },
   {
    "duration": 38,
    "start_time": "2025-01-27T16:53:22.684Z"
   },
   {
    "duration": 19,
    "start_time": "2025-01-27T16:53:22.724Z"
   },
   {
    "duration": 38,
    "start_time": "2025-01-27T16:53:22.744Z"
   },
   {
    "duration": 29,
    "start_time": "2025-01-27T16:53:22.784Z"
   },
   {
    "duration": 11,
    "start_time": "2025-01-27T16:53:22.815Z"
   },
   {
    "duration": 17,
    "start_time": "2025-01-27T16:53:22.827Z"
   },
   {
    "duration": 9,
    "start_time": "2025-01-27T16:53:22.846Z"
   },
   {
    "duration": 38,
    "start_time": "2025-01-27T16:53:22.857Z"
   },
   {
    "duration": 35,
    "start_time": "2025-01-27T16:53:22.896Z"
   },
   {
    "duration": 75,
    "start_time": "2025-01-27T16:53:22.933Z"
   },
   {
    "duration": 6,
    "start_time": "2025-01-27T16:53:23.009Z"
   },
   {
    "duration": 19,
    "start_time": "2025-01-27T16:53:23.016Z"
   },
   {
    "duration": 40,
    "start_time": "2025-01-27T16:53:23.037Z"
   },
   {
    "duration": 15,
    "start_time": "2025-01-27T16:53:23.079Z"
   },
   {
    "duration": 108,
    "start_time": "2025-01-27T16:53:23.096Z"
   },
   {
    "duration": 30,
    "start_time": "2025-01-27T16:53:23.206Z"
   },
   {
    "duration": 322,
    "start_time": "2025-01-27T16:53:23.238Z"
   },
   {
    "duration": 103,
    "start_time": "2025-01-27T16:53:23.562Z"
   },
   {
    "duration": 53,
    "start_time": "2025-01-27T16:53:23.671Z"
   },
   {
    "duration": 225,
    "start_time": "2025-01-27T16:53:23.726Z"
   },
   {
    "duration": 45,
    "start_time": "2025-01-27T16:53:23.953Z"
   },
   {
    "duration": 67,
    "start_time": "2025-01-27T16:53:24.004Z"
   },
   {
    "duration": 132,
    "start_time": "2025-01-27T16:53:24.073Z"
   },
   {
    "duration": 36,
    "start_time": "2025-01-27T16:53:24.207Z"
   },
   {
    "duration": 102,
    "start_time": "2025-01-27T16:53:24.245Z"
   },
   {
    "duration": 184,
    "start_time": "2025-01-27T16:53:24.349Z"
   },
   {
    "duration": 13,
    "start_time": "2025-01-27T16:53:24.534Z"
   },
   {
    "duration": 137,
    "start_time": "2025-01-27T16:53:24.549Z"
   },
   {
    "duration": 38,
    "start_time": "2025-01-27T16:53:24.688Z"
   },
   {
    "duration": 45,
    "start_time": "2025-01-27T16:53:24.728Z"
   },
   {
    "duration": 41,
    "start_time": "2025-01-27T16:53:24.774Z"
   },
   {
    "duration": 6,
    "start_time": "2025-01-27T16:53:24.816Z"
   },
   {
    "duration": 21,
    "start_time": "2025-01-27T16:53:24.824Z"
   },
   {
    "duration": 81,
    "start_time": "2025-01-27T16:53:24.847Z"
   },
   {
    "duration": 45,
    "start_time": "2025-01-27T16:53:24.930Z"
   },
   {
    "duration": 13,
    "start_time": "2025-01-27T16:53:24.977Z"
   },
   {
    "duration": 7,
    "start_time": "2025-01-27T16:53:24.991Z"
   },
   {
    "duration": 102,
    "start_time": "2025-01-27T16:53:24.999Z"
   },
   {
    "duration": 95,
    "start_time": "2025-01-27T16:53:25.103Z"
   },
   {
    "duration": 48,
    "start_time": "2025-01-27T16:53:25.200Z"
   },
   {
    "duration": 86,
    "start_time": "2025-01-27T16:53:25.249Z"
   },
   {
    "duration": 247,
    "start_time": "2025-01-27T16:53:25.337Z"
   },
   {
    "duration": 494,
    "start_time": "2025-01-27T16:53:25.585Z"
   },
   {
    "duration": 55,
    "start_time": "2025-01-27T16:53:26.080Z"
   },
   {
    "duration": 33,
    "start_time": "2025-01-27T16:53:26.137Z"
   },
   {
    "duration": 107,
    "start_time": "2025-01-27T16:53:26.172Z"
   },
   {
    "duration": 38,
    "start_time": "2025-01-27T16:53:26.281Z"
   },
   {
    "duration": 113,
    "start_time": "2025-01-27T16:53:26.320Z"
   },
   {
    "duration": 215,
    "start_time": "2025-01-27T16:53:26.435Z"
   },
   {
    "duration": 934,
    "start_time": "2025-01-27T16:53:26.651Z"
   },
   {
    "duration": 60,
    "start_time": "2025-01-27T16:53:27.587Z"
   },
   {
    "duration": 25,
    "start_time": "2025-01-27T16:53:27.649Z"
   },
   {
    "duration": 5,
    "start_time": "2025-01-27T16:53:27.675Z"
   },
   {
    "duration": 17,
    "start_time": "2025-01-27T16:53:27.681Z"
   },
   {
    "duration": 13,
    "start_time": "2025-01-27T16:53:27.699Z"
   },
   {
    "duration": 79,
    "start_time": "2025-01-27T16:53:27.714Z"
   },
   {
    "duration": 115,
    "start_time": "2025-01-27T16:53:27.795Z"
   },
   {
    "duration": 66,
    "start_time": "2025-01-27T16:53:27.911Z"
   },
   {
    "duration": 4,
    "start_time": "2025-01-27T16:53:27.979Z"
   },
   {
    "duration": 15,
    "start_time": "2025-01-27T16:53:27.984Z"
   },
   {
    "duration": 16,
    "start_time": "2025-01-27T16:53:28.001Z"
   },
   {
    "duration": 67,
    "start_time": "2025-01-27T16:53:28.019Z"
   },
   {
    "duration": 25,
    "start_time": "2025-01-27T16:53:28.088Z"
   },
   {
    "duration": 168,
    "start_time": "2025-01-27T16:53:28.114Z"
   },
   {
    "duration": 12,
    "start_time": "2025-01-27T16:54:10.881Z"
   },
   {
    "duration": 12,
    "start_time": "2025-01-27T16:54:51.514Z"
   },
   {
    "duration": 112,
    "start_time": "2025-01-27T17:09:09.941Z"
   },
   {
    "duration": 11,
    "start_time": "2025-01-27T17:09:17.215Z"
   },
   {
    "duration": 9,
    "start_time": "2025-01-27T17:15:58.565Z"
   },
   {
    "duration": 11,
    "start_time": "2025-01-27T17:16:04.114Z"
   },
   {
    "duration": 4,
    "start_time": "2025-01-27T17:16:58.535Z"
   },
   {
    "duration": 9,
    "start_time": "2025-01-27T17:17:05.762Z"
   },
   {
    "duration": 16,
    "start_time": "2025-01-27T17:17:34.999Z"
   },
   {
    "duration": 9,
    "start_time": "2025-01-27T17:17:49.422Z"
   },
   {
    "duration": 10,
    "start_time": "2025-01-27T17:18:06.398Z"
   },
   {
    "duration": 4,
    "start_time": "2025-01-27T17:19:28.052Z"
   },
   {
    "duration": 1059,
    "start_time": "2025-01-27T17:23:41.488Z"
   },
   {
    "duration": 11,
    "start_time": "2025-01-27T17:24:01.664Z"
   },
   {
    "duration": 7,
    "start_time": "2025-01-27T17:33:20.146Z"
   },
   {
    "duration": 11,
    "start_time": "2025-01-27T17:33:33.288Z"
   },
   {
    "duration": 67,
    "start_time": "2025-01-27T17:47:14.804Z"
   },
   {
    "duration": 66,
    "start_time": "2025-01-27T17:47:27.632Z"
   },
   {
    "duration": 66,
    "start_time": "2025-01-27T17:47:42.979Z"
   },
   {
    "duration": 313,
    "start_time": "2025-01-27T17:47:54.349Z"
   },
   {
    "duration": 4112,
    "start_time": "2025-01-27T17:48:18.537Z"
   },
   {
    "duration": 62,
    "start_time": "2025-01-27T17:48:22.652Z"
   },
   {
    "duration": 64,
    "start_time": "2025-01-27T17:48:22.715Z"
   },
   {
    "duration": 1047,
    "start_time": "2025-01-27T17:48:22.781Z"
   },
   {
    "duration": 275,
    "start_time": "2025-01-27T17:48:23.830Z"
   },
   {
    "duration": 235,
    "start_time": "2025-01-27T17:48:24.107Z"
   },
   {
    "duration": 57,
    "start_time": "2025-01-27T17:48:24.343Z"
   },
   {
    "duration": 104,
    "start_time": "2025-01-27T17:48:24.401Z"
   },
   {
    "duration": 409,
    "start_time": "2025-01-27T17:48:24.506Z"
   },
   {
    "duration": 5,
    "start_time": "2025-01-27T17:48:24.918Z"
   },
   {
    "duration": 44,
    "start_time": "2025-01-27T17:48:24.925Z"
   },
   {
    "duration": 35,
    "start_time": "2025-01-27T17:48:24.971Z"
   },
   {
    "duration": 16,
    "start_time": "2025-01-27T17:48:25.007Z"
   },
   {
    "duration": 30,
    "start_time": "2025-01-27T17:48:25.024Z"
   },
   {
    "duration": 2174,
    "start_time": "2025-01-27T17:48:25.056Z"
   },
   {
    "duration": 4,
    "start_time": "2025-01-27T17:48:27.232Z"
   },
   {
    "duration": 7,
    "start_time": "2025-01-27T17:48:27.237Z"
   },
   {
    "duration": 9,
    "start_time": "2025-01-27T17:48:27.246Z"
   },
   {
    "duration": 15,
    "start_time": "2025-01-27T17:48:27.256Z"
   },
   {
    "duration": 20,
    "start_time": "2025-01-27T17:48:27.273Z"
   },
   {
    "duration": 31,
    "start_time": "2025-01-27T17:48:27.294Z"
   },
   {
    "duration": 81,
    "start_time": "2025-01-27T17:48:27.327Z"
   },
   {
    "duration": 8,
    "start_time": "2025-01-27T17:48:27.410Z"
   },
   {
    "duration": 104,
    "start_time": "2025-01-27T17:48:27.419Z"
   },
   {
    "duration": 157,
    "start_time": "2025-01-27T17:48:27.525Z"
   },
   {
    "duration": 396,
    "start_time": "2025-01-27T17:48:27.684Z"
   },
   {
    "duration": 26,
    "start_time": "2025-01-27T17:48:28.081Z"
   },
   {
    "duration": 16,
    "start_time": "2025-01-27T17:48:28.112Z"
   },
   {
    "duration": 61,
    "start_time": "2025-01-27T17:48:28.130Z"
   },
   {
    "duration": 19,
    "start_time": "2025-01-27T17:48:28.193Z"
   },
   {
    "duration": 9,
    "start_time": "2025-01-27T17:48:28.214Z"
   },
   {
    "duration": 55,
    "start_time": "2025-01-27T17:48:28.225Z"
   },
   {
    "duration": 12,
    "start_time": "2025-01-27T17:48:28.281Z"
   },
   {
    "duration": 42,
    "start_time": "2025-01-27T17:48:28.295Z"
   },
   {
    "duration": 17,
    "start_time": "2025-01-27T17:48:28.338Z"
   },
   {
    "duration": 9,
    "start_time": "2025-01-27T17:48:28.357Z"
   },
   {
    "duration": 14,
    "start_time": "2025-01-27T17:48:28.367Z"
   },
   {
    "duration": 13,
    "start_time": "2025-01-27T17:48:28.383Z"
   },
   {
    "duration": 43,
    "start_time": "2025-01-27T17:48:28.398Z"
   },
   {
    "duration": 28,
    "start_time": "2025-01-27T17:48:28.442Z"
   },
   {
    "duration": 143,
    "start_time": "2025-01-27T17:48:28.472Z"
   },
   {
    "duration": 4,
    "start_time": "2025-01-27T17:48:28.617Z"
   },
   {
    "duration": 50,
    "start_time": "2025-01-27T17:48:28.623Z"
   },
   {
    "duration": 17,
    "start_time": "2025-01-27T17:48:28.675Z"
   },
   {
    "duration": 20,
    "start_time": "2025-01-27T17:48:28.694Z"
   },
   {
    "duration": 52,
    "start_time": "2025-01-27T17:48:28.715Z"
   },
   {
    "duration": 110,
    "start_time": "2025-01-27T17:48:28.768Z"
   },
   {
    "duration": 110,
    "start_time": "2025-01-27T17:48:28.880Z"
   },
   {
    "duration": 51,
    "start_time": "2025-01-27T17:48:28.992Z"
   },
   {
    "duration": 56,
    "start_time": "2025-01-27T17:48:29.044Z"
   },
   {
    "duration": 47,
    "start_time": "2025-01-27T17:48:29.101Z"
   },
   {
    "duration": 104,
    "start_time": "2025-01-27T17:48:29.150Z"
   },
   {
    "duration": 15,
    "start_time": "2025-01-27T17:48:29.256Z"
   },
   {
    "duration": 24,
    "start_time": "2025-01-27T17:48:29.272Z"
   },
   {
    "duration": 19,
    "start_time": "2025-01-27T17:48:29.298Z"
   },
   {
    "duration": 93,
    "start_time": "2025-01-27T17:48:29.319Z"
   },
   {
    "duration": 6,
    "start_time": "2025-01-27T17:48:29.414Z"
   },
   {
    "duration": 18,
    "start_time": "2025-01-27T17:48:29.422Z"
   },
   {
    "duration": 22,
    "start_time": "2025-01-27T17:48:29.442Z"
   },
   {
    "duration": 11,
    "start_time": "2025-01-27T17:48:29.465Z"
   },
   {
    "duration": 18,
    "start_time": "2025-01-27T17:48:29.478Z"
   },
   {
    "duration": 6,
    "start_time": "2025-01-27T17:48:29.497Z"
   },
   {
    "duration": 8,
    "start_time": "2025-01-27T17:48:29.505Z"
   },
   {
    "duration": 16,
    "start_time": "2025-01-27T17:48:29.514Z"
   },
   {
    "duration": 7,
    "start_time": "2025-01-27T17:48:29.532Z"
   },
   {
    "duration": 44,
    "start_time": "2025-01-27T17:48:29.540Z"
   },
   {
    "duration": 12,
    "start_time": "2025-01-27T17:48:29.586Z"
   },
   {
    "duration": 40,
    "start_time": "2025-01-27T17:48:29.600Z"
   },
   {
    "duration": 123,
    "start_time": "2025-01-27T17:48:29.641Z"
   },
   {
    "duration": 42,
    "start_time": "2025-01-27T17:48:29.765Z"
   },
   {
    "duration": 45,
    "start_time": "2025-01-27T17:48:29.809Z"
   },
   {
    "duration": 19,
    "start_time": "2025-01-27T17:48:29.856Z"
   },
   {
    "duration": 20,
    "start_time": "2025-01-27T17:48:29.876Z"
   },
   {
    "duration": 12,
    "start_time": "2025-01-27T17:48:29.897Z"
   },
   {
    "duration": 107,
    "start_time": "2025-01-27T17:48:29.911Z"
   },
   {
    "duration": 28,
    "start_time": "2025-01-27T17:48:30.020Z"
   },
   {
    "duration": 409,
    "start_time": "2025-01-27T17:48:30.050Z"
   },
   {
    "duration": 117,
    "start_time": "2025-01-27T17:48:30.460Z"
   },
   {
    "duration": 133,
    "start_time": "2025-01-27T17:48:30.578Z"
   },
   {
    "duration": 224,
    "start_time": "2025-01-27T17:48:30.712Z"
   },
   {
    "duration": 53,
    "start_time": "2025-01-27T17:48:30.938Z"
   },
   {
    "duration": 55,
    "start_time": "2025-01-27T17:48:30.998Z"
   },
   {
    "duration": 124,
    "start_time": "2025-01-27T17:48:31.054Z"
   },
   {
    "duration": 38,
    "start_time": "2025-01-27T17:48:31.180Z"
   },
   {
    "duration": 108,
    "start_time": "2025-01-27T17:48:31.219Z"
   },
   {
    "duration": 168,
    "start_time": "2025-01-27T17:48:31.329Z"
   },
   {
    "duration": 13,
    "start_time": "2025-01-27T17:48:31.498Z"
   },
   {
    "duration": 111,
    "start_time": "2025-01-27T17:48:31.512Z"
   },
   {
    "duration": 37,
    "start_time": "2025-01-27T17:48:31.624Z"
   },
   {
    "duration": 93,
    "start_time": "2025-01-27T17:48:31.670Z"
   },
   {
    "duration": 41,
    "start_time": "2025-01-27T17:48:31.765Z"
   },
   {
    "duration": 90,
    "start_time": "2025-01-27T17:48:31.808Z"
   },
   {
    "duration": 22,
    "start_time": "2025-01-27T17:48:31.900Z"
   },
   {
    "duration": 56,
    "start_time": "2025-01-27T17:48:31.923Z"
   },
   {
    "duration": 35,
    "start_time": "2025-01-27T17:48:31.981Z"
   },
   {
    "duration": 15,
    "start_time": "2025-01-27T17:48:32.018Z"
   },
   {
    "duration": 134,
    "start_time": "2025-01-27T17:48:32.034Z"
   },
   {
    "duration": 105,
    "start_time": "2025-01-27T17:48:32.170Z"
   },
   {
    "duration": 82,
    "start_time": "2025-01-27T17:48:32.277Z"
   },
   {
    "duration": 57,
    "start_time": "2025-01-27T17:48:32.361Z"
   },
   {
    "duration": 76,
    "start_time": "2025-01-27T17:48:32.420Z"
   },
   {
    "duration": 244,
    "start_time": "2025-01-27T17:48:32.498Z"
   },
   {
    "duration": 438,
    "start_time": "2025-01-27T17:48:32.743Z"
   },
   {
    "duration": 56,
    "start_time": "2025-01-27T17:48:33.182Z"
   },
   {
    "duration": 11,
    "start_time": "2025-01-27T17:48:33.240Z"
   },
   {
    "duration": 102,
    "start_time": "2025-01-27T17:48:33.253Z"
   },
   {
    "duration": 48,
    "start_time": "2025-01-27T17:48:33.357Z"
   },
   {
    "duration": 105,
    "start_time": "2025-01-27T17:48:33.407Z"
   },
   {
    "duration": 193,
    "start_time": "2025-01-27T17:48:33.514Z"
   },
   {
    "duration": 421,
    "start_time": "2025-01-27T17:48:33.709Z"
   },
   {
    "duration": 0,
    "start_time": "2025-01-27T17:48:34.132Z"
   },
   {
    "duration": 0,
    "start_time": "2025-01-27T17:48:34.134Z"
   },
   {
    "duration": 0,
    "start_time": "2025-01-27T17:48:34.136Z"
   },
   {
    "duration": 0,
    "start_time": "2025-01-27T17:48:34.138Z"
   },
   {
    "duration": 0,
    "start_time": "2025-01-27T17:48:34.140Z"
   },
   {
    "duration": 0,
    "start_time": "2025-01-27T17:48:34.141Z"
   },
   {
    "duration": 0,
    "start_time": "2025-01-27T17:48:34.142Z"
   },
   {
    "duration": 0,
    "start_time": "2025-01-27T17:48:34.144Z"
   },
   {
    "duration": 0,
    "start_time": "2025-01-27T17:48:34.145Z"
   },
   {
    "duration": 0,
    "start_time": "2025-01-27T17:48:34.171Z"
   },
   {
    "duration": 0,
    "start_time": "2025-01-27T17:48:34.173Z"
   },
   {
    "duration": 0,
    "start_time": "2025-01-27T17:48:34.177Z"
   },
   {
    "duration": 0,
    "start_time": "2025-01-27T17:48:34.179Z"
   },
   {
    "duration": 0,
    "start_time": "2025-01-27T17:48:34.180Z"
   },
   {
    "duration": 0,
    "start_time": "2025-01-27T17:48:34.182Z"
   },
   {
    "duration": 0,
    "start_time": "2025-01-27T17:48:34.184Z"
   },
   {
    "duration": 0,
    "start_time": "2025-01-27T17:48:34.186Z"
   },
   {
    "duration": 0,
    "start_time": "2025-01-27T17:48:34.187Z"
   },
   {
    "duration": 84,
    "start_time": "2025-01-27T17:48:48.388Z"
   },
   {
    "duration": 66,
    "start_time": "2025-01-27T17:49:05.962Z"
   },
   {
    "duration": 69,
    "start_time": "2025-01-27T17:50:51.164Z"
   },
   {
    "duration": 396,
    "start_time": "2025-01-27T17:50:58.960Z"
   },
   {
    "duration": 66,
    "start_time": "2025-01-27T17:51:21.491Z"
   },
   {
    "duration": 819,
    "start_time": "2025-01-27T17:51:33.089Z"
   },
   {
    "duration": 850,
    "start_time": "2025-01-27T17:51:44.469Z"
   },
   {
    "duration": 822,
    "start_time": "2025-01-27T17:51:59.385Z"
   },
   {
    "duration": 822,
    "start_time": "2025-01-27T17:52:12.464Z"
   },
   {
    "duration": 9,
    "start_time": "2025-01-27T17:55:26.516Z"
   },
   {
    "duration": 10,
    "start_time": "2025-01-27T17:55:28.005Z"
   },
   {
    "duration": 55,
    "start_time": "2025-01-27T18:00:49.858Z"
   },
   {
    "duration": 11,
    "start_time": "2025-01-27T18:01:32.798Z"
   },
   {
    "duration": 4,
    "start_time": "2025-01-27T18:02:17.444Z"
   },
   {
    "duration": 33,
    "start_time": "2025-01-27T18:02:40.957Z"
   },
   {
    "duration": 14,
    "start_time": "2025-01-27T18:02:53.355Z"
   },
   {
    "duration": 3,
    "start_time": "2025-01-27T18:03:42.527Z"
   },
   {
    "duration": 3,
    "start_time": "2025-01-27T18:03:56.338Z"
   },
   {
    "duration": 13,
    "start_time": "2025-01-27T18:04:37.364Z"
   },
   {
    "duration": 13,
    "start_time": "2025-01-27T18:05:02.863Z"
   },
   {
    "duration": 17,
    "start_time": "2025-01-27T18:05:58.996Z"
   },
   {
    "duration": 14,
    "start_time": "2025-01-27T18:05:59.836Z"
   },
   {
    "duration": 14,
    "start_time": "2025-01-27T18:06:23.862Z"
   },
   {
    "duration": 3752,
    "start_time": "2025-01-27T18:06:47.239Z"
   },
   {
    "duration": 38,
    "start_time": "2025-01-27T18:06:50.994Z"
   },
   {
    "duration": 64,
    "start_time": "2025-01-27T18:06:51.034Z"
   },
   {
    "duration": 1170,
    "start_time": "2025-01-27T18:06:51.100Z"
   },
   {
    "duration": 207,
    "start_time": "2025-01-27T18:06:52.272Z"
   },
   {
    "duration": 176,
    "start_time": "2025-01-27T18:06:52.481Z"
   },
   {
    "duration": 59,
    "start_time": "2025-01-27T18:06:52.659Z"
   },
   {
    "duration": 104,
    "start_time": "2025-01-27T18:06:52.720Z"
   },
   {
    "duration": 446,
    "start_time": "2025-01-27T18:06:52.825Z"
   },
   {
    "duration": 5,
    "start_time": "2025-01-27T18:06:53.275Z"
   },
   {
    "duration": 31,
    "start_time": "2025-01-27T18:06:53.282Z"
   },
   {
    "duration": 20,
    "start_time": "2025-01-27T18:06:53.315Z"
   },
   {
    "duration": 6,
    "start_time": "2025-01-27T18:06:53.337Z"
   },
   {
    "duration": 9,
    "start_time": "2025-01-27T18:06:53.345Z"
   },
   {
    "duration": 2288,
    "start_time": "2025-01-27T18:06:53.355Z"
   },
   {
    "duration": 4,
    "start_time": "2025-01-27T18:06:55.644Z"
   },
   {
    "duration": 13,
    "start_time": "2025-01-27T18:06:55.649Z"
   },
   {
    "duration": 3,
    "start_time": "2025-01-27T18:06:55.671Z"
   },
   {
    "duration": 57,
    "start_time": "2025-01-27T18:06:55.675Z"
   },
   {
    "duration": 41,
    "start_time": "2025-01-27T18:06:55.736Z"
   },
   {
    "duration": 31,
    "start_time": "2025-01-27T18:06:55.780Z"
   },
   {
    "duration": 30,
    "start_time": "2025-01-27T18:06:55.813Z"
   },
   {
    "duration": 103,
    "start_time": "2025-01-27T18:06:55.845Z"
   },
   {
    "duration": 134,
    "start_time": "2025-01-27T18:06:55.950Z"
   },
   {
    "duration": 167,
    "start_time": "2025-01-27T18:06:56.086Z"
   },
   {
    "duration": 421,
    "start_time": "2025-01-27T18:06:56.254Z"
   },
   {
    "duration": 27,
    "start_time": "2025-01-27T18:06:56.677Z"
   },
   {
    "duration": 18,
    "start_time": "2025-01-27T18:06:56.708Z"
   },
   {
    "duration": 58,
    "start_time": "2025-01-27T18:06:56.727Z"
   },
   {
    "duration": 20,
    "start_time": "2025-01-27T18:06:56.787Z"
   },
   {
    "duration": 20,
    "start_time": "2025-01-27T18:06:56.809Z"
   },
   {
    "duration": 47,
    "start_time": "2025-01-27T18:06:56.830Z"
   },
   {
    "duration": 13,
    "start_time": "2025-01-27T18:06:56.879Z"
   },
   {
    "duration": 32,
    "start_time": "2025-01-27T18:06:56.893Z"
   },
   {
    "duration": 20,
    "start_time": "2025-01-27T18:06:56.927Z"
   },
   {
    "duration": 9,
    "start_time": "2025-01-27T18:06:56.949Z"
   },
   {
    "duration": 11,
    "start_time": "2025-01-27T18:06:56.959Z"
   },
   {
    "duration": 21,
    "start_time": "2025-01-27T18:06:56.972Z"
   },
   {
    "duration": 119,
    "start_time": "2025-01-27T18:06:56.995Z"
   },
   {
    "duration": 13,
    "start_time": "2025-01-27T18:06:57.115Z"
   },
   {
    "duration": 159,
    "start_time": "2025-01-27T18:06:57.130Z"
   },
   {
    "duration": 4,
    "start_time": "2025-01-27T18:06:57.291Z"
   },
   {
    "duration": 10,
    "start_time": "2025-01-27T18:06:57.297Z"
   },
   {
    "duration": 16,
    "start_time": "2025-01-27T18:06:57.309Z"
   },
   {
    "duration": 85,
    "start_time": "2025-01-27T18:06:57.327Z"
   },
   {
    "duration": 76,
    "start_time": "2025-01-27T18:06:57.414Z"
   },
   {
    "duration": 103,
    "start_time": "2025-01-27T18:06:57.491Z"
   },
   {
    "duration": 113,
    "start_time": "2025-01-27T18:06:57.595Z"
   },
   {
    "duration": 52,
    "start_time": "2025-01-27T18:06:57.710Z"
   },
   {
    "duration": 47,
    "start_time": "2025-01-27T18:06:57.771Z"
   },
   {
    "duration": 52,
    "start_time": "2025-01-27T18:06:57.820Z"
   },
   {
    "duration": 86,
    "start_time": "2025-01-27T18:06:57.874Z"
   },
   {
    "duration": 13,
    "start_time": "2025-01-27T18:06:57.962Z"
   },
   {
    "duration": 28,
    "start_time": "2025-01-27T18:06:57.976Z"
   },
   {
    "duration": 31,
    "start_time": "2025-01-27T18:06:58.005Z"
   },
   {
    "duration": 41,
    "start_time": "2025-01-27T18:06:58.037Z"
   },
   {
    "duration": 6,
    "start_time": "2025-01-27T18:06:58.080Z"
   },
   {
    "duration": 17,
    "start_time": "2025-01-27T18:06:58.088Z"
   },
   {
    "duration": 24,
    "start_time": "2025-01-27T18:06:58.107Z"
   },
   {
    "duration": 10,
    "start_time": "2025-01-27T18:06:58.132Z"
   },
   {
    "duration": 39,
    "start_time": "2025-01-27T18:06:58.144Z"
   },
   {
    "duration": 66,
    "start_time": "2025-01-27T18:06:58.185Z"
   },
   {
    "duration": 11,
    "start_time": "2025-01-27T18:06:58.253Z"
   },
   {
    "duration": 12,
    "start_time": "2025-01-27T18:06:58.265Z"
   },
   {
    "duration": 21,
    "start_time": "2025-01-27T18:06:58.278Z"
   },
   {
    "duration": 16,
    "start_time": "2025-01-27T18:06:58.301Z"
   },
   {
    "duration": 10,
    "start_time": "2025-01-27T18:06:58.318Z"
   },
   {
    "duration": 47,
    "start_time": "2025-01-27T18:06:58.329Z"
   },
   {
    "duration": 51,
    "start_time": "2025-01-27T18:06:58.378Z"
   },
   {
    "duration": 42,
    "start_time": "2025-01-27T18:06:58.431Z"
   },
   {
    "duration": 12,
    "start_time": "2025-01-27T18:06:58.474Z"
   },
   {
    "duration": 31,
    "start_time": "2025-01-27T18:06:58.487Z"
   },
   {
    "duration": 26,
    "start_time": "2025-01-27T18:06:58.520Z"
   },
   {
    "duration": 11,
    "start_time": "2025-01-27T18:06:58.548Z"
   },
   {
    "duration": 75,
    "start_time": "2025-01-27T18:06:58.561Z"
   },
   {
    "duration": 34,
    "start_time": "2025-01-27T18:06:58.637Z"
   },
   {
    "duration": 321,
    "start_time": "2025-01-27T18:06:58.673Z"
   },
   {
    "duration": 112,
    "start_time": "2025-01-27T18:06:58.995Z"
   },
   {
    "duration": 65,
    "start_time": "2025-01-27T18:06:59.108Z"
   },
   {
    "duration": 236,
    "start_time": "2025-01-27T18:06:59.174Z"
   },
   {
    "duration": 49,
    "start_time": "2025-01-27T18:06:59.411Z"
   },
   {
    "duration": 58,
    "start_time": "2025-01-27T18:06:59.474Z"
   },
   {
    "duration": 131,
    "start_time": "2025-01-27T18:06:59.533Z"
   },
   {
    "duration": 38,
    "start_time": "2025-01-27T18:06:59.665Z"
   },
   {
    "duration": 149,
    "start_time": "2025-01-27T18:06:59.705Z"
   },
   {
    "duration": 169,
    "start_time": "2025-01-27T18:06:59.856Z"
   },
   {
    "duration": 15,
    "start_time": "2025-01-27T18:07:00.027Z"
   },
   {
    "duration": 315,
    "start_time": "2025-01-27T18:07:00.044Z"
   },
   {
    "duration": 207,
    "start_time": "2025-01-27T18:07:00.362Z"
   },
   {
    "duration": 30,
    "start_time": "2025-01-27T18:07:00.571Z"
   },
   {
    "duration": 42,
    "start_time": "2025-01-27T18:07:00.603Z"
   },
   {
    "duration": 38,
    "start_time": "2025-01-27T18:07:00.647Z"
   },
   {
    "duration": 29,
    "start_time": "2025-01-27T18:07:00.686Z"
   },
   {
    "duration": 74,
    "start_time": "2025-01-27T18:07:00.716Z"
   },
   {
    "duration": 63,
    "start_time": "2025-01-27T18:07:00.792Z"
   },
   {
    "duration": 34,
    "start_time": "2025-01-27T18:07:00.857Z"
   },
   {
    "duration": 10,
    "start_time": "2025-01-27T18:07:00.892Z"
   },
   {
    "duration": 86,
    "start_time": "2025-01-27T18:07:00.904Z"
   },
   {
    "duration": 92,
    "start_time": "2025-01-27T18:07:00.992Z"
   },
   {
    "duration": 76,
    "start_time": "2025-01-27T18:07:01.086Z"
   },
   {
    "duration": 69,
    "start_time": "2025-01-27T18:07:01.164Z"
   },
   {
    "duration": 244,
    "start_time": "2025-01-27T18:07:01.235Z"
   },
   {
    "duration": 460,
    "start_time": "2025-01-27T18:07:01.480Z"
   },
   {
    "duration": 66,
    "start_time": "2025-01-27T18:07:01.942Z"
   },
   {
    "duration": 11,
    "start_time": "2025-01-27T18:07:02.010Z"
   },
   {
    "duration": 111,
    "start_time": "2025-01-27T18:07:02.023Z"
   },
   {
    "duration": 49,
    "start_time": "2025-01-27T18:07:02.136Z"
   },
   {
    "duration": 114,
    "start_time": "2025-01-27T18:07:02.187Z"
   },
   {
    "duration": 200,
    "start_time": "2025-01-27T18:07:02.303Z"
   },
   {
    "duration": 998,
    "start_time": "2025-01-27T18:07:02.505Z"
   },
   {
    "duration": 77,
    "start_time": "2025-01-27T18:07:03.505Z"
   },
   {
    "duration": 10,
    "start_time": "2025-01-27T18:07:03.584Z"
   },
   {
    "duration": 13,
    "start_time": "2025-01-27T18:07:03.596Z"
   },
   {
    "duration": 15,
    "start_time": "2025-01-27T18:07:03.610Z"
   },
   {
    "duration": 14,
    "start_time": "2025-01-27T18:07:03.627Z"
   },
   {
    "duration": 82,
    "start_time": "2025-01-27T18:07:03.643Z"
   },
   {
    "duration": 119,
    "start_time": "2025-01-27T18:07:03.726Z"
   },
   {
    "duration": 68,
    "start_time": "2025-01-27T18:07:03.847Z"
   },
   {
    "duration": 38,
    "start_time": "2025-01-27T18:07:03.917Z"
   },
   {
    "duration": 25,
    "start_time": "2025-01-27T18:07:03.957Z"
   },
   {
    "duration": 32,
    "start_time": "2025-01-27T18:07:03.983Z"
   },
   {
    "duration": 13,
    "start_time": "2025-01-27T18:07:04.017Z"
   },
   {
    "duration": 25,
    "start_time": "2025-01-27T18:07:04.032Z"
   },
   {
    "duration": 15,
    "start_time": "2025-01-27T18:07:04.059Z"
   },
   {
    "duration": 33,
    "start_time": "2025-01-27T18:07:04.076Z"
   },
   {
    "duration": 127,
    "start_time": "2025-01-27T18:07:04.110Z"
   },
   {
    "duration": 0,
    "start_time": "2025-01-27T18:07:04.239Z"
   },
   {
    "duration": 0,
    "start_time": "2025-01-27T18:07:04.241Z"
   },
   {
    "duration": 0,
    "start_time": "2025-01-27T18:07:04.242Z"
   },
   {
    "duration": 3,
    "start_time": "2025-01-27T18:07:43.992Z"
   },
   {
    "duration": 47,
    "start_time": "2025-01-27T18:08:30.498Z"
   },
   {
    "duration": 13,
    "start_time": "2025-01-27T18:10:59.343Z"
   },
   {
    "duration": 12,
    "start_time": "2025-01-27T18:17:18.882Z"
   },
   {
    "duration": 7,
    "start_time": "2025-01-27T18:18:16.120Z"
   },
   {
    "duration": 6,
    "start_time": "2025-01-27T18:20:15.996Z"
   },
   {
    "duration": 6,
    "start_time": "2025-01-27T18:20:36.680Z"
   },
   {
    "duration": 6,
    "start_time": "2025-01-27T18:21:13.360Z"
   },
   {
    "duration": 14,
    "start_time": "2025-01-27T18:21:39.793Z"
   },
   {
    "duration": 5,
    "start_time": "2025-01-27T18:24:30.133Z"
   },
   {
    "duration": 5,
    "start_time": "2025-01-27T18:25:01.771Z"
   },
   {
    "duration": 6,
    "start_time": "2025-01-27T18:25:40.071Z"
   },
   {
    "duration": 12,
    "start_time": "2025-01-27T18:25:56.540Z"
   },
   {
    "duration": 3,
    "start_time": "2025-01-27T18:25:58.801Z"
   },
   {
    "duration": 5,
    "start_time": "2025-01-27T18:25:59.771Z"
   },
   {
    "duration": 6,
    "start_time": "2025-01-27T18:26:03.416Z"
   },
   {
    "duration": 5,
    "start_time": "2025-01-27T18:26:14.743Z"
   },
   {
    "duration": 6,
    "start_time": "2025-01-27T18:26:15.747Z"
   },
   {
    "duration": 6,
    "start_time": "2025-01-27T18:27:22.428Z"
   },
   {
    "duration": 4,
    "start_time": "2025-01-27T18:28:43.248Z"
   },
   {
    "duration": 5,
    "start_time": "2025-01-27T18:30:07.735Z"
   },
   {
    "duration": 60,
    "start_time": "2025-01-27T18:30:08.706Z"
   },
   {
    "duration": 6,
    "start_time": "2025-01-27T18:30:20.964Z"
   },
   {
    "duration": 11,
    "start_time": "2025-01-27T18:34:01.115Z"
   },
   {
    "duration": 10,
    "start_time": "2025-01-27T18:38:32.983Z"
   },
   {
    "duration": 4506,
    "start_time": "2025-01-27T18:38:44.185Z"
   },
   {
    "duration": 4476,
    "start_time": "2025-01-27T18:39:34.271Z"
   },
   {
    "duration": 6,
    "start_time": "2025-01-27T18:52:25.569Z"
   },
   {
    "duration": 5,
    "start_time": "2025-01-27T18:52:55.377Z"
   },
   {
    "duration": 6,
    "start_time": "2025-01-27T18:53:03.644Z"
   },
   {
    "duration": 4,
    "start_time": "2025-01-27T18:53:36.975Z"
   },
   {
    "duration": 5,
    "start_time": "2025-01-27T18:54:00.201Z"
   },
   {
    "duration": 5,
    "start_time": "2025-01-27T18:55:28.230Z"
   },
   {
    "duration": 71,
    "start_time": "2025-01-27T18:56:58.527Z"
   },
   {
    "duration": 6,
    "start_time": "2025-01-27T18:57:13.095Z"
   },
   {
    "duration": 5,
    "start_time": "2025-01-27T18:58:00.929Z"
   },
   {
    "duration": 4,
    "start_time": "2025-01-27T18:58:33.958Z"
   },
   {
    "duration": 4,
    "start_time": "2025-01-27T18:58:59.158Z"
   },
   {
    "duration": 4,
    "start_time": "2025-01-27T19:00:08.124Z"
   },
   {
    "duration": 4,
    "start_time": "2025-01-27T19:04:00.138Z"
   },
   {
    "duration": 16,
    "start_time": "2025-01-27T19:04:10.593Z"
   },
   {
    "duration": 15,
    "start_time": "2025-01-27T19:04:22.640Z"
   },
   {
    "duration": 3,
    "start_time": "2025-01-27T19:05:49.007Z"
   },
   {
    "duration": 5,
    "start_time": "2025-01-27T19:06:06.115Z"
   },
   {
    "duration": 4,
    "start_time": "2025-01-27T19:06:57.820Z"
   },
   {
    "duration": 4,
    "start_time": "2025-01-27T19:08:33.031Z"
   },
   {
    "duration": 5,
    "start_time": "2025-01-27T19:08:47.363Z"
   },
   {
    "duration": 9,
    "start_time": "2025-01-27T19:09:53.605Z"
   },
   {
    "duration": 4,
    "start_time": "2025-01-27T19:11:17.407Z"
   },
   {
    "duration": 4,
    "start_time": "2025-01-27T19:11:44.632Z"
   },
   {
    "duration": 4,
    "start_time": "2025-01-27T19:12:12.362Z"
   },
   {
    "duration": 3,
    "start_time": "2025-01-27T19:13:18.691Z"
   },
   {
    "duration": 4,
    "start_time": "2025-01-27T19:13:27.876Z"
   },
   {
    "duration": 4522,
    "start_time": "2025-01-27T19:13:52.058Z"
   }
  ],
  "colab": {
   "provenance": []
  },
  "kernelspec": {
   "display_name": "Python 3 (ipykernel)",
   "language": "python",
   "name": "python3"
  },
  "language_info": {
   "codemirror_mode": {
    "name": "ipython",
    "version": 3
   },
   "file_extension": ".py",
   "mimetype": "text/x-python",
   "name": "python",
   "nbconvert_exporter": "python",
   "pygments_lexer": "ipython3",
   "version": "3.12.7"
  },
  "toc": {
   "base_numbering": 1,
   "nav_menu": {},
   "number_sections": true,
   "sideBar": true,
   "skip_h1_title": true,
   "title_cell": "Table of Contents",
   "title_sidebar": "Contents",
   "toc_cell": false,
   "toc_position": {},
   "toc_section_display": true,
   "toc_window_display": false
  }
 },
 "nbformat": 4,
 "nbformat_minor": 4
}
