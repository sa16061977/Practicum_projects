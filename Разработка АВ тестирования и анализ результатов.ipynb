{
 "cells": [
  {
   "cell_type": "markdown",
   "metadata": {
    "id": "u98L9TgH0eMk"
   },
   "source": [
    "# Разработка A/B-тестирования и анализ результатов\n",
    "\n",
    "Вы работаете продуктовым аналитиком в компании, которая разрабатывает развлекательное приложение с функцией «бесконечной» ленты, как, например, в приложениях с короткими видео. В вашем приложении существует две модели монетизации: первая — ежемесячная платная подписка, которая позволяет пользователям смотреть ленту без рекламы, вторая — демонстрация рекламы для пользователей, которые ещё не оформили подписку.\n",
    "\n",
    "Команда разработчиков рекомендательных систем создала новый алгоритм рекомендаций, который, по их мнению, будет показывать более интересный контент для каждого пользователя. Вас, как аналитика, просят помочь рассчитать параметры A/B-теста, который позволит проверить эту гипотезу, и проанализировать его результаты."
   ]
  },
  {
   "cell_type": "markdown",
   "metadata": {
    "id": "UpOucjID0eMl"
   },
   "source": [
    "### 1. Работа с историческими данными (EDA)"
   ]
  },
  {
   "cell_type": "markdown",
   "metadata": {
    "id": "8iJMtL-30eMl"
   },
   "source": [
    "#### 1.1. Загрузка исторических данных\n",
    "На первом этапе поработайте с историческими данными приложения:\n",
    "\n",
    "- Импортируйте библиотеку pandas.\n",
    "\n",
    "- Считайте и сохраните в датафрейм `sessions_history` CSV-файл с историческими данными о сессиях пользователей `sessions_project_history.csv`.\n",
    "\n",
    "Выведите на экран первые пять строк полученного датафрейма."
   ]
  },
  {
   "cell_type": "code",
   "execution_count": 1,
   "metadata": {
    "id": "6TPR2-1RPboT"
   },
   "outputs": [],
   "source": [
    "import pandas as pd\n",
    "import matplotlib.pyplot as plt\n",
    "from math import ceil\n",
    "from scipy import stats  \n",
    "from statsmodels.stats.proportion import proportions_ztest\n",
    "from statsmodels.stats.power import NormalIndPower"
   ]
  },
  {
   "cell_type": "markdown",
   "metadata": {},
   "source": [
    "<div style=\"border: 2px solid black; border-radius: 20px; padding: 15px 25px; display: inline-block;\">\n",
    "    \n",
    "##### ✅ Структура кода\n",
    "    \n",
    "---\n",
    "    \n",
    "⚠️ Правильно, что разделяешь импорт от основного кода, осталось перенести все импорты библиотек в одну ячейку. Это соответствует стилю PEP 8 и делает код более структурированным и понятным.\n",
    "\n",
    "Это помогает:\n",
    "- Сразу видеть, какие библиотеки используются в проекте.\n",
    "- Избежать дублирования импортов в разных частях кода.\n",
    "- Облегчить отладку и переносимость проекта.\n",
    "    \n",
    "Подробнее о PEP 8 можно прочитать в статье [*PEP 8 - руководство по написанию кода на Python*](https://pythonworld.ru/osnovy/pep-8-rukovodstvo-po-napisaniyu-koda-na-python.html).    \n",
    "    \n",
    "---\n",
    "    \n",
    "💬 Спасибо! Поправила.\n",
    "    \n",
    "---\n",
    "    \n",
    "✅ Супер! Придерживайся этого стандарта и в будущем.    "
   ]
  },
  {
   "cell_type": "code",
   "execution_count": 2,
   "metadata": {},
   "outputs": [],
   "source": [
    "sessions_history = pd.read_csv('/datasets/sessions_project_history.csv')"
   ]
  },
  {
   "cell_type": "code",
   "execution_count": 3,
   "metadata": {},
   "outputs": [
    {
     "data": {
      "text/html": [
       "<div>\n",
       "<style scoped>\n",
       "    .dataframe tbody tr th:only-of-type {\n",
       "        vertical-align: middle;\n",
       "    }\n",
       "\n",
       "    .dataframe tbody tr th {\n",
       "        vertical-align: top;\n",
       "    }\n",
       "\n",
       "    .dataframe thead th {\n",
       "        text-align: right;\n",
       "    }\n",
       "</style>\n",
       "<table border=\"1\" class=\"dataframe\">\n",
       "  <thead>\n",
       "    <tr style=\"text-align: right;\">\n",
       "      <th></th>\n",
       "      <th>user_id</th>\n",
       "      <th>session_id</th>\n",
       "      <th>session_date</th>\n",
       "      <th>session_start_ts</th>\n",
       "      <th>install_date</th>\n",
       "      <th>session_number</th>\n",
       "      <th>registration_flag</th>\n",
       "      <th>page_counter</th>\n",
       "      <th>region</th>\n",
       "      <th>device</th>\n",
       "    </tr>\n",
       "  </thead>\n",
       "  <tbody>\n",
       "    <tr>\n",
       "      <th>0</th>\n",
       "      <td>E302123B7000BFE4</td>\n",
       "      <td>F9AF61A0C2023832</td>\n",
       "      <td>2025-08-15</td>\n",
       "      <td>2025-08-15 17:47:35</td>\n",
       "      <td>2025-08-15</td>\n",
       "      <td>1</td>\n",
       "      <td>0</td>\n",
       "      <td>3</td>\n",
       "      <td>CIS</td>\n",
       "      <td>iPhone</td>\n",
       "    </tr>\n",
       "    <tr>\n",
       "      <th>1</th>\n",
       "      <td>2530F72E221829FB</td>\n",
       "      <td>85003A206CBDAC6F</td>\n",
       "      <td>2025-08-15</td>\n",
       "      <td>2025-08-15 16:42:14</td>\n",
       "      <td>2025-08-15</td>\n",
       "      <td>1</td>\n",
       "      <td>0</td>\n",
       "      <td>4</td>\n",
       "      <td>MENA</td>\n",
       "      <td>Android</td>\n",
       "    </tr>\n",
       "    <tr>\n",
       "      <th>2</th>\n",
       "      <td>876E020A4FC512F5</td>\n",
       "      <td>3677423E49D72DEE</td>\n",
       "      <td>2025-08-15</td>\n",
       "      <td>2025-08-15 12:30:00</td>\n",
       "      <td>2025-08-15</td>\n",
       "      <td>1</td>\n",
       "      <td>0</td>\n",
       "      <td>4</td>\n",
       "      <td>EU</td>\n",
       "      <td>PC</td>\n",
       "    </tr>\n",
       "    <tr>\n",
       "      <th>3</th>\n",
       "      <td>2640B349E1D81584</td>\n",
       "      <td>956B45F5915CA225</td>\n",
       "      <td>2025-08-15</td>\n",
       "      <td>2025-08-15 15:31:31</td>\n",
       "      <td>2025-08-15</td>\n",
       "      <td>1</td>\n",
       "      <td>0</td>\n",
       "      <td>4</td>\n",
       "      <td>CIS</td>\n",
       "      <td>Android</td>\n",
       "    </tr>\n",
       "    <tr>\n",
       "      <th>4</th>\n",
       "      <td>94E1CBFAEF1F5EE9</td>\n",
       "      <td>83BF0DA35F9F1F40</td>\n",
       "      <td>2025-08-15</td>\n",
       "      <td>2025-08-15 21:33:53</td>\n",
       "      <td>2025-08-15</td>\n",
       "      <td>1</td>\n",
       "      <td>0</td>\n",
       "      <td>3</td>\n",
       "      <td>CIS</td>\n",
       "      <td>Android</td>\n",
       "    </tr>\n",
       "  </tbody>\n",
       "</table>\n",
       "</div>"
      ],
      "text/plain": [
       "            user_id        session_id session_date     session_start_ts  \\\n",
       "0  E302123B7000BFE4  F9AF61A0C2023832   2025-08-15  2025-08-15 17:47:35   \n",
       "1  2530F72E221829FB  85003A206CBDAC6F   2025-08-15  2025-08-15 16:42:14   \n",
       "2  876E020A4FC512F5  3677423E49D72DEE   2025-08-15  2025-08-15 12:30:00   \n",
       "3  2640B349E1D81584  956B45F5915CA225   2025-08-15  2025-08-15 15:31:31   \n",
       "4  94E1CBFAEF1F5EE9  83BF0DA35F9F1F40   2025-08-15  2025-08-15 21:33:53   \n",
       "\n",
       "  install_date  session_number  registration_flag  page_counter region  \\\n",
       "0   2025-08-15               1                  0             3    CIS   \n",
       "1   2025-08-15               1                  0             4   MENA   \n",
       "2   2025-08-15               1                  0             4     EU   \n",
       "3   2025-08-15               1                  0             4    CIS   \n",
       "4   2025-08-15               1                  0             3    CIS   \n",
       "\n",
       "    device  \n",
       "0   iPhone  \n",
       "1  Android  \n",
       "2       PC  \n",
       "3  Android  \n",
       "4  Android  "
      ]
     },
     "execution_count": 3,
     "metadata": {},
     "output_type": "execute_result"
    }
   ],
   "source": [
    "sessions_history.head()"
   ]
  },
  {
   "cell_type": "markdown",
   "metadata": {
    "id": "qTDoiODz0eMo"
   },
   "source": [
    "#### 1.2. Знакомство с данными\n",
    "- Для каждого уникального пользователя `user_id` рассчитайте количество уникальных сессий `session_id`.\n",
    "\n",
    "- Выведите на экран все данные из таблицы `sessions_history` для одного пользователя с наибольшим количеством сессий. Если таких пользователей несколько, выберите любого из них.\n",
    "\n",
    "- Изучите таблицу для одного пользователя, чтобы лучше понять логику формирования каждого столбца данных.\n",
    "\n"
   ]
  },
  {
   "cell_type": "code",
   "execution_count": 4,
   "metadata": {},
   "outputs": [
    {
     "data": {
      "text/html": [
       "<div>\n",
       "<style scoped>\n",
       "    .dataframe tbody tr th:only-of-type {\n",
       "        vertical-align: middle;\n",
       "    }\n",
       "\n",
       "    .dataframe tbody tr th {\n",
       "        vertical-align: top;\n",
       "    }\n",
       "\n",
       "    .dataframe thead th {\n",
       "        text-align: right;\n",
       "    }\n",
       "</style>\n",
       "<table border=\"1\" class=\"dataframe\">\n",
       "  <thead>\n",
       "    <tr style=\"text-align: right;\">\n",
       "      <th></th>\n",
       "      <th>user_id</th>\n",
       "      <th>session_id</th>\n",
       "      <th>session_date</th>\n",
       "      <th>session_start_ts</th>\n",
       "      <th>install_date</th>\n",
       "      <th>session_number</th>\n",
       "      <th>registration_flag</th>\n",
       "      <th>page_counter</th>\n",
       "      <th>region</th>\n",
       "      <th>device</th>\n",
       "    </tr>\n",
       "  </thead>\n",
       "  <tbody>\n",
       "    <tr>\n",
       "      <th>115558</th>\n",
       "      <td>10E0DEFC1ABDBBE0</td>\n",
       "      <td>B8F0423BBFFCF5DC</td>\n",
       "      <td>2025-08-14</td>\n",
       "      <td>2025-08-14 13:57:39</td>\n",
       "      <td>2025-08-14</td>\n",
       "      <td>1</td>\n",
       "      <td>0</td>\n",
       "      <td>4</td>\n",
       "      <td>CIS</td>\n",
       "      <td>Android</td>\n",
       "    </tr>\n",
       "    <tr>\n",
       "      <th>191751</th>\n",
       "      <td>10E0DEFC1ABDBBE0</td>\n",
       "      <td>87CA2FA549473837</td>\n",
       "      <td>2025-08-15</td>\n",
       "      <td>2025-08-15 16:42:10</td>\n",
       "      <td>2025-08-14</td>\n",
       "      <td>2</td>\n",
       "      <td>0</td>\n",
       "      <td>3</td>\n",
       "      <td>CIS</td>\n",
       "      <td>Android</td>\n",
       "    </tr>\n",
       "    <tr>\n",
       "      <th>239370</th>\n",
       "      <td>10E0DEFC1ABDBBE0</td>\n",
       "      <td>4ADD8011DCDCE318</td>\n",
       "      <td>2025-08-16</td>\n",
       "      <td>2025-08-16 19:53:21</td>\n",
       "      <td>2025-08-14</td>\n",
       "      <td>3</td>\n",
       "      <td>0</td>\n",
       "      <td>3</td>\n",
       "      <td>CIS</td>\n",
       "      <td>Android</td>\n",
       "    </tr>\n",
       "    <tr>\n",
       "      <th>274629</th>\n",
       "      <td>10E0DEFC1ABDBBE0</td>\n",
       "      <td>DF0FD0E09BF1F3D7</td>\n",
       "      <td>2025-08-17</td>\n",
       "      <td>2025-08-17 15:03:43</td>\n",
       "      <td>2025-08-14</td>\n",
       "      <td>4</td>\n",
       "      <td>0</td>\n",
       "      <td>1</td>\n",
       "      <td>CIS</td>\n",
       "      <td>Android</td>\n",
       "    </tr>\n",
       "    <tr>\n",
       "      <th>302501</th>\n",
       "      <td>10E0DEFC1ABDBBE0</td>\n",
       "      <td>3C221774B4DE6885</td>\n",
       "      <td>2025-08-18</td>\n",
       "      <td>2025-08-18 17:29:14</td>\n",
       "      <td>2025-08-14</td>\n",
       "      <td>5</td>\n",
       "      <td>0</td>\n",
       "      <td>4</td>\n",
       "      <td>CIS</td>\n",
       "      <td>Android</td>\n",
       "    </tr>\n",
       "    <tr>\n",
       "      <th>325557</th>\n",
       "      <td>10E0DEFC1ABDBBE0</td>\n",
       "      <td>031BD7A67048105B</td>\n",
       "      <td>2025-08-19</td>\n",
       "      <td>2025-08-19 13:23:55</td>\n",
       "      <td>2025-08-14</td>\n",
       "      <td>6</td>\n",
       "      <td>0</td>\n",
       "      <td>2</td>\n",
       "      <td>CIS</td>\n",
       "      <td>Android</td>\n",
       "    </tr>\n",
       "    <tr>\n",
       "      <th>345336</th>\n",
       "      <td>10E0DEFC1ABDBBE0</td>\n",
       "      <td>FF4315CF4AD4B100</td>\n",
       "      <td>2025-08-20</td>\n",
       "      <td>2025-08-20 19:31:54</td>\n",
       "      <td>2025-08-14</td>\n",
       "      <td>7</td>\n",
       "      <td>0</td>\n",
       "      <td>2</td>\n",
       "      <td>CIS</td>\n",
       "      <td>Android</td>\n",
       "    </tr>\n",
       "    <tr>\n",
       "      <th>377532</th>\n",
       "      <td>10E0DEFC1ABDBBE0</td>\n",
       "      <td>4045FEA0747203B4</td>\n",
       "      <td>2025-08-22</td>\n",
       "      <td>2025-08-22 17:54:13</td>\n",
       "      <td>2025-08-14</td>\n",
       "      <td>8</td>\n",
       "      <td>0</td>\n",
       "      <td>2</td>\n",
       "      <td>CIS</td>\n",
       "      <td>Android</td>\n",
       "    </tr>\n",
       "    <tr>\n",
       "      <th>403538</th>\n",
       "      <td>10E0DEFC1ABDBBE0</td>\n",
       "      <td>344B086C421C7F37</td>\n",
       "      <td>2025-08-24</td>\n",
       "      <td>2025-08-24 14:46:13</td>\n",
       "      <td>2025-08-14</td>\n",
       "      <td>9</td>\n",
       "      <td>0</td>\n",
       "      <td>2</td>\n",
       "      <td>CIS</td>\n",
       "      <td>Android</td>\n",
       "    </tr>\n",
       "    <tr>\n",
       "      <th>414743</th>\n",
       "      <td>10E0DEFC1ABDBBE0</td>\n",
       "      <td>054F20BA371E4C9D</td>\n",
       "      <td>2025-08-25</td>\n",
       "      <td>2025-08-25 18:36:41</td>\n",
       "      <td>2025-08-14</td>\n",
       "      <td>10</td>\n",
       "      <td>0</td>\n",
       "      <td>3</td>\n",
       "      <td>CIS</td>\n",
       "      <td>Android</td>\n",
       "    </tr>\n",
       "  </tbody>\n",
       "</table>\n",
       "</div>"
      ],
      "text/plain": [
       "                 user_id        session_id session_date     session_start_ts  \\\n",
       "115558  10E0DEFC1ABDBBE0  B8F0423BBFFCF5DC   2025-08-14  2025-08-14 13:57:39   \n",
       "191751  10E0DEFC1ABDBBE0  87CA2FA549473837   2025-08-15  2025-08-15 16:42:10   \n",
       "239370  10E0DEFC1ABDBBE0  4ADD8011DCDCE318   2025-08-16  2025-08-16 19:53:21   \n",
       "274629  10E0DEFC1ABDBBE0  DF0FD0E09BF1F3D7   2025-08-17  2025-08-17 15:03:43   \n",
       "302501  10E0DEFC1ABDBBE0  3C221774B4DE6885   2025-08-18  2025-08-18 17:29:14   \n",
       "325557  10E0DEFC1ABDBBE0  031BD7A67048105B   2025-08-19  2025-08-19 13:23:55   \n",
       "345336  10E0DEFC1ABDBBE0  FF4315CF4AD4B100   2025-08-20  2025-08-20 19:31:54   \n",
       "377532  10E0DEFC1ABDBBE0  4045FEA0747203B4   2025-08-22  2025-08-22 17:54:13   \n",
       "403538  10E0DEFC1ABDBBE0  344B086C421C7F37   2025-08-24  2025-08-24 14:46:13   \n",
       "414743  10E0DEFC1ABDBBE0  054F20BA371E4C9D   2025-08-25  2025-08-25 18:36:41   \n",
       "\n",
       "       install_date  session_number  registration_flag  page_counter region  \\\n",
       "115558   2025-08-14               1                  0             4    CIS   \n",
       "191751   2025-08-14               2                  0             3    CIS   \n",
       "239370   2025-08-14               3                  0             3    CIS   \n",
       "274629   2025-08-14               4                  0             1    CIS   \n",
       "302501   2025-08-14               5                  0             4    CIS   \n",
       "325557   2025-08-14               6                  0             2    CIS   \n",
       "345336   2025-08-14               7                  0             2    CIS   \n",
       "377532   2025-08-14               8                  0             2    CIS   \n",
       "403538   2025-08-14               9                  0             2    CIS   \n",
       "414743   2025-08-14              10                  0             3    CIS   \n",
       "\n",
       "         device  \n",
       "115558  Android  \n",
       "191751  Android  \n",
       "239370  Android  \n",
       "274629  Android  \n",
       "302501  Android  \n",
       "325557  Android  \n",
       "345336  Android  \n",
       "377532  Android  \n",
       "403538  Android  \n",
       "414743  Android  "
      ]
     },
     "metadata": {},
     "output_type": "display_data"
    }
   ],
   "source": [
    "# пользователь с мах числом сессий\n",
    "most_active_user = sessions_history['user_id'].value_counts().idxmax()\n",
    "\n",
    "user_sessions = sessions_history[sessions_history['user_id'] == most_active_user]\n",
    "\n",
    "# Выводим все данные для данного пользователя\n",
    "display(user_sessions)"
   ]
  },
  {
   "cell_type": "markdown",
   "metadata": {
    "id": "CmcGpJTP0eMq"
   },
   "source": [
    "#### 1.3. Анализ числа регистраций\n",
    "Одна из важнейших метрик продукта — число зарегистрированных пользователей. Используя исторические данные, визуализируйте, как менялось число регистраций в приложении за время его существования.\n",
    "\n",
    "- Агрегируйте исторические данные и рассчитайте число уникальных пользователей и число зарегистрированных пользователей для каждого дня наблюдения. Для простоты считайте, что у пользователя в течение дня бывает одна сессия максимум и статус регистрации в течение одного дня не может измениться.\n",
    "\n",
    "- Постройте линейные графики общего числа пользователей и общего числа зарегистрированных пользователей по дням. Отобразите их на одном графике.\n",
    "\n",
    "- Постройте отдельный линейный график доли зарегистрированных пользователей от всех пользователей по дням.\n",
    "\n",
    "- На обоих графиках должны быть заголовок, подписанные оси X и Y, сетка и легенда."
   ]
  },
  {
   "cell_type": "code",
   "execution_count": 5,
   "metadata": {
    "id": "tN_6Ml3EPatS"
   },
   "outputs": [
    {
     "name": "stdout",
     "output_type": "stream",
     "text": [
      "<class 'pandas.core.frame.DataFrame'>\n",
      "RangeIndex: 435924 entries, 0 to 435923\n",
      "Data columns (total 10 columns):\n",
      " #   Column             Non-Null Count   Dtype \n",
      "---  ------             --------------   ----- \n",
      " 0   user_id            435924 non-null  object\n",
      " 1   session_id         435924 non-null  object\n",
      " 2   session_date       435924 non-null  object\n",
      " 3   session_start_ts   435924 non-null  object\n",
      " 4   install_date       435924 non-null  object\n",
      " 5   session_number     435924 non-null  int64 \n",
      " 6   registration_flag  435924 non-null  int64 \n",
      " 7   page_counter       435924 non-null  int64 \n",
      " 8   region             435924 non-null  object\n",
      " 9   device             435924 non-null  object\n",
      "dtypes: int64(3), object(7)\n",
      "memory usage: 33.3+ MB\n"
     ]
    }
   ],
   "source": [
    "sessions_history.info()"
   ]
  },
  {
   "cell_type": "code",
   "execution_count": 6,
   "metadata": {},
   "outputs": [],
   "source": [
    "#столбец  session_date имеет тип данных обьект. Приведен к типу данных дата\n",
    "sessions_history['session_date'] = pd.to_datetime(sessions_history['session_date'])"
   ]
  },
  {
   "cell_type": "code",
   "execution_count": 7,
   "metadata": {},
   "outputs": [
    {
     "name": "stdout",
     "output_type": "stream",
     "text": [
      "<class 'pandas.core.frame.DataFrame'>\n",
      "RangeIndex: 435924 entries, 0 to 435923\n",
      "Data columns (total 10 columns):\n",
      " #   Column             Non-Null Count   Dtype         \n",
      "---  ------             --------------   -----         \n",
      " 0   user_id            435924 non-null  object        \n",
      " 1   session_id         435924 non-null  object        \n",
      " 2   session_date       435924 non-null  datetime64[ns]\n",
      " 3   session_start_ts   435924 non-null  object        \n",
      " 4   install_date       435924 non-null  object        \n",
      " 5   session_number     435924 non-null  int64         \n",
      " 6   registration_flag  435924 non-null  int64         \n",
      " 7   page_counter       435924 non-null  int64         \n",
      " 8   region             435924 non-null  object        \n",
      " 9   device             435924 non-null  object        \n",
      "dtypes: datetime64[ns](1), int64(3), object(6)\n",
      "memory usage: 33.3+ MB\n"
     ]
    }
   ],
   "source": [
    "#проверим данные\n",
    "sessions_history.info()"
   ]
  },
  {
   "cell_type": "code",
   "execution_count": 8,
   "metadata": {},
   "outputs": [
    {
     "name": "stdout",
     "output_type": "stream",
     "text": [
      "  session_date  unique_users  registered_users\n",
      "0   2025-08-11          3919               169\n",
      "1   2025-08-12          6056               336\n",
      "2   2025-08-13          8489               464\n",
      "3   2025-08-14         10321               625\n",
      "4   2025-08-15         14065               840\n"
     ]
    }
   ],
   "source": [
    "# Агрегация данных\n",
    "user_unique = sessions_history.groupby('session_date').agg(\n",
    "    unique_users=('user_id', 'nunique'),\n",
    "    registered_users=('registration_flag', lambda x: (x == 1).sum())\n",
    ").reset_index()\n",
    "\n",
    "# Вывод результата\n",
    "print(user_unique.head())"
   ]
  },
  {
   "cell_type": "code",
   "execution_count": 9,
   "metadata": {},
   "outputs": [
    {
     "data": {
      "image/png": "[encoded data removed]",
      "text/plain": [
       "<Figure size 1152x576 with 1 Axes>"
      ]
     },
     "metadata": {
      "needs_background": "light"
     },
     "output_type": "display_data"
    }
   ],
   "source": [
    "# Построение графиков\n",
    "plt.figure(figsize=(16, 8))\n",
    "plt.plot(user_unique['session_date'], user_unique['unique_users'], label='Общее число пользователей', color='blue')\n",
    "plt.plot(user_unique['session_date'], user_unique['registered_users'], label='Общее число зарегистрированных пользователей', color='green')\n",
    "plt.title('Число пользователей и зарегистрированных пользователей по дням')\n",
    "plt.xlabel('Дата')\n",
    "plt.ylabel('Количество пользователей')\n",
    "plt.legend()\n",
    "plt.grid()\n",
    "plt.show()"
   ]
  },
  {
   "cell_type": "markdown",
   "metadata": {},
   "source": [
    "ОБщее число зарегистрированных пользователей практически не меняется. Отмечается рост в период с 15.08.2025 по 15.09.2025. Далее 22.09.2025 количество становится на первоначальном уровне, на уровне15.08.2025"
   ]
  },
  {
   "cell_type": "code",
   "execution_count": 10,
   "metadata": {},
   "outputs": [],
   "source": [
    "# Расчет доли зарегистрированных пользователей\n",
    "user_unique['registered_dola'] = user_unique['registered_users'] / user_unique['unique_users']"
   ]
  },
  {
   "cell_type": "code",
   "execution_count": 11,
   "metadata": {},
   "outputs": [
    {
     "data": {
      "image/png": "[encoded data removed]",
      "text/plain": [
       "<Figure size 1152x576 with 1 Axes>"
      ]
     },
     "metadata": {
      "needs_background": "light"
     },
     "output_type": "display_data"
    }
   ],
   "source": [
    "# Построение графика\n",
    "plt.figure(figsize=(16, 8))\n",
    "plt.plot(user_unique['session_date'], user_unique['registered_dola'], label='Доля зарегистрированных пользователей', color='green')\n",
    "plt.title('Доля зарегистрированных пользователей')\n",
    "plt.xlabel('Дата')\n",
    "plt.ylabel('Доля зарегистрированных пользователей')\n",
    "plt.legend()\n",
    "plt.grid()\n",
    "plt.show()"
   ]
  },
  {
   "cell_type": "markdown",
   "metadata": {},
   "source": [
    "На графике наглядно прослуживается рост лоли зарегистроированных пользователей от общего числа пользователей"
   ]
  },
  {
   "cell_type": "code",
   "execution_count": 12,
   "metadata": {},
   "outputs": [
    {
     "data": {
      "image/png": "[encoded data removed]",
      "text/plain": [
       "<Figure size 432x288 with 1 Axes>"
      ]
     },
     "metadata": {
      "needs_background": "light"
     },
     "output_type": "display_data"
    }
   ],
   "source": [
    "# Подсчет количества сессий для каждого значения количества просмотренных страниц\n",
    "page_counts = sessions_history['page_counter'].value_counts()\n",
    "\n",
    "# Сортировка по индексу (количеству страниц)\n",
    "page_counts_sorted = page_counts.sort_index()\n",
    "\n",
    "# Построение графика\n",
    "page_counts_sorted.plot.bar()\n",
    "plt.xlabel('Количество просмотренных страниц')\n",
    "plt.ylabel('Количество сессий')\n",
    "plt.title('Количество сессий по количеству просмотренных страниц')\n",
    "plt.show()"
   ]
  },
  {
   "cell_type": "markdown",
   "metadata": {},
   "source": [
    "максимально просмотрено 3 страницы, более 160000. На втором месте по 2 и по 4 страницы. Количество просмотров практически на одном уровне: 100000. "
   ]
  },
  {
   "cell_type": "markdown",
   "metadata": {
    "id": "xDltSpVP0eMr"
   },
   "source": [
    "#### 1.5. Доля пользователей, просмотревших более четырёх страниц\n",
    "Продуктовая команда продукта считает, что сессии, в рамках которых пользователь просмотрел 4 и более страниц, говорят об удовлетворённости контентом и алгоритмами рекомендаций. Этот показатель является важной прокси-метрикой для продукта.\n",
    "\n",
    "- В датафрейме `sessions_history` создайте дополнительный столбец `good_session`. В него войдёт значение `1`, если за одну сессию было просмотрено 4 и более страниц, и значение `0`, если было просмотрено меньше.\n",
    "\n",
    "- Постройте график со средним значением доли успешных сессий ко всем сессиям по дням за весь период наблюдения."
   ]
  },
  {
   "cell_type": "code",
   "execution_count": 13,
   "metadata": {},
   "outputs": [
    {
     "data": {
      "image/png": "[encoded data removed]",
      "text/plain": [
       "<Figure size 720x432 with 1 Axes>"
      ]
     },
     "metadata": {
      "needs_background": "light"
     },
     "output_type": "display_data"
    }
   ],
   "source": [
    "# Создание столбца good_session\n",
    "sessions_history['good_session'] = (sessions_history['page_counter'] >= 4).astype(int)\n",
    "\n",
    "# Преобразование столбца session_date в формат даты\n",
    "sessions_history['session_date'] = pd.to_datetime(sessions_history['session_date'])\n",
    "\n",
    "# Группировка по дате и расчет средней доли успешных сессий\n",
    "daily_success_rate = sessions_history.groupby('session_date')['good_session'].mean().reset_index()\n",
    "\n",
    "# Переименуем столбцы для удобства\n",
    "daily_success_rate.columns = ['session_date', 'success_rate']\n",
    "\n",
    "# Строим график\n",
    "plt.figure(figsize=(10, 6))\n",
    "plt.plot(daily_success_rate['session_date'], daily_success_rate['success_rate'], marker='o')\n",
    "plt.title('Средняя доля успешных сессий по дням')\n",
    "plt.xlabel('Дата')\n",
    "plt.ylabel('Доля успешных сессий')\n",
    "plt.xticks(rotation=45)\n",
    "plt.grid()\n",
    "plt.tight_layout()\n",
    "plt.show()"
   ]
  },
  {
   "cell_type": "markdown",
   "metadata": {},
   "source": [
    "График со средним значением доли успешных сессий ко всем сессиям по дням за весь период наблюдения показывает пикообразное изменение показателя.\n",
    "Обращает внимание спад среднего значения успешных сеесий через месяц после наблюденя. Если в начале периода отмечаются средние значения в пределах 0,303-0,316. то 18.09.2025 снижение достигло 0,29, а 21.09.2025, 23.09.2025 опустилось ниже 0,290. Хотя в период с 18.09.2025по 23.09.2025 наблюдается значимые скачки показателя. От максимального (17.09.2025 - 0,320) до минимального (21.09.2025 - менее 0,290)"
   ]
  },
  {
   "cell_type": "code",
   "execution_count": 14,
   "metadata": {
    "id": "zSxJyPGPNdaI"
   },
   "outputs": [
    {
     "name": "stdout",
     "output_type": "stream",
     "text": [
      "Необходимый размер выборки для каждой группы: 17441\n"
     ]
    }
   ],
   "source": [
    "# Задаём параметры\n",
    "alpha = 0.05  # Уровень значимости\n",
    "beta = 0.2  # Ошибка второго рода, часто 1 - мощность\n",
    "power = 0.8  # Мощность теста\n",
    "mde = 0.03  # Минимальный детектируемый эффект\n",
    "\n",
    "# Инициализируем класс NormalIndPower\n",
    "power_analysis = NormalIndPower()\n",
    "\n",
    "# Рассчитываем размер выборки\n",
    "sample_size = power_analysis.solve_power(\n",
    "    effect_size = mde,\n",
    "    power = power,\n",
    "    alpha = alpha,\n",
    "    ratio = 1 # Равномерное распределение выборок\n",
    ")\n",
    "\n",
    "print(f\"Необходимый размер выборки для каждой группы: {int(sample_size)}\")"
   ]
  },
  {
   "cell_type": "markdown",
   "metadata": {
    "id": "qLEv4RoV0eMu"
   },
   "source": [
    "#### 2.1. Расчёт длительности A/B-теста\n",
    "\n",
    "Используйте данные о количестве пользователей в каждой выборке и среднем количестве пользователей приложения. Рассчитайте длительность теста, разделив одно на другое.\n",
    "\n",
    "- Рассчитайте среднее количество уникальных пользователей приложения в день.\n",
    "\n",
    "- Определите длительность теста, исходя из рассчитанного значения размера выборок и среднего дневного трафика приложения. Количество дней округлите в большую сторону."
   ]
  },
  {
   "cell_type": "code",
   "execution_count": 15,
   "metadata": {},
   "outputs": [
    {
     "name": "stdout",
     "output_type": "stream",
     "text": [
      "Среднее количество уникальных пользователей в день: 9907.36\n",
      "Размер выборки с учетом обеих групп: 19814.72\n",
      "Длительность теста: 4\n"
     ]
    }
   ],
   "source": [
    "# Вычисляем количество уникальных пользователей в день\n",
    "unique_users_per_day = sessions_history.groupby(sessions_history['session_date'].dt.date)['user_id'].nunique()\n",
    "\n",
    "# Вычисляем среднее количество уникальных пользователей в день\n",
    "avg_daily_users = round(unique_users_per_day.mean(), 2)\n",
    "\n",
    "# Учитываем обе группы\n",
    "sample_size = avg_daily_users * 2\n",
    "\n",
    "# Выводим результат\n",
    "print(f\"Среднее количество уникальных пользователей в день: {avg_daily_users}\")\n",
    "print(f\"Размер выборки с учетом обеих групп: {sample_size}\")\n",
    "\n",
    "# Рассчитываем длительность теста в днях как отношение размера выборки к среднему числу пользователей\n",
    "test_duration = ceil(sample_size *2/ avg_daily_users)\n",
    "print(f\"Длительность теста: {test_duration}\")"
   ]
  },
  {
   "cell_type": "markdown",
   "metadata": {
    "id": "ZuvtAdha0eMv"
   },
   "source": [
    "### 3. Мониторинг А/В-теста"
   ]
  },
  {
   "cell_type": "markdown",
   "metadata": {
    "id": "jq5sE3Ya0eMv"
   },
   "source": [
    "#### 3.1. Проверка распределения пользователей\n",
    "\n",
    "A/B-тест успешно запущен, и уже доступны данные за первые три дня. На этом этапе нужно убедиться, что всё идёт хорошо: пользователи разделены правильным образом, а интересующие вас метрики корректно считаются.\n",
    "\n",
    "- Считайте и сохраните в датафрейм `sessions_test_part` CSV-файл с историческими данными о сессиях пользователей `sessions_project_test_part.csv`.\n",
    "\n",
    "- Рассчитайте количество уникальных пользователей в каждой из экспериментальных групп для одного дня наблюдения.\n",
    "\n",
    "- Рассчитайте и выведите на экран процентную разницу в количестве пользователей в группах A и B. Постройте любую удобную визуализацию, на которой можно было бы увидеть возможное различие двух групп.\n",
    "\n",
    "Для расчёта процентной разницы воспользуйтесь формулой:\n",
    "$$P = 100 \\cdot  \\frac{|A − B|}{A}$$"
   ]
  },
  {
   "cell_type": "code",
   "execution_count": 16,
   "metadata": {},
   "outputs": [
    {
     "name": "stdout",
     "output_type": "stream",
     "text": [
      "               user_id        session_id session_date     session_start_ts  \\\n",
      "0     3404844B53442747  B4901323BD537E45   2025-10-14  2025-10-14 19:28:49   \n",
      "1     3A2BF4D364E62D89  216FC619308F8788   2025-10-14  2025-10-14 21:11:04   \n",
      "2     79CDAE11E32B1597  EDFCE4AC1A504074   2025-10-14  2025-10-14 21:44:03   \n",
      "3     D6AF8D78297A931F  CF0AC0EEDE92C690   2025-10-14  2025-10-14 19:07:55   \n",
      "4     37E0CE723AE568E0  2E6ED45E8C86C4E9   2025-10-14  2025-10-14 15:39:44   \n",
      "...                ...               ...          ...                  ...   \n",
      "3125  02A3BA5F727BC3C9  7D4427384463A16E   2025-10-14  2025-10-14 14:52:26   \n",
      "3126  A7E51F39427F03A5  290910138655DD03   2025-10-14  2025-10-14 19:15:18   \n",
      "3127  78DDBD077D61EEDB  C10E073BFF1FAF0C   2025-10-14  2025-10-14 16:07:20   \n",
      "3128  B44E0A30E8ED1AFC  7B404F7021711E5D   2025-10-14  2025-10-14 17:41:01   \n",
      "3129  C9F3E29E5168D642  A42ED6D173E5EE2D   2025-10-14  2025-10-14 19:18:11   \n",
      "\n",
      "     install_date  session_number  registration_flag  page_counter region  \\\n",
      "0      2025-10-14               1                  0             3    CIS   \n",
      "1      2025-10-14               1                  0             3   MENA   \n",
      "2      2025-10-14               1                  0             3    CIS   \n",
      "3      2025-10-14               1                  0             4    CIS   \n",
      "4      2025-10-14               1                  0             3    CIS   \n",
      "...           ...             ...                ...           ...    ...   \n",
      "3125   2025-10-14               1                  0             4   MENA   \n",
      "3126   2025-10-14               1                  0             2    CIS   \n",
      "3127   2025-10-14               1                  0             2     EU   \n",
      "3128   2025-10-14               1                  0             3     EU   \n",
      "3129   2025-10-14               1                  0             3    CIS   \n",
      "\n",
      "       device test_group  \n",
      "0     Android          B  \n",
      "1      iPhone          A  \n",
      "2      iPhone          A  \n",
      "3          PC          A  \n",
      "4         Mac          B  \n",
      "...       ...        ...  \n",
      "3125  Android          B  \n",
      "3126       PC          B  \n",
      "3127   iPhone          B  \n",
      "3128      Mac          B  \n",
      "3129       PC          A  \n",
      "\n",
      "[3130 rows x 11 columns]\n"
     ]
    }
   ],
   "source": [
    "sessions_test_part = pd.read_csv('/datasets/sessions_project_test_part.csv')\n",
    "print(sessions_test_part)"
   ]
  },
  {
   "cell_type": "code",
   "execution_count": 17,
   "metadata": {
    "id": "G1bqIzDJOUiz"
   },
   "outputs": [
    {
     "data": {
      "text/html": [
       "<div>\n",
       "<style scoped>\n",
       "    .dataframe tbody tr th:only-of-type {\n",
       "        vertical-align: middle;\n",
       "    }\n",
       "\n",
       "    .dataframe tbody tr th {\n",
       "        vertical-align: top;\n",
       "    }\n",
       "\n",
       "    .dataframe thead th {\n",
       "        text-align: right;\n",
       "    }\n",
       "</style>\n",
       "<table border=\"1\" class=\"dataframe\">\n",
       "  <thead>\n",
       "    <tr style=\"text-align: right;\">\n",
       "      <th></th>\n",
       "      <th>session_date</th>\n",
       "      <th>test_group</th>\n",
       "      <th>user_id</th>\n",
       "    </tr>\n",
       "  </thead>\n",
       "  <tbody>\n",
       "    <tr>\n",
       "      <th>0</th>\n",
       "      <td>2025-10-14</td>\n",
       "      <td>A</td>\n",
       "      <td>1477</td>\n",
       "    </tr>\n",
       "    <tr>\n",
       "      <th>1</th>\n",
       "      <td>2025-10-14</td>\n",
       "      <td>B</td>\n",
       "      <td>1466</td>\n",
       "    </tr>\n",
       "  </tbody>\n",
       "</table>\n",
       "</div>"
      ],
      "text/plain": [
       "  session_date test_group  user_id\n",
       "0   2025-10-14          A     1477\n",
       "1   2025-10-14          B     1466"
      ]
     },
     "metadata": {},
     "output_type": "display_data"
    },
    {
     "data": {
      "text/plain": [
       "'Количество уникальных пользователей в группе A: 1477'"
      ]
     },
     "metadata": {},
     "output_type": "display_data"
    },
    {
     "data": {
      "text/plain": [
       "'Количество уникальных пользователей в группе B: 1466'"
      ]
     },
     "metadata": {},
     "output_type": "display_data"
    },
    {
     "data": {
      "text/plain": [
       "'Процентная разница в количестве пользователей между группами A и B: 0.74%'"
      ]
     },
     "metadata": {},
     "output_type": "display_data"
    },
    {
     "data": {
      "image/png": "[encoded data removed]",
      "text/plain": [
       "<Figure size 432x288 with 1 Axes>"
      ]
     },
     "metadata": {
      "needs_background": "light"
     },
     "output_type": "display_data"
    }
   ],
   "source": [
    "# Рассчитываем количество уникальных пользователей в каждой из экспериментальных групп для одного дня наблюдения\n",
    "unique_users = sessions_test_part.groupby(['session_date', 'test_group'])['user_id'].nunique().reset_index()\n",
    "display(unique_users)\n",
    "\n",
    "# Рассчитываем процентную разницу между группами A и B\n",
    "day_data = unique_users[unique_users['session_date'] == unique_users['session_date'].unique()[0]]\n",
    "\n",
    "# Получаем количество уникальных пользователей в каждой группе\n",
    "users_A = day_data[day_data['test_group'] == 'A']['user_id'].values[0]\n",
    "users_B = day_data[day_data['test_group'] == 'B']['user_id'].values[0]\n",
    "\n",
    "# Рассчитываем процентную разницу\n",
    "percentage_difference = 100 * abs(users_A - users_B) / users_A\n",
    "\n",
    "# Выводим результат\n",
    "display(f\"Количество уникальных пользователей в группе A: {users_A}\")\n",
    "display(f\"Количество уникальных пользователей в группе B: {users_B}\")\n",
    "display(f\"Процентная разница в количестве пользователей между группами A и B: {percentage_difference:.2f}%\")\n",
    "\n",
    "# Визуализация\n",
    "plt.bar(day_data['test_group'], day_data['user_id'], color=['blue', 'orange'])\n",
    "plt.title('Количество уникальных пользователей в группах A и B')\n",
    "plt.xlabel('Группа')\n",
    "plt.ylabel('Количество уникальных пользователей')\n",
    "plt.xticks(rotation=0)\n",
    "plt.show()"
   ]
  },
  {
   "cell_type": "markdown",
   "metadata": {
    "id": "sgpNY5bv0eM0"
   },
   "source": [
    "#### 3.2. Проверка пересечений пользователей\n",
    "Помимо проверки равенства количества пользователей в группах полезно убедиться в том, что группы независимы. Для этого нужно убедиться, что никто из пользователей случайно не попал в обе группы одновременно.\n",
    "\n",
    "- Рассчитайте количество пользователей, которые встречаются одновременно в группах A и B, или убедитесь, что таких нет."
   ]
  },
  {
   "cell_type": "code",
   "execution_count": 18,
   "metadata": {
    "id": "E72ozN9FOX1u"
   },
   "outputs": [
    {
     "name": "stdout",
     "output_type": "stream",
     "text": [
      "Пользователи не пересекаются между группами A и B.\n"
     ]
    }
   ],
   "source": [
    "# Получаем уникальных пользователей для каждой группы\n",
    "unique_users_A = sessions_test_part[sessions_test_part['test_group'] == 'A']['user_id'].unique()\n",
    "unique_users_B = sessions_test_part[sessions_test_part['test_group'] == 'B']['user_id'].unique()\n",
    "\n",
    "# Находим пересечение пользователей в обеих группах\n",
    "common_users = set(unique_users_A).intersection(set(unique_users_B))\n",
    "\n",
    "# Рассчитываем количество пользователей, которые попали в обе группы\n",
    "num_common_users = len(common_users)\n",
    "\n",
    "# Выводим результат\n",
    "if num_common_users > 0:\n",
    "    print(f\"Количество пользователей, которые попали в обе группы: {num_common_users}\")\n",
    "else:\n",
    "    print(\"Пользователи не пересекаются между группами A и B.\")"
   ]
  },
  {
   "cell_type": "markdown",
   "metadata": {
    "id": "6RvkNLrg0eM1"
   },
   "source": [
    "#### 3.3. Равномерность разделения пользователей по устройствам\n",
    "Полезно также убедиться в том, что пользователи равномерно распределены по всем доступным категориальным переменным — типам устройства и регионам.\n",
    "\n",
    "Постройте две диаграммы:\n",
    "\n",
    "- доля каждого типа устройства для пользователей из группы A,\n",
    "\n",
    "- доля каждого типа устройства для пользователей из группы B.\n",
    "\n",
    "Постарайтесь добавить на диаграммы все необходимые подписи, пояснения и заголовки, которые позволят сделать вывод о том, совпадает ли распределение устройств в группах A и B.\n"
   ]
  },
  {
   "cell_type": "code",
   "execution_count": 19,
   "metadata": {
    "id": "x_IP6PUNPWHC"
   },
   "outputs": [
    {
     "data": {
      "image/png": "[encoded data removed]",
      "text/plain": [
       "<Figure size 1008x432 with 2 Axes>"
      ]
     },
     "metadata": {
      "needs_background": "light"
     },
     "output_type": "display_data"
    }
   ],
   "source": [
    "# Группируем данные по device и test_group, считаем количество уникальных пользователей\n",
    "device_distribution = sessions_test_part.groupby(['test_group', 'device'])['user_id'].nunique().unstack(fill_value=0)\n",
    "\n",
    "# Рассчитываем долю пользователей для каждой группы\n",
    "device_distribution_percentage = device_distribution.div(device_distribution.sum(axis=1), axis=0)\n",
    "\n",
    "# Создаем диаграмму для распределения устройств\n",
    "plt.figure(figsize=(14, 6))\n",
    "\n",
    "# Создаем диаграмму для группы A\n",
    "plt.subplot(1, 2, 1)\n",
    "device_distribution_percentage.loc['A'].plot(kind='bar', color='blue', alpha=0.7)\n",
    "plt.title('Распределение типов устройств в группе A')\n",
    "plt.xlabel('Тип устройства')\n",
    "plt.ylabel('Доля пользователей')\n",
    "plt.xticks(rotation=45)\n",
    "plt.grid(axis='y')\n",
    "\n",
    "# Создаем диаграмму для группы B\n",
    "plt.subplot(1, 2, 2)\n",
    "device_distribution_percentage.loc['B'].plot(kind='bar', color='orange', alpha=0.7)\n",
    "plt.title('Распределение типов устройств в группе B')\n",
    "plt.xlabel('Тип устройства')\n",
    "plt.ylabel('Доля пользователей')\n",
    "plt.xticks(rotation=45)\n",
    "plt.grid(axis='y')\n",
    "\n",
    "plt.tight_layout()\n",
    "plt.show()"
   ]
  },
  {
   "cell_type": "markdown",
   "metadata": {
    "id": "gAgmP6vo0eM1"
   },
   "source": [
    "#### 3.4. Равномерность распределения пользователей по регионам\n",
    "Теперь убедитесь, что пользователи равномерно распределены по регионам.\n",
    "\n",
    "Постройте две диаграммы:\n",
    "\n",
    "- доля каждого региона для пользователей из группы A,\n",
    "\n",
    "- доля каждого региона для пользователей из группы B.\n",
    "\n",
    "Постарайтесь добавить на диаграммы все необходимые подписи, пояснения и заголовки, которые позволят сделать вывод о том, совпадает ли распределение регионов в группах A и B. Постарайтесь использовать другой тип диаграммы, не тот, что в прошлом задании.\n"
   ]
  },
  {
   "cell_type": "code",
   "execution_count": 20,
   "metadata": {
    "id": "3hAq-FG4OdYM"
   },
   "outputs": [
    {
     "data": {
      "image/png": "[encoded data removed]",
      "text/plain": [
       "<Figure size 1008x504 with 2 Axes>"
      ]
     },
     "metadata": {},
     "output_type": "display_data"
    }
   ],
   "source": [
    "# Группируем данные по region и test_group, считаем количество уникальных пользователей\n",
    "region_distribution = sessions_test_part.groupby(['test_group', 'region'])['user_id'].nunique().unstack(fill_value=0)\n",
    "\n",
    "# Рассчитываем долю пользователей для каждой группы\n",
    "region_distribution_percentage = region_distribution.div(region_distribution.sum(axis=1), axis=0)\n",
    "\n",
    "# Построение круговых диаграмм\n",
    "fig, ax = plt.subplots(1, 2, figsize=(14, 7))\n",
    "\n",
    "# Круговая диаграмма для группы A\n",
    "ax[0].pie(region_distribution_percentage.loc['A'], labels=region_distribution_percentage.columns, autopct='%1.1f%%', startangle=90)\n",
    "ax[0].axis('equal')  # Для равных пропорций\n",
    "ax[0].set_title('Доля регионов для пользователей группы A')\n",
    "\n",
    "# Круговая диаграмма для группы B\n",
    "ax[1].pie(region_distribution_percentage.loc['B'], labels=region_distribution_percentage.columns, autopct='%1.1f%%', startangle=90)\n",
    "ax[1].axis('equal')  # Для равных пропорций\n",
    "ax[1].set_title('Доля регионов для пользователей группы B')\n",
    "\n",
    "plt.tight_layout()\n",
    "plt.show()"
   ]
  },
  {
   "cell_type": "markdown",
   "metadata": {
    "id": "X2WSZ-sDrSUi"
   },
   "source": [
    "#### 3.5. Вывод после проверки A/B-теста\n",
    "\n",
    "На основе проведённого анализа A/B-теста сформулируйте и запишите свои выводы. В выводе обязательно укажите:\n",
    "\n",
    "- Были ли обнаружено различие в количестве пользователей в двух группах.\n",
    "\n",
    "- Являются ли выборки независимыми. Было ли обнаружено пересечение пользователей из тестовой и контрольной групп.\n",
    "\n",
    "- Сохраняется ли равномерное распределение пользователей тестовой и контрольной групп по категориальным переменным: устройствам и регионам.\n",
    "\n",
    "Сделайте заключение о том, корректно ли проходит A/B-тест или наблюдаются какие-либо нарушения."
   ]
  },
  {
   "cell_type": "markdown",
   "metadata": {
    "id": "dDELHlAcOi8d"
   },
   "source": [
    "Рассчитанная длительность A/B-теста в 1000 пользователей в день составит 18 дней. Количество уникальных пользователей в группе A: 1477\n",
    "Количество уникальных пользователей в группе B: 1466\n",
    "Процентная разница в количестве пользователей между группами A и B: 0.74% . Пользователи между группами A и B не  пересекаются, то есть каждый уникальный пользователь распределен в определнной группе (А или В).ользователи равномерно распределены по всем доступным категориальным переменным — типам устройства и регионам.\n",
    "Пользователи обоих групп равномерно распределены по всем доступным категориальным переменным — типам устройства. По устройствам доминирует тип устройства Андроид в более 0,4, РС около 0,2,  IPhоne 0,2 (чуть больше в группе А), Мас 0,1 (чуть больше в группе В)\n",
    "\n",
    "Пользователи обоих групп не равномерно распределены по всем доступным категориальным переменным — регионам. Доля каждого региона для пользователей из группы A: максимальная - 43,7% - CIS, 40,85 МЕТА, 15.5% - UE.\n",
    "Иное распределение доли каждого региона для пользователей из группы В: максимальная - 39.6% -UE, 46,9% -  МЕТА, 13.5% -CIS."
   ]
  },
  {
   "cell_type": "markdown",
   "metadata": {
    "id": "nudRr_BQ0eM2"
   },
   "source": [
    "### 4. Проверка результатов A/B-теста\n",
    "\n",
    "A/B-тест завершён, и у вас есть результаты за все дни проведения эксперимента. Необходимо убедиться в корректности теста и верно интерпретировать результаты."
   ]
  },
  {
   "cell_type": "markdown",
   "metadata": {
    "id": "JVve-YBB0eM2"
   },
   "source": [
    "#### 4.1. Получение результатов теста и подсчёт основной метрики\n",
    "\n",
    "- Считайте и сохраните в датафрейм `sessions_test` CSV-файл с историческими данными о сессиях пользователей `sessions_project_test.csv`.\n",
    "\n",
    "- В датафрейме `sessions_test` создайте дополнительный столбец `good_session`. В него войдёт значение `1`, если за одну сессию было просмотрено 4 и более страниц, и значение `0`, если просмотрено меньше."
   ]
  },
  {
   "cell_type": "code",
   "execution_count": 21,
   "metadata": {
    "id": "EqRlwMtKPTir"
   },
   "outputs": [
    {
     "data": {
      "text/html": [
       "<div>\n",
       "<style scoped>\n",
       "    .dataframe tbody tr th:only-of-type {\n",
       "        vertical-align: middle;\n",
       "    }\n",
       "\n",
       "    .dataframe tbody tr th {\n",
       "        vertical-align: top;\n",
       "    }\n",
       "\n",
       "    .dataframe thead th {\n",
       "        text-align: right;\n",
       "    }\n",
       "</style>\n",
       "<table border=\"1\" class=\"dataframe\">\n",
       "  <thead>\n",
       "    <tr style=\"text-align: right;\">\n",
       "      <th></th>\n",
       "      <th>user_id</th>\n",
       "      <th>session_id</th>\n",
       "      <th>session_date</th>\n",
       "      <th>session_start_ts</th>\n",
       "      <th>install_date</th>\n",
       "      <th>session_number</th>\n",
       "      <th>registration_flag</th>\n",
       "      <th>page_counter</th>\n",
       "      <th>region</th>\n",
       "      <th>device</th>\n",
       "      <th>test_group</th>\n",
       "      <th>good_session</th>\n",
       "    </tr>\n",
       "  </thead>\n",
       "  <tbody>\n",
       "    <tr>\n",
       "      <th>0</th>\n",
       "      <td>6DAE3B3654DA738E</td>\n",
       "      <td>C69249E26E58F6E2</td>\n",
       "      <td>2025-10-26</td>\n",
       "      <td>2025-10-26 18:15:05</td>\n",
       "      <td>2025-10-16</td>\n",
       "      <td>3</td>\n",
       "      <td>0</td>\n",
       "      <td>3</td>\n",
       "      <td>MENA</td>\n",
       "      <td>Android</td>\n",
       "      <td>A</td>\n",
       "      <td>0</td>\n",
       "    </tr>\n",
       "    <tr>\n",
       "      <th>1</th>\n",
       "      <td>0A3FE5D1DD59110A</td>\n",
       "      <td>66D66D7C9F5181B7</td>\n",
       "      <td>2025-10-21</td>\n",
       "      <td>2025-10-21 17:04:53</td>\n",
       "      <td>2025-10-15</td>\n",
       "      <td>2</td>\n",
       "      <td>1</td>\n",
       "      <td>2</td>\n",
       "      <td>CIS</td>\n",
       "      <td>Android</td>\n",
       "      <td>B</td>\n",
       "      <td>0</td>\n",
       "    </tr>\n",
       "    <tr>\n",
       "      <th>2</th>\n",
       "      <td>2041F1D7AA740B88</td>\n",
       "      <td>50DE51D42215E74C</td>\n",
       "      <td>2025-10-23</td>\n",
       "      <td>2025-10-23 17:39:29</td>\n",
       "      <td>2025-10-19</td>\n",
       "      <td>3</td>\n",
       "      <td>0</td>\n",
       "      <td>2</td>\n",
       "      <td>MENA</td>\n",
       "      <td>Android</td>\n",
       "      <td>A</td>\n",
       "      <td>0</td>\n",
       "    </tr>\n",
       "    <tr>\n",
       "      <th>3</th>\n",
       "      <td>43D7585009168086</td>\n",
       "      <td>5763C0C353C22263</td>\n",
       "      <td>2025-10-24</td>\n",
       "      <td>2025-10-24 15:01:57</td>\n",
       "      <td>2025-10-18</td>\n",
       "      <td>4</td>\n",
       "      <td>0</td>\n",
       "      <td>1</td>\n",
       "      <td>CIS</td>\n",
       "      <td>iPhone</td>\n",
       "      <td>B</td>\n",
       "      <td>0</td>\n",
       "    </tr>\n",
       "    <tr>\n",
       "      <th>4</th>\n",
       "      <td>15AD68B14D62D88C</td>\n",
       "      <td>B1AD09F93C1053BC</td>\n",
       "      <td>2025-10-17</td>\n",
       "      <td>2025-10-17 17:34:39</td>\n",
       "      <td>2025-10-17</td>\n",
       "      <td>1</td>\n",
       "      <td>0</td>\n",
       "      <td>2</td>\n",
       "      <td>MENA</td>\n",
       "      <td>Android</td>\n",
       "      <td>B</td>\n",
       "      <td>0</td>\n",
       "    </tr>\n",
       "    <tr>\n",
       "      <th>...</th>\n",
       "      <td>...</td>\n",
       "      <td>...</td>\n",
       "      <td>...</td>\n",
       "      <td>...</td>\n",
       "      <td>...</td>\n",
       "      <td>...</td>\n",
       "      <td>...</td>\n",
       "      <td>...</td>\n",
       "      <td>...</td>\n",
       "      <td>...</td>\n",
       "      <td>...</td>\n",
       "      <td>...</td>\n",
       "    </tr>\n",
       "    <tr>\n",
       "      <th>100000</th>\n",
       "      <td>CF77C27B238C1BE3</td>\n",
       "      <td>0F7BC9B33685377C</td>\n",
       "      <td>2025-10-22</td>\n",
       "      <td>2025-10-22 19:01:50</td>\n",
       "      <td>2025-10-20</td>\n",
       "      <td>3</td>\n",
       "      <td>0</td>\n",
       "      <td>3</td>\n",
       "      <td>MENA</td>\n",
       "      <td>Android</td>\n",
       "      <td>A</td>\n",
       "      <td>0</td>\n",
       "    </tr>\n",
       "    <tr>\n",
       "      <th>100001</th>\n",
       "      <td>D7ED66C581409AC2</td>\n",
       "      <td>26C4475005E70F47</td>\n",
       "      <td>2025-10-17</td>\n",
       "      <td>2025-10-17 22:12:38</td>\n",
       "      <td>2025-10-17</td>\n",
       "      <td>1</td>\n",
       "      <td>0</td>\n",
       "      <td>5</td>\n",
       "      <td>CIS</td>\n",
       "      <td>PC</td>\n",
       "      <td>A</td>\n",
       "      <td>1</td>\n",
       "    </tr>\n",
       "    <tr>\n",
       "      <th>100002</th>\n",
       "      <td>E7EA2D51238020C6</td>\n",
       "      <td>9B9CDE6A612CBD73</td>\n",
       "      <td>2025-10-24</td>\n",
       "      <td>2025-10-24 14:54:07</td>\n",
       "      <td>2025-10-14</td>\n",
       "      <td>2</td>\n",
       "      <td>0</td>\n",
       "      <td>3</td>\n",
       "      <td>MENA</td>\n",
       "      <td>PC</td>\n",
       "      <td>B</td>\n",
       "      <td>0</td>\n",
       "    </tr>\n",
       "    <tr>\n",
       "      <th>100003</th>\n",
       "      <td>8A6FEFD7F34C5DA1</td>\n",
       "      <td>37291EC27106EF9D</td>\n",
       "      <td>2025-10-18</td>\n",
       "      <td>2025-10-18 00:05:10</td>\n",
       "      <td>2025-10-14</td>\n",
       "      <td>3</td>\n",
       "      <td>0</td>\n",
       "      <td>4</td>\n",
       "      <td>EU</td>\n",
       "      <td>Android</td>\n",
       "      <td>B</td>\n",
       "      <td>1</td>\n",
       "    </tr>\n",
       "    <tr>\n",
       "      <th>100004</th>\n",
       "      <td>EE2CA3C8481A0DE8</td>\n",
       "      <td>A4C833633CD4412E</td>\n",
       "      <td>2025-10-23</td>\n",
       "      <td>2025-10-23 10:02:27</td>\n",
       "      <td>2025-10-19</td>\n",
       "      <td>2</td>\n",
       "      <td>0</td>\n",
       "      <td>2</td>\n",
       "      <td>MENA</td>\n",
       "      <td>Android</td>\n",
       "      <td>B</td>\n",
       "      <td>0</td>\n",
       "    </tr>\n",
       "  </tbody>\n",
       "</table>\n",
       "<p>100005 rows × 12 columns</p>\n",
       "</div>"
      ],
      "text/plain": [
       "                 user_id        session_id session_date     session_start_ts  \\\n",
       "0       6DAE3B3654DA738E  C69249E26E58F6E2   2025-10-26  2025-10-26 18:15:05   \n",
       "1       0A3FE5D1DD59110A  66D66D7C9F5181B7   2025-10-21  2025-10-21 17:04:53   \n",
       "2       2041F1D7AA740B88  50DE51D42215E74C   2025-10-23  2025-10-23 17:39:29   \n",
       "3       43D7585009168086  5763C0C353C22263   2025-10-24  2025-10-24 15:01:57   \n",
       "4       15AD68B14D62D88C  B1AD09F93C1053BC   2025-10-17  2025-10-17 17:34:39   \n",
       "...                  ...               ...          ...                  ...   \n",
       "100000  CF77C27B238C1BE3  0F7BC9B33685377C   2025-10-22  2025-10-22 19:01:50   \n",
       "100001  D7ED66C581409AC2  26C4475005E70F47   2025-10-17  2025-10-17 22:12:38   \n",
       "100002  E7EA2D51238020C6  9B9CDE6A612CBD73   2025-10-24  2025-10-24 14:54:07   \n",
       "100003  8A6FEFD7F34C5DA1  37291EC27106EF9D   2025-10-18  2025-10-18 00:05:10   \n",
       "100004  EE2CA3C8481A0DE8  A4C833633CD4412E   2025-10-23  2025-10-23 10:02:27   \n",
       "\n",
       "       install_date  session_number  registration_flag  page_counter region  \\\n",
       "0        2025-10-16               3                  0             3   MENA   \n",
       "1        2025-10-15               2                  1             2    CIS   \n",
       "2        2025-10-19               3                  0             2   MENA   \n",
       "3        2025-10-18               4                  0             1    CIS   \n",
       "4        2025-10-17               1                  0             2   MENA   \n",
       "...             ...             ...                ...           ...    ...   \n",
       "100000   2025-10-20               3                  0             3   MENA   \n",
       "100001   2025-10-17               1                  0             5    CIS   \n",
       "100002   2025-10-14               2                  0             3   MENA   \n",
       "100003   2025-10-14               3                  0             4     EU   \n",
       "100004   2025-10-19               2                  0             2   MENA   \n",
       "\n",
       "         device test_group  good_session  \n",
       "0       Android          A             0  \n",
       "1       Android          B             0  \n",
       "2       Android          A             0  \n",
       "3        iPhone          B             0  \n",
       "4       Android          B             0  \n",
       "...         ...        ...           ...  \n",
       "100000  Android          A             0  \n",
       "100001       PC          A             1  \n",
       "100002       PC          B             0  \n",
       "100003  Android          B             1  \n",
       "100004  Android          B             0  \n",
       "\n",
       "[100005 rows x 12 columns]"
      ]
     },
     "metadata": {},
     "output_type": "display_data"
    }
   ],
   "source": [
    "sessions_test = pd.read_csv('/datasets/sessions_project_test.csv')\n",
    "# Добавляем столбец good_session на основе conditions\n",
    "sessions_test['good_session'] = sessions_test['page_counter'].apply(lambda x: 1 if x >= 4 else 0)\n",
    "display(sessions_test)"
   ]
  },
  {
   "cell_type": "markdown",
   "metadata": {
    "id": "aeYhrMYy0eM2"
   },
   "source": [
    "#### 4.2. Проверка корректности результатов теста\n",
    "\n",
    "Прежде чем приступать к анализу ключевых продуктовых метрик, необходимо убедиться, что тест проведён корректно и вы будете сравнивать две сопоставимые группы.\n",
    "\n",
    "- Рассчитайте количество уникальных сессий для каждого дня и обеих тестовых групп, используя группировку.\n",
    "\n",
    "- Проверьте, что количество уникальных дневных сессий в двух выборках не различается или различия не статистически значимы. Используйте статистический тест, который позволит сделать вывод о равенстве средних двух выборок.\n",
    "\n",
    "- В качестве ответа выведите на экран полученное значение p-value и интерпретируйте его."
   ]
  },
  {
   "cell_type": "code",
   "execution_count": 22,
   "metadata": {
    "id": "5NUlcltkTTSU"
   },
   "outputs": [
    {
     "name": "stdout",
     "output_type": "stream",
     "text": [
      "p-value: 0.9382195854082714\n",
      "Не отвергаем нулевую гипотезу: различия между группами статистически не значимы.\n"
     ]
    }
   ],
   "source": [
    "# Группировка по дате и тестовой группе, подсчет уникальных\n",
    "unique_sessions_per = (\n",
    "    sessions_test.groupby(['session_date', 'test_group'])['session_id']\n",
    "    .nunique()\n",
    "    .reset_index()\n",
    ")\n",
    "\n",
    "# Разделяем данные по тестовым группам\n",
    "group_a = unique_sessions_per[unique_sessions_per['test_group'] == 'A']['session_id']\n",
    "group_b = unique_sessions_per[unique_sessions_per['test_group'] == 'B']['session_id']\n",
    "\n",
    "# Выполняем t-тест для проверки равенства средних значений двух выборок\n",
    "t_stat, p_value = stats.ttest_ind(group_a, group_b, equal_var=False)  \n",
    "\n",
    "# Выводим p-value\n",
    "print(f'p-value: {p_value}')\n",
    "\n",
    "# Интерпретация p-value\n",
    "alpha = 0.05  \n",
    "if p_value < alpha:\n",
    "    print(\"Отвергаем нулевую гипотезу: существует статистически значимое различие между группами.\")\n",
    "else:\n",
    "    print(\"Не отвергаем нулевую гипотезу: различия между группами статистически не значимы.\")"
   ]
  },
  {
   "cell_type": "markdown",
   "metadata": {
    "id": "7kwRxzg70eM3"
   },
   "source": [
    "#### 4.3. Сравнение доли успешных сессий\n",
    "\n",
    "Когда вы убедились, что количество сессий в обеих выборках не различалось, можно переходить к анализу ключевой метрики — доли успешных сессий.\n",
    "\n",
    "Используйте созданный на первом шаге задания столбец `good_session` и рассчитайте долю успешных сессий для выборок A и B, а также разницу в этом показателе. Полученный вывод отобразите на экране."
   ]
  },
  {
   "cell_type": "code",
   "execution_count": 23,
   "metadata": {},
   "outputs": [
    {
     "name": "stdout",
     "output_type": "stream",
     "text": [
      "Доля успешных сессий для выборки A составляет: 30.77\n",
      "Доля успешных сессий для выборки B составляет: 31.83\n",
      "Разница в доле успешных сессий между A и B составляет: 1.10\n"
     ]
    }
   ],
   "source": [
    "success_a = sessions_test[sessions_test['test_group'] == 'A']['good_session'].sum()\n",
    "total_a = sessions_test[sessions_test['test_group'] == 'A'].shape[0]\n",
    "\n",
    "success_b = sessions_test[sessions_test['test_group'] == 'B']['good_session'].sum()\n",
    "total_b = sessions_test[sessions_test['test_group'] == 'B'].shape[0]\n",
    "\n",
    "dola_a = success_a*100 /(total_a)\n",
    "dola_b = success_b*100 /(total_b)\n",
    "\n",
    "#Находим разницу между между долями\n",
    "dola_a_b = round((dola_b - dola_a), 1) \n",
    "\n",
    "# Выводим результаты\n",
    "print(f'Доля успешных сессий для выборки A составляет: {dola_a:.2f}')\n",
    "print(f'Доля успешных сессий для выборки B составляет: {dola_b:.2f}')\n",
    "print(f'Разница в доле успешных сессий между A и B составляет: {dola_a_b:.2f}')"
   ]
  },
  {
   "cell_type": "markdown",
   "metadata": {
    "id": "9fMFuja10eM4"
   },
   "source": [
    "#### 4.4. Насколько статистически значимо изменение ключевой метрики\n",
    "\n",
    "На предыдущем шаге вы убедились, что количество успешных сессий в тестовой выборке примерно на 1.1% выше, чем в контрольной, но делать выводы только на основе этого значения будет некорректно. Для принятия решения всегда необходимо отвечать на вопрос: является ли это изменение статистически значимым.\n",
    "\n",
    "- Используя статистический тест, рассчитайте, является ли изменение в метрике доли успешных сессий статистически значимым.\n",
    "\n",
    "- Выведите на экран полученное значение p-value и свои выводы о статистической значимости. Напомним, что уровень значимости в эксперименте был выбран на уровне 0.05."
   ]
  },
  {
   "cell_type": "code",
   "execution_count": 24,
   "metadata": {
    "id": "gFvhRGwlPLS0"
   },
   "outputs": [
    {
     "name": "stdout",
     "output_type": "stream",
     "text": [
      "Уникальные пользователи A: 49551, Успешные сессии A: 15248\n",
      "Уникальные пользователи B: 50454, Успешные сессии B: 16059\n",
      "p-value: 0.0003\n",
      "p-value=0.0003 < 0.05\n",
      "Нулевая гипотеза не находит подтверждения!\n"
     ]
    }
   ],
   "source": [
    "# Подсчет уникальных пользователей в группах A и B\n",
    "n_a = sessions_test[sessions_test.test_group == 'A'].shape[0]   # Уникальные пользователи в группе A\n",
    "n_b = sessions_test[sessions_test.test_group == 'B'].shape[0]   # Уникальные пользователи в группе B\n",
    "\n",
    "# Подсчет успешных сессий в группах A и B\n",
    "m_a = sessions_test[sessions_test.test_group == 'A']['good_session'].sum()  # Количество успехов в группе A\n",
    "m_b = sessions_test[sessions_test.test_group == 'B']['good_session'].sum()  # Количество успехов в группе B\n",
    "\n",
    "# Выводим результаты подсчетов для отладки\n",
    "print(f\"Уникальные пользователи A: {n_a}, Успешные сессии A: {m_a}\")\n",
    "print(f\"Уникальные пользователи B: {n_b}, Успешные сессии B: {m_b}\")\n",
    "\n",
    "alpha = 0.05  # Уровень значимости\n",
    "\n",
    "# Проведение Z-теста\n",
    "if m_a > 0 and m_b > 0:  # Проверка на наличие успехов в обеих группах\n",
    "    stat_ztest, p_value_ztest = proportions_ztest(\n",
    "        [m_a, m_b],  # Количество успешных сессий\n",
    "        [n_a, n_b],  # Общее количество уникальных пользователей\n",
    "        alternative='two-sided'\n",
    "    )\n",
    "    \n",
    "    # Вывод p-value\n",
    "    print(f'p-value: {p_value_ztest:.4f}')\n",
    "\n",
    "    if p_value_ztest > alpha:\n",
    "        print(f'p-value={p_value_ztest:.4f} > {alpha}')\n",
    "        print('Нулевая гипотеза находит подтверждение!')\n",
    "    else:\n",
    "        print(f'p-value={p_value_ztest:.4f} < {alpha}')\n",
    "        print('Нулевая гипотеза не находит подтверждения!')\n",
    "else:\n",
    "    print(\"Ошибка: В одной из групп нет успешных сессий. Проведение Z-теста невозможно.\")"
   ]
  },
  {
   "cell_type": "markdown",
   "metadata": {
    "id": "GnJrkY9Q63zS"
   },
   "source": [
    "#### 4.5. Вывод по результатам A/B-эксперимента\n",
    "\n",
    "На основе проведённого анализа результатов теста сформулируйте и запишите свои выводы для команды разработки приложения. В выводе обязательно укажите:\n",
    "\n",
    "- Характеристики проведённого эксперимента, количество задействованных пользователей и длительность эксперимента.\n",
    "\n",
    "- Повлияло ли внедрение нового алгоритма рекомендаций на рост ключевой метрики и как.\n",
    "\n",
    "- Каким получилось значение p-value для оценки статистической значимости выявленного эффекта.\n",
    "\n",
    "- Стоит ли внедрять новоовведение в приложение."
   ]
  },
  {
   "cell_type": "markdown",
   "metadata": {
    "id": "rri8KRIgPMrW"
   },
   "source": [
    "Рассчитанная длительность A/B-теста в 1000 пользователей в день составит 18 дней. Количество уникальных пользователей в группе A: 1477\n",
    "Количество уникальных пользователей в группе B: 1466\n",
    "p-value: 0.9. Pазличия между группами статистически не значимы.\n",
    "Процентная разница в количестве пользователей между группами A и B: 0.74% . Пользователи между группами A и B не  пересекаются, то есть каждый уникальный пользователь распределен в определнной группе (А или В).ользователи равномерно распределены по всем доступным категориальным переменным — типам устройства и регионам.\n",
    "Пользователи обоих групп равномерно распределены по всем доступным категориальным переменным — типам устройства. По устройствам доминирует тип устройства Андроид в более 0,4, РС около 0,2,  IPhоne 0,2 (чуть больше в группе А), Мас 0,1 (чуть больше в группе В)\n",
    "\n",
    "Пользователи обоих групп не равномерно распределены по всем доступным категориальным переменным — регионам. Доля каждого региона для пользователей из группы A: максимальная - 43,7% - CIS, 40,85 МЕТА, 15.5% - UE.\n",
    "Иное распределение доли каждого региона для пользователей из группы В: максимальная - 39.6% -UE, 46,9% -  МЕТА, 13.5% -CIS.\n",
    "Нулевая гипотеза не нашла подтверждение"
   ]
  }
 ],
 "metadata": {
  "ExecuteTimeLog": [
   {
    "duration": 413,
    "start_time": "2025-03-12T18:21:39.735Z"
   },
   {
    "duration": 61,
    "start_time": "2025-03-12T18:21:40.540Z"
   },
   {
    "duration": 91,
    "start_time": "2025-03-12T18:21:54.227Z"
   },
   {
    "duration": 51,
    "start_time": "2025-03-12T18:22:08.912Z"
   },
   {
    "duration": 2,
    "start_time": "2025-03-12T18:23:18.923Z"
   },
   {
    "duration": 61,
    "start_time": "2025-03-12T18:23:20.034Z"
   },
   {
    "duration": 360,
    "start_time": "2025-03-12T18:23:25.809Z"
   },
   {
    "duration": 112,
    "start_time": "2025-03-12T18:23:26.171Z"
   },
   {
    "duration": 0,
    "start_time": "2025-03-12T18:23:26.285Z"
   },
   {
    "duration": 0,
    "start_time": "2025-03-12T18:23:26.287Z"
   },
   {
    "duration": 0,
    "start_time": "2025-03-12T18:23:26.288Z"
   },
   {
    "duration": 977,
    "start_time": "2025-03-12T18:24:47.385Z"
   },
   {
    "duration": 17,
    "start_time": "2025-03-12T18:24:50.868Z"
   },
   {
    "duration": 8,
    "start_time": "2025-03-12T18:27:38.613Z"
   },
   {
    "duration": 572,
    "start_time": "2025-03-12T18:28:11.159Z"
   },
   {
    "duration": 6,
    "start_time": "2025-03-12T18:29:05.804Z"
   },
   {
    "duration": 133,
    "start_time": "2025-03-12T18:31:04.065Z"
   },
   {
    "duration": 3,
    "start_time": "2025-03-12T18:31:04.836Z"
   },
   {
    "duration": 7,
    "start_time": "2025-03-12T18:32:04.599Z"
   },
   {
    "duration": 7,
    "start_time": "2025-03-12T18:33:49.525Z"
   },
   {
    "duration": 7,
    "start_time": "2025-03-12T18:33:55.851Z"
   },
   {
    "duration": 8,
    "start_time": "2025-03-12T18:33:59.479Z"
   },
   {
    "duration": 355,
    "start_time": "2025-03-12T18:34:04.926Z"
   },
   {
    "duration": 1024,
    "start_time": "2025-03-12T18:34:05.283Z"
   },
   {
    "duration": 17,
    "start_time": "2025-03-12T18:34:06.309Z"
   },
   {
    "duration": 71,
    "start_time": "2025-03-12T18:34:06.328Z"
   },
   {
    "duration": 0,
    "start_time": "2025-03-12T18:34:06.401Z"
   },
   {
    "duration": 0,
    "start_time": "2025-03-12T18:34:06.402Z"
   },
   {
    "duration": 0,
    "start_time": "2025-03-12T18:34:06.403Z"
   },
   {
    "duration": 0,
    "start_time": "2025-03-12T18:34:06.404Z"
   },
   {
    "duration": 519,
    "start_time": "2025-03-12T18:35:05.350Z"
   },
   {
    "duration": 8,
    "start_time": "2025-03-12T18:35:16.059Z"
   },
   {
    "duration": 6,
    "start_time": "2025-03-12T18:35:51.100Z"
   },
   {
    "duration": 10,
    "start_time": "2025-03-12T18:36:51.565Z"
   },
   {
    "duration": 239,
    "start_time": "2025-03-12T18:39:18.048Z"
   },
   {
    "duration": 448,
    "start_time": "2025-03-12T18:43:18.109Z"
   },
   {
    "duration": 635,
    "start_time": "2025-03-12T18:43:22.359Z"
   },
   {
    "duration": 997,
    "start_time": "2025-03-12T18:43:22.995Z"
   },
   {
    "duration": 14,
    "start_time": "2025-03-12T18:43:23.993Z"
   },
   {
    "duration": 199,
    "start_time": "2025-03-12T18:43:24.008Z"
   },
   {
    "duration": 532,
    "start_time": "2025-03-12T18:43:24.208Z"
   },
   {
    "duration": 0,
    "start_time": "2025-03-12T18:43:24.741Z"
   },
   {
    "duration": 1334,
    "start_time": "2025-03-12T18:44:38.610Z"
   },
   {
    "duration": 8,
    "start_time": "2025-03-12T18:45:45.715Z"
   },
   {
    "duration": 12,
    "start_time": "2025-03-12T18:46:11.845Z"
   },
   {
    "duration": 149,
    "start_time": "2025-03-12T18:47:20.471Z"
   },
   {
    "duration": 108,
    "start_time": "2025-03-12T18:49:18.631Z"
   },
   {
    "duration": 127,
    "start_time": "2025-03-12T18:49:30.459Z"
   },
   {
    "duration": 12,
    "start_time": "2025-03-12T18:50:09.571Z"
   },
   {
    "duration": 14,
    "start_time": "2025-03-12T18:51:24.456Z"
   },
   {
    "duration": 161,
    "start_time": "2025-03-12T18:52:18.684Z"
   },
   {
    "duration": 167,
    "start_time": "2025-03-12T18:53:25.036Z"
   },
   {
    "duration": 4,
    "start_time": "2025-03-12T18:53:25.591Z"
   },
   {
    "duration": 1071,
    "start_time": "2025-03-12T18:53:26.165Z"
   },
   {
    "duration": 889,
    "start_time": "2025-03-12T18:54:10.188Z"
   },
   {
    "duration": 67,
    "start_time": "2025-03-12T19:02:21.433Z"
   },
   {
    "duration": 67,
    "start_time": "2025-03-12T19:03:06.880Z"
   },
   {
    "duration": 67,
    "start_time": "2025-03-12T19:03:20.673Z"
   },
   {
    "duration": 76,
    "start_time": "2025-03-12T19:04:55.953Z"
   },
   {
    "duration": 83,
    "start_time": "2025-03-12T19:05:31.317Z"
   },
   {
    "duration": 87,
    "start_time": "2025-03-12T19:07:57.749Z"
   },
   {
    "duration": 85,
    "start_time": "2025-03-12T19:08:54.583Z"
   },
   {
    "duration": 171,
    "start_time": "2025-03-12T19:15:00.660Z"
   },
   {
    "duration": 172,
    "start_time": "2025-03-12T19:19:17.403Z"
   },
   {
    "duration": 13,
    "start_time": "2025-03-12T19:19:22.656Z"
   },
   {
    "duration": 1298,
    "start_time": "2025-03-12T19:20:20.747Z"
   },
   {
    "duration": 1441,
    "start_time": "2025-03-12T19:21:04.812Z"
   },
   {
    "duration": 203,
    "start_time": "2025-03-12T19:21:40.228Z"
   },
   {
    "duration": 241,
    "start_time": "2025-03-12T19:21:50.683Z"
   },
   {
    "duration": 222,
    "start_time": "2025-03-12T19:21:56.649Z"
   },
   {
    "duration": 4,
    "start_time": "2025-03-12T19:28:40.352Z"
   },
   {
    "duration": 5,
    "start_time": "2025-03-12T19:29:05.640Z"
   },
   {
    "duration": 238,
    "start_time": "2025-03-12T19:30:22.001Z"
   },
   {
    "duration": 590,
    "start_time": "2025-03-12T19:31:53.814Z"
   },
   {
    "duration": 1064,
    "start_time": "2025-03-12T19:31:54.406Z"
   },
   {
    "duration": 15,
    "start_time": "2025-03-12T19:31:55.471Z"
   },
   {
    "duration": 236,
    "start_time": "2025-03-12T19:31:55.488Z"
   },
   {
    "duration": 151,
    "start_time": "2025-03-12T19:31:55.726Z"
   },
   {
    "duration": 108,
    "start_time": "2025-03-12T19:31:55.878Z"
   },
   {
    "duration": 131,
    "start_time": "2025-03-12T19:31:55.987Z"
   },
   {
    "duration": 202,
    "start_time": "2025-03-12T19:31:56.120Z"
   },
   {
    "duration": 323,
    "start_time": "2025-03-12T19:31:56.324Z"
   },
   {
    "duration": 4,
    "start_time": "2025-03-12T19:31:56.649Z"
   },
   {
    "duration": 242,
    "start_time": "2025-03-12T19:31:56.654Z"
   },
   {
    "duration": 67,
    "start_time": "2025-03-12T19:31:56.897Z"
   },
   {
    "duration": 0,
    "start_time": "2025-03-12T19:31:56.966Z"
   },
   {
    "duration": 0,
    "start_time": "2025-03-12T19:31:56.967Z"
   },
   {
    "duration": 8,
    "start_time": "2025-03-12T19:34:24.362Z"
   },
   {
    "duration": 151,
    "start_time": "2025-03-12T19:34:25.075Z"
   },
   {
    "duration": 52,
    "start_time": "2025-03-13T16:52:03.222Z"
   },
   {
    "duration": 7,
    "start_time": "2025-03-13T16:52:53.178Z"
   },
   {
    "duration": 8,
    "start_time": "2025-03-13T16:52:56.503Z"
   },
   {
    "duration": 1080,
    "start_time": "2025-03-13T16:53:00.645Z"
   },
   {
    "duration": 1097,
    "start_time": "2025-03-13T16:53:01.727Z"
   },
   {
    "duration": 16,
    "start_time": "2025-03-13T16:53:02.827Z"
   },
   {
    "duration": 270,
    "start_time": "2025-03-13T16:53:02.846Z"
   },
   {
    "duration": 166,
    "start_time": "2025-03-13T16:53:03.119Z"
   },
   {
    "duration": 122,
    "start_time": "2025-03-13T16:53:03.287Z"
   },
   {
    "duration": 143,
    "start_time": "2025-03-13T16:53:03.410Z"
   },
   {
    "duration": 281,
    "start_time": "2025-03-13T16:53:03.555Z"
   },
   {
    "duration": 0,
    "start_time": "2025-03-13T16:53:03.838Z"
   },
   {
    "duration": 0,
    "start_time": "2025-03-13T16:53:03.839Z"
   },
   {
    "duration": 0,
    "start_time": "2025-03-13T16:53:03.840Z"
   },
   {
    "duration": 0,
    "start_time": "2025-03-13T16:53:03.842Z"
   },
   {
    "duration": 0,
    "start_time": "2025-03-13T16:53:03.843Z"
   },
   {
    "duration": 0,
    "start_time": "2025-03-13T16:53:03.844Z"
   },
   {
    "duration": 0,
    "start_time": "2025-03-13T16:53:03.845Z"
   },
   {
    "duration": 0,
    "start_time": "2025-03-13T16:53:03.846Z"
   },
   {
    "duration": 0,
    "start_time": "2025-03-13T16:53:03.847Z"
   },
   {
    "duration": 211,
    "start_time": "2025-03-13T16:55:09.975Z"
   },
   {
    "duration": 359,
    "start_time": "2025-03-13T16:55:12.496Z"
   },
   {
    "duration": 4,
    "start_time": "2025-03-13T16:55:14.768Z"
   },
   {
    "duration": 248,
    "start_time": "2025-03-13T16:55:15.656Z"
   },
   {
    "duration": 8,
    "start_time": "2025-03-13T16:55:21.894Z"
   },
   {
    "duration": 189,
    "start_time": "2025-03-13T16:55:23.924Z"
   },
   {
    "duration": 9189,
    "start_time": "2025-03-13T16:55:26.539Z"
   },
   {
    "duration": 0,
    "start_time": "2025-03-13T16:55:35.730Z"
   },
   {
    "duration": 7536,
    "start_time": "2025-03-13T16:56:46.633Z"
   },
   {
    "duration": 0,
    "start_time": "2025-03-13T16:56:54.171Z"
   },
   {
    "duration": 6224,
    "start_time": "2025-03-13T16:58:36.071Z"
   },
   {
    "duration": 0,
    "start_time": "2025-03-13T16:58:42.297Z"
   },
   {
    "duration": 113,
    "start_time": "2025-03-13T16:59:50.984Z"
   },
   {
    "duration": 6040,
    "start_time": "2025-03-13T17:00:02.853Z"
   },
   {
    "duration": 0,
    "start_time": "2025-03-13T17:00:08.895Z"
   },
   {
    "duration": 6271,
    "start_time": "2025-03-13T17:00:40.289Z"
   },
   {
    "duration": 0,
    "start_time": "2025-03-13T17:00:46.562Z"
   },
   {
    "duration": 8,
    "start_time": "2025-03-13T17:01:02.298Z"
   },
   {
    "duration": 104,
    "start_time": "2025-03-13T17:08:22.649Z"
   },
   {
    "duration": 118,
    "start_time": "2025-03-13T17:08:31.410Z"
   },
   {
    "duration": 1143,
    "start_time": "2025-03-13T17:16:29.258Z"
   },
   {
    "duration": 1115,
    "start_time": "2025-03-13T17:17:33.585Z"
   },
   {
    "duration": 14,
    "start_time": "2025-03-13T17:17:46.690Z"
   },
   {
    "duration": 13,
    "start_time": "2025-03-13T17:18:29.902Z"
   },
   {
    "duration": 12,
    "start_time": "2025-03-13T17:20:23.226Z"
   },
   {
    "duration": 12,
    "start_time": "2025-03-13T17:21:05.814Z"
   },
   {
    "duration": 381,
    "start_time": "2025-03-13T17:21:15.473Z"
   },
   {
    "duration": 19,
    "start_time": "2025-03-13T17:24:35.120Z"
   },
   {
    "duration": 18,
    "start_time": "2025-03-13T17:24:55.474Z"
   },
   {
    "duration": 20,
    "start_time": "2025-03-13T17:25:39.998Z"
   },
   {
    "duration": 18,
    "start_time": "2025-03-13T17:26:05.657Z"
   },
   {
    "duration": 1071,
    "start_time": "2025-03-13T17:26:46.988Z"
   },
   {
    "duration": 1258,
    "start_time": "2025-03-13T17:27:06.469Z"
   },
   {
    "duration": 1199,
    "start_time": "2025-03-13T17:27:21.012Z"
   },
   {
    "duration": 19,
    "start_time": "2025-03-13T17:27:38.957Z"
   },
   {
    "duration": 12,
    "start_time": "2025-03-13T17:28:38.624Z"
   },
   {
    "duration": 53,
    "start_time": "2025-03-13T17:29:01.013Z"
   },
   {
    "duration": 75,
    "start_time": "2025-03-13T17:31:22.545Z"
   },
   {
    "duration": 64,
    "start_time": "2025-03-13T17:31:36.061Z"
   },
   {
    "duration": 53,
    "start_time": "2025-03-13T17:32:19.230Z"
   },
   {
    "duration": 50,
    "start_time": "2025-03-13T17:32:32.039Z"
   },
   {
    "duration": 346,
    "start_time": "2025-03-13T17:32:36.201Z"
   },
   {
    "duration": 43,
    "start_time": "2025-03-13T17:33:18.460Z"
   },
   {
    "duration": 276,
    "start_time": "2025-03-13T17:33:26.281Z"
   },
   {
    "duration": 277,
    "start_time": "2025-03-13T17:33:53.177Z"
   },
   {
    "duration": 960,
    "start_time": "2025-03-13T17:35:18.026Z"
   },
   {
    "duration": 157,
    "start_time": "2025-03-13T17:36:05.268Z"
   },
   {
    "duration": 1076,
    "start_time": "2025-03-13T17:38:01.937Z"
   },
   {
    "duration": 17,
    "start_time": "2025-03-13T17:38:28.299Z"
   },
   {
    "duration": 19,
    "start_time": "2025-03-13T17:38:57.066Z"
   },
   {
    "duration": 1183,
    "start_time": "2025-03-13T17:39:01.862Z"
   },
   {
    "duration": 71,
    "start_time": "2025-03-13T17:39:08.194Z"
   },
   {
    "duration": 35,
    "start_time": "2025-03-13T17:40:43.901Z"
   },
   {
    "duration": 327,
    "start_time": "2025-03-13T17:41:01.107Z"
   },
   {
    "duration": 8,
    "start_time": "2025-03-13T17:43:57.223Z"
   },
   {
    "duration": 314,
    "start_time": "2025-03-13T17:44:15.442Z"
   },
   {
    "duration": 363,
    "start_time": "2025-03-13T17:49:46.172Z"
   },
   {
    "duration": 1216,
    "start_time": "2025-03-13T17:50:21.557Z"
   },
   {
    "duration": 368,
    "start_time": "2025-03-13T17:50:30.759Z"
   },
   {
    "duration": 442,
    "start_time": "2025-03-13T17:53:10.307Z"
   },
   {
    "duration": 80,
    "start_time": "2025-03-13T17:53:43.296Z"
   },
   {
    "duration": 14,
    "start_time": "2025-03-13T17:55:16.993Z"
   },
   {
    "duration": 4,
    "start_time": "2025-03-13T17:59:18.023Z"
   },
   {
    "duration": 9,
    "start_time": "2025-03-13T18:04:29.975Z"
   },
   {
    "duration": 34,
    "start_time": "2025-03-13T18:04:40.698Z"
   },
   {
    "duration": 112,
    "start_time": "2025-03-13T18:05:08.488Z"
   },
   {
    "duration": 29,
    "start_time": "2025-03-13T18:06:58.288Z"
   },
   {
    "duration": 25,
    "start_time": "2025-03-13T18:07:09.040Z"
   },
   {
    "duration": 9,
    "start_time": "2025-03-13T18:09:21.585Z"
   },
   {
    "duration": 85,
    "start_time": "2025-03-13T18:14:55.635Z"
   },
   {
    "duration": 15,
    "start_time": "2025-03-13T18:18:45.476Z"
   },
   {
    "duration": 15,
    "start_time": "2025-03-13T18:19:03.559Z"
   },
   {
    "duration": 125,
    "start_time": "2025-03-13T18:19:17.326Z"
   },
   {
    "duration": 11,
    "start_time": "2025-03-13T18:19:49.993Z"
   },
   {
    "duration": 182,
    "start_time": "2025-03-13T18:19:50.816Z"
   },
   {
    "duration": 124,
    "start_time": "2025-03-13T18:25:22.070Z"
   },
   {
    "duration": 10,
    "start_time": "2025-03-13T18:31:47.074Z"
   },
   {
    "duration": 11,
    "start_time": "2025-03-13T18:33:14.566Z"
   },
   {
    "duration": 11,
    "start_time": "2025-03-13T18:36:58.751Z"
   },
   {
    "duration": 9,
    "start_time": "2025-03-13T18:37:17.164Z"
   },
   {
    "duration": 9,
    "start_time": "2025-03-13T18:41:46.061Z"
   },
   {
    "duration": 365,
    "start_time": "2025-03-13T18:45:11.853Z"
   },
   {
    "duration": 340,
    "start_time": "2025-03-13T18:46:05.658Z"
   },
   {
    "duration": 334,
    "start_time": "2025-03-13T18:49:45.721Z"
   },
   {
    "duration": 266,
    "start_time": "2025-03-13T19:04:06.946Z"
   },
   {
    "duration": 21,
    "start_time": "2025-03-13T19:06:24.110Z"
   },
   {
    "duration": 14,
    "start_time": "2025-03-13T19:06:35.983Z"
   },
   {
    "duration": 281,
    "start_time": "2025-03-13T19:07:10.331Z"
   },
   {
    "duration": 14,
    "start_time": "2025-03-13T19:07:24.781Z"
   },
   {
    "duration": 14,
    "start_time": "2025-03-13T19:08:00.518Z"
   },
   {
    "duration": 51,
    "start_time": "2025-03-13T19:09:47.727Z"
   },
   {
    "duration": 54,
    "start_time": "2025-03-13T19:10:19.229Z"
   },
   {
    "duration": 1148,
    "start_time": "2025-03-13T19:11:29.121Z"
   },
   {
    "duration": 1049,
    "start_time": "2025-03-13T19:11:30.274Z"
   },
   {
    "duration": 16,
    "start_time": "2025-03-13T19:11:31.325Z"
   },
   {
    "duration": 247,
    "start_time": "2025-03-13T19:11:31.343Z"
   },
   {
    "duration": 168,
    "start_time": "2025-03-13T19:11:31.592Z"
   },
   {
    "duration": 120,
    "start_time": "2025-03-13T19:11:31.762Z"
   },
   {
    "duration": 127,
    "start_time": "2025-03-13T19:11:31.884Z"
   },
   {
    "duration": 176,
    "start_time": "2025-03-13T19:11:32.013Z"
   },
   {
    "duration": 336,
    "start_time": "2025-03-13T19:11:32.191Z"
   },
   {
    "duration": 4,
    "start_time": "2025-03-13T19:11:32.530Z"
   },
   {
    "duration": 317,
    "start_time": "2025-03-13T19:11:32.535Z"
   },
   {
    "duration": 7,
    "start_time": "2025-03-13T19:11:32.854Z"
   },
   {
    "duration": 394,
    "start_time": "2025-03-13T19:11:32.862Z"
   },
   {
    "duration": 26,
    "start_time": "2025-03-13T19:11:33.258Z"
   },
   {
    "duration": 4,
    "start_time": "2025-03-13T19:11:33.286Z"
   },
   {
    "duration": 37,
    "start_time": "2025-03-13T19:11:33.292Z"
   },
   {
    "duration": 140,
    "start_time": "2025-03-13T19:11:33.331Z"
   },
   {
    "duration": 9,
    "start_time": "2025-03-13T19:11:33.472Z"
   },
   {
    "duration": 409,
    "start_time": "2025-03-13T19:11:33.483Z"
   },
   {
    "duration": 402,
    "start_time": "2025-03-13T19:11:33.894Z"
   },
   {
    "duration": 252,
    "start_time": "2025-03-13T19:11:34.297Z"
   },
   {
    "duration": 59,
    "start_time": "2025-03-13T19:11:34.551Z"
   },
   {
    "duration": 107,
    "start_time": "2025-03-13T19:14:17.926Z"
   },
   {
    "duration": 14,
    "start_time": "2025-03-13T19:15:46.018Z"
   },
   {
    "duration": 10,
    "start_time": "2025-03-13T19:18:14.103Z"
   },
   {
    "duration": 14,
    "start_time": "2025-03-13T19:20:02.096Z"
   },
   {
    "duration": 12,
    "start_time": "2025-03-13T19:21:12.312Z"
   },
   {
    "duration": 15,
    "start_time": "2025-03-13T19:22:18.805Z"
   },
   {
    "duration": 1223,
    "start_time": "2025-03-13T19:23:22.950Z"
   },
   {
    "duration": 1213,
    "start_time": "2025-03-13T19:24:01.626Z"
   },
   {
    "duration": 46,
    "start_time": "2025-03-14T16:41:19.778Z"
   },
   {
    "duration": 6,
    "start_time": "2025-03-14T16:41:33.872Z"
   },
   {
    "duration": 6,
    "start_time": "2025-03-14T16:47:45.635Z"
   },
   {
    "duration": 1265,
    "start_time": "2025-03-14T16:47:58.106Z"
   },
   {
    "duration": 1046,
    "start_time": "2025-03-14T16:47:59.373Z"
   },
   {
    "duration": 16,
    "start_time": "2025-03-14T16:48:00.420Z"
   },
   {
    "duration": 241,
    "start_time": "2025-03-14T16:48:00.438Z"
   },
   {
    "duration": 137,
    "start_time": "2025-03-14T16:48:00.681Z"
   },
   {
    "duration": 135,
    "start_time": "2025-03-14T16:48:00.820Z"
   },
   {
    "duration": 119,
    "start_time": "2025-03-14T16:48:00.957Z"
   },
   {
    "duration": 218,
    "start_time": "2025-03-14T16:48:01.077Z"
   },
   {
    "duration": 309,
    "start_time": "2025-03-14T16:48:01.297Z"
   },
   {
    "duration": 3,
    "start_time": "2025-03-14T16:48:01.609Z"
   },
   {
    "duration": 237,
    "start_time": "2025-03-14T16:48:01.613Z"
   },
   {
    "duration": 6,
    "start_time": "2025-03-14T16:48:01.851Z"
   },
   {
    "duration": 368,
    "start_time": "2025-03-14T16:48:01.859Z"
   },
   {
    "duration": 18,
    "start_time": "2025-03-14T16:48:02.229Z"
   },
   {
    "duration": 4,
    "start_time": "2025-03-14T16:48:02.248Z"
   },
   {
    "duration": 43,
    "start_time": "2025-03-14T16:48:02.253Z"
   },
   {
    "duration": 114,
    "start_time": "2025-03-14T16:48:02.298Z"
   },
   {
    "duration": 8,
    "start_time": "2025-03-14T16:48:02.414Z"
   },
   {
    "duration": 385,
    "start_time": "2025-03-14T16:48:02.423Z"
   },
   {
    "duration": 284,
    "start_time": "2025-03-14T16:48:02.809Z"
   },
   {
    "duration": 241,
    "start_time": "2025-03-14T16:48:03.094Z"
   },
   {
    "duration": 45,
    "start_time": "2025-03-14T16:48:03.337Z"
   },
   {
    "duration": 111,
    "start_time": "2025-03-14T16:48:03.384Z"
   },
   {
    "duration": 0,
    "start_time": "2025-03-14T16:48:03.497Z"
   },
   {
    "duration": 12,
    "start_time": "2025-03-14T16:49:28.961Z"
   },
   {
    "duration": 11,
    "start_time": "2025-03-14T16:51:26.138Z"
   },
   {
    "duration": 13,
    "start_time": "2025-03-14T16:55:16.791Z"
   },
   {
    "duration": 3,
    "start_time": "2025-03-14T17:02:06.920Z"
   },
   {
    "duration": 10,
    "start_time": "2025-03-14T17:02:33.370Z"
   },
   {
    "duration": 766,
    "start_time": "2025-03-14T17:04:49.889Z"
   },
   {
    "duration": 1063,
    "start_time": "2025-03-14T17:05:12.439Z"
   },
   {
    "duration": 694,
    "start_time": "2025-03-14T17:06:13.518Z"
   },
   {
    "duration": 1099,
    "start_time": "2025-03-14T17:06:32.715Z"
   },
   {
    "duration": 794,
    "start_time": "2025-03-14T17:07:11.293Z"
   },
   {
    "duration": 695,
    "start_time": "2025-03-14T17:07:33.863Z"
   },
   {
    "duration": 681,
    "start_time": "2025-03-14T17:07:49.319Z"
   },
   {
    "duration": 4,
    "start_time": "2025-03-14T18:08:36.496Z"
   },
   {
    "duration": 4,
    "start_time": "2025-03-14T18:08:46.948Z"
   },
   {
    "duration": 758,
    "start_time": "2025-03-14T18:09:02.456Z"
   },
   {
    "duration": 6,
    "start_time": "2025-03-14T18:09:03.229Z"
   },
   {
    "duration": 800,
    "start_time": "2025-03-14T18:11:14.542Z"
   },
   {
    "duration": 789,
    "start_time": "2025-03-14T18:11:59.366Z"
   },
   {
    "duration": 743,
    "start_time": "2025-03-14T18:13:30.938Z"
   },
   {
    "duration": 1739,
    "start_time": "2025-03-14T18:13:53.232Z"
   },
   {
    "duration": 755,
    "start_time": "2025-03-14T18:14:34.652Z"
   },
   {
    "duration": 747,
    "start_time": "2025-03-14T18:14:51.152Z"
   },
   {
    "duration": 843,
    "start_time": "2025-03-14T18:15:33.117Z"
   },
   {
    "duration": 750,
    "start_time": "2025-03-14T18:16:52.551Z"
   },
   {
    "duration": 778,
    "start_time": "2025-03-14T18:17:04.175Z"
   },
   {
    "duration": 689,
    "start_time": "2025-03-14T18:17:17.755Z"
   },
   {
    "duration": 767,
    "start_time": "2025-03-14T18:17:43.387Z"
   },
   {
    "duration": 70,
    "start_time": "2025-03-14T18:18:02.691Z"
   },
   {
    "duration": 6,
    "start_time": "2025-03-14T18:18:13.704Z"
   },
   {
    "duration": 748,
    "start_time": "2025-03-14T18:24:14.441Z"
   },
   {
    "duration": 777,
    "start_time": "2025-03-14T18:24:49.589Z"
   },
   {
    "duration": 728,
    "start_time": "2025-03-14T18:25:39.435Z"
   },
   {
    "duration": 758,
    "start_time": "2025-03-14T18:26:33.017Z"
   },
   {
    "duration": 757,
    "start_time": "2025-03-14T18:26:52.693Z"
   },
   {
    "duration": 756,
    "start_time": "2025-03-14T18:28:38.376Z"
   },
   {
    "duration": 771,
    "start_time": "2025-03-14T18:29:45.288Z"
   },
   {
    "duration": 765,
    "start_time": "2025-03-14T18:31:54.272Z"
   },
   {
    "duration": 774,
    "start_time": "2025-03-14T18:32:12.433Z"
   },
   {
    "duration": 732,
    "start_time": "2025-03-14T18:32:31.437Z"
   },
   {
    "duration": 798,
    "start_time": "2025-03-14T18:33:55.017Z"
   },
   {
    "duration": 1032,
    "start_time": "2025-03-14T18:34:12.520Z"
   },
   {
    "duration": 5,
    "start_time": "2025-03-14T18:34:44.866Z"
   },
   {
    "duration": 56,
    "start_time": "2025-03-14T18:35:07.193Z"
   },
   {
    "duration": 686,
    "start_time": "2025-03-14T19:13:24.597Z"
   },
   {
    "duration": 47,
    "start_time": "2025-03-14T19:13:32.207Z"
   },
   {
    "duration": 5,
    "start_time": "2025-03-14T19:18:10.797Z"
   },
   {
    "duration": 42,
    "start_time": "2025-03-14T19:18:46.092Z"
   },
   {
    "duration": 42,
    "start_time": "2025-03-14T19:19:50.741Z"
   },
   {
    "duration": 344,
    "start_time": "2025-03-14T19:20:18.635Z"
   },
   {
    "duration": 102,
    "start_time": "2025-03-14T19:20:42.635Z"
   },
   {
    "duration": 161,
    "start_time": "2025-03-14T19:20:53.605Z"
   },
   {
    "duration": 119,
    "start_time": "2025-03-14T19:21:56.898Z"
   },
   {
    "duration": 113,
    "start_time": "2025-03-14T19:23:11.964Z"
   },
   {
    "duration": 117,
    "start_time": "2025-03-14T19:23:44.568Z"
   },
   {
    "duration": 131,
    "start_time": "2025-03-14T19:24:30.894Z"
   },
   {
    "duration": 143,
    "start_time": "2025-03-14T19:25:02.878Z"
   },
   {
    "duration": 125,
    "start_time": "2025-03-14T19:28:07.098Z"
   },
   {
    "duration": 9,
    "start_time": "2025-03-14T19:28:39.320Z"
   },
   {
    "duration": 9,
    "start_time": "2025-03-14T19:29:37.664Z"
   },
   {
    "duration": 9,
    "start_time": "2025-03-14T19:30:48.963Z"
   },
   {
    "duration": 11,
    "start_time": "2025-03-14T19:35:17.950Z"
   },
   {
    "duration": 1101,
    "start_time": "2025-03-14T19:35:48.799Z"
   },
   {
    "duration": 1108,
    "start_time": "2025-03-14T19:36:32.315Z"
   },
   {
    "duration": 1095,
    "start_time": "2025-03-14T19:37:31.765Z"
   },
   {
    "duration": 1035,
    "start_time": "2025-03-14T19:37:32.862Z"
   },
   {
    "duration": 21,
    "start_time": "2025-03-14T19:37:33.898Z"
   },
   {
    "duration": 220,
    "start_time": "2025-03-14T19:37:33.921Z"
   },
   {
    "duration": 130,
    "start_time": "2025-03-14T19:37:34.142Z"
   },
   {
    "duration": 111,
    "start_time": "2025-03-14T19:37:34.274Z"
   },
   {
    "duration": 124,
    "start_time": "2025-03-14T19:37:34.386Z"
   },
   {
    "duration": 167,
    "start_time": "2025-03-14T19:37:34.512Z"
   },
   {
    "duration": 306,
    "start_time": "2025-03-14T19:37:34.681Z"
   },
   {
    "duration": 3,
    "start_time": "2025-03-14T19:37:34.990Z"
   },
   {
    "duration": 211,
    "start_time": "2025-03-14T19:37:35.007Z"
   },
   {
    "duration": 6,
    "start_time": "2025-03-14T19:37:35.219Z"
   },
   {
    "duration": 352,
    "start_time": "2025-03-14T19:37:35.226Z"
   },
   {
    "duration": 32,
    "start_time": "2025-03-14T19:37:35.579Z"
   },
   {
    "duration": 4,
    "start_time": "2025-03-14T19:37:35.612Z"
   },
   {
    "duration": 47,
    "start_time": "2025-03-14T19:37:35.617Z"
   },
   {
    "duration": 113,
    "start_time": "2025-03-14T19:37:35.666Z"
   },
   {
    "duration": 8,
    "start_time": "2025-03-14T19:37:35.781Z"
   },
   {
    "duration": 360,
    "start_time": "2025-03-14T19:37:35.790Z"
   },
   {
    "duration": 332,
    "start_time": "2025-03-14T19:37:36.152Z"
   },
   {
    "duration": 247,
    "start_time": "2025-03-14T19:37:36.486Z"
   },
   {
    "duration": 47,
    "start_time": "2025-03-14T19:37:36.734Z"
   },
   {
    "duration": 114,
    "start_time": "2025-03-14T19:37:36.783Z"
   },
   {
    "duration": 0,
    "start_time": "2025-03-14T19:37:36.898Z"
   },
   {
    "duration": 1123,
    "start_time": "2025-03-14T19:38:25.881Z"
   },
   {
    "duration": 10,
    "start_time": "2025-03-14T19:38:42.311Z"
   },
   {
    "duration": 1389,
    "start_time": "2025-03-15T18:32:56.406Z"
   },
   {
    "duration": 1106,
    "start_time": "2025-03-15T18:32:57.797Z"
   },
   {
    "duration": 17,
    "start_time": "2025-03-15T18:32:58.905Z"
   },
   {
    "duration": 242,
    "start_time": "2025-03-15T18:32:58.924Z"
   },
   {
    "duration": 154,
    "start_time": "2025-03-15T18:32:59.168Z"
   },
   {
    "duration": 124,
    "start_time": "2025-03-15T18:32:59.323Z"
   },
   {
    "duration": 122,
    "start_time": "2025-03-15T18:32:59.449Z"
   },
   {
    "duration": 220,
    "start_time": "2025-03-15T18:32:59.572Z"
   },
   {
    "duration": 360,
    "start_time": "2025-03-15T18:32:59.794Z"
   },
   {
    "duration": 3,
    "start_time": "2025-03-15T18:33:00.157Z"
   },
   {
    "duration": 258,
    "start_time": "2025-03-15T18:33:00.161Z"
   },
   {
    "duration": 6,
    "start_time": "2025-03-15T18:33:00.421Z"
   },
   {
    "duration": 415,
    "start_time": "2025-03-15T18:33:00.428Z"
   },
   {
    "duration": 19,
    "start_time": "2025-03-15T18:33:00.845Z"
   },
   {
    "duration": 18,
    "start_time": "2025-03-15T18:33:00.866Z"
   },
   {
    "duration": 38,
    "start_time": "2025-03-15T18:33:00.885Z"
   },
   {
    "duration": 121,
    "start_time": "2025-03-15T18:33:00.925Z"
   },
   {
    "duration": 9,
    "start_time": "2025-03-15T18:33:01.049Z"
   },
   {
    "duration": 384,
    "start_time": "2025-03-15T18:33:01.060Z"
   },
   {
    "duration": 345,
    "start_time": "2025-03-15T18:33:01.446Z"
   },
   {
    "duration": 261,
    "start_time": "2025-03-15T18:33:01.793Z"
   },
   {
    "duration": 53,
    "start_time": "2025-03-15T18:33:02.056Z"
   },
   {
    "duration": 106,
    "start_time": "2025-03-15T18:33:02.111Z"
   },
   {
    "duration": 0,
    "start_time": "2025-03-15T18:33:02.218Z"
   },
   {
    "duration": 1541,
    "start_time": "2025-03-15T18:53:10.567Z"
   },
   {
    "duration": 1316,
    "start_time": "2025-03-15T18:53:18.917Z"
   },
   {
    "duration": 308,
    "start_time": "2025-03-15T18:53:50.875Z"
   },
   {
    "duration": 49,
    "start_time": "2025-03-15T18:54:08.154Z"
   },
   {
    "duration": 12,
    "start_time": "2025-03-15T18:54:10.008Z"
   },
   {
    "duration": 64,
    "start_time": "2025-03-15T18:57:30.542Z"
   },
   {
    "duration": 60,
    "start_time": "2025-03-15T18:58:04.620Z"
   },
   {
    "duration": 11,
    "start_time": "2025-03-15T18:59:45.198Z"
   },
   {
    "duration": 1142,
    "start_time": "2025-03-15T18:59:50.135Z"
   },
   {
    "duration": 1178,
    "start_time": "2025-03-15T18:59:51.279Z"
   },
   {
    "duration": 18,
    "start_time": "2025-03-15T18:59:52.459Z"
   },
   {
    "duration": 260,
    "start_time": "2025-03-15T18:59:52.480Z"
   },
   {
    "duration": 148,
    "start_time": "2025-03-15T18:59:52.741Z"
   },
   {
    "duration": 119,
    "start_time": "2025-03-15T18:59:52.891Z"
   },
   {
    "duration": 126,
    "start_time": "2025-03-15T18:59:53.012Z"
   },
   {
    "duration": 195,
    "start_time": "2025-03-15T18:59:53.141Z"
   },
   {
    "duration": 339,
    "start_time": "2025-03-15T18:59:53.338Z"
   },
   {
    "duration": 4,
    "start_time": "2025-03-15T18:59:53.680Z"
   },
   {
    "duration": 252,
    "start_time": "2025-03-15T18:59:53.685Z"
   },
   {
    "duration": 7,
    "start_time": "2025-03-15T18:59:53.939Z"
   },
   {
    "duration": 378,
    "start_time": "2025-03-15T18:59:53.947Z"
   },
   {
    "duration": 18,
    "start_time": "2025-03-15T18:59:54.327Z"
   },
   {
    "duration": 4,
    "start_time": "2025-03-15T18:59:54.347Z"
   },
   {
    "duration": 30,
    "start_time": "2025-03-15T18:59:54.352Z"
   },
   {
    "duration": 139,
    "start_time": "2025-03-15T18:59:54.383Z"
   },
   {
    "duration": 8,
    "start_time": "2025-03-15T18:59:54.524Z"
   },
   {
    "duration": 385,
    "start_time": "2025-03-15T18:59:54.533Z"
   },
   {
    "duration": 315,
    "start_time": "2025-03-15T18:59:54.920Z"
   },
   {
    "duration": 294,
    "start_time": "2025-03-15T18:59:55.236Z"
   },
   {
    "duration": 57,
    "start_time": "2025-03-15T18:59:55.532Z"
   },
   {
    "duration": 72,
    "start_time": "2025-03-15T18:59:55.590Z"
   },
   {
    "duration": 122,
    "start_time": "2025-03-15T18:59:55.664Z"
   },
   {
    "duration": 86,
    "start_time": "2025-03-15T19:03:11.427Z"
   },
   {
    "duration": 1170,
    "start_time": "2025-03-15T19:08:31.837Z"
   },
   {
    "duration": 15,
    "start_time": "2025-03-15T19:09:22.793Z"
   },
   {
    "duration": 1204,
    "start_time": "2025-03-15T19:10:47.377Z"
   },
   {
    "duration": 1111,
    "start_time": "2025-03-15T19:10:48.583Z"
   },
   {
    "duration": 21,
    "start_time": "2025-03-15T19:10:49.696Z"
   },
   {
    "duration": 256,
    "start_time": "2025-03-15T19:10:49.719Z"
   },
   {
    "duration": 157,
    "start_time": "2025-03-15T19:10:49.977Z"
   },
   {
    "duration": 122,
    "start_time": "2025-03-15T19:10:50.136Z"
   },
   {
    "duration": 155,
    "start_time": "2025-03-15T19:10:50.260Z"
   },
   {
    "duration": 213,
    "start_time": "2025-03-15T19:10:50.417Z"
   },
   {
    "duration": 362,
    "start_time": "2025-03-15T19:10:50.632Z"
   },
   {
    "duration": 4,
    "start_time": "2025-03-15T19:10:51.004Z"
   },
   {
    "duration": 244,
    "start_time": "2025-03-15T19:10:51.011Z"
   },
   {
    "duration": 9,
    "start_time": "2025-03-15T19:10:51.257Z"
   },
   {
    "duration": 364,
    "start_time": "2025-03-15T19:10:51.268Z"
   },
   {
    "duration": 21,
    "start_time": "2025-03-15T19:10:51.635Z"
   },
   {
    "duration": 5,
    "start_time": "2025-03-15T19:10:51.657Z"
   },
   {
    "duration": 46,
    "start_time": "2025-03-15T19:10:51.664Z"
   },
   {
    "duration": 132,
    "start_time": "2025-03-15T19:10:51.712Z"
   },
   {
    "duration": 9,
    "start_time": "2025-03-15T19:10:51.846Z"
   },
   {
    "duration": 388,
    "start_time": "2025-03-15T19:10:51.856Z"
   },
   {
    "duration": 352,
    "start_time": "2025-03-15T19:10:52.246Z"
   },
   {
    "duration": 293,
    "start_time": "2025-03-15T19:10:52.603Z"
   },
   {
    "duration": 48,
    "start_time": "2025-03-15T19:10:52.898Z"
   },
   {
    "duration": 77,
    "start_time": "2025-03-15T19:10:52.948Z"
   },
   {
    "duration": 1286,
    "start_time": "2025-03-15T19:10:53.027Z"
   },
   {
    "duration": 1272,
    "start_time": "2025-03-16T16:06:02.976Z"
   },
   {
    "duration": 1189,
    "start_time": "2025-03-16T16:06:04.250Z"
   },
   {
    "duration": 15,
    "start_time": "2025-03-16T16:06:05.440Z"
   },
   {
    "duration": 338,
    "start_time": "2025-03-16T16:06:05.457Z"
   },
   {
    "duration": 136,
    "start_time": "2025-03-16T16:06:05.796Z"
   },
   {
    "duration": 109,
    "start_time": "2025-03-16T16:06:05.933Z"
   },
   {
    "duration": 162,
    "start_time": "2025-03-16T16:06:06.044Z"
   },
   {
    "duration": 358,
    "start_time": "2025-03-16T16:06:06.208Z"
   },
   {
    "duration": 312,
    "start_time": "2025-03-16T16:06:06.568Z"
   },
   {
    "duration": 4,
    "start_time": "2025-03-16T16:06:06.882Z"
   },
   {
    "duration": 241,
    "start_time": "2025-03-16T16:06:06.887Z"
   },
   {
    "duration": 6,
    "start_time": "2025-03-16T16:06:07.130Z"
   },
   {
    "duration": 409,
    "start_time": "2025-03-16T16:06:07.137Z"
   },
   {
    "duration": 23,
    "start_time": "2025-03-16T16:06:07.547Z"
   },
   {
    "duration": 4,
    "start_time": "2025-03-16T16:06:07.571Z"
   },
   {
    "duration": 151,
    "start_time": "2025-03-16T16:06:07.577Z"
   },
   {
    "duration": 116,
    "start_time": "2025-03-16T16:06:07.730Z"
   },
   {
    "duration": 17,
    "start_time": "2025-03-16T16:06:07.848Z"
   },
   {
    "duration": 401,
    "start_time": "2025-03-16T16:06:07.867Z"
   },
   {
    "duration": 294,
    "start_time": "2025-03-16T16:06:08.270Z"
   },
   {
    "duration": 277,
    "start_time": "2025-03-16T16:06:08.566Z"
   },
   {
    "duration": 47,
    "start_time": "2025-03-16T16:06:08.845Z"
   },
   {
    "duration": 68,
    "start_time": "2025-03-16T16:06:08.894Z"
   },
   {
    "duration": 1220,
    "start_time": "2025-03-16T16:06:08.964Z"
   },
   {
    "duration": 1091,
    "start_time": "2025-03-16T16:08:26.338Z"
   },
   {
    "duration": 1113,
    "start_time": "2025-03-16T16:08:42.508Z"
   },
   {
    "duration": 1028,
    "start_time": "2025-03-16T16:08:43.623Z"
   },
   {
    "duration": 16,
    "start_time": "2025-03-16T16:08:44.652Z"
   },
   {
    "duration": 207,
    "start_time": "2025-03-16T16:08:44.669Z"
   },
   {
    "duration": 144,
    "start_time": "2025-03-16T16:08:44.877Z"
   },
   {
    "duration": 107,
    "start_time": "2025-03-16T16:08:45.023Z"
   },
   {
    "duration": 120,
    "start_time": "2025-03-16T16:08:45.132Z"
   },
   {
    "duration": 181,
    "start_time": "2025-03-16T16:08:45.262Z"
   },
   {
    "duration": 333,
    "start_time": "2025-03-16T16:08:45.445Z"
   },
   {
    "duration": 5,
    "start_time": "2025-03-16T16:08:45.781Z"
   },
   {
    "duration": 244,
    "start_time": "2025-03-16T16:08:45.788Z"
   },
   {
    "duration": 6,
    "start_time": "2025-03-16T16:08:46.034Z"
   },
   {
    "duration": 368,
    "start_time": "2025-03-16T16:08:46.042Z"
   },
   {
    "duration": 19,
    "start_time": "2025-03-16T16:08:46.411Z"
   },
   {
    "duration": 4,
    "start_time": "2025-03-16T16:08:46.432Z"
   },
   {
    "duration": 51,
    "start_time": "2025-03-16T16:08:46.438Z"
   },
   {
    "duration": 116,
    "start_time": "2025-03-16T16:08:46.490Z"
   },
   {
    "duration": 8,
    "start_time": "2025-03-16T16:08:46.608Z"
   },
   {
    "duration": 359,
    "start_time": "2025-03-16T16:08:46.617Z"
   },
   {
    "duration": 287,
    "start_time": "2025-03-16T16:08:46.978Z"
   },
   {
    "duration": 305,
    "start_time": "2025-03-16T16:08:47.267Z"
   },
   {
    "duration": 46,
    "start_time": "2025-03-16T16:08:47.573Z"
   },
   {
    "duration": 77,
    "start_time": "2025-03-16T16:08:47.621Z"
   },
   {
    "duration": 174,
    "start_time": "2025-03-16T16:08:47.700Z"
   },
   {
    "duration": 1170,
    "start_time": "2025-03-16T16:12:52.371Z"
   },
   {
    "duration": 1079,
    "start_time": "2025-03-16T16:13:05.810Z"
   },
   {
    "duration": 89,
    "start_time": "2025-03-16T16:16:48.312Z"
   },
   {
    "duration": 87,
    "start_time": "2025-03-16T16:33:46.758Z"
   },
   {
    "duration": 109,
    "start_time": "2025-03-16T16:40:00.307Z"
   },
   {
    "duration": 80,
    "start_time": "2025-03-16T16:41:06.891Z"
   },
   {
    "duration": 82,
    "start_time": "2025-03-16T16:42:01.018Z"
   },
   {
    "duration": 5,
    "start_time": "2025-03-16T16:42:30.586Z"
   },
   {
    "duration": 13,
    "start_time": "2025-03-16T16:43:36.520Z"
   },
   {
    "duration": 11,
    "start_time": "2025-03-16T16:44:24.663Z"
   },
   {
    "duration": 12,
    "start_time": "2025-03-16T16:45:14.901Z"
   },
   {
    "duration": 1104,
    "start_time": "2025-03-16T16:45:24.623Z"
   },
   {
    "duration": 1041,
    "start_time": "2025-03-16T16:45:25.730Z"
   },
   {
    "duration": 16,
    "start_time": "2025-03-16T16:45:26.773Z"
   },
   {
    "duration": 236,
    "start_time": "2025-03-16T16:45:26.791Z"
   },
   {
    "duration": 149,
    "start_time": "2025-03-16T16:45:27.029Z"
   },
   {
    "duration": 130,
    "start_time": "2025-03-16T16:45:27.180Z"
   },
   {
    "duration": 133,
    "start_time": "2025-03-16T16:45:27.312Z"
   },
   {
    "duration": 224,
    "start_time": "2025-03-16T16:45:27.449Z"
   },
   {
    "duration": 326,
    "start_time": "2025-03-16T16:45:27.675Z"
   },
   {
    "duration": 4,
    "start_time": "2025-03-16T16:45:28.003Z"
   },
   {
    "duration": 239,
    "start_time": "2025-03-16T16:45:28.009Z"
   },
   {
    "duration": 15,
    "start_time": "2025-03-16T16:45:28.249Z"
   },
   {
    "duration": 389,
    "start_time": "2025-03-16T16:45:28.265Z"
   },
   {
    "duration": 24,
    "start_time": "2025-03-16T16:45:28.655Z"
   },
   {
    "duration": 4,
    "start_time": "2025-03-16T16:45:28.680Z"
   },
   {
    "duration": 33,
    "start_time": "2025-03-16T16:45:28.686Z"
   },
   {
    "duration": 127,
    "start_time": "2025-03-16T16:45:28.720Z"
   },
   {
    "duration": 18,
    "start_time": "2025-03-16T16:45:28.849Z"
   },
   {
    "duration": 394,
    "start_time": "2025-03-16T16:45:28.868Z"
   },
   {
    "duration": 303,
    "start_time": "2025-03-16T16:45:29.264Z"
   },
   {
    "duration": 285,
    "start_time": "2025-03-16T16:45:29.569Z"
   },
   {
    "duration": 45,
    "start_time": "2025-03-16T16:45:29.855Z"
   },
   {
    "duration": 72,
    "start_time": "2025-03-16T16:45:29.902Z"
   },
   {
    "duration": 172,
    "start_time": "2025-03-16T16:45:29.976Z"
   },
   {
    "duration": 84,
    "start_time": "2025-03-16T16:54:28.227Z"
   },
   {
    "duration": 75,
    "start_time": "2025-03-16T16:54:46.387Z"
   },
   {
    "duration": 85,
    "start_time": "2025-03-16T16:54:59.724Z"
   },
   {
    "duration": 151,
    "start_time": "2025-03-16T16:55:14.620Z"
   },
   {
    "duration": 105,
    "start_time": "2025-03-16T16:58:16.988Z"
   },
   {
    "duration": 108,
    "start_time": "2025-03-16T16:58:33.744Z"
   },
   {
    "duration": 102,
    "start_time": "2025-03-16T16:58:47.870Z"
   },
   {
    "duration": 119,
    "start_time": "2025-03-16T16:59:17.654Z"
   },
   {
    "duration": 78,
    "start_time": "2025-03-16T17:01:10.697Z"
   },
   {
    "duration": 1177,
    "start_time": "2025-03-16T17:01:17.389Z"
   },
   {
    "duration": 1110,
    "start_time": "2025-03-16T17:01:18.569Z"
   },
   {
    "duration": 17,
    "start_time": "2025-03-16T17:01:19.681Z"
   },
   {
    "duration": 294,
    "start_time": "2025-03-16T17:01:19.701Z"
   },
   {
    "duration": 155,
    "start_time": "2025-03-16T17:01:19.997Z"
   },
   {
    "duration": 106,
    "start_time": "2025-03-16T17:01:20.162Z"
   },
   {
    "duration": 129,
    "start_time": "2025-03-16T17:01:20.270Z"
   },
   {
    "duration": 211,
    "start_time": "2025-03-16T17:01:20.400Z"
   },
   {
    "duration": 352,
    "start_time": "2025-03-16T17:01:20.614Z"
   },
   {
    "duration": 5,
    "start_time": "2025-03-16T17:01:20.970Z"
   },
   {
    "duration": 252,
    "start_time": "2025-03-16T17:01:20.977Z"
   },
   {
    "duration": 8,
    "start_time": "2025-03-16T17:01:21.230Z"
   },
   {
    "duration": 370,
    "start_time": "2025-03-16T17:01:21.239Z"
   },
   {
    "duration": 18,
    "start_time": "2025-03-16T17:01:21.611Z"
   },
   {
    "duration": 113,
    "start_time": "2025-03-16T17:01:21.632Z"
   },
   {
    "duration": 55,
    "start_time": "2025-03-16T17:01:21.747Z"
   },
   {
    "duration": 190,
    "start_time": "2025-03-16T17:01:21.804Z"
   },
   {
    "duration": 9,
    "start_time": "2025-03-16T17:01:21.996Z"
   },
   {
    "duration": 394,
    "start_time": "2025-03-16T17:01:22.007Z"
   },
   {
    "duration": 372,
    "start_time": "2025-03-16T17:01:22.402Z"
   },
   {
    "duration": 300,
    "start_time": "2025-03-16T17:01:22.776Z"
   },
   {
    "duration": 53,
    "start_time": "2025-03-16T17:01:23.079Z"
   },
   {
    "duration": 82,
    "start_time": "2025-03-16T17:01:23.134Z"
   },
   {
    "duration": 124,
    "start_time": "2025-03-16T17:01:23.218Z"
   },
   {
    "duration": 78,
    "start_time": "2025-03-16T17:02:20.139Z"
   },
   {
    "duration": 61,
    "start_time": "2025-03-16T17:03:14.120Z"
   },
   {
    "duration": 1091,
    "start_time": "2025-03-17T11:10:54.744Z"
   },
   {
    "duration": 1014,
    "start_time": "2025-03-17T11:10:55.837Z"
   },
   {
    "duration": 16,
    "start_time": "2025-03-17T11:10:56.852Z"
   },
   {
    "duration": 267,
    "start_time": "2025-03-17T11:10:56.869Z"
   },
   {
    "duration": 167,
    "start_time": "2025-03-17T11:10:57.140Z"
   },
   {
    "duration": 115,
    "start_time": "2025-03-17T11:10:57.309Z"
   },
   {
    "duration": 117,
    "start_time": "2025-03-17T11:10:57.426Z"
   },
   {
    "duration": 168,
    "start_time": "2025-03-17T11:10:57.545Z"
   },
   {
    "duration": 447,
    "start_time": "2025-03-17T11:10:57.715Z"
   },
   {
    "duration": 3,
    "start_time": "2025-03-17T11:10:58.164Z"
   },
   {
    "duration": 479,
    "start_time": "2025-03-17T11:10:58.169Z"
   },
   {
    "duration": 6,
    "start_time": "2025-03-17T11:10:58.650Z"
   },
   {
    "duration": 690,
    "start_time": "2025-03-17T11:10:58.657Z"
   },
   {
    "duration": 18,
    "start_time": "2025-03-17T11:10:59.350Z"
   },
   {
    "duration": 3,
    "start_time": "2025-03-17T11:10:59.370Z"
   },
   {
    "duration": 81,
    "start_time": "2025-03-17T11:10:59.375Z"
   },
   {
    "duration": 128,
    "start_time": "2025-03-17T11:10:59.458Z"
   },
   {
    "duration": 8,
    "start_time": "2025-03-17T11:10:59.588Z"
   },
   {
    "duration": 376,
    "start_time": "2025-03-17T11:10:59.598Z"
   },
   {
    "duration": 337,
    "start_time": "2025-03-17T11:10:59.976Z"
   },
   {
    "duration": 272,
    "start_time": "2025-03-17T11:11:00.315Z"
   },
   {
    "duration": 51,
    "start_time": "2025-03-17T11:11:00.589Z"
   },
   {
    "duration": 61,
    "start_time": "2025-03-17T11:11:00.641Z"
   },
   {
    "duration": 78,
    "start_time": "2025-03-17T11:11:00.704Z"
   },
   {
    "duration": 3,
    "start_time": "2025-03-17T11:15:48.516Z"
   },
   {
    "duration": 1146,
    "start_time": "2025-03-17T11:15:57.758Z"
   },
   {
    "duration": 1036,
    "start_time": "2025-03-17T11:15:58.906Z"
   },
   {
    "duration": 14,
    "start_time": "2025-03-17T11:15:59.944Z"
   },
   {
    "duration": 281,
    "start_time": "2025-03-17T11:15:59.960Z"
   },
   {
    "duration": 307,
    "start_time": "2025-03-17T11:16:00.243Z"
   },
   {
    "duration": 229,
    "start_time": "2025-03-17T11:16:00.553Z"
   },
   {
    "duration": 352,
    "start_time": "2025-03-17T11:16:00.783Z"
   },
   {
    "duration": 321,
    "start_time": "2025-03-17T11:16:01.137Z"
   },
   {
    "duration": 314,
    "start_time": "2025-03-17T11:16:01.459Z"
   },
   {
    "duration": 4,
    "start_time": "2025-03-17T11:16:01.776Z"
   },
   {
    "duration": 222,
    "start_time": "2025-03-17T11:16:01.781Z"
   },
   {
    "duration": 7,
    "start_time": "2025-03-17T11:16:02.004Z"
   },
   {
    "duration": 328,
    "start_time": "2025-03-17T11:16:02.012Z"
   },
   {
    "duration": 17,
    "start_time": "2025-03-17T11:16:02.341Z"
   },
   {
    "duration": 158,
    "start_time": "2025-03-17T11:16:02.360Z"
   },
   {
    "duration": 0,
    "start_time": "2025-03-17T11:16:02.519Z"
   },
   {
    "duration": 0,
    "start_time": "2025-03-17T11:16:02.521Z"
   },
   {
    "duration": 0,
    "start_time": "2025-03-17T11:16:02.522Z"
   },
   {
    "duration": 0,
    "start_time": "2025-03-17T11:16:02.523Z"
   },
   {
    "duration": 0,
    "start_time": "2025-03-17T11:16:02.524Z"
   },
   {
    "duration": 0,
    "start_time": "2025-03-17T11:16:02.525Z"
   },
   {
    "duration": 0,
    "start_time": "2025-03-17T11:16:02.526Z"
   },
   {
    "duration": 0,
    "start_time": "2025-03-17T11:16:02.536Z"
   },
   {
    "duration": 0,
    "start_time": "2025-03-17T11:16:02.536Z"
   },
   {
    "duration": 3,
    "start_time": "2025-03-17T11:17:35.427Z"
   },
   {
    "duration": 1080,
    "start_time": "2025-03-17T11:18:43.124Z"
   },
   {
    "duration": 954,
    "start_time": "2025-03-17T11:18:44.206Z"
   },
   {
    "duration": 16,
    "start_time": "2025-03-17T11:18:45.162Z"
   },
   {
    "duration": 212,
    "start_time": "2025-03-17T11:18:45.180Z"
   },
   {
    "duration": 144,
    "start_time": "2025-03-17T11:18:45.394Z"
   },
   {
    "duration": 106,
    "start_time": "2025-03-17T11:18:45.540Z"
   },
   {
    "duration": 116,
    "start_time": "2025-03-17T11:18:45.648Z"
   },
   {
    "duration": 165,
    "start_time": "2025-03-17T11:18:45.765Z"
   },
   {
    "duration": 303,
    "start_time": "2025-03-17T11:18:45.935Z"
   },
   {
    "duration": 3,
    "start_time": "2025-03-17T11:18:46.241Z"
   },
   {
    "duration": 222,
    "start_time": "2025-03-17T11:18:46.246Z"
   },
   {
    "duration": 7,
    "start_time": "2025-03-17T11:18:46.470Z"
   },
   {
    "duration": 425,
    "start_time": "2025-03-17T11:18:46.479Z"
   },
   {
    "duration": 33,
    "start_time": "2025-03-17T11:18:46.907Z"
   },
   {
    "duration": 3,
    "start_time": "2025-03-17T11:18:46.942Z"
   },
   {
    "duration": 28,
    "start_time": "2025-03-17T11:18:46.947Z"
   },
   {
    "duration": 123,
    "start_time": "2025-03-17T11:18:46.977Z"
   },
   {
    "duration": 9,
    "start_time": "2025-03-17T11:18:47.103Z"
   },
   {
    "duration": 360,
    "start_time": "2025-03-17T11:18:47.113Z"
   },
   {
    "duration": 328,
    "start_time": "2025-03-17T11:18:47.475Z"
   },
   {
    "duration": 257,
    "start_time": "2025-03-17T11:18:47.804Z"
   },
   {
    "duration": 43,
    "start_time": "2025-03-17T11:18:48.062Z"
   },
   {
    "duration": 112,
    "start_time": "2025-03-17T11:18:48.106Z"
   },
   {
    "duration": 60,
    "start_time": "2025-03-17T11:18:48.220Z"
   },
   {
    "duration": 5,
    "start_time": "2025-03-17T11:22:59.568Z"
   },
   {
    "duration": 30,
    "start_time": "2025-03-17T11:23:20.640Z"
   },
   {
    "duration": 55,
    "start_time": "2025-03-17T11:24:32.501Z"
   },
   {
    "duration": 53,
    "start_time": "2025-03-17T11:25:15.372Z"
   },
   {
    "duration": 53,
    "start_time": "2025-03-17T11:25:22.389Z"
   },
   {
    "duration": 107,
    "start_time": "2025-03-17T11:26:02.478Z"
   },
   {
    "duration": 55,
    "start_time": "2025-03-17T11:26:07.611Z"
   },
   {
    "duration": 54,
    "start_time": "2025-03-17T11:26:32.946Z"
   },
   {
    "duration": 1403,
    "start_time": "2025-03-17T17:11:52.338Z"
   },
   {
    "duration": 1095,
    "start_time": "2025-03-17T17:11:53.743Z"
   },
   {
    "duration": 26,
    "start_time": "2025-03-17T17:11:54.839Z"
   },
   {
    "duration": 252,
    "start_time": "2025-03-17T17:11:54.867Z"
   },
   {
    "duration": 162,
    "start_time": "2025-03-17T17:11:55.120Z"
   },
   {
    "duration": 117,
    "start_time": "2025-03-17T17:11:55.284Z"
   },
   {
    "duration": 134,
    "start_time": "2025-03-17T17:11:55.403Z"
   },
   {
    "duration": 211,
    "start_time": "2025-03-17T17:11:55.539Z"
   },
   {
    "duration": 350,
    "start_time": "2025-03-17T17:11:55.751Z"
   },
   {
    "duration": 4,
    "start_time": "2025-03-17T17:11:56.104Z"
   },
   {
    "duration": 267,
    "start_time": "2025-03-17T17:11:56.110Z"
   },
   {
    "duration": 10,
    "start_time": "2025-03-17T17:11:56.379Z"
   },
   {
    "duration": 467,
    "start_time": "2025-03-17T17:11:56.392Z"
   },
   {
    "duration": 16,
    "start_time": "2025-03-17T17:11:56.860Z"
   },
   {
    "duration": 8,
    "start_time": "2025-03-17T17:11:56.878Z"
   },
   {
    "duration": 30,
    "start_time": "2025-03-17T17:11:56.887Z"
   },
   {
    "duration": 145,
    "start_time": "2025-03-17T17:11:56.918Z"
   },
   {
    "duration": 9,
    "start_time": "2025-03-17T17:11:57.064Z"
   },
   {
    "duration": 432,
    "start_time": "2025-03-17T17:11:57.075Z"
   },
   {
    "duration": 352,
    "start_time": "2025-03-17T17:11:57.509Z"
   },
   {
    "duration": 291,
    "start_time": "2025-03-17T17:11:57.864Z"
   },
   {
    "duration": 48,
    "start_time": "2025-03-17T17:11:58.157Z"
   },
   {
    "duration": 80,
    "start_time": "2025-03-17T17:11:58.207Z"
   },
   {
    "duration": 139,
    "start_time": "2025-03-17T17:11:58.289Z"
   },
   {
    "duration": 312,
    "start_time": "2025-03-17T17:17:51.053Z"
   },
   {
    "duration": 132,
    "start_time": "2025-03-17T17:21:33.262Z"
   },
   {
    "duration": 139,
    "start_time": "2025-03-17T17:24:53.877Z"
   },
   {
    "duration": 175,
    "start_time": "2025-03-17T17:27:02.234Z"
   },
   {
    "duration": 156,
    "start_time": "2025-03-17T17:27:19.575Z"
   },
   {
    "duration": 4,
    "start_time": "2025-03-17T17:41:55.355Z"
   },
   {
    "duration": 3,
    "start_time": "2025-03-17T17:44:50.060Z"
   },
   {
    "duration": 1167,
    "start_time": "2025-03-17T17:44:58.787Z"
   },
   {
    "duration": 1127,
    "start_time": "2025-03-17T17:44:59.956Z"
   },
   {
    "duration": 15,
    "start_time": "2025-03-17T17:45:01.085Z"
   },
   {
    "duration": 265,
    "start_time": "2025-03-17T17:45:01.103Z"
   },
   {
    "duration": 164,
    "start_time": "2025-03-17T17:45:01.370Z"
   },
   {
    "duration": 111,
    "start_time": "2025-03-17T17:45:01.535Z"
   },
   {
    "duration": 135,
    "start_time": "2025-03-17T17:45:01.654Z"
   },
   {
    "duration": 243,
    "start_time": "2025-03-17T17:45:01.791Z"
   },
   {
    "duration": 345,
    "start_time": "2025-03-17T17:45:02.036Z"
   },
   {
    "duration": 3,
    "start_time": "2025-03-17T17:45:02.385Z"
   },
   {
    "duration": 291,
    "start_time": "2025-03-17T17:45:02.390Z"
   },
   {
    "duration": 178,
    "start_time": "2025-03-17T17:45:02.683Z"
   },
   {
    "duration": 401,
    "start_time": "2025-03-17T17:45:02.863Z"
   },
   {
    "duration": 16,
    "start_time": "2025-03-17T17:45:03.266Z"
   },
   {
    "duration": 96,
    "start_time": "2025-03-17T17:45:03.283Z"
   },
   {
    "duration": 0,
    "start_time": "2025-03-17T17:45:03.381Z"
   },
   {
    "duration": 0,
    "start_time": "2025-03-17T17:45:03.382Z"
   },
   {
    "duration": 0,
    "start_time": "2025-03-17T17:45:03.382Z"
   },
   {
    "duration": 0,
    "start_time": "2025-03-17T17:45:03.383Z"
   },
   {
    "duration": 0,
    "start_time": "2025-03-17T17:45:03.385Z"
   },
   {
    "duration": 0,
    "start_time": "2025-03-17T17:45:03.386Z"
   },
   {
    "duration": 0,
    "start_time": "2025-03-17T17:45:03.386Z"
   },
   {
    "duration": 0,
    "start_time": "2025-03-17T17:45:03.388Z"
   },
   {
    "duration": 0,
    "start_time": "2025-03-17T17:45:03.389Z"
   },
   {
    "duration": 1210,
    "start_time": "2025-03-17T17:47:41.578Z"
   },
   {
    "duration": 317,
    "start_time": "2025-03-17T17:49:14.459Z"
   },
   {
    "duration": 324,
    "start_time": "2025-03-17T17:49:48.499Z"
   },
   {
    "duration": 341,
    "start_time": "2025-03-17T17:50:41.697Z"
   },
   {
    "duration": 330,
    "start_time": "2025-03-17T17:50:52.873Z"
   },
   {
    "duration": 84,
    "start_time": "2025-03-17T17:51:46.515Z"
   },
   {
    "duration": 93,
    "start_time": "2025-03-17T17:51:59.343Z"
   },
   {
    "duration": 320,
    "start_time": "2025-03-17T17:54:01.683Z"
   },
   {
    "duration": 318,
    "start_time": "2025-03-17T17:54:13.680Z"
   },
   {
    "duration": 315,
    "start_time": "2025-03-17T17:54:22.795Z"
   },
   {
    "duration": 12,
    "start_time": "2025-03-17T17:55:33.643Z"
   },
   {
    "duration": 12,
    "start_time": "2025-03-17T17:56:16.270Z"
   },
   {
    "duration": 12,
    "start_time": "2025-03-17T17:56:39.709Z"
   },
   {
    "duration": 1211,
    "start_time": "2025-03-17T17:57:06.241Z"
   },
   {
    "duration": 1082,
    "start_time": "2025-03-17T17:57:07.454Z"
   },
   {
    "duration": 20,
    "start_time": "2025-03-17T17:57:08.538Z"
   },
   {
    "duration": 263,
    "start_time": "2025-03-17T17:57:08.561Z"
   },
   {
    "duration": 160,
    "start_time": "2025-03-17T17:57:08.826Z"
   },
   {
    "duration": 115,
    "start_time": "2025-03-17T17:57:08.988Z"
   },
   {
    "duration": 134,
    "start_time": "2025-03-17T17:57:09.105Z"
   },
   {
    "duration": 209,
    "start_time": "2025-03-17T17:57:09.241Z"
   },
   {
    "duration": 349,
    "start_time": "2025-03-17T17:57:09.455Z"
   },
   {
    "duration": 4,
    "start_time": "2025-03-17T17:57:09.806Z"
   },
   {
    "duration": 295,
    "start_time": "2025-03-17T17:57:09.812Z"
   },
   {
    "duration": 174,
    "start_time": "2025-03-17T17:57:10.109Z"
   },
   {
    "duration": 360,
    "start_time": "2025-03-17T17:57:10.285Z"
   },
   {
    "duration": 22,
    "start_time": "2025-03-17T17:57:10.646Z"
   },
   {
    "duration": 373,
    "start_time": "2025-03-17T17:57:10.669Z"
   },
   {
    "duration": 30,
    "start_time": "2025-03-17T17:57:11.043Z"
   },
   {
    "duration": 142,
    "start_time": "2025-03-17T17:57:11.075Z"
   },
   {
    "duration": 8,
    "start_time": "2025-03-17T17:57:11.219Z"
   },
   {
    "duration": 388,
    "start_time": "2025-03-17T17:57:11.228Z"
   },
   {
    "duration": 341,
    "start_time": "2025-03-17T17:57:11.618Z"
   },
   {
    "duration": 288,
    "start_time": "2025-03-17T17:57:11.961Z"
   },
   {
    "duration": 48,
    "start_time": "2025-03-17T17:57:12.251Z"
   },
   {
    "duration": 79,
    "start_time": "2025-03-17T17:57:12.301Z"
   },
   {
    "duration": 138,
    "start_time": "2025-03-17T17:57:12.382Z"
   },
   {
    "duration": 217,
    "start_time": "2025-03-17T17:59:17.618Z"
   },
   {
    "duration": 400,
    "start_time": "2025-03-17T17:59:30.100Z"
   },
   {
    "duration": 408,
    "start_time": "2025-03-17T18:03:15.780Z"
   },
   {
    "duration": 327,
    "start_time": "2025-03-17T18:05:00.130Z"
   },
   {
    "duration": 325,
    "start_time": "2025-03-17T18:05:43.088Z"
   },
   {
    "duration": 336,
    "start_time": "2025-03-17T18:07:12.107Z"
   },
   {
    "duration": 66,
    "start_time": "2025-03-17T18:13:18.426Z"
   },
   {
    "duration": 1139,
    "start_time": "2025-03-17T18:14:34.419Z"
   },
   {
    "duration": 1128,
    "start_time": "2025-03-17T18:14:35.562Z"
   },
   {
    "duration": 16,
    "start_time": "2025-03-17T18:14:36.692Z"
   },
   {
    "duration": 270,
    "start_time": "2025-03-17T18:14:36.709Z"
   },
   {
    "duration": 161,
    "start_time": "2025-03-17T18:14:36.980Z"
   },
   {
    "duration": 115,
    "start_time": "2025-03-17T18:14:37.143Z"
   },
   {
    "duration": 136,
    "start_time": "2025-03-17T18:14:37.260Z"
   },
   {
    "duration": 215,
    "start_time": "2025-03-17T18:14:37.398Z"
   },
   {
    "duration": 354,
    "start_time": "2025-03-17T18:14:37.615Z"
   },
   {
    "duration": 4,
    "start_time": "2025-03-17T18:14:37.971Z"
   },
   {
    "duration": 293,
    "start_time": "2025-03-17T18:14:37.976Z"
   },
   {
    "duration": 179,
    "start_time": "2025-03-17T18:14:38.270Z"
   },
   {
    "duration": 389,
    "start_time": "2025-03-17T18:14:38.453Z"
   },
   {
    "duration": 25,
    "start_time": "2025-03-17T18:14:38.845Z"
   },
   {
    "duration": 349,
    "start_time": "2025-03-17T18:14:38.872Z"
   },
   {
    "duration": 29,
    "start_time": "2025-03-17T18:14:39.223Z"
   },
   {
    "duration": 143,
    "start_time": "2025-03-17T18:14:39.254Z"
   },
   {
    "duration": 8,
    "start_time": "2025-03-17T18:14:39.399Z"
   },
   {
    "duration": 381,
    "start_time": "2025-03-17T18:14:39.408Z"
   },
   {
    "duration": 351,
    "start_time": "2025-03-17T18:14:39.792Z"
   },
   {
    "duration": 291,
    "start_time": "2025-03-17T18:14:40.145Z"
   },
   {
    "duration": 57,
    "start_time": "2025-03-17T18:14:40.438Z"
   },
   {
    "duration": 70,
    "start_time": "2025-03-17T18:14:40.497Z"
   },
   {
    "duration": 148,
    "start_time": "2025-03-17T18:14:40.569Z"
   },
   {
    "duration": 62,
    "start_time": "2025-03-17T18:15:27.106Z"
   },
   {
    "duration": 60,
    "start_time": "2025-03-17T18:15:32.516Z"
   },
   {
    "duration": 1176,
    "start_time": "2025-03-17T18:15:47.484Z"
   },
   {
    "duration": 1097,
    "start_time": "2025-03-17T18:15:48.663Z"
   },
   {
    "duration": 15,
    "start_time": "2025-03-17T18:15:49.762Z"
   },
   {
    "duration": 262,
    "start_time": "2025-03-17T18:15:49.779Z"
   },
   {
    "duration": 164,
    "start_time": "2025-03-17T18:15:50.043Z"
   },
   {
    "duration": 130,
    "start_time": "2025-03-17T18:15:50.208Z"
   },
   {
    "duration": 135,
    "start_time": "2025-03-17T18:15:50.339Z"
   },
   {
    "duration": 208,
    "start_time": "2025-03-17T18:15:50.476Z"
   },
   {
    "duration": 371,
    "start_time": "2025-03-17T18:15:50.685Z"
   },
   {
    "duration": 5,
    "start_time": "2025-03-17T18:15:51.059Z"
   },
   {
    "duration": 260,
    "start_time": "2025-03-17T18:15:51.065Z"
   },
   {
    "duration": 172,
    "start_time": "2025-03-17T18:15:51.327Z"
   },
   {
    "duration": 357,
    "start_time": "2025-03-17T18:15:51.500Z"
   },
   {
    "duration": 17,
    "start_time": "2025-03-17T18:15:51.858Z"
   },
   {
    "duration": 367,
    "start_time": "2025-03-17T18:15:51.876Z"
   },
   {
    "duration": 29,
    "start_time": "2025-03-17T18:15:52.245Z"
   },
   {
    "duration": 147,
    "start_time": "2025-03-17T18:15:52.276Z"
   },
   {
    "duration": 9,
    "start_time": "2025-03-17T18:15:52.425Z"
   },
   {
    "duration": 387,
    "start_time": "2025-03-17T18:15:52.436Z"
   },
   {
    "duration": 338,
    "start_time": "2025-03-17T18:15:52.824Z"
   },
   {
    "duration": 308,
    "start_time": "2025-03-17T18:15:53.164Z"
   },
   {
    "duration": 54,
    "start_time": "2025-03-17T18:15:53.474Z"
   },
   {
    "duration": 74,
    "start_time": "2025-03-17T18:15:53.530Z"
   },
   {
    "duration": 153,
    "start_time": "2025-03-17T18:15:53.606Z"
   },
   {
    "duration": 1176,
    "start_time": "2025-03-18T09:52:18.466Z"
   },
   {
    "duration": 1094,
    "start_time": "2025-03-18T09:52:19.644Z"
   },
   {
    "duration": 19,
    "start_time": "2025-03-18T09:52:20.740Z"
   },
   {
    "duration": 233,
    "start_time": "2025-03-18T09:52:20.760Z"
   },
   {
    "duration": 160,
    "start_time": "2025-03-18T09:52:20.995Z"
   },
   {
    "duration": 121,
    "start_time": "2025-03-18T09:52:21.156Z"
   },
   {
    "duration": 134,
    "start_time": "2025-03-18T09:52:21.278Z"
   },
   {
    "duration": 240,
    "start_time": "2025-03-18T09:52:21.414Z"
   },
   {
    "duration": 348,
    "start_time": "2025-03-18T09:52:21.655Z"
   },
   {
    "duration": 4,
    "start_time": "2025-03-18T09:52:22.005Z"
   },
   {
    "duration": 269,
    "start_time": "2025-03-18T09:52:22.011Z"
   },
   {
    "duration": 376,
    "start_time": "2025-03-18T09:52:22.282Z"
   },
   {
    "duration": 606,
    "start_time": "2025-03-18T09:52:22.661Z"
   },
   {
    "duration": 16,
    "start_time": "2025-03-18T09:52:23.270Z"
   },
   {
    "duration": 642,
    "start_time": "2025-03-18T09:52:23.288Z"
   },
   {
    "duration": 29,
    "start_time": "2025-03-18T09:52:23.931Z"
   },
   {
    "duration": 153,
    "start_time": "2025-03-18T09:52:23.962Z"
   },
   {
    "duration": 8,
    "start_time": "2025-03-18T09:52:24.117Z"
   },
   {
    "duration": 448,
    "start_time": "2025-03-18T09:52:24.127Z"
   },
   {
    "duration": 313,
    "start_time": "2025-03-18T09:52:24.576Z"
   },
   {
    "duration": 320,
    "start_time": "2025-03-18T09:52:24.891Z"
   },
   {
    "duration": 60,
    "start_time": "2025-03-18T09:52:25.213Z"
   },
   {
    "duration": 124,
    "start_time": "2025-03-18T09:52:25.275Z"
   },
   {
    "duration": 137,
    "start_time": "2025-03-18T09:52:25.400Z"
   }
  ],
  "colab": {
   "provenance": []
  },
  "kernelspec": {
   "display_name": "Python 3 (ipykernel)",
   "language": "python",
   "name": "python3"
  },
  "language_info": {
   "codemirror_mode": {
    "name": "ipython",
    "version": 3
   },
   "file_extension": ".py",
   "mimetype": "text/x-python",
   "name": "python",
   "nbconvert_exporter": "python",
   "pygments_lexer": "ipython3",
   "version": "3.12.7"
  },
  "toc": {
   "base_numbering": 1,
   "nav_menu": {},
   "number_sections": true,
   "sideBar": true,
   "skip_h1_title": true,
   "title_cell": "Table of Contents",
   "title_sidebar": "Contents",
   "toc_cell": false,
   "toc_position": {},
   "toc_section_display": true,
   "toc_window_display": true
  }
 },
 "nbformat": 4,
 "nbformat_minor": 4
}
