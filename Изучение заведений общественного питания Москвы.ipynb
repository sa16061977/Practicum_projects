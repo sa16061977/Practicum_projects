{
 "cells": [
  {
   "cell_type": "markdown",
   "id": "e06910dd",
   "metadata": {
    "id": "e06910dd"
   },
   "source": [
    "<div class=\"alert alert-info\">\n",
    "<font size=\"5\"><b><font size=\"5\"><b>Изучение заведений общественного питания Москвы\n",
    "</b></font>\n",
    "\n",
    "- Автор: Плохотнюк С.А.\n",
    "- Дата: 31.12.2024"
   ]
  },
  {
   "cell_type": "markdown",
   "id": "4149134c",
   "metadata": {
    "id": "4149134c"
   },
   "source": [
    "### Цели и задачи проекта\n",
    "\n",
    "<font color='#777778'>Исследовательский анализ рынка Москвы, а именно заведений общественного питания в Москве, с целью разработки стратегии выбора подходящего инвесторам места.</font>"
   ]
  },
  {
   "cell_type": "markdown",
   "id": "728986ea",
   "metadata": {
    "id": "728986ea"
   },
   "source": [
    "### Описание данных\n",
    "\n",
    "<font color='#777778'>Файл /datasets/rest_info.csv содержит информацию о заведениях общественного питания:\n",
    "\n",
    "    name — название заведения;\n",
    "    address — адрес заведения;\n",
    "    district — административный район, в котором находится заведение, например Центральный административный округ;\n",
    "    category — категория заведения, например «кафе», «пиццерия» или «кофейня»;\n",
    "    hours — информация о днях и часах работы;\n",
    "    rating — рейтинг заведения по оценкам пользователей в Яндекс Картах (высшая оценка — 5.0);\n",
    "    chain — число, выраженное 0 или 1, которое показывает, является ли заведение сетевым (для маленьких сетей могут встречаться ошибки):\n",
    "      \n",
    "        0 — заведение не является сетевым;\n",
    "        1 — заведение является сетевым.\n",
    "    seats — количество посадочных мест.\n",
    "\n",
    "Файл /datasets/rest_price.csv содержит информацию о среднем чеке в заведениях общественного питания:\n",
    "\n",
    "    price — категория цен в заведении, например «средние», «ниже среднего», «выше среднего» и так далее;\n",
    "    avg_bill — строка, которая хранит среднюю стоимость заказа в виде диапазона, например:\n",
    "      \n",
    "        «Средний счёт: 1000–1500 ₽»;\n",
    "        «Цена чашки капучино: 130–220 ₽»;\n",
    "        «Цена бокала пива: 400–600 ₽».\n",
    "        и так далее;\n",
    "    middle_avg_bill — число с оценкой среднего чека, которое указано только для значений из столбца avg_bill, начинающихся с подстроки «Средний счёт»:\n",
    "      \n",
    "        Если в строке указан ценовой диапазон из двух значений, в столбец войдёт медиана этих двух значений.\n",
    "        Если в строке указано одно число — цена без диапазона, то в столбец войдёт это число.\n",
    "        Если значения нет или оно не начинается с подстроки «Средний счёт», то в столбец ничего не войдёт.\n",
    "    middle_coffee_cup — число с оценкой одной чашки капучино, которое указано только для значений из столбца avg_bill, начинающихся с подстроки «Цена одной чашки капучино»:\n",
    "      \n",
    "        Если в строке указан ценовой диапазон из двух значений, в столбец войдёт медиана этих двух значений.\n",
    "        Если в строке указано одно число — цена без диапазона, то в столбец войдёт это число.\n",
    "        Если значения нет или оно не начинается с подстроки «Цена одной чашки капучино», то в столбец ничего не войдёт..</font>"
   ]
  },
  {
   "cell_type": "markdown",
   "id": "4fecaf95",
   "metadata": {
    "id": "4fecaf95"
   },
   "source": [
    "### Содержимое проекта\n",
    "\n",
    "<font color='#777778'>\n",
    "1.Загрузка данных о заведениях общественного питания Москвы. Объединение в один датасет.\n",
    "2. Знакомство с данными о заведениях общественного питания Москвы, изучение общей информации о них. Предобработка данных.\n",
    "3. Обработка статистических данных. Анализ распределения объектов общественного питания в целом по Москве, в том числе отдельно в Центральном округе. Корреляция рейтинга объекта от других параметров, представленных в датасепте. \n",
    "4. Вывод по результатам проведенного анализа. Рекомендации для бизнеса.\n",
    "\n",
    "\n",
    "</font>\n",
    "\n",
    "---"
   ]
  },
  {
   "cell_type": "markdown",
   "id": "6f7d21d6",
   "metadata": {
    "id": "6f7d21d6"
   },
   "source": [
    "## 1. Загрузка данных и знакомство с ними\n",
    "\n",
    "- Загрузите данные о заведениях общественного питания Москвы. Путь к файлам: `/datasets/rest_info.csv` и `/datasets/rest_price.csv`."
   ]
  },
  {
   "cell_type": "code",
   "execution_count": 1,
   "id": "05faf34b",
   "metadata": {
    "id": "05faf34b"
   },
   "outputs": [
    {
     "name": "stdout",
     "output_type": "stream",
     "text": [
      "Requirement already satisfied: scipy in /opt/conda/lib/python3.9/site-packages (1.9.1)\r\n",
      "Requirement already satisfied: numpy<1.25.0,>=1.18.5 in /opt/conda/lib/python3.9/site-packages (from scipy) (1.21.1)\r\n"
     ]
    }
   ],
   "source": [
    "# Импортируем библиотеки\n",
    "import pandas as pd\n",
    "# Загружаем библиотеки для визуализации данных\n",
    "import matplotlib.pyplot as plt\n",
    "# Загружаем библиотеки для визуализации данных\n",
    "import seaborn as sns\n",
    "\n",
    "!pip install scipy\n",
    "\n",
    "import scipy.stats\n",
    "\n",
    "# Проверяем наличие библиотеки phik\n",
    "try:\n",
    "    from phik import phik_matrix  # Добавлено для импорта функции phik_matrix\n",
    "except ModuleNotFoundError:\n",
    "    print(\"Библиотека 'phik' не найдена. Убедитесь, что она установлена.\")\n",
    "    # Установка библиотеки phik\n",
    "    !pip install phik\n",
    "    # Рекомендуется перезапустить ядро после установки\n"
   ]
  },
  {
   "cell_type": "markdown",
   "id": "18b5dfff",
   "metadata": {
    "id": "18b5dfff"
   },
   "source": [
    "- Познакомьтесь с данными и изучите общую информацию о них."
   ]
  },
  {
   "cell_type": "code",
   "execution_count": 2,
   "id": "f68a7419",
   "metadata": {
    "id": "f68a7419"
   },
   "outputs": [],
   "source": [
    "rest_info = pd.read_csv('https://code.s3.yandex.net/datasets/rest_info.csv')"
   ]
  },
  {
   "cell_type": "code",
   "execution_count": 3,
   "id": "dd415c80",
   "metadata": {
    "id": "dd415c80"
   },
   "outputs": [],
   "source": [
    "rest_price = pd.read_csv('https://code.s3.yandex.net/datasets/rest_price.csv')"
   ]
  },
  {
   "cell_type": "code",
   "execution_count": 4,
   "id": "3158ad37",
   "metadata": {
    "id": "3158ad37"
   },
   "outputs": [
    {
     "data": {
      "text/html": [
       "<div>\n",
       "<style scoped>\n",
       "    .dataframe tbody tr th:only-of-type {\n",
       "        vertical-align: middle;\n",
       "    }\n",
       "\n",
       "    .dataframe tbody tr th {\n",
       "        vertical-align: top;\n",
       "    }\n",
       "\n",
       "    .dataframe thead th {\n",
       "        text-align: right;\n",
       "    }\n",
       "</style>\n",
       "<table border=\"1\" class=\"dataframe\">\n",
       "  <thead>\n",
       "    <tr style=\"text-align: right;\">\n",
       "      <th></th>\n",
       "      <th>id</th>\n",
       "      <th>name</th>\n",
       "      <th>category</th>\n",
       "      <th>address</th>\n",
       "      <th>district</th>\n",
       "      <th>hours</th>\n",
       "      <th>rating</th>\n",
       "      <th>chain</th>\n",
       "      <th>seats</th>\n",
       "    </tr>\n",
       "  </thead>\n",
       "  <tbody>\n",
       "    <tr>\n",
       "      <th>0</th>\n",
       "      <td>0c3e3439a8c64ea5bf6ecd6ca6ae19f0</td>\n",
       "      <td>WoWфли</td>\n",
       "      <td>кафе</td>\n",
       "      <td>Москва, улица Дыбенко, 7/1</td>\n",
       "      <td>Северный административный округ</td>\n",
       "      <td>ежедневно, 10:00–22:00</td>\n",
       "      <td>5.0</td>\n",
       "      <td>0</td>\n",
       "      <td>NaN</td>\n",
       "    </tr>\n",
       "    <tr>\n",
       "      <th>1</th>\n",
       "      <td>045780ada3474c57a2112e505d74b633</td>\n",
       "      <td>Четыре комнаты</td>\n",
       "      <td>ресторан</td>\n",
       "      <td>Москва, улица Дыбенко, 36, корп. 1</td>\n",
       "      <td>Северный административный округ</td>\n",
       "      <td>ежедневно, 10:00–22:00</td>\n",
       "      <td>4.5</td>\n",
       "      <td>0</td>\n",
       "      <td>4.0</td>\n",
       "    </tr>\n",
       "    <tr>\n",
       "      <th>2</th>\n",
       "      <td>1070b6b59144425896c65889347fcff6</td>\n",
       "      <td>Хазри</td>\n",
       "      <td>кафе</td>\n",
       "      <td>Москва, Клязьминская улица, 15</td>\n",
       "      <td>Северный административный округ</td>\n",
       "      <td>пн-чт 11:00–02:00; пт,сб 11:00–05:00; вс 11:00...</td>\n",
       "      <td>4.6</td>\n",
       "      <td>0</td>\n",
       "      <td>45.0</td>\n",
       "    </tr>\n",
       "    <tr>\n",
       "      <th>3</th>\n",
       "      <td>03ac7cd772104f65b58b349dc59f03ee</td>\n",
       "      <td>Dormouse Coffee Shop</td>\n",
       "      <td>кофейня</td>\n",
       "      <td>Москва, улица Маршала Федоренко, 12</td>\n",
       "      <td>Северный административный округ</td>\n",
       "      <td>ежедневно, 09:00–22:00</td>\n",
       "      <td>5.0</td>\n",
       "      <td>0</td>\n",
       "      <td>NaN</td>\n",
       "    </tr>\n",
       "    <tr>\n",
       "      <th>4</th>\n",
       "      <td>a163aada139c4c7f87b0b1c0b466a50f</td>\n",
       "      <td>Иль Марко</td>\n",
       "      <td>пиццерия</td>\n",
       "      <td>Москва, Правобережная улица, 1Б</td>\n",
       "      <td>Северный административный округ</td>\n",
       "      <td>ежедневно, 10:00–22:00</td>\n",
       "      <td>5.0</td>\n",
       "      <td>1</td>\n",
       "      <td>148.0</td>\n",
       "    </tr>\n",
       "  </tbody>\n",
       "</table>\n",
       "</div>"
      ],
      "text/plain": [
       "                                 id                  name  category  \\\n",
       "0  0c3e3439a8c64ea5bf6ecd6ca6ae19f0                WoWфли      кафе   \n",
       "1  045780ada3474c57a2112e505d74b633        Четыре комнаты  ресторан   \n",
       "2  1070b6b59144425896c65889347fcff6                 Хазри      кафе   \n",
       "3  03ac7cd772104f65b58b349dc59f03ee  Dormouse Coffee Shop   кофейня   \n",
       "4  a163aada139c4c7f87b0b1c0b466a50f             Иль Марко  пиццерия   \n",
       "\n",
       "                               address                         district  \\\n",
       "0           Москва, улица Дыбенко, 7/1  Северный административный округ   \n",
       "1   Москва, улица Дыбенко, 36, корп. 1  Северный административный округ   \n",
       "2       Москва, Клязьминская улица, 15  Северный административный округ   \n",
       "3  Москва, улица Маршала Федоренко, 12  Северный административный округ   \n",
       "4      Москва, Правобережная улица, 1Б  Северный административный округ   \n",
       "\n",
       "                                               hours  rating  chain  seats  \n",
       "0                             ежедневно, 10:00–22:00     5.0      0    NaN  \n",
       "1                             ежедневно, 10:00–22:00     4.5      0    4.0  \n",
       "2  пн-чт 11:00–02:00; пт,сб 11:00–05:00; вс 11:00...     4.6      0   45.0  \n",
       "3                             ежедневно, 09:00–22:00     5.0      0    NaN  \n",
       "4                             ежедневно, 10:00–22:00     5.0      1  148.0  "
      ]
     },
     "execution_count": 4,
     "metadata": {},
     "output_type": "execute_result"
    }
   ],
   "source": [
    "rest_info.head()"
   ]
  },
  {
   "cell_type": "code",
   "execution_count": 5,
   "id": "66eb4136",
   "metadata": {},
   "outputs": [
    {
     "name": "stdout",
     "output_type": "stream",
     "text": [
      "<class 'pandas.core.frame.DataFrame'>\n",
      "RangeIndex: 8406 entries, 0 to 8405\n",
      "Data columns (total 9 columns):\n",
      " #   Column    Non-Null Count  Dtype  \n",
      "---  ------    --------------  -----  \n",
      " 0   id        8406 non-null   object \n",
      " 1   name      8406 non-null   object \n",
      " 2   category  8406 non-null   object \n",
      " 3   address   8406 non-null   object \n",
      " 4   district  8406 non-null   object \n",
      " 5   hours     7870 non-null   object \n",
      " 6   rating    8406 non-null   float64\n",
      " 7   chain     8406 non-null   int64  \n",
      " 8   seats     4795 non-null   float64\n",
      "dtypes: float64(2), int64(1), object(6)\n",
      "memory usage: 591.2+ KB\n"
     ]
    }
   ],
   "source": [
    "rest_info.info()"
   ]
  },
  {
   "cell_type": "code",
   "execution_count": 6,
   "id": "d8ace5e3",
   "metadata": {},
   "outputs": [
    {
     "data": {
      "text/html": [
       "<div>\n",
       "<style scoped>\n",
       "    .dataframe tbody tr th:only-of-type {\n",
       "        vertical-align: middle;\n",
       "    }\n",
       "\n",
       "    .dataframe tbody tr th {\n",
       "        vertical-align: top;\n",
       "    }\n",
       "\n",
       "    .dataframe thead th {\n",
       "        text-align: right;\n",
       "    }\n",
       "</style>\n",
       "<table border=\"1\" class=\"dataframe\">\n",
       "  <thead>\n",
       "    <tr style=\"text-align: right;\">\n",
       "      <th></th>\n",
       "      <th>id</th>\n",
       "      <th>price</th>\n",
       "      <th>avg_bill</th>\n",
       "      <th>middle_avg_bill</th>\n",
       "      <th>middle_coffee_cup</th>\n",
       "    </tr>\n",
       "  </thead>\n",
       "  <tbody>\n",
       "    <tr>\n",
       "      <th>0</th>\n",
       "      <td>045780ada3474c57a2112e505d74b633</td>\n",
       "      <td>выше среднего</td>\n",
       "      <td>Средний счёт:1500–1600 ₽</td>\n",
       "      <td>1550.0</td>\n",
       "      <td>NaN</td>\n",
       "    </tr>\n",
       "    <tr>\n",
       "      <th>1</th>\n",
       "      <td>1070b6b59144425896c65889347fcff6</td>\n",
       "      <td>средние</td>\n",
       "      <td>Средний счёт:от 1000 ₽</td>\n",
       "      <td>1000.0</td>\n",
       "      <td>NaN</td>\n",
       "    </tr>\n",
       "    <tr>\n",
       "      <th>2</th>\n",
       "      <td>03ac7cd772104f65b58b349dc59f03ee</td>\n",
       "      <td>NaN</td>\n",
       "      <td>Цена чашки капучино:155–185 ₽</td>\n",
       "      <td>NaN</td>\n",
       "      <td>170.0</td>\n",
       "    </tr>\n",
       "    <tr>\n",
       "      <th>3</th>\n",
       "      <td>a163aada139c4c7f87b0b1c0b466a50f</td>\n",
       "      <td>средние</td>\n",
       "      <td>Средний счёт:400–600 ₽</td>\n",
       "      <td>500.0</td>\n",
       "      <td>NaN</td>\n",
       "    </tr>\n",
       "    <tr>\n",
       "      <th>4</th>\n",
       "      <td>8a343546b24e4a499ad96eb7d0797a8a</td>\n",
       "      <td>средние</td>\n",
       "      <td>NaN</td>\n",
       "      <td>NaN</td>\n",
       "      <td>NaN</td>\n",
       "    </tr>\n",
       "  </tbody>\n",
       "</table>\n",
       "</div>"
      ],
      "text/plain": [
       "                                 id          price  \\\n",
       "0  045780ada3474c57a2112e505d74b633  выше среднего   \n",
       "1  1070b6b59144425896c65889347fcff6        средние   \n",
       "2  03ac7cd772104f65b58b349dc59f03ee            NaN   \n",
       "3  a163aada139c4c7f87b0b1c0b466a50f        средние   \n",
       "4  8a343546b24e4a499ad96eb7d0797a8a        средние   \n",
       "\n",
       "                        avg_bill  middle_avg_bill  middle_coffee_cup  \n",
       "0       Средний счёт:1500–1600 ₽           1550.0                NaN  \n",
       "1         Средний счёт:от 1000 ₽           1000.0                NaN  \n",
       "2  Цена чашки капучино:155–185 ₽              NaN              170.0  \n",
       "3         Средний счёт:400–600 ₽            500.0                NaN  \n",
       "4                            NaN              NaN                NaN  "
      ]
     },
     "execution_count": 6,
     "metadata": {},
     "output_type": "execute_result"
    }
   ],
   "source": [
    "rest_price.head()"
   ]
  },
  {
   "cell_type": "code",
   "execution_count": 7,
   "id": "8d6ed73a",
   "metadata": {},
   "outputs": [
    {
     "name": "stdout",
     "output_type": "stream",
     "text": [
      "<class 'pandas.core.frame.DataFrame'>\n",
      "RangeIndex: 4058 entries, 0 to 4057\n",
      "Data columns (total 5 columns):\n",
      " #   Column             Non-Null Count  Dtype  \n",
      "---  ------             --------------  -----  \n",
      " 0   id                 4058 non-null   object \n",
      " 1   price              3315 non-null   object \n",
      " 2   avg_bill           3816 non-null   object \n",
      " 3   middle_avg_bill    3149 non-null   float64\n",
      " 4   middle_coffee_cup  535 non-null    float64\n",
      "dtypes: float64(2), object(3)\n",
      "memory usage: 158.6+ KB\n"
     ]
    }
   ],
   "source": [
    "rest_price.info()"
   ]
  },
  {
   "cell_type": "code",
   "execution_count": 8,
   "id": "cd18f9ce",
   "metadata": {},
   "outputs": [
    {
     "name": "stdout",
     "output_type": "stream",
     "text": [
      "Уникальные категории: ['WoWфли' 'Четыре комнаты' 'Хазри' ... 'Миславнес' 'Самовар' 'Kebab Time']\n"
     ]
    }
   ],
   "source": [
    "# Находим уникальные значения в столбце 'name'\n",
    "unique_name = rest_info['name'].unique()\n",
    "print(\"Уникальные категории:\", unique_name)"
   ]
  },
  {
   "cell_type": "code",
   "execution_count": 9,
   "id": "988aa975",
   "metadata": {},
   "outputs": [
    {
     "name": "stdout",
     "output_type": "stream",
     "text": [
      "Уникальные категории: ['кафе' 'ресторан' 'кофейня' 'пиццерия' 'бар,паб' 'быстрое питание'\n",
      " 'булочная' 'столовая']\n"
     ]
    }
   ],
   "source": [
    "# Находим уникальные значения в столбце 'category'\n",
    "unique_categories = rest_info['category'].unique()\n",
    "print(\"Уникальные категории:\", unique_categories)"
   ]
  },
  {
   "cell_type": "code",
   "execution_count": 10,
   "id": "beb85b26",
   "metadata": {},
   "outputs": [
    {
     "name": "stdout",
     "output_type": "stream",
     "text": [
      "Уникальные категории: ['Северный административный округ'\n",
      " 'Северо-Восточный административный округ'\n",
      " 'Северо-Западный административный округ'\n",
      " 'Западный административный округ' 'Центральный административный округ'\n",
      " 'Восточный административный округ' 'Юго-Восточный административный округ'\n",
      " 'Южный административный округ' 'Юго-Западный административный округ']\n"
     ]
    }
   ],
   "source": [
    "# Находим уникальные значения в столбце 'district'\n",
    "unique_district = rest_info['district'].unique()\n",
    "print(\"Уникальные категории:\", unique_district)"
   ]
  },
  {
   "cell_type": "code",
   "execution_count": 11,
   "id": "27a61062",
   "metadata": {},
   "outputs": [
    {
     "name": "stdout",
     "output_type": "stream",
     "text": [
      "Уникальные категории: [0 1]\n"
     ]
    }
   ],
   "source": [
    "# Находим уникальные значения в столбце 'chain'\n",
    "unique_chain = rest_info['chain'].unique()\n",
    "print(\"Уникальные категории:\", unique_chain)"
   ]
  },
  {
   "cell_type": "markdown",
   "id": "6b7043fa",
   "metadata": {},
   "source": [
    "Анализ уникальных значений в столбцах name, category, district,chain показал, что дублей по данных столбцам нет. Здесь все хорошо."
   ]
  },
  {
   "cell_type": "markdown",
   "id": "8a8d1491",
   "metadata": {
    "id": "8a8d1491"
   },
   "source": [
    "### Подготовка единого датафрейма\n",
    "\n",
    "- Объедините данные двух датасетов в один, с которым вы и продолжите работу."
   ]
  },
  {
   "cell_type": "code",
   "execution_count": 12,
   "id": "3408e303",
   "metadata": {
    "id": "3408e303"
   },
   "outputs": [],
   "source": [
    "# Соединяем данные в единый датафрейм df\n",
    "df = rest_info.merge(rest_price, how= 'left', on = 'id')"
   ]
  },
  {
   "cell_type": "code",
   "execution_count": 13,
   "id": "5695950b",
   "metadata": {
    "id": "5695950b"
   },
   "outputs": [
    {
     "data": {
      "text/html": [
       "<div>\n",
       "<style scoped>\n",
       "    .dataframe tbody tr th:only-of-type {\n",
       "        vertical-align: middle;\n",
       "    }\n",
       "\n",
       "    .dataframe tbody tr th {\n",
       "        vertical-align: top;\n",
       "    }\n",
       "\n",
       "    .dataframe thead th {\n",
       "        text-align: right;\n",
       "    }\n",
       "</style>\n",
       "<table border=\"1\" class=\"dataframe\">\n",
       "  <thead>\n",
       "    <tr style=\"text-align: right;\">\n",
       "      <th></th>\n",
       "      <th>id</th>\n",
       "      <th>name</th>\n",
       "      <th>category</th>\n",
       "      <th>address</th>\n",
       "      <th>district</th>\n",
       "      <th>hours</th>\n",
       "      <th>rating</th>\n",
       "      <th>chain</th>\n",
       "      <th>seats</th>\n",
       "      <th>price</th>\n",
       "      <th>avg_bill</th>\n",
       "      <th>middle_avg_bill</th>\n",
       "      <th>middle_coffee_cup</th>\n",
       "    </tr>\n",
       "  </thead>\n",
       "  <tbody>\n",
       "    <tr>\n",
       "      <th>0</th>\n",
       "      <td>0c3e3439a8c64ea5bf6ecd6ca6ae19f0</td>\n",
       "      <td>WoWфли</td>\n",
       "      <td>кафе</td>\n",
       "      <td>Москва, улица Дыбенко, 7/1</td>\n",
       "      <td>Северный административный округ</td>\n",
       "      <td>ежедневно, 10:00–22:00</td>\n",
       "      <td>5.0</td>\n",
       "      <td>0</td>\n",
       "      <td>NaN</td>\n",
       "      <td>NaN</td>\n",
       "      <td>NaN</td>\n",
       "      <td>NaN</td>\n",
       "      <td>NaN</td>\n",
       "    </tr>\n",
       "    <tr>\n",
       "      <th>1</th>\n",
       "      <td>045780ada3474c57a2112e505d74b633</td>\n",
       "      <td>Четыре комнаты</td>\n",
       "      <td>ресторан</td>\n",
       "      <td>Москва, улица Дыбенко, 36, корп. 1</td>\n",
       "      <td>Северный административный округ</td>\n",
       "      <td>ежедневно, 10:00–22:00</td>\n",
       "      <td>4.5</td>\n",
       "      <td>0</td>\n",
       "      <td>4.0</td>\n",
       "      <td>выше среднего</td>\n",
       "      <td>Средний счёт:1500–1600 ₽</td>\n",
       "      <td>1550.0</td>\n",
       "      <td>NaN</td>\n",
       "    </tr>\n",
       "    <tr>\n",
       "      <th>2</th>\n",
       "      <td>1070b6b59144425896c65889347fcff6</td>\n",
       "      <td>Хазри</td>\n",
       "      <td>кафе</td>\n",
       "      <td>Москва, Клязьминская улица, 15</td>\n",
       "      <td>Северный административный округ</td>\n",
       "      <td>пн-чт 11:00–02:00; пт,сб 11:00–05:00; вс 11:00...</td>\n",
       "      <td>4.6</td>\n",
       "      <td>0</td>\n",
       "      <td>45.0</td>\n",
       "      <td>средние</td>\n",
       "      <td>Средний счёт:от 1000 ₽</td>\n",
       "      <td>1000.0</td>\n",
       "      <td>NaN</td>\n",
       "    </tr>\n",
       "    <tr>\n",
       "      <th>3</th>\n",
       "      <td>03ac7cd772104f65b58b349dc59f03ee</td>\n",
       "      <td>Dormouse Coffee Shop</td>\n",
       "      <td>кофейня</td>\n",
       "      <td>Москва, улица Маршала Федоренко, 12</td>\n",
       "      <td>Северный административный округ</td>\n",
       "      <td>ежедневно, 09:00–22:00</td>\n",
       "      <td>5.0</td>\n",
       "      <td>0</td>\n",
       "      <td>NaN</td>\n",
       "      <td>NaN</td>\n",
       "      <td>Цена чашки капучино:155–185 ₽</td>\n",
       "      <td>NaN</td>\n",
       "      <td>170.0</td>\n",
       "    </tr>\n",
       "    <tr>\n",
       "      <th>4</th>\n",
       "      <td>a163aada139c4c7f87b0b1c0b466a50f</td>\n",
       "      <td>Иль Марко</td>\n",
       "      <td>пиццерия</td>\n",
       "      <td>Москва, Правобережная улица, 1Б</td>\n",
       "      <td>Северный административный округ</td>\n",
       "      <td>ежедневно, 10:00–22:00</td>\n",
       "      <td>5.0</td>\n",
       "      <td>1</td>\n",
       "      <td>148.0</td>\n",
       "      <td>средние</td>\n",
       "      <td>Средний счёт:400–600 ₽</td>\n",
       "      <td>500.0</td>\n",
       "      <td>NaN</td>\n",
       "    </tr>\n",
       "  </tbody>\n",
       "</table>\n",
       "</div>"
      ],
      "text/plain": [
       "                                 id                  name  category  \\\n",
       "0  0c3e3439a8c64ea5bf6ecd6ca6ae19f0                WoWфли      кафе   \n",
       "1  045780ada3474c57a2112e505d74b633        Четыре комнаты  ресторан   \n",
       "2  1070b6b59144425896c65889347fcff6                 Хазри      кафе   \n",
       "3  03ac7cd772104f65b58b349dc59f03ee  Dormouse Coffee Shop   кофейня   \n",
       "4  a163aada139c4c7f87b0b1c0b466a50f             Иль Марко  пиццерия   \n",
       "\n",
       "                               address                         district  \\\n",
       "0           Москва, улица Дыбенко, 7/1  Северный административный округ   \n",
       "1   Москва, улица Дыбенко, 36, корп. 1  Северный административный округ   \n",
       "2       Москва, Клязьминская улица, 15  Северный административный округ   \n",
       "3  Москва, улица Маршала Федоренко, 12  Северный административный округ   \n",
       "4      Москва, Правобережная улица, 1Б  Северный административный округ   \n",
       "\n",
       "                                               hours  rating  chain  seats  \\\n",
       "0                             ежедневно, 10:00–22:00     5.0      0    NaN   \n",
       "1                             ежедневно, 10:00–22:00     4.5      0    4.0   \n",
       "2  пн-чт 11:00–02:00; пт,сб 11:00–05:00; вс 11:00...     4.6      0   45.0   \n",
       "3                             ежедневно, 09:00–22:00     5.0      0    NaN   \n",
       "4                             ежедневно, 10:00–22:00     5.0      1  148.0   \n",
       "\n",
       "           price                       avg_bill  middle_avg_bill  \\\n",
       "0            NaN                            NaN              NaN   \n",
       "1  выше среднего       Средний счёт:1500–1600 ₽           1550.0   \n",
       "2        средние         Средний счёт:от 1000 ₽           1000.0   \n",
       "3            NaN  Цена чашки капучино:155–185 ₽              NaN   \n",
       "4        средние         Средний счёт:400–600 ₽            500.0   \n",
       "\n",
       "   middle_coffee_cup  \n",
       "0                NaN  \n",
       "1                NaN  \n",
       "2                NaN  \n",
       "3              170.0  \n",
       "4                NaN  "
      ]
     },
     "execution_count": 13,
     "metadata": {},
     "output_type": "execute_result"
    }
   ],
   "source": [
    "df.head()"
   ]
  },
  {
   "cell_type": "code",
   "execution_count": 14,
   "id": "6577c71c",
   "metadata": {
    "id": "6577c71c"
   },
   "outputs": [
    {
     "name": "stdout",
     "output_type": "stream",
     "text": [
      "<class 'pandas.core.frame.DataFrame'>\n",
      "Int64Index: 8406 entries, 0 to 8405\n",
      "Data columns (total 13 columns):\n",
      " #   Column             Non-Null Count  Dtype  \n",
      "---  ------             --------------  -----  \n",
      " 0   id                 8406 non-null   object \n",
      " 1   name               8406 non-null   object \n",
      " 2   category           8406 non-null   object \n",
      " 3   address            8406 non-null   object \n",
      " 4   district           8406 non-null   object \n",
      " 5   hours              7870 non-null   object \n",
      " 6   rating             8406 non-null   float64\n",
      " 7   chain              8406 non-null   int64  \n",
      " 8   seats              4795 non-null   float64\n",
      " 9   price              3315 non-null   object \n",
      " 10  avg_bill           3816 non-null   object \n",
      " 11  middle_avg_bill    3149 non-null   float64\n",
      " 12  middle_coffee_cup  535 non-null    float64\n",
      "dtypes: float64(4), int64(1), object(8)\n",
      "memory usage: 919.4+ KB\n"
     ]
    }
   ],
   "source": [
    "df.info()"
   ]
  },
  {
   "cell_type": "markdown",
   "id": "eeb3593e",
   "metadata": {},
   "source": [
    "### Промежуточный вывод\n",
    "\n",
    "датасет df содержит 13 столбцов и 8406 строк, в которых представлена информация о заведениях общественного питания. Объем данных 919.4+ КВ.\n",
    "\n",
    "Столбцы rating, chain, seats, middle_avg_bill, float64, middle_coffee_cup представлены числовыми данными. Столбец chain имеет смысл привести к меньшему разряду для уменьшения объема памяти.\n",
    "Столбцы с вещественными данными представлены типом данных объект."
   ]
  },
  {
   "cell_type": "markdown",
   "id": "956e82e2",
   "metadata": {
    "id": "956e82e2"
   },
   "source": [
    "## 2. Предобработка данных\n",
    "\n",
    "Подготовьте данные к исследовательскому анализу:\n",
    "\n",
    "- Изучите корректность типов данных и при необходимости проведите их преобразование."
   ]
  },
  {
   "cell_type": "code",
   "execution_count": 15,
   "id": "67956690",
   "metadata": {
    "id": "67956690"
   },
   "outputs": [
    {
     "name": "stdout",
     "output_type": "stream",
     "text": [
      "<class 'pandas.core.frame.DataFrame'>\n",
      "Int64Index: 8406 entries, 0 to 8405\n",
      "Data columns (total 13 columns):\n",
      " #   Column             Non-Null Count  Dtype  \n",
      "---  ------             --------------  -----  \n",
      " 0   id                 8406 non-null   object \n",
      " 1   name               8406 non-null   object \n",
      " 2   category           8406 non-null   object \n",
      " 3   address            8406 non-null   object \n",
      " 4   district           8406 non-null   object \n",
      " 5   hours              7870 non-null   object \n",
      " 6   rating             8406 non-null   float64\n",
      " 7   chain              8406 non-null   int64  \n",
      " 8   seats              4795 non-null   float64\n",
      " 9   price              3315 non-null   object \n",
      " 10  avg_bill           3816 non-null   object \n",
      " 11  middle_avg_bill    3149 non-null   float64\n",
      " 12  middle_coffee_cup  535 non-null    float64\n",
      "dtypes: float64(4), int64(1), object(8)\n",
      "memory usage: 919.4+ KB\n"
     ]
    }
   ],
   "source": [
    "df.info()"
   ]
  },
  {
   "cell_type": "markdown",
   "id": "47f03985",
   "metadata": {
    "id": "b5f2a94d"
   },
   "source": [
    "В датасепте 4 колонки с типом данных float64, 1 колонка с типом данных int64, 8 с типом данных object.\n",
    "Целесообразно оптимизировать тип данных в столбце chain на целочисленный тип с меньшей разрядностью"
   ]
  },
  {
   "cell_type": "code",
   "execution_count": 16,
   "id": "5097ae53",
   "metadata": {},
   "outputs": [],
   "source": [
    "# Оптимизируем целочисленный тип данных в датафрейме chain\n",
    "df['chain'] = pd.to_numeric(df['chain'], downcast='integer') "
   ]
  },
  {
   "cell_type": "code",
   "execution_count": 17,
   "id": "e3d9175e",
   "metadata": {},
   "outputs": [
    {
     "name": "stdout",
     "output_type": "stream",
     "text": [
      "<class 'pandas.core.frame.DataFrame'>\n",
      "Int64Index: 8406 entries, 0 to 8405\n",
      "Data columns (total 13 columns):\n",
      " #   Column             Non-Null Count  Dtype  \n",
      "---  ------             --------------  -----  \n",
      " 0   id                 8406 non-null   object \n",
      " 1   name               8406 non-null   object \n",
      " 2   category           8406 non-null   object \n",
      " 3   address            8406 non-null   object \n",
      " 4   district           8406 non-null   object \n",
      " 5   hours              7870 non-null   object \n",
      " 6   rating             8406 non-null   float64\n",
      " 7   chain              8406 non-null   int8   \n",
      " 8   seats              4795 non-null   float64\n",
      " 9   price              3315 non-null   object \n",
      " 10  avg_bill           3816 non-null   object \n",
      " 11  middle_avg_bill    3149 non-null   float64\n",
      " 12  middle_coffee_cup  535 non-null    float64\n",
      "dtypes: float64(4), int8(1), object(8)\n",
      "memory usage: 861.9+ KB\n"
     ]
    }
   ],
   "source": [
    "#Проверим изменение типа данных\n",
    "df.info()"
   ]
  },
  {
   "cell_type": "markdown",
   "id": "04486381",
   "metadata": {},
   "source": [
    "тип данных в Столбце chain изменился до int8, что сохраняет память. Объем данных уменьшен до 861,9+ КВ.  "
   ]
  },
  {
   "cell_type": "code",
   "execution_count": 18,
   "id": "9fae93c2",
   "metadata": {
    "id": "620d2f08"
   },
   "outputs": [
    {
     "data": {
      "text/plain": [
       "Index(['id', 'name', 'category', 'address', 'district', 'hours', 'rating',\n",
       "       'chain', 'seats', 'price', 'avg_bill', 'middle_avg_bill',\n",
       "       'middle_coffee_cup'],\n",
       "      dtype='object')"
      ]
     },
     "execution_count": 18,
     "metadata": {},
     "output_type": "execute_result"
    }
   ],
   "source": [
    "# Выводим названия столбцов датафрейма info_df\n",
    "df.columns"
   ]
  },
  {
   "cell_type": "markdown",
   "id": "bd9c58cf",
   "metadata": {},
   "source": [
    "Отлично. Названия столбцов единны. Но для возможных отклонений, преобразцем названия столбцов в snake_case"
   ]
  },
  {
   "cell_type": "code",
   "execution_count": 19,
   "id": "e3a0b30f",
   "metadata": {},
   "outputs": [],
   "source": [
    "# Названия столбцов лучше привести к одному виду, например snake case.\n",
    "# Напишем функцию для корректировки названия столбцов из CamelCase в snake_case\n",
    "def col_to_snake_case(df):\n",
    "    for col in df.columns:\n",
    "        str_bad = col\n",
    "        if str_bad[0].isupper():\n",
    "            str_bad = str_bad[0].lower() + str_bad[1:]\n",
    "        for index_s, item_s in enumerate(str_bad):\n",
    "            if item_s.isupper():\n",
    "                str_bad = str_bad[:index_s] + '_' + str_bad[index_s].lower() + str_bad[index_s + 1:]\n",
    "        df = df.rename(columns={col: str_bad})\n",
    "    return df \n",
    "# Применяем функцию col_to_snake_case()\n",
    "df = col_to_snake_case(df)"
   ]
  },
  {
   "cell_type": "code",
   "execution_count": 20,
   "id": "1d31e3f5",
   "metadata": {},
   "outputs": [
    {
     "data": {
      "text/plain": [
       "Index(['id', 'name', 'category', 'address', 'district', 'hours', 'rating',\n",
       "       'chain', 'seats', 'price', 'avg_bill', 'middle_avg_bill',\n",
       "       'middle_coffee_cup'],\n",
       "      dtype='object')"
      ]
     },
     "execution_count": 20,
     "metadata": {},
     "output_type": "execute_result"
    }
   ],
   "source": [
    "# Проверяем названия столбцов датафрейма df\n",
    "df.columns"
   ]
  },
  {
   "cell_type": "markdown",
   "id": "4b7ee469",
   "metadata": {
    "id": "4b7ee469"
   },
   "source": [
    "- Изучите пропущенные значения в данных: посчитайте их количество в каждом столбце датафрейме, изучите данные с пропущенными значениями и предположите гипотезы их появления. Проведите обработку пропущенных значений: вы можете заменить пропуски на определённое значение, удалить строки с пропусками или оставить их как есть."
   ]
  },
  {
   "cell_type": "code",
   "execution_count": 21,
   "id": "3d8840ca",
   "metadata": {
    "id": "3d8840ca"
   },
   "outputs": [
    {
     "data": {
      "text/plain": [
       "middle_coffee_cup    7871\n",
       "middle_avg_bill      5257\n",
       "price                5091\n",
       "avg_bill             4590\n",
       "seats                3611\n",
       "hours                 536\n",
       "id                      0\n",
       "name                    0\n",
       "category                0\n",
       "address                 0\n",
       "district                0\n",
       "rating                  0\n",
       "chain                   0\n",
       "dtype: int64"
      ]
     },
     "execution_count": 21,
     "metadata": {},
     "output_type": "execute_result"
    }
   ],
   "source": [
    "# Применяем метод isna() к датафрейму df\n",
    "df.isna().sum().sort_values(ascending=False)"
   ]
  },
  {
   "cell_type": "code",
   "execution_count": 22,
   "id": "2ea145ca",
   "metadata": {
    "id": "2ea145ca"
   },
   "outputs": [
    {
     "data": {
      "text/html": [
       "<style  type=\"text/css\" >\n",
       "#T_b37ef_row0_col0{\n",
       "            background-color:  #b40426;\n",
       "            color:  #f1f1f1;\n",
       "        }#T_b37ef_row1_col0{\n",
       "            background-color:  #f7b89c;\n",
       "            color:  #000000;\n",
       "        }#T_b37ef_row2_col0{\n",
       "            background-color:  #f6bea4;\n",
       "            color:  #000000;\n",
       "        }#T_b37ef_row3_col0{\n",
       "            background-color:  #efcebd;\n",
       "            color:  #000000;\n",
       "        }#T_b37ef_row4_col0{\n",
       "            background-color:  #d2dbe8;\n",
       "            color:  #000000;\n",
       "        }#T_b37ef_row5_col0{\n",
       "            background-color:  #4f69d9;\n",
       "            color:  #000000;\n",
       "        }#T_b37ef_row6_col0,#T_b37ef_row7_col0,#T_b37ef_row8_col0,#T_b37ef_row9_col0,#T_b37ef_row10_col0,#T_b37ef_row11_col0,#T_b37ef_row12_col0{\n",
       "            background-color:  #3b4cc0;\n",
       "            color:  #f1f1f1;\n",
       "        }</style><table id=\"T_b37ef_\" ><thead>    <tr>        <th class=\"blank level0\" ></th>        <th class=\"col_heading level0 col0\" >Missing</th>    </tr></thead><tbody>\n",
       "                <tr>\n",
       "                        <th id=\"T_b37ef_level0_row0\" class=\"row_heading level0 row0\" >middle_coffee_cup</th>\n",
       "                        <td id=\"T_b37ef_row0_col0\" class=\"data row0 col0\" >0.94</td>\n",
       "            </tr>\n",
       "            <tr>\n",
       "                        <th id=\"T_b37ef_level0_row1\" class=\"row_heading level0 row1\" >middle_avg_bill</th>\n",
       "                        <td id=\"T_b37ef_row1_col0\" class=\"data row1 col0\" >0.63</td>\n",
       "            </tr>\n",
       "            <tr>\n",
       "                        <th id=\"T_b37ef_level0_row2\" class=\"row_heading level0 row2\" >price</th>\n",
       "                        <td id=\"T_b37ef_row2_col0\" class=\"data row2 col0\" >0.61</td>\n",
       "            </tr>\n",
       "            <tr>\n",
       "                        <th id=\"T_b37ef_level0_row3\" class=\"row_heading level0 row3\" >avg_bill</th>\n",
       "                        <td id=\"T_b37ef_row3_col0\" class=\"data row3 col0\" >0.55</td>\n",
       "            </tr>\n",
       "            <tr>\n",
       "                        <th id=\"T_b37ef_level0_row4\" class=\"row_heading level0 row4\" >seats</th>\n",
       "                        <td id=\"T_b37ef_row4_col0\" class=\"data row4 col0\" >0.43</td>\n",
       "            </tr>\n",
       "            <tr>\n",
       "                        <th id=\"T_b37ef_level0_row5\" class=\"row_heading level0 row5\" >hours</th>\n",
       "                        <td id=\"T_b37ef_row5_col0\" class=\"data row5 col0\" >0.06</td>\n",
       "            </tr>\n",
       "            <tr>\n",
       "                        <th id=\"T_b37ef_level0_row6\" class=\"row_heading level0 row6\" >id</th>\n",
       "                        <td id=\"T_b37ef_row6_col0\" class=\"data row6 col0\" >0.00</td>\n",
       "            </tr>\n",
       "            <tr>\n",
       "                        <th id=\"T_b37ef_level0_row7\" class=\"row_heading level0 row7\" >name</th>\n",
       "                        <td id=\"T_b37ef_row7_col0\" class=\"data row7 col0\" >0.00</td>\n",
       "            </tr>\n",
       "            <tr>\n",
       "                        <th id=\"T_b37ef_level0_row8\" class=\"row_heading level0 row8\" >category</th>\n",
       "                        <td id=\"T_b37ef_row8_col0\" class=\"data row8 col0\" >0.00</td>\n",
       "            </tr>\n",
       "            <tr>\n",
       "                        <th id=\"T_b37ef_level0_row9\" class=\"row_heading level0 row9\" >address</th>\n",
       "                        <td id=\"T_b37ef_row9_col0\" class=\"data row9 col0\" >0.00</td>\n",
       "            </tr>\n",
       "            <tr>\n",
       "                        <th id=\"T_b37ef_level0_row10\" class=\"row_heading level0 row10\" >district</th>\n",
       "                        <td id=\"T_b37ef_row10_col0\" class=\"data row10 col0\" >0.00</td>\n",
       "            </tr>\n",
       "            <tr>\n",
       "                        <th id=\"T_b37ef_level0_row11\" class=\"row_heading level0 row11\" >rating</th>\n",
       "                        <td id=\"T_b37ef_row11_col0\" class=\"data row11 col0\" >0.00</td>\n",
       "            </tr>\n",
       "            <tr>\n",
       "                        <th id=\"T_b37ef_level0_row12\" class=\"row_heading level0 row12\" >chain</th>\n",
       "                        <td id=\"T_b37ef_row12_col0\" class=\"data row12 col0\" >0.00</td>\n",
       "            </tr>\n",
       "    </tbody></table>"
      ],
      "text/plain": [
       "<pandas.io.formats.style.Styler at 0x7fc460caecd0>"
      ]
     },
     "execution_count": 22,
     "metadata": {},
     "output_type": "execute_result"
    }
   ],
   "source": [
    "# Вычисляем процент пропущенных значений\n",
    "missing = (df.isna().sum() / df.shape[0]).sort_values(ascending=False)\n",
    "\n",
    "# Преобразуем Series в DataFrame\n",
    "missing_df = missing.to_frame(name='Missing')\n",
    "\n",
    "# Применяем градиентный фон к результатам\n",
    "styled_output = missing_df.style.background_gradient(cmap='coolwarm', axis=0).set_precision(2)\n",
    "\n",
    "styled_output"
   ]
  },
  {
   "cell_type": "markdown",
   "id": "c1d4bc0c",
   "metadata": {
    "id": "d9e7c358"
   },
   "source": [
    "Выявлены пропуски в столбцах:\n",
    "Максимально в middle_coffee_cup    0.94,\n",
    "далее\n",
    "middle_avg_bill \t0.63\n",
    "price \t0.61\n",
    "avg_bill \t0.55\n",
    "seats \t0.31\n",
    "hours \t0.06"
   ]
  },
  {
   "cell_type": "code",
   "execution_count": 23,
   "id": "83b675ce",
   "metadata": {},
   "outputs": [],
   "source": [
    "#Чтобы разобраться с причиной пропусков, проанализируем возможные взаимосвязи пропусков \n",
    "#Определяем функцию, которая создаст новый столбец с бинарным признаком в зависимости от наличия данных в другом столбце\n",
    "def middle_is_na(x):\n",
    "    if x:\n",
    "        return 0\n",
    "    return 1 "
   ]
  },
  {
   "cell_type": "code",
   "execution_count": 24,
   "id": "5ad93981",
   "metadata": {},
   "outputs": [],
   "source": [
    "# Создаём столбец is_middle с помощью функции middle_is_na\n",
    "df['is_middle'] = df['middle_avg_bill'].isna().apply(middle_is_na) "
   ]
  },
  {
   "cell_type": "code",
   "execution_count": 25,
   "id": "6fc0f98c",
   "metadata": {},
   "outputs": [
    {
     "data": {
      "text/html": [
       "<div>\n",
       "<style scoped>\n",
       "    .dataframe tbody tr th:only-of-type {\n",
       "        vertical-align: middle;\n",
       "    }\n",
       "\n",
       "    .dataframe tbody tr th {\n",
       "        vertical-align: top;\n",
       "    }\n",
       "\n",
       "    .dataframe thead th {\n",
       "        text-align: right;\n",
       "    }\n",
       "</style>\n",
       "<table border=\"1\" class=\"dataframe\">\n",
       "  <thead>\n",
       "    <tr style=\"text-align: right;\">\n",
       "      <th></th>\n",
       "      <th>seats</th>\n",
       "      <th>chain</th>\n",
       "    </tr>\n",
       "    <tr>\n",
       "      <th>is_middle</th>\n",
       "      <th></th>\n",
       "      <th></th>\n",
       "    </tr>\n",
       "  </thead>\n",
       "  <tbody>\n",
       "    <tr>\n",
       "      <th>0</th>\n",
       "      <td>104.906239</td>\n",
       "      <td>0.384059</td>\n",
       "    </tr>\n",
       "    <tr>\n",
       "      <th>1</th>\n",
       "      <td>113.376884</td>\n",
       "      <td>0.376628</td>\n",
       "    </tr>\n",
       "  </tbody>\n",
       "</table>\n",
       "</div>"
      ],
      "text/plain": [
       "                seats     chain\n",
       "is_middle                      \n",
       "0          104.906239  0.384059\n",
       "1          113.376884  0.376628"
      ]
     },
     "execution_count": 25,
     "metadata": {},
     "output_type": "execute_result"
    }
   ],
   "source": [
    "# Проводим агрегацию данных по полю 'is_middle\n",
    "df.groupby('is_middle').agg({\n",
    "    'seats':'mean',\n",
    "    'chain':'mean'\n",
    "}) "
   ]
  },
  {
   "cell_type": "code",
   "execution_count": 26,
   "id": "36a7c4b4",
   "metadata": {},
   "outputs": [],
   "source": [
    "# Создаём столбец is_middle_coffee с помощью функции middle_is_na\n",
    "df['is_middle_coffee'] = df['middle_coffee_cup'].isna().apply(middle_is_na) "
   ]
  },
  {
   "cell_type": "code",
   "execution_count": 27,
   "id": "e66dcd06",
   "metadata": {},
   "outputs": [
    {
     "data": {
      "text/html": [
       "<div>\n",
       "<style scoped>\n",
       "    .dataframe tbody tr th:only-of-type {\n",
       "        vertical-align: middle;\n",
       "    }\n",
       "\n",
       "    .dataframe tbody tr th {\n",
       "        vertical-align: top;\n",
       "    }\n",
       "\n",
       "    .dataframe thead th {\n",
       "        text-align: right;\n",
       "    }\n",
       "</style>\n",
       "<table border=\"1\" class=\"dataframe\">\n",
       "  <thead>\n",
       "    <tr style=\"text-align: right;\">\n",
       "      <th></th>\n",
       "      <th>seats</th>\n",
       "      <th>chain</th>\n",
       "    </tr>\n",
       "    <tr>\n",
       "      <th>is_middle_coffee</th>\n",
       "      <th></th>\n",
       "      <th></th>\n",
       "    </tr>\n",
       "  </thead>\n",
       "  <tbody>\n",
       "    <tr>\n",
       "      <th>0</th>\n",
       "      <td>108.804715</td>\n",
       "      <td>0.373777</td>\n",
       "    </tr>\n",
       "    <tr>\n",
       "      <th>1</th>\n",
       "      <td>102.662207</td>\n",
       "      <td>0.491589</td>\n",
       "    </tr>\n",
       "  </tbody>\n",
       "</table>\n",
       "</div>"
      ],
      "text/plain": [
       "                       seats     chain\n",
       "is_middle_coffee                      \n",
       "0                 108.804715  0.373777\n",
       "1                 102.662207  0.491589"
      ]
     },
     "execution_count": 27,
     "metadata": {},
     "output_type": "execute_result"
    }
   ],
   "source": [
    "# Проводим агрегацию данных по полю 'is_middle\n",
    "df.groupby('is_middle_coffee').agg({\n",
    "    'seats':'mean',\n",
    "    'chain':'mean'\n",
    "}) "
   ]
  },
  {
   "cell_type": "markdown",
   "id": "35dee337",
   "metadata": {
    "id": "d9e7c358"
   },
   "source": [
    "Пропуски в столбце \"число с оценкой среднего чека\" и \"число с оценкой одной чашки капучино\" практически в равном процентном соотношении, как в сетевых, так и в не сетевых учреждениях. Они практически не связаны с наличием или отсутствием сведений по числу мест в заведении.\n",
    "Вероятно, эти пропуски обусловлены тем, что значений нет в столбце avg_bill (в 6 процентах случаев) или оно не начинается с подстроки «Средний счёт»."
   ]
  },
  {
   "cell_type": "markdown",
   "id": "74e8f3c6",
   "metadata": {
    "id": "c4d5f04d"
   },
   "source": [
    "- Проверьте данные на явные и неявные дубликаты, например поля с названием и адресом заведения. Для оптимизации проверки нормализуйте данные в текстовых столбцах, например с названием заведения."
   ]
  },
  {
   "cell_type": "code",
   "execution_count": 28,
   "id": "0769b681",
   "metadata": {
    "id": "0769b681"
   },
   "outputs": [],
   "source": [
    "df['name'] = df['name'].str.lower().str.replace(' ', '')"
   ]
  },
  {
   "cell_type": "code",
   "execution_count": 29,
   "id": "95b15cd0",
   "metadata": {
    "id": "95b15cd0"
   },
   "outputs": [
    {
     "data": {
      "text/plain": [
       "0"
      ]
     },
     "execution_count": 29,
     "metadata": {},
     "output_type": "execute_result"
    }
   ],
   "source": [
    "# Проверяем полные дубликаты в датафрейме info_df\n",
    "df.duplicated().sum() "
   ]
  },
  {
   "cell_type": "code",
   "execution_count": 30,
   "id": "867c6eba",
   "metadata": {},
   "outputs": [
    {
     "data": {
      "text/plain": [
       "4"
      ]
     },
     "execution_count": 30,
     "metadata": {},
     "output_type": "execute_result"
    }
   ],
   "source": [
    "# Проверяем неявные дубликаты в датафрейме clients_df\n",
    "df.duplicated(subset=['name', 'address', 'district']).sum() "
   ]
  },
  {
   "cell_type": "code",
   "execution_count": 31,
   "id": "7a3fd8e7",
   "metadata": {
    "scrolled": true
   },
   "outputs": [
    {
     "data": {
      "text/html": [
       "<div>\n",
       "<style scoped>\n",
       "    .dataframe tbody tr th:only-of-type {\n",
       "        vertical-align: middle;\n",
       "    }\n",
       "\n",
       "    .dataframe tbody tr th {\n",
       "        vertical-align: top;\n",
       "    }\n",
       "\n",
       "    .dataframe thead th {\n",
       "        text-align: right;\n",
       "    }\n",
       "</style>\n",
       "<table border=\"1\" class=\"dataframe\">\n",
       "  <thead>\n",
       "    <tr style=\"text-align: right;\">\n",
       "      <th></th>\n",
       "      <th>id</th>\n",
       "      <th>name</th>\n",
       "      <th>category</th>\n",
       "      <th>address</th>\n",
       "      <th>district</th>\n",
       "      <th>hours</th>\n",
       "      <th>rating</th>\n",
       "      <th>chain</th>\n",
       "      <th>seats</th>\n",
       "      <th>price</th>\n",
       "      <th>avg_bill</th>\n",
       "      <th>middle_avg_bill</th>\n",
       "      <th>middle_coffee_cup</th>\n",
       "      <th>is_middle</th>\n",
       "      <th>is_middle_coffee</th>\n",
       "    </tr>\n",
       "  </thead>\n",
       "  <tbody>\n",
       "    <tr>\n",
       "      <th>1430</th>\n",
       "      <td>62608690e9cc464fbcd980cfd552e334</td>\n",
       "      <td>morepoke</td>\n",
       "      <td>ресторан</td>\n",
       "      <td>Москва, Волоколамское шоссе, 11, стр. 2</td>\n",
       "      <td>Северный административный округ</td>\n",
       "      <td>ежедневно, 09:00–21:00</td>\n",
       "      <td>4.2</td>\n",
       "      <td>0</td>\n",
       "      <td>188.0</td>\n",
       "      <td>NaN</td>\n",
       "      <td>NaN</td>\n",
       "      <td>NaN</td>\n",
       "      <td>NaN</td>\n",
       "      <td>0</td>\n",
       "      <td>0</td>\n",
       "    </tr>\n",
       "    <tr>\n",
       "      <th>1511</th>\n",
       "      <td>a69f018d5c064873a3b491b0121bc1b4</td>\n",
       "      <td>morepoke</td>\n",
       "      <td>ресторан</td>\n",
       "      <td>Москва, Волоколамское шоссе, 11, стр. 2</td>\n",
       "      <td>Северный административный округ</td>\n",
       "      <td>пн-чт 09:00–18:00; пт,сб 09:00–21:00; вс 09:00...</td>\n",
       "      <td>4.2</td>\n",
       "      <td>1</td>\n",
       "      <td>188.0</td>\n",
       "      <td>NaN</td>\n",
       "      <td>NaN</td>\n",
       "      <td>NaN</td>\n",
       "      <td>NaN</td>\n",
       "      <td>0</td>\n",
       "      <td>0</td>\n",
       "    </tr>\n",
       "    <tr>\n",
       "      <th>2211</th>\n",
       "      <td>c6ef39ae8a8c483d8f9a6531bc386a2c</td>\n",
       "      <td>раковарняклешниихвосты</td>\n",
       "      <td>ресторан</td>\n",
       "      <td>Москва, проспект Мира, 118</td>\n",
       "      <td>Северо-Восточный административный округ</td>\n",
       "      <td>ежедневно, 12:00–00:00</td>\n",
       "      <td>4.4</td>\n",
       "      <td>0</td>\n",
       "      <td>150.0</td>\n",
       "      <td>NaN</td>\n",
       "      <td>NaN</td>\n",
       "      <td>NaN</td>\n",
       "      <td>NaN</td>\n",
       "      <td>0</td>\n",
       "      <td>0</td>\n",
       "    </tr>\n",
       "    <tr>\n",
       "      <th>2420</th>\n",
       "      <td>aba1de7ad7d64ac0a3f8684bda29d905</td>\n",
       "      <td>раковарняклешниихвосты</td>\n",
       "      <td>бар,паб</td>\n",
       "      <td>Москва, проспект Мира, 118</td>\n",
       "      <td>Северо-Восточный административный округ</td>\n",
       "      <td>пн-чт 12:00–00:00; пт,сб 12:00–01:00; вс 12:00...</td>\n",
       "      <td>4.4</td>\n",
       "      <td>1</td>\n",
       "      <td>150.0</td>\n",
       "      <td>NaN</td>\n",
       "      <td>NaN</td>\n",
       "      <td>NaN</td>\n",
       "      <td>NaN</td>\n",
       "      <td>0</td>\n",
       "      <td>0</td>\n",
       "    </tr>\n",
       "    <tr>\n",
       "      <th>3091</th>\n",
       "      <td>3c2a73ea79a04be48858fab3685f2f37</td>\n",
       "      <td>хлебдавыпечка</td>\n",
       "      <td>булочная</td>\n",
       "      <td>Москва, Ярцевская улица, 19</td>\n",
       "      <td>Западный административный округ</td>\n",
       "      <td>ежедневно, 09:00–22:00</td>\n",
       "      <td>4.1</td>\n",
       "      <td>1</td>\n",
       "      <td>276.0</td>\n",
       "      <td>NaN</td>\n",
       "      <td>NaN</td>\n",
       "      <td>NaN</td>\n",
       "      <td>NaN</td>\n",
       "      <td>0</td>\n",
       "      <td>0</td>\n",
       "    </tr>\n",
       "    <tr>\n",
       "      <th>3109</th>\n",
       "      <td>d3116844e4e048f99614eb30be3214e0</td>\n",
       "      <td>хлебдавыпечка</td>\n",
       "      <td>кафе</td>\n",
       "      <td>Москва, Ярцевская улица, 19</td>\n",
       "      <td>Западный административный округ</td>\n",
       "      <td>NaN</td>\n",
       "      <td>4.1</td>\n",
       "      <td>0</td>\n",
       "      <td>276.0</td>\n",
       "      <td>NaN</td>\n",
       "      <td>NaN</td>\n",
       "      <td>NaN</td>\n",
       "      <td>NaN</td>\n",
       "      <td>0</td>\n",
       "      <td>0</td>\n",
       "    </tr>\n",
       "    <tr>\n",
       "      <th>4613</th>\n",
       "      <td>c604c846b838480e9ba47a404ba200f9</td>\n",
       "      <td>cafe13</td>\n",
       "      <td>кафе</td>\n",
       "      <td>Москва, Мясницкая улица, 13, стр. 11</td>\n",
       "      <td>Центральный административный округ</td>\n",
       "      <td>пн-чт 10:00–22:00; пт 10:00–19:00</td>\n",
       "      <td>4.3</td>\n",
       "      <td>0</td>\n",
       "      <td>200.0</td>\n",
       "      <td>NaN</td>\n",
       "      <td>NaN</td>\n",
       "      <td>NaN</td>\n",
       "      <td>NaN</td>\n",
       "      <td>0</td>\n",
       "      <td>0</td>\n",
       "    </tr>\n",
       "    <tr>\n",
       "      <th>4780</th>\n",
       "      <td>bfb96e4f7b4d4f6d94e94b0187527a42</td>\n",
       "      <td>cafe13</td>\n",
       "      <td>ресторан</td>\n",
       "      <td>Москва, Мясницкая улица, 13, стр. 11</td>\n",
       "      <td>Центральный административный округ</td>\n",
       "      <td>пн-чт 10:00–22:00; пт 10:00–18:00</td>\n",
       "      <td>4.3</td>\n",
       "      <td>0</td>\n",
       "      <td>200.0</td>\n",
       "      <td>NaN</td>\n",
       "      <td>NaN</td>\n",
       "      <td>NaN</td>\n",
       "      <td>NaN</td>\n",
       "      <td>0</td>\n",
       "      <td>0</td>\n",
       "    </tr>\n",
       "  </tbody>\n",
       "</table>\n",
       "</div>"
      ],
      "text/plain": [
       "                                    id                    name  category  \\\n",
       "1430  62608690e9cc464fbcd980cfd552e334                morepoke  ресторан   \n",
       "1511  a69f018d5c064873a3b491b0121bc1b4                morepoke  ресторан   \n",
       "2211  c6ef39ae8a8c483d8f9a6531bc386a2c  раковарняклешниихвосты  ресторан   \n",
       "2420  aba1de7ad7d64ac0a3f8684bda29d905  раковарняклешниихвосты   бар,паб   \n",
       "3091  3c2a73ea79a04be48858fab3685f2f37           хлебдавыпечка  булочная   \n",
       "3109  d3116844e4e048f99614eb30be3214e0           хлебдавыпечка      кафе   \n",
       "4613  c604c846b838480e9ba47a404ba200f9                  cafe13      кафе   \n",
       "4780  bfb96e4f7b4d4f6d94e94b0187527a42                  cafe13  ресторан   \n",
       "\n",
       "                                      address  \\\n",
       "1430  Москва, Волоколамское шоссе, 11, стр. 2   \n",
       "1511  Москва, Волоколамское шоссе, 11, стр. 2   \n",
       "2211               Москва, проспект Мира, 118   \n",
       "2420               Москва, проспект Мира, 118   \n",
       "3091              Москва, Ярцевская улица, 19   \n",
       "3109              Москва, Ярцевская улица, 19   \n",
       "4613     Москва, Мясницкая улица, 13, стр. 11   \n",
       "4780     Москва, Мясницкая улица, 13, стр. 11   \n",
       "\n",
       "                                     district  \\\n",
       "1430          Северный административный округ   \n",
       "1511          Северный административный округ   \n",
       "2211  Северо-Восточный административный округ   \n",
       "2420  Северо-Восточный административный округ   \n",
       "3091          Западный административный округ   \n",
       "3109          Западный административный округ   \n",
       "4613       Центральный административный округ   \n",
       "4780       Центральный административный округ   \n",
       "\n",
       "                                                  hours  rating  chain  seats  \\\n",
       "1430                             ежедневно, 09:00–21:00     4.2      0  188.0   \n",
       "1511  пн-чт 09:00–18:00; пт,сб 09:00–21:00; вс 09:00...     4.2      1  188.0   \n",
       "2211                             ежедневно, 12:00–00:00     4.4      0  150.0   \n",
       "2420  пн-чт 12:00–00:00; пт,сб 12:00–01:00; вс 12:00...     4.4      1  150.0   \n",
       "3091                             ежедневно, 09:00–22:00     4.1      1  276.0   \n",
       "3109                                                NaN     4.1      0  276.0   \n",
       "4613                  пн-чт 10:00–22:00; пт 10:00–19:00     4.3      0  200.0   \n",
       "4780                  пн-чт 10:00–22:00; пт 10:00–18:00     4.3      0  200.0   \n",
       "\n",
       "     price avg_bill  middle_avg_bill  middle_coffee_cup  is_middle  \\\n",
       "1430   NaN      NaN              NaN                NaN          0   \n",
       "1511   NaN      NaN              NaN                NaN          0   \n",
       "2211   NaN      NaN              NaN                NaN          0   \n",
       "2420   NaN      NaN              NaN                NaN          0   \n",
       "3091   NaN      NaN              NaN                NaN          0   \n",
       "3109   NaN      NaN              NaN                NaN          0   \n",
       "4613   NaN      NaN              NaN                NaN          0   \n",
       "4780   NaN      NaN              NaN                NaN          0   \n",
       "\n",
       "      is_middle_coffee  \n",
       "1430                 0  \n",
       "1511                 0  \n",
       "2211                 0  \n",
       "2420                 0  \n",
       "3091                 0  \n",
       "3109                 0  \n",
       "4613                 0  \n",
       "4780                 0  "
      ]
     },
     "metadata": {},
     "output_type": "display_data"
    }
   ],
   "source": [
    "# Проверяем неявные дубликаты в датафрейме clients_df\n",
    "duplicates = df[df.duplicated(subset=['name', 'address', 'district'], keep=False)]\n",
    "display(duplicates)\n"
   ]
  },
  {
   "cell_type": "code",
   "execution_count": 32,
   "id": "e502b270",
   "metadata": {},
   "outputs": [
    {
     "data": {
      "text/plain": [
       "0"
      ]
     },
     "execution_count": 32,
     "metadata": {},
     "output_type": "execute_result"
    }
   ],
   "source": [
    "# Удаляем дубликаты по столбцам 'name', 'address' и 'district'\n",
    "df = df.drop_duplicates(subset=['name', 'address', 'district'])\n",
    "# Проверяем неявные дубликаты в датафрейме clients_df\n",
    "df.duplicated(subset=['name', 'address', 'district']).sum() "
   ]
  },
  {
   "cell_type": "markdown",
   "id": "8884dc8a",
   "metadata": {
    "id": "b52bae9a"
   },
   "source": [
    "В датафреймах нет полных дубликатов строк. \n",
    "Есть 4 неявных дубликата (morepoke  ресторан, раковарняклешниихвосты  ресторан и бар,паб, хлебдавыпечка булочная и кафе, cafe13 кафе и  ресторан.\n",
    "Дубликаты удалены."
   ]
  },
  {
   "cell_type": "markdown",
   "id": "4c0563f2",
   "metadata": {
    "id": "4c0563f2"
   },
   "source": [
    "- Для дальнейшей работы создайте столбец `is_24_7` с обозначением того, что заведение работает ежедневно и круглосуточно, то есть 24/7:\n",
    "  - логическое значение `True` — если заведение работает ежедневно и круглосуточно;\n",
    "  - логическое значение `False` — в противоположном случае."
   ]
  },
  {
   "cell_type": "code",
   "execution_count": 33,
   "id": "a182e5cb",
   "metadata": {},
   "outputs": [
    {
     "data": {
      "text/html": [
       "<div>\n",
       "<style scoped>\n",
       "    .dataframe tbody tr th:only-of-type {\n",
       "        vertical-align: middle;\n",
       "    }\n",
       "\n",
       "    .dataframe tbody tr th {\n",
       "        vertical-align: top;\n",
       "    }\n",
       "\n",
       "    .dataframe thead th {\n",
       "        text-align: right;\n",
       "    }\n",
       "</style>\n",
       "<table border=\"1\" class=\"dataframe\">\n",
       "  <thead>\n",
       "    <tr style=\"text-align: right;\">\n",
       "      <th></th>\n",
       "      <th>id</th>\n",
       "      <th>name</th>\n",
       "      <th>category</th>\n",
       "      <th>address</th>\n",
       "      <th>district</th>\n",
       "      <th>hours</th>\n",
       "      <th>rating</th>\n",
       "      <th>chain</th>\n",
       "      <th>seats</th>\n",
       "      <th>price</th>\n",
       "      <th>avg_bill</th>\n",
       "      <th>middle_avg_bill</th>\n",
       "      <th>middle_coffee_cup</th>\n",
       "      <th>is_middle</th>\n",
       "      <th>is_middle_coffee</th>\n",
       "    </tr>\n",
       "    <tr>\n",
       "      <th>is_24_7</th>\n",
       "      <th></th>\n",
       "      <th></th>\n",
       "      <th></th>\n",
       "      <th></th>\n",
       "      <th></th>\n",
       "      <th></th>\n",
       "      <th></th>\n",
       "      <th></th>\n",
       "      <th></th>\n",
       "      <th></th>\n",
       "      <th></th>\n",
       "      <th></th>\n",
       "      <th></th>\n",
       "      <th></th>\n",
       "      <th></th>\n",
       "    </tr>\n",
       "  </thead>\n",
       "  <tbody>\n",
       "    <tr>\n",
       "      <th>False</th>\n",
       "      <td>7672</td>\n",
       "      <td>5099</td>\n",
       "      <td>8</td>\n",
       "      <td>5267</td>\n",
       "      <td>9</td>\n",
       "      <td>1304</td>\n",
       "      <td>41</td>\n",
       "      <td>2</td>\n",
       "      <td>228</td>\n",
       "      <td>4</td>\n",
       "      <td>863</td>\n",
       "      <td>225</td>\n",
       "      <td>95</td>\n",
       "      <td>2</td>\n",
       "      <td>2</td>\n",
       "    </tr>\n",
       "    <tr>\n",
       "      <th>True</th>\n",
       "      <td>730</td>\n",
       "      <td>495</td>\n",
       "      <td>8</td>\n",
       "      <td>666</td>\n",
       "      <td>9</td>\n",
       "      <td>1</td>\n",
       "      <td>34</td>\n",
       "      <td>2</td>\n",
       "      <td>107</td>\n",
       "      <td>4</td>\n",
       "      <td>138</td>\n",
       "      <td>59</td>\n",
       "      <td>9</td>\n",
       "      <td>2</td>\n",
       "      <td>2</td>\n",
       "    </tr>\n",
       "  </tbody>\n",
       "</table>\n",
       "</div>"
      ],
      "text/plain": [
       "           id  name  category  address  district  hours  rating  chain  seats  \\\n",
       "is_24_7                                                                         \n",
       "False    7672  5099         8     5267         9   1304      41      2    228   \n",
       "True      730   495         8      666         9      1      34      2    107   \n",
       "\n",
       "         price  avg_bill  middle_avg_bill  middle_coffee_cup  is_middle  \\\n",
       "is_24_7                                                                   \n",
       "False        4       863              225                 95          2   \n",
       "True         4       138               59                  9          2   \n",
       "\n",
       "         is_middle_coffee  \n",
       "is_24_7                    \n",
       "False                   2  \n",
       "True                    2  "
      ]
     },
     "execution_count": 33,
     "metadata": {},
     "output_type": "execute_result"
    }
   ],
   "source": [
    "# Проверка на наличие обоих слов\n",
    "contains_daily = df['hours'].str.contains('ежедневно', na=False)\n",
    "contains_24_7 = df['hours'].str.contains('круглосуточно', na=False)\n",
    "\n",
    "# Объединение условий\n",
    "df['is_24_7'] = contains_daily & contains_24_7\n",
    "df.groupby('is_24_7').nunique() "
   ]
  },
  {
   "cell_type": "code",
   "execution_count": 34,
   "id": "485ec326",
   "metadata": {
    "scrolled": true
   },
   "outputs": [
    {
     "data": {
      "text/plain": [
       "category\n",
       "бар,паб             679\n",
       "булочная            138\n",
       "быстрое питание     441\n",
       "кафе               1739\n",
       "кофейня             822\n",
       "пиццерия            360\n",
       "ресторан           1530\n",
       "столовая            242\n",
       "Name: name, dtype: int64"
      ]
     },
     "execution_count": 34,
     "metadata": {},
     "output_type": "execute_result"
    }
   ],
   "source": [
    "df.groupby('category')['name'].nunique() "
   ]
  },
  {
   "cell_type": "markdown",
   "id": "562f30ab",
   "metadata": {
    "id": "562f30ab"
   },
   "source": [
    "---\n",
    "\n",
    "### Промежуточный вывод\n",
    "\n",
    "После предобработки данных напишите промежуточный вывод о проведённой работе. Отразите количество или долю отфильтрованных данных, если вы что-то удаляли."
   ]
  },
  {
   "cell_type": "markdown",
   "id": "ddfa71d5",
   "metadata": {
    "id": "4e587ce1"
   },
   "source": [
    "После предобработки данных напишите промежуточный вывод о проведённой работе. Отразите количество или долю отфильтрованных данных, если вы что-то удаляли.\n",
    "\n",
    "Предствленный датасет df содержит 13 столбцов и 8406 строк, в которых представлена информация о заведениях общественного питания. Объем данных 919.4+ КВ.\n",
    "Столбец chain: изменен тип данных до int8. После преобразования: В датасепте 4 колонки с типом данных float64, 1 колонка с типом данных int8, 8 с типом данных object. Объем данных уменьшен до 861,9+ КВ.\n",
    "\n",
    "Столбцы rating, chain, seats, middle_avg_bill, float64,middle_coffee_cup представлены числовыми данными. \n",
    "Столбцы с вещественными данными представлены типом данных объект.\n",
    "\n",
    "Все наименования столбцов в единном образце. Представлены типом данных 'object.\n",
    "\n",
    "Выявлены пропуски в столбцах: Максимально в middle_coffee_cup 0.94, далее middle_avg_bill 0.63 price 0.61 avg_bill 0.55 seats 0.31 hours 0.06\n",
    "Кроме hours во всех столбцах огромное количество пропусков. \n",
    "Все пропуски оставлены в неизменном виде, так как могут искажать результат.\n",
    "ропуски в столбце \"число с оценкой среднего чека\" и \"число с оценкой одной чашки капучино\" практически в равном процентном соотношении, как в сетевых, так и в не сетевых учреждениях. Они практически не связаны с наличием или отсутствием сведений по числу мест в заведении. Вероятно, эти пропуски обусловлены тем, что значений нет в столбце avg_bill (в 6 процентах случаев) или оно не начинается с подстроки «Средний счёт».\n",
    "\n",
    "В датафреймах нет полных дубликатов строк.\n",
    "Есть 4 неявных дубликата (morepoke  ресторан, раковарняклешниихвосты  ресторан и бар,паб, хлебдавыпечка булочная и кафе, cafe13 кафе и  ресторан.Дубликаты удалены."
   ]
  },
  {
   "cell_type": "markdown",
   "id": "3e67046a",
   "metadata": {},
   "source": [
    "730 учрежденийв г.Москва работают круглосуточно и в ежедневном режиме."
   ]
  },
  {
   "cell_type": "markdown",
   "id": "6953e84c",
   "metadata": {
    "id": "6953e84c"
   },
   "source": [
    "## 3. Исследовательский анализ данных\n",
    "Проведите исследовательский анализ исходных данных.\n",
    "\n",
    "При исследовании данных используйте визуализации. Проверьте, что для каждого случая подобран оптимальный тип визуализации с корректным оформлением. У графика должен быть заголовок, понятные подписи по осям, при необходимости легенда, а его размер является оптимальным для изучения.\n",
    "\n",
    "После исследования каждого пункта оставляйте небольшой комментарий с выводом или обсуждением результата. В конце шага обобщите результаты, выделив, по вашему мнению, самые важные."
   ]
  },
  {
   "cell_type": "markdown",
   "id": "8555d840",
   "metadata": {
    "id": "8555d840"
   },
   "source": [
    "---\n",
    "\n",
    "### Задача 1\n",
    "\n",
    "Какие категории заведений представлены в данных? Исследуйте количество объектов общественного питания по каждой категории. Результат сопроводите подходящей визуализацией."
   ]
  },
  {
   "cell_type": "code",
   "execution_count": 35,
   "id": "ef2bffe9",
   "metadata": {
    "id": "ef2bffe9"
   },
   "outputs": [
    {
     "name": "stdout",
     "output_type": "stream",
     "text": [
      "Уникальные значения в столбце category:\n",
      "['бар,паб' 'булочная' 'быстрое питание' 'кафе' 'кофейня' 'пиццерия'\n",
      " 'ресторан' 'столовая']\n"
     ]
    }
   ],
   "source": [
    "# Проверяем уникальные значения в столбцe category\n",
    "for column_category in ['category']:\n",
    "    print(f'Уникальные значения в столбце {column_category}:')\n",
    "    print(df[column_category].sort_values().unique())"
   ]
  },
  {
   "cell_type": "code",
   "execution_count": 36,
   "id": "71ab5e91",
   "metadata": {
    "id": "71ab5e91"
   },
   "outputs": [
    {
     "name": "stdout",
     "output_type": "stream",
     "text": [
      "Распределение данных по значениям столбца category:\n"
     ]
    },
    {
     "data": {
      "text/plain": [
       "кафе               2377\n",
       "ресторан           2041\n",
       "кофейня            1413\n",
       "бар,паб             764\n",
       "пиццерия            633\n",
       "быстрое питание     603\n",
       "столовая            315\n",
       "булочная            256\n",
       "Name: category, dtype: int64"
      ]
     },
     "execution_count": 36,
     "metadata": {},
     "output_type": "execute_result"
    }
   ],
   "source": [
    "#Проверяем распределение данных по значениям столбца category\n",
    "print('Распределение данных по значениям столбца category:')\n",
    "df['category'].value_counts() "
   ]
  },
  {
   "cell_type": "markdown",
   "id": "384f50a8",
   "metadata": {
    "id": "63360b97"
   },
   "source": [
    "об этим данным можно сделать вывод, что все количество объектов общественного питания по каждой категории разные. Максимальное количество объектов в категории кафе (2377), ресторан (2041), кофейня (1413). В меньше количестве бар,паб (764), пиццерия (633), быстрое питание (603). Столовая и булочная количество объектов небольшое: 315 и 256 соответственно."
   ]
  },
  {
   "cell_type": "code",
   "execution_count": 37,
   "id": "9bab618e",
   "metadata": {},
   "outputs": [
    {
     "data": {
      "image/png": "[encoded data removed]",
      "text/plain": [
       "<Figure size 864x216 with 1 Axes>"
      ]
     },
     "metadata": {
      "needs_background": "light"
     },
     "output_type": "display_data"
    }
   ],
   "source": [
    "# Создаём контейнер графика matplotlib и задаём его размер\n",
    "plt.figure(figsize=(12, 3))\n",
    "\n",
    "# Строим столбчатую диаграмму с помощью pandas через plot(kind='bar')\n",
    "df['category'].value_counts().plot(\n",
    "               kind='bar', # Тип графика - столбчатая диаграмма\n",
    "               rot=0, # Градус вращения подписи по оси Х\n",
    "               legend=False, # Выключаем легенду\n",
    "               title=f'Распределение количества объектов в зависимости от категории объектов общественного питания'\n",
    ")\n",
    "\n",
    "# Настраиваем оформление графика\n",
    "plt.xlabel('Категория')\n",
    "plt.ylabel('Количество объектов')\n",
    "# Добавляем сетку графика\n",
    "plt.grid()\n",
    "\n",
    "# Выводим график\n",
    "plt.show() "
   ]
  },
  {
   "cell_type": "markdown",
   "id": "8e1b7b28",
   "metadata": {},
   "source": [
    "Из категорий по количеству объектов три (кафе, ресторан, кофейня) значительно преобладают, что отображено на столбчатой диаграмме \"Распределение количества объектов в зависимости от категории объектов общественного питания\"."
   ]
  },
  {
   "cell_type": "markdown",
   "id": "6821e1d0",
   "metadata": {
    "id": "6821e1d0"
   },
   "source": [
    "---\n",
    "\n",
    "### Задача 2\n",
    "\n",
    "Какие административные районы Москвы присутствуют в данных? Исследуйте распределение количества заведений по административным районам Москвы, а также отдельно распределение заведений каждой категории в Центральном административном округе Москвы. Результат сопроводите подходящими визуализациями."
   ]
  },
  {
   "cell_type": "code",
   "execution_count": 38,
   "id": "e62f31be",
   "metadata": {
    "id": "e62f31be"
   },
   "outputs": [
    {
     "data": {
      "image/png": "[encoded data removed]",
      "text/plain": [
       "<Figure size 2520x1440 with 1 Axes>"
      ]
     },
     "metadata": {
      "needs_background": "light"
     },
     "output_type": "display_data"
    }
   ],
   "source": [
    "# Создаём контейнер графика matplotlib и задаём его размер\n",
    "plt.figure(figsize=(35, 20))\n",
    "\n",
    "# Строим столбчатую диаграмму с помощью pandas через plot(kind='bar')\n",
    "df['district'].value_counts().plot(\n",
    "               kind='barh', # Тип графика - столбчатая диаграмма\n",
    "               rot=0, # Градус вращения подписи по оси Х\n",
    "               legend=False, # Выключаем легенду\n",
    "               title=f'Распределение количества заведений в административных районах'\n",
    ")\n",
    "\n",
    "# Настраиваем оформление графика\n",
    "plt.xlabel('Административный район')\n",
    "plt.ylabel('Количество объектов')\n",
    "# Добавляем сетку графика\n",
    "plt.grid()\n",
    "\n",
    "# Выводим график\n",
    "plt.show() "
   ]
  },
  {
   "cell_type": "markdown",
   "id": "b2b1ca05",
   "metadata": {
    "id": "0a290cd1"
   },
   "source": [
    "При визуализации отчетливо видно, что по количеству заведений лидирует Центральный административный округ. Остальные районы по числу заведений на одном уровне. Минимальное количество в Северо-Западном административом округе"
   ]
  },
  {
   "cell_type": "code",
   "execution_count": 39,
   "id": "41f1654a",
   "metadata": {
    "id": "41f1654a"
   },
   "outputs": [
    {
     "data": {
      "image/png": "[encoded data removed]",
      "text/plain": [
       "<Figure size 864x216 with 1 Axes>"
      ]
     },
     "metadata": {
      "needs_background": "light"
     },
     "output_type": "display_data"
    }
   ],
   "source": [
    "# Создаём контейнер графика matplotlib и задаём его размер\n",
    "plt.figure(figsize=(12, 3))\n",
    "\n",
    "# Данные для ЦАО\n",
    "cao_data = df.loc[df['district'] == 'Центральный административный округ']['category'].value_counts()\n",
    "cao_total = cao_data.sum()  # Общее количество объектов в ЦАО\n",
    "cao_normalized = cao_data / cao_total  # Нормализация\n",
    "\n",
    "# Строим столбчатую диаграмму с помощью pandas через plot(kind='bar')\n",
    "cao_normalized.plot(\n",
    "               kind='bar', # Тип графика - столбчатая диаграмма\n",
    "               rot=0, # Градус вращения подписи по оси Х\n",
    "               legend=False, # Выключаем легенду\n",
    "               title=f'Распределение количества объектов в зависимости от категории объектов общественного питания в ЦАО'\n",
    ")\n",
    "\n",
    "# Настраиваем оформление графика\n",
    "plt.xlabel('Категория')\n",
    "plt.ylabel('Доля объектов')\n",
    "# Добавляем сетку графика\n",
    "plt.grid()\n",
    "\n",
    "# Выводим график\n",
    "plt.show() "
   ]
  },
  {
   "cell_type": "code",
   "execution_count": 40,
   "id": "e8b87b0c",
   "metadata": {},
   "outputs": [
    {
     "data": {
      "image/png": "[encoded data removed]",
      "text/plain": [
       "<Figure size 864x216 with 1 Axes>"
      ]
     },
     "metadata": {
      "needs_background": "light"
     },
     "output_type": "display_data"
    }
   ],
   "source": [
    "# Создаём контейнер графика matplotlib и задаём его размер\n",
    "plt.figure(figsize=(12, 3))\n",
    "\n",
    "# Данные для всей Москвы\n",
    "moscow_data = df['category'].value_counts()\n",
    "moscow_total = moscow_data.sum()  # Общее количество объектов в Москве\n",
    "moscow_normalized = moscow_data / moscow_total  # Нормализация\n",
    "\n",
    "# Строим столбчатую диаграмму с помощью pandas через plot(kind='bar')\n",
    "moscow_normalized.plot(\n",
    "               kind='bar', # Тип графика - столбчатая диаграмма\n",
    "               rot=0, # Градус вращения подписи по оси Х\n",
    "               legend=False, # Выключаем легенду\n",
    "               title=f'Распределение количества объектов в зависимости от категории объектов общественного питания'\n",
    ")\n",
    "\n",
    "# Настраиваем оформление графика\n",
    "plt.xlabel('Категория')\n",
    "plt.ylabel('Доля объектов')\n",
    "# Добавляем сетку графика\n",
    "plt.grid()\n",
    "\n",
    "# Выводим график\n",
    "plt.show() "
   ]
  },
  {
   "cell_type": "markdown",
   "id": "6346ce22",
   "metadata": {},
   "source": [
    "При визуализации отчетливо видно, что в Центральном административном округе основная доля приходится на  рестораны (30%), далее кафе (21%) и кофейни(19). На четвертом месте бар, паб 16 %. 5% прихолится на пиццерию, менее 5% - быстрое питание, столовые, булочные.\n",
    "\n",
    "В москве структура меняяется. Основная доля приходится на кафе (29%). Рестораны ушли на второе место и занимают 24% в сравнении в ЦАО,где 30 % приходится на рестораны. На третьем месте кофейни (17%). Чуть меньше  бар, паб (9%). Малое количество приходится пицеерии и бысторе питание по 5%, менее 5% столовые и булочные"
   ]
  },
  {
   "cell_type": "code",
   "execution_count": 41,
   "id": "8b74e670",
   "metadata": {},
   "outputs": [
    {
     "data": {
      "image/png": "[encoded data removed]",
      "text/plain": [
       "<Figure size 864x432 with 1 Axes>"
      ]
     },
     "metadata": {
      "needs_background": "light"
     },
     "output_type": "display_data"
    }
   ],
   "source": [
    "# Создаём контейнер графика matplotlib и задаём его размер\n",
    "plt.figure(figsize=(12, 6))\n",
    "\n",
    "# Строим столбчатую диаграмму для Центрального административного округа\n",
    "df.loc[df['district'] == 'Центральный административный округ']['category'].value_counts().plot(\n",
    "               kind='bar', # Тип графика - столбчатая диаграмма\n",
    "               rot=0, # Градус вращения подписи по оси Х\n",
    "               legend=False, # Выключаем легенду\n",
    "               title='Сравнение распределения объектов по категориям'\n",
    ")\n",
    "\n",
    "# Строим столбчатую диаграмму для всей Москвы\n",
    "df['category'].value_counts().plot(\n",
    "               kind='bar', # Тип графика - столбчатая диаграмма\n",
    "               rot=0, # Градус вращения подписи по оси Х\n",
    "               alpha=0.5, # Прозрачность для лучшего сравнения\n",
    "               legend=False # Выключаем легенду\n",
    ")\n",
    "\n",
    "# Настраиваем оформление графика\n",
    "plt.xlabel('Категория')\n",
    "plt.ylabel('Количество объектов')\n",
    "plt.grid()\n",
    "\n",
    "# Добавляем легенду для различения\n",
    "plt.legend(['Центральный административный округ', 'Вся Москва'])\n",
    "\n",
    "# Выводим график\n",
    "plt.show()"
   ]
  },
  {
   "cell_type": "markdown",
   "id": "21b77ce8",
   "metadata": {},
   "source": [
    "Анализ объектов общественного питания показывает, что распределение ресторанов, кофейн, кафе в процентном соотношении в Центральном округе соизмеримо с распределением по всей Москве.\n",
    "А в категоричх бар, паб, пиццерия, ысторое питание, столовая, булочная представлено в Централном округе в меньшем количестве. \n",
    "Возможно, данные заведения менее востребованы в Центральном округе.\n"
   ]
  },
  {
   "cell_type": "markdown",
   "id": "7c824f58",
   "metadata": {
    "id": "7c824f58"
   },
   "source": [
    "---\n",
    "\n",
    "### Задача 3\n",
    "\n",
    "Изучите соотношение сетевых и несетевых заведений в целом по всем данным и в разрезе категорий заведения. Каких заведений больше — сетевых или несетевых? Какие категории заведений чаще являются сетевыми? Исследуйте данные, ответьте на вопросы и постройте необходимые визуализации."
   ]
  },
  {
   "cell_type": "code",
   "execution_count": 42,
   "id": "ef442d1a",
   "metadata": {
    "id": "ef442d1a"
   },
   "outputs": [
    {
     "name": "stdout",
     "output_type": "stream",
     "text": [
      "Количество учреждений:\n"
     ]
    },
    {
     "data": {
      "text/plain": [
       "chain\n",
       "0    4792\n",
       "1     744\n",
       "Name: name, dtype: int64"
      ]
     },
     "execution_count": 42,
     "metadata": {},
     "output_type": "execute_result"
    }
   ],
   "source": [
    "# Посчитаем количество уникальных клиентов для каждого значения столбца chain\n",
    "print('Количество учреждений:')\n",
    "df.groupby('chain')['name'].nunique() "
   ]
  },
  {
   "cell_type": "markdown",
   "id": "55d06709",
   "metadata": {
    "id": "0de29fa2"
   },
   "source": [
    "Несетевых заведений 4793 объекта. Сетевых заведений 744 объекта. "
   ]
  },
  {
   "cell_type": "code",
   "execution_count": 43,
   "id": "a139bd72",
   "metadata": {
    "id": "a139bd72"
   },
   "outputs": [
    {
     "data": {
      "image/png": "[encoded data removed]",
      "text/plain": [
       "<Figure size 432x288 with 1 Axes>"
      ]
     },
     "metadata": {
      "needs_background": "light"
     },
     "output_type": "display_data"
    }
   ],
   "source": [
    "df['chain'].value_counts().plot(kind='bar',\n",
    "\t\t\t\ttitle='Количество сетевых и несетевых учреждений',\n",
    "                legend=False,\n",
    "                ylabel='Количество учреждений',\n",
    "                xlabel='Критерий учреждения',\n",
    "\t\t\t\trot=0,\n",
    "                color='skyblue')\n",
    "plt.show()"
   ]
  },
  {
   "cell_type": "markdown",
   "id": "0d616298",
   "metadata": {},
   "source": [
    "Визуализация наглядно показывает лидируещую позицию несетевых заведений"
   ]
  },
  {
   "cell_type": "code",
   "execution_count": 44,
   "id": "185eff87",
   "metadata": {},
   "outputs": [
    {
     "name": "stdout",
     "output_type": "stream",
     "text": [
      "                       name\n",
      "chain category             \n",
      "0     бар,паб           596\n",
      "      булочная           99\n",
      "      быстрое питание   371\n",
      "      кафе             1598\n",
      "      кофейня           693\n",
      "      пиццерия          303\n",
      "      ресторан         1312\n",
      "      столовая          227\n",
      "1     бар,паб           168\n",
      "      булочная          157\n",
      "      быстрое питание   232\n",
      "      кафе              779\n",
      "      кофейня           720\n",
      "      пиццерия          330\n",
      "      ресторан          729\n",
      "      столовая           88\n"
     ]
    }
   ],
   "source": [
    "# Создаём сводную таблицу с мультииндексами\n",
    "pivot_chain = pd.pivot_table(\n",
    "    df,\n",
    "    index=['chain', 'category'],\n",
    "    values='name',\n",
    "    aggfunc='count'\n",
    ")\n",
    "\n",
    "print(pivot_chain)"
   ]
  },
  {
   "cell_type": "markdown",
   "id": "3764f847",
   "metadata": {},
   "source": [
    "Анализ показывает, что среди несетевых учреждений на первом месте находится кафе - 1598, на втором - ресторан (1312), на третьем кофейня, однако, в два раза меньше, чем кафе и ресторан, и насчитывает 693 объекта. Среди сетевых на первом месте кафе (779 объектов) и чуть меньше ресторан(729 объектов) и кофейня (720 объектов). На втором месте пиццерия - 330 объектов."
   ]
  },
  {
   "cell_type": "code",
   "execution_count": 45,
   "id": "e0c432c4",
   "metadata": {},
   "outputs": [
    {
     "data": {
      "image/png": "[encoded data removed]",
      "text/plain": [
       "<Figure size 432x288 with 1 Axes>"
      ]
     },
     "metadata": {
      "needs_background": "light"
     },
     "output_type": "display_data"
    }
   ],
   "source": [
    "# Создаём таблицу, которая группирует данные по 'chain', 'category'\n",
    "df_unstack = df.groupby('category')['chain'].value_counts(normalize=True).unstack(fill_value=0).sort_values(by='category', ascending=False)\n",
    "\n",
    "# Строим столбчатую диаграмму\n",
    "ax = df_unstack.plot(kind='bar', \n",
    "                     stacked=True)\n",
    "\n",
    "# Добавляем значения на график\n",
    "for p in ax.patches:\n",
    "    ax.annotate(f'{p.get_height():.2f}', (p.get_x() + p.get_width() / 2., p.get_height()), \n",
    "                ha='center', va='bottom')\n",
    "\n",
    "# Настраиваем легенду\n",
    "ax.legend(title='Chain', \n",
    "          labels=['Сетевой', 'Несетевой'], \n",
    "          bbox_to_anchor=(1.05, 1), \n",
    "          loc='upper left')\n",
    "\n",
    "# Отображаем график\n",
    "plt.show()\n"
   ]
  },
  {
   "cell_type": "code",
   "execution_count": 46,
   "id": "c42b8a67",
   "metadata": {},
   "outputs": [
    {
     "data": {
      "text/plain": [
       "0    5199\n",
       "1    3203\n",
       "Name: chain, dtype: int64"
      ]
     },
     "execution_count": 46,
     "metadata": {},
     "output_type": "execute_result"
    }
   ],
   "source": [
    "df['chain'].value_counts()"
   ]
  },
  {
   "cell_type": "code",
   "execution_count": 47,
   "id": "a47c5011",
   "metadata": {},
   "outputs": [
    {
     "data": {
      "text/plain": [
       "0    0.618781\n",
       "1    0.381219\n",
       "Name: chain, dtype: float64"
      ]
     },
     "execution_count": 47,
     "metadata": {},
     "output_type": "execute_result"
    }
   ],
   "source": [
    "df['chain'].value_counts(normalize=True)"
   ]
  },
  {
   "cell_type": "markdown",
   "id": "7524d791",
   "metadata": {},
   "source": [
    "\n",
    "Факторный анализ показывает, что 5199 учреэждений не является сетевыми(62%) и только 3203  (38 %)являются сетевыми. \n",
    "\n",
    "Анализ диаграммы показывает, что в объектах, имеющих статус \"столовая\", \"кафе\", \"ресторан\", \"быстрое питание\", \"бар, паб\" лидируют сетевые объекты. А в таких объектах, как \"булочная\", наоборот лидируещее место занимают не сетевые объекты общественного питания. В объектах \"кофейня\", \"пиццерия\" сетевые и несетые объекты представлены практически на одном уровне.\n"
   ]
  },
  {
   "cell_type": "markdown",
   "id": "5913c3e3",
   "metadata": {
    "id": "5913c3e3"
   },
   "source": [
    "---\n",
    "\n",
    "### Задача 4\n",
    "\n",
    "Исследуйте количество посадочных мест в заведениях. Встречаются ли в данных аномальные значения или выбросы? Если да, то с чем они могут быть связаны? Приведите для каждой категории заведений наиболее типичное для него количество посадочных мест. Результат сопроводите подходящими визуализациями.\n"
   ]
  },
  {
   "cell_type": "code",
   "execution_count": 48,
   "id": "cd9a28e4",
   "metadata": {},
   "outputs": [
    {
     "name": "stdout",
     "output_type": "stream",
     "text": [
      "Статистические показатели столбца seats:\n"
     ]
    },
    {
     "data": {
      "text/plain": [
       "count    4791.000000\n",
       "mean      108.342308\n",
       "std       122.846815\n",
       "min         0.000000\n",
       "25%        40.000000\n",
       "50%        75.000000\n",
       "75%       140.000000\n",
       "max      1288.000000\n",
       "Name: seats, dtype: float64"
      ]
     },
     "execution_count": 48,
     "metadata": {},
     "output_type": "execute_result"
    }
   ],
   "source": [
    "# Изучаем статистические показатели столбца seats\n",
    "print('Статистические показатели столбца seats:')\n",
    "df['seats'].describe()"
   ]
  },
  {
   "cell_type": "markdown",
   "id": "8ea8026a",
   "metadata": {
    "id": "6cb238d2"
   },
   "source": [
    "Можно предположить, что данные столбца \"число посадочных мест\" имеют распределение, близкое к нормальному. Об этом говорит относительная близость среднего и медианного значений. \n",
    "Однако значение стандартного отклонения выше среднего — 122,85, при среднем 108,34,  что указывает, что данные могут иметь незначительный разброс. Разница между минимальным и максимальным значениями это подтверждает."
   ]
  },
  {
   "cell_type": "code",
   "execution_count": 49,
   "id": "062b55d8",
   "metadata": {
    "id": "062b55d8"
   },
   "outputs": [
    {
     "data": {
      "image/png": "[encoded data removed]",
      "text/plain": [
       "<Figure size 720x216 with 1 Axes>"
      ]
     },
     "metadata": {
      "needs_background": "light"
     },
     "output_type": "display_data"
    }
   ],
   "source": [
    "# Создаём контейнер графика matplotlib и задаём его размер\n",
    "plt.figure(figsize=(10, 3))\n",
    "\n",
    "# Строим гистограмму с помощью pandas через plot(kind='hist')\n",
    "df['seats'].plot(\n",
    "                kind='hist', # Тип графика - гистограмма\n",
    "                bins=25, # Устанавливаем количество корзин - всего 25\n",
    "                alpha=0.75,\n",
    "                edgecolor='black',\n",
    "                rot=0, # Градус вращения подписи по оси Х\n",
    ")\n",
    "\n",
    "# Настраиваем оформление графика\n",
    "plt.title('Распределение значений посадочных мест')\n",
    "plt.xlabel('Посадочные места')\n",
    "plt.ylabel('Частота')\n",
    "# Добавляем сетку графика\n",
    "plt.grid()\n",
    "\n",
    "# Выводим график\n",
    "plt.show() "
   ]
  },
  {
   "cell_type": "code",
   "execution_count": 50,
   "id": "c4db8a8b",
   "metadata": {},
   "outputs": [
    {
     "data": {
      "image/png": "[encoded data removed]",
      "text/plain": [
       "<Figure size 720x144 with 1 Axes>"
      ]
     },
     "metadata": {
      "needs_background": "light"
     },
     "output_type": "display_data"
    }
   ],
   "source": [
    "# Создаём контейнер графика matplotlib и задаём его размер\n",
    "plt.figure(figsize=(10, 2))\n",
    "\n",
    "# Строим диаграмму размаха значений в столбце seats\n",
    "df.boxplot(column='seats', vert=False)\n",
    "\n",
    "# Добавляем заголовок и метки оси\n",
    "plt.title('Распределение значений посадочных мест')\n",
    "plt.xlabel('Посадочные места')\n",
    "\n",
    "# Выводим график\n",
    "plt.show() "
   ]
  },
  {
   "cell_type": "code",
   "execution_count": 51,
   "id": "19945124",
   "metadata": {},
   "outputs": [
    {
     "data": {
      "image/png": "[encoded data removed]",
      "text/plain": [
       "<Figure size 720x432 with 1 Axes>"
      ]
     },
     "metadata": {
      "needs_background": "light"
     },
     "output_type": "display_data"
    }
   ],
   "source": [
    "# Создаём контейнер графика matplotlib и задаём его размер\n",
    "plt.figure(figsize=(10, 6))\n",
    "\n",
    "# Строим диаграмму размаха значений в столбце seats\n",
    "sns.boxplot(x='seats', y='category',data = df, orient = 'h')\n",
    "\n",
    "# Добавляем заголовок и метки оси\n",
    "plt.title('Распределение значений посадочных мест')\n",
    "plt.ylabel('Категория')\n",
    "plt.xlabel('Количество мест')\n",
    "\n",
    "# Выводим график\n",
    "plt.show() "
   ]
  },
  {
   "cell_type": "markdown",
   "id": "cc063ddb",
   "metadata": {},
   "source": [
    "В столбце количество посадочных мест без разделения на категории отмечаются выбросы свыше 300, что нужно учитывать при проведении математических вычислений.\n",
    "При разбивке посадочных мест по категориям при анализе диаграммы размаха выбросы отмечаются по всем категориям объектов. Минимальное количество в объектах категории быстрое питание."
   ]
  },
  {
   "cell_type": "code",
   "execution_count": 52,
   "id": "bce82858",
   "metadata": {},
   "outputs": [
    {
     "data": {
      "image/png": "[encoded data removed]",
      "text/plain": [
       "<Figure size 720x432 with 1 Axes>"
      ]
     },
     "metadata": {
      "needs_background": "light"
     },
     "output_type": "display_data"
    }
   ],
   "source": [
    "plt.figure(figsize=(10, 6))\n",
    "\n",
    "# Группировка данных по категориям и суммирование мест\n",
    "grouped_data = df.groupby('category')['seats'].median().reset_index()\n",
    "\n",
    "\n",
    "# Построение barplot\n",
    "sns.barplot(x='category', y='seats', data=grouped_data)\n",
    "plt.title('Barplot по количеству мест по категориям')\n",
    "plt.xlabel('Категория')\n",
    "plt.ylabel('Количество мест')\n",
    "plt.show()"
   ]
  },
  {
   "cell_type": "code",
   "execution_count": 53,
   "id": "26dfb291",
   "metadata": {},
   "outputs": [
    {
     "name": "stdout",
     "output_type": "stream",
     "text": [
      "                      seats\n",
      "category                   \n",
      "бар,паб          124.477516\n",
      "булочная          89.385135\n",
      "быстрое питание   98.891117\n",
      "кафе              97.365653\n",
      "кофейня          111.199734\n",
      "пиццерия          94.496487\n",
      "ресторан         121.830442\n",
      "столовая          99.750000\n"
     ]
    }
   ],
   "source": [
    "pivot_sales = pd.pivot_table(\n",
    "    df,\n",
    "    index='category',\n",
    "    values='seats',\n",
    "    aggfunc= 'mean' # Применяем несколько функций агрегации: суммирование и среднее значение\n",
    ")\n",
    "\n",
    "print(pivot_sales)"
   ]
  },
  {
   "cell_type": "markdown",
   "id": "67969bf2",
   "metadata": {},
   "source": [
    "Самое большое количество (более 80) посадочных мест отмечается в ресторанах, кофейнях, булочных. Минимальное около 50 в пиццерии."
   ]
  },
  {
   "cell_type": "markdown",
   "id": "8ed065ea",
   "metadata": {
    "id": "8ed065ea"
   },
   "source": [
    "---\n",
    "\n",
    "### Задача 5\n",
    "\n",
    "Исследуйте рейтинг заведений. Визуализируйте распределение средних рейтингов по категориям заведений. Сильно ли различаются усреднённые рейтинги для разных типов общепита?"
   ]
  },
  {
   "cell_type": "code",
   "execution_count": 54,
   "id": "cc5206f8",
   "metadata": {
    "id": "cc5206f8"
   },
   "outputs": [
    {
     "name": "stdout",
     "output_type": "stream",
     "text": [
      "          category    rating\n",
      "0          бар,паб  4.387696\n",
      "1         булочная  4.268359\n",
      "2  быстрое питание  4.050249\n",
      "3             кафе  4.123896\n",
      "4          кофейня  4.277282\n",
      "5         пиццерия  4.301264\n",
      "6         ресторан  4.290397\n",
      "7         столовая  4.211429\n"
     ]
    },
    {
     "data": {
      "image/png": "[encoded data removed]",
      "text/plain": [
       "<Figure size 432x288 with 1 Axes>"
      ]
     },
     "metadata": {
      "needs_background": "light"
     },
     "output_type": "display_data"
    }
   ],
   "source": [
    "# Вычисляем средние рейтинги по категориям\n",
    "average_ratings = df.groupby('category')['rating'].mean().reset_index()\n",
    "\n",
    "# Создаем таблицу с средними рейтингами\n",
    "print(average_ratings)  # Выводим таблицу на экран\n",
    "\n",
    "# Строим линейчатую диаграмму\n",
    "average_ratings.plot.barh(x='category', y='rating', legend=False)\n",
    "\n",
    "# Добавляем средний рейтинг по всем категориям\n",
    "average_rating_mean = df['rating'].mean()\n",
    "plt.axvline(average_rating_mean, color='red', linestyle='--', label='Средний рейтинг')\n",
    "\n",
    "# Добавляем подписи к осям и заголовок\n",
    "plt.ylabel('Категория объекта')\n",
    "plt.xlabel('Средний рейтинг объекта')\n",
    "plt.title('Средний рейтинг по категориям заведений')\n",
    "\n",
    "plt.legend()  # Добавляем легенду для обозначения средней линии\n",
    "\n",
    "# Показываем график\n",
    "plt.show()\n"
   ]
  },
  {
   "cell_type": "markdown",
   "id": "e3e85638",
   "metadata": {
    "id": "3e0ec5d7"
   },
   "source": [
    "Средний рейтинг отдельно взятой категории соответствует среднему рейтингу по всем категориям по следующим категориям: столовая,булочная. Чуть выше среднего рейтинг у учреждений в категории ресторан, пиццерия, булочная. Объекты в категории бар, паб имеет рейнинг самый высокий по сравнению со средним рейтингом по всем категориям заведений общественного питания."
   ]
  },
  {
   "cell_type": "markdown",
   "id": "dd9702d9",
   "metadata": {
    "id": "dd9702d9"
   },
   "source": [
    "---\n",
    "\n",
    "### Задача 6\n",
    "\n",
    "Изучите, с какими данными показывают самую сильную корреляцию рейтинги заведений? Постройте и визуализируйте матрицу корреляции рейтинга заведения с разными данными: его категория, положение (административный район Москвы), статус сетевого заведения, количество мест, ценовая категория и признак, является ли заведения круглосуточным. Выберите самую сильную связь и проверьте её."
   ]
  },
  {
   "cell_type": "code",
   "execution_count": 55,
   "id": "15400eb9",
   "metadata": {
    "id": "15400eb9"
   },
   "outputs": [
    {
     "name": "stdout",
     "output_type": "stream",
     "text": [
      "interval columns not set, guessing: ['rating', 'chain', 'seats']\n",
      "Корреляционная матрица с коэффициентом phi_k для переменной rating\n"
     ]
    },
    {
     "data": {
      "text/html": [
       "<div>\n",
       "<style scoped>\n",
       "    .dataframe tbody tr th:only-of-type {\n",
       "        vertical-align: middle;\n",
       "    }\n",
       "\n",
       "    .dataframe tbody tr th {\n",
       "        vertical-align: top;\n",
       "    }\n",
       "\n",
       "    .dataframe thead th {\n",
       "        text-align: right;\n",
       "    }\n",
       "</style>\n",
       "<table border=\"1\" class=\"dataframe\">\n",
       "  <thead>\n",
       "    <tr style=\"text-align: right;\">\n",
       "      <th></th>\n",
       "      <th>rating</th>\n",
       "    </tr>\n",
       "  </thead>\n",
       "  <tbody>\n",
       "    <tr>\n",
       "      <th>price</th>\n",
       "      <td>0.220295</td>\n",
       "    </tr>\n",
       "    <tr>\n",
       "      <th>district</th>\n",
       "      <td>0.200671</td>\n",
       "    </tr>\n",
       "    <tr>\n",
       "      <th>category</th>\n",
       "      <td>0.189866</td>\n",
       "    </tr>\n",
       "    <tr>\n",
       "      <th>is_24_7</th>\n",
       "      <td>0.150196</td>\n",
       "    </tr>\n",
       "    <tr>\n",
       "      <th>chain</th>\n",
       "      <td>0.108121</td>\n",
       "    </tr>\n",
       "    <tr>\n",
       "      <th>seats</th>\n",
       "      <td>0.000000</td>\n",
       "    </tr>\n",
       "  </tbody>\n",
       "</table>\n",
       "</div>"
      ],
      "text/plain": [
       "            rating\n",
       "price     0.220295\n",
       "district  0.200671\n",
       "category  0.189866\n",
       "is_24_7   0.150196\n",
       "chain     0.108121\n",
       "seats     0.000000"
      ]
     },
     "execution_count": 55,
     "metadata": {},
     "output_type": "execute_result"
    }
   ],
   "source": [
    " # Вычисляем корреляционную матрицу с использованием phi_k\n",
    "correlation_matrix2 = df[['rating', 'category', 'district', 'chain', 'seats', 'price', 'is_24_7']].phik_matrix()\n",
    "\n",
    "# Выводим результат\n",
    "print('Корреляционная матрица с коэффициентом phi_k для переменной rating')\n",
    "correlation_matrix2.loc[correlation_matrix2.index != 'rating'][['rating']].sort_values(by='rating', ascending=False)"
   ]
  },
  {
   "cell_type": "markdown",
   "id": "da6cb71f",
   "metadata": {},
   "source": [
    "рейтинг абсолютно не зависит от количества посадочных мест.\n",
    " Максимальная корреллия рейтинга отмечается от  цены и в меньшей степени от округа, где расположен объект."
   ]
  },
  {
   "cell_type": "markdown",
   "id": "370de703",
   "metadata": {
    "id": "370de703"
   },
   "source": [
    "---\n",
    "\n",
    "### Задача 7\n",
    "\n",
    "Сгруппируйте данные по названиям заведений и найдите топ-15 популярных сетей в Москве. Для них посчитайте значения среднего рейтинга. Под популярностью понимается количество заведений этой сети в регионе. К какой категории заведений они относятся? Результат сопроводите подходящими визуализациями."
   ]
  },
  {
   "cell_type": "code",
   "execution_count": 56,
   "id": "5d828a9a",
   "metadata": {
    "id": "5d828a9a"
   },
   "outputs": [
    {
     "data": {
      "text/html": [
       "<div>\n",
       "<style scoped>\n",
       "    .dataframe tbody tr th:only-of-type {\n",
       "        vertical-align: middle;\n",
       "    }\n",
       "\n",
       "    .dataframe tbody tr th {\n",
       "        vertical-align: top;\n",
       "    }\n",
       "\n",
       "    .dataframe thead th {\n",
       "        text-align: right;\n",
       "    }\n",
       "</style>\n",
       "<table border=\"1\" class=\"dataframe\">\n",
       "  <thead>\n",
       "    <tr style=\"text-align: right;\">\n",
       "      <th></th>\n",
       "      <th>name</th>\n",
       "      <th>id</th>\n",
       "      <th>category</th>\n",
       "      <th>rating</th>\n",
       "    </tr>\n",
       "  </thead>\n",
       "  <tbody>\n",
       "    <tr>\n",
       "      <th>726</th>\n",
       "      <td>шоколадница</td>\n",
       "      <td>120</td>\n",
       "      <td>кофейня</td>\n",
       "      <td>4.177500</td>\n",
       "    </tr>\n",
       "    <tr>\n",
       "      <th>334</th>\n",
       "      <td>домино'спицца</td>\n",
       "      <td>76</td>\n",
       "      <td>пиццерия</td>\n",
       "      <td>4.169737</td>\n",
       "    </tr>\n",
       "    <tr>\n",
       "      <th>330</th>\n",
       "      <td>додопицца</td>\n",
       "      <td>74</td>\n",
       "      <td>пиццерия</td>\n",
       "      <td>4.286486</td>\n",
       "    </tr>\n",
       "    <tr>\n",
       "      <th>147</th>\n",
       "      <td>onepricecoffee</td>\n",
       "      <td>71</td>\n",
       "      <td>кофейня</td>\n",
       "      <td>4.064789</td>\n",
       "    </tr>\n",
       "    <tr>\n",
       "      <th>739</th>\n",
       "      <td>яндекславка</td>\n",
       "      <td>69</td>\n",
       "      <td>ресторан</td>\n",
       "      <td>3.872464</td>\n",
       "    </tr>\n",
       "    <tr>\n",
       "      <th>58</th>\n",
       "      <td>cofix</td>\n",
       "      <td>65</td>\n",
       "      <td>кофейня</td>\n",
       "      <td>4.075385</td>\n",
       "    </tr>\n",
       "    <tr>\n",
       "      <th>167</th>\n",
       "      <td>prime</td>\n",
       "      <td>50</td>\n",
       "      <td>ресторан</td>\n",
       "      <td>4.116000</td>\n",
       "    </tr>\n",
       "    <tr>\n",
       "      <th>662</th>\n",
       "      <td>хинкальная</td>\n",
       "      <td>44</td>\n",
       "      <td>кафе</td>\n",
       "      <td>4.322727</td>\n",
       "    </tr>\n",
       "    <tr>\n",
       "      <th>404</th>\n",
       "      <td>кофепорт</td>\n",
       "      <td>42</td>\n",
       "      <td>кофейня</td>\n",
       "      <td>4.147619</td>\n",
       "    </tr>\n",
       "    <tr>\n",
       "      <th>417</th>\n",
       "      <td>кулинарнаялавкабратьевкараваевых</td>\n",
       "      <td>39</td>\n",
       "      <td>кафе</td>\n",
       "      <td>4.394872</td>\n",
       "    </tr>\n",
       "    <tr>\n",
       "      <th>627</th>\n",
       "      <td>теремок</td>\n",
       "      <td>38</td>\n",
       "      <td>ресторан</td>\n",
       "      <td>4.123684</td>\n",
       "    </tr>\n",
       "    <tr>\n",
       "      <th>681</th>\n",
       "      <td>чайхана</td>\n",
       "      <td>37</td>\n",
       "      <td>кафе</td>\n",
       "      <td>3.924324</td>\n",
       "    </tr>\n",
       "    <tr>\n",
       "      <th>39</th>\n",
       "      <td>cofefest</td>\n",
       "      <td>32</td>\n",
       "      <td>кофейня</td>\n",
       "      <td>3.984375</td>\n",
       "    </tr>\n",
       "    <tr>\n",
       "      <th>266</th>\n",
       "      <td>буханка</td>\n",
       "      <td>32</td>\n",
       "      <td>булочная</td>\n",
       "      <td>4.396875</td>\n",
       "    </tr>\n",
       "    <tr>\n",
       "      <th>476</th>\n",
       "      <td>му-му</td>\n",
       "      <td>27</td>\n",
       "      <td>кафе</td>\n",
       "      <td>4.229630</td>\n",
       "    </tr>\n",
       "  </tbody>\n",
       "</table>\n",
       "</div>"
      ],
      "text/plain": [
       "                                 name   id  category    rating\n",
       "726                       шоколадница  120   кофейня  4.177500\n",
       "334                     домино'спицца   76  пиццерия  4.169737\n",
       "330                         додопицца   74  пиццерия  4.286486\n",
       "147                    onepricecoffee   71   кофейня  4.064789\n",
       "739                       яндекславка   69  ресторан  3.872464\n",
       "58                              cofix   65   кофейня  4.075385\n",
       "167                             prime   50  ресторан  4.116000\n",
       "662                        хинкальная   44      кафе  4.322727\n",
       "404                          кофепорт   42   кофейня  4.147619\n",
       "417  кулинарнаялавкабратьевкараваевых   39      кафе  4.394872\n",
       "627                           теремок   38  ресторан  4.123684\n",
       "681                           чайхана   37      кафе  3.924324\n",
       "39                           cofefest   32   кофейня  3.984375\n",
       "266                           буханка   32  булочная  4.396875\n",
       "476                             му-му   27      кафе  4.229630"
      ]
     },
     "execution_count": 56,
     "metadata": {},
     "output_type": "execute_result"
    }
   ],
   "source": [
    "df.loc[df['chain'] == 1].groupby('name', as_index=False).agg({'id': 'count', 'category': pd.Series.mode, 'rating': 'mean'}).sort_values(by = 'id', ascending=False).head(15)"
   ]
  },
  {
   "cell_type": "markdown",
   "id": "186f96b6",
   "metadata": {
    "id": "774348d5"
   },
   "source": []
  },
  {
   "cell_type": "markdown",
   "id": "c919086b",
   "metadata": {},
   "source": [
    "В топ 15 учреждений по рейтингу входят:\n",
    "шоколадница 74 \tкофейни, \n",
    "додопицца 72 пиццерии,\n",
    "домино'спицца 71 пиццерия,\n",
    "cofix 35 кофейн,\n",
    "кулинарнаялавкабратьевкараваевых 31 кафе,\n",
    "кофепорт 30 \tкофейн,\n",
    "prime 26 ресторанов,\n",
    "теремок 23 \tресторана, \n",
    "хинкальная 23 ресторана,\n",
    "му-му 19 кафе,\n",
    "тануки 18 ресторанов,\n",
    "кофемания 16 кофейн,\n",
    "андерсон 15 кафе,\n",
    "vasilchukíchaihona№1 15 ресторанов,\n",
    "мскlounge 14 бар,паб"
   ]
  },
  {
   "cell_type": "markdown",
   "id": "85a90a94",
   "metadata": {
    "id": "85a90a94"
   },
   "source": [
    "---\n",
    "\n",
    "### Задача 8\n",
    "\n",
    "Изучите вариацию среднего чека заведения (столбец `middle_avg_bill`) в зависимости от района Москвы. Проанализируйте цены в Центральном административном округе и других. Как удалённость от центра влияет на цены в заведениях? Результат сопроводите подходящими визуализациями.\n"
   ]
  },
  {
   "cell_type": "code",
   "execution_count": 57,
   "id": "e02e6c77",
   "metadata": {},
   "outputs": [
    {
     "data": {
      "image/png": "[encoded data removed]",
      "text/plain": [
       "<Figure size 720x432 with 1 Axes>"
      ]
     },
     "metadata": {
      "needs_background": "light"
     },
     "output_type": "display_data"
    }
   ],
   "source": [
    "# Создаём контейнер графика matplotlib и задаём его размер\n",
    "plt.figure(figsize=(10, 6))\n",
    "\n",
    "# Строим диаграмму размаха значений в столбце middle_avg_bill\n",
    "sns.boxplot(x='middle_avg_bill', y='district',data = df, orient = 'h')\n",
    "\n",
    "# Добавляем заголовок и метки оси\n",
    "plt.title('Распределение среднего чека в зависимости от района')\n",
    "plt.ylabel('Средний чек')\n",
    "plt.xlabel('Административный район')\n",
    "\n",
    "# Выводим график\n",
    "plt.show() "
   ]
  },
  {
   "cell_type": "markdown",
   "id": "780ccdaf",
   "metadata": {},
   "source": [
    "Отмечаются выбросы, уберем их"
   ]
  },
  {
   "cell_type": "code",
   "execution_count": 58,
   "id": "5fb4ffc6",
   "metadata": {
    "id": "5fb4ffc6"
   },
   "outputs": [
    {
     "data": {
      "image/png": "[encoded data removed]",
      "text/plain": [
       "<Figure size 720x432 with 1 Axes>"
      ]
     },
     "metadata": {
      "needs_background": "light"
     },
     "output_type": "display_data"
    },
    {
     "data": {
      "image/png": "[encoded data removed]",
      "text/plain": [
       "<Figure size 864x576 with 2 Axes>"
      ]
     },
     "metadata": {
      "needs_background": "light"
     },
     "output_type": "display_data"
    }
   ],
   "source": [
    "# Удаляем выбросы из столбца middle_avg_bill\n",
    "Q1 = df['middle_avg_bill'].quantile(0.25)\n",
    "Q3 = df['middle_avg_bill'].quantile(0.75)\n",
    "IQR = Q3 - Q1\n",
    "df_filtered = df[(df['middle_avg_bill'] >= (Q1 - 1.5 * IQR)) & (df['middle_avg_bill'] <= (Q3 + 1.5 * IQR))]\n",
    "\n",
    "# Создаём контейнер графика matplotlib и задаём его размер\n",
    "plt.figure(figsize=(10, 6))\n",
    "\n",
    "# Строим диаграмму размаха значений в столбце middle_avg_bill без выбросов\n",
    "sns.boxplot(x='middle_avg_bill', y='district', data=df_filtered, orient='h')\n",
    "\n",
    "# Добавляем заголовок и метки оси\n",
    "plt.title('Распределение среднего чека в зависимости от района без выбросов')\n",
    "plt.ylabel('Средний чек')\n",
    "plt.xlabel('Административный район')\n",
    "\n",
    "# Выводим график\n",
    "plt.show()\n",
    "\n",
    "# Изменения для тепловой карты\n",
    "plt.figure(figsize=(12, 8))  # размеры графика\n",
    "# Посчитаем среднюю оценку банка в зависимости от количества используемых продуктов и лояльности клиентов без выбросов\n",
    "middle_avg_bill_df = df_filtered.groupby(['category', 'district'])['middle_avg_bill'].mean().unstack(fill_value=0)\n",
    "\n",
    "# Создаём визуализацию\n",
    "sns.heatmap(data=middle_avg_bill_df, annot=True, fmt='.2f', linewidths=0.5, cmap='coolwarm')\n",
    "\n",
    "# Показываем график с заголовком\n",
    "plt.title('Средний чек заведения в зависимости от района без выбросов')\n",
    "plt.show()"
   ]
  },
  {
   "cell_type": "markdown",
   "id": "018b2f14",
   "metadata": {
    "id": "b98066c1"
   },
   "source": [
    "Самый высокий средний чек в ЦАО, больше 100 рублей. Далее в Западном округе более 800 рублей. \n",
    "Самый большой средний чек 1332,79 в пабе, баре в ЦАО и 1305 в в пабе, баре в Западном округе.\n",
    "Далее 1289,86 в ресторане в Западном округе и 1254 в ресторане в ЦАО.\n",
    "\n",
    "Самый маленький средеий чек в столовой, около 300 рублей по всем округам. Самые высие средние чеки в общем по округам в ресторанах и бае, пабе."
   ]
  },
  {
   "cell_type": "code",
   "execution_count": 59,
   "id": "9b5e00a5",
   "metadata": {
    "id": "9b5e00a5"
   },
   "outputs": [
    {
     "name": "stdout",
     "output_type": "stream",
     "text": [
      "                                  district  middle_avg_bill\n",
      "0         Восточный административный округ            575.0\n",
      "1          Западный административный округ           1000.0\n",
      "2          Северный административный округ            650.0\n",
      "3  Северо-Восточный административный округ            500.0\n",
      "4   Северо-Западный административный округ            700.0\n",
      "5       Центральный административный округ           1000.0\n",
      "6     Юго-Восточный административный округ            450.0\n",
      "7      Юго-Западный административный округ            600.0\n",
      "8             Южный административный округ            500.0\n"
     ]
    }
   ],
   "source": [
    "# Создаём таблицу район и средний чек\n",
    "average_bill_table = df.groupby('district')['middle_avg_bill'].median().reset_index()\n",
    "print(average_bill_table)\n"
   ]
  },
  {
   "cell_type": "markdown",
   "id": "c150bd4f",
   "metadata": {
    "id": "c150bd4f"
   },
   "source": [
    "---\n",
    "\n",
    "### Задача 9\n",
    "\n",
    " При необходимости проведите исследования других данных и их взаимосвязи. Например, часы работы заведений или стоимость чашки кофе в зависимости от расположения или типа заведения.\n"
   ]
  },
  {
   "cell_type": "markdown",
   "id": "f2c54e9a",
   "metadata": {
    "id": "f2c54e9a"
   },
   "source": [
    "---\n",
    "\n",
    "### Промежуточный вывод\n",
    "\n",
    "Обобщите полученные результаты, выделив, по вашему мнению, самые важные."
   ]
  },
  {
   "cell_type": "markdown",
   "id": "0d8325f0",
   "metadata": {
    "id": "c8869609"
   },
   "source": [
    "После предобработки данных напишите промежуточный вывод о проведённой работе. Отразите количество или долю отфильтрованных данных, если вы что-то удаляли.\n",
    "\n",
    "Предствленный датасет df содержит 13 столбцов и 8406 строк, в которых представлена информация о заведениях общественного питания. Объем данных 919.4+ КВ.\n",
    "Столбец chain: изменен тип данных до int8. После преобразования: В датасепте 4 колонки с типом данных float64, 1 колонка с типом данных int8, 8 с типом данных object. Объем данных уменьшен до 861,9+ КВ.\n",
    "\n",
    "Столбцы rating, chain, seats, middle_avg_bill, float64,middle_coffee_cup представлены числовыми данными. \n",
    "Столбцы с вещественными данными представлены типом данных объект.\n",
    "\n",
    "Все наименования столбцов в единном образце. Представлены типом данных 'object.\n",
    "\n",
    "Выявлены пропуски в столбцах: Максимально в middle_coffee_cup 0.94, далее middle_avg_bill 0.63 price 0.61 avg_bill 0.55 seats 0.31 hours 0.06\n",
    "Кроме hours во всех столбцах огромное количество пропусков. \n",
    "Все пропуски оставлены в неизменном виде, так как могут искажать результат.\n",
    "ропуски в столбце \"число с оценкой среднего чека\" и \"число с оценкой одной чашки капучино\" практически в равном процентном соотношении, как в сетевых, так и в не сетевых учреждениях. Они практически не связаны с наличием или отсутствием сведений по числу мест в заведении. Вероятно, эти пропуски обусловлены тем, что значений нет в столбце avg_bill (в 6 процентах случаев) или оно не начинается с подстроки «Средний счёт».\n",
    "\n",
    "В датафреймах нет полных дубликатов строк.\n",
    "Есть 4 неявных дубликата (morepoke  ресторан, раковарняклешниихвосты  ресторан и бар,паб, хлебдавыпечка булочная и кафе, cafe13 кафе и  ресторан.Дубликаты удалены."
   ]
  },
  {
   "cell_type": "markdown",
   "id": "0df44de5",
   "metadata": {
    "id": "3313cfd6"
   },
   "source": [
    "Максимальное количество объектов отмечается в категории кафе (2378), ресторан (2043), кофейня (1413). В меньше количестве бар,паб (765), пиццерия (633), быстрое питание (603). \n",
    "Столовая и булочная количество объектов небольшое: 315 и 256 соответственно."
   ]
  },
  {
   "cell_type": "markdown",
   "id": "9b91e87a",
   "metadata": {
    "id": "8bc2e63d"
   },
   "source": [
    "По количеству заведений лидирует Центральный административный округ. Остальные районы по числу заведений на одном уровне. Минимальное количество в Северо-Западном административом округе "
   ]
  },
  {
   "cell_type": "markdown",
   "id": "7e384d1d",
   "metadata": {},
   "source": [
    "При визуализации отчетливо видно, что в Центральном административном округе основная доля приходится на  рестораны (30%), далее кафе (21%) и кофейни(19). На четвертом месте бар, паб 16 %. 5% прихолится на пиццерию, менее 5% - быстрое питание, столовые, булочные.\n",
    "\n",
    "В москве структура меняяется. Основная доля приходится на кафе (29%). Рестораны ушли на второе место и занимают 24% в сравнении в ЦАО,где 30 % приходится на рестораны. На третьем месте кофейни (17%). Чуть меньше  бар, паб (9%). Малое количество приходится пицеерии и бысторе питание по 5%, менее 5% столовые и булочные/"
   ]
  },
  {
   "cell_type": "markdown",
   "id": "d175c170",
   "metadata": {},
   "source": [
    "Анализ показывает высокую корреляцию рейтинга объекта и графиком работы. Учреждения, работающие в ежедневном режиме и круглосуточно имеют более высокий рейтинг."
   ]
  },
  {
   "cell_type": "markdown",
   "id": "5e5e00fa",
   "metadata": {},
   "source": [
    "Факторный анализ показывает, что 5199 учреждений не является сетевыми(62%) и только 3203  (38 %)являются сетевыми.\n",
    "Cреди несетевых учреждений на первом месте находится кафе - 1598, на втором - ресторан (1312), на третьем кофейня, однако, в два раза меньше, чем кафе и ресторан, и насчитывает 693 объекта. Среди сетевых на первом месте кафе (779 объектов) и чуть меньше ресторан(729 объектов) и кофейня (720 объектов). На втором месте пиццерия - 330 объектов.Анализ диаграммы показывает, что в объектах, имеющих статус \"столовая\", \"кафе\", \"ресторан\", \"быстрое питание\", \"бар, паб\" лидируют сетевые объекты. А в таких объектах, как \"булочная\", наоборот лидируещее место занимают не сетевые объекты общественного питания. В объектах \"кофейня\", \"пиццерия\" сетевые и несетые объекты представлены практически на одном уровне."
   ]
  },
  {
   "cell_type": "markdown",
   "id": "f4eab70f",
   "metadata": {},
   "source": [
    "В столбце количество посадочных мест без разделения на категории отмечаются выбросы свыше 300. \n",
    "При разбивке посадочных мест по категориям при анализе диаграммы размаха выбросы отмечаются по всем категориям объектов. Минимальное количество в объектах категории быстрое питание."
   ]
  },
  {
   "cell_type": "markdown",
   "id": "37d7f573",
   "metadata": {},
   "source": [
    "Средний рейтинг отдельно взятой категории соответствует среднему рейтингу по всем категориям по следующим категориям: столовая,булочная. \n",
    "Чуть выше среднего рейтинг у учреждений в категории ресторан, пиццерия, булочная. Объекты в категории бар, паб имеет рейнинг самый высокий по сравнению со средним рейтингом по всем категориям заведений общественного питания."
   ]
  },
  {
   "cell_type": "markdown",
   "id": "7aaebc44",
   "metadata": {},
   "source": [
    "Анализ показывает высокую корреляцию рейтинга объекта и графиком работы. \n",
    "Учреждения, работающие в ежедневном режиме  и круглосуточно имеют более высокий рейтинг.\n",
    "На втором месте средняя корреляция между количеством посадочных мест и категорией объекта (сетевое, несетевое)."
   ]
  },
  {
   "cell_type": "markdown",
   "id": "d0623fdc",
   "metadata": {},
   "source": [
    "В топ 15 учреждений по рейтингу входят:\n",
    "шоколадница 74 \tкофейни, \n",
    "додопицца 72 пиццерии,\n",
    "домино'спицца 71 пиццерия,\n",
    "cofix 35 кофейн,\n",
    "кулинарнаялавкабратьевкараваевых 31 кафе,\n",
    "кофепорт 30 \tкофейн,\n",
    "prime 26 ресторанов,\n",
    "теремок 23 \tресторана, \n",
    "хинкальная 23 ресторана,\n",
    "му-му 19 кафе,\n",
    "тануки 18 ресторанов,\n",
    "кофемания 16 кофейн,\n",
    "андерсон 15 кафе,\n",
    "vasilchukíchaihona№1 15 ресторанов,\n",
    "мскlounge 14 бар,паб.\n",
    "\n",
    "Самый высокий средний чек в ЦАО, больше 100 рублей. Далее в Западном округе более 800 рублей. В данных округах выбросы не зафиксированы.\n",
    "Самый большой средний чек 1332,79 в пабе, баре в ЦАО и 1305 в в пабе, баре в Западном округе.\n",
    "Далее 1289,86 в ресторане в Западном округе и 1254 в ресторане в ЦАО.\n",
    "\n",
    "Самый маленький средеий чек в столовой, около 300 рублей по всем округам. Самые высие средние чеки в общем по округам в ресторанах и бае, пабе."
   ]
  },
  {
   "cell_type": "markdown",
   "id": "480f3422",
   "metadata": {
    "id": "480f3422"
   },
   "source": [
    "## 4. Итоговый вывод и рекомендации\n",
    "\n",
    "По результатам проведённого исследовательского анализа данных сформулируйте итоговый вывод и рекомендации для заказчика. Старайтесь акцентировать внимание на ключевых моментах исследования.\n",
    "\n",
    "При составлении вывода придерживайтесь такой структуры:\n",
    "\n",
    "1. Общий обзор проделанной работы.\n",
    "2. Ответы на исследовательские вопросы, или главные выводы.\n",
    "3. Рекомендации на основе анализа данных."
   ]
  },
  {
   "cell_type": "markdown",
   "id": "6c6fc12d",
   "metadata": {},
   "source": [
    "Предствленный датасет df содержит 13 столбцов и 8406 строк, в которых представлена информация о заведениях общественного питания. Объем данных 919.4+ КВ.\n",
    "Столбец chain: изменен тип данных до int8. После преобразования: В датасепте 4 колонки с типом данных float64, 1 колонка с типом данных int8, 8 с типом данных object. Объем данных уменьшен до 861,9+ КВ.\n",
    "\n",
    "Столбцы rating, chain, seats, middle_avg_bill, float64,middle_coffee_cup представлены числовыми данными. \n",
    "Столбцы с вещественными данными представлены типом данных объект.\n",
    "\n",
    "Все наименования столбцов в единном образце. Представлены типом данных 'object.\n",
    "\n",
    "Выявлены пропуски в столбцах: Максимально в middle_coffee_cup 0.94, далее middle_avg_bill 0.63 price 0.61 avg_bill 0.55 seats 0.31 hours 0.06\n",
    "Кроме hours во всех столбцах огромное количество пропусков. \n",
    "Все пропуски оставлены в неизменном виде, так как могут искажать результат.\n",
    "ропуски в столбце \"число с оценкой среднего чека\" и \"число с оценкой одной чашки капучино\" практически в равном процентном соотношении, как в сетевых, так и в не сетевых учреждениях. Они практически не связаны с наличием или отсутствием сведений по числу мест в заведении. Вероятно, эти пропуски обусловлены тем, что значений нет в столбце avg_bill (в 6 процентах случаев) или оно не начинается с подстроки «Средний счёт».\n",
    "\n",
    "В датафреймах нет полных дубликатов строк.\n",
    "Есть 4 неявных дубликата (morepoke  ресторан, раковарняклешниихвосты  ресторан и бар,паб, хлебдавыпечка булочная и кафе, cafe13 кафе и  ресторан.Дубликаты удалены. \n",
    "\n",
    "730 учреждений в г.Москва работают круглосуточно и в ежедневном режиме.\n",
    "При визуализации отчетливо видно, что в Центральном административном округе основная доля приходится на  рестораны (30%), далее кафе (21%) и кофейни(19). На четвертом месте бар, паб 16 %. 5% прихолится на пиццерию, менее 5% - быстрое питание, столовые, булочные.\n",
    "\n",
    "В москве структура меняяется. Основная доля приходится на кафе (29%). Рестораны ушли на второе место и занимают 24% в сравнении в ЦАО,где 30 % приходится на рестораны. На третьем месте кофейни (17%). Чуть меньше  бар, паб (9%). Малое количество приходится пицеерии и бысторе питание по 5%, менее 5% столовые и булочные.\n",
    "\n",
    "Факторный анализ показывает, что 5199 учреждений не является сетевыми(62%) и только 3203  (38 %)являются сетевыми.\n",
    "Cреди несетевых учреждений на первом месте находится кафе - 1598, на втором - ресторан (1312), на третьем кофейня, однако, в два раза меньше, чем кафе и ресторан, и насчитывает 693 объекта. Среди сетевых на первом месте кафе (779 объектов) и чуть меньше ресторан(729 объектов) и кофейня (720 объектов). На втором месте пиццерия - 330 объектов.Анализ диаграммы показывает, что в объектах, имеющих статус \"столовая\", \"кафе\", \"ресторан\", \"быстрое питание\", \"бар, паб\" лидируют сетевые объекты. А в таких объектах, как \"булочная\", наоборот лидируещее место занимают не сетевые объекты общественного питания. В объектах \"кофейня\", \"пиццерия\" сетевые и несетые объекты представлены практически на одном уровне.\n",
    "\n",
    "В топ 15 учреждений по рейтингу входят:\n",
    "шоколадница 74 кофейни, \n",
    "додопицца 72 пиццерии,\n",
    "домино'спицца 71 пиццерия,\n",
    "cofix 35 кофейн,\n",
    "кулинарнаялавкабратьевкараваевых 31 кафе,\n",
    "кофепорт 30 кофейн,\n",
    "prime 26 ресторанов,\n",
    "теремок 23 ресторана, \n",
    "хинкальная 23 ресторана,\n",
    "му-му 19 кафе,\n",
    "тануки 18 ресторанов,\n",
    "кофемания 16 кофейн,\n",
    "андерсон 15 кафе,\n",
    "vasilchukíchaihona№1 15 ресторанов,\n",
    "мскlounge 14 бар,паб. Следует сделать акцента на данном рейтинге и использовать при разработке стратегии развития бизнеса.\n",
    "Целесообразно открывать объекты общественного питания в центральном округе г.МОсква. Более популярные заведения, работающие в круглосуточном режиме и входящие в топ 15 заведений.\n",
    "\n",
    "Необходимо учитывая, что самый высокий средний чек в ЦАО, больше 1000 рублей. Далее в Западном округе более 800 рублей. \n",
    "Самый большой средний чек 1332,79 в пабе, баре в ЦАО и 1305 в в пабе, баре в Западном округе. \n",
    "Далее 1289,86 в ресторане в Западном округе и 1254 в ресторане в ЦАО.\n",
    "\n",
    "Самый маленький средний чек в столовой, около 300 рублей по всем округам. Особого разбега тут не отмечается. Самые высокие средние чеки в общем по округам в ресторанах и баре, пабе.\n",
    "\n",
    "Максимальная корреллия рейтинга отмечается от  цены и в меньшей степени от округа, где расположен объект."
   ]
  }
 ],
 "metadata": {
  "ExecuteTimeLog": [
   {
    "duration": 399,
    "start_time": "2024-12-30T17:18:24.213Z"
   },
   {
    "duration": 358,
    "start_time": "2024-12-30T17:18:24.614Z"
   },
   {
    "duration": 553,
    "start_time": "2024-12-30T17:18:24.974Z"
   },
   {
    "duration": 82,
    "start_time": "2024-12-30T17:18:25.529Z"
   },
   {
    "duration": 0,
    "start_time": "2024-12-30T17:18:25.613Z"
   },
   {
    "duration": 0,
    "start_time": "2024-12-30T17:18:25.614Z"
   },
   {
    "duration": 169,
    "start_time": "2024-12-30T17:18:48.146Z"
   },
   {
    "duration": 64,
    "start_time": "2024-12-30T17:18:51.063Z"
   },
   {
    "duration": 14,
    "start_time": "2024-12-30T17:18:51.593Z"
   },
   {
    "duration": 14,
    "start_time": "2024-12-30T17:19:18.357Z"
   },
   {
    "duration": 9,
    "start_time": "2024-12-30T17:21:42.409Z"
   },
   {
    "duration": 10,
    "start_time": "2024-12-30T17:22:30.064Z"
   },
   {
    "duration": 13,
    "start_time": "2024-12-30T17:22:30.979Z"
   },
   {
    "duration": 13,
    "start_time": "2024-12-30T17:23:27.007Z"
   },
   {
    "duration": 15,
    "start_time": "2024-12-30T17:23:28.183Z"
   },
   {
    "duration": 13,
    "start_time": "2024-12-30T17:24:31.407Z"
   },
   {
    "duration": 4,
    "start_time": "2024-12-30T17:27:19.823Z"
   },
   {
    "duration": 4,
    "start_time": "2024-12-30T17:28:12.673Z"
   },
   {
    "duration": 4,
    "start_time": "2024-12-30T17:28:25.283Z"
   },
   {
    "duration": 8,
    "start_time": "2024-12-30T17:29:12.331Z"
   },
   {
    "duration": 4,
    "start_time": "2024-12-30T17:29:14.371Z"
   },
   {
    "duration": 4,
    "start_time": "2024-12-30T17:30:29.971Z"
   },
   {
    "duration": 1461,
    "start_time": "2024-12-30T17:31:02.305Z"
   },
   {
    "duration": 4,
    "start_time": "2024-12-30T17:31:12.934Z"
   },
   {
    "duration": 10,
    "start_time": "2024-12-30T17:31:28.598Z"
   },
   {
    "duration": 4,
    "start_time": "2024-12-30T17:31:56.859Z"
   },
   {
    "duration": 3,
    "start_time": "2024-12-30T17:32:01.037Z"
   },
   {
    "duration": 11,
    "start_time": "2024-12-30T17:32:01.576Z"
   },
   {
    "duration": 1606,
    "start_time": "2024-12-30T17:33:32.603Z"
   },
   {
    "duration": 410,
    "start_time": "2024-12-30T17:34:39.096Z"
   },
   {
    "duration": 223,
    "start_time": "2024-12-30T17:34:39.508Z"
   },
   {
    "duration": 498,
    "start_time": "2024-12-30T17:34:39.732Z"
   },
   {
    "duration": 159,
    "start_time": "2024-12-30T17:34:40.232Z"
   },
   {
    "duration": 59,
    "start_time": "2024-12-30T17:34:40.392Z"
   },
   {
    "duration": 14,
    "start_time": "2024-12-30T17:34:40.453Z"
   },
   {
    "duration": 15,
    "start_time": "2024-12-30T17:34:40.469Z"
   },
   {
    "duration": 6,
    "start_time": "2024-12-30T17:34:40.486Z"
   },
   {
    "duration": 19,
    "start_time": "2024-12-30T17:34:40.494Z"
   },
   {
    "duration": 29,
    "start_time": "2024-12-30T17:34:40.515Z"
   },
   {
    "duration": 13,
    "start_time": "2024-12-30T17:34:40.546Z"
   },
   {
    "duration": 14,
    "start_time": "2024-12-30T17:34:40.560Z"
   },
   {
    "duration": 32,
    "start_time": "2024-12-30T17:34:40.575Z"
   },
   {
    "duration": 20,
    "start_time": "2024-12-30T17:34:40.609Z"
   },
   {
    "duration": 5,
    "start_time": "2024-12-30T17:34:40.631Z"
   },
   {
    "duration": 1465,
    "start_time": "2024-12-30T17:34:40.638Z"
   },
   {
    "duration": 1399,
    "start_time": "2024-12-30T17:35:27.899Z"
   },
   {
    "duration": 8,
    "start_time": "2024-12-30T17:36:05.429Z"
   },
   {
    "duration": 3,
    "start_time": "2024-12-30T17:36:06.345Z"
   },
   {
    "duration": 3,
    "start_time": "2024-12-30T17:36:07.681Z"
   },
   {
    "duration": 1414,
    "start_time": "2024-12-30T17:36:08.540Z"
   },
   {
    "duration": 1455,
    "start_time": "2024-12-30T17:36:39.997Z"
   },
   {
    "duration": 12,
    "start_time": "2024-12-30T17:37:47.015Z"
   },
   {
    "duration": 3,
    "start_time": "2024-12-30T17:38:18.311Z"
   },
   {
    "duration": 7,
    "start_time": "2024-12-30T17:38:36.902Z"
   },
   {
    "duration": 4,
    "start_time": "2024-12-30T17:38:37.539Z"
   },
   {
    "duration": 4,
    "start_time": "2024-12-30T17:38:39.088Z"
   },
   {
    "duration": 361,
    "start_time": "2024-12-30T17:38:49.967Z"
   },
   {
    "duration": 240,
    "start_time": "2024-12-30T17:38:50.330Z"
   },
   {
    "duration": 534,
    "start_time": "2024-12-30T17:38:50.572Z"
   },
   {
    "duration": 109,
    "start_time": "2024-12-30T17:38:51.108Z"
   },
   {
    "duration": 58,
    "start_time": "2024-12-30T17:38:51.218Z"
   },
   {
    "duration": 14,
    "start_time": "2024-12-30T17:38:51.277Z"
   },
   {
    "duration": 23,
    "start_time": "2024-12-30T17:38:51.292Z"
   },
   {
    "duration": 7,
    "start_time": "2024-12-30T17:38:51.316Z"
   },
   {
    "duration": 19,
    "start_time": "2024-12-30T17:38:51.324Z"
   },
   {
    "duration": 20,
    "start_time": "2024-12-30T17:38:51.345Z"
   },
   {
    "duration": 12,
    "start_time": "2024-12-30T17:38:51.366Z"
   },
   {
    "duration": 5,
    "start_time": "2024-12-30T17:38:51.380Z"
   },
   {
    "duration": 26,
    "start_time": "2024-12-30T17:38:51.386Z"
   },
   {
    "duration": 8,
    "start_time": "2024-12-30T17:38:51.414Z"
   },
   {
    "duration": 6,
    "start_time": "2024-12-30T17:38:51.423Z"
   },
   {
    "duration": 4,
    "start_time": "2024-12-30T17:39:30.620Z"
   },
   {
    "duration": 6,
    "start_time": "2024-12-30T17:39:52.389Z"
   },
   {
    "duration": 14,
    "start_time": "2024-12-30T17:40:09.001Z"
   },
   {
    "duration": 14,
    "start_time": "2024-12-30T17:40:42.863Z"
   },
   {
    "duration": 10,
    "start_time": "2024-12-30T17:41:55.167Z"
   },
   {
    "duration": 12,
    "start_time": "2024-12-30T17:42:11.994Z"
   },
   {
    "duration": 11,
    "start_time": "2024-12-30T17:44:28.948Z"
   },
   {
    "duration": 3,
    "start_time": "2024-12-30T17:45:06.121Z"
   },
   {
    "duration": 15,
    "start_time": "2024-12-30T17:45:22.154Z"
   },
   {
    "duration": 16,
    "start_time": "2024-12-30T17:45:36.331Z"
   },
   {
    "duration": 9,
    "start_time": "2024-12-30T17:46:16.375Z"
   },
   {
    "duration": 12,
    "start_time": "2024-12-30T17:48:00.090Z"
   },
   {
    "duration": 15,
    "start_time": "2024-12-30T17:49:06.321Z"
   },
   {
    "duration": 5,
    "start_time": "2024-12-30T17:49:07.251Z"
   },
   {
    "duration": 5,
    "start_time": "2024-12-30T17:49:07.654Z"
   },
   {
    "duration": 361,
    "start_time": "2024-12-30T17:56:35.768Z"
   },
   {
    "duration": 223,
    "start_time": "2024-12-30T17:56:36.131Z"
   },
   {
    "duration": 461,
    "start_time": "2024-12-30T17:56:36.356Z"
   },
   {
    "duration": 139,
    "start_time": "2024-12-30T17:56:36.821Z"
   },
   {
    "duration": 93,
    "start_time": "2024-12-30T17:56:36.962Z"
   },
   {
    "duration": 14,
    "start_time": "2024-12-30T17:56:37.056Z"
   },
   {
    "duration": 61,
    "start_time": "2024-12-30T17:56:37.071Z"
   },
   {
    "duration": 13,
    "start_time": "2024-12-30T17:56:37.134Z"
   },
   {
    "duration": 17,
    "start_time": "2024-12-30T17:56:37.148Z"
   },
   {
    "duration": 20,
    "start_time": "2024-12-30T17:56:37.167Z"
   },
   {
    "duration": 63,
    "start_time": "2024-12-30T17:56:37.188Z"
   },
   {
    "duration": 3,
    "start_time": "2024-12-30T17:56:37.253Z"
   },
   {
    "duration": 39,
    "start_time": "2024-12-30T17:56:37.258Z"
   },
   {
    "duration": 25,
    "start_time": "2024-12-30T17:56:37.299Z"
   },
   {
    "duration": 23,
    "start_time": "2024-12-30T17:56:37.325Z"
   },
   {
    "duration": 10,
    "start_time": "2024-12-30T17:56:37.349Z"
   },
   {
    "duration": 36,
    "start_time": "2024-12-30T17:56:37.360Z"
   },
   {
    "duration": 47,
    "start_time": "2024-12-30T17:56:37.397Z"
   },
   {
    "duration": 12,
    "start_time": "2024-12-30T17:56:37.445Z"
   },
   {
    "duration": 18,
    "start_time": "2024-12-30T17:56:37.459Z"
   },
   {
    "duration": 28,
    "start_time": "2024-12-30T17:56:37.478Z"
   },
   {
    "duration": 32,
    "start_time": "2024-12-30T17:56:37.507Z"
   },
   {
    "duration": 14,
    "start_time": "2024-12-30T17:56:37.541Z"
   },
   {
    "duration": 8,
    "start_time": "2024-12-30T17:56:37.556Z"
   },
   {
    "duration": 27,
    "start_time": "2024-12-30T17:56:37.566Z"
   },
   {
    "duration": 104,
    "start_time": "2024-12-30T17:56:37.594Z"
   },
   {
    "duration": 9,
    "start_time": "2024-12-30T18:02:05.114Z"
   },
   {
    "duration": 290,
    "start_time": "2024-12-30T18:02:05.623Z"
   },
   {
    "duration": 86,
    "start_time": "2024-12-30T18:02:06.741Z"
   },
   {
    "duration": 392,
    "start_time": "2024-12-30T18:02:15.620Z"
   },
   {
    "duration": 227,
    "start_time": "2024-12-30T18:02:16.014Z"
   },
   {
    "duration": 463,
    "start_time": "2024-12-30T18:02:16.243Z"
   },
   {
    "duration": 145,
    "start_time": "2024-12-30T18:02:16.708Z"
   },
   {
    "duration": 64,
    "start_time": "2024-12-30T18:02:16.855Z"
   },
   {
    "duration": 14,
    "start_time": "2024-12-30T18:02:16.920Z"
   },
   {
    "duration": 20,
    "start_time": "2024-12-30T18:02:16.935Z"
   },
   {
    "duration": 5,
    "start_time": "2024-12-30T18:02:16.957Z"
   },
   {
    "duration": 14,
    "start_time": "2024-12-30T18:02:16.964Z"
   },
   {
    "duration": 22,
    "start_time": "2024-12-30T18:02:16.981Z"
   },
   {
    "duration": 23,
    "start_time": "2024-12-30T18:02:17.004Z"
   },
   {
    "duration": 3,
    "start_time": "2024-12-30T18:02:17.029Z"
   },
   {
    "duration": 36,
    "start_time": "2024-12-30T18:02:17.034Z"
   },
   {
    "duration": 4,
    "start_time": "2024-12-30T18:02:17.071Z"
   },
   {
    "duration": 4,
    "start_time": "2024-12-30T18:02:17.076Z"
   },
   {
    "duration": 14,
    "start_time": "2024-12-30T18:02:17.081Z"
   },
   {
    "duration": 28,
    "start_time": "2024-12-30T18:02:17.096Z"
   },
   {
    "duration": 10,
    "start_time": "2024-12-30T18:02:17.125Z"
   },
   {
    "duration": 25,
    "start_time": "2024-12-30T18:02:17.136Z"
   },
   {
    "duration": 30,
    "start_time": "2024-12-30T18:02:17.162Z"
   },
   {
    "duration": 17,
    "start_time": "2024-12-30T18:02:17.194Z"
   },
   {
    "duration": 10,
    "start_time": "2024-12-30T18:02:17.212Z"
   },
   {
    "duration": 11,
    "start_time": "2024-12-30T18:02:17.223Z"
   },
   {
    "duration": 4,
    "start_time": "2024-12-30T18:02:17.235Z"
   },
   {
    "duration": 16,
    "start_time": "2024-12-30T18:02:17.241Z"
   },
   {
    "duration": 45,
    "start_time": "2024-12-30T18:02:17.258Z"
   },
   {
    "duration": 87,
    "start_time": "2024-12-30T18:02:17.305Z"
   },
   {
    "duration": 0,
    "start_time": "2024-12-30T18:02:17.394Z"
   },
   {
    "duration": 98,
    "start_time": "2024-12-30T18:02:56.464Z"
   },
   {
    "duration": 367,
    "start_time": "2024-12-30T18:03:02.451Z"
   },
   {
    "duration": 1768,
    "start_time": "2024-12-30T18:03:02.822Z"
   },
   {
    "duration": 514,
    "start_time": "2024-12-30T18:03:04.592Z"
   },
   {
    "duration": 125,
    "start_time": "2024-12-30T18:03:05.108Z"
   },
   {
    "duration": 66,
    "start_time": "2024-12-30T18:03:05.234Z"
   },
   {
    "duration": 16,
    "start_time": "2024-12-30T18:03:05.302Z"
   },
   {
    "duration": 44,
    "start_time": "2024-12-30T18:03:05.320Z"
   },
   {
    "duration": 10,
    "start_time": "2024-12-30T18:03:05.366Z"
   },
   {
    "duration": 31,
    "start_time": "2024-12-30T18:03:05.378Z"
   },
   {
    "duration": 40,
    "start_time": "2024-12-30T18:03:05.411Z"
   },
   {
    "duration": 27,
    "start_time": "2024-12-30T18:03:05.452Z"
   },
   {
    "duration": 24,
    "start_time": "2024-12-30T18:03:05.480Z"
   },
   {
    "duration": 55,
    "start_time": "2024-12-30T18:03:05.505Z"
   },
   {
    "duration": 4,
    "start_time": "2024-12-30T18:03:05.561Z"
   },
   {
    "duration": 29,
    "start_time": "2024-12-30T18:03:05.566Z"
   },
   {
    "duration": 23,
    "start_time": "2024-12-30T18:03:05.597Z"
   },
   {
    "duration": 28,
    "start_time": "2024-12-30T18:03:05.621Z"
   },
   {
    "duration": 47,
    "start_time": "2024-12-30T18:03:05.650Z"
   },
   {
    "duration": 29,
    "start_time": "2024-12-30T18:03:05.699Z"
   },
   {
    "duration": 35,
    "start_time": "2024-12-30T18:03:05.729Z"
   },
   {
    "duration": 44,
    "start_time": "2024-12-30T18:03:05.765Z"
   },
   {
    "duration": 9,
    "start_time": "2024-12-30T18:03:05.811Z"
   },
   {
    "duration": 18,
    "start_time": "2024-12-30T18:03:05.821Z"
   },
   {
    "duration": 4,
    "start_time": "2024-12-30T18:03:05.841Z"
   },
   {
    "duration": 23,
    "start_time": "2024-12-30T18:03:05.846Z"
   },
   {
    "duration": 34,
    "start_time": "2024-12-30T18:03:05.870Z"
   },
   {
    "duration": 76,
    "start_time": "2024-12-30T18:03:05.905Z"
   },
   {
    "duration": 0,
    "start_time": "2024-12-30T18:03:05.982Z"
   },
   {
    "duration": 92,
    "start_time": "2024-12-30T18:04:28.855Z"
   },
   {
    "duration": 369,
    "start_time": "2024-12-30T18:04:33.246Z"
   },
   {
    "duration": 236,
    "start_time": "2024-12-30T18:04:33.617Z"
   },
   {
    "duration": 459,
    "start_time": "2024-12-30T18:04:33.854Z"
   },
   {
    "duration": 117,
    "start_time": "2024-12-30T18:04:34.314Z"
   },
   {
    "duration": 56,
    "start_time": "2024-12-30T18:04:34.433Z"
   },
   {
    "duration": 13,
    "start_time": "2024-12-30T18:04:34.491Z"
   },
   {
    "duration": 13,
    "start_time": "2024-12-30T18:04:34.506Z"
   },
   {
    "duration": 41,
    "start_time": "2024-12-30T18:04:34.520Z"
   },
   {
    "duration": 44,
    "start_time": "2024-12-30T18:04:34.563Z"
   },
   {
    "duration": 17,
    "start_time": "2024-12-30T18:04:34.610Z"
   },
   {
    "duration": 14,
    "start_time": "2024-12-30T18:04:34.628Z"
   },
   {
    "duration": 6,
    "start_time": "2024-12-30T18:04:34.644Z"
   },
   {
    "duration": 20,
    "start_time": "2024-12-30T18:04:34.651Z"
   },
   {
    "duration": 9,
    "start_time": "2024-12-30T18:04:34.672Z"
   },
   {
    "duration": 23,
    "start_time": "2024-12-30T18:04:34.683Z"
   },
   {
    "duration": 4,
    "start_time": "2024-12-30T18:04:34.707Z"
   },
   {
    "duration": 21,
    "start_time": "2024-12-30T18:04:34.713Z"
   },
   {
    "duration": 20,
    "start_time": "2024-12-30T18:04:34.736Z"
   },
   {
    "duration": 14,
    "start_time": "2024-12-30T18:04:34.758Z"
   },
   {
    "duration": 28,
    "start_time": "2024-12-30T18:04:34.773Z"
   },
   {
    "duration": 88,
    "start_time": "2024-12-30T18:04:34.802Z"
   },
   {
    "duration": 8,
    "start_time": "2024-12-30T18:04:34.892Z"
   },
   {
    "duration": 20,
    "start_time": "2024-12-30T18:04:34.901Z"
   },
   {
    "duration": 26,
    "start_time": "2024-12-30T18:04:34.922Z"
   },
   {
    "duration": 19,
    "start_time": "2024-12-30T18:04:34.949Z"
   },
   {
    "duration": 23,
    "start_time": "2024-12-30T18:04:34.969Z"
   },
   {
    "duration": 109,
    "start_time": "2024-12-30T18:04:34.993Z"
   },
   {
    "duration": 0,
    "start_time": "2024-12-30T18:04:35.103Z"
   },
   {
    "duration": 6,
    "start_time": "2024-12-30T18:04:56.158Z"
   },
   {
    "duration": 91,
    "start_time": "2024-12-30T18:05:01.727Z"
   },
   {
    "duration": 158,
    "start_time": "2024-12-30T18:05:24.405Z"
   },
   {
    "duration": 259,
    "start_time": "2024-12-30T18:05:46.709Z"
   },
   {
    "duration": 146,
    "start_time": "2024-12-30T18:06:09.400Z"
   },
   {
    "duration": 8,
    "start_time": "2024-12-30T18:06:35.123Z"
   },
   {
    "duration": 105,
    "start_time": "2024-12-30T18:07:08.029Z"
   },
   {
    "duration": 12,
    "start_time": "2024-12-30T18:07:42.107Z"
   },
   {
    "duration": 100,
    "start_time": "2024-12-30T18:08:35.596Z"
   },
   {
    "duration": 161,
    "start_time": "2024-12-30T18:08:48.034Z"
   },
   {
    "duration": 11,
    "start_time": "2024-12-30T18:09:05.466Z"
   },
   {
    "duration": 169,
    "start_time": "2024-12-30T18:09:32.427Z"
   },
   {
    "duration": 101,
    "start_time": "2024-12-30T18:10:14.533Z"
   },
   {
    "duration": 241,
    "start_time": "2024-12-30T18:10:39.252Z"
   },
   {
    "duration": 98,
    "start_time": "2024-12-30T18:12:13.582Z"
   },
   {
    "duration": 12,
    "start_time": "2024-12-30T18:12:42.474Z"
   },
   {
    "duration": 351,
    "start_time": "2024-12-30T18:13:04.873Z"
   },
   {
    "duration": 220,
    "start_time": "2024-12-30T18:13:05.226Z"
   },
   {
    "duration": 470,
    "start_time": "2024-12-30T18:13:05.448Z"
   },
   {
    "duration": 118,
    "start_time": "2024-12-30T18:13:05.920Z"
   },
   {
    "duration": 54,
    "start_time": "2024-12-30T18:13:06.040Z"
   },
   {
    "duration": 47,
    "start_time": "2024-12-30T18:13:06.095Z"
   },
   {
    "duration": 17,
    "start_time": "2024-12-30T18:13:06.143Z"
   },
   {
    "duration": 24,
    "start_time": "2024-12-30T18:13:06.161Z"
   },
   {
    "duration": 32,
    "start_time": "2024-12-30T18:13:06.186Z"
   },
   {
    "duration": 26,
    "start_time": "2024-12-30T18:13:06.221Z"
   },
   {
    "duration": 13,
    "start_time": "2024-12-30T18:13:06.249Z"
   },
   {
    "duration": 43,
    "start_time": "2024-12-30T18:13:06.263Z"
   },
   {
    "duration": 50,
    "start_time": "2024-12-30T18:13:06.307Z"
   },
   {
    "duration": 3,
    "start_time": "2024-12-30T18:13:06.359Z"
   },
   {
    "duration": 7,
    "start_time": "2024-12-30T18:13:06.363Z"
   },
   {
    "duration": 19,
    "start_time": "2024-12-30T18:13:06.371Z"
   },
   {
    "duration": 18,
    "start_time": "2024-12-30T18:13:06.392Z"
   },
   {
    "duration": 9,
    "start_time": "2024-12-30T18:13:06.412Z"
   },
   {
    "duration": 23,
    "start_time": "2024-12-30T18:13:06.423Z"
   },
   {
    "duration": 14,
    "start_time": "2024-12-30T18:13:06.448Z"
   },
   {
    "duration": 64,
    "start_time": "2024-12-30T18:13:06.464Z"
   },
   {
    "duration": 15,
    "start_time": "2024-12-30T18:13:06.530Z"
   },
   {
    "duration": 21,
    "start_time": "2024-12-30T18:13:06.546Z"
   },
   {
    "duration": 33,
    "start_time": "2024-12-30T18:13:06.569Z"
   },
   {
    "duration": 80,
    "start_time": "2024-12-30T18:13:06.604Z"
   },
   {
    "duration": 53,
    "start_time": "2024-12-30T18:13:06.686Z"
   },
   {
    "duration": 36,
    "start_time": "2024-12-30T18:13:06.741Z"
   },
   {
    "duration": 194,
    "start_time": "2024-12-30T18:13:06.781Z"
   },
   {
    "duration": 277,
    "start_time": "2024-12-30T18:13:06.977Z"
   },
   {
    "duration": 167,
    "start_time": "2024-12-30T18:13:07.256Z"
   },
   {
    "duration": 8,
    "start_time": "2024-12-30T18:13:07.425Z"
   },
   {
    "duration": 119,
    "start_time": "2024-12-30T18:13:07.435Z"
   },
   {
    "duration": 13,
    "start_time": "2024-12-30T18:13:07.556Z"
   },
   {
    "duration": 189,
    "start_time": "2024-12-30T18:13:07.571Z"
   },
   {
    "duration": 9,
    "start_time": "2024-12-30T18:13:07.762Z"
   },
   {
    "duration": 174,
    "start_time": "2024-12-30T18:13:07.772Z"
   },
   {
    "duration": 116,
    "start_time": "2024-12-30T18:13:07.948Z"
   },
   {
    "duration": 275,
    "start_time": "2024-12-30T18:13:08.066Z"
   },
   {
    "duration": 104,
    "start_time": "2024-12-30T18:13:08.342Z"
   },
   {
    "duration": 11,
    "start_time": "2024-12-30T18:14:11.843Z"
   },
   {
    "duration": 9,
    "start_time": "2024-12-30T18:14:30.090Z"
   },
   {
    "duration": 11,
    "start_time": "2024-12-30T18:15:48.942Z"
   },
   {
    "duration": 8,
    "start_time": "2024-12-30T18:16:20.434Z"
   },
   {
    "duration": 10,
    "start_time": "2024-12-30T18:20:14.733Z"
   },
   {
    "duration": 8,
    "start_time": "2024-12-30T18:21:34.786Z"
   },
   {
    "duration": 8,
    "start_time": "2024-12-30T18:21:50.049Z"
   },
   {
    "duration": 14,
    "start_time": "2024-12-30T18:22:38.253Z"
   },
   {
    "duration": 9,
    "start_time": "2024-12-30T18:23:12.566Z"
   },
   {
    "duration": 9,
    "start_time": "2024-12-30T18:25:15.643Z"
   },
   {
    "duration": 8,
    "start_time": "2024-12-30T18:25:24.795Z"
   },
   {
    "duration": 9,
    "start_time": "2024-12-30T18:26:26.929Z"
   },
   {
    "duration": 350,
    "start_time": "2024-12-30T18:27:45.882Z"
   },
   {
    "duration": 224,
    "start_time": "2024-12-30T18:27:46.233Z"
   },
   {
    "duration": 451,
    "start_time": "2024-12-30T18:27:46.459Z"
   },
   {
    "duration": 135,
    "start_time": "2024-12-30T18:27:46.912Z"
   },
   {
    "duration": 56,
    "start_time": "2024-12-30T18:27:47.048Z"
   },
   {
    "duration": 14,
    "start_time": "2024-12-30T18:27:47.106Z"
   },
   {
    "duration": 13,
    "start_time": "2024-12-30T18:27:47.121Z"
   },
   {
    "duration": 24,
    "start_time": "2024-12-30T18:27:47.135Z"
   },
   {
    "duration": 15,
    "start_time": "2024-12-30T18:27:47.161Z"
   },
   {
    "duration": 22,
    "start_time": "2024-12-30T18:27:47.178Z"
   },
   {
    "duration": 24,
    "start_time": "2024-12-30T18:27:47.202Z"
   },
   {
    "duration": 4,
    "start_time": "2024-12-30T18:27:47.227Z"
   },
   {
    "duration": 33,
    "start_time": "2024-12-30T18:27:47.232Z"
   },
   {
    "duration": 3,
    "start_time": "2024-12-30T18:27:47.267Z"
   },
   {
    "duration": 13,
    "start_time": "2024-12-30T18:27:47.272Z"
   },
   {
    "duration": 37,
    "start_time": "2024-12-30T18:27:47.286Z"
   },
   {
    "duration": 33,
    "start_time": "2024-12-30T18:27:47.325Z"
   },
   {
    "duration": 33,
    "start_time": "2024-12-30T18:27:47.359Z"
   },
   {
    "duration": 13,
    "start_time": "2024-12-30T18:27:47.393Z"
   },
   {
    "duration": 26,
    "start_time": "2024-12-30T18:27:47.408Z"
   },
   {
    "duration": 26,
    "start_time": "2024-12-30T18:27:47.435Z"
   },
   {
    "duration": 7,
    "start_time": "2024-12-30T18:27:47.463Z"
   },
   {
    "duration": 39,
    "start_time": "2024-12-30T18:27:47.471Z"
   },
   {
    "duration": 16,
    "start_time": "2024-12-30T18:27:47.512Z"
   },
   {
    "duration": 5,
    "start_time": "2024-12-30T18:27:47.530Z"
   },
   {
    "duration": 14,
    "start_time": "2024-12-30T18:27:47.536Z"
   },
   {
    "duration": 14,
    "start_time": "2024-12-30T18:27:47.551Z"
   },
   {
    "duration": 178,
    "start_time": "2024-12-30T18:27:47.567Z"
   },
   {
    "duration": 296,
    "start_time": "2024-12-30T18:27:47.747Z"
   },
   {
    "duration": 168,
    "start_time": "2024-12-30T18:27:48.045Z"
   },
   {
    "duration": 16,
    "start_time": "2024-12-30T18:27:48.216Z"
   },
   {
    "duration": 127,
    "start_time": "2024-12-30T18:27:48.234Z"
   },
   {
    "duration": 11,
    "start_time": "2024-12-30T18:27:48.363Z"
   },
   {
    "duration": 177,
    "start_time": "2024-12-30T18:27:48.376Z"
   },
   {
    "duration": 8,
    "start_time": "2024-12-30T18:27:48.555Z"
   },
   {
    "duration": 175,
    "start_time": "2024-12-30T18:27:48.564Z"
   },
   {
    "duration": 109,
    "start_time": "2024-12-30T18:27:48.741Z"
   },
   {
    "duration": 242,
    "start_time": "2024-12-30T18:27:48.851Z"
   },
   {
    "duration": 100,
    "start_time": "2024-12-30T18:27:49.095Z"
   },
   {
    "duration": 3430,
    "start_time": "2024-12-30T18:32:09.614Z"
   },
   {
    "duration": 391,
    "start_time": "2024-12-30T18:33:33.433Z"
   },
   {
    "duration": 230,
    "start_time": "2024-12-30T18:33:33.826Z"
   },
   {
    "duration": 488,
    "start_time": "2024-12-30T18:33:34.058Z"
   },
   {
    "duration": 137,
    "start_time": "2024-12-30T18:33:34.548Z"
   },
   {
    "duration": 53,
    "start_time": "2024-12-30T18:33:34.686Z"
   },
   {
    "duration": 13,
    "start_time": "2024-12-30T18:33:34.740Z"
   },
   {
    "duration": 13,
    "start_time": "2024-12-30T18:33:34.755Z"
   },
   {
    "duration": 27,
    "start_time": "2024-12-30T18:33:34.769Z"
   },
   {
    "duration": 41,
    "start_time": "2024-12-30T18:33:34.798Z"
   },
   {
    "duration": 21,
    "start_time": "2024-12-30T18:33:34.842Z"
   },
   {
    "duration": 21,
    "start_time": "2024-12-30T18:33:34.864Z"
   },
   {
    "duration": 8,
    "start_time": "2024-12-30T18:33:34.886Z"
   },
   {
    "duration": 61,
    "start_time": "2024-12-30T18:33:34.896Z"
   },
   {
    "duration": 61,
    "start_time": "2024-12-30T18:33:34.958Z"
   },
   {
    "duration": 16,
    "start_time": "2024-12-30T18:33:35.021Z"
   },
   {
    "duration": 14,
    "start_time": "2024-12-30T18:33:35.038Z"
   },
   {
    "duration": 37,
    "start_time": "2024-12-30T18:33:35.053Z"
   },
   {
    "duration": 16,
    "start_time": "2024-12-30T18:33:35.092Z"
   },
   {
    "duration": 34,
    "start_time": "2024-12-30T18:33:35.109Z"
   },
   {
    "duration": 11,
    "start_time": "2024-12-30T18:33:35.145Z"
   },
   {
    "duration": 45,
    "start_time": "2024-12-30T18:33:35.158Z"
   },
   {
    "duration": 9,
    "start_time": "2024-12-30T18:33:35.204Z"
   },
   {
    "duration": 20,
    "start_time": "2024-12-30T18:33:35.215Z"
   },
   {
    "duration": 17,
    "start_time": "2024-12-30T18:33:35.237Z"
   },
   {
    "duration": 6,
    "start_time": "2024-12-30T18:33:35.256Z"
   },
   {
    "duration": 26,
    "start_time": "2024-12-30T18:33:35.264Z"
   },
   {
    "duration": 14,
    "start_time": "2024-12-30T18:33:35.292Z"
   },
   {
    "duration": 214,
    "start_time": "2024-12-30T18:33:35.309Z"
   },
   {
    "duration": 269,
    "start_time": "2024-12-30T18:33:35.525Z"
   },
   {
    "duration": 149,
    "start_time": "2024-12-30T18:33:35.795Z"
   },
   {
    "duration": 7,
    "start_time": "2024-12-30T18:33:35.946Z"
   },
   {
    "duration": 118,
    "start_time": "2024-12-30T18:33:35.954Z"
   },
   {
    "duration": 11,
    "start_time": "2024-12-30T18:33:36.074Z"
   },
   {
    "duration": 267,
    "start_time": "2024-12-30T18:33:36.087Z"
   },
   {
    "duration": 8,
    "start_time": "2024-12-30T18:33:36.355Z"
   },
   {
    "duration": 193,
    "start_time": "2024-12-30T18:33:36.364Z"
   },
   {
    "duration": 112,
    "start_time": "2024-12-30T18:33:36.558Z"
   },
   {
    "duration": 260,
    "start_time": "2024-12-30T18:33:36.671Z"
   },
   {
    "duration": 2224,
    "start_time": "2024-12-30T18:33:36.932Z"
   },
   {
    "duration": 46,
    "start_time": "2024-12-30T19:03:22.772Z"
   },
   {
    "duration": 355,
    "start_time": "2024-12-30T19:03:54.877Z"
   },
   {
    "duration": 246,
    "start_time": "2024-12-30T19:03:55.234Z"
   },
   {
    "duration": 535,
    "start_time": "2024-12-30T19:03:55.482Z"
   },
   {
    "duration": 115,
    "start_time": "2024-12-30T19:03:56.018Z"
   },
   {
    "duration": 107,
    "start_time": "2024-12-30T19:03:56.135Z"
   },
   {
    "duration": 14,
    "start_time": "2024-12-30T19:03:56.243Z"
   },
   {
    "duration": 13,
    "start_time": "2024-12-30T19:03:56.259Z"
   },
   {
    "duration": 8,
    "start_time": "2024-12-30T19:03:56.274Z"
   },
   {
    "duration": 14,
    "start_time": "2024-12-30T19:03:56.283Z"
   },
   {
    "duration": 36,
    "start_time": "2024-12-30T19:03:56.298Z"
   },
   {
    "duration": 21,
    "start_time": "2024-12-30T19:03:56.335Z"
   },
   {
    "duration": 3,
    "start_time": "2024-12-30T19:03:56.358Z"
   },
   {
    "duration": 21,
    "start_time": "2024-12-30T19:03:56.363Z"
   },
   {
    "duration": 3,
    "start_time": "2024-12-30T19:03:56.387Z"
   },
   {
    "duration": 8,
    "start_time": "2024-12-30T19:03:56.392Z"
   },
   {
    "duration": 3,
    "start_time": "2024-12-30T19:03:56.401Z"
   },
   {
    "duration": 25,
    "start_time": "2024-12-30T19:03:56.406Z"
   },
   {
    "duration": 11,
    "start_time": "2024-12-30T19:03:56.433Z"
   },
   {
    "duration": 10,
    "start_time": "2024-12-30T19:03:56.445Z"
   },
   {
    "duration": 10,
    "start_time": "2024-12-30T19:03:56.457Z"
   },
   {
    "duration": 17,
    "start_time": "2024-12-30T19:03:56.468Z"
   },
   {
    "duration": 8,
    "start_time": "2024-12-30T19:03:56.486Z"
   },
   {
    "duration": 34,
    "start_time": "2024-12-30T19:03:56.495Z"
   },
   {
    "duration": 4,
    "start_time": "2024-12-30T19:03:56.530Z"
   },
   {
    "duration": 4,
    "start_time": "2024-12-30T19:03:56.535Z"
   },
   {
    "duration": 7,
    "start_time": "2024-12-30T19:03:56.541Z"
   },
   {
    "duration": 6,
    "start_time": "2024-12-30T19:03:56.549Z"
   },
   {
    "duration": 183,
    "start_time": "2024-12-30T19:03:56.556Z"
   },
   {
    "duration": 273,
    "start_time": "2024-12-30T19:03:56.741Z"
   },
   {
    "duration": 154,
    "start_time": "2024-12-30T19:03:57.016Z"
   },
   {
    "duration": 7,
    "start_time": "2024-12-30T19:03:57.171Z"
   },
   {
    "duration": 116,
    "start_time": "2024-12-30T19:03:57.180Z"
   },
   {
    "duration": 13,
    "start_time": "2024-12-30T19:03:57.297Z"
   },
   {
    "duration": 183,
    "start_time": "2024-12-30T19:03:57.311Z"
   },
   {
    "duration": 10,
    "start_time": "2024-12-30T19:03:57.495Z"
   },
   {
    "duration": 170,
    "start_time": "2024-12-30T19:03:57.506Z"
   },
   {
    "duration": 107,
    "start_time": "2024-12-30T19:03:57.678Z"
   },
   {
    "duration": 294,
    "start_time": "2024-12-30T19:03:57.786Z"
   },
   {
    "duration": 2308,
    "start_time": "2024-12-30T19:03:58.082Z"
   },
   {
    "duration": 46,
    "start_time": "2024-12-30T19:04:40.882Z"
   },
   {
    "duration": 8,
    "start_time": "2024-12-30T19:08:20.934Z"
   },
   {
    "duration": 6,
    "start_time": "2024-12-30T19:10:02.297Z"
   },
   {
    "duration": 7,
    "start_time": "2024-12-30T19:14:56.986Z"
   },
   {
    "duration": 6,
    "start_time": "2024-12-30T19:15:33.543Z"
   },
   {
    "duration": 8,
    "start_time": "2024-12-30T19:15:46.474Z"
   },
   {
    "duration": 396,
    "start_time": "2024-12-30T19:16:24.935Z"
   },
   {
    "duration": 232,
    "start_time": "2024-12-30T19:16:25.333Z"
   },
   {
    "duration": 480,
    "start_time": "2024-12-30T19:16:25.566Z"
   },
   {
    "duration": 145,
    "start_time": "2024-12-30T19:16:26.048Z"
   },
   {
    "duration": 65,
    "start_time": "2024-12-30T19:16:26.194Z"
   },
   {
    "duration": 14,
    "start_time": "2024-12-30T19:16:26.261Z"
   },
   {
    "duration": 12,
    "start_time": "2024-12-30T19:16:26.276Z"
   },
   {
    "duration": 17,
    "start_time": "2024-12-30T19:16:26.289Z"
   },
   {
    "duration": 18,
    "start_time": "2024-12-30T19:16:26.307Z"
   },
   {
    "duration": 17,
    "start_time": "2024-12-30T19:16:26.328Z"
   },
   {
    "duration": 12,
    "start_time": "2024-12-30T19:16:26.346Z"
   },
   {
    "duration": 9,
    "start_time": "2024-12-30T19:16:26.360Z"
   },
   {
    "duration": 24,
    "start_time": "2024-12-30T19:16:26.370Z"
   },
   {
    "duration": 27,
    "start_time": "2024-12-30T19:16:26.396Z"
   },
   {
    "duration": 8,
    "start_time": "2024-12-30T19:16:26.425Z"
   },
   {
    "duration": 6,
    "start_time": "2024-12-30T19:16:26.434Z"
   },
   {
    "duration": 14,
    "start_time": "2024-12-30T19:16:26.441Z"
   },
   {
    "duration": 11,
    "start_time": "2024-12-30T19:16:26.457Z"
   },
   {
    "duration": 11,
    "start_time": "2024-12-30T19:16:26.469Z"
   },
   {
    "duration": 29,
    "start_time": "2024-12-30T19:16:26.481Z"
   },
   {
    "duration": 26,
    "start_time": "2024-12-30T19:16:26.512Z"
   },
   {
    "duration": 8,
    "start_time": "2024-12-30T19:16:26.539Z"
   },
   {
    "duration": 18,
    "start_time": "2024-12-30T19:16:26.548Z"
   },
   {
    "duration": 11,
    "start_time": "2024-12-30T19:16:26.567Z"
   },
   {
    "duration": 6,
    "start_time": "2024-12-30T19:16:26.579Z"
   },
   {
    "duration": 15,
    "start_time": "2024-12-30T19:16:26.586Z"
   },
   {
    "duration": 6,
    "start_time": "2024-12-30T19:16:26.602Z"
   },
   {
    "duration": 163,
    "start_time": "2024-12-30T19:16:26.610Z"
   },
   {
    "duration": 271,
    "start_time": "2024-12-30T19:16:26.774Z"
   },
   {
    "duration": 150,
    "start_time": "2024-12-30T19:16:27.046Z"
   },
   {
    "duration": 7,
    "start_time": "2024-12-30T19:16:27.197Z"
   },
   {
    "duration": 110,
    "start_time": "2024-12-30T19:16:27.222Z"
   },
   {
    "duration": 12,
    "start_time": "2024-12-30T19:16:27.334Z"
   },
   {
    "duration": 181,
    "start_time": "2024-12-30T19:16:27.347Z"
   },
   {
    "duration": 8,
    "start_time": "2024-12-30T19:16:27.530Z"
   },
   {
    "duration": 165,
    "start_time": "2024-12-30T19:16:27.539Z"
   },
   {
    "duration": 111,
    "start_time": "2024-12-30T19:16:27.705Z"
   },
   {
    "duration": 267,
    "start_time": "2024-12-30T19:16:27.821Z"
   },
   {
    "duration": 14,
    "start_time": "2024-12-30T19:16:28.089Z"
   },
   {
    "duration": 2276,
    "start_time": "2024-12-30T19:16:28.104Z"
   },
   {
    "duration": 100,
    "start_time": "2024-12-30T19:16:30.382Z"
   },
   {
    "duration": 0,
    "start_time": "2024-12-30T19:16:30.484Z"
   },
   {
    "duration": 11,
    "start_time": "2024-12-30T19:18:06.265Z"
   },
   {
    "duration": 79,
    "start_time": "2024-12-30T19:18:29.154Z"
   },
   {
    "duration": 45,
    "start_time": "2024-12-30T19:22:44.825Z"
   },
   {
    "duration": 7,
    "start_time": "2024-12-30T19:23:45.278Z"
   },
   {
    "duration": 7,
    "start_time": "2024-12-30T19:25:30.550Z"
   },
   {
    "duration": 374,
    "start_time": "2024-12-30T19:25:37.584Z"
   },
   {
    "duration": 231,
    "start_time": "2024-12-30T19:25:37.960Z"
   },
   {
    "duration": 512,
    "start_time": "2024-12-30T19:25:38.193Z"
   },
   {
    "duration": 169,
    "start_time": "2024-12-30T19:25:38.707Z"
   },
   {
    "duration": 67,
    "start_time": "2024-12-30T19:25:38.878Z"
   },
   {
    "duration": 14,
    "start_time": "2024-12-30T19:25:38.946Z"
   },
   {
    "duration": 12,
    "start_time": "2024-12-30T19:25:38.961Z"
   },
   {
    "duration": 5,
    "start_time": "2024-12-30T19:25:38.974Z"
   },
   {
    "duration": 14,
    "start_time": "2024-12-30T19:25:38.981Z"
   },
   {
    "duration": 31,
    "start_time": "2024-12-30T19:25:38.997Z"
   },
   {
    "duration": 12,
    "start_time": "2024-12-30T19:25:39.029Z"
   },
   {
    "duration": 3,
    "start_time": "2024-12-30T19:25:39.043Z"
   },
   {
    "duration": 21,
    "start_time": "2024-12-30T19:25:39.047Z"
   },
   {
    "duration": 3,
    "start_time": "2024-12-30T19:25:39.070Z"
   },
   {
    "duration": 89,
    "start_time": "2024-12-30T19:25:39.074Z"
   },
   {
    "duration": 9,
    "start_time": "2024-12-30T19:25:39.165Z"
   },
   {
    "duration": 33,
    "start_time": "2024-12-30T19:25:39.176Z"
   },
   {
    "duration": 18,
    "start_time": "2024-12-30T19:25:39.211Z"
   },
   {
    "duration": 11,
    "start_time": "2024-12-30T19:25:39.230Z"
   },
   {
    "duration": 10,
    "start_time": "2024-12-30T19:25:39.243Z"
   },
   {
    "duration": 17,
    "start_time": "2024-12-30T19:25:39.255Z"
   },
   {
    "duration": 8,
    "start_time": "2024-12-30T19:25:39.273Z"
   },
   {
    "duration": 39,
    "start_time": "2024-12-30T19:25:39.282Z"
   },
   {
    "duration": 4,
    "start_time": "2024-12-30T19:25:39.323Z"
   },
   {
    "duration": 13,
    "start_time": "2024-12-30T19:25:39.328Z"
   },
   {
    "duration": 11,
    "start_time": "2024-12-30T19:25:39.342Z"
   },
   {
    "duration": 5,
    "start_time": "2024-12-30T19:25:39.354Z"
   },
   {
    "duration": 171,
    "start_time": "2024-12-30T19:25:39.362Z"
   },
   {
    "duration": 287,
    "start_time": "2024-12-30T19:25:39.534Z"
   },
   {
    "duration": 159,
    "start_time": "2024-12-30T19:25:39.823Z"
   },
   {
    "duration": 7,
    "start_time": "2024-12-30T19:25:39.983Z"
   },
   {
    "duration": 119,
    "start_time": "2024-12-30T19:25:39.992Z"
   },
   {
    "duration": 18,
    "start_time": "2024-12-30T19:25:40.112Z"
   },
   {
    "duration": 185,
    "start_time": "2024-12-30T19:25:40.132Z"
   },
   {
    "duration": 9,
    "start_time": "2024-12-30T19:25:40.318Z"
   },
   {
    "duration": 177,
    "start_time": "2024-12-30T19:25:40.329Z"
   },
   {
    "duration": 106,
    "start_time": "2024-12-30T19:25:40.508Z"
   },
   {
    "duration": 269,
    "start_time": "2024-12-30T19:25:40.621Z"
   },
   {
    "duration": 14,
    "start_time": "2024-12-30T19:25:40.892Z"
   },
   {
    "duration": 20,
    "start_time": "2024-12-30T19:25:40.907Z"
   },
   {
    "duration": 100,
    "start_time": "2024-12-30T19:25:40.929Z"
   },
   {
    "duration": 0,
    "start_time": "2024-12-30T19:25:41.031Z"
   },
   {
    "duration": 11,
    "start_time": "2024-12-30T19:26:59.618Z"
   },
   {
    "duration": 3,
    "start_time": "2024-12-30T19:31:05.057Z"
   },
   {
    "duration": 8,
    "start_time": "2024-12-30T19:31:39.489Z"
   },
   {
    "duration": 12,
    "start_time": "2024-12-30T19:31:54.784Z"
   },
   {
    "duration": 2,
    "start_time": "2024-12-30T19:32:21.116Z"
   },
   {
    "duration": 5,
    "start_time": "2024-12-30T19:32:23.476Z"
   },
   {
    "duration": 324,
    "start_time": "2024-12-30T19:32:39.981Z"
   },
   {
    "duration": 3,
    "start_time": "2024-12-30T19:36:51.951Z"
   },
   {
    "duration": 5,
    "start_time": "2024-12-30T19:36:52.555Z"
   },
   {
    "duration": 12,
    "start_time": "2024-12-30T19:36:53.040Z"
   },
   {
    "duration": 12,
    "start_time": "2024-12-30T19:37:11.251Z"
   },
   {
    "duration": 12,
    "start_time": "2024-12-30T19:38:38.101Z"
   },
   {
    "duration": 385,
    "start_time": "2024-12-30T19:38:43.588Z"
   },
   {
    "duration": 227,
    "start_time": "2024-12-30T19:38:43.975Z"
   },
   {
    "duration": 501,
    "start_time": "2024-12-30T19:38:44.203Z"
   },
   {
    "duration": 131,
    "start_time": "2024-12-30T19:38:44.706Z"
   },
   {
    "duration": 49,
    "start_time": "2024-12-30T19:38:44.839Z"
   },
   {
    "duration": 15,
    "start_time": "2024-12-30T19:38:44.890Z"
   },
   {
    "duration": 25,
    "start_time": "2024-12-30T19:38:44.906Z"
   },
   {
    "duration": 16,
    "start_time": "2024-12-30T19:38:44.933Z"
   },
   {
    "duration": 15,
    "start_time": "2024-12-30T19:38:44.950Z"
   },
   {
    "duration": 54,
    "start_time": "2024-12-30T19:38:44.967Z"
   },
   {
    "duration": 111,
    "start_time": "2024-12-30T19:38:45.023Z"
   },
   {
    "duration": 136,
    "start_time": "2024-12-30T19:38:45.136Z"
   },
   {
    "duration": 113,
    "start_time": "2024-12-30T19:38:45.274Z"
   },
   {
    "duration": 180,
    "start_time": "2024-12-30T19:38:45.388Z"
   },
   {
    "duration": 17,
    "start_time": "2024-12-30T19:38:45.569Z"
   },
   {
    "duration": 48,
    "start_time": "2024-12-30T19:38:45.588Z"
   },
   {
    "duration": 37,
    "start_time": "2024-12-30T19:38:45.637Z"
   },
   {
    "duration": 26,
    "start_time": "2024-12-30T19:38:45.676Z"
   },
   {
    "duration": 34,
    "start_time": "2024-12-30T19:38:45.703Z"
   },
   {
    "duration": 21,
    "start_time": "2024-12-30T19:38:45.739Z"
   },
   {
    "duration": 23,
    "start_time": "2024-12-30T19:38:45.761Z"
   },
   {
    "duration": 8,
    "start_time": "2024-12-30T19:38:45.785Z"
   },
   {
    "duration": 27,
    "start_time": "2024-12-30T19:38:45.795Z"
   },
   {
    "duration": 21,
    "start_time": "2024-12-30T19:38:45.823Z"
   },
   {
    "duration": 20,
    "start_time": "2024-12-30T19:38:45.845Z"
   },
   {
    "duration": 38,
    "start_time": "2024-12-30T19:38:45.867Z"
   },
   {
    "duration": 16,
    "start_time": "2024-12-30T19:38:45.907Z"
   },
   {
    "duration": 166,
    "start_time": "2024-12-30T19:38:45.926Z"
   },
   {
    "duration": 274,
    "start_time": "2024-12-30T19:38:46.094Z"
   },
   {
    "duration": 158,
    "start_time": "2024-12-30T19:38:46.370Z"
   },
   {
    "duration": 7,
    "start_time": "2024-12-30T19:38:46.530Z"
   },
   {
    "duration": 116,
    "start_time": "2024-12-30T19:38:46.538Z"
   },
   {
    "duration": 12,
    "start_time": "2024-12-30T19:38:46.655Z"
   },
   {
    "duration": 179,
    "start_time": "2024-12-30T19:38:46.669Z"
   },
   {
    "duration": 9,
    "start_time": "2024-12-30T19:38:46.849Z"
   },
   {
    "duration": 177,
    "start_time": "2024-12-30T19:38:46.860Z"
   },
   {
    "duration": 109,
    "start_time": "2024-12-30T19:38:47.039Z"
   },
   {
    "duration": 254,
    "start_time": "2024-12-30T19:38:47.150Z"
   },
   {
    "duration": 18,
    "start_time": "2024-12-30T19:38:47.406Z"
   },
   {
    "duration": 9,
    "start_time": "2024-12-30T19:38:47.426Z"
   },
   {
    "duration": 27,
    "start_time": "2024-12-30T19:38:47.437Z"
   },
   {
    "duration": 106,
    "start_time": "2024-12-30T19:38:47.466Z"
   },
   {
    "duration": 0,
    "start_time": "2024-12-30T19:38:47.573Z"
   },
   {
    "duration": 0,
    "start_time": "2024-12-30T19:38:47.574Z"
   },
   {
    "duration": 11,
    "start_time": "2024-12-30T19:39:40.352Z"
   },
   {
    "duration": 375,
    "start_time": "2024-12-30T19:40:45.334Z"
   },
   {
    "duration": 12,
    "start_time": "2024-12-30T19:43:29.548Z"
   },
   {
    "duration": 289,
    "start_time": "2024-12-30T19:47:44.425Z"
   },
   {
    "duration": 407,
    "start_time": "2024-12-30T19:49:25.404Z"
   },
   {
    "duration": 224,
    "start_time": "2024-12-30T19:49:25.813Z"
   },
   {
    "duration": 503,
    "start_time": "2024-12-30T19:49:26.038Z"
   },
   {
    "duration": 154,
    "start_time": "2024-12-30T19:49:26.543Z"
   },
   {
    "duration": 54,
    "start_time": "2024-12-30T19:49:26.699Z"
   },
   {
    "duration": 15,
    "start_time": "2024-12-30T19:49:26.754Z"
   },
   {
    "duration": 22,
    "start_time": "2024-12-30T19:49:26.771Z"
   },
   {
    "duration": 6,
    "start_time": "2024-12-30T19:49:26.795Z"
   },
   {
    "duration": 22,
    "start_time": "2024-12-30T19:49:26.802Z"
   },
   {
    "duration": 35,
    "start_time": "2024-12-30T19:49:26.826Z"
   },
   {
    "duration": 13,
    "start_time": "2024-12-30T19:49:26.863Z"
   },
   {
    "duration": 4,
    "start_time": "2024-12-30T19:49:26.878Z"
   },
   {
    "duration": 17,
    "start_time": "2024-12-30T19:49:26.884Z"
   },
   {
    "duration": 3,
    "start_time": "2024-12-30T19:49:26.903Z"
   },
   {
    "duration": 17,
    "start_time": "2024-12-30T19:49:26.907Z"
   },
   {
    "duration": 6,
    "start_time": "2024-12-30T19:49:26.925Z"
   },
   {
    "duration": 14,
    "start_time": "2024-12-30T19:49:26.933Z"
   },
   {
    "duration": 20,
    "start_time": "2024-12-30T19:49:26.948Z"
   },
   {
    "duration": 10,
    "start_time": "2024-12-30T19:49:26.970Z"
   },
   {
    "duration": 10,
    "start_time": "2024-12-30T19:49:26.981Z"
   },
   {
    "duration": 16,
    "start_time": "2024-12-30T19:49:27.022Z"
   },
   {
    "duration": 7,
    "start_time": "2024-12-30T19:49:27.040Z"
   },
   {
    "duration": 9,
    "start_time": "2024-12-30T19:49:27.048Z"
   },
   {
    "duration": 8,
    "start_time": "2024-12-30T19:49:27.058Z"
   },
   {
    "duration": 13,
    "start_time": "2024-12-30T19:49:27.068Z"
   },
   {
    "duration": 38,
    "start_time": "2024-12-30T19:49:27.083Z"
   },
   {
    "duration": 6,
    "start_time": "2024-12-30T19:49:27.123Z"
   },
   {
    "duration": 175,
    "start_time": "2024-12-30T19:49:27.131Z"
   },
   {
    "duration": 299,
    "start_time": "2024-12-30T19:49:27.308Z"
   },
   {
    "duration": 163,
    "start_time": "2024-12-30T19:49:27.609Z"
   },
   {
    "duration": 7,
    "start_time": "2024-12-30T19:49:27.773Z"
   },
   {
    "duration": 111,
    "start_time": "2024-12-30T19:49:27.781Z"
   },
   {
    "duration": 15,
    "start_time": "2024-12-30T19:49:27.894Z"
   },
   {
    "duration": 177,
    "start_time": "2024-12-30T19:49:27.910Z"
   },
   {
    "duration": 8,
    "start_time": "2024-12-30T19:49:28.088Z"
   },
   {
    "duration": 172,
    "start_time": "2024-12-30T19:49:28.098Z"
   },
   {
    "duration": 123,
    "start_time": "2024-12-30T19:49:28.272Z"
   },
   {
    "duration": 290,
    "start_time": "2024-12-30T19:49:28.397Z"
   },
   {
    "duration": 14,
    "start_time": "2024-12-30T19:49:28.688Z"
   },
   {
    "duration": 2,
    "start_time": "2024-12-30T19:49:28.704Z"
   },
   {
    "duration": 17,
    "start_time": "2024-12-30T19:49:28.707Z"
   },
   {
    "duration": 378,
    "start_time": "2024-12-30T19:49:28.725Z"
   },
   {
    "duration": 98,
    "start_time": "2024-12-30T19:52:19.029Z"
   },
   {
    "duration": 1,
    "start_time": "2024-12-30T19:52:19.128Z"
   },
   {
    "duration": 0,
    "start_time": "2024-12-30T19:52:19.133Z"
   },
   {
    "duration": 13,
    "start_time": "2024-12-30T19:53:26.153Z"
   },
   {
    "duration": 360,
    "start_time": "2024-12-30T19:53:46.952Z"
   },
   {
    "duration": 225,
    "start_time": "2024-12-30T19:53:47.313Z"
   },
   {
    "duration": 474,
    "start_time": "2024-12-30T19:53:47.540Z"
   },
   {
    "duration": 118,
    "start_time": "2024-12-30T19:53:48.016Z"
   },
   {
    "duration": 55,
    "start_time": "2024-12-30T19:53:48.136Z"
   },
   {
    "duration": 14,
    "start_time": "2024-12-30T19:53:48.192Z"
   },
   {
    "duration": 14,
    "start_time": "2024-12-30T19:53:48.207Z"
   },
   {
    "duration": 8,
    "start_time": "2024-12-30T19:53:48.223Z"
   },
   {
    "duration": 14,
    "start_time": "2024-12-30T19:53:48.232Z"
   },
   {
    "duration": 22,
    "start_time": "2024-12-30T19:53:48.248Z"
   },
   {
    "duration": 15,
    "start_time": "2024-12-30T19:53:48.271Z"
   },
   {
    "duration": 4,
    "start_time": "2024-12-30T19:53:48.288Z"
   },
   {
    "duration": 42,
    "start_time": "2024-12-30T19:53:48.294Z"
   },
   {
    "duration": 105,
    "start_time": "2024-12-30T19:53:48.337Z"
   },
   {
    "duration": 4,
    "start_time": "2024-12-30T19:53:48.443Z"
   },
   {
    "duration": 5,
    "start_time": "2024-12-30T19:53:48.449Z"
   },
   {
    "duration": 24,
    "start_time": "2024-12-30T19:53:48.455Z"
   },
   {
    "duration": 10,
    "start_time": "2024-12-30T19:53:48.480Z"
   },
   {
    "duration": 14,
    "start_time": "2024-12-30T19:53:48.491Z"
   },
   {
    "duration": 21,
    "start_time": "2024-12-30T19:53:48.506Z"
   },
   {
    "duration": 20,
    "start_time": "2024-12-30T19:53:48.529Z"
   },
   {
    "duration": 8,
    "start_time": "2024-12-30T19:53:48.550Z"
   },
   {
    "duration": 9,
    "start_time": "2024-12-30T19:53:48.559Z"
   },
   {
    "duration": 4,
    "start_time": "2024-12-30T19:53:48.570Z"
   },
   {
    "duration": 12,
    "start_time": "2024-12-30T19:53:48.575Z"
   },
   {
    "duration": 8,
    "start_time": "2024-12-30T19:53:48.589Z"
   },
   {
    "duration": 28,
    "start_time": "2024-12-30T19:53:48.598Z"
   },
   {
    "duration": 165,
    "start_time": "2024-12-30T19:53:48.629Z"
   },
   {
    "duration": 267,
    "start_time": "2024-12-30T19:53:48.796Z"
   },
   {
    "duration": 156,
    "start_time": "2024-12-30T19:53:49.065Z"
   },
   {
    "duration": 7,
    "start_time": "2024-12-30T19:53:49.223Z"
   },
   {
    "duration": 161,
    "start_time": "2024-12-30T19:53:49.231Z"
   },
   {
    "duration": 11,
    "start_time": "2024-12-30T19:53:49.394Z"
   },
   {
    "duration": 167,
    "start_time": "2024-12-30T19:53:49.406Z"
   },
   {
    "duration": 9,
    "start_time": "2024-12-30T19:53:49.574Z"
   },
   {
    "duration": 169,
    "start_time": "2024-12-30T19:53:49.585Z"
   },
   {
    "duration": 115,
    "start_time": "2024-12-30T19:53:49.756Z"
   },
   {
    "duration": 259,
    "start_time": "2024-12-30T19:53:49.873Z"
   },
   {
    "duration": 3,
    "start_time": "2024-12-30T19:53:50.134Z"
   },
   {
    "duration": 8,
    "start_time": "2024-12-30T19:53:50.138Z"
   },
   {
    "duration": 368,
    "start_time": "2024-12-30T19:53:50.148Z"
   },
   {
    "duration": 0,
    "start_time": "2024-12-30T19:56:37.796Z"
   },
   {
    "duration": 0,
    "start_time": "2024-12-30T19:56:37.802Z"
   },
   {
    "duration": 0,
    "start_time": "2024-12-30T19:56:37.803Z"
   },
   {
    "duration": 92,
    "start_time": "2024-12-30T20:02:00.461Z"
   },
   {
    "duration": 11,
    "start_time": "2024-12-30T20:02:01.885Z"
   },
   {
    "duration": 11,
    "start_time": "2024-12-30T20:02:26.099Z"
   },
   {
    "duration": 223,
    "start_time": "2024-12-30T20:02:27.142Z"
   },
   {
    "duration": 9,
    "start_time": "2024-12-30T20:02:44.885Z"
   },
   {
    "duration": 49,
    "start_time": "2025-01-01T16:02:43.996Z"
   },
   {
    "duration": 405,
    "start_time": "2025-01-01T16:02:59.808Z"
   },
   {
    "duration": 476,
    "start_time": "2025-01-01T16:03:00.215Z"
   },
   {
    "duration": 577,
    "start_time": "2025-01-01T16:03:00.693Z"
   },
   {
    "duration": 152,
    "start_time": "2025-01-01T16:03:01.272Z"
   },
   {
    "duration": 123,
    "start_time": "2025-01-01T16:03:01.425Z"
   },
   {
    "duration": 16,
    "start_time": "2025-01-01T16:03:01.550Z"
   },
   {
    "duration": 19,
    "start_time": "2025-01-01T16:03:01.568Z"
   },
   {
    "duration": 7,
    "start_time": "2025-01-01T16:03:01.589Z"
   },
   {
    "duration": 21,
    "start_time": "2025-01-01T16:03:01.597Z"
   },
   {
    "duration": 18,
    "start_time": "2025-01-01T16:03:01.620Z"
   },
   {
    "duration": 41,
    "start_time": "2025-01-01T16:03:01.640Z"
   },
   {
    "duration": 4,
    "start_time": "2025-01-01T16:03:01.682Z"
   },
   {
    "duration": 34,
    "start_time": "2025-01-01T16:03:01.688Z"
   },
   {
    "duration": 5,
    "start_time": "2025-01-01T16:03:01.724Z"
   },
   {
    "duration": 28,
    "start_time": "2025-01-01T16:03:01.731Z"
   },
   {
    "duration": 7,
    "start_time": "2025-01-01T16:03:01.761Z"
   },
   {
    "duration": 22,
    "start_time": "2025-01-01T16:03:01.770Z"
   },
   {
    "duration": 10,
    "start_time": "2025-01-01T16:03:01.794Z"
   },
   {
    "duration": 24,
    "start_time": "2025-01-01T16:03:01.806Z"
   },
   {
    "duration": 25,
    "start_time": "2025-01-01T16:03:01.832Z"
   },
   {
    "duration": 35,
    "start_time": "2025-01-01T16:03:01.858Z"
   },
   {
    "duration": 9,
    "start_time": "2025-01-01T16:03:01.895Z"
   },
   {
    "duration": 12,
    "start_time": "2025-01-01T16:03:01.906Z"
   },
   {
    "duration": 20,
    "start_time": "2025-01-01T16:03:01.920Z"
   },
   {
    "duration": 26,
    "start_time": "2025-01-01T16:03:01.941Z"
   },
   {
    "duration": 18,
    "start_time": "2025-01-01T16:03:01.969Z"
   },
   {
    "duration": 30,
    "start_time": "2025-01-01T16:03:01.989Z"
   },
   {
    "duration": 235,
    "start_time": "2025-01-01T16:03:02.023Z"
   },
   {
    "duration": 309,
    "start_time": "2025-01-01T16:03:02.259Z"
   },
   {
    "duration": 191,
    "start_time": "2025-01-01T16:03:02.570Z"
   },
   {
    "duration": 8,
    "start_time": "2025-01-01T16:03:02.763Z"
   },
   {
    "duration": 133,
    "start_time": "2025-01-01T16:03:02.773Z"
   },
   {
    "duration": 14,
    "start_time": "2025-01-01T16:03:02.908Z"
   },
   {
    "duration": 207,
    "start_time": "2025-01-01T16:03:02.924Z"
   },
   {
    "duration": 11,
    "start_time": "2025-01-01T16:03:03.133Z"
   },
   {
    "duration": 189,
    "start_time": "2025-01-01T16:03:03.159Z"
   },
   {
    "duration": 127,
    "start_time": "2025-01-01T16:03:03.350Z"
   },
   {
    "duration": 115,
    "start_time": "2025-01-01T16:03:03.479Z"
   },
   {
    "duration": 0,
    "start_time": "2025-01-01T16:03:03.596Z"
   },
   {
    "duration": 0,
    "start_time": "2025-01-01T16:03:03.597Z"
   },
   {
    "duration": 0,
    "start_time": "2025-01-01T16:03:03.598Z"
   },
   {
    "duration": 0,
    "start_time": "2025-01-01T16:03:03.599Z"
   },
   {
    "duration": 0,
    "start_time": "2025-01-01T16:03:03.601Z"
   },
   {
    "duration": 0,
    "start_time": "2025-01-01T16:03:03.602Z"
   },
   {
    "duration": 0,
    "start_time": "2025-01-01T16:03:03.603Z"
   },
   {
    "duration": 13,
    "start_time": "2025-01-01T16:04:32.712Z"
   },
   {
    "duration": 13,
    "start_time": "2025-01-01T16:05:40.843Z"
   },
   {
    "duration": 12,
    "start_time": "2025-01-01T16:05:53.782Z"
   },
   {
    "duration": 16,
    "start_time": "2025-01-01T16:06:34.597Z"
   },
   {
    "duration": 331,
    "start_time": "2025-01-01T16:08:00.564Z"
   },
   {
    "duration": 398,
    "start_time": "2025-01-01T16:12:59.899Z"
   },
   {
    "duration": 3,
    "start_time": "2025-01-01T16:13:05.297Z"
   },
   {
    "duration": 6,
    "start_time": "2025-01-01T16:13:05.864Z"
   },
   {
    "duration": 334,
    "start_time": "2025-01-01T16:13:06.467Z"
   },
   {
    "duration": 22,
    "start_time": "2025-01-01T16:13:28.474Z"
   },
   {
    "duration": 263,
    "start_time": "2025-01-01T16:13:29.274Z"
   },
   {
    "duration": 10,
    "start_time": "2025-01-01T16:15:45.002Z"
   },
   {
    "duration": 291,
    "start_time": "2025-01-01T16:15:47.871Z"
   },
   {
    "duration": 260,
    "start_time": "2025-01-01T16:16:32.144Z"
   },
   {
    "duration": 10,
    "start_time": "2025-01-01T16:21:50.705Z"
   },
   {
    "duration": 255,
    "start_time": "2025-01-01T16:21:51.207Z"
   },
   {
    "duration": 16,
    "start_time": "2025-01-01T16:38:44.761Z"
   },
   {
    "duration": 443,
    "start_time": "2025-01-01T16:43:08.577Z"
   },
   {
    "duration": 259,
    "start_time": "2025-01-01T16:43:09.023Z"
   },
   {
    "duration": 522,
    "start_time": "2025-01-01T16:43:09.284Z"
   },
   {
    "duration": 153,
    "start_time": "2025-01-01T16:43:09.809Z"
   },
   {
    "duration": 116,
    "start_time": "2025-01-01T16:43:09.964Z"
   },
   {
    "duration": 17,
    "start_time": "2025-01-01T16:43:10.082Z"
   },
   {
    "duration": 17,
    "start_time": "2025-01-01T16:43:10.101Z"
   },
   {
    "duration": 122,
    "start_time": "2025-01-01T16:43:10.120Z"
   },
   {
    "duration": 0,
    "start_time": "2025-01-01T16:43:10.245Z"
   },
   {
    "duration": 0,
    "start_time": "2025-01-01T16:43:10.246Z"
   },
   {
    "duration": 0,
    "start_time": "2025-01-01T16:43:10.247Z"
   },
   {
    "duration": 0,
    "start_time": "2025-01-01T16:43:10.248Z"
   },
   {
    "duration": 0,
    "start_time": "2025-01-01T16:43:10.249Z"
   },
   {
    "duration": 0,
    "start_time": "2025-01-01T16:43:10.250Z"
   },
   {
    "duration": 0,
    "start_time": "2025-01-01T16:43:10.260Z"
   },
   {
    "duration": 0,
    "start_time": "2025-01-01T16:43:10.260Z"
   },
   {
    "duration": 0,
    "start_time": "2025-01-01T16:43:10.261Z"
   },
   {
    "duration": 0,
    "start_time": "2025-01-01T16:43:10.262Z"
   },
   {
    "duration": 0,
    "start_time": "2025-01-01T16:43:10.263Z"
   },
   {
    "duration": 0,
    "start_time": "2025-01-01T16:43:10.264Z"
   },
   {
    "duration": 0,
    "start_time": "2025-01-01T16:43:10.266Z"
   },
   {
    "duration": 0,
    "start_time": "2025-01-01T16:43:10.267Z"
   },
   {
    "duration": 0,
    "start_time": "2025-01-01T16:43:10.268Z"
   },
   {
    "duration": 1,
    "start_time": "2025-01-01T16:43:10.268Z"
   },
   {
    "duration": 0,
    "start_time": "2025-01-01T16:43:10.269Z"
   },
   {
    "duration": 0,
    "start_time": "2025-01-01T16:43:10.270Z"
   },
   {
    "duration": 0,
    "start_time": "2025-01-01T16:43:10.271Z"
   },
   {
    "duration": 0,
    "start_time": "2025-01-01T16:43:10.272Z"
   },
   {
    "duration": 0,
    "start_time": "2025-01-01T16:43:10.274Z"
   },
   {
    "duration": 0,
    "start_time": "2025-01-01T16:43:10.275Z"
   },
   {
    "duration": 0,
    "start_time": "2025-01-01T16:43:10.276Z"
   },
   {
    "duration": 0,
    "start_time": "2025-01-01T16:43:10.277Z"
   },
   {
    "duration": 0,
    "start_time": "2025-01-01T16:43:10.278Z"
   },
   {
    "duration": 0,
    "start_time": "2025-01-01T16:43:10.279Z"
   },
   {
    "duration": 0,
    "start_time": "2025-01-01T16:43:10.280Z"
   },
   {
    "duration": 0,
    "start_time": "2025-01-01T16:43:10.281Z"
   },
   {
    "duration": 0,
    "start_time": "2025-01-01T16:43:10.283Z"
   },
   {
    "duration": 0,
    "start_time": "2025-01-01T16:43:10.284Z"
   },
   {
    "duration": 0,
    "start_time": "2025-01-01T16:43:10.285Z"
   },
   {
    "duration": 0,
    "start_time": "2025-01-01T16:43:10.286Z"
   },
   {
    "duration": 0,
    "start_time": "2025-01-01T16:43:10.287Z"
   },
   {
    "duration": 0,
    "start_time": "2025-01-01T16:43:10.288Z"
   },
   {
    "duration": 0,
    "start_time": "2025-01-01T16:43:10.289Z"
   },
   {
    "duration": 0,
    "start_time": "2025-01-01T16:43:10.290Z"
   },
   {
    "duration": 0,
    "start_time": "2025-01-01T16:43:10.291Z"
   },
   {
    "duration": 9,
    "start_time": "2025-01-01T16:47:02.330Z"
   },
   {
    "duration": 424,
    "start_time": "2025-01-01T16:48:41.215Z"
   },
   {
    "duration": 275,
    "start_time": "2025-01-01T16:48:41.641Z"
   },
   {
    "duration": 575,
    "start_time": "2025-01-01T16:48:41.918Z"
   },
   {
    "duration": 180,
    "start_time": "2025-01-01T16:48:42.496Z"
   },
   {
    "duration": 61,
    "start_time": "2025-01-01T16:48:42.677Z"
   },
   {
    "duration": 17,
    "start_time": "2025-01-01T16:48:42.740Z"
   },
   {
    "duration": 14,
    "start_time": "2025-01-01T16:48:42.760Z"
   },
   {
    "duration": 9,
    "start_time": "2025-01-01T16:48:42.776Z"
   },
   {
    "duration": 10,
    "start_time": "2025-01-01T16:48:42.787Z"
   },
   {
    "duration": 126,
    "start_time": "2025-01-01T16:48:42.800Z"
   },
   {
    "duration": 0,
    "start_time": "2025-01-01T16:48:42.928Z"
   },
   {
    "duration": 0,
    "start_time": "2025-01-01T16:48:42.929Z"
   },
   {
    "duration": 0,
    "start_time": "2025-01-01T16:48:42.930Z"
   },
   {
    "duration": 0,
    "start_time": "2025-01-01T16:48:42.931Z"
   },
   {
    "duration": 0,
    "start_time": "2025-01-01T16:48:42.932Z"
   },
   {
    "duration": 0,
    "start_time": "2025-01-01T16:48:42.933Z"
   },
   {
    "duration": 0,
    "start_time": "2025-01-01T16:48:42.934Z"
   },
   {
    "duration": 0,
    "start_time": "2025-01-01T16:48:42.936Z"
   },
   {
    "duration": 0,
    "start_time": "2025-01-01T16:48:42.936Z"
   },
   {
    "duration": 0,
    "start_time": "2025-01-01T16:48:42.938Z"
   },
   {
    "duration": 0,
    "start_time": "2025-01-01T16:48:42.939Z"
   },
   {
    "duration": 0,
    "start_time": "2025-01-01T16:48:42.940Z"
   },
   {
    "duration": 0,
    "start_time": "2025-01-01T16:48:42.940Z"
   },
   {
    "duration": 0,
    "start_time": "2025-01-01T16:48:42.940Z"
   },
   {
    "duration": 0,
    "start_time": "2025-01-01T16:48:42.941Z"
   },
   {
    "duration": 0,
    "start_time": "2025-01-01T16:48:42.941Z"
   },
   {
    "duration": 0,
    "start_time": "2025-01-01T16:48:42.942Z"
   },
   {
    "duration": 0,
    "start_time": "2025-01-01T16:48:42.942Z"
   },
   {
    "duration": 0,
    "start_time": "2025-01-01T16:48:42.961Z"
   },
   {
    "duration": 0,
    "start_time": "2025-01-01T16:48:42.963Z"
   },
   {
    "duration": 0,
    "start_time": "2025-01-01T16:48:42.964Z"
   },
   {
    "duration": 0,
    "start_time": "2025-01-01T16:48:42.965Z"
   },
   {
    "duration": 0,
    "start_time": "2025-01-01T16:48:42.966Z"
   },
   {
    "duration": 0,
    "start_time": "2025-01-01T16:48:42.968Z"
   },
   {
    "duration": 0,
    "start_time": "2025-01-01T16:48:42.969Z"
   },
   {
    "duration": 0,
    "start_time": "2025-01-01T16:48:42.970Z"
   },
   {
    "duration": 0,
    "start_time": "2025-01-01T16:48:42.971Z"
   },
   {
    "duration": 0,
    "start_time": "2025-01-01T16:48:42.972Z"
   },
   {
    "duration": 0,
    "start_time": "2025-01-01T16:48:42.973Z"
   },
   {
    "duration": 0,
    "start_time": "2025-01-01T16:48:42.974Z"
   },
   {
    "duration": 0,
    "start_time": "2025-01-01T16:48:42.975Z"
   },
   {
    "duration": 0,
    "start_time": "2025-01-01T16:48:42.976Z"
   },
   {
    "duration": 0,
    "start_time": "2025-01-01T16:48:42.977Z"
   },
   {
    "duration": 0,
    "start_time": "2025-01-01T16:48:42.979Z"
   },
   {
    "duration": 0,
    "start_time": "2025-01-01T16:48:42.979Z"
   },
   {
    "duration": 0,
    "start_time": "2025-01-01T16:48:42.981Z"
   },
   {
    "duration": 0,
    "start_time": "2025-01-01T16:48:42.982Z"
   },
   {
    "duration": 17,
    "start_time": "2025-01-01T16:49:21.068Z"
   },
   {
    "duration": 440,
    "start_time": "2025-01-01T16:49:33.794Z"
   },
   {
    "duration": 272,
    "start_time": "2025-01-01T16:49:34.236Z"
   },
   {
    "duration": 610,
    "start_time": "2025-01-01T16:49:34.510Z"
   },
   {
    "duration": 119,
    "start_time": "2025-01-01T16:49:35.123Z"
   },
   {
    "duration": 63,
    "start_time": "2025-01-01T16:49:35.244Z"
   },
   {
    "duration": 21,
    "start_time": "2025-01-01T16:49:35.309Z"
   },
   {
    "duration": 17,
    "start_time": "2025-01-01T16:49:35.331Z"
   },
   {
    "duration": 24,
    "start_time": "2025-01-01T16:49:35.350Z"
   },
   {
    "duration": 30,
    "start_time": "2025-01-01T16:49:35.376Z"
   },
   {
    "duration": 156,
    "start_time": "2025-01-01T16:49:35.409Z"
   },
   {
    "duration": 0,
    "start_time": "2025-01-01T16:49:35.567Z"
   },
   {
    "duration": 0,
    "start_time": "2025-01-01T16:49:35.568Z"
   },
   {
    "duration": 0,
    "start_time": "2025-01-01T16:49:35.570Z"
   },
   {
    "duration": 0,
    "start_time": "2025-01-01T16:49:35.571Z"
   },
   {
    "duration": 0,
    "start_time": "2025-01-01T16:49:35.572Z"
   },
   {
    "duration": 0,
    "start_time": "2025-01-01T16:49:35.573Z"
   },
   {
    "duration": 0,
    "start_time": "2025-01-01T16:49:35.574Z"
   },
   {
    "duration": 0,
    "start_time": "2025-01-01T16:49:35.575Z"
   },
   {
    "duration": 0,
    "start_time": "2025-01-01T16:49:35.576Z"
   },
   {
    "duration": 0,
    "start_time": "2025-01-01T16:49:35.577Z"
   },
   {
    "duration": 0,
    "start_time": "2025-01-01T16:49:35.578Z"
   },
   {
    "duration": 0,
    "start_time": "2025-01-01T16:49:35.579Z"
   },
   {
    "duration": 0,
    "start_time": "2025-01-01T16:49:35.581Z"
   },
   {
    "duration": 0,
    "start_time": "2025-01-01T16:49:35.582Z"
   },
   {
    "duration": 0,
    "start_time": "2025-01-01T16:49:35.583Z"
   },
   {
    "duration": 0,
    "start_time": "2025-01-01T16:49:35.584Z"
   },
   {
    "duration": 0,
    "start_time": "2025-01-01T16:49:35.585Z"
   },
   {
    "duration": 0,
    "start_time": "2025-01-01T16:49:35.587Z"
   },
   {
    "duration": 0,
    "start_time": "2025-01-01T16:49:35.587Z"
   },
   {
    "duration": 0,
    "start_time": "2025-01-01T16:49:35.588Z"
   },
   {
    "duration": 0,
    "start_time": "2025-01-01T16:49:35.589Z"
   },
   {
    "duration": 0,
    "start_time": "2025-01-01T16:49:35.591Z"
   },
   {
    "duration": 0,
    "start_time": "2025-01-01T16:49:35.592Z"
   },
   {
    "duration": 0,
    "start_time": "2025-01-01T16:49:35.593Z"
   },
   {
    "duration": 0,
    "start_time": "2025-01-01T16:49:35.594Z"
   },
   {
    "duration": 0,
    "start_time": "2025-01-01T16:49:35.596Z"
   },
   {
    "duration": 0,
    "start_time": "2025-01-01T16:49:35.597Z"
   },
   {
    "duration": 0,
    "start_time": "2025-01-01T16:49:35.598Z"
   },
   {
    "duration": 0,
    "start_time": "2025-01-01T16:49:35.599Z"
   },
   {
    "duration": 0,
    "start_time": "2025-01-01T16:49:35.600Z"
   },
   {
    "duration": 0,
    "start_time": "2025-01-01T16:49:35.601Z"
   },
   {
    "duration": 0,
    "start_time": "2025-01-01T16:49:35.602Z"
   },
   {
    "duration": 0,
    "start_time": "2025-01-01T16:49:35.660Z"
   },
   {
    "duration": 0,
    "start_time": "2025-01-01T16:49:35.662Z"
   },
   {
    "duration": 0,
    "start_time": "2025-01-01T16:49:35.663Z"
   },
   {
    "duration": 0,
    "start_time": "2025-01-01T16:49:35.664Z"
   },
   {
    "duration": 0,
    "start_time": "2025-01-01T16:49:35.665Z"
   },
   {
    "duration": 14,
    "start_time": "2025-01-01T16:53:52.587Z"
   },
   {
    "duration": 6,
    "start_time": "2025-01-01T16:55:45.099Z"
   },
   {
    "duration": 17,
    "start_time": "2025-01-01T16:55:46.442Z"
   },
   {
    "duration": 17,
    "start_time": "2025-01-01T16:55:48.839Z"
   },
   {
    "duration": 447,
    "start_time": "2025-01-01T16:56:41.741Z"
   },
   {
    "duration": 252,
    "start_time": "2025-01-01T16:56:42.190Z"
   },
   {
    "duration": 557,
    "start_time": "2025-01-01T16:56:42.444Z"
   },
   {
    "duration": 112,
    "start_time": "2025-01-01T16:56:43.004Z"
   },
   {
    "duration": 60,
    "start_time": "2025-01-01T16:56:43.118Z"
   },
   {
    "duration": 17,
    "start_time": "2025-01-01T16:56:43.179Z"
   },
   {
    "duration": 14,
    "start_time": "2025-01-01T16:56:43.198Z"
   },
   {
    "duration": 10,
    "start_time": "2025-01-01T16:56:43.214Z"
   },
   {
    "duration": 37,
    "start_time": "2025-01-01T16:56:43.226Z"
   },
   {
    "duration": 7,
    "start_time": "2025-01-01T16:56:43.265Z"
   },
   {
    "duration": 19,
    "start_time": "2025-01-01T16:56:43.273Z"
   },
   {
    "duration": 33,
    "start_time": "2025-01-01T16:56:43.293Z"
   },
   {
    "duration": 22,
    "start_time": "2025-01-01T16:56:43.327Z"
   },
   {
    "duration": 10,
    "start_time": "2025-01-01T16:56:43.351Z"
   },
   {
    "duration": 21,
    "start_time": "2025-01-01T16:56:43.363Z"
   },
   {
    "duration": 7,
    "start_time": "2025-01-01T16:56:43.385Z"
   },
   {
    "duration": 1532,
    "start_time": "2025-01-01T16:56:43.394Z"
   },
   {
    "duration": 0,
    "start_time": "2025-01-01T16:56:44.929Z"
   },
   {
    "duration": 0,
    "start_time": "2025-01-01T16:56:44.931Z"
   },
   {
    "duration": 0,
    "start_time": "2025-01-01T16:56:44.933Z"
   },
   {
    "duration": 0,
    "start_time": "2025-01-01T16:56:44.934Z"
   },
   {
    "duration": 0,
    "start_time": "2025-01-01T16:56:44.936Z"
   },
   {
    "duration": 0,
    "start_time": "2025-01-01T16:56:44.938Z"
   },
   {
    "duration": 0,
    "start_time": "2025-01-01T16:56:44.940Z"
   },
   {
    "duration": 0,
    "start_time": "2025-01-01T16:56:44.941Z"
   },
   {
    "duration": 0,
    "start_time": "2025-01-01T16:56:44.943Z"
   },
   {
    "duration": 0,
    "start_time": "2025-01-01T16:56:44.944Z"
   },
   {
    "duration": 0,
    "start_time": "2025-01-01T16:56:44.946Z"
   },
   {
    "duration": 0,
    "start_time": "2025-01-01T16:56:44.948Z"
   },
   {
    "duration": 0,
    "start_time": "2025-01-01T16:56:44.950Z"
   },
   {
    "duration": 0,
    "start_time": "2025-01-01T16:56:44.952Z"
   },
   {
    "duration": 0,
    "start_time": "2025-01-01T16:56:44.953Z"
   },
   {
    "duration": 0,
    "start_time": "2025-01-01T16:56:44.954Z"
   },
   {
    "duration": 0,
    "start_time": "2025-01-01T16:56:44.955Z"
   },
   {
    "duration": 0,
    "start_time": "2025-01-01T16:56:44.956Z"
   },
   {
    "duration": 0,
    "start_time": "2025-01-01T16:56:44.957Z"
   },
   {
    "duration": 0,
    "start_time": "2025-01-01T16:56:44.958Z"
   },
   {
    "duration": 0,
    "start_time": "2025-01-01T16:56:44.959Z"
   },
   {
    "duration": 0,
    "start_time": "2025-01-01T16:56:44.960Z"
   },
   {
    "duration": 0,
    "start_time": "2025-01-01T16:56:44.962Z"
   },
   {
    "duration": 0,
    "start_time": "2025-01-01T16:56:44.963Z"
   },
   {
    "duration": 0,
    "start_time": "2025-01-01T16:56:44.964Z"
   },
   {
    "duration": 0,
    "start_time": "2025-01-01T16:56:44.965Z"
   },
   {
    "duration": 0,
    "start_time": "2025-01-01T16:56:44.966Z"
   },
   {
    "duration": 0,
    "start_time": "2025-01-01T16:56:44.967Z"
   },
   {
    "duration": 0,
    "start_time": "2025-01-01T16:56:44.968Z"
   },
   {
    "duration": 0,
    "start_time": "2025-01-01T16:56:44.969Z"
   },
   {
    "duration": 6,
    "start_time": "2025-01-01T16:58:32.064Z"
   },
   {
    "duration": 5,
    "start_time": "2025-01-01T16:58:37.973Z"
   },
   {
    "duration": 16,
    "start_time": "2025-01-01T16:58:38.707Z"
   },
   {
    "duration": 446,
    "start_time": "2025-01-01T16:59:00.052Z"
   },
   {
    "duration": 249,
    "start_time": "2025-01-01T16:59:00.500Z"
   },
   {
    "duration": 547,
    "start_time": "2025-01-01T16:59:00.751Z"
   },
   {
    "duration": 127,
    "start_time": "2025-01-01T16:59:01.300Z"
   },
   {
    "duration": 58,
    "start_time": "2025-01-01T16:59:01.429Z"
   },
   {
    "duration": 16,
    "start_time": "2025-01-01T16:59:01.489Z"
   },
   {
    "duration": 24,
    "start_time": "2025-01-01T16:59:01.507Z"
   },
   {
    "duration": 13,
    "start_time": "2025-01-01T16:59:01.533Z"
   },
   {
    "duration": 18,
    "start_time": "2025-01-01T16:59:01.548Z"
   },
   {
    "duration": 27,
    "start_time": "2025-01-01T16:59:01.569Z"
   },
   {
    "duration": 29,
    "start_time": "2025-01-01T16:59:01.597Z"
   },
   {
    "duration": 37,
    "start_time": "2025-01-01T16:59:01.628Z"
   },
   {
    "duration": 26,
    "start_time": "2025-01-01T16:59:01.666Z"
   },
   {
    "duration": 23,
    "start_time": "2025-01-01T16:59:01.694Z"
   },
   {
    "duration": 40,
    "start_time": "2025-01-01T16:59:01.719Z"
   },
   {
    "duration": 22,
    "start_time": "2025-01-01T16:59:01.761Z"
   },
   {
    "duration": 41,
    "start_time": "2025-01-01T16:59:01.784Z"
   },
   {
    "duration": 37,
    "start_time": "2025-01-01T16:59:01.827Z"
   },
   {
    "duration": 11,
    "start_time": "2025-01-01T16:59:01.866Z"
   },
   {
    "duration": 124,
    "start_time": "2025-01-01T16:59:01.879Z"
   },
   {
    "duration": 0,
    "start_time": "2025-01-01T16:59:02.006Z"
   },
   {
    "duration": 0,
    "start_time": "2025-01-01T16:59:02.007Z"
   },
   {
    "duration": 0,
    "start_time": "2025-01-01T16:59:02.009Z"
   },
   {
    "duration": 1,
    "start_time": "2025-01-01T16:59:02.010Z"
   },
   {
    "duration": 0,
    "start_time": "2025-01-01T16:59:02.012Z"
   },
   {
    "duration": 0,
    "start_time": "2025-01-01T16:59:02.013Z"
   },
   {
    "duration": 0,
    "start_time": "2025-01-01T16:59:02.015Z"
   },
   {
    "duration": 0,
    "start_time": "2025-01-01T16:59:02.016Z"
   },
   {
    "duration": 0,
    "start_time": "2025-01-01T16:59:02.017Z"
   },
   {
    "duration": 0,
    "start_time": "2025-01-01T16:59:02.019Z"
   },
   {
    "duration": 0,
    "start_time": "2025-01-01T16:59:02.021Z"
   },
   {
    "duration": 0,
    "start_time": "2025-01-01T16:59:02.022Z"
   },
   {
    "duration": 0,
    "start_time": "2025-01-01T16:59:02.023Z"
   },
   {
    "duration": 0,
    "start_time": "2025-01-01T16:59:02.025Z"
   },
   {
    "duration": 0,
    "start_time": "2025-01-01T16:59:02.026Z"
   },
   {
    "duration": 0,
    "start_time": "2025-01-01T16:59:02.060Z"
   },
   {
    "duration": 0,
    "start_time": "2025-01-01T16:59:02.062Z"
   },
   {
    "duration": 0,
    "start_time": "2025-01-01T16:59:02.063Z"
   },
   {
    "duration": 0,
    "start_time": "2025-01-01T16:59:02.065Z"
   },
   {
    "duration": 0,
    "start_time": "2025-01-01T16:59:02.066Z"
   },
   {
    "duration": 0,
    "start_time": "2025-01-01T16:59:02.068Z"
   },
   {
    "duration": 0,
    "start_time": "2025-01-01T16:59:02.070Z"
   },
   {
    "duration": 0,
    "start_time": "2025-01-01T16:59:02.071Z"
   },
   {
    "duration": 0,
    "start_time": "2025-01-01T16:59:02.073Z"
   },
   {
    "duration": 0,
    "start_time": "2025-01-01T16:59:02.074Z"
   },
   {
    "duration": 0,
    "start_time": "2025-01-01T16:59:02.076Z"
   },
   {
    "duration": 12,
    "start_time": "2025-01-01T17:00:12.086Z"
   },
   {
    "duration": 457,
    "start_time": "2025-01-01T17:01:00.339Z"
   },
   {
    "duration": 255,
    "start_time": "2025-01-01T17:01:00.798Z"
   },
   {
    "duration": 548,
    "start_time": "2025-01-01T17:01:01.054Z"
   },
   {
    "duration": 157,
    "start_time": "2025-01-01T17:01:01.604Z"
   },
   {
    "duration": 50,
    "start_time": "2025-01-01T17:01:01.763Z"
   },
   {
    "duration": 16,
    "start_time": "2025-01-01T17:01:01.815Z"
   },
   {
    "duration": 21,
    "start_time": "2025-01-01T17:01:01.833Z"
   },
   {
    "duration": 11,
    "start_time": "2025-01-01T17:01:01.856Z"
   },
   {
    "duration": 23,
    "start_time": "2025-01-01T17:01:01.869Z"
   },
   {
    "duration": 33,
    "start_time": "2025-01-01T17:01:01.895Z"
   },
   {
    "duration": 25,
    "start_time": "2025-01-01T17:01:01.930Z"
   },
   {
    "duration": 19,
    "start_time": "2025-01-01T17:01:01.956Z"
   },
   {
    "duration": 15,
    "start_time": "2025-01-01T17:01:01.976Z"
   },
   {
    "duration": 8,
    "start_time": "2025-01-01T17:01:01.992Z"
   },
   {
    "duration": 42,
    "start_time": "2025-01-01T17:01:02.001Z"
   },
   {
    "duration": 4,
    "start_time": "2025-01-01T17:01:02.045Z"
   },
   {
    "duration": 9,
    "start_time": "2025-01-01T17:01:02.051Z"
   },
   {
    "duration": 30,
    "start_time": "2025-01-01T17:01:02.061Z"
   },
   {
    "duration": 23,
    "start_time": "2025-01-01T17:01:02.093Z"
   },
   {
    "duration": 19,
    "start_time": "2025-01-01T17:01:02.117Z"
   },
   {
    "duration": 86,
    "start_time": "2025-01-01T17:01:02.138Z"
   },
   {
    "duration": 0,
    "start_time": "2025-01-01T17:01:02.226Z"
   },
   {
    "duration": 0,
    "start_time": "2025-01-01T17:01:02.228Z"
   },
   {
    "duration": 0,
    "start_time": "2025-01-01T17:01:02.229Z"
   },
   {
    "duration": 0,
    "start_time": "2025-01-01T17:01:02.230Z"
   },
   {
    "duration": 0,
    "start_time": "2025-01-01T17:01:02.231Z"
   },
   {
    "duration": 0,
    "start_time": "2025-01-01T17:01:02.232Z"
   },
   {
    "duration": 0,
    "start_time": "2025-01-01T17:01:02.233Z"
   },
   {
    "duration": 0,
    "start_time": "2025-01-01T17:01:02.234Z"
   },
   {
    "duration": 0,
    "start_time": "2025-01-01T17:01:02.235Z"
   },
   {
    "duration": 0,
    "start_time": "2025-01-01T17:01:02.236Z"
   },
   {
    "duration": 0,
    "start_time": "2025-01-01T17:01:02.237Z"
   },
   {
    "duration": 0,
    "start_time": "2025-01-01T17:01:02.238Z"
   },
   {
    "duration": 0,
    "start_time": "2025-01-01T17:01:02.239Z"
   },
   {
    "duration": 0,
    "start_time": "2025-01-01T17:01:02.240Z"
   },
   {
    "duration": 0,
    "start_time": "2025-01-01T17:01:02.241Z"
   },
   {
    "duration": 0,
    "start_time": "2025-01-01T17:01:02.242Z"
   },
   {
    "duration": 0,
    "start_time": "2025-01-01T17:01:02.244Z"
   },
   {
    "duration": 0,
    "start_time": "2025-01-01T17:01:02.245Z"
   },
   {
    "duration": 0,
    "start_time": "2025-01-01T17:01:02.246Z"
   },
   {
    "duration": 0,
    "start_time": "2025-01-01T17:01:02.247Z"
   },
   {
    "duration": 0,
    "start_time": "2025-01-01T17:01:02.248Z"
   },
   {
    "duration": 0,
    "start_time": "2025-01-01T17:01:02.249Z"
   },
   {
    "duration": 0,
    "start_time": "2025-01-01T17:01:02.250Z"
   },
   {
    "duration": 0,
    "start_time": "2025-01-01T17:01:02.251Z"
   },
   {
    "duration": 0,
    "start_time": "2025-01-01T17:01:02.253Z"
   },
   {
    "duration": 0,
    "start_time": "2025-01-01T17:01:02.254Z"
   },
   {
    "duration": 12,
    "start_time": "2025-01-01T17:01:57.621Z"
   },
   {
    "duration": 20,
    "start_time": "2025-01-01T17:01:59.341Z"
   },
   {
    "duration": 10,
    "start_time": "2025-01-01T17:02:00.298Z"
   },
   {
    "duration": 13,
    "start_time": "2025-01-01T17:02:05.254Z"
   },
   {
    "duration": 6,
    "start_time": "2025-01-01T17:02:05.949Z"
   },
   {
    "duration": 8,
    "start_time": "2025-01-01T17:02:06.988Z"
   },
   {
    "duration": 110,
    "start_time": "2025-01-01T17:02:23.768Z"
   },
   {
    "duration": 8,
    "start_time": "2025-01-01T17:02:24.280Z"
   },
   {
    "duration": 9,
    "start_time": "2025-01-01T17:02:37.784Z"
   },
   {
    "duration": 8,
    "start_time": "2025-01-01T17:02:44.430Z"
   },
   {
    "duration": 184,
    "start_time": "2025-01-01T17:02:46.220Z"
   },
   {
    "duration": 167,
    "start_time": "2025-01-01T17:02:50.401Z"
   },
   {
    "duration": 14,
    "start_time": "2025-01-01T17:02:52.624Z"
   },
   {
    "duration": 310,
    "start_time": "2025-01-01T17:03:01.852Z"
   },
   {
    "duration": 13,
    "start_time": "2025-01-01T17:03:04.080Z"
   },
   {
    "duration": 175,
    "start_time": "2025-01-01T17:03:16.419Z"
   },
   {
    "duration": 11,
    "start_time": "2025-01-01T17:03:18.634Z"
   },
   {
    "duration": 8,
    "start_time": "2025-01-01T17:03:24.015Z"
   },
   {
    "duration": 120,
    "start_time": "2025-01-01T17:03:25.420Z"
   },
   {
    "duration": 14,
    "start_time": "2025-01-01T17:03:28.428Z"
   },
   {
    "duration": 196,
    "start_time": "2025-01-01T17:03:30.295Z"
   },
   {
    "duration": 10,
    "start_time": "2025-01-01T17:03:33.356Z"
   },
   {
    "duration": 292,
    "start_time": "2025-01-01T17:03:34.874Z"
   },
   {
    "duration": 122,
    "start_time": "2025-01-01T17:03:35.856Z"
   },
   {
    "duration": 238,
    "start_time": "2025-01-01T17:03:37.030Z"
   },
   {
    "duration": 303,
    "start_time": "2025-01-01T17:03:40.133Z"
   },
   {
    "duration": 3,
    "start_time": "2025-01-01T17:03:42.560Z"
   },
   {
    "duration": 6,
    "start_time": "2025-01-01T17:03:43.285Z"
   },
   {
    "duration": 314,
    "start_time": "2025-01-01T17:03:43.973Z"
   },
   {
    "duration": 11,
    "start_time": "2025-01-01T17:03:46.299Z"
   },
   {
    "duration": 263,
    "start_time": "2025-01-01T17:03:46.963Z"
   },
   {
    "duration": 800,
    "start_time": "2025-01-01T17:03:50.449Z"
   },
   {
    "duration": 766,
    "start_time": "2025-01-01T17:04:17.152Z"
   },
   {
    "duration": 907,
    "start_time": "2025-01-01T17:04:25.837Z"
   },
   {
    "duration": 795,
    "start_time": "2025-01-01T17:22:14.268Z"
   },
   {
    "duration": 5,
    "start_time": "2025-01-01T17:29:19.775Z"
   },
   {
    "duration": 5,
    "start_time": "2025-01-01T17:30:00.251Z"
   },
   {
    "duration": 4,
    "start_time": "2025-01-01T17:30:57.330Z"
   },
   {
    "duration": 5,
    "start_time": "2025-01-01T17:33:34.220Z"
   },
   {
    "duration": 3,
    "start_time": "2025-01-01T17:47:46.034Z"
   },
   {
    "duration": 15,
    "start_time": "2025-01-01T17:47:46.806Z"
   },
   {
    "duration": 4,
    "start_time": "2025-01-01T17:48:35.123Z"
   },
   {
    "duration": 4,
    "start_time": "2025-01-01T17:48:57.448Z"
   },
   {
    "duration": 11,
    "start_time": "2025-01-01T17:59:09.118Z"
   },
   {
    "duration": 12,
    "start_time": "2025-01-01T17:59:47.222Z"
   },
   {
    "duration": 1446,
    "start_time": "2025-01-01T17:59:55.315Z"
   },
   {
    "duration": 0,
    "start_time": "2025-01-01T17:59:56.763Z"
   },
   {
    "duration": 83,
    "start_time": "2025-01-01T18:00:10.379Z"
   },
   {
    "duration": 1472,
    "start_time": "2025-01-01T18:00:18.635Z"
   },
   {
    "duration": 0,
    "start_time": "2025-01-01T18:00:20.109Z"
   },
   {
    "duration": 1398,
    "start_time": "2025-01-01T18:00:52.155Z"
   },
   {
    "duration": 0,
    "start_time": "2025-01-01T18:00:53.555Z"
   },
   {
    "duration": 7,
    "start_time": "2025-01-01T18:01:18.473Z"
   },
   {
    "duration": 10,
    "start_time": "2025-01-01T18:01:23.628Z"
   },
   {
    "duration": 4,
    "start_time": "2025-01-01T18:02:49.897Z"
   },
   {
    "duration": 13,
    "start_time": "2025-01-01T18:02:50.794Z"
   },
   {
    "duration": 464,
    "start_time": "2025-01-01T18:03:46.421Z"
   },
   {
    "duration": 258,
    "start_time": "2025-01-01T18:03:46.887Z"
   },
   {
    "duration": 540,
    "start_time": "2025-01-01T18:03:47.159Z"
   },
   {
    "duration": 326,
    "start_time": "2025-01-01T18:03:47.701Z"
   },
   {
    "duration": 88,
    "start_time": "2025-01-01T18:03:48.029Z"
   },
   {
    "duration": 17,
    "start_time": "2025-01-01T18:03:48.119Z"
   },
   {
    "duration": 26,
    "start_time": "2025-01-01T18:03:48.138Z"
   },
   {
    "duration": 16,
    "start_time": "2025-01-01T18:03:48.167Z"
   },
   {
    "duration": 29,
    "start_time": "2025-01-01T18:03:48.185Z"
   },
   {
    "duration": 127,
    "start_time": "2025-01-01T18:03:48.216Z"
   },
   {
    "duration": 0,
    "start_time": "2025-01-01T18:03:48.347Z"
   },
   {
    "duration": 0,
    "start_time": "2025-01-01T18:03:48.348Z"
   },
   {
    "duration": 0,
    "start_time": "2025-01-01T18:03:48.349Z"
   },
   {
    "duration": 0,
    "start_time": "2025-01-01T18:03:48.359Z"
   },
   {
    "duration": 0,
    "start_time": "2025-01-01T18:03:48.360Z"
   },
   {
    "duration": 0,
    "start_time": "2025-01-01T18:03:48.361Z"
   },
   {
    "duration": 0,
    "start_time": "2025-01-01T18:03:48.363Z"
   },
   {
    "duration": 0,
    "start_time": "2025-01-01T18:03:48.364Z"
   },
   {
    "duration": 0,
    "start_time": "2025-01-01T18:03:48.365Z"
   },
   {
    "duration": 0,
    "start_time": "2025-01-01T18:03:48.366Z"
   },
   {
    "duration": 0,
    "start_time": "2025-01-01T18:03:48.367Z"
   },
   {
    "duration": 0,
    "start_time": "2025-01-01T18:03:48.368Z"
   },
   {
    "duration": 0,
    "start_time": "2025-01-01T18:03:48.369Z"
   },
   {
    "duration": 0,
    "start_time": "2025-01-01T18:03:48.371Z"
   },
   {
    "duration": 0,
    "start_time": "2025-01-01T18:03:48.372Z"
   },
   {
    "duration": 0,
    "start_time": "2025-01-01T18:03:48.373Z"
   },
   {
    "duration": 0,
    "start_time": "2025-01-01T18:03:48.374Z"
   },
   {
    "duration": 0,
    "start_time": "2025-01-01T18:03:48.375Z"
   },
   {
    "duration": 0,
    "start_time": "2025-01-01T18:03:48.377Z"
   },
   {
    "duration": 0,
    "start_time": "2025-01-01T18:03:48.378Z"
   },
   {
    "duration": 0,
    "start_time": "2025-01-01T18:03:48.379Z"
   },
   {
    "duration": 0,
    "start_time": "2025-01-01T18:03:48.380Z"
   },
   {
    "duration": 0,
    "start_time": "2025-01-01T18:03:48.381Z"
   },
   {
    "duration": 0,
    "start_time": "2025-01-01T18:03:48.383Z"
   },
   {
    "duration": 0,
    "start_time": "2025-01-01T18:03:48.384Z"
   },
   {
    "duration": 0,
    "start_time": "2025-01-01T18:03:48.385Z"
   },
   {
    "duration": 0,
    "start_time": "2025-01-01T18:03:48.387Z"
   },
   {
    "duration": 0,
    "start_time": "2025-01-01T18:03:48.388Z"
   },
   {
    "duration": 0,
    "start_time": "2025-01-01T18:03:48.389Z"
   },
   {
    "duration": 0,
    "start_time": "2025-01-01T18:03:48.390Z"
   },
   {
    "duration": 0,
    "start_time": "2025-01-01T18:03:48.391Z"
   },
   {
    "duration": 0,
    "start_time": "2025-01-01T18:03:48.392Z"
   },
   {
    "duration": 0,
    "start_time": "2025-01-01T18:03:48.393Z"
   },
   {
    "duration": 0,
    "start_time": "2025-01-01T18:03:48.394Z"
   },
   {
    "duration": 0,
    "start_time": "2025-01-01T18:03:48.395Z"
   },
   {
    "duration": 0,
    "start_time": "2025-01-01T18:03:48.396Z"
   },
   {
    "duration": 0,
    "start_time": "2025-01-01T18:03:48.397Z"
   },
   {
    "duration": 0,
    "start_time": "2025-01-01T18:03:48.398Z"
   },
   {
    "duration": 0,
    "start_time": "2025-01-01T18:03:48.462Z"
   },
   {
    "duration": 0,
    "start_time": "2025-01-01T18:03:48.463Z"
   },
   {
    "duration": 0,
    "start_time": "2025-01-01T18:03:48.464Z"
   },
   {
    "duration": 0,
    "start_time": "2025-01-01T18:03:48.466Z"
   },
   {
    "duration": 455,
    "start_time": "2025-01-01T18:05:45.566Z"
   },
   {
    "duration": 268,
    "start_time": "2025-01-01T18:05:46.022Z"
   },
   {
    "duration": 531,
    "start_time": "2025-01-01T18:05:46.291Z"
   },
   {
    "duration": 137,
    "start_time": "2025-01-01T18:05:46.824Z"
   },
   {
    "duration": 63,
    "start_time": "2025-01-01T18:05:46.963Z"
   },
   {
    "duration": 17,
    "start_time": "2025-01-01T18:05:47.027Z"
   },
   {
    "duration": 21,
    "start_time": "2025-01-01T18:05:47.046Z"
   },
   {
    "duration": 10,
    "start_time": "2025-01-01T18:05:47.068Z"
   },
   {
    "duration": 12,
    "start_time": "2025-01-01T18:05:47.080Z"
   },
   {
    "duration": 12,
    "start_time": "2025-01-01T18:05:47.096Z"
   },
   {
    "duration": 23,
    "start_time": "2025-01-01T18:05:47.110Z"
   },
   {
    "duration": 24,
    "start_time": "2025-01-01T18:05:47.135Z"
   },
   {
    "duration": 12,
    "start_time": "2025-01-01T18:05:47.161Z"
   },
   {
    "duration": 56,
    "start_time": "2025-01-01T18:05:47.175Z"
   },
   {
    "duration": 25,
    "start_time": "2025-01-01T18:05:47.233Z"
   },
   {
    "duration": 36,
    "start_time": "2025-01-01T18:05:47.260Z"
   },
   {
    "duration": 15,
    "start_time": "2025-01-01T18:05:47.297Z"
   },
   {
    "duration": 5,
    "start_time": "2025-01-01T18:05:47.314Z"
   },
   {
    "duration": 16,
    "start_time": "2025-01-01T18:05:47.320Z"
   },
   {
    "duration": 4,
    "start_time": "2025-01-01T18:05:47.337Z"
   },
   {
    "duration": 38,
    "start_time": "2025-01-01T18:05:47.343Z"
   },
   {
    "duration": 4,
    "start_time": "2025-01-01T18:05:47.383Z"
   },
   {
    "duration": 10,
    "start_time": "2025-01-01T18:05:47.389Z"
   },
   {
    "duration": 18,
    "start_time": "2025-01-01T18:05:47.401Z"
   },
   {
    "duration": 5,
    "start_time": "2025-01-01T18:05:47.422Z"
   },
   {
    "duration": 33,
    "start_time": "2025-01-01T18:05:47.428Z"
   },
   {
    "duration": 14,
    "start_time": "2025-01-01T18:05:47.463Z"
   },
   {
    "duration": 26,
    "start_time": "2025-01-01T18:05:47.481Z"
   },
   {
    "duration": 17,
    "start_time": "2025-01-01T18:05:47.508Z"
   },
   {
    "duration": 29,
    "start_time": "2025-01-01T18:05:47.526Z"
   },
   {
    "duration": 4,
    "start_time": "2025-01-01T18:05:47.557Z"
   },
   {
    "duration": 33,
    "start_time": "2025-01-01T18:05:47.563Z"
   },
   {
    "duration": 27,
    "start_time": "2025-01-01T18:05:47.597Z"
   },
   {
    "duration": 19,
    "start_time": "2025-01-01T18:05:47.625Z"
   },
   {
    "duration": 186,
    "start_time": "2025-01-01T18:05:47.646Z"
   },
   {
    "duration": 332,
    "start_time": "2025-01-01T18:05:47.834Z"
   },
   {
    "duration": 283,
    "start_time": "2025-01-01T18:05:48.167Z"
   },
   {
    "duration": 0,
    "start_time": "2025-01-01T18:05:48.452Z"
   },
   {
    "duration": 0,
    "start_time": "2025-01-01T18:05:48.453Z"
   },
   {
    "duration": 0,
    "start_time": "2025-01-01T18:05:48.454Z"
   },
   {
    "duration": 0,
    "start_time": "2025-01-01T18:05:48.460Z"
   },
   {
    "duration": 0,
    "start_time": "2025-01-01T18:05:48.461Z"
   },
   {
    "duration": 0,
    "start_time": "2025-01-01T18:05:48.462Z"
   },
   {
    "duration": 0,
    "start_time": "2025-01-01T18:05:48.463Z"
   },
   {
    "duration": 0,
    "start_time": "2025-01-01T18:05:48.464Z"
   },
   {
    "duration": 0,
    "start_time": "2025-01-01T18:05:48.465Z"
   },
   {
    "duration": 0,
    "start_time": "2025-01-01T18:05:48.466Z"
   },
   {
    "duration": 0,
    "start_time": "2025-01-01T18:05:48.468Z"
   },
   {
    "duration": 0,
    "start_time": "2025-01-01T18:05:48.469Z"
   },
   {
    "duration": 0,
    "start_time": "2025-01-01T18:05:48.470Z"
   },
   {
    "duration": 0,
    "start_time": "2025-01-01T18:05:48.472Z"
   },
   {
    "duration": 0,
    "start_time": "2025-01-01T18:05:48.473Z"
   },
   {
    "duration": 5,
    "start_time": "2025-01-01T18:14:44.112Z"
   },
   {
    "duration": 11,
    "start_time": "2025-01-01T18:14:44.585Z"
   },
   {
    "duration": 94,
    "start_time": "2025-01-01T18:21:09.636Z"
   },
   {
    "duration": 12,
    "start_time": "2025-01-01T18:21:21.876Z"
   },
   {
    "duration": 410,
    "start_time": "2025-01-01T18:22:06.611Z"
   },
   {
    "duration": 292,
    "start_time": "2025-01-01T18:22:07.024Z"
   },
   {
    "duration": 606,
    "start_time": "2025-01-01T18:22:07.318Z"
   },
   {
    "duration": 166,
    "start_time": "2025-01-01T18:22:07.928Z"
   },
   {
    "duration": 60,
    "start_time": "2025-01-01T18:22:08.097Z"
   },
   {
    "duration": 20,
    "start_time": "2025-01-01T18:22:08.159Z"
   },
   {
    "duration": 18,
    "start_time": "2025-01-01T18:22:08.182Z"
   },
   {
    "duration": 12,
    "start_time": "2025-01-01T18:22:08.202Z"
   },
   {
    "duration": 44,
    "start_time": "2025-01-01T18:22:08.217Z"
   },
   {
    "duration": 10,
    "start_time": "2025-01-01T18:22:08.264Z"
   },
   {
    "duration": 10,
    "start_time": "2025-01-01T18:22:08.276Z"
   },
   {
    "duration": 6,
    "start_time": "2025-01-01T18:22:08.288Z"
   },
   {
    "duration": 13,
    "start_time": "2025-01-01T18:22:08.296Z"
   },
   {
    "duration": 7,
    "start_time": "2025-01-01T18:22:08.312Z"
   },
   {
    "duration": 48,
    "start_time": "2025-01-01T18:22:08.322Z"
   },
   {
    "duration": 38,
    "start_time": "2025-01-01T18:22:08.373Z"
   },
   {
    "duration": 20,
    "start_time": "2025-01-01T18:22:08.414Z"
   },
   {
    "duration": 5,
    "start_time": "2025-01-01T18:22:08.435Z"
   },
   {
    "duration": 28,
    "start_time": "2025-01-01T18:22:08.442Z"
   },
   {
    "duration": 5,
    "start_time": "2025-01-01T18:22:08.472Z"
   },
   {
    "duration": 23,
    "start_time": "2025-01-01T18:22:08.478Z"
   },
   {
    "duration": 4,
    "start_time": "2025-01-01T18:22:08.503Z"
   },
   {
    "duration": 12,
    "start_time": "2025-01-01T18:22:08.509Z"
   },
   {
    "duration": 46,
    "start_time": "2025-01-01T18:22:08.523Z"
   },
   {
    "duration": 1549,
    "start_time": "2025-01-01T18:22:08.571Z"
   },
   {
    "duration": 0,
    "start_time": "2025-01-01T18:22:10.122Z"
   },
   {
    "duration": 0,
    "start_time": "2025-01-01T18:22:10.123Z"
   },
   {
    "duration": 0,
    "start_time": "2025-01-01T18:22:10.124Z"
   },
   {
    "duration": 0,
    "start_time": "2025-01-01T18:22:10.126Z"
   },
   {
    "duration": 0,
    "start_time": "2025-01-01T18:22:10.127Z"
   },
   {
    "duration": 0,
    "start_time": "2025-01-01T18:22:10.128Z"
   },
   {
    "duration": 0,
    "start_time": "2025-01-01T18:22:10.129Z"
   },
   {
    "duration": 0,
    "start_time": "2025-01-01T18:22:10.129Z"
   },
   {
    "duration": 1,
    "start_time": "2025-01-01T18:22:10.130Z"
   },
   {
    "duration": 0,
    "start_time": "2025-01-01T18:22:10.132Z"
   },
   {
    "duration": 0,
    "start_time": "2025-01-01T18:22:10.132Z"
   },
   {
    "duration": 0,
    "start_time": "2025-01-01T18:22:10.133Z"
   },
   {
    "duration": 0,
    "start_time": "2025-01-01T18:22:10.134Z"
   },
   {
    "duration": 0,
    "start_time": "2025-01-01T18:22:10.135Z"
   },
   {
    "duration": 0,
    "start_time": "2025-01-01T18:22:10.136Z"
   },
   {
    "duration": 0,
    "start_time": "2025-01-01T18:22:10.137Z"
   },
   {
    "duration": 0,
    "start_time": "2025-01-01T18:22:10.138Z"
   },
   {
    "duration": 0,
    "start_time": "2025-01-01T18:22:10.139Z"
   },
   {
    "duration": 0,
    "start_time": "2025-01-01T18:22:10.140Z"
   },
   {
    "duration": 0,
    "start_time": "2025-01-01T18:22:10.141Z"
   },
   {
    "duration": 0,
    "start_time": "2025-01-01T18:22:10.142Z"
   },
   {
    "duration": 0,
    "start_time": "2025-01-01T18:22:10.143Z"
   },
   {
    "duration": 0,
    "start_time": "2025-01-01T18:22:10.144Z"
   },
   {
    "duration": 0,
    "start_time": "2025-01-01T18:22:10.145Z"
   },
   {
    "duration": 0,
    "start_time": "2025-01-01T18:22:10.146Z"
   },
   {
    "duration": 0,
    "start_time": "2025-01-01T18:22:10.147Z"
   },
   {
    "duration": 0,
    "start_time": "2025-01-01T18:22:10.148Z"
   },
   {
    "duration": 6644,
    "start_time": "2025-01-01T18:23:01.884Z"
   },
   {
    "duration": 12,
    "start_time": "2025-01-01T18:23:08.559Z"
   },
   {
    "duration": 12,
    "start_time": "2025-01-01T18:23:13.795Z"
   },
   {
    "duration": 470,
    "start_time": "2025-01-01T18:23:35.033Z"
   },
   {
    "duration": 296,
    "start_time": "2025-01-01T18:23:35.505Z"
   },
   {
    "duration": 603,
    "start_time": "2025-01-01T18:23:35.802Z"
   },
   {
    "duration": 124,
    "start_time": "2025-01-01T18:23:36.408Z"
   },
   {
    "duration": 47,
    "start_time": "2025-01-01T18:23:36.534Z"
   },
   {
    "duration": 17,
    "start_time": "2025-01-01T18:23:36.583Z"
   },
   {
    "duration": 15,
    "start_time": "2025-01-01T18:23:36.602Z"
   },
   {
    "duration": 13,
    "start_time": "2025-01-01T18:23:36.619Z"
   },
   {
    "duration": 42,
    "start_time": "2025-01-01T18:23:36.633Z"
   },
   {
    "duration": 37,
    "start_time": "2025-01-01T18:23:36.677Z"
   },
   {
    "duration": 18,
    "start_time": "2025-01-01T18:23:36.716Z"
   },
   {
    "duration": 6,
    "start_time": "2025-01-01T18:23:36.736Z"
   },
   {
    "duration": 4,
    "start_time": "2025-01-01T18:23:36.743Z"
   },
   {
    "duration": 8,
    "start_time": "2025-01-01T18:23:36.749Z"
   },
   {
    "duration": 19,
    "start_time": "2025-01-01T18:23:36.759Z"
   },
   {
    "duration": 18,
    "start_time": "2025-01-01T18:23:36.780Z"
   },
   {
    "duration": 17,
    "start_time": "2025-01-01T18:23:36.799Z"
   },
   {
    "duration": 4,
    "start_time": "2025-01-01T18:23:36.819Z"
   },
   {
    "duration": 44,
    "start_time": "2025-01-01T18:23:36.825Z"
   },
   {
    "duration": 5,
    "start_time": "2025-01-01T18:23:36.872Z"
   },
   {
    "duration": 25,
    "start_time": "2025-01-01T18:23:36.879Z"
   },
   {
    "duration": 13,
    "start_time": "2025-01-01T18:23:36.905Z"
   },
   {
    "duration": 12,
    "start_time": "2025-01-01T18:23:36.921Z"
   },
   {
    "duration": 35,
    "start_time": "2025-01-01T18:23:36.935Z"
   },
   {
    "duration": 6583,
    "start_time": "2025-01-01T18:23:36.972Z"
   },
   {
    "duration": 12,
    "start_time": "2025-01-01T18:23:43.560Z"
   },
   {
    "duration": 18,
    "start_time": "2025-01-01T18:23:43.574Z"
   },
   {
    "duration": 20,
    "start_time": "2025-01-01T18:23:43.597Z"
   },
   {
    "duration": 42,
    "start_time": "2025-01-01T18:23:43.619Z"
   },
   {
    "duration": 11,
    "start_time": "2025-01-01T18:23:43.663Z"
   },
   {
    "duration": 14,
    "start_time": "2025-01-01T18:23:43.676Z"
   },
   {
    "duration": 7,
    "start_time": "2025-01-01T18:23:43.692Z"
   },
   {
    "duration": 13,
    "start_time": "2025-01-01T18:23:43.700Z"
   },
   {
    "duration": 7,
    "start_time": "2025-01-01T18:23:43.714Z"
   },
   {
    "duration": 210,
    "start_time": "2025-01-01T18:23:43.722Z"
   },
   {
    "duration": 319,
    "start_time": "2025-01-01T18:23:43.934Z"
   },
   {
    "duration": 290,
    "start_time": "2025-01-01T18:23:44.255Z"
   },
   {
    "duration": 0,
    "start_time": "2025-01-01T18:23:44.546Z"
   },
   {
    "duration": 0,
    "start_time": "2025-01-01T18:23:44.560Z"
   },
   {
    "duration": 0,
    "start_time": "2025-01-01T18:23:44.562Z"
   },
   {
    "duration": 0,
    "start_time": "2025-01-01T18:23:44.563Z"
   },
   {
    "duration": 0,
    "start_time": "2025-01-01T18:23:44.564Z"
   },
   {
    "duration": 0,
    "start_time": "2025-01-01T18:23:44.566Z"
   },
   {
    "duration": 0,
    "start_time": "2025-01-01T18:23:44.567Z"
   },
   {
    "duration": 0,
    "start_time": "2025-01-01T18:23:44.568Z"
   },
   {
    "duration": 1,
    "start_time": "2025-01-01T18:23:44.569Z"
   },
   {
    "duration": 0,
    "start_time": "2025-01-01T18:23:44.570Z"
   },
   {
    "duration": 0,
    "start_time": "2025-01-01T18:23:44.572Z"
   },
   {
    "duration": 0,
    "start_time": "2025-01-01T18:23:44.573Z"
   },
   {
    "duration": 0,
    "start_time": "2025-01-01T18:23:44.574Z"
   },
   {
    "duration": 0,
    "start_time": "2025-01-01T18:23:44.575Z"
   },
   {
    "duration": 0,
    "start_time": "2025-01-01T18:23:44.576Z"
   },
   {
    "duration": 81,
    "start_time": "2025-01-01T18:29:36.556Z"
   },
   {
    "duration": 10,
    "start_time": "2025-01-01T18:31:25.787Z"
   },
   {
    "duration": 5,
    "start_time": "2025-01-01T18:31:27.663Z"
   },
   {
    "duration": 9,
    "start_time": "2025-01-01T18:31:30.005Z"
   },
   {
    "duration": 6,
    "start_time": "2025-01-01T18:31:32.661Z"
   },
   {
    "duration": 11,
    "start_time": "2025-01-01T18:32:45.129Z"
   },
   {
    "duration": 5,
    "start_time": "2025-01-01T18:32:46.518Z"
   },
   {
    "duration": 82,
    "start_time": "2025-01-01T18:33:01.947Z"
   },
   {
    "duration": 5,
    "start_time": "2025-01-01T18:33:02.041Z"
   },
   {
    "duration": 10,
    "start_time": "2025-01-01T18:33:13.026Z"
   },
   {
    "duration": 5,
    "start_time": "2025-01-01T18:33:14.035Z"
   },
   {
    "duration": 9,
    "start_time": "2025-01-01T18:33:14.995Z"
   },
   {
    "duration": 183,
    "start_time": "2025-01-01T18:43:26.282Z"
   },
   {
    "duration": 403,
    "start_time": "2025-01-01T18:44:53.803Z"
   },
   {
    "duration": 271,
    "start_time": "2025-01-01T18:44:54.208Z"
   },
   {
    "duration": 567,
    "start_time": "2025-01-01T18:44:54.481Z"
   },
   {
    "duration": 163,
    "start_time": "2025-01-01T18:44:55.051Z"
   },
   {
    "duration": 54,
    "start_time": "2025-01-01T18:44:55.216Z"
   },
   {
    "duration": 17,
    "start_time": "2025-01-01T18:44:55.272Z"
   },
   {
    "duration": 15,
    "start_time": "2025-01-01T18:44:55.291Z"
   },
   {
    "duration": 12,
    "start_time": "2025-01-01T18:44:55.307Z"
   },
   {
    "duration": 13,
    "start_time": "2025-01-01T18:44:55.320Z"
   },
   {
    "duration": 6,
    "start_time": "2025-01-01T18:44:55.361Z"
   },
   {
    "duration": 5,
    "start_time": "2025-01-01T18:44:55.369Z"
   },
   {
    "duration": 12,
    "start_time": "2025-01-01T18:44:55.376Z"
   },
   {
    "duration": 4,
    "start_time": "2025-01-01T18:44:55.390Z"
   },
   {
    "duration": 10,
    "start_time": "2025-01-01T18:44:55.396Z"
   },
   {
    "duration": 32,
    "start_time": "2025-01-01T18:44:55.407Z"
   },
   {
    "duration": 33,
    "start_time": "2025-01-01T18:44:55.440Z"
   },
   {
    "duration": 15,
    "start_time": "2025-01-01T18:44:55.475Z"
   },
   {
    "duration": 5,
    "start_time": "2025-01-01T18:44:55.492Z"
   },
   {
    "duration": 21,
    "start_time": "2025-01-01T18:44:55.499Z"
   },
   {
    "duration": 5,
    "start_time": "2025-01-01T18:44:55.522Z"
   },
   {
    "duration": 21,
    "start_time": "2025-01-01T18:44:55.559Z"
   },
   {
    "duration": 5,
    "start_time": "2025-01-01T18:44:55.582Z"
   },
   {
    "duration": 15,
    "start_time": "2025-01-01T18:44:55.589Z"
   },
   {
    "duration": 13,
    "start_time": "2025-01-01T18:44:55.606Z"
   },
   {
    "duration": 6983,
    "start_time": "2025-01-01T18:44:55.622Z"
   },
   {
    "duration": 12,
    "start_time": "2025-01-01T18:45:02.606Z"
   },
   {
    "duration": 25,
    "start_time": "2025-01-01T18:45:02.620Z"
   },
   {
    "duration": 51,
    "start_time": "2025-01-01T18:45:02.650Z"
   },
   {
    "duration": 28,
    "start_time": "2025-01-01T18:45:02.703Z"
   },
   {
    "duration": 34,
    "start_time": "2025-01-01T18:45:02.733Z"
   },
   {
    "duration": 20,
    "start_time": "2025-01-01T18:45:02.769Z"
   },
   {
    "duration": 28,
    "start_time": "2025-01-01T18:45:02.790Z"
   },
   {
    "duration": 39,
    "start_time": "2025-01-01T18:45:02.820Z"
   },
   {
    "duration": 22,
    "start_time": "2025-01-01T18:45:02.861Z"
   },
   {
    "duration": 195,
    "start_time": "2025-01-01T18:45:02.884Z"
   },
   {
    "duration": 323,
    "start_time": "2025-01-01T18:45:03.081Z"
   },
   {
    "duration": 206,
    "start_time": "2025-01-01T18:45:03.405Z"
   },
   {
    "duration": 9,
    "start_time": "2025-01-01T18:45:03.612Z"
   },
   {
    "duration": 145,
    "start_time": "2025-01-01T18:45:03.623Z"
   },
   {
    "duration": 14,
    "start_time": "2025-01-01T18:45:03.770Z"
   },
   {
    "duration": 216,
    "start_time": "2025-01-01T18:45:03.786Z"
   },
   {
    "duration": 9,
    "start_time": "2025-01-01T18:45:04.004Z"
   },
   {
    "duration": 195,
    "start_time": "2025-01-01T18:45:04.015Z"
   },
   {
    "duration": 131,
    "start_time": "2025-01-01T18:45:04.212Z"
   },
   {
    "duration": 252,
    "start_time": "2025-01-01T18:45:04.345Z"
   },
   {
    "duration": 408,
    "start_time": "2025-01-01T18:45:04.599Z"
   },
   {
    "duration": 3,
    "start_time": "2025-01-01T18:45:05.009Z"
   },
   {
    "duration": 14,
    "start_time": "2025-01-01T18:45:05.014Z"
   },
   {
    "duration": 352,
    "start_time": "2025-01-01T18:45:05.030Z"
   },
   {
    "duration": 11,
    "start_time": "2025-01-01T18:45:05.384Z"
   },
   {
    "duration": 266,
    "start_time": "2025-01-01T18:45:05.397Z"
   },
   {
    "duration": 839,
    "start_time": "2025-01-01T18:45:05.665Z"
   },
   {
    "duration": 87,
    "start_time": "2025-01-01T18:45:06.506Z"
   },
   {
    "duration": 91,
    "start_time": "2025-01-01T18:46:09.241Z"
   },
   {
    "duration": 9,
    "start_time": "2025-01-01T18:49:08.531Z"
   },
   {
    "duration": 432,
    "start_time": "2025-01-01T18:49:23.484Z"
   },
   {
    "duration": 263,
    "start_time": "2025-01-01T18:49:23.918Z"
   },
   {
    "duration": 523,
    "start_time": "2025-01-01T18:49:24.183Z"
   },
   {
    "duration": 107,
    "start_time": "2025-01-01T18:49:24.708Z"
   },
   {
    "duration": 54,
    "start_time": "2025-01-01T18:49:24.817Z"
   },
   {
    "duration": 17,
    "start_time": "2025-01-01T18:49:24.873Z"
   },
   {
    "duration": 16,
    "start_time": "2025-01-01T18:49:24.892Z"
   },
   {
    "duration": 13,
    "start_time": "2025-01-01T18:49:24.909Z"
   },
   {
    "duration": 42,
    "start_time": "2025-01-01T18:49:24.924Z"
   },
   {
    "duration": 9,
    "start_time": "2025-01-01T18:49:24.968Z"
   },
   {
    "duration": 4,
    "start_time": "2025-01-01T18:49:24.979Z"
   },
   {
    "duration": 9,
    "start_time": "2025-01-01T18:49:24.985Z"
   },
   {
    "duration": 4,
    "start_time": "2025-01-01T18:49:24.996Z"
   },
   {
    "duration": 9,
    "start_time": "2025-01-01T18:49:25.002Z"
   },
   {
    "duration": 20,
    "start_time": "2025-01-01T18:49:25.012Z"
   },
   {
    "duration": 17,
    "start_time": "2025-01-01T18:49:25.060Z"
   },
   {
    "duration": 15,
    "start_time": "2025-01-01T18:49:25.079Z"
   },
   {
    "duration": 4,
    "start_time": "2025-01-01T18:49:25.096Z"
   },
   {
    "duration": 16,
    "start_time": "2025-01-01T18:49:25.102Z"
   },
   {
    "duration": 4,
    "start_time": "2025-01-01T18:49:25.119Z"
   },
   {
    "duration": 54,
    "start_time": "2025-01-01T18:49:25.125Z"
   },
   {
    "duration": 4,
    "start_time": "2025-01-01T18:49:25.181Z"
   },
   {
    "duration": 25,
    "start_time": "2025-01-01T18:49:25.186Z"
   },
   {
    "duration": 20,
    "start_time": "2025-01-01T18:49:25.212Z"
   },
   {
    "duration": 6546,
    "start_time": "2025-01-01T18:49:25.234Z"
   },
   {
    "duration": 11,
    "start_time": "2025-01-01T18:49:31.781Z"
   },
   {
    "duration": 25,
    "start_time": "2025-01-01T18:49:31.794Z"
   },
   {
    "duration": 34,
    "start_time": "2025-01-01T18:49:31.823Z"
   },
   {
    "duration": 9,
    "start_time": "2025-01-01T18:49:31.859Z"
   },
   {
    "duration": 11,
    "start_time": "2025-01-01T18:49:31.870Z"
   },
   {
    "duration": 23,
    "start_time": "2025-01-01T18:49:31.882Z"
   },
   {
    "duration": 19,
    "start_time": "2025-01-01T18:49:31.907Z"
   },
   {
    "duration": 20,
    "start_time": "2025-01-01T18:49:31.927Z"
   },
   {
    "duration": 24,
    "start_time": "2025-01-01T18:49:31.948Z"
   },
   {
    "duration": 180,
    "start_time": "2025-01-01T18:49:31.973Z"
   },
   {
    "duration": 319,
    "start_time": "2025-01-01T18:49:32.154Z"
   },
   {
    "duration": 194,
    "start_time": "2025-01-01T18:49:32.475Z"
   },
   {
    "duration": 9,
    "start_time": "2025-01-01T18:49:32.671Z"
   },
   {
    "duration": 139,
    "start_time": "2025-01-01T18:49:32.681Z"
   },
   {
    "duration": 14,
    "start_time": "2025-01-01T18:49:32.822Z"
   },
   {
    "duration": 245,
    "start_time": "2025-01-01T18:49:32.838Z"
   },
   {
    "duration": 10,
    "start_time": "2025-01-01T18:49:33.084Z"
   },
   {
    "duration": 192,
    "start_time": "2025-01-01T18:49:33.096Z"
   },
   {
    "duration": 130,
    "start_time": "2025-01-01T18:49:33.290Z"
   },
   {
    "duration": 255,
    "start_time": "2025-01-01T18:49:33.422Z"
   },
   {
    "duration": 389,
    "start_time": "2025-01-01T18:49:33.679Z"
   },
   {
    "duration": 2,
    "start_time": "2025-01-01T18:49:34.070Z"
   },
   {
    "duration": 8,
    "start_time": "2025-01-01T18:49:34.074Z"
   },
   {
    "duration": 341,
    "start_time": "2025-01-01T18:49:34.084Z"
   },
   {
    "duration": 14,
    "start_time": "2025-01-01T18:49:34.427Z"
   },
   {
    "duration": 271,
    "start_time": "2025-01-01T18:49:34.444Z"
   },
   {
    "duration": 851,
    "start_time": "2025-01-01T18:49:34.717Z"
   },
   {
    "duration": 339,
    "start_time": "2025-01-01T19:10:31.431Z"
   },
   {
    "duration": 314,
    "start_time": "2025-01-01T19:10:55.954Z"
   },
   {
    "duration": 334,
    "start_time": "2025-01-01T19:11:29.625Z"
   },
   {
    "duration": 10,
    "start_time": "2025-01-01T19:14:56.389Z"
   },
   {
    "duration": 290,
    "start_time": "2025-01-01T19:17:26.948Z"
   },
   {
    "duration": 248,
    "start_time": "2025-01-01T19:19:56.818Z"
   },
   {
    "duration": 874,
    "start_time": "2025-01-01T19:20:05.273Z"
   },
   {
    "duration": 14,
    "start_time": "2025-01-01T19:20:06.149Z"
   },
   {
    "duration": 1007,
    "start_time": "2025-01-01T19:23:39.695Z"
   },
   {
    "duration": 283,
    "start_time": "2025-01-01T19:24:37.706Z"
   },
   {
    "duration": 92,
    "start_time": "2025-01-01T19:24:40.333Z"
   },
   {
    "duration": 1027,
    "start_time": "2025-01-01T19:24:42.377Z"
   },
   {
    "duration": 110,
    "start_time": "2025-01-01T19:29:06.643Z"
   },
   {
    "duration": 10,
    "start_time": "2025-01-01T19:29:46.389Z"
   },
   {
    "duration": 13,
    "start_time": "2025-01-01T19:30:09.761Z"
   },
   {
    "duration": 10,
    "start_time": "2025-01-01T19:30:53.554Z"
   },
   {
    "duration": 8,
    "start_time": "2025-01-01T19:31:02.235Z"
   },
   {
    "duration": 409,
    "start_time": "2025-01-01T19:31:32.306Z"
   },
   {
    "duration": 271,
    "start_time": "2025-01-01T19:31:32.717Z"
   },
   {
    "duration": 583,
    "start_time": "2025-01-01T19:31:32.990Z"
   },
   {
    "duration": 169,
    "start_time": "2025-01-01T19:31:33.575Z"
   },
   {
    "duration": 96,
    "start_time": "2025-01-01T19:31:33.745Z"
   },
   {
    "duration": 18,
    "start_time": "2025-01-01T19:31:33.843Z"
   },
   {
    "duration": 17,
    "start_time": "2025-01-01T19:31:33.862Z"
   },
   {
    "duration": 10,
    "start_time": "2025-01-01T19:31:33.880Z"
   },
   {
    "duration": 25,
    "start_time": "2025-01-01T19:31:33.892Z"
   },
   {
    "duration": 5,
    "start_time": "2025-01-01T19:31:33.920Z"
   },
   {
    "duration": 5,
    "start_time": "2025-01-01T19:31:33.927Z"
   },
   {
    "duration": 28,
    "start_time": "2025-01-01T19:31:33.934Z"
   },
   {
    "duration": 15,
    "start_time": "2025-01-01T19:31:33.963Z"
   },
   {
    "duration": 6,
    "start_time": "2025-01-01T19:31:33.980Z"
   },
   {
    "duration": 35,
    "start_time": "2025-01-01T19:31:33.988Z"
   },
   {
    "duration": 20,
    "start_time": "2025-01-01T19:31:34.025Z"
   },
   {
    "duration": 22,
    "start_time": "2025-01-01T19:31:34.046Z"
   },
   {
    "duration": 10,
    "start_time": "2025-01-01T19:31:34.070Z"
   },
   {
    "duration": 15,
    "start_time": "2025-01-01T19:31:34.082Z"
   },
   {
    "duration": 5,
    "start_time": "2025-01-01T19:31:34.099Z"
   },
   {
    "duration": 23,
    "start_time": "2025-01-01T19:31:34.105Z"
   },
   {
    "duration": 4,
    "start_time": "2025-01-01T19:31:34.130Z"
   },
   {
    "duration": 31,
    "start_time": "2025-01-01T19:31:34.136Z"
   },
   {
    "duration": 33,
    "start_time": "2025-01-01T19:31:34.168Z"
   },
   {
    "duration": 6710,
    "start_time": "2025-01-01T19:31:34.203Z"
   },
   {
    "duration": 10,
    "start_time": "2025-01-01T19:31:40.915Z"
   },
   {
    "duration": 14,
    "start_time": "2025-01-01T19:31:40.926Z"
   },
   {
    "duration": 22,
    "start_time": "2025-01-01T19:31:40.961Z"
   },
   {
    "duration": 10,
    "start_time": "2025-01-01T19:31:40.984Z"
   },
   {
    "duration": 11,
    "start_time": "2025-01-01T19:31:40.996Z"
   },
   {
    "duration": 6,
    "start_time": "2025-01-01T19:31:41.008Z"
   },
   {
    "duration": 9,
    "start_time": "2025-01-01T19:31:41.016Z"
   },
   {
    "duration": 10,
    "start_time": "2025-01-01T19:31:41.060Z"
   },
   {
    "duration": 10,
    "start_time": "2025-01-01T19:31:41.071Z"
   },
   {
    "duration": 193,
    "start_time": "2025-01-01T19:31:41.083Z"
   },
   {
    "duration": 349,
    "start_time": "2025-01-01T19:31:41.277Z"
   },
   {
    "duration": 211,
    "start_time": "2025-01-01T19:31:41.627Z"
   },
   {
    "duration": 23,
    "start_time": "2025-01-01T19:31:41.840Z"
   },
   {
    "duration": 154,
    "start_time": "2025-01-01T19:31:41.865Z"
   },
   {
    "duration": 17,
    "start_time": "2025-01-01T19:31:42.022Z"
   },
   {
    "duration": 225,
    "start_time": "2025-01-01T19:31:42.041Z"
   },
   {
    "duration": 10,
    "start_time": "2025-01-01T19:31:42.268Z"
   },
   {
    "duration": 199,
    "start_time": "2025-01-01T19:31:42.280Z"
   },
   {
    "duration": 134,
    "start_time": "2025-01-01T19:31:42.481Z"
   },
   {
    "duration": 254,
    "start_time": "2025-01-01T19:31:42.617Z"
   },
   {
    "duration": 409,
    "start_time": "2025-01-01T19:31:42.873Z"
   },
   {
    "duration": 3,
    "start_time": "2025-01-01T19:31:43.283Z"
   },
   {
    "duration": 17,
    "start_time": "2025-01-01T19:31:43.288Z"
   },
   {
    "duration": 365,
    "start_time": "2025-01-01T19:31:43.306Z"
   },
   {
    "duration": 11,
    "start_time": "2025-01-01T19:31:43.673Z"
   },
   {
    "duration": 256,
    "start_time": "2025-01-01T19:31:43.686Z"
   },
   {
    "duration": 265,
    "start_time": "2025-01-01T19:31:43.944Z"
   },
   {
    "duration": 1021,
    "start_time": "2025-01-01T19:31:44.211Z"
   },
   {
    "duration": 9,
    "start_time": "2025-01-01T19:31:45.234Z"
   },
   {
    "duration": 98,
    "start_time": "2025-01-01T19:31:45.245Z"
   },
   {
    "duration": 3,
    "start_time": "2025-01-01T19:34:43.150Z"
   },
   {
    "duration": 5,
    "start_time": "2025-01-01T19:34:43.822Z"
   },
   {
    "duration": 267,
    "start_time": "2025-01-01T19:34:44.472Z"
   },
   {
    "duration": 3,
    "start_time": "2025-01-01T19:35:11.878Z"
   },
   {
    "duration": 6,
    "start_time": "2025-01-01T19:35:12.289Z"
   },
   {
    "duration": 288,
    "start_time": "2025-01-01T19:35:12.526Z"
   },
   {
    "duration": 2,
    "start_time": "2025-01-01T19:35:22.139Z"
   },
   {
    "duration": 6,
    "start_time": "2025-01-01T19:35:22.660Z"
   },
   {
    "duration": 268,
    "start_time": "2025-01-01T19:35:23.156Z"
   },
   {
    "duration": 485,
    "start_time": "2025-01-01T19:35:41.632Z"
   },
   {
    "duration": 262,
    "start_time": "2025-01-01T19:35:42.119Z"
   },
   {
    "duration": 536,
    "start_time": "2025-01-01T19:35:42.383Z"
   },
   {
    "duration": 122,
    "start_time": "2025-01-01T19:35:42.921Z"
   },
   {
    "duration": 76,
    "start_time": "2025-01-01T19:35:43.045Z"
   },
   {
    "duration": 17,
    "start_time": "2025-01-01T19:35:43.123Z"
   },
   {
    "duration": 16,
    "start_time": "2025-01-01T19:35:43.142Z"
   },
   {
    "duration": 17,
    "start_time": "2025-01-01T19:35:43.159Z"
   },
   {
    "duration": 13,
    "start_time": "2025-01-01T19:35:43.177Z"
   },
   {
    "duration": 6,
    "start_time": "2025-01-01T19:35:43.192Z"
   },
   {
    "duration": 4,
    "start_time": "2025-01-01T19:35:43.200Z"
   },
   {
    "duration": 5,
    "start_time": "2025-01-01T19:35:43.205Z"
   },
   {
    "duration": 8,
    "start_time": "2025-01-01T19:35:43.211Z"
   },
   {
    "duration": 40,
    "start_time": "2025-01-01T19:35:43.220Z"
   },
   {
    "duration": 16,
    "start_time": "2025-01-01T19:35:43.262Z"
   },
   {
    "duration": 22,
    "start_time": "2025-01-01T19:35:43.280Z"
   },
   {
    "duration": 15,
    "start_time": "2025-01-01T19:35:43.304Z"
   },
   {
    "duration": 10,
    "start_time": "2025-01-01T19:35:43.321Z"
   },
   {
    "duration": 35,
    "start_time": "2025-01-01T19:35:43.332Z"
   },
   {
    "duration": 5,
    "start_time": "2025-01-01T19:35:43.368Z"
   },
   {
    "duration": 48,
    "start_time": "2025-01-01T19:35:43.374Z"
   },
   {
    "duration": 11,
    "start_time": "2025-01-01T19:35:43.424Z"
   },
   {
    "duration": 12,
    "start_time": "2025-01-01T19:35:43.436Z"
   },
   {
    "duration": 13,
    "start_time": "2025-01-01T19:35:43.449Z"
   },
   {
    "duration": 6602,
    "start_time": "2025-01-01T19:35:43.464Z"
   },
   {
    "duration": 11,
    "start_time": "2025-01-01T19:35:50.068Z"
   },
   {
    "duration": 27,
    "start_time": "2025-01-01T19:35:50.081Z"
   },
   {
    "duration": 24,
    "start_time": "2025-01-01T19:35:50.113Z"
   },
   {
    "duration": 38,
    "start_time": "2025-01-01T19:35:50.139Z"
   },
   {
    "duration": 11,
    "start_time": "2025-01-01T19:35:50.178Z"
   },
   {
    "duration": 19,
    "start_time": "2025-01-01T19:35:50.190Z"
   },
   {
    "duration": 9,
    "start_time": "2025-01-01T19:35:50.211Z"
   },
   {
    "duration": 9,
    "start_time": "2025-01-01T19:35:50.222Z"
   },
   {
    "duration": 23,
    "start_time": "2025-01-01T19:35:50.233Z"
   },
   {
    "duration": 195,
    "start_time": "2025-01-01T19:35:50.258Z"
   },
   {
    "duration": 316,
    "start_time": "2025-01-01T19:35:50.455Z"
   },
   {
    "duration": 189,
    "start_time": "2025-01-01T19:35:50.773Z"
   },
   {
    "duration": 9,
    "start_time": "2025-01-01T19:35:50.963Z"
   },
   {
    "duration": 138,
    "start_time": "2025-01-01T19:35:50.973Z"
   },
   {
    "duration": 13,
    "start_time": "2025-01-01T19:35:51.113Z"
   },
   {
    "duration": 215,
    "start_time": "2025-01-01T19:35:51.128Z"
   },
   {
    "duration": 18,
    "start_time": "2025-01-01T19:35:51.344Z"
   },
   {
    "duration": 180,
    "start_time": "2025-01-01T19:35:51.364Z"
   },
   {
    "duration": 143,
    "start_time": "2025-01-01T19:35:51.546Z"
   },
   {
    "duration": 346,
    "start_time": "2025-01-01T19:35:51.691Z"
   },
   {
    "duration": 309,
    "start_time": "2025-01-01T19:35:52.039Z"
   },
   {
    "duration": 12,
    "start_time": "2025-01-01T19:35:52.349Z"
   },
   {
    "duration": 14,
    "start_time": "2025-01-01T19:35:52.363Z"
   },
   {
    "duration": 307,
    "start_time": "2025-01-01T19:35:52.379Z"
   },
   {
    "duration": 11,
    "start_time": "2025-01-01T19:35:52.688Z"
   },
   {
    "duration": 263,
    "start_time": "2025-01-01T19:35:52.700Z"
   },
   {
    "duration": 289,
    "start_time": "2025-01-01T19:35:52.965Z"
   },
   {
    "duration": 1045,
    "start_time": "2025-01-01T19:35:53.259Z"
   },
   {
    "duration": 9,
    "start_time": "2025-01-01T19:35:54.306Z"
   },
   {
    "duration": 3,
    "start_time": "2025-01-01T19:35:54.317Z"
   },
   {
    "duration": 8,
    "start_time": "2025-01-01T19:35:54.321Z"
   },
   {
    "duration": 284,
    "start_time": "2025-01-01T19:35:54.331Z"
   },
   {
    "duration": 122,
    "start_time": "2025-01-01T19:35:54.617Z"
   },
   {
    "duration": 3,
    "start_time": "2025-01-01T19:37:37.698Z"
   },
   {
    "duration": 5,
    "start_time": "2025-01-01T19:37:38.109Z"
   },
   {
    "duration": 312,
    "start_time": "2025-01-01T19:37:38.522Z"
   },
   {
    "duration": 3,
    "start_time": "2025-01-01T19:38:00.684Z"
   },
   {
    "duration": 90,
    "start_time": "2025-01-01T19:38:01.034Z"
   },
   {
    "duration": 301,
    "start_time": "2025-01-01T19:38:01.460Z"
   },
   {
    "duration": 3,
    "start_time": "2025-01-01T19:38:11.333Z"
   },
   {
    "duration": 5,
    "start_time": "2025-01-01T19:38:11.789Z"
   },
   {
    "duration": 362,
    "start_time": "2025-01-01T19:38:12.373Z"
   },
   {
    "duration": 276,
    "start_time": "2025-01-01T19:43:28.586Z"
   },
   {
    "duration": 199,
    "start_time": "2025-01-01T19:45:38.302Z"
   },
   {
    "duration": 284,
    "start_time": "2025-01-01T19:46:17.738Z"
   },
   {
    "duration": 3,
    "start_time": "2025-01-01T19:48:16.908Z"
   },
   {
    "duration": 291,
    "start_time": "2025-01-01T19:48:17.327Z"
   },
   {
    "duration": 111,
    "start_time": "2025-01-01T19:48:17.783Z"
   },
   {
    "duration": 3,
    "start_time": "2025-01-01T19:48:40.190Z"
   },
   {
    "duration": 302,
    "start_time": "2025-01-01T19:48:40.615Z"
   },
   {
    "duration": 3,
    "start_time": "2025-01-01T19:49:26.733Z"
   },
   {
    "duration": 231,
    "start_time": "2025-01-01T19:49:27.287Z"
   },
   {
    "duration": 3,
    "start_time": "2025-01-01T19:49:59.002Z"
   },
   {
    "duration": 280,
    "start_time": "2025-01-01T19:49:59.521Z"
   },
   {
    "duration": 476,
    "start_time": "2025-01-01T19:50:39.081Z"
   },
   {
    "duration": 278,
    "start_time": "2025-01-01T19:50:39.560Z"
   },
   {
    "duration": 582,
    "start_time": "2025-01-01T19:50:39.840Z"
   },
   {
    "duration": 138,
    "start_time": "2025-01-01T19:50:40.424Z"
   },
   {
    "duration": 58,
    "start_time": "2025-01-01T19:50:40.564Z"
   },
   {
    "duration": 17,
    "start_time": "2025-01-01T19:50:40.624Z"
   },
   {
    "duration": 16,
    "start_time": "2025-01-01T19:50:40.643Z"
   },
   {
    "duration": 28,
    "start_time": "2025-01-01T19:50:40.661Z"
   },
   {
    "duration": 25,
    "start_time": "2025-01-01T19:50:40.690Z"
   },
   {
    "duration": 9,
    "start_time": "2025-01-01T19:50:40.718Z"
   },
   {
    "duration": 5,
    "start_time": "2025-01-01T19:50:40.729Z"
   },
   {
    "duration": 8,
    "start_time": "2025-01-01T19:50:40.735Z"
   },
   {
    "duration": 8,
    "start_time": "2025-01-01T19:50:40.744Z"
   },
   {
    "duration": 15,
    "start_time": "2025-01-01T19:50:40.754Z"
   },
   {
    "duration": 19,
    "start_time": "2025-01-01T19:50:40.772Z"
   },
   {
    "duration": 21,
    "start_time": "2025-01-01T19:50:40.793Z"
   },
   {
    "duration": 19,
    "start_time": "2025-01-01T19:50:40.816Z"
   },
   {
    "duration": 23,
    "start_time": "2025-01-01T19:50:40.837Z"
   },
   {
    "duration": 24,
    "start_time": "2025-01-01T19:50:40.862Z"
   },
   {
    "duration": 15,
    "start_time": "2025-01-01T19:50:40.888Z"
   },
   {
    "duration": 65,
    "start_time": "2025-01-01T19:50:40.906Z"
   },
   {
    "duration": 5,
    "start_time": "2025-01-01T19:50:40.973Z"
   },
   {
    "duration": 11,
    "start_time": "2025-01-01T19:50:40.980Z"
   },
   {
    "duration": 21,
    "start_time": "2025-01-01T19:50:40.993Z"
   },
   {
    "duration": 6721,
    "start_time": "2025-01-01T19:50:41.016Z"
   },
   {
    "duration": 11,
    "start_time": "2025-01-01T19:50:47.739Z"
   },
   {
    "duration": 14,
    "start_time": "2025-01-01T19:50:47.761Z"
   },
   {
    "duration": 33,
    "start_time": "2025-01-01T19:50:47.781Z"
   },
   {
    "duration": 9,
    "start_time": "2025-01-01T19:50:47.816Z"
   },
   {
    "duration": 35,
    "start_time": "2025-01-01T19:50:47.827Z"
   },
   {
    "duration": 4,
    "start_time": "2025-01-01T19:50:47.864Z"
   },
   {
    "duration": 26,
    "start_time": "2025-01-01T19:50:47.870Z"
   },
   {
    "duration": 10,
    "start_time": "2025-01-01T19:50:47.898Z"
   },
   {
    "duration": 16,
    "start_time": "2025-01-01T19:50:47.911Z"
   },
   {
    "duration": 199,
    "start_time": "2025-01-01T19:50:47.930Z"
   },
   {
    "duration": 314,
    "start_time": "2025-01-01T19:50:48.131Z"
   },
   {
    "duration": 185,
    "start_time": "2025-01-01T19:50:48.446Z"
   },
   {
    "duration": 9,
    "start_time": "2025-01-01T19:50:48.632Z"
   },
   {
    "duration": 138,
    "start_time": "2025-01-01T19:50:48.643Z"
   },
   {
    "duration": 15,
    "start_time": "2025-01-01T19:50:48.783Z"
   },
   {
    "duration": 205,
    "start_time": "2025-01-01T19:50:48.799Z"
   },
   {
    "duration": 9,
    "start_time": "2025-01-01T19:50:49.006Z"
   },
   {
    "duration": 191,
    "start_time": "2025-01-01T19:50:49.017Z"
   },
   {
    "duration": 130,
    "start_time": "2025-01-01T19:50:49.209Z"
   },
   {
    "duration": 329,
    "start_time": "2025-01-01T19:50:49.340Z"
   },
   {
    "duration": 291,
    "start_time": "2025-01-01T19:50:49.671Z"
   },
   {
    "duration": 4,
    "start_time": "2025-01-01T19:50:49.964Z"
   },
   {
    "duration": 21,
    "start_time": "2025-01-01T19:50:49.969Z"
   },
   {
    "duration": 326,
    "start_time": "2025-01-01T19:50:49.992Z"
   },
   {
    "duration": 10,
    "start_time": "2025-01-01T19:50:50.320Z"
   },
   {
    "duration": 257,
    "start_time": "2025-01-01T19:50:50.332Z"
   },
   {
    "duration": 272,
    "start_time": "2025-01-01T19:50:50.591Z"
   },
   {
    "duration": 1152,
    "start_time": "2025-01-01T19:50:50.864Z"
   },
   {
    "duration": 9,
    "start_time": "2025-01-01T19:50:52.019Z"
   },
   {
    "duration": 84,
    "start_time": "2025-01-01T19:50:52.030Z"
   },
   {
    "duration": 437,
    "start_time": "2025-01-01T20:48:03.218Z"
   },
   {
    "duration": 253,
    "start_time": "2025-01-01T20:48:03.657Z"
   },
   {
    "duration": 531,
    "start_time": "2025-01-01T20:48:03.911Z"
   },
   {
    "duration": 167,
    "start_time": "2025-01-01T20:48:04.444Z"
   },
   {
    "duration": 93,
    "start_time": "2025-01-01T20:48:04.613Z"
   },
   {
    "duration": 17,
    "start_time": "2025-01-01T20:48:04.708Z"
   },
   {
    "duration": 21,
    "start_time": "2025-01-01T20:48:04.727Z"
   },
   {
    "duration": 24,
    "start_time": "2025-01-01T20:48:04.749Z"
   },
   {
    "duration": 41,
    "start_time": "2025-01-01T20:48:04.774Z"
   },
   {
    "duration": 15,
    "start_time": "2025-01-01T20:48:04.818Z"
   },
   {
    "duration": 4,
    "start_time": "2025-01-01T20:48:04.836Z"
   },
   {
    "duration": 5,
    "start_time": "2025-01-01T20:48:04.842Z"
   },
   {
    "duration": 20,
    "start_time": "2025-01-01T20:48:04.849Z"
   },
   {
    "duration": 15,
    "start_time": "2025-01-01T20:48:04.870Z"
   },
   {
    "duration": 31,
    "start_time": "2025-01-01T20:48:04.887Z"
   },
   {
    "duration": 40,
    "start_time": "2025-01-01T20:48:04.919Z"
   },
   {
    "duration": 15,
    "start_time": "2025-01-01T20:48:04.960Z"
   },
   {
    "duration": 23,
    "start_time": "2025-01-01T20:48:04.976Z"
   },
   {
    "duration": 35,
    "start_time": "2025-01-01T20:48:05.001Z"
   },
   {
    "duration": 4,
    "start_time": "2025-01-01T20:48:05.038Z"
   },
   {
    "duration": 18,
    "start_time": "2025-01-01T20:48:05.043Z"
   },
   {
    "duration": 4,
    "start_time": "2025-01-01T20:48:05.062Z"
   },
   {
    "duration": 29,
    "start_time": "2025-01-01T20:48:05.068Z"
   },
   {
    "duration": 26,
    "start_time": "2025-01-01T20:48:05.098Z"
   },
   {
    "duration": 6222,
    "start_time": "2025-01-01T20:48:05.126Z"
   },
   {
    "duration": 10,
    "start_time": "2025-01-01T20:48:11.350Z"
   },
   {
    "duration": 20,
    "start_time": "2025-01-01T20:48:11.362Z"
   },
   {
    "duration": 18,
    "start_time": "2025-01-01T20:48:11.385Z"
   },
   {
    "duration": 29,
    "start_time": "2025-01-01T20:48:11.405Z"
   },
   {
    "duration": 10,
    "start_time": "2025-01-01T20:48:11.436Z"
   },
   {
    "duration": 8,
    "start_time": "2025-01-01T20:48:11.447Z"
   },
   {
    "duration": 19,
    "start_time": "2025-01-01T20:48:11.456Z"
   },
   {
    "duration": 13,
    "start_time": "2025-01-01T20:48:11.476Z"
   },
   {
    "duration": 7,
    "start_time": "2025-01-01T20:48:11.490Z"
   },
   {
    "duration": 187,
    "start_time": "2025-01-01T20:48:11.499Z"
   },
   {
    "duration": 300,
    "start_time": "2025-01-01T20:48:11.688Z"
   },
   {
    "duration": 188,
    "start_time": "2025-01-01T20:48:11.990Z"
   },
   {
    "duration": 8,
    "start_time": "2025-01-01T20:48:12.180Z"
   },
   {
    "duration": 242,
    "start_time": "2025-01-01T20:48:12.190Z"
   },
   {
    "duration": 13,
    "start_time": "2025-01-01T20:48:12.433Z"
   },
   {
    "duration": 193,
    "start_time": "2025-01-01T20:48:12.447Z"
   },
   {
    "duration": 9,
    "start_time": "2025-01-01T20:48:12.642Z"
   },
   {
    "duration": 203,
    "start_time": "2025-01-01T20:48:12.652Z"
   },
   {
    "duration": 120,
    "start_time": "2025-01-01T20:48:12.857Z"
   },
   {
    "duration": 231,
    "start_time": "2025-01-01T20:48:12.979Z"
   },
   {
    "duration": 387,
    "start_time": "2025-01-01T20:48:13.212Z"
   },
   {
    "duration": 2,
    "start_time": "2025-01-01T20:48:13.601Z"
   },
   {
    "duration": 8,
    "start_time": "2025-01-01T20:48:13.604Z"
   },
   {
    "duration": 333,
    "start_time": "2025-01-01T20:48:13.614Z"
   },
   {
    "duration": 9,
    "start_time": "2025-01-01T20:48:13.949Z"
   },
   {
    "duration": 263,
    "start_time": "2025-01-01T20:48:13.960Z"
   },
   {
    "duration": 254,
    "start_time": "2025-01-01T20:48:14.224Z"
   },
   {
    "duration": 3,
    "start_time": "2025-01-01T20:53:17.554Z"
   },
   {
    "duration": 2,
    "start_time": "2025-01-01T20:53:17.561Z"
   },
   {
    "duration": 4,
    "start_time": "2025-01-01T20:53:17.565Z"
   },
   {
    "duration": 152,
    "start_time": "2025-01-01T20:53:17.571Z"
   },
   {
    "duration": 51,
    "start_time": "2025-01-01T20:53:17.725Z"
   },
   {
    "duration": 13,
    "start_time": "2025-01-01T20:53:17.778Z"
   },
   {
    "duration": 15,
    "start_time": "2025-01-01T20:53:17.793Z"
   },
   {
    "duration": 9,
    "start_time": "2025-01-01T20:53:17.810Z"
   },
   {
    "duration": 22,
    "start_time": "2025-01-01T20:53:17.820Z"
   },
   {
    "duration": 5,
    "start_time": "2025-01-01T20:53:17.844Z"
   },
   {
    "duration": 4,
    "start_time": "2025-01-01T20:53:17.852Z"
   },
   {
    "duration": 11,
    "start_time": "2025-01-01T20:53:17.858Z"
   },
   {
    "duration": 6,
    "start_time": "2025-01-01T20:53:17.871Z"
   },
   {
    "duration": 11,
    "start_time": "2025-01-01T20:53:17.879Z"
   },
   {
    "duration": 15,
    "start_time": "2025-01-01T20:53:17.892Z"
   },
   {
    "duration": 14,
    "start_time": "2025-01-01T20:53:17.931Z"
   },
   {
    "duration": 13,
    "start_time": "2025-01-01T20:53:17.947Z"
   },
   {
    "duration": 3,
    "start_time": "2025-01-01T20:53:17.962Z"
   },
   {
    "duration": 22,
    "start_time": "2025-01-01T20:53:17.967Z"
   },
   {
    "duration": 3,
    "start_time": "2025-01-01T20:53:17.991Z"
   },
   {
    "duration": 42,
    "start_time": "2025-01-01T20:53:17.996Z"
   },
   {
    "duration": 4,
    "start_time": "2025-01-01T20:53:18.040Z"
   },
   {
    "duration": 10,
    "start_time": "2025-01-01T20:53:18.045Z"
   },
   {
    "duration": 23,
    "start_time": "2025-01-01T20:53:18.056Z"
   },
   {
    "duration": 6422,
    "start_time": "2025-01-01T20:53:18.080Z"
   },
   {
    "duration": 25,
    "start_time": "2025-01-01T20:53:24.506Z"
   },
   {
    "duration": 56,
    "start_time": "2025-01-01T20:53:24.533Z"
   },
   {
    "duration": 27,
    "start_time": "2025-01-01T20:53:24.591Z"
   },
   {
    "duration": 9,
    "start_time": "2025-01-01T20:53:24.620Z"
   },
   {
    "duration": 9,
    "start_time": "2025-01-01T20:53:24.631Z"
   },
   {
    "duration": 83,
    "start_time": "2025-01-01T20:53:24.642Z"
   },
   {
    "duration": 14,
    "start_time": "2025-01-01T20:53:24.726Z"
   },
   {
    "duration": 10,
    "start_time": "2025-01-01T20:53:24.741Z"
   },
   {
    "duration": 7,
    "start_time": "2025-01-01T20:53:24.752Z"
   },
   {
    "duration": 185,
    "start_time": "2025-01-01T20:53:24.761Z"
   },
   {
    "duration": 306,
    "start_time": "2025-01-01T20:53:24.948Z"
   },
   {
    "duration": 182,
    "start_time": "2025-01-01T20:53:25.256Z"
   },
   {
    "duration": 8,
    "start_time": "2025-01-01T20:53:25.439Z"
   },
   {
    "duration": 129,
    "start_time": "2025-01-01T20:53:25.448Z"
   },
   {
    "duration": 13,
    "start_time": "2025-01-01T20:53:25.579Z"
   },
   {
    "duration": 193,
    "start_time": "2025-01-01T20:53:25.593Z"
   },
   {
    "duration": 9,
    "start_time": "2025-01-01T20:53:25.788Z"
   },
   {
    "duration": 176,
    "start_time": "2025-01-01T20:53:25.799Z"
   },
   {
    "duration": 140,
    "start_time": "2025-01-01T20:53:25.977Z"
   },
   {
    "duration": 321,
    "start_time": "2025-01-01T20:53:26.119Z"
   },
   {
    "duration": 273,
    "start_time": "2025-01-01T20:53:26.442Z"
   },
   {
    "duration": 14,
    "start_time": "2025-01-01T20:53:26.717Z"
   },
   {
    "duration": 19,
    "start_time": "2025-01-01T20:53:26.733Z"
   },
   {
    "duration": 308,
    "start_time": "2025-01-01T20:53:26.754Z"
   },
   {
    "duration": 9,
    "start_time": "2025-01-01T20:53:27.064Z"
   },
   {
    "duration": 244,
    "start_time": "2025-01-01T20:53:27.075Z"
   },
   {
    "duration": 255,
    "start_time": "2025-01-01T20:53:27.321Z"
   },
   {
    "duration": 981,
    "start_time": "2025-01-01T20:53:27.577Z"
   },
   {
    "duration": 7,
    "start_time": "2025-01-01T20:53:28.560Z"
   },
   {
    "duration": 133,
    "start_time": "2025-01-01T21:02:35.528Z"
   },
   {
    "duration": 54,
    "start_time": "2025-01-01T21:02:35.685Z"
   },
   {
    "duration": 97,
    "start_time": "2025-01-01T21:03:21.839Z"
   },
   {
    "duration": 28,
    "start_time": "2025-01-01T21:03:26.944Z"
   },
   {
    "duration": 2,
    "start_time": "2025-01-01T21:03:53.095Z"
   },
   {
    "duration": 23,
    "start_time": "2025-01-01T21:03:53.099Z"
   },
   {
    "duration": 9,
    "start_time": "2025-01-01T21:03:53.124Z"
   },
   {
    "duration": 123,
    "start_time": "2025-01-01T21:03:53.135Z"
   },
   {
    "duration": 58,
    "start_time": "2025-01-01T21:03:53.260Z"
   },
   {
    "duration": 12,
    "start_time": "2025-01-01T21:03:53.320Z"
   },
   {
    "duration": 13,
    "start_time": "2025-01-01T21:03:53.334Z"
   },
   {
    "duration": 13,
    "start_time": "2025-01-01T21:03:53.349Z"
   },
   {
    "duration": 11,
    "start_time": "2025-01-01T21:03:53.365Z"
   },
   {
    "duration": 24,
    "start_time": "2025-01-01T21:03:53.377Z"
   },
   {
    "duration": 3,
    "start_time": "2025-01-01T21:03:53.403Z"
   },
   {
    "duration": 4,
    "start_time": "2025-01-01T21:03:53.430Z"
   },
   {
    "duration": 5,
    "start_time": "2025-01-01T21:03:53.436Z"
   },
   {
    "duration": 13,
    "start_time": "2025-01-01T21:03:53.442Z"
   },
   {
    "duration": 30,
    "start_time": "2025-01-01T21:03:53.457Z"
   },
   {
    "duration": 24,
    "start_time": "2025-01-01T21:03:53.489Z"
   },
   {
    "duration": 16,
    "start_time": "2025-01-01T21:03:53.514Z"
   },
   {
    "duration": 11,
    "start_time": "2025-01-01T21:03:53.531Z"
   },
   {
    "duration": 21,
    "start_time": "2025-01-01T21:03:53.544Z"
   },
   {
    "duration": 13,
    "start_time": "2025-01-01T21:03:53.566Z"
   },
   {
    "duration": 28,
    "start_time": "2025-01-01T21:03:53.581Z"
   },
   {
    "duration": 4,
    "start_time": "2025-01-01T21:03:53.610Z"
   },
   {
    "duration": 17,
    "start_time": "2025-01-01T21:03:53.616Z"
   },
   {
    "duration": 11,
    "start_time": "2025-01-01T21:03:53.637Z"
   },
   {
    "duration": 6297,
    "start_time": "2025-01-01T21:03:53.650Z"
   },
   {
    "duration": 11,
    "start_time": "2025-01-01T21:03:59.948Z"
   },
   {
    "duration": 15,
    "start_time": "2025-01-01T21:03:59.960Z"
   },
   {
    "duration": 37,
    "start_time": "2025-01-01T21:03:59.976Z"
   },
   {
    "duration": 15,
    "start_time": "2025-01-01T21:04:00.016Z"
   },
   {
    "duration": 50,
    "start_time": "2025-01-01T21:04:00.032Z"
   },
   {
    "duration": 26,
    "start_time": "2025-01-01T21:04:00.083Z"
   },
   {
    "duration": 34,
    "start_time": "2025-01-01T21:04:00.111Z"
   },
   {
    "duration": 45,
    "start_time": "2025-01-01T21:04:00.147Z"
   },
   {
    "duration": 61,
    "start_time": "2025-01-01T21:04:00.194Z"
   },
   {
    "duration": 270,
    "start_time": "2025-01-01T21:04:00.257Z"
   },
   {
    "duration": 292,
    "start_time": "2025-01-01T21:04:00.529Z"
   },
   {
    "duration": 176,
    "start_time": "2025-01-01T21:04:00.823Z"
   },
   {
    "duration": 8,
    "start_time": "2025-01-01T21:04:01.001Z"
   },
   {
    "duration": 238,
    "start_time": "2025-01-01T21:04:01.010Z"
   },
   {
    "duration": 14,
    "start_time": "2025-01-01T21:04:01.250Z"
   },
   {
    "duration": 198,
    "start_time": "2025-01-01T21:04:01.266Z"
   },
   {
    "duration": 9,
    "start_time": "2025-01-01T21:04:01.466Z"
   },
   {
    "duration": 198,
    "start_time": "2025-01-01T21:04:01.477Z"
   },
   {
    "duration": 122,
    "start_time": "2025-01-01T21:04:01.676Z"
   },
   {
    "duration": 251,
    "start_time": "2025-01-01T21:04:01.800Z"
   },
   {
    "duration": 284,
    "start_time": "2025-01-01T21:04:02.054Z"
   },
   {
    "duration": 3,
    "start_time": "2025-01-01T21:04:02.339Z"
   },
   {
    "duration": 289,
    "start_time": "2025-01-01T21:04:02.344Z"
   },
   {
    "duration": 306,
    "start_time": "2025-01-01T21:04:02.635Z"
   },
   {
    "duration": 10,
    "start_time": "2025-01-01T21:04:02.943Z"
   },
   {
    "duration": 248,
    "start_time": "2025-01-01T21:04:02.954Z"
   },
   {
    "duration": 262,
    "start_time": "2025-01-01T21:04:03.204Z"
   },
   {
    "duration": 1092,
    "start_time": "2025-01-01T21:04:03.468Z"
   },
   {
    "duration": 8,
    "start_time": "2025-01-01T21:04:04.562Z"
   },
   {
    "duration": 92,
    "start_time": "2025-01-02T08:50:46.537Z"
   },
   {
    "duration": 94,
    "start_time": "2025-01-02T08:51:10.046Z"
   },
   {
    "duration": 90,
    "start_time": "2025-01-02T08:51:31.819Z"
   },
   {
    "duration": 100,
    "start_time": "2025-01-02T08:52:11.716Z"
   },
   {
    "duration": 114,
    "start_time": "2025-01-02T08:52:20.913Z"
   },
   {
    "duration": 90,
    "start_time": "2025-01-02T08:52:32.975Z"
   },
   {
    "duration": 44,
    "start_time": "2025-01-02T09:07:10.896Z"
   },
   {
    "duration": 6,
    "start_time": "2025-01-02T09:07:56.512Z"
   },
   {
    "duration": 1400,
    "start_time": "2025-01-02T09:08:00.310Z"
   },
   {
    "duration": 112,
    "start_time": "2025-01-02T09:08:01.711Z"
   },
   {
    "duration": 46,
    "start_time": "2025-01-02T09:08:01.825Z"
   },
   {
    "duration": 27,
    "start_time": "2025-01-02T09:08:01.873Z"
   },
   {
    "duration": 53,
    "start_time": "2025-01-02T09:08:01.901Z"
   },
   {
    "duration": 24,
    "start_time": "2025-01-02T09:08:01.955Z"
   },
   {
    "duration": 45,
    "start_time": "2025-01-02T09:08:01.980Z"
   },
   {
    "duration": 40,
    "start_time": "2025-01-02T09:08:02.027Z"
   },
   {
    "duration": 21,
    "start_time": "2025-01-02T09:08:02.068Z"
   },
   {
    "duration": 27,
    "start_time": "2025-01-02T09:08:02.091Z"
   },
   {
    "duration": 36,
    "start_time": "2025-01-02T09:08:02.120Z"
   },
   {
    "duration": 23,
    "start_time": "2025-01-02T09:08:02.158Z"
   },
   {
    "duration": 41,
    "start_time": "2025-01-02T09:08:02.182Z"
   },
   {
    "duration": 66,
    "start_time": "2025-01-02T09:08:02.225Z"
   },
   {
    "duration": 12,
    "start_time": "2025-01-02T09:08:02.293Z"
   },
   {
    "duration": 56,
    "start_time": "2025-01-02T09:08:02.307Z"
   },
   {
    "duration": 24,
    "start_time": "2025-01-02T09:08:02.365Z"
   },
   {
    "duration": 11,
    "start_time": "2025-01-02T09:08:02.391Z"
   },
   {
    "duration": 45,
    "start_time": "2025-01-02T09:08:02.403Z"
   },
   {
    "duration": 40,
    "start_time": "2025-01-02T09:08:02.449Z"
   },
   {
    "duration": 69,
    "start_time": "2025-01-02T09:08:02.491Z"
   },
   {
    "duration": 10,
    "start_time": "2025-01-02T09:08:02.561Z"
   },
   {
    "duration": 2092,
    "start_time": "2025-01-02T09:08:02.573Z"
   },
   {
    "duration": 8,
    "start_time": "2025-01-02T09:08:04.670Z"
   },
   {
    "duration": 41,
    "start_time": "2025-01-02T09:08:04.680Z"
   },
   {
    "duration": 35,
    "start_time": "2025-01-02T09:08:04.723Z"
   },
   {
    "duration": 7,
    "start_time": "2025-01-02T09:08:04.759Z"
   },
   {
    "duration": 6,
    "start_time": "2025-01-02T09:08:04.770Z"
   },
   {
    "duration": 5,
    "start_time": "2025-01-02T09:08:04.778Z"
   },
   {
    "duration": 7,
    "start_time": "2025-01-02T09:08:04.784Z"
   },
   {
    "duration": 30,
    "start_time": "2025-01-02T09:08:04.793Z"
   },
   {
    "duration": 23,
    "start_time": "2025-01-02T09:08:04.825Z"
   },
   {
    "duration": 196,
    "start_time": "2025-01-02T09:08:04.850Z"
   },
   {
    "duration": 327,
    "start_time": "2025-01-02T09:08:05.047Z"
   },
   {
    "duration": 197,
    "start_time": "2025-01-02T09:08:05.377Z"
   },
   {
    "duration": 7,
    "start_time": "2025-01-02T09:08:05.576Z"
   },
   {
    "duration": 152,
    "start_time": "2025-01-02T09:08:05.584Z"
   },
   {
    "duration": 32,
    "start_time": "2025-01-02T09:08:05.739Z"
   },
   {
    "duration": 274,
    "start_time": "2025-01-02T09:08:05.773Z"
   },
   {
    "duration": 8,
    "start_time": "2025-01-02T09:08:06.049Z"
   },
   {
    "duration": 188,
    "start_time": "2025-01-02T09:08:06.059Z"
   },
   {
    "duration": 123,
    "start_time": "2025-01-02T09:08:06.249Z"
   },
   {
    "duration": 310,
    "start_time": "2025-01-02T09:08:06.374Z"
   },
   {
    "duration": 317,
    "start_time": "2025-01-02T09:08:06.686Z"
   },
   {
    "duration": 3,
    "start_time": "2025-01-02T09:08:07.004Z"
   },
   {
    "duration": 42,
    "start_time": "2025-01-02T09:08:07.008Z"
   },
   {
    "duration": 332,
    "start_time": "2025-01-02T09:08:07.052Z"
   },
   {
    "duration": 7,
    "start_time": "2025-01-02T09:08:07.386Z"
   },
   {
    "duration": 248,
    "start_time": "2025-01-02T09:08:07.394Z"
   },
   {
    "duration": 299,
    "start_time": "2025-01-02T09:08:07.644Z"
   },
   {
    "duration": 1238,
    "start_time": "2025-01-02T09:08:07.944Z"
   },
   {
    "duration": 8,
    "start_time": "2025-01-02T09:08:09.184Z"
   },
   {
    "duration": 341,
    "start_time": "2025-01-02T09:26:14.564Z"
   },
   {
    "duration": 476,
    "start_time": "2025-01-02T09:27:51.217Z"
   },
   {
    "duration": 446,
    "start_time": "2025-01-02T09:28:05.236Z"
   },
   {
    "duration": 183,
    "start_time": "2025-01-02T09:33:30.050Z"
   },
   {
    "duration": 7,
    "start_time": "2025-01-02T09:35:35.797Z"
   },
   {
    "duration": 177,
    "start_time": "2025-01-02T09:39:05.098Z"
   },
   {
    "duration": 166,
    "start_time": "2025-01-02T09:43:23.416Z"
   },
   {
    "duration": 436,
    "start_time": "2025-01-02T09:46:02.193Z"
   },
   {
    "duration": 214,
    "start_time": "2025-01-02T09:49:13.654Z"
   },
   {
    "duration": 88,
    "start_time": "2025-01-02T10:01:36.092Z"
   },
   {
    "duration": 216,
    "start_time": "2025-01-02T10:05:05.170Z"
   },
   {
    "duration": 12,
    "start_time": "2025-01-02T10:05:32.039Z"
   },
   {
    "duration": 175,
    "start_time": "2025-01-02T10:06:25.481Z"
   },
   {
    "duration": 230,
    "start_time": "2025-01-02T10:08:43.233Z"
   },
   {
    "duration": 1425,
    "start_time": "2025-01-02T10:15:31.111Z"
   },
   {
    "duration": 64307,
    "start_time": "2025-01-02T10:17:57.573Z"
   },
   {
    "duration": 12,
    "start_time": "2025-01-02T10:21:55.975Z"
   },
   {
    "duration": 11,
    "start_time": "2025-01-02T10:23:42.069Z"
   },
   {
    "duration": 18,
    "start_time": "2025-01-02T10:24:03.597Z"
   },
   {
    "duration": 12,
    "start_time": "2025-01-02T10:25:46.661Z"
   },
   {
    "duration": 1468,
    "start_time": "2025-01-02T19:02:03.900Z"
   },
   {
    "duration": 0,
    "start_time": "2025-01-02T19:02:05.371Z"
   },
   {
    "duration": 0,
    "start_time": "2025-01-02T19:02:05.373Z"
   },
   {
    "duration": 0,
    "start_time": "2025-01-02T19:02:05.374Z"
   },
   {
    "duration": 0,
    "start_time": "2025-01-02T19:02:05.375Z"
   },
   {
    "duration": 0,
    "start_time": "2025-01-02T19:02:05.376Z"
   },
   {
    "duration": 0,
    "start_time": "2025-01-02T19:02:05.377Z"
   },
   {
    "duration": 0,
    "start_time": "2025-01-02T19:02:05.378Z"
   },
   {
    "duration": 0,
    "start_time": "2025-01-02T19:02:05.380Z"
   },
   {
    "duration": 0,
    "start_time": "2025-01-02T19:02:05.381Z"
   },
   {
    "duration": 0,
    "start_time": "2025-01-02T19:02:05.382Z"
   },
   {
    "duration": 0,
    "start_time": "2025-01-02T19:02:05.383Z"
   },
   {
    "duration": 0,
    "start_time": "2025-01-02T19:02:05.384Z"
   },
   {
    "duration": 0,
    "start_time": "2025-01-02T19:02:05.386Z"
   },
   {
    "duration": 0,
    "start_time": "2025-01-02T19:02:05.387Z"
   },
   {
    "duration": 0,
    "start_time": "2025-01-02T19:02:05.388Z"
   },
   {
    "duration": 0,
    "start_time": "2025-01-02T19:02:05.389Z"
   },
   {
    "duration": 0,
    "start_time": "2025-01-02T19:02:05.421Z"
   },
   {
    "duration": 0,
    "start_time": "2025-01-02T19:02:05.423Z"
   },
   {
    "duration": 0,
    "start_time": "2025-01-02T19:02:05.424Z"
   },
   {
    "duration": 0,
    "start_time": "2025-01-02T19:02:05.425Z"
   },
   {
    "duration": 0,
    "start_time": "2025-01-02T19:02:05.426Z"
   },
   {
    "duration": 0,
    "start_time": "2025-01-02T19:02:05.427Z"
   },
   {
    "duration": 0,
    "start_time": "2025-01-02T19:02:05.428Z"
   },
   {
    "duration": 0,
    "start_time": "2025-01-02T19:02:05.429Z"
   },
   {
    "duration": 0,
    "start_time": "2025-01-02T19:02:05.430Z"
   },
   {
    "duration": 0,
    "start_time": "2025-01-02T19:02:05.432Z"
   },
   {
    "duration": 0,
    "start_time": "2025-01-02T19:02:05.433Z"
   },
   {
    "duration": 0,
    "start_time": "2025-01-02T19:02:05.434Z"
   },
   {
    "duration": 0,
    "start_time": "2025-01-02T19:02:05.435Z"
   },
   {
    "duration": 0,
    "start_time": "2025-01-02T19:02:05.436Z"
   },
   {
    "duration": 0,
    "start_time": "2025-01-02T19:02:05.437Z"
   },
   {
    "duration": 0,
    "start_time": "2025-01-02T19:02:05.438Z"
   },
   {
    "duration": 0,
    "start_time": "2025-01-02T19:02:05.439Z"
   },
   {
    "duration": 0,
    "start_time": "2025-01-02T19:02:05.441Z"
   },
   {
    "duration": 1,
    "start_time": "2025-01-02T19:02:05.441Z"
   },
   {
    "duration": 0,
    "start_time": "2025-01-02T19:02:05.443Z"
   },
   {
    "duration": 0,
    "start_time": "2025-01-02T19:02:05.444Z"
   },
   {
    "duration": 0,
    "start_time": "2025-01-02T19:02:05.445Z"
   },
   {
    "duration": 0,
    "start_time": "2025-01-02T19:02:05.446Z"
   },
   {
    "duration": 0,
    "start_time": "2025-01-02T19:02:05.447Z"
   },
   {
    "duration": 0,
    "start_time": "2025-01-02T19:02:05.448Z"
   },
   {
    "duration": 0,
    "start_time": "2025-01-02T19:02:05.449Z"
   },
   {
    "duration": 0,
    "start_time": "2025-01-02T19:02:05.450Z"
   },
   {
    "duration": 0,
    "start_time": "2025-01-02T19:02:05.451Z"
   },
   {
    "duration": 0,
    "start_time": "2025-01-02T19:02:05.452Z"
   },
   {
    "duration": 0,
    "start_time": "2025-01-02T19:02:05.453Z"
   },
   {
    "duration": 0,
    "start_time": "2025-01-02T19:02:05.454Z"
   },
   {
    "duration": 0,
    "start_time": "2025-01-02T19:02:05.455Z"
   },
   {
    "duration": 0,
    "start_time": "2025-01-02T19:02:05.457Z"
   },
   {
    "duration": 0,
    "start_time": "2025-01-02T19:02:05.458Z"
   },
   {
    "duration": 0,
    "start_time": "2025-01-02T19:02:05.458Z"
   },
   {
    "duration": 0,
    "start_time": "2025-01-02T19:02:05.522Z"
   },
   {
    "duration": 0,
    "start_time": "2025-01-02T19:02:05.524Z"
   },
   {
    "duration": 11,
    "start_time": "2025-01-02T19:03:05.954Z"
   },
   {
    "duration": 2805,
    "start_time": "2025-01-02T19:03:06.512Z"
   },
   {
    "duration": 2389,
    "start_time": "2025-01-02T19:03:20.502Z"
   },
   {
    "duration": 2377,
    "start_time": "2025-01-02T19:04:01.703Z"
   },
   {
    "duration": 9,
    "start_time": "2025-01-02T19:06:10.423Z"
   },
   {
    "duration": 1293,
    "start_time": "2025-01-02T19:06:20.430Z"
   },
   {
    "duration": 0,
    "start_time": "2025-01-02T19:06:21.726Z"
   },
   {
    "duration": 0,
    "start_time": "2025-01-02T19:06:21.727Z"
   },
   {
    "duration": 0,
    "start_time": "2025-01-02T19:06:21.728Z"
   },
   {
    "duration": 0,
    "start_time": "2025-01-02T19:06:21.729Z"
   },
   {
    "duration": 0,
    "start_time": "2025-01-02T19:06:21.730Z"
   },
   {
    "duration": 0,
    "start_time": "2025-01-02T19:06:21.732Z"
   },
   {
    "duration": 0,
    "start_time": "2025-01-02T19:06:21.733Z"
   },
   {
    "duration": 0,
    "start_time": "2025-01-02T19:06:21.734Z"
   },
   {
    "duration": 0,
    "start_time": "2025-01-02T19:06:21.735Z"
   },
   {
    "duration": 0,
    "start_time": "2025-01-02T19:06:21.736Z"
   },
   {
    "duration": 0,
    "start_time": "2025-01-02T19:06:21.737Z"
   },
   {
    "duration": 0,
    "start_time": "2025-01-02T19:06:21.738Z"
   },
   {
    "duration": 0,
    "start_time": "2025-01-02T19:06:21.739Z"
   },
   {
    "duration": 0,
    "start_time": "2025-01-02T19:06:21.740Z"
   },
   {
    "duration": 0,
    "start_time": "2025-01-02T19:06:21.741Z"
   },
   {
    "duration": 0,
    "start_time": "2025-01-02T19:06:21.742Z"
   },
   {
    "duration": 0,
    "start_time": "2025-01-02T19:06:21.743Z"
   },
   {
    "duration": 0,
    "start_time": "2025-01-02T19:06:21.744Z"
   },
   {
    "duration": 0,
    "start_time": "2025-01-02T19:06:21.745Z"
   },
   {
    "duration": 0,
    "start_time": "2025-01-02T19:06:21.746Z"
   },
   {
    "duration": 0,
    "start_time": "2025-01-02T19:06:21.747Z"
   },
   {
    "duration": 0,
    "start_time": "2025-01-02T19:06:21.748Z"
   },
   {
    "duration": 0,
    "start_time": "2025-01-02T19:06:21.749Z"
   },
   {
    "duration": 0,
    "start_time": "2025-01-02T19:06:21.750Z"
   },
   {
    "duration": 0,
    "start_time": "2025-01-02T19:06:21.750Z"
   },
   {
    "duration": 0,
    "start_time": "2025-01-02T19:06:21.751Z"
   },
   {
    "duration": 0,
    "start_time": "2025-01-02T19:06:21.752Z"
   },
   {
    "duration": 0,
    "start_time": "2025-01-02T19:06:21.753Z"
   },
   {
    "duration": 0,
    "start_time": "2025-01-02T19:06:21.754Z"
   },
   {
    "duration": 0,
    "start_time": "2025-01-02T19:06:21.755Z"
   },
   {
    "duration": 0,
    "start_time": "2025-01-02T19:06:21.756Z"
   },
   {
    "duration": 0,
    "start_time": "2025-01-02T19:06:21.757Z"
   },
   {
    "duration": 0,
    "start_time": "2025-01-02T19:06:21.758Z"
   },
   {
    "duration": 0,
    "start_time": "2025-01-02T19:06:21.759Z"
   },
   {
    "duration": 0,
    "start_time": "2025-01-02T19:06:21.760Z"
   },
   {
    "duration": 0,
    "start_time": "2025-01-02T19:06:21.761Z"
   },
   {
    "duration": 0,
    "start_time": "2025-01-02T19:06:21.761Z"
   },
   {
    "duration": 0,
    "start_time": "2025-01-02T19:06:21.763Z"
   },
   {
    "duration": 0,
    "start_time": "2025-01-02T19:06:21.764Z"
   },
   {
    "duration": 0,
    "start_time": "2025-01-02T19:06:21.821Z"
   },
   {
    "duration": 0,
    "start_time": "2025-01-02T19:06:21.822Z"
   },
   {
    "duration": 0,
    "start_time": "2025-01-02T19:06:21.823Z"
   },
   {
    "duration": 0,
    "start_time": "2025-01-02T19:06:21.824Z"
   },
   {
    "duration": 0,
    "start_time": "2025-01-02T19:06:21.825Z"
   },
   {
    "duration": 0,
    "start_time": "2025-01-02T19:06:21.826Z"
   },
   {
    "duration": 0,
    "start_time": "2025-01-02T19:06:21.827Z"
   },
   {
    "duration": 0,
    "start_time": "2025-01-02T19:06:21.829Z"
   },
   {
    "duration": 0,
    "start_time": "2025-01-02T19:06:21.830Z"
   },
   {
    "duration": 0,
    "start_time": "2025-01-02T19:06:21.831Z"
   },
   {
    "duration": 0,
    "start_time": "2025-01-02T19:06:21.832Z"
   },
   {
    "duration": 0,
    "start_time": "2025-01-02T19:06:21.833Z"
   },
   {
    "duration": 0,
    "start_time": "2025-01-02T19:06:21.834Z"
   },
   {
    "duration": 0,
    "start_time": "2025-01-02T19:06:21.835Z"
   },
   {
    "duration": 3161,
    "start_time": "2025-01-02T19:07:02.760Z"
   },
   {
    "duration": 79,
    "start_time": "2025-01-02T19:08:42.783Z"
   },
   {
    "duration": 2417,
    "start_time": "2025-01-02T19:09:45.147Z"
   },
   {
    "duration": 2390,
    "start_time": "2025-01-02T19:09:57.779Z"
   },
   {
    "duration": 4,
    "start_time": "2025-01-02T19:10:51.950Z"
   },
   {
    "duration": 3471,
    "start_time": "2025-01-02T19:11:00.078Z"
   },
   {
    "duration": 47,
    "start_time": "2025-01-02T19:11:03.551Z"
   },
   {
    "duration": 150,
    "start_time": "2025-01-02T19:11:03.600Z"
   },
   {
    "duration": 106,
    "start_time": "2025-01-02T19:11:03.752Z"
   },
   {
    "duration": 16,
    "start_time": "2025-01-02T19:11:03.859Z"
   },
   {
    "duration": 32,
    "start_time": "2025-01-02T19:11:03.876Z"
   },
   {
    "duration": 30,
    "start_time": "2025-01-02T19:11:03.909Z"
   },
   {
    "duration": 15,
    "start_time": "2025-01-02T19:11:03.940Z"
   },
   {
    "duration": 7,
    "start_time": "2025-01-02T19:11:03.956Z"
   },
   {
    "duration": 32,
    "start_time": "2025-01-02T19:11:03.967Z"
   },
   {
    "duration": 18,
    "start_time": "2025-01-02T19:11:04.001Z"
   },
   {
    "duration": 43,
    "start_time": "2025-01-02T19:11:04.021Z"
   },
   {
    "duration": 34,
    "start_time": "2025-01-02T19:11:04.066Z"
   },
   {
    "duration": 31,
    "start_time": "2025-01-02T19:11:04.102Z"
   },
   {
    "duration": 34,
    "start_time": "2025-01-02T19:11:04.135Z"
   },
   {
    "duration": 32,
    "start_time": "2025-01-02T19:11:04.171Z"
   },
   {
    "duration": 9,
    "start_time": "2025-01-02T19:11:04.205Z"
   },
   {
    "duration": 27,
    "start_time": "2025-01-02T19:11:04.216Z"
   },
   {
    "duration": 26,
    "start_time": "2025-01-02T19:11:04.246Z"
   },
   {
    "duration": 33,
    "start_time": "2025-01-02T19:11:04.274Z"
   },
   {
    "duration": 6,
    "start_time": "2025-01-02T19:11:04.309Z"
   },
   {
    "duration": 24,
    "start_time": "2025-01-02T19:11:04.316Z"
   },
   {
    "duration": 29,
    "start_time": "2025-01-02T19:11:04.342Z"
   },
   {
    "duration": 2002,
    "start_time": "2025-01-02T19:11:04.373Z"
   },
   {
    "duration": 8,
    "start_time": "2025-01-02T19:11:06.377Z"
   },
   {
    "duration": 36,
    "start_time": "2025-01-02T19:11:06.387Z"
   },
   {
    "duration": 39,
    "start_time": "2025-01-02T19:11:06.424Z"
   },
   {
    "duration": 44,
    "start_time": "2025-01-02T19:11:06.468Z"
   },
   {
    "duration": 31,
    "start_time": "2025-01-02T19:11:06.514Z"
   },
   {
    "duration": 29,
    "start_time": "2025-01-02T19:11:06.547Z"
   },
   {
    "duration": 81,
    "start_time": "2025-01-02T19:11:06.578Z"
   },
   {
    "duration": 95,
    "start_time": "2025-01-02T19:11:06.661Z"
   },
   {
    "duration": 30,
    "start_time": "2025-01-02T19:11:06.758Z"
   },
   {
    "duration": 205,
    "start_time": "2025-01-02T19:11:06.790Z"
   },
   {
    "duration": 440,
    "start_time": "2025-01-02T19:11:06.997Z"
   },
   {
    "duration": 174,
    "start_time": "2025-01-02T19:11:07.440Z"
   },
   {
    "duration": 228,
    "start_time": "2025-01-02T19:11:07.622Z"
   },
   {
    "duration": 9,
    "start_time": "2025-01-02T19:11:07.852Z"
   },
   {
    "duration": 127,
    "start_time": "2025-01-02T19:11:07.863Z"
   },
   {
    "duration": 12,
    "start_time": "2025-01-02T19:11:07.992Z"
   },
   {
    "duration": 259,
    "start_time": "2025-01-02T19:11:08.006Z"
   },
   {
    "duration": 9,
    "start_time": "2025-01-02T19:11:08.268Z"
   },
   {
    "duration": 197,
    "start_time": "2025-01-02T19:11:08.279Z"
   },
   {
    "duration": 234,
    "start_time": "2025-01-02T19:11:08.478Z"
   },
   {
    "duration": 257,
    "start_time": "2025-01-02T19:11:08.721Z"
   },
   {
    "duration": 11,
    "start_time": "2025-01-02T19:11:08.980Z"
   },
   {
    "duration": 356,
    "start_time": "2025-01-02T19:11:08.993Z"
   },
   {
    "duration": 3,
    "start_time": "2025-01-02T19:11:09.351Z"
   },
   {
    "duration": 57,
    "start_time": "2025-01-02T19:11:09.355Z"
   },
   {
    "duration": 324,
    "start_time": "2025-01-02T19:11:09.413Z"
   },
   {
    "duration": 8,
    "start_time": "2025-01-02T19:11:09.738Z"
   },
   {
    "duration": 259,
    "start_time": "2025-01-02T19:11:09.748Z"
   },
   {
    "duration": 358,
    "start_time": "2025-01-02T19:11:10.009Z"
   },
   {
    "duration": 1352,
    "start_time": "2025-01-02T19:11:10.370Z"
   },
   {
    "duration": 8,
    "start_time": "2025-01-02T19:11:11.724Z"
   },
   {
    "duration": 3742,
    "start_time": "2025-01-02T19:11:34.400Z"
   },
   {
    "duration": 124,
    "start_time": "2025-01-02T19:11:38.144Z"
   },
   {
    "duration": 96,
    "start_time": "2025-01-02T19:11:38.270Z"
   },
   {
    "duration": 61,
    "start_time": "2025-01-02T19:11:38.369Z"
   },
   {
    "duration": 104,
    "start_time": "2025-01-02T19:11:38.432Z"
   },
   {
    "duration": 25,
    "start_time": "2025-01-02T19:11:38.537Z"
   },
   {
    "duration": 87,
    "start_time": "2025-01-02T19:11:38.563Z"
   },
   {
    "duration": 94,
    "start_time": "2025-01-02T19:11:38.651Z"
   },
   {
    "duration": 82,
    "start_time": "2025-01-02T19:11:38.747Z"
   },
   {
    "duration": 57,
    "start_time": "2025-01-02T19:11:38.832Z"
   },
   {
    "duration": 4,
    "start_time": "2025-01-02T19:11:38.891Z"
   },
   {
    "duration": 29,
    "start_time": "2025-01-02T19:11:38.897Z"
   },
   {
    "duration": 18,
    "start_time": "2025-01-02T19:11:38.928Z"
   },
   {
    "duration": 69,
    "start_time": "2025-01-02T19:11:38.948Z"
   },
   {
    "duration": 15,
    "start_time": "2025-01-02T19:11:39.019Z"
   },
   {
    "duration": 4,
    "start_time": "2025-01-02T19:11:39.036Z"
   },
   {
    "duration": 14,
    "start_time": "2025-01-02T19:11:39.041Z"
   },
   {
    "duration": 104,
    "start_time": "2025-01-02T19:11:39.057Z"
   },
   {
    "duration": 18,
    "start_time": "2025-01-02T19:11:39.162Z"
   },
   {
    "duration": 38,
    "start_time": "2025-01-02T19:11:39.181Z"
   },
   {
    "duration": 20,
    "start_time": "2025-01-02T19:11:39.221Z"
   },
   {
    "duration": 49,
    "start_time": "2025-01-02T19:11:39.242Z"
   },
   {
    "duration": 2087,
    "start_time": "2025-01-02T19:11:39.292Z"
   },
   {
    "duration": 10,
    "start_time": "2025-01-02T19:11:41.381Z"
   },
   {
    "duration": 9,
    "start_time": "2025-01-02T19:11:41.393Z"
   },
   {
    "duration": 30,
    "start_time": "2025-01-02T19:11:41.404Z"
   },
   {
    "duration": 10,
    "start_time": "2025-01-02T19:11:41.436Z"
   },
   {
    "duration": 7,
    "start_time": "2025-01-02T19:11:41.450Z"
   },
   {
    "duration": 11,
    "start_time": "2025-01-02T19:11:41.459Z"
   },
   {
    "duration": 20,
    "start_time": "2025-01-02T19:11:41.472Z"
   },
   {
    "duration": 28,
    "start_time": "2025-01-02T19:11:41.494Z"
   },
   {
    "duration": 11,
    "start_time": "2025-01-02T19:11:41.524Z"
   },
   {
    "duration": 210,
    "start_time": "2025-01-02T19:11:41.536Z"
   },
   {
    "duration": 443,
    "start_time": "2025-01-02T19:11:41.748Z"
   },
   {
    "duration": 183,
    "start_time": "2025-01-02T19:11:42.193Z"
   },
   {
    "duration": 256,
    "start_time": "2025-01-02T19:11:42.377Z"
   },
   {
    "duration": 8,
    "start_time": "2025-01-02T19:11:42.635Z"
   },
   {
    "duration": 136,
    "start_time": "2025-01-02T19:11:42.644Z"
   },
   {
    "duration": 12,
    "start_time": "2025-01-02T19:11:42.782Z"
   },
   {
    "duration": 250,
    "start_time": "2025-01-02T19:11:42.796Z"
   },
   {
    "duration": 9,
    "start_time": "2025-01-02T19:11:43.048Z"
   },
   {
    "duration": 262,
    "start_time": "2025-01-02T19:11:43.058Z"
   },
   {
    "duration": 202,
    "start_time": "2025-01-02T19:11:43.321Z"
   },
   {
    "duration": 253,
    "start_time": "2025-01-02T19:11:43.524Z"
   },
   {
    "duration": 11,
    "start_time": "2025-01-02T19:11:43.778Z"
   },
   {
    "duration": 393,
    "start_time": "2025-01-02T19:11:43.790Z"
   },
   {
    "duration": 2,
    "start_time": "2025-01-02T19:11:44.185Z"
   },
   {
    "duration": 22,
    "start_time": "2025-01-02T19:11:44.189Z"
   },
   {
    "duration": 325,
    "start_time": "2025-01-02T19:11:44.212Z"
   },
   {
    "duration": 7,
    "start_time": "2025-01-02T19:11:44.538Z"
   },
   {
    "duration": 241,
    "start_time": "2025-01-02T19:11:44.546Z"
   },
   {
    "duration": 282,
    "start_time": "2025-01-02T19:11:44.789Z"
   },
   {
    "duration": 1397,
    "start_time": "2025-01-02T19:11:45.073Z"
   },
   {
    "duration": 9,
    "start_time": "2025-01-02T19:11:46.472Z"
   },
   {
    "duration": 3535,
    "start_time": "2025-01-02T19:16:32.423Z"
   },
   {
    "duration": 150,
    "start_time": "2025-01-02T19:16:35.961Z"
   },
   {
    "duration": 135,
    "start_time": "2025-01-02T19:16:36.113Z"
   },
   {
    "duration": 17,
    "start_time": "2025-01-02T19:16:36.251Z"
   },
   {
    "duration": 54,
    "start_time": "2025-01-02T19:16:36.269Z"
   },
   {
    "duration": 48,
    "start_time": "2025-01-02T19:16:36.325Z"
   },
   {
    "duration": 54,
    "start_time": "2025-01-02T19:16:36.375Z"
   },
   {
    "duration": 10,
    "start_time": "2025-01-02T19:16:36.431Z"
   },
   {
    "duration": 30,
    "start_time": "2025-01-02T19:16:36.443Z"
   },
   {
    "duration": 23,
    "start_time": "2025-01-02T19:16:36.475Z"
   },
   {
    "duration": 17,
    "start_time": "2025-01-02T19:16:36.499Z"
   },
   {
    "duration": 15,
    "start_time": "2025-01-02T19:16:36.518Z"
   },
   {
    "duration": 24,
    "start_time": "2025-01-02T19:16:36.535Z"
   },
   {
    "duration": 39,
    "start_time": "2025-01-02T19:16:36.560Z"
   },
   {
    "duration": 49,
    "start_time": "2025-01-02T19:16:36.601Z"
   },
   {
    "duration": 3,
    "start_time": "2025-01-02T19:16:36.652Z"
   },
   {
    "duration": 22,
    "start_time": "2025-01-02T19:16:36.657Z"
   },
   {
    "duration": 6,
    "start_time": "2025-01-02T19:16:36.680Z"
   },
   {
    "duration": 22,
    "start_time": "2025-01-02T19:16:36.687Z"
   },
   {
    "duration": 34,
    "start_time": "2025-01-02T19:16:36.710Z"
   },
   {
    "duration": 17,
    "start_time": "2025-01-02T19:16:36.745Z"
   },
   {
    "duration": 34,
    "start_time": "2025-01-02T19:16:36.764Z"
   },
   {
    "duration": 1986,
    "start_time": "2025-01-02T19:16:36.799Z"
   },
   {
    "duration": 8,
    "start_time": "2025-01-02T19:16:38.786Z"
   },
   {
    "duration": 8,
    "start_time": "2025-01-02T19:16:38.796Z"
   },
   {
    "duration": 11,
    "start_time": "2025-01-02T19:16:38.821Z"
   },
   {
    "duration": 7,
    "start_time": "2025-01-02T19:16:38.833Z"
   },
   {
    "duration": 11,
    "start_time": "2025-01-02T19:16:38.843Z"
   },
   {
    "duration": 28,
    "start_time": "2025-01-02T19:16:38.855Z"
   },
   {
    "duration": 6,
    "start_time": "2025-01-02T19:16:38.885Z"
   },
   {
    "duration": 7,
    "start_time": "2025-01-02T19:16:38.893Z"
   },
   {
    "duration": 6,
    "start_time": "2025-01-02T19:16:38.901Z"
   },
   {
    "duration": 171,
    "start_time": "2025-01-02T19:16:38.921Z"
   },
   {
    "duration": 418,
    "start_time": "2025-01-02T19:16:39.094Z"
   },
   {
    "duration": 176,
    "start_time": "2025-01-02T19:16:39.521Z"
   },
   {
    "duration": 223,
    "start_time": "2025-01-02T19:16:39.699Z"
   },
   {
    "duration": 8,
    "start_time": "2025-01-02T19:16:39.923Z"
   },
   {
    "duration": 254,
    "start_time": "2025-01-02T19:16:39.932Z"
   },
   {
    "duration": 13,
    "start_time": "2025-01-02T19:16:40.187Z"
   },
   {
    "duration": 226,
    "start_time": "2025-01-02T19:16:40.202Z"
   },
   {
    "duration": 9,
    "start_time": "2025-01-02T19:16:40.430Z"
   },
   {
    "duration": 181,
    "start_time": "2025-01-02T19:16:40.440Z"
   },
   {
    "duration": 200,
    "start_time": "2025-01-02T19:16:40.623Z"
   },
   {
    "duration": 225,
    "start_time": "2025-01-02T19:16:40.825Z"
   },
   {
    "duration": 10,
    "start_time": "2025-01-02T19:16:41.052Z"
   },
   {
    "duration": 418,
    "start_time": "2025-01-02T19:16:41.064Z"
   },
   {
    "duration": 3,
    "start_time": "2025-01-02T19:16:41.483Z"
   },
   {
    "duration": 6,
    "start_time": "2025-01-02T19:16:41.488Z"
   },
   {
    "duration": 334,
    "start_time": "2025-01-02T19:16:41.495Z"
   },
   {
    "duration": 7,
    "start_time": "2025-01-02T19:16:41.831Z"
   },
   {
    "duration": 308,
    "start_time": "2025-01-02T19:16:41.839Z"
   },
   {
    "duration": 318,
    "start_time": "2025-01-02T19:16:42.149Z"
   },
   {
    "duration": 1241,
    "start_time": "2025-01-02T19:16:42.469Z"
   },
   {
    "duration": 9,
    "start_time": "2025-01-02T19:16:43.712Z"
   },
   {
    "duration": 3,
    "start_time": "2025-01-02T19:19:05.071Z"
   },
   {
    "duration": 9,
    "start_time": "2025-01-02T19:19:05.491Z"
   },
   {
    "duration": 3602,
    "start_time": "2025-01-02T19:19:18.686Z"
   },
   {
    "duration": 129,
    "start_time": "2025-01-02T19:19:22.290Z"
   },
   {
    "duration": 59,
    "start_time": "2025-01-02T19:19:22.422Z"
   },
   {
    "duration": 17,
    "start_time": "2025-01-02T19:19:22.483Z"
   },
   {
    "duration": 21,
    "start_time": "2025-01-02T19:19:22.501Z"
   },
   {
    "duration": 11,
    "start_time": "2025-01-02T19:19:22.524Z"
   },
   {
    "duration": 13,
    "start_time": "2025-01-02T19:19:22.536Z"
   },
   {
    "duration": 5,
    "start_time": "2025-01-02T19:19:22.550Z"
   },
   {
    "duration": 7,
    "start_time": "2025-01-02T19:19:22.557Z"
   },
   {
    "duration": 18,
    "start_time": "2025-01-02T19:19:22.566Z"
   },
   {
    "duration": 4,
    "start_time": "2025-01-02T19:19:22.586Z"
   },
   {
    "duration": 31,
    "start_time": "2025-01-02T19:19:22.592Z"
   },
   {
    "duration": 15,
    "start_time": "2025-01-02T19:19:22.624Z"
   },
   {
    "duration": 15,
    "start_time": "2025-01-02T19:19:22.640Z"
   },
   {
    "duration": 15,
    "start_time": "2025-01-02T19:19:22.656Z"
   },
   {
    "duration": 3,
    "start_time": "2025-01-02T19:19:22.673Z"
   },
   {
    "duration": 15,
    "start_time": "2025-01-02T19:19:22.678Z"
   },
   {
    "duration": 27,
    "start_time": "2025-01-02T19:19:22.695Z"
   },
   {
    "duration": 21,
    "start_time": "2025-01-02T19:19:22.724Z"
   },
   {
    "duration": 4,
    "start_time": "2025-01-02T19:19:22.747Z"
   },
   {
    "duration": 8,
    "start_time": "2025-01-02T19:19:22.752Z"
   },
   {
    "duration": 9,
    "start_time": "2025-01-02T19:19:22.762Z"
   },
   {
    "duration": 2024,
    "start_time": "2025-01-02T19:19:22.772Z"
   },
   {
    "duration": 8,
    "start_time": "2025-01-02T19:19:24.797Z"
   },
   {
    "duration": 26,
    "start_time": "2025-01-02T19:19:24.807Z"
   },
   {
    "duration": 16,
    "start_time": "2025-01-02T19:19:24.834Z"
   },
   {
    "duration": 7,
    "start_time": "2025-01-02T19:19:24.852Z"
   },
   {
    "duration": 12,
    "start_time": "2025-01-02T19:19:24.863Z"
   },
   {
    "duration": 5,
    "start_time": "2025-01-02T19:19:24.876Z"
   },
   {
    "duration": 7,
    "start_time": "2025-01-02T19:19:24.882Z"
   },
   {
    "duration": 9,
    "start_time": "2025-01-02T19:19:24.890Z"
   },
   {
    "duration": 23,
    "start_time": "2025-01-02T19:19:24.901Z"
   },
   {
    "duration": 207,
    "start_time": "2025-01-02T19:19:24.926Z"
   },
   {
    "duration": 439,
    "start_time": "2025-01-02T19:19:25.135Z"
   },
   {
    "duration": 170,
    "start_time": "2025-01-02T19:19:25.575Z"
   },
   {
    "duration": 222,
    "start_time": "2025-01-02T19:19:25.747Z"
   },
   {
    "duration": 7,
    "start_time": "2025-01-02T19:19:25.970Z"
   },
   {
    "duration": 132,
    "start_time": "2025-01-02T19:19:25.979Z"
   },
   {
    "duration": 16,
    "start_time": "2025-01-02T19:19:26.113Z"
   },
   {
    "duration": 233,
    "start_time": "2025-01-02T19:19:26.130Z"
   },
   {
    "duration": 9,
    "start_time": "2025-01-02T19:19:26.364Z"
   },
   {
    "duration": 184,
    "start_time": "2025-01-02T19:19:26.375Z"
   },
   {
    "duration": 199,
    "start_time": "2025-01-02T19:19:26.560Z"
   },
   {
    "duration": 225,
    "start_time": "2025-01-02T19:19:26.760Z"
   },
   {
    "duration": 10,
    "start_time": "2025-01-02T19:19:26.987Z"
   },
   {
    "duration": 359,
    "start_time": "2025-01-02T19:19:26.998Z"
   },
   {
    "duration": 3,
    "start_time": "2025-01-02T19:19:27.359Z"
   },
   {
    "duration": 58,
    "start_time": "2025-01-02T19:19:27.363Z"
   },
   {
    "duration": 311,
    "start_time": "2025-01-02T19:19:27.422Z"
   },
   {
    "duration": 7,
    "start_time": "2025-01-02T19:19:27.734Z"
   },
   {
    "duration": 345,
    "start_time": "2025-01-02T19:19:27.742Z"
   },
   {
    "duration": 309,
    "start_time": "2025-01-02T19:19:28.088Z"
   },
   {
    "duration": 1311,
    "start_time": "2025-01-02T19:19:28.399Z"
   },
   {
    "duration": 7,
    "start_time": "2025-01-02T19:19:29.712Z"
   },
   {
    "duration": 16,
    "start_time": "2025-01-02T19:25:06.258Z"
   },
   {
    "duration": 90,
    "start_time": "2025-01-02T19:27:42.244Z"
   },
   {
    "duration": 4,
    "start_time": "2025-01-02T19:28:57.586Z"
   },
   {
    "duration": 130,
    "start_time": "2025-01-02T19:31:38.790Z"
   },
   {
    "duration": 37,
    "start_time": "2025-01-02T19:31:53.772Z"
   },
   {
    "duration": 42,
    "start_time": "2025-01-02T19:32:44.154Z"
   },
   {
    "duration": 41,
    "start_time": "2025-01-02T19:33:51.044Z"
   },
   {
    "duration": 37,
    "start_time": "2025-01-02T19:34:00.973Z"
   },
   {
    "duration": 38,
    "start_time": "2025-01-02T19:34:35.387Z"
   },
   {
    "duration": 46,
    "start_time": "2025-01-02T19:36:52.536Z"
   },
   {
    "duration": 3551,
    "start_time": "2025-01-02T19:36:57.509Z"
   },
   {
    "duration": 151,
    "start_time": "2025-01-02T19:37:01.062Z"
   },
   {
    "duration": 53,
    "start_time": "2025-01-02T19:37:01.215Z"
   },
   {
    "duration": 16,
    "start_time": "2025-01-02T19:37:01.270Z"
   },
   {
    "duration": 40,
    "start_time": "2025-01-02T19:37:01.287Z"
   },
   {
    "duration": 11,
    "start_time": "2025-01-02T19:37:01.329Z"
   },
   {
    "duration": 20,
    "start_time": "2025-01-02T19:37:01.342Z"
   },
   {
    "duration": 4,
    "start_time": "2025-01-02T19:37:01.364Z"
   },
   {
    "duration": 20,
    "start_time": "2025-01-02T19:37:01.369Z"
   },
   {
    "duration": 74,
    "start_time": "2025-01-02T19:37:01.392Z"
   },
   {
    "duration": 40,
    "start_time": "2025-01-02T19:37:01.468Z"
   },
   {
    "duration": 26,
    "start_time": "2025-01-02T19:37:01.509Z"
   },
   {
    "duration": 34,
    "start_time": "2025-01-02T19:37:01.537Z"
   },
   {
    "duration": 45,
    "start_time": "2025-01-02T19:37:01.572Z"
   },
   {
    "duration": 37,
    "start_time": "2025-01-02T19:37:01.618Z"
   },
   {
    "duration": 20,
    "start_time": "2025-01-02T19:37:01.657Z"
   },
   {
    "duration": 41,
    "start_time": "2025-01-02T19:37:01.679Z"
   },
   {
    "duration": 81,
    "start_time": "2025-01-02T19:37:01.721Z"
   },
   {
    "duration": 22,
    "start_time": "2025-01-02T19:37:01.804Z"
   },
   {
    "duration": 18,
    "start_time": "2025-01-02T19:37:01.827Z"
   },
   {
    "duration": 46,
    "start_time": "2025-01-02T19:37:01.846Z"
   },
   {
    "duration": 64,
    "start_time": "2025-01-02T19:37:01.893Z"
   },
   {
    "duration": 1851,
    "start_time": "2025-01-02T19:37:01.958Z"
   },
   {
    "duration": 13,
    "start_time": "2025-01-02T19:37:03.810Z"
   },
   {
    "duration": 25,
    "start_time": "2025-01-02T19:37:03.824Z"
   },
   {
    "duration": 26,
    "start_time": "2025-01-02T19:37:03.851Z"
   },
   {
    "duration": 35,
    "start_time": "2025-01-02T19:37:03.878Z"
   },
   {
    "duration": 28,
    "start_time": "2025-01-02T19:37:03.915Z"
   },
   {
    "duration": 5,
    "start_time": "2025-01-02T19:37:03.945Z"
   },
   {
    "duration": 38,
    "start_time": "2025-01-02T19:37:03.951Z"
   },
   {
    "duration": 13,
    "start_time": "2025-01-02T19:37:03.990Z"
   },
   {
    "duration": 16,
    "start_time": "2025-01-02T19:37:04.004Z"
   },
   {
    "duration": 179,
    "start_time": "2025-01-02T19:37:04.021Z"
   },
   {
    "duration": 422,
    "start_time": "2025-01-02T19:37:04.202Z"
   },
   {
    "duration": 167,
    "start_time": "2025-01-02T19:37:04.625Z"
   },
   {
    "duration": 206,
    "start_time": "2025-01-02T19:37:04.794Z"
   },
   {
    "duration": 7,
    "start_time": "2025-01-02T19:37:05.001Z"
   },
   {
    "duration": 106,
    "start_time": "2025-01-02T19:37:05.021Z"
   },
   {
    "duration": 11,
    "start_time": "2025-01-02T19:37:05.129Z"
   },
   {
    "duration": 297,
    "start_time": "2025-01-02T19:37:05.142Z"
   },
   {
    "duration": 8,
    "start_time": "2025-01-02T19:37:05.441Z"
   },
   {
    "duration": 209,
    "start_time": "2025-01-02T19:37:05.450Z"
   },
   {
    "duration": 196,
    "start_time": "2025-01-02T19:37:05.661Z"
   },
   {
    "duration": 213,
    "start_time": "2025-01-02T19:37:05.858Z"
   },
   {
    "duration": 11,
    "start_time": "2025-01-02T19:37:06.073Z"
   },
   {
    "duration": 363,
    "start_time": "2025-01-02T19:37:06.085Z"
   },
   {
    "duration": 146,
    "start_time": "2025-01-02T19:37:06.450Z"
   },
   {
    "duration": 0,
    "start_time": "2025-01-02T19:37:06.598Z"
   },
   {
    "duration": 0,
    "start_time": "2025-01-02T19:37:06.599Z"
   },
   {
    "duration": 0,
    "start_time": "2025-01-02T19:37:06.601Z"
   },
   {
    "duration": 0,
    "start_time": "2025-01-02T19:37:06.602Z"
   },
   {
    "duration": 0,
    "start_time": "2025-01-02T19:37:06.603Z"
   },
   {
    "duration": 0,
    "start_time": "2025-01-02T19:37:06.605Z"
   },
   {
    "duration": 47,
    "start_time": "2025-01-02T19:38:56.687Z"
   },
   {
    "duration": 3557,
    "start_time": "2025-01-02T19:47:13.766Z"
   },
   {
    "duration": 129,
    "start_time": "2025-01-02T19:47:17.324Z"
   },
   {
    "duration": 54,
    "start_time": "2025-01-02T19:47:17.454Z"
   },
   {
    "duration": 16,
    "start_time": "2025-01-02T19:47:17.509Z"
   },
   {
    "duration": 13,
    "start_time": "2025-01-02T19:47:17.526Z"
   },
   {
    "duration": 20,
    "start_time": "2025-01-02T19:47:17.541Z"
   },
   {
    "duration": 13,
    "start_time": "2025-01-02T19:47:17.563Z"
   },
   {
    "duration": 13,
    "start_time": "2025-01-02T19:47:17.578Z"
   },
   {
    "duration": 12,
    "start_time": "2025-01-02T19:47:17.592Z"
   },
   {
    "duration": 4,
    "start_time": "2025-01-02T19:47:17.607Z"
   },
   {
    "duration": 11,
    "start_time": "2025-01-02T19:47:17.613Z"
   },
   {
    "duration": 40,
    "start_time": "2025-01-02T19:47:17.625Z"
   },
   {
    "duration": 14,
    "start_time": "2025-01-02T19:47:17.666Z"
   },
   {
    "duration": 46,
    "start_time": "2025-01-02T19:47:17.681Z"
   },
   {
    "duration": 11,
    "start_time": "2025-01-02T19:47:17.729Z"
   },
   {
    "duration": 3,
    "start_time": "2025-01-02T19:47:17.742Z"
   },
   {
    "duration": 18,
    "start_time": "2025-01-02T19:47:17.746Z"
   },
   {
    "duration": 10,
    "start_time": "2025-01-02T19:47:17.765Z"
   },
   {
    "duration": 17,
    "start_time": "2025-01-02T19:47:17.776Z"
   },
   {
    "duration": 13,
    "start_time": "2025-01-02T19:47:17.794Z"
   },
   {
    "duration": 17,
    "start_time": "2025-01-02T19:47:17.808Z"
   },
   {
    "duration": 19,
    "start_time": "2025-01-02T19:47:17.826Z"
   },
   {
    "duration": 1886,
    "start_time": "2025-01-02T19:47:17.847Z"
   },
   {
    "duration": 8,
    "start_time": "2025-01-02T19:47:19.734Z"
   },
   {
    "duration": 28,
    "start_time": "2025-01-02T19:47:19.743Z"
   },
   {
    "duration": 19,
    "start_time": "2025-01-02T19:47:19.773Z"
   },
   {
    "duration": 21,
    "start_time": "2025-01-02T19:47:19.794Z"
   },
   {
    "duration": 13,
    "start_time": "2025-01-02T19:47:19.818Z"
   },
   {
    "duration": 15,
    "start_time": "2025-01-02T19:47:19.833Z"
   },
   {
    "duration": 34,
    "start_time": "2025-01-02T19:47:19.850Z"
   },
   {
    "duration": 7,
    "start_time": "2025-01-02T19:47:19.886Z"
   },
   {
    "duration": 101,
    "start_time": "2025-01-02T19:47:19.894Z"
   },
   {
    "duration": 210,
    "start_time": "2025-01-02T19:47:19.997Z"
   },
   {
    "duration": 421,
    "start_time": "2025-01-02T19:47:20.208Z"
   },
   {
    "duration": 176,
    "start_time": "2025-01-02T19:47:20.631Z"
   },
   {
    "duration": 224,
    "start_time": "2025-01-02T19:47:20.809Z"
   },
   {
    "duration": 8,
    "start_time": "2025-01-02T19:47:21.034Z"
   },
   {
    "duration": 127,
    "start_time": "2025-01-02T19:47:21.043Z"
   },
   {
    "duration": 12,
    "start_time": "2025-01-02T19:47:21.171Z"
   },
   {
    "duration": 289,
    "start_time": "2025-01-02T19:47:21.185Z"
   },
   {
    "duration": 8,
    "start_time": "2025-01-02T19:47:21.475Z"
   },
   {
    "duration": 194,
    "start_time": "2025-01-02T19:47:21.485Z"
   },
   {
    "duration": 204,
    "start_time": "2025-01-02T19:47:21.681Z"
   },
   {
    "duration": 226,
    "start_time": "2025-01-02T19:47:21.886Z"
   },
   {
    "duration": 11,
    "start_time": "2025-01-02T19:47:22.121Z"
   },
   {
    "duration": 445,
    "start_time": "2025-01-02T19:47:22.134Z"
   },
   {
    "duration": 153,
    "start_time": "2025-01-02T19:47:22.580Z"
   },
   {
    "duration": 0,
    "start_time": "2025-01-02T19:47:22.735Z"
   },
   {
    "duration": 0,
    "start_time": "2025-01-02T19:47:22.736Z"
   },
   {
    "duration": 0,
    "start_time": "2025-01-02T19:47:22.737Z"
   },
   {
    "duration": 0,
    "start_time": "2025-01-02T19:47:22.739Z"
   },
   {
    "duration": 0,
    "start_time": "2025-01-02T19:47:22.740Z"
   },
   {
    "duration": 0,
    "start_time": "2025-01-02T19:47:22.741Z"
   },
   {
    "duration": 46,
    "start_time": "2025-01-02T19:48:33.863Z"
   },
   {
    "duration": 3565,
    "start_time": "2025-01-02T19:52:46.671Z"
   },
   {
    "duration": 187,
    "start_time": "2025-01-02T19:52:50.238Z"
   },
   {
    "duration": 79,
    "start_time": "2025-01-02T19:52:50.427Z"
   },
   {
    "duration": 16,
    "start_time": "2025-01-02T19:52:50.508Z"
   },
   {
    "duration": 16,
    "start_time": "2025-01-02T19:52:50.526Z"
   },
   {
    "duration": 21,
    "start_time": "2025-01-02T19:52:50.544Z"
   },
   {
    "duration": 93,
    "start_time": "2025-01-02T19:52:50.567Z"
   },
   {
    "duration": 31,
    "start_time": "2025-01-02T19:52:50.661Z"
   },
   {
    "duration": 38,
    "start_time": "2025-01-02T19:52:50.694Z"
   },
   {
    "duration": 46,
    "start_time": "2025-01-02T19:52:50.735Z"
   },
   {
    "duration": 85,
    "start_time": "2025-01-02T19:52:50.783Z"
   },
   {
    "duration": 56,
    "start_time": "2025-01-02T19:52:50.870Z"
   },
   {
    "duration": 35,
    "start_time": "2025-01-02T19:52:50.928Z"
   },
   {
    "duration": 39,
    "start_time": "2025-01-02T19:52:50.965Z"
   },
   {
    "duration": 26,
    "start_time": "2025-01-02T19:52:51.006Z"
   },
   {
    "duration": 35,
    "start_time": "2025-01-02T19:52:51.034Z"
   },
   {
    "duration": 38,
    "start_time": "2025-01-02T19:52:51.070Z"
   },
   {
    "duration": 15,
    "start_time": "2025-01-02T19:52:51.110Z"
   },
   {
    "duration": 56,
    "start_time": "2025-01-02T19:52:51.126Z"
   },
   {
    "duration": 75,
    "start_time": "2025-01-02T19:52:51.184Z"
   },
   {
    "duration": 17,
    "start_time": "2025-01-02T19:52:51.261Z"
   },
   {
    "duration": 21,
    "start_time": "2025-01-02T19:52:51.280Z"
   },
   {
    "duration": 1943,
    "start_time": "2025-01-02T19:52:51.303Z"
   },
   {
    "duration": 8,
    "start_time": "2025-01-02T19:52:53.248Z"
   },
   {
    "duration": 30,
    "start_time": "2025-01-02T19:52:53.257Z"
   },
   {
    "duration": 60,
    "start_time": "2025-01-02T19:52:53.289Z"
   },
   {
    "duration": 8,
    "start_time": "2025-01-02T19:52:53.351Z"
   },
   {
    "duration": 54,
    "start_time": "2025-01-02T19:52:53.363Z"
   },
   {
    "duration": 79,
    "start_time": "2025-01-02T19:52:53.419Z"
   },
   {
    "duration": 30,
    "start_time": "2025-01-02T19:52:53.500Z"
   },
   {
    "duration": 18,
    "start_time": "2025-01-02T19:52:53.532Z"
   },
   {
    "duration": 26,
    "start_time": "2025-01-02T19:52:53.552Z"
   },
   {
    "duration": 204,
    "start_time": "2025-01-02T19:52:53.579Z"
   },
   {
    "duration": 461,
    "start_time": "2025-01-02T19:52:53.785Z"
   },
   {
    "duration": 189,
    "start_time": "2025-01-02T19:52:54.248Z"
   },
   {
    "duration": 238,
    "start_time": "2025-01-02T19:52:54.438Z"
   },
   {
    "duration": 8,
    "start_time": "2025-01-02T19:52:54.677Z"
   },
   {
    "duration": 126,
    "start_time": "2025-01-02T19:52:54.686Z"
   },
   {
    "duration": 15,
    "start_time": "2025-01-02T19:52:54.814Z"
   },
   {
    "duration": 221,
    "start_time": "2025-01-02T19:52:54.830Z"
   },
   {
    "duration": 9,
    "start_time": "2025-01-02T19:52:55.053Z"
   },
   {
    "duration": 174,
    "start_time": "2025-01-02T19:52:55.063Z"
   },
   {
    "duration": 200,
    "start_time": "2025-01-02T19:52:55.238Z"
   },
   {
    "duration": 206,
    "start_time": "2025-01-02T19:52:55.439Z"
   },
   {
    "duration": 10,
    "start_time": "2025-01-02T19:52:55.646Z"
   },
   {
    "duration": 333,
    "start_time": "2025-01-02T19:52:55.657Z"
   },
   {
    "duration": 142,
    "start_time": "2025-01-02T19:52:55.991Z"
   },
   {
    "duration": 0,
    "start_time": "2025-01-02T19:52:56.134Z"
   },
   {
    "duration": 0,
    "start_time": "2025-01-02T19:52:56.136Z"
   },
   {
    "duration": 0,
    "start_time": "2025-01-02T19:52:56.137Z"
   },
   {
    "duration": 0,
    "start_time": "2025-01-02T19:52:56.138Z"
   },
   {
    "duration": 0,
    "start_time": "2025-01-02T19:52:56.139Z"
   },
   {
    "duration": 0,
    "start_time": "2025-01-02T19:52:56.140Z"
   },
   {
    "duration": 44,
    "start_time": "2025-01-02T19:54:30.445Z"
   },
   {
    "duration": 44,
    "start_time": "2025-01-02T19:54:42.262Z"
   },
   {
    "duration": 158,
    "start_time": "2025-01-02T19:55:30.472Z"
   },
   {
    "duration": 9,
    "start_time": "2025-01-02T19:58:35.390Z"
   },
   {
    "duration": 159,
    "start_time": "2025-01-02T19:58:46.835Z"
   },
   {
    "duration": 154,
    "start_time": "2025-01-02T19:59:04.425Z"
   },
   {
    "duration": 157,
    "start_time": "2025-01-02T19:59:51.912Z"
   },
   {
    "duration": 3819,
    "start_time": "2025-01-02T19:59:59.143Z"
   },
   {
    "duration": 152,
    "start_time": "2025-01-02T20:00:02.964Z"
   },
   {
    "duration": 63,
    "start_time": "2025-01-02T20:00:03.118Z"
   },
   {
    "duration": 17,
    "start_time": "2025-01-02T20:00:03.183Z"
   },
   {
    "duration": 105,
    "start_time": "2025-01-02T20:00:03.201Z"
   },
   {
    "duration": 43,
    "start_time": "2025-01-02T20:00:03.307Z"
   },
   {
    "duration": 49,
    "start_time": "2025-01-02T20:00:03.352Z"
   },
   {
    "duration": 25,
    "start_time": "2025-01-02T20:00:03.402Z"
   },
   {
    "duration": 80,
    "start_time": "2025-01-02T20:00:03.428Z"
   },
   {
    "duration": 54,
    "start_time": "2025-01-02T20:00:03.511Z"
   },
   {
    "duration": 42,
    "start_time": "2025-01-02T20:00:03.567Z"
   },
   {
    "duration": 16,
    "start_time": "2025-01-02T20:00:03.610Z"
   },
   {
    "duration": 25,
    "start_time": "2025-01-02T20:00:03.627Z"
   },
   {
    "duration": 28,
    "start_time": "2025-01-02T20:00:03.654Z"
   },
   {
    "duration": 32,
    "start_time": "2025-01-02T20:00:03.684Z"
   },
   {
    "duration": 6,
    "start_time": "2025-01-02T20:00:03.718Z"
   },
   {
    "duration": 34,
    "start_time": "2025-01-02T20:00:03.726Z"
   },
   {
    "duration": 7,
    "start_time": "2025-01-02T20:00:03.762Z"
   },
   {
    "duration": 47,
    "start_time": "2025-01-02T20:00:03.771Z"
   },
   {
    "duration": 4,
    "start_time": "2025-01-02T20:00:03.820Z"
   },
   {
    "duration": 13,
    "start_time": "2025-01-02T20:00:03.826Z"
   },
   {
    "duration": 20,
    "start_time": "2025-01-02T20:00:03.841Z"
   },
   {
    "duration": 2016,
    "start_time": "2025-01-02T20:00:03.863Z"
   },
   {
    "duration": 12,
    "start_time": "2025-01-02T20:00:05.881Z"
   },
   {
    "duration": 27,
    "start_time": "2025-01-02T20:00:05.894Z"
   },
   {
    "duration": 94,
    "start_time": "2025-01-02T20:00:05.923Z"
   },
   {
    "duration": 72,
    "start_time": "2025-01-02T20:00:06.018Z"
   },
   {
    "duration": 41,
    "start_time": "2025-01-02T20:00:06.094Z"
   },
   {
    "duration": 63,
    "start_time": "2025-01-02T20:00:06.136Z"
   },
   {
    "duration": 27,
    "start_time": "2025-01-02T20:00:06.201Z"
   },
   {
    "duration": 33,
    "start_time": "2025-01-02T20:00:06.230Z"
   },
   {
    "duration": 24,
    "start_time": "2025-01-02T20:00:06.265Z"
   },
   {
    "duration": 204,
    "start_time": "2025-01-02T20:00:06.290Z"
   },
   {
    "duration": 442,
    "start_time": "2025-01-02T20:00:06.496Z"
   },
   {
    "duration": 186,
    "start_time": "2025-01-02T20:00:06.940Z"
   },
   {
    "duration": 237,
    "start_time": "2025-01-02T20:00:07.128Z"
   },
   {
    "duration": 7,
    "start_time": "2025-01-02T20:00:07.366Z"
   },
   {
    "duration": 140,
    "start_time": "2025-01-02T20:00:07.375Z"
   },
   {
    "duration": 13,
    "start_time": "2025-01-02T20:00:07.517Z"
   },
   {
    "duration": 258,
    "start_time": "2025-01-02T20:00:07.532Z"
   },
   {
    "duration": 9,
    "start_time": "2025-01-02T20:00:07.792Z"
   },
   {
    "duration": 218,
    "start_time": "2025-01-02T20:00:07.803Z"
   },
   {
    "duration": 229,
    "start_time": "2025-01-02T20:00:08.023Z"
   },
   {
    "duration": 248,
    "start_time": "2025-01-02T20:00:08.254Z"
   },
   {
    "duration": 21,
    "start_time": "2025-01-02T20:00:08.504Z"
   },
   {
    "duration": 325,
    "start_time": "2025-01-02T20:00:08.526Z"
   },
   {
    "duration": 162,
    "start_time": "2025-01-02T20:00:08.853Z"
   },
   {
    "duration": 114,
    "start_time": "2025-01-02T20:00:09.017Z"
   },
   {
    "duration": 0,
    "start_time": "2025-01-02T20:00:09.132Z"
   },
   {
    "duration": 0,
    "start_time": "2025-01-02T20:00:09.134Z"
   },
   {
    "duration": 0,
    "start_time": "2025-01-02T20:00:09.135Z"
   },
   {
    "duration": 0,
    "start_time": "2025-01-02T20:00:09.136Z"
   },
   {
    "duration": 0,
    "start_time": "2025-01-02T20:00:09.137Z"
   },
   {
    "duration": 11,
    "start_time": "2025-01-02T20:01:22.658Z"
   },
   {
    "duration": 160,
    "start_time": "2025-01-02T20:01:31.080Z"
   },
   {
    "duration": 10,
    "start_time": "2025-01-02T20:01:42.921Z"
   },
   {
    "duration": 165,
    "start_time": "2025-01-02T20:04:30.667Z"
   },
   {
    "duration": 162,
    "start_time": "2025-01-02T20:05:15.305Z"
   },
   {
    "duration": 12,
    "start_time": "2025-01-02T20:05:40.912Z"
   },
   {
    "duration": 3726,
    "start_time": "2025-01-02T20:05:54.600Z"
   },
   {
    "duration": 131,
    "start_time": "2025-01-02T20:05:58.328Z"
   },
   {
    "duration": 51,
    "start_time": "2025-01-02T20:05:58.460Z"
   },
   {
    "duration": 17,
    "start_time": "2025-01-02T20:05:58.513Z"
   },
   {
    "duration": 16,
    "start_time": "2025-01-02T20:05:58.532Z"
   },
   {
    "duration": 8,
    "start_time": "2025-01-02T20:05:58.550Z"
   },
   {
    "duration": 56,
    "start_time": "2025-01-02T20:05:58.560Z"
   },
   {
    "duration": 15,
    "start_time": "2025-01-02T20:05:58.618Z"
   },
   {
    "duration": 16,
    "start_time": "2025-01-02T20:05:58.634Z"
   },
   {
    "duration": 29,
    "start_time": "2025-01-02T20:05:58.653Z"
   },
   {
    "duration": 28,
    "start_time": "2025-01-02T20:05:58.684Z"
   },
   {
    "duration": 25,
    "start_time": "2025-01-02T20:05:58.714Z"
   },
   {
    "duration": 32,
    "start_time": "2025-01-02T20:05:58.740Z"
   },
   {
    "duration": 47,
    "start_time": "2025-01-02T20:05:58.774Z"
   },
   {
    "duration": 13,
    "start_time": "2025-01-02T20:05:58.823Z"
   },
   {
    "duration": 9,
    "start_time": "2025-01-02T20:05:58.837Z"
   },
   {
    "duration": 15,
    "start_time": "2025-01-02T20:05:58.847Z"
   },
   {
    "duration": 4,
    "start_time": "2025-01-02T20:05:58.863Z"
   },
   {
    "duration": 35,
    "start_time": "2025-01-02T20:05:58.868Z"
   },
   {
    "duration": 3,
    "start_time": "2025-01-02T20:05:58.905Z"
   },
   {
    "duration": 16,
    "start_time": "2025-01-02T20:05:58.910Z"
   },
   {
    "duration": 10,
    "start_time": "2025-01-02T20:05:58.927Z"
   },
   {
    "duration": 2035,
    "start_time": "2025-01-02T20:05:58.939Z"
   },
   {
    "duration": 9,
    "start_time": "2025-01-02T20:06:00.975Z"
   },
   {
    "duration": 49,
    "start_time": "2025-01-02T20:06:00.986Z"
   },
   {
    "duration": 23,
    "start_time": "2025-01-02T20:06:01.037Z"
   },
   {
    "duration": 39,
    "start_time": "2025-01-02T20:06:01.062Z"
   },
   {
    "duration": 15,
    "start_time": "2025-01-02T20:06:01.105Z"
   },
   {
    "duration": 37,
    "start_time": "2025-01-02T20:06:01.121Z"
   },
   {
    "duration": 28,
    "start_time": "2025-01-02T20:06:01.159Z"
   },
   {
    "duration": 19,
    "start_time": "2025-01-02T20:06:01.189Z"
   },
   {
    "duration": 62,
    "start_time": "2025-01-02T20:06:01.210Z"
   },
   {
    "duration": 199,
    "start_time": "2025-01-02T20:06:01.274Z"
   },
   {
    "duration": 445,
    "start_time": "2025-01-02T20:06:01.474Z"
   },
   {
    "duration": 182,
    "start_time": "2025-01-02T20:06:01.921Z"
   },
   {
    "duration": 254,
    "start_time": "2025-01-02T20:06:02.105Z"
   },
   {
    "duration": 7,
    "start_time": "2025-01-02T20:06:02.361Z"
   },
   {
    "duration": 165,
    "start_time": "2025-01-02T20:06:02.370Z"
   },
   {
    "duration": 15,
    "start_time": "2025-01-02T20:06:02.536Z"
   },
   {
    "duration": 260,
    "start_time": "2025-01-02T20:06:02.553Z"
   },
   {
    "duration": 15,
    "start_time": "2025-01-02T20:06:02.814Z"
   },
   {
    "duration": 241,
    "start_time": "2025-01-02T20:06:02.830Z"
   },
   {
    "duration": 210,
    "start_time": "2025-01-02T20:06:03.073Z"
   },
   {
    "duration": 239,
    "start_time": "2025-01-02T20:06:03.284Z"
   },
   {
    "duration": 12,
    "start_time": "2025-01-02T20:06:03.524Z"
   },
   {
    "duration": 417,
    "start_time": "2025-01-02T20:06:03.538Z"
   },
   {
    "duration": 180,
    "start_time": "2025-01-02T20:06:03.957Z"
   },
   {
    "duration": 116,
    "start_time": "2025-01-02T20:06:04.139Z"
   },
   {
    "duration": 0,
    "start_time": "2025-01-02T20:06:04.257Z"
   },
   {
    "duration": 0,
    "start_time": "2025-01-02T20:06:04.258Z"
   },
   {
    "duration": 0,
    "start_time": "2025-01-02T20:06:04.259Z"
   },
   {
    "duration": 0,
    "start_time": "2025-01-02T20:06:04.260Z"
   },
   {
    "duration": 0,
    "start_time": "2025-01-02T20:06:04.261Z"
   },
   {
    "duration": 142,
    "start_time": "2025-01-02T20:09:28.581Z"
   },
   {
    "duration": 152,
    "start_time": "2025-01-02T20:10:52.650Z"
   },
   {
    "duration": 15,
    "start_time": "2025-01-02T20:11:22.564Z"
   },
   {
    "duration": 187,
    "start_time": "2025-01-02T20:11:32.228Z"
   },
   {
    "duration": 166,
    "start_time": "2025-01-02T20:13:37.550Z"
   },
   {
    "duration": 10,
    "start_time": "2025-01-02T20:20:16.726Z"
   },
   {
    "duration": 84,
    "start_time": "2025-01-02T20:29:45.935Z"
   },
   {
    "duration": 18,
    "start_time": "2025-01-02T20:30:39.486Z"
   },
   {
    "duration": 15,
    "start_time": "2025-01-02T20:32:32.000Z"
   },
   {
    "duration": 2748,
    "start_time": "2025-01-02T20:33:59.926Z"
   },
   {
    "duration": 98,
    "start_time": "2025-01-03T09:50:56.292Z"
   },
   {
    "duration": 89,
    "start_time": "2025-01-03T09:51:18.828Z"
   },
   {
    "duration": 111,
    "start_time": "2025-01-03T09:52:03.824Z"
   },
   {
    "duration": 78,
    "start_time": "2025-01-03T09:52:43.980Z"
   },
   {
    "duration": 84,
    "start_time": "2025-01-03T09:53:04.938Z"
   },
   {
    "duration": 94,
    "start_time": "2025-01-03T09:53:19.332Z"
   },
   {
    "duration": 46,
    "start_time": "2025-01-03T09:53:20.482Z"
   },
   {
    "duration": 4406,
    "start_time": "2025-01-03T09:54:26.753Z"
   },
   {
    "duration": 0,
    "start_time": "2025-01-03T09:54:31.162Z"
   },
   {
    "duration": 0,
    "start_time": "2025-01-03T09:54:31.163Z"
   },
   {
    "duration": 0,
    "start_time": "2025-01-03T09:54:31.164Z"
   },
   {
    "duration": 0,
    "start_time": "2025-01-03T09:54:31.165Z"
   },
   {
    "duration": 0,
    "start_time": "2025-01-03T09:54:31.166Z"
   },
   {
    "duration": 0,
    "start_time": "2025-01-03T09:54:31.167Z"
   },
   {
    "duration": 0,
    "start_time": "2025-01-03T09:54:31.168Z"
   },
   {
    "duration": 0,
    "start_time": "2025-01-03T09:54:31.169Z"
   },
   {
    "duration": 0,
    "start_time": "2025-01-03T09:54:31.170Z"
   },
   {
    "duration": 0,
    "start_time": "2025-01-03T09:54:31.171Z"
   },
   {
    "duration": 0,
    "start_time": "2025-01-03T09:54:31.172Z"
   },
   {
    "duration": 0,
    "start_time": "2025-01-03T09:54:31.174Z"
   },
   {
    "duration": 0,
    "start_time": "2025-01-03T09:54:31.174Z"
   },
   {
    "duration": 0,
    "start_time": "2025-01-03T09:54:31.175Z"
   },
   {
    "duration": 0,
    "start_time": "2025-01-03T09:54:31.176Z"
   },
   {
    "duration": 0,
    "start_time": "2025-01-03T09:54:31.177Z"
   },
   {
    "duration": 0,
    "start_time": "2025-01-03T09:54:31.178Z"
   },
   {
    "duration": 0,
    "start_time": "2025-01-03T09:54:31.179Z"
   },
   {
    "duration": 0,
    "start_time": "2025-01-03T09:54:31.180Z"
   },
   {
    "duration": 0,
    "start_time": "2025-01-03T09:54:31.181Z"
   },
   {
    "duration": 0,
    "start_time": "2025-01-03T09:54:31.182Z"
   },
   {
    "duration": 0,
    "start_time": "2025-01-03T09:54:31.183Z"
   },
   {
    "duration": 0,
    "start_time": "2025-01-03T09:54:31.184Z"
   },
   {
    "duration": 0,
    "start_time": "2025-01-03T09:54:31.185Z"
   },
   {
    "duration": 0,
    "start_time": "2025-01-03T09:54:31.186Z"
   },
   {
    "duration": 0,
    "start_time": "2025-01-03T09:54:31.187Z"
   },
   {
    "duration": 0,
    "start_time": "2025-01-03T09:54:31.188Z"
   },
   {
    "duration": 0,
    "start_time": "2025-01-03T09:54:31.190Z"
   },
   {
    "duration": 0,
    "start_time": "2025-01-03T09:54:31.237Z"
   },
   {
    "duration": 0,
    "start_time": "2025-01-03T09:54:31.238Z"
   },
   {
    "duration": 0,
    "start_time": "2025-01-03T09:54:31.241Z"
   },
   {
    "duration": 0,
    "start_time": "2025-01-03T09:54:31.242Z"
   },
   {
    "duration": 0,
    "start_time": "2025-01-03T09:54:31.242Z"
   },
   {
    "duration": 0,
    "start_time": "2025-01-03T09:54:31.243Z"
   },
   {
    "duration": 0,
    "start_time": "2025-01-03T09:54:31.245Z"
   },
   {
    "duration": 0,
    "start_time": "2025-01-03T09:54:31.251Z"
   },
   {
    "duration": 0,
    "start_time": "2025-01-03T09:54:31.252Z"
   },
   {
    "duration": 0,
    "start_time": "2025-01-03T09:54:31.253Z"
   },
   {
    "duration": 0,
    "start_time": "2025-01-03T09:54:31.254Z"
   },
   {
    "duration": 0,
    "start_time": "2025-01-03T09:54:31.256Z"
   },
   {
    "duration": 0,
    "start_time": "2025-01-03T09:54:31.257Z"
   },
   {
    "duration": 0,
    "start_time": "2025-01-03T09:54:31.258Z"
   },
   {
    "duration": 0,
    "start_time": "2025-01-03T09:54:31.260Z"
   },
   {
    "duration": 0,
    "start_time": "2025-01-03T09:54:31.261Z"
   },
   {
    "duration": 0,
    "start_time": "2025-01-03T09:54:31.262Z"
   },
   {
    "duration": 0,
    "start_time": "2025-01-03T09:54:31.263Z"
   },
   {
    "duration": 0,
    "start_time": "2025-01-03T09:54:31.264Z"
   },
   {
    "duration": 0,
    "start_time": "2025-01-03T09:54:31.266Z"
   },
   {
    "duration": 0,
    "start_time": "2025-01-03T09:54:31.267Z"
   },
   {
    "duration": 0,
    "start_time": "2025-01-03T09:54:31.268Z"
   },
   {
    "duration": 0,
    "start_time": "2025-01-03T09:54:31.270Z"
   },
   {
    "duration": 0,
    "start_time": "2025-01-03T09:54:31.270Z"
   },
   {
    "duration": 10,
    "start_time": "2025-01-03T09:55:26.312Z"
   },
   {
    "duration": 116,
    "start_time": "2025-01-03T09:57:10.872Z"
   },
   {
    "duration": 9,
    "start_time": "2025-01-03T09:57:17.202Z"
   },
   {
    "duration": 10,
    "start_time": "2025-01-03T09:58:26.749Z"
   },
   {
    "duration": 10,
    "start_time": "2025-01-03T10:07:57.663Z"
   },
   {
    "duration": 3901,
    "start_time": "2025-01-03T10:08:15.027Z"
   },
   {
    "duration": 0,
    "start_time": "2025-01-03T10:08:18.931Z"
   },
   {
    "duration": 0,
    "start_time": "2025-01-03T10:08:18.932Z"
   },
   {
    "duration": 0,
    "start_time": "2025-01-03T10:08:18.933Z"
   },
   {
    "duration": 0,
    "start_time": "2025-01-03T10:08:18.934Z"
   },
   {
    "duration": 0,
    "start_time": "2025-01-03T10:08:18.935Z"
   },
   {
    "duration": 0,
    "start_time": "2025-01-03T10:08:18.936Z"
   },
   {
    "duration": 0,
    "start_time": "2025-01-03T10:08:18.937Z"
   },
   {
    "duration": 0,
    "start_time": "2025-01-03T10:08:18.938Z"
   },
   {
    "duration": 0,
    "start_time": "2025-01-03T10:08:18.938Z"
   },
   {
    "duration": 0,
    "start_time": "2025-01-03T10:08:18.939Z"
   },
   {
    "duration": 0,
    "start_time": "2025-01-03T10:08:18.940Z"
   },
   {
    "duration": 0,
    "start_time": "2025-01-03T10:08:18.940Z"
   },
   {
    "duration": 0,
    "start_time": "2025-01-03T10:08:18.941Z"
   },
   {
    "duration": 0,
    "start_time": "2025-01-03T10:08:18.942Z"
   },
   {
    "duration": 0,
    "start_time": "2025-01-03T10:08:18.942Z"
   },
   {
    "duration": 0,
    "start_time": "2025-01-03T10:08:18.943Z"
   },
   {
    "duration": 0,
    "start_time": "2025-01-03T10:08:18.943Z"
   },
   {
    "duration": 0,
    "start_time": "2025-01-03T10:08:18.944Z"
   },
   {
    "duration": 0,
    "start_time": "2025-01-03T10:08:18.955Z"
   },
   {
    "duration": 0,
    "start_time": "2025-01-03T10:08:18.956Z"
   },
   {
    "duration": 0,
    "start_time": "2025-01-03T10:08:18.957Z"
   },
   {
    "duration": 0,
    "start_time": "2025-01-03T10:08:18.958Z"
   },
   {
    "duration": 0,
    "start_time": "2025-01-03T10:08:18.959Z"
   },
   {
    "duration": 0,
    "start_time": "2025-01-03T10:08:18.960Z"
   },
   {
    "duration": 0,
    "start_time": "2025-01-03T10:08:18.961Z"
   },
   {
    "duration": 0,
    "start_time": "2025-01-03T10:08:18.962Z"
   },
   {
    "duration": 0,
    "start_time": "2025-01-03T10:08:18.963Z"
   },
   {
    "duration": 0,
    "start_time": "2025-01-03T10:08:18.964Z"
   },
   {
    "duration": 0,
    "start_time": "2025-01-03T10:08:18.965Z"
   },
   {
    "duration": 0,
    "start_time": "2025-01-03T10:08:18.966Z"
   },
   {
    "duration": 0,
    "start_time": "2025-01-03T10:08:18.967Z"
   },
   {
    "duration": 0,
    "start_time": "2025-01-03T10:08:18.967Z"
   },
   {
    "duration": 0,
    "start_time": "2025-01-03T10:08:18.969Z"
   },
   {
    "duration": 0,
    "start_time": "2025-01-03T10:08:18.970Z"
   },
   {
    "duration": 0,
    "start_time": "2025-01-03T10:08:18.971Z"
   },
   {
    "duration": 0,
    "start_time": "2025-01-03T10:08:18.972Z"
   },
   {
    "duration": 0,
    "start_time": "2025-01-03T10:08:18.973Z"
   },
   {
    "duration": 0,
    "start_time": "2025-01-03T10:08:18.974Z"
   },
   {
    "duration": 0,
    "start_time": "2025-01-03T10:08:18.975Z"
   },
   {
    "duration": 0,
    "start_time": "2025-01-03T10:08:18.976Z"
   },
   {
    "duration": 0,
    "start_time": "2025-01-03T10:08:18.977Z"
   },
   {
    "duration": 0,
    "start_time": "2025-01-03T10:08:18.978Z"
   },
   {
    "duration": 0,
    "start_time": "2025-01-03T10:08:18.979Z"
   },
   {
    "duration": 0,
    "start_time": "2025-01-03T10:08:18.980Z"
   },
   {
    "duration": 0,
    "start_time": "2025-01-03T10:08:18.981Z"
   },
   {
    "duration": 0,
    "start_time": "2025-01-03T10:08:19.046Z"
   },
   {
    "duration": 0,
    "start_time": "2025-01-03T10:08:19.046Z"
   },
   {
    "duration": 0,
    "start_time": "2025-01-03T10:08:19.051Z"
   },
   {
    "duration": 0,
    "start_time": "2025-01-03T10:08:19.052Z"
   },
   {
    "duration": 0,
    "start_time": "2025-01-03T10:08:19.053Z"
   },
   {
    "duration": 0,
    "start_time": "2025-01-03T10:08:19.055Z"
   },
   {
    "duration": 0,
    "start_time": "2025-01-03T10:08:19.056Z"
   },
   {
    "duration": 3790,
    "start_time": "2025-01-03T10:08:52.406Z"
   },
   {
    "duration": 0,
    "start_time": "2025-01-03T10:08:56.199Z"
   },
   {
    "duration": 0,
    "start_time": "2025-01-03T10:08:56.201Z"
   },
   {
    "duration": 0,
    "start_time": "2025-01-03T10:08:56.202Z"
   },
   {
    "duration": 0,
    "start_time": "2025-01-03T10:08:56.203Z"
   },
   {
    "duration": 0,
    "start_time": "2025-01-03T10:08:56.204Z"
   },
   {
    "duration": 0,
    "start_time": "2025-01-03T10:08:56.205Z"
   },
   {
    "duration": 0,
    "start_time": "2025-01-03T10:08:56.206Z"
   },
   {
    "duration": 0,
    "start_time": "2025-01-03T10:08:56.207Z"
   },
   {
    "duration": 0,
    "start_time": "2025-01-03T10:08:56.209Z"
   },
   {
    "duration": 0,
    "start_time": "2025-01-03T10:08:56.210Z"
   },
   {
    "duration": 0,
    "start_time": "2025-01-03T10:08:56.211Z"
   },
   {
    "duration": 0,
    "start_time": "2025-01-03T10:08:56.212Z"
   },
   {
    "duration": 0,
    "start_time": "2025-01-03T10:08:56.213Z"
   },
   {
    "duration": 0,
    "start_time": "2025-01-03T10:08:56.214Z"
   },
   {
    "duration": 0,
    "start_time": "2025-01-03T10:08:56.215Z"
   },
   {
    "duration": 0,
    "start_time": "2025-01-03T10:08:56.240Z"
   },
   {
    "duration": 0,
    "start_time": "2025-01-03T10:08:56.241Z"
   },
   {
    "duration": 0,
    "start_time": "2025-01-03T10:08:56.242Z"
   },
   {
    "duration": 0,
    "start_time": "2025-01-03T10:08:56.243Z"
   },
   {
    "duration": 0,
    "start_time": "2025-01-03T10:08:56.245Z"
   },
   {
    "duration": 0,
    "start_time": "2025-01-03T10:08:56.246Z"
   },
   {
    "duration": 0,
    "start_time": "2025-01-03T10:08:56.247Z"
   },
   {
    "duration": 0,
    "start_time": "2025-01-03T10:08:56.248Z"
   },
   {
    "duration": 0,
    "start_time": "2025-01-03T10:08:56.249Z"
   },
   {
    "duration": 0,
    "start_time": "2025-01-03T10:08:56.250Z"
   },
   {
    "duration": 0,
    "start_time": "2025-01-03T10:08:56.251Z"
   },
   {
    "duration": 0,
    "start_time": "2025-01-03T10:08:56.252Z"
   },
   {
    "duration": 0,
    "start_time": "2025-01-03T10:08:56.253Z"
   },
   {
    "duration": 0,
    "start_time": "2025-01-03T10:08:56.254Z"
   },
   {
    "duration": 0,
    "start_time": "2025-01-03T10:08:56.254Z"
   },
   {
    "duration": 0,
    "start_time": "2025-01-03T10:08:56.256Z"
   },
   {
    "duration": 0,
    "start_time": "2025-01-03T10:08:56.257Z"
   },
   {
    "duration": 0,
    "start_time": "2025-01-03T10:08:56.258Z"
   },
   {
    "duration": 0,
    "start_time": "2025-01-03T10:08:56.259Z"
   },
   {
    "duration": 0,
    "start_time": "2025-01-03T10:08:56.260Z"
   },
   {
    "duration": 0,
    "start_time": "2025-01-03T10:08:56.261Z"
   },
   {
    "duration": 1,
    "start_time": "2025-01-03T10:08:56.262Z"
   },
   {
    "duration": 0,
    "start_time": "2025-01-03T10:08:56.264Z"
   },
   {
    "duration": 0,
    "start_time": "2025-01-03T10:08:56.265Z"
   },
   {
    "duration": 0,
    "start_time": "2025-01-03T10:08:56.266Z"
   },
   {
    "duration": 0,
    "start_time": "2025-01-03T10:08:56.267Z"
   },
   {
    "duration": 0,
    "start_time": "2025-01-03T10:08:56.268Z"
   },
   {
    "duration": 0,
    "start_time": "2025-01-03T10:08:56.269Z"
   },
   {
    "duration": 0,
    "start_time": "2025-01-03T10:08:56.270Z"
   },
   {
    "duration": 0,
    "start_time": "2025-01-03T10:08:56.271Z"
   },
   {
    "duration": 0,
    "start_time": "2025-01-03T10:08:56.272Z"
   },
   {
    "duration": 0,
    "start_time": "2025-01-03T10:08:56.273Z"
   },
   {
    "duration": 0,
    "start_time": "2025-01-03T10:08:56.274Z"
   },
   {
    "duration": 0,
    "start_time": "2025-01-03T10:08:56.275Z"
   },
   {
    "duration": 0,
    "start_time": "2025-01-03T10:08:56.276Z"
   },
   {
    "duration": 0,
    "start_time": "2025-01-03T10:08:56.277Z"
   },
   {
    "duration": 0,
    "start_time": "2025-01-03T10:08:56.278Z"
   },
   {
    "duration": 5995,
    "start_time": "2025-01-03T10:11:01.601Z"
   },
   {
    "duration": 4928,
    "start_time": "2025-01-03T10:11:19.873Z"
   },
   {
    "duration": 5018,
    "start_time": "2025-01-03T10:11:48.464Z"
   },
   {
    "duration": 3833,
    "start_time": "2025-01-03T10:15:48.117Z"
   },
   {
    "duration": 152,
    "start_time": "2025-01-03T10:15:51.952Z"
   },
   {
    "duration": 105,
    "start_time": "2025-01-03T10:15:52.106Z"
   },
   {
    "duration": 17,
    "start_time": "2025-01-03T10:15:52.214Z"
   },
   {
    "duration": 31,
    "start_time": "2025-01-03T10:15:52.232Z"
   },
   {
    "duration": 9,
    "start_time": "2025-01-03T10:15:52.265Z"
   },
   {
    "duration": 11,
    "start_time": "2025-01-03T10:15:52.275Z"
   },
   {
    "duration": 73,
    "start_time": "2025-01-03T10:15:52.287Z"
   },
   {
    "duration": 61,
    "start_time": "2025-01-03T10:15:52.362Z"
   },
   {
    "duration": 25,
    "start_time": "2025-01-03T10:15:52.426Z"
   },
   {
    "duration": 16,
    "start_time": "2025-01-03T10:15:52.453Z"
   },
   {
    "duration": 39,
    "start_time": "2025-01-03T10:15:52.471Z"
   },
   {
    "duration": 20,
    "start_time": "2025-01-03T10:15:52.512Z"
   },
   {
    "duration": 24,
    "start_time": "2025-01-03T10:15:52.534Z"
   },
   {
    "duration": 19,
    "start_time": "2025-01-03T10:15:52.560Z"
   },
   {
    "duration": 5,
    "start_time": "2025-01-03T10:15:52.581Z"
   },
   {
    "duration": 33,
    "start_time": "2025-01-03T10:15:52.587Z"
   },
   {
    "duration": 13,
    "start_time": "2025-01-03T10:15:52.621Z"
   },
   {
    "duration": 34,
    "start_time": "2025-01-03T10:15:52.635Z"
   },
   {
    "duration": 4,
    "start_time": "2025-01-03T10:15:52.670Z"
   },
   {
    "duration": 11,
    "start_time": "2025-01-03T10:15:52.676Z"
   },
   {
    "duration": 4861,
    "start_time": "2025-01-03T10:15:52.689Z"
   },
   {
    "duration": 2438,
    "start_time": "2025-01-03T10:15:57.552Z"
   },
   {
    "duration": 8,
    "start_time": "2025-01-03T10:15:59.991Z"
   },
   {
    "duration": 52,
    "start_time": "2025-01-03T10:16:00.000Z"
   },
   {
    "duration": 62,
    "start_time": "2025-01-03T10:16:00.053Z"
   },
   {
    "duration": 33,
    "start_time": "2025-01-03T10:16:00.117Z"
   },
   {
    "duration": 43,
    "start_time": "2025-01-03T10:16:00.154Z"
   },
   {
    "duration": 68,
    "start_time": "2025-01-03T10:16:00.198Z"
   },
   {
    "duration": 40,
    "start_time": "2025-01-03T10:16:00.268Z"
   },
   {
    "duration": 49,
    "start_time": "2025-01-03T10:16:00.309Z"
   },
   {
    "duration": 54,
    "start_time": "2025-01-03T10:16:00.359Z"
   },
   {
    "duration": 237,
    "start_time": "2025-01-03T10:16:00.415Z"
   },
   {
    "duration": 465,
    "start_time": "2025-01-03T10:16:00.654Z"
   },
   {
    "duration": 192,
    "start_time": "2025-01-03T10:16:01.121Z"
   },
   {
    "duration": 256,
    "start_time": "2025-01-03T10:16:01.314Z"
   },
   {
    "duration": 8,
    "start_time": "2025-01-03T10:16:01.571Z"
   },
   {
    "duration": 137,
    "start_time": "2025-01-03T10:16:01.580Z"
   },
   {
    "duration": 30,
    "start_time": "2025-01-03T10:16:01.719Z"
   },
   {
    "duration": 319,
    "start_time": "2025-01-03T10:16:01.751Z"
   },
   {
    "duration": 9,
    "start_time": "2025-01-03T10:16:02.071Z"
   },
   {
    "duration": 206,
    "start_time": "2025-01-03T10:16:02.081Z"
   },
   {
    "duration": 128,
    "start_time": "2025-01-03T10:16:02.289Z"
   },
   {
    "duration": 386,
    "start_time": "2025-01-03T10:16:02.419Z"
   },
   {
    "duration": 189,
    "start_time": "2025-01-03T10:16:02.807Z"
   },
   {
    "duration": 11,
    "start_time": "2025-01-03T10:16:02.998Z"
   },
   {
    "duration": 368,
    "start_time": "2025-01-03T10:16:03.010Z"
   },
   {
    "duration": 324,
    "start_time": "2025-01-03T10:16:03.379Z"
   },
   {
    "duration": 7,
    "start_time": "2025-01-03T10:16:03.705Z"
   },
   {
    "duration": 276,
    "start_time": "2025-01-03T10:16:03.714Z"
   },
   {
    "duration": 294,
    "start_time": "2025-01-03T10:16:03.992Z"
   },
   {
    "duration": 1315,
    "start_time": "2025-01-03T10:16:04.288Z"
   },
   {
    "duration": 7,
    "start_time": "2025-01-03T10:16:05.605Z"
   },
   {
    "duration": 1880,
    "start_time": "2025-01-03T10:17:40.206Z"
   },
   {
    "duration": 3799,
    "start_time": "2025-01-03T10:23:11.005Z"
   },
   {
    "duration": 147,
    "start_time": "2025-01-03T10:23:14.806Z"
   },
   {
    "duration": 62,
    "start_time": "2025-01-03T10:23:14.955Z"
   },
   {
    "duration": 23,
    "start_time": "2025-01-03T10:23:15.019Z"
   },
   {
    "duration": 46,
    "start_time": "2025-01-03T10:23:15.044Z"
   },
   {
    "duration": 63,
    "start_time": "2025-01-03T10:23:15.092Z"
   },
   {
    "duration": 94,
    "start_time": "2025-01-03T10:23:15.157Z"
   },
   {
    "duration": 42,
    "start_time": "2025-01-03T10:23:15.253Z"
   },
   {
    "duration": 67,
    "start_time": "2025-01-03T10:23:15.297Z"
   },
   {
    "duration": 16,
    "start_time": "2025-01-03T10:23:15.366Z"
   },
   {
    "duration": 13,
    "start_time": "2025-01-03T10:23:15.383Z"
   },
   {
    "duration": 16,
    "start_time": "2025-01-03T10:23:15.397Z"
   },
   {
    "duration": 15,
    "start_time": "2025-01-03T10:23:15.415Z"
   },
   {
    "duration": 27,
    "start_time": "2025-01-03T10:23:15.431Z"
   },
   {
    "duration": 12,
    "start_time": "2025-01-03T10:23:15.459Z"
   },
   {
    "duration": 3,
    "start_time": "2025-01-03T10:23:15.473Z"
   },
   {
    "duration": 13,
    "start_time": "2025-01-03T10:23:15.478Z"
   },
   {
    "duration": 7,
    "start_time": "2025-01-03T10:23:15.493Z"
   },
   {
    "duration": 15,
    "start_time": "2025-01-03T10:23:15.501Z"
   },
   {
    "duration": 33,
    "start_time": "2025-01-03T10:23:15.517Z"
   },
   {
    "duration": 9,
    "start_time": "2025-01-03T10:23:15.552Z"
   },
   {
    "duration": 4771,
    "start_time": "2025-01-03T10:23:15.563Z"
   },
   {
    "duration": 2393,
    "start_time": "2025-01-03T10:23:20.337Z"
   },
   {
    "duration": 18,
    "start_time": "2025-01-03T10:23:22.736Z"
   },
   {
    "duration": 34,
    "start_time": "2025-01-03T10:23:22.756Z"
   },
   {
    "duration": 18,
    "start_time": "2025-01-03T10:23:22.792Z"
   },
   {
    "duration": 37,
    "start_time": "2025-01-03T10:23:22.811Z"
   },
   {
    "duration": 51,
    "start_time": "2025-01-03T10:23:22.853Z"
   },
   {
    "duration": 11,
    "start_time": "2025-01-03T10:23:22.906Z"
   },
   {
    "duration": 9,
    "start_time": "2025-01-03T10:23:22.919Z"
   },
   {
    "duration": 24,
    "start_time": "2025-01-03T10:23:22.930Z"
   },
   {
    "duration": 14,
    "start_time": "2025-01-03T10:23:22.956Z"
   },
   {
    "duration": 194,
    "start_time": "2025-01-03T10:23:22.972Z"
   },
   {
    "duration": 443,
    "start_time": "2025-01-03T10:23:23.168Z"
   },
   {
    "duration": 185,
    "start_time": "2025-01-03T10:23:23.613Z"
   },
   {
    "duration": 233,
    "start_time": "2025-01-03T10:23:23.800Z"
   },
   {
    "duration": 12,
    "start_time": "2025-01-03T10:23:24.044Z"
   },
   {
    "duration": 194,
    "start_time": "2025-01-03T10:23:24.057Z"
   },
   {
    "duration": 14,
    "start_time": "2025-01-03T10:23:24.253Z"
   },
   {
    "duration": 244,
    "start_time": "2025-01-03T10:23:24.268Z"
   },
   {
    "duration": 9,
    "start_time": "2025-01-03T10:23:24.514Z"
   },
   {
    "duration": 185,
    "start_time": "2025-01-03T10:23:24.524Z"
   },
   {
    "duration": 141,
    "start_time": "2025-01-03T10:23:24.710Z"
   },
   {
    "duration": 236,
    "start_time": "2025-01-03T10:23:24.853Z"
   },
   {
    "duration": 174,
    "start_time": "2025-01-03T10:23:25.090Z"
   },
   {
    "duration": 11,
    "start_time": "2025-01-03T10:23:25.265Z"
   },
   {
    "duration": 350,
    "start_time": "2025-01-03T10:23:25.278Z"
   },
   {
    "duration": 326,
    "start_time": "2025-01-03T10:23:25.637Z"
   },
   {
    "duration": 8,
    "start_time": "2025-01-03T10:23:25.966Z"
   },
   {
    "duration": 254,
    "start_time": "2025-01-03T10:23:25.975Z"
   },
   {
    "duration": 296,
    "start_time": "2025-01-03T10:23:26.236Z"
   },
   {
    "duration": 1214,
    "start_time": "2025-01-03T10:23:26.537Z"
   },
   {
    "duration": 9,
    "start_time": "2025-01-03T10:23:27.753Z"
   },
   {
    "duration": 12,
    "start_time": "2025-01-03T10:24:36.331Z"
   },
   {
    "duration": 5028,
    "start_time": "2025-01-03T10:25:27.993Z"
   },
   {
    "duration": 3758,
    "start_time": "2025-01-03T10:25:48.135Z"
   },
   {
    "duration": 153,
    "start_time": "2025-01-03T10:25:51.896Z"
   },
   {
    "duration": 71,
    "start_time": "2025-01-03T10:25:52.051Z"
   },
   {
    "duration": 26,
    "start_time": "2025-01-03T10:25:52.124Z"
   },
   {
    "duration": 16,
    "start_time": "2025-01-03T10:25:52.152Z"
   },
   {
    "duration": 14,
    "start_time": "2025-01-03T10:25:52.170Z"
   },
   {
    "duration": 33,
    "start_time": "2025-01-03T10:25:52.186Z"
   },
   {
    "duration": 8,
    "start_time": "2025-01-03T10:25:52.220Z"
   },
   {
    "duration": 6,
    "start_time": "2025-01-03T10:25:52.230Z"
   },
   {
    "duration": 23,
    "start_time": "2025-01-03T10:25:52.250Z"
   },
   {
    "duration": 27,
    "start_time": "2025-01-03T10:25:52.274Z"
   },
   {
    "duration": 60,
    "start_time": "2025-01-03T10:25:52.302Z"
   },
   {
    "duration": 39,
    "start_time": "2025-01-03T10:25:52.363Z"
   },
   {
    "duration": 59,
    "start_time": "2025-01-03T10:25:52.404Z"
   },
   {
    "duration": 24,
    "start_time": "2025-01-03T10:25:52.465Z"
   },
   {
    "duration": 7,
    "start_time": "2025-01-03T10:25:52.491Z"
   },
   {
    "duration": 20,
    "start_time": "2025-01-03T10:25:52.499Z"
   },
   {
    "duration": 4,
    "start_time": "2025-01-03T10:25:52.521Z"
   },
   {
    "duration": 22,
    "start_time": "2025-01-03T10:25:52.527Z"
   },
   {
    "duration": 3,
    "start_time": "2025-01-03T10:25:52.551Z"
   },
   {
    "duration": 29,
    "start_time": "2025-01-03T10:25:52.556Z"
   },
   {
    "duration": 4671,
    "start_time": "2025-01-03T10:25:52.587Z"
   },
   {
    "duration": 2372,
    "start_time": "2025-01-03T10:25:57.261Z"
   },
   {
    "duration": 17,
    "start_time": "2025-01-03T10:25:59.637Z"
   },
   {
    "duration": 42,
    "start_time": "2025-01-03T10:25:59.656Z"
   },
   {
    "duration": 48,
    "start_time": "2025-01-03T10:25:59.700Z"
   },
   {
    "duration": 8,
    "start_time": "2025-01-03T10:25:59.751Z"
   },
   {
    "duration": 8,
    "start_time": "2025-01-03T10:25:59.762Z"
   },
   {
    "duration": 9,
    "start_time": "2025-01-03T10:25:59.771Z"
   },
   {
    "duration": 29,
    "start_time": "2025-01-03T10:25:59.782Z"
   },
   {
    "duration": 6,
    "start_time": "2025-01-03T10:25:59.813Z"
   },
   {
    "duration": 7,
    "start_time": "2025-01-03T10:25:59.821Z"
   },
   {
    "duration": 184,
    "start_time": "2025-01-03T10:25:59.829Z"
   },
   {
    "duration": 465,
    "start_time": "2025-01-03T10:26:00.015Z"
   },
   {
    "duration": 190,
    "start_time": "2025-01-03T10:26:00.482Z"
   },
   {
    "duration": 247,
    "start_time": "2025-01-03T10:26:00.673Z"
   },
   {
    "duration": 7,
    "start_time": "2025-01-03T10:26:00.922Z"
   },
   {
    "duration": 130,
    "start_time": "2025-01-03T10:26:00.938Z"
   },
   {
    "duration": 13,
    "start_time": "2025-01-03T10:26:01.070Z"
   },
   {
    "duration": 255,
    "start_time": "2025-01-03T10:26:01.085Z"
   },
   {
    "duration": 11,
    "start_time": "2025-01-03T10:26:01.341Z"
   },
   {
    "duration": 199,
    "start_time": "2025-01-03T10:26:01.354Z"
   },
   {
    "duration": 121,
    "start_time": "2025-01-03T10:26:01.555Z"
   },
   {
    "duration": 239,
    "start_time": "2025-01-03T10:26:01.678Z"
   },
   {
    "duration": 177,
    "start_time": "2025-01-03T10:26:01.919Z"
   },
   {
    "duration": 10,
    "start_time": "2025-01-03T10:26:02.098Z"
   },
   {
    "duration": 361,
    "start_time": "2025-01-03T10:26:02.110Z"
   },
   {
    "duration": 312,
    "start_time": "2025-01-03T10:26:02.473Z"
   },
   {
    "duration": 7,
    "start_time": "2025-01-03T10:26:02.787Z"
   },
   {
    "duration": 319,
    "start_time": "2025-01-03T10:26:02.795Z"
   },
   {
    "duration": 295,
    "start_time": "2025-01-03T10:26:03.115Z"
   },
   {
    "duration": 1221,
    "start_time": "2025-01-03T10:26:03.412Z"
   },
   {
    "duration": 7,
    "start_time": "2025-01-03T10:26:04.650Z"
   },
   {
    "duration": 122,
    "start_time": "2025-01-03T10:26:39.070Z"
   },
   {
    "duration": 4631,
    "start_time": "2025-01-03T10:27:00.661Z"
   },
   {
    "duration": 22,
    "start_time": "2025-01-03T10:28:27.483Z"
   },
   {
    "duration": 2040,
    "start_time": "2025-01-03T10:32:08.449Z"
   },
   {
    "duration": 3881,
    "start_time": "2025-01-03T10:32:15.302Z"
   },
   {
    "duration": 133,
    "start_time": "2025-01-03T10:32:19.185Z"
   },
   {
    "duration": 73,
    "start_time": "2025-01-03T10:32:19.319Z"
   },
   {
    "duration": 18,
    "start_time": "2025-01-03T10:32:19.394Z"
   },
   {
    "duration": 26,
    "start_time": "2025-01-03T10:32:19.413Z"
   },
   {
    "duration": 16,
    "start_time": "2025-01-03T10:32:19.441Z"
   },
   {
    "duration": 21,
    "start_time": "2025-01-03T10:32:19.459Z"
   },
   {
    "duration": 6,
    "start_time": "2025-01-03T10:32:19.482Z"
   },
   {
    "duration": 5,
    "start_time": "2025-01-03T10:32:19.489Z"
   },
   {
    "duration": 4,
    "start_time": "2025-01-03T10:32:19.497Z"
   },
   {
    "duration": 5,
    "start_time": "2025-01-03T10:32:19.503Z"
   },
   {
    "duration": 43,
    "start_time": "2025-01-03T10:32:19.510Z"
   },
   {
    "duration": 21,
    "start_time": "2025-01-03T10:32:19.555Z"
   },
   {
    "duration": 38,
    "start_time": "2025-01-03T10:32:19.578Z"
   },
   {
    "duration": 17,
    "start_time": "2025-01-03T10:32:19.617Z"
   },
   {
    "duration": 14,
    "start_time": "2025-01-03T10:32:19.635Z"
   },
   {
    "duration": 30,
    "start_time": "2025-01-03T10:32:19.651Z"
   },
   {
    "duration": 4,
    "start_time": "2025-01-03T10:32:19.682Z"
   },
   {
    "duration": 12,
    "start_time": "2025-01-03T10:32:19.688Z"
   },
   {
    "duration": 3,
    "start_time": "2025-01-03T10:32:19.702Z"
   },
   {
    "duration": 7,
    "start_time": "2025-01-03T10:32:19.707Z"
   },
   {
    "duration": 1901,
    "start_time": "2025-01-03T10:32:19.716Z"
   },
   {
    "duration": 2142,
    "start_time": "2025-01-03T10:32:21.619Z"
   },
   {
    "duration": 9,
    "start_time": "2025-01-03T10:32:23.762Z"
   },
   {
    "duration": 23,
    "start_time": "2025-01-03T10:32:23.773Z"
   },
   {
    "duration": 47,
    "start_time": "2025-01-03T10:32:23.797Z"
   },
   {
    "duration": 20,
    "start_time": "2025-01-03T10:32:23.846Z"
   },
   {
    "duration": 7,
    "start_time": "2025-01-03T10:32:23.869Z"
   },
   {
    "duration": 15,
    "start_time": "2025-01-03T10:32:23.878Z"
   },
   {
    "duration": 24,
    "start_time": "2025-01-03T10:32:23.894Z"
   },
   {
    "duration": 14,
    "start_time": "2025-01-03T10:32:23.920Z"
   },
   {
    "duration": 15,
    "start_time": "2025-01-03T10:32:23.935Z"
   },
   {
    "duration": 185,
    "start_time": "2025-01-03T10:32:23.951Z"
   },
   {
    "duration": 535,
    "start_time": "2025-01-03T10:32:24.142Z"
   },
   {
    "duration": 187,
    "start_time": "2025-01-03T10:32:24.679Z"
   },
   {
    "duration": 224,
    "start_time": "2025-01-03T10:32:24.868Z"
   },
   {
    "duration": 7,
    "start_time": "2025-01-03T10:32:25.094Z"
   },
   {
    "duration": 150,
    "start_time": "2025-01-03T10:32:25.103Z"
   },
   {
    "duration": 13,
    "start_time": "2025-01-03T10:32:25.256Z"
   },
   {
    "duration": 238,
    "start_time": "2025-01-03T10:32:25.271Z"
   },
   {
    "duration": 9,
    "start_time": "2025-01-03T10:32:25.510Z"
   },
   {
    "duration": 189,
    "start_time": "2025-01-03T10:32:25.521Z"
   },
   {
    "duration": 122,
    "start_time": "2025-01-03T10:32:25.711Z"
   },
   {
    "duration": 235,
    "start_time": "2025-01-03T10:32:25.840Z"
   },
   {
    "duration": 175,
    "start_time": "2025-01-03T10:32:26.076Z"
   },
   {
    "duration": 11,
    "start_time": "2025-01-03T10:32:26.253Z"
   },
   {
    "duration": 403,
    "start_time": "2025-01-03T10:32:26.265Z"
   },
   {
    "duration": 298,
    "start_time": "2025-01-03T10:32:26.670Z"
   },
   {
    "duration": 6,
    "start_time": "2025-01-03T10:32:26.970Z"
   },
   {
    "duration": 271,
    "start_time": "2025-01-03T10:32:26.978Z"
   },
   {
    "duration": 297,
    "start_time": "2025-01-03T10:32:27.251Z"
   },
   {
    "duration": 1224,
    "start_time": "2025-01-03T10:32:27.550Z"
   },
   {
    "duration": 7,
    "start_time": "2025-01-03T10:32:28.776Z"
   },
   {
    "duration": 1959,
    "start_time": "2025-01-03T10:34:49.530Z"
   },
   {
    "duration": 124,
    "start_time": "2025-01-03T10:35:47.954Z"
   },
   {
    "duration": 14,
    "start_time": "2025-01-03T10:36:51.091Z"
   },
   {
    "duration": 15,
    "start_time": "2025-01-03T10:37:22.153Z"
   },
   {
    "duration": 17,
    "start_time": "2025-01-03T10:38:52.168Z"
   },
   {
    "duration": 29,
    "start_time": "2025-01-03T10:39:07.620Z"
   },
   {
    "duration": 2997,
    "start_time": "2025-01-03T10:40:26.616Z"
   },
   {
    "duration": 15,
    "start_time": "2025-01-03T10:41:57.518Z"
   },
   {
    "duration": 9,
    "start_time": "2025-01-03T10:42:08.184Z"
   },
   {
    "duration": 9,
    "start_time": "2025-01-03T10:42:51.496Z"
   },
   {
    "duration": 11,
    "start_time": "2025-01-03T10:43:08.429Z"
   },
   {
    "duration": 3681,
    "start_time": "2025-01-03T10:45:10.474Z"
   },
   {
    "duration": 178,
    "start_time": "2025-01-03T10:45:14.157Z"
   },
   {
    "duration": 79,
    "start_time": "2025-01-03T10:45:14.337Z"
   },
   {
    "duration": 18,
    "start_time": "2025-01-03T10:45:14.418Z"
   },
   {
    "duration": 16,
    "start_time": "2025-01-03T10:45:14.438Z"
   },
   {
    "duration": 10,
    "start_time": "2025-01-03T10:45:14.455Z"
   },
   {
    "duration": 13,
    "start_time": "2025-01-03T10:45:14.467Z"
   },
   {
    "duration": 29,
    "start_time": "2025-01-03T10:45:14.482Z"
   },
   {
    "duration": 12,
    "start_time": "2025-01-03T10:45:14.513Z"
   },
   {
    "duration": 9,
    "start_time": "2025-01-03T10:45:14.528Z"
   },
   {
    "duration": 4,
    "start_time": "2025-01-03T10:45:14.539Z"
   },
   {
    "duration": 20,
    "start_time": "2025-01-03T10:45:14.544Z"
   },
   {
    "duration": 15,
    "start_time": "2025-01-03T10:45:14.566Z"
   },
   {
    "duration": 14,
    "start_time": "2025-01-03T10:45:14.583Z"
   },
   {
    "duration": 14,
    "start_time": "2025-01-03T10:45:14.599Z"
   },
   {
    "duration": 24,
    "start_time": "2025-01-03T10:45:14.615Z"
   },
   {
    "duration": 18,
    "start_time": "2025-01-03T10:45:14.641Z"
   },
   {
    "duration": 4,
    "start_time": "2025-01-03T10:45:14.661Z"
   },
   {
    "duration": 13,
    "start_time": "2025-01-03T10:45:14.666Z"
   },
   {
    "duration": 17,
    "start_time": "2025-01-03T10:45:14.681Z"
   },
   {
    "duration": 16,
    "start_time": "2025-01-03T10:45:14.699Z"
   },
   {
    "duration": 22,
    "start_time": "2025-01-03T10:45:14.717Z"
   },
   {
    "duration": 2050,
    "start_time": "2025-01-03T10:45:14.741Z"
   },
   {
    "duration": 9,
    "start_time": "2025-01-03T10:45:16.793Z"
   },
   {
    "duration": 47,
    "start_time": "2025-01-03T10:45:16.804Z"
   },
   {
    "duration": 40,
    "start_time": "2025-01-03T10:45:16.853Z"
   },
   {
    "duration": 8,
    "start_time": "2025-01-03T10:45:16.895Z"
   },
   {
    "duration": 8,
    "start_time": "2025-01-03T10:45:16.908Z"
   },
   {
    "duration": 47,
    "start_time": "2025-01-03T10:45:16.918Z"
   },
   {
    "duration": 74,
    "start_time": "2025-01-03T10:45:16.967Z"
   },
   {
    "duration": 16,
    "start_time": "2025-01-03T10:45:17.043Z"
   },
   {
    "duration": 12,
    "start_time": "2025-01-03T10:45:17.061Z"
   },
   {
    "duration": 194,
    "start_time": "2025-01-03T10:45:17.075Z"
   },
   {
    "duration": 452,
    "start_time": "2025-01-03T10:45:17.270Z"
   },
   {
    "duration": 186,
    "start_time": "2025-01-03T10:45:17.723Z"
   },
   {
    "duration": 231,
    "start_time": "2025-01-03T10:45:17.912Z"
   },
   {
    "duration": 8,
    "start_time": "2025-01-03T10:45:18.145Z"
   },
   {
    "duration": 158,
    "start_time": "2025-01-03T10:45:18.155Z"
   },
   {
    "duration": 23,
    "start_time": "2025-01-03T10:45:18.315Z"
   },
   {
    "duration": 259,
    "start_time": "2025-01-03T10:45:18.339Z"
   },
   {
    "duration": 10,
    "start_time": "2025-01-03T10:45:18.600Z"
   },
   {
    "duration": 195,
    "start_time": "2025-01-03T10:45:18.611Z"
   },
   {
    "duration": 218,
    "start_time": "2025-01-03T10:45:18.808Z"
   },
   {
    "duration": 240,
    "start_time": "2025-01-03T10:45:19.036Z"
   },
   {
    "duration": 173,
    "start_time": "2025-01-03T10:45:19.278Z"
   },
   {
    "duration": 11,
    "start_time": "2025-01-03T10:45:19.452Z"
   },
   {
    "duration": 346,
    "start_time": "2025-01-03T10:45:19.465Z"
   },
   {
    "duration": 171,
    "start_time": "2025-01-03T10:45:19.813Z"
   },
   {
    "duration": 6,
    "start_time": "2025-01-03T10:45:19.986Z"
   },
   {
    "duration": 262,
    "start_time": "2025-01-03T10:45:19.994Z"
   },
   {
    "duration": 309,
    "start_time": "2025-01-03T10:45:20.258Z"
   },
   {
    "duration": 1305,
    "start_time": "2025-01-03T10:45:20.569Z"
   },
   {
    "duration": 8,
    "start_time": "2025-01-03T10:45:21.875Z"
   },
   {
    "duration": 3754,
    "start_time": "2025-01-03T10:48:32.771Z"
   },
   {
    "duration": 131,
    "start_time": "2025-01-03T10:48:36.528Z"
   },
   {
    "duration": 61,
    "start_time": "2025-01-03T10:48:36.661Z"
   },
   {
    "duration": 21,
    "start_time": "2025-01-03T10:48:36.725Z"
   },
   {
    "duration": 40,
    "start_time": "2025-01-03T10:48:36.748Z"
   },
   {
    "duration": 16,
    "start_time": "2025-01-03T10:48:36.790Z"
   },
   {
    "duration": 20,
    "start_time": "2025-01-03T10:48:36.808Z"
   },
   {
    "duration": 19,
    "start_time": "2025-01-03T10:48:36.830Z"
   },
   {
    "duration": 45,
    "start_time": "2025-01-03T10:48:36.851Z"
   },
   {
    "duration": 13,
    "start_time": "2025-01-03T10:48:36.900Z"
   },
   {
    "duration": 7,
    "start_time": "2025-01-03T10:48:36.916Z"
   },
   {
    "duration": 21,
    "start_time": "2025-01-03T10:48:36.926Z"
   },
   {
    "duration": 79,
    "start_time": "2025-01-03T10:48:36.950Z"
   },
   {
    "duration": 70,
    "start_time": "2025-01-03T10:48:37.031Z"
   },
   {
    "duration": 15,
    "start_time": "2025-01-03T10:48:37.103Z"
   },
   {
    "duration": 5,
    "start_time": "2025-01-03T10:48:37.120Z"
   },
   {
    "duration": 21,
    "start_time": "2025-01-03T10:48:37.126Z"
   },
   {
    "duration": 22,
    "start_time": "2025-01-03T10:48:37.149Z"
   },
   {
    "duration": 30,
    "start_time": "2025-01-03T10:48:37.174Z"
   },
   {
    "duration": 5,
    "start_time": "2025-01-03T10:48:37.207Z"
   },
   {
    "duration": 16,
    "start_time": "2025-01-03T10:48:37.214Z"
   },
   {
    "duration": 16,
    "start_time": "2025-01-03T10:48:37.232Z"
   },
   {
    "duration": 2097,
    "start_time": "2025-01-03T10:48:37.250Z"
   },
   {
    "duration": 9,
    "start_time": "2025-01-03T10:48:39.348Z"
   },
   {
    "duration": 8,
    "start_time": "2025-01-03T10:48:39.359Z"
   },
   {
    "duration": 15,
    "start_time": "2025-01-03T10:48:39.369Z"
   },
   {
    "duration": 8,
    "start_time": "2025-01-03T10:48:39.386Z"
   },
   {
    "duration": 46,
    "start_time": "2025-01-03T10:48:39.398Z"
   },
   {
    "duration": 7,
    "start_time": "2025-01-03T10:48:39.446Z"
   },
   {
    "duration": 12,
    "start_time": "2025-01-03T10:48:39.455Z"
   },
   {
    "duration": 13,
    "start_time": "2025-01-03T10:48:39.469Z"
   },
   {
    "duration": 22,
    "start_time": "2025-01-03T10:48:39.483Z"
   },
   {
    "duration": 217,
    "start_time": "2025-01-03T10:48:39.507Z"
   },
   {
    "duration": 468,
    "start_time": "2025-01-03T10:48:39.726Z"
   },
   {
    "duration": 191,
    "start_time": "2025-01-03T10:48:40.196Z"
   },
   {
    "duration": 277,
    "start_time": "2025-01-03T10:48:40.390Z"
   },
   {
    "duration": 12,
    "start_time": "2025-01-03T10:48:40.669Z"
   },
   {
    "duration": 131,
    "start_time": "2025-01-03T10:48:40.683Z"
   },
   {
    "duration": 25,
    "start_time": "2025-01-03T10:48:40.816Z"
   },
   {
    "duration": 264,
    "start_time": "2025-01-03T10:48:40.843Z"
   },
   {
    "duration": 13,
    "start_time": "2025-01-03T10:48:41.110Z"
   },
   {
    "duration": 194,
    "start_time": "2025-01-03T10:48:41.137Z"
   },
   {
    "duration": 227,
    "start_time": "2025-01-03T10:48:41.333Z"
   },
   {
    "duration": 240,
    "start_time": "2025-01-03T10:48:41.562Z"
   },
   {
    "duration": 194,
    "start_time": "2025-01-03T10:48:41.803Z"
   },
   {
    "duration": 13,
    "start_time": "2025-01-03T10:48:41.998Z"
   },
   {
    "duration": 373,
    "start_time": "2025-01-03T10:48:42.012Z"
   },
   {
    "duration": 201,
    "start_time": "2025-01-03T10:48:42.387Z"
   },
   {
    "duration": 8,
    "start_time": "2025-01-03T10:48:42.589Z"
   },
   {
    "duration": 266,
    "start_time": "2025-01-03T10:48:42.599Z"
   },
   {
    "duration": 301,
    "start_time": "2025-01-03T10:48:42.867Z"
   },
   {
    "duration": 1321,
    "start_time": "2025-01-03T10:48:43.169Z"
   },
   {
    "duration": 10,
    "start_time": "2025-01-03T10:48:44.492Z"
   },
   {
    "duration": 12,
    "start_time": "2025-01-03T10:49:30.395Z"
   },
   {
    "duration": 13,
    "start_time": "2025-01-03T10:49:37.403Z"
   },
   {
    "duration": 93,
    "start_time": "2025-01-03T10:52:13.401Z"
   },
   {
    "duration": 97,
    "start_time": "2025-01-03T10:52:51.355Z"
   },
   {
    "duration": 11,
    "start_time": "2025-01-03T10:53:01.974Z"
   },
   {
    "duration": 3733,
    "start_time": "2025-01-03T10:53:19.198Z"
   },
   {
    "duration": 123,
    "start_time": "2025-01-03T10:53:22.933Z"
   },
   {
    "duration": 55,
    "start_time": "2025-01-03T10:53:23.058Z"
   },
   {
    "duration": 16,
    "start_time": "2025-01-03T10:53:23.115Z"
   },
   {
    "duration": 14,
    "start_time": "2025-01-03T10:53:23.132Z"
   },
   {
    "duration": 9,
    "start_time": "2025-01-03T10:53:23.148Z"
   },
   {
    "duration": 13,
    "start_time": "2025-01-03T10:53:23.159Z"
   },
   {
    "duration": 5,
    "start_time": "2025-01-03T10:53:23.174Z"
   },
   {
    "duration": 5,
    "start_time": "2025-01-03T10:53:23.180Z"
   },
   {
    "duration": 7,
    "start_time": "2025-01-03T10:53:23.187Z"
   },
   {
    "duration": 4,
    "start_time": "2025-01-03T10:53:23.195Z"
   },
   {
    "duration": 40,
    "start_time": "2025-01-03T10:53:23.201Z"
   },
   {
    "duration": 15,
    "start_time": "2025-01-03T10:53:23.243Z"
   },
   {
    "duration": 18,
    "start_time": "2025-01-03T10:53:23.259Z"
   },
   {
    "duration": 12,
    "start_time": "2025-01-03T10:53:23.279Z"
   },
   {
    "duration": 4,
    "start_time": "2025-01-03T10:53:23.293Z"
   },
   {
    "duration": 40,
    "start_time": "2025-01-03T10:53:23.298Z"
   },
   {
    "duration": 4,
    "start_time": "2025-01-03T10:53:23.340Z"
   },
   {
    "duration": 34,
    "start_time": "2025-01-03T10:53:23.345Z"
   },
   {
    "duration": 7,
    "start_time": "2025-01-03T10:53:23.381Z"
   },
   {
    "duration": 10,
    "start_time": "2025-01-03T10:53:23.390Z"
   },
   {
    "duration": 13,
    "start_time": "2025-01-03T10:53:23.402Z"
   },
   {
    "duration": 1995,
    "start_time": "2025-01-03T10:53:23.417Z"
   },
   {
    "duration": 8,
    "start_time": "2025-01-03T10:53:25.413Z"
   },
   {
    "duration": 20,
    "start_time": "2025-01-03T10:53:25.423Z"
   },
   {
    "duration": 14,
    "start_time": "2025-01-03T10:53:25.445Z"
   },
   {
    "duration": 7,
    "start_time": "2025-01-03T10:53:25.461Z"
   },
   {
    "duration": 7,
    "start_time": "2025-01-03T10:53:25.471Z"
   },
   {
    "duration": 7,
    "start_time": "2025-01-03T10:53:25.479Z"
   },
   {
    "duration": 9,
    "start_time": "2025-01-03T10:53:25.487Z"
   },
   {
    "duration": 6,
    "start_time": "2025-01-03T10:53:25.497Z"
   },
   {
    "duration": 37,
    "start_time": "2025-01-03T10:53:25.504Z"
   },
   {
    "duration": 199,
    "start_time": "2025-01-03T10:53:25.543Z"
   },
   {
    "duration": 427,
    "start_time": "2025-01-03T10:53:25.744Z"
   },
   {
    "duration": 176,
    "start_time": "2025-01-03T10:53:26.172Z"
   },
   {
    "duration": 248,
    "start_time": "2025-01-03T10:53:26.350Z"
   },
   {
    "duration": 7,
    "start_time": "2025-01-03T10:53:26.600Z"
   },
   {
    "duration": 151,
    "start_time": "2025-01-03T10:53:26.609Z"
   },
   {
    "duration": 12,
    "start_time": "2025-01-03T10:53:26.762Z"
   },
   {
    "duration": 245,
    "start_time": "2025-01-03T10:53:26.775Z"
   },
   {
    "duration": 17,
    "start_time": "2025-01-03T10:53:27.021Z"
   },
   {
    "duration": 194,
    "start_time": "2025-01-03T10:53:27.039Z"
   },
   {
    "duration": 203,
    "start_time": "2025-01-03T10:53:27.234Z"
   },
   {
    "duration": 250,
    "start_time": "2025-01-03T10:53:27.438Z"
   },
   {
    "duration": 173,
    "start_time": "2025-01-03T10:53:27.690Z"
   },
   {
    "duration": 12,
    "start_time": "2025-01-03T10:53:27.865Z"
   },
   {
    "duration": 404,
    "start_time": "2025-01-03T10:53:27.879Z"
   },
   {
    "duration": 171,
    "start_time": "2025-01-03T10:53:28.285Z"
   },
   {
    "duration": 7,
    "start_time": "2025-01-03T10:53:28.457Z"
   },
   {
    "duration": 257,
    "start_time": "2025-01-03T10:53:28.466Z"
   },
   {
    "duration": 289,
    "start_time": "2025-01-03T10:53:28.725Z"
   },
   {
    "duration": 1250,
    "start_time": "2025-01-03T10:53:29.016Z"
   },
   {
    "duration": 8,
    "start_time": "2025-01-03T10:53:30.267Z"
   },
   {
    "duration": 17,
    "start_time": "2025-01-03T10:54:16.885Z"
   },
   {
    "duration": 114,
    "start_time": "2025-01-03T10:56:59.137Z"
   },
   {
    "duration": 3602,
    "start_time": "2025-01-03T10:58:24.269Z"
   },
   {
    "duration": 118,
    "start_time": "2025-01-03T10:58:27.873Z"
   },
   {
    "duration": 69,
    "start_time": "2025-01-03T10:58:27.993Z"
   },
   {
    "duration": 16,
    "start_time": "2025-01-03T10:58:28.064Z"
   },
   {
    "duration": 15,
    "start_time": "2025-01-03T10:58:28.081Z"
   },
   {
    "duration": 10,
    "start_time": "2025-01-03T10:58:28.098Z"
   },
   {
    "duration": 19,
    "start_time": "2025-01-03T10:58:28.110Z"
   },
   {
    "duration": 9,
    "start_time": "2025-01-03T10:58:28.131Z"
   },
   {
    "duration": 12,
    "start_time": "2025-01-03T10:58:28.141Z"
   },
   {
    "duration": 19,
    "start_time": "2025-01-03T10:58:28.155Z"
   },
   {
    "duration": 3,
    "start_time": "2025-01-03T10:58:28.176Z"
   },
   {
    "duration": 15,
    "start_time": "2025-01-03T10:58:28.181Z"
   },
   {
    "duration": 18,
    "start_time": "2025-01-03T10:58:28.197Z"
   },
   {
    "duration": 14,
    "start_time": "2025-01-03T10:58:28.216Z"
   },
   {
    "duration": 13,
    "start_time": "2025-01-03T10:58:28.238Z"
   },
   {
    "duration": 4,
    "start_time": "2025-01-03T10:58:28.252Z"
   },
   {
    "duration": 17,
    "start_time": "2025-01-03T10:58:28.257Z"
   },
   {
    "duration": 4,
    "start_time": "2025-01-03T10:58:28.275Z"
   },
   {
    "duration": 28,
    "start_time": "2025-01-03T10:58:28.281Z"
   },
   {
    "duration": 32,
    "start_time": "2025-01-03T10:58:28.311Z"
   },
   {
    "duration": 38,
    "start_time": "2025-01-03T10:58:28.346Z"
   },
   {
    "duration": 161,
    "start_time": "2025-01-03T10:58:28.386Z"
   },
   {
    "duration": 0,
    "start_time": "2025-01-03T10:58:28.550Z"
   },
   {
    "duration": 0,
    "start_time": "2025-01-03T10:58:28.551Z"
   },
   {
    "duration": 0,
    "start_time": "2025-01-03T10:58:28.552Z"
   },
   {
    "duration": 0,
    "start_time": "2025-01-03T10:58:28.553Z"
   },
   {
    "duration": 0,
    "start_time": "2025-01-03T10:58:28.554Z"
   },
   {
    "duration": 0,
    "start_time": "2025-01-03T10:58:28.555Z"
   },
   {
    "duration": 0,
    "start_time": "2025-01-03T10:58:28.556Z"
   },
   {
    "duration": 0,
    "start_time": "2025-01-03T10:58:28.556Z"
   },
   {
    "duration": 0,
    "start_time": "2025-01-03T10:58:28.557Z"
   },
   {
    "duration": 0,
    "start_time": "2025-01-03T10:58:28.559Z"
   },
   {
    "duration": 1,
    "start_time": "2025-01-03T10:58:28.559Z"
   },
   {
    "duration": 0,
    "start_time": "2025-01-03T10:58:28.561Z"
   },
   {
    "duration": 0,
    "start_time": "2025-01-03T10:58:28.562Z"
   },
   {
    "duration": 0,
    "start_time": "2025-01-03T10:58:28.563Z"
   },
   {
    "duration": 0,
    "start_time": "2025-01-03T10:58:28.564Z"
   },
   {
    "duration": 0,
    "start_time": "2025-01-03T10:58:28.565Z"
   },
   {
    "duration": 0,
    "start_time": "2025-01-03T10:58:28.566Z"
   },
   {
    "duration": 0,
    "start_time": "2025-01-03T10:58:28.567Z"
   },
   {
    "duration": 0,
    "start_time": "2025-01-03T10:58:28.568Z"
   },
   {
    "duration": 1,
    "start_time": "2025-01-03T10:58:28.569Z"
   },
   {
    "duration": 1,
    "start_time": "2025-01-03T10:58:28.570Z"
   },
   {
    "duration": 0,
    "start_time": "2025-01-03T10:58:28.572Z"
   },
   {
    "duration": 0,
    "start_time": "2025-01-03T10:58:28.572Z"
   },
   {
    "duration": 0,
    "start_time": "2025-01-03T10:58:28.574Z"
   },
   {
    "duration": 0,
    "start_time": "2025-01-03T10:58:28.575Z"
   },
   {
    "duration": 0,
    "start_time": "2025-01-03T10:58:28.576Z"
   },
   {
    "duration": 0,
    "start_time": "2025-01-03T10:58:28.577Z"
   },
   {
    "duration": 0,
    "start_time": "2025-01-03T10:58:28.579Z"
   },
   {
    "duration": 0,
    "start_time": "2025-01-03T10:58:28.580Z"
   },
   {
    "duration": 0,
    "start_time": "2025-01-03T10:58:28.581Z"
   },
   {
    "duration": 0,
    "start_time": "2025-01-03T10:58:28.582Z"
   },
   {
    "duration": 4401,
    "start_time": "2025-01-03T10:59:48.312Z"
   },
   {
    "duration": 4226,
    "start_time": "2025-01-03T11:01:45.894Z"
   },
   {
    "duration": 12,
    "start_time": "2025-01-03T11:02:53.794Z"
   },
   {
    "duration": 9,
    "start_time": "2025-01-03T11:03:07.375Z"
   },
   {
    "duration": 9,
    "start_time": "2025-01-03T11:03:12.460Z"
   },
   {
    "duration": 8,
    "start_time": "2025-01-03T11:03:13.090Z"
   },
   {
    "duration": 3669,
    "start_time": "2025-01-03T11:03:21.642Z"
   },
   {
    "duration": 107,
    "start_time": "2025-01-03T11:03:25.313Z"
   },
   {
    "duration": 54,
    "start_time": "2025-01-03T11:03:25.421Z"
   },
   {
    "duration": 16,
    "start_time": "2025-01-03T11:03:25.477Z"
   },
   {
    "duration": 14,
    "start_time": "2025-01-03T11:03:25.494Z"
   },
   {
    "duration": 9,
    "start_time": "2025-01-03T11:03:25.510Z"
   },
   {
    "duration": 11,
    "start_time": "2025-01-03T11:03:25.520Z"
   },
   {
    "duration": 4,
    "start_time": "2025-01-03T11:03:25.537Z"
   },
   {
    "duration": 4,
    "start_time": "2025-01-03T11:03:25.543Z"
   },
   {
    "duration": 13,
    "start_time": "2025-01-03T11:03:25.549Z"
   },
   {
    "duration": 15,
    "start_time": "2025-01-03T11:03:25.564Z"
   },
   {
    "duration": 13,
    "start_time": "2025-01-03T11:03:25.581Z"
   },
   {
    "duration": 15,
    "start_time": "2025-01-03T11:03:25.596Z"
   },
   {
    "duration": 34,
    "start_time": "2025-01-03T11:03:25.613Z"
   },
   {
    "duration": 38,
    "start_time": "2025-01-03T11:03:25.649Z"
   },
   {
    "duration": 8,
    "start_time": "2025-01-03T11:03:25.689Z"
   },
   {
    "duration": 13,
    "start_time": "2025-01-03T11:03:25.698Z"
   },
   {
    "duration": 9,
    "start_time": "2025-01-03T11:03:25.712Z"
   },
   {
    "duration": 22,
    "start_time": "2025-01-03T11:03:25.723Z"
   },
   {
    "duration": 4,
    "start_time": "2025-01-03T11:03:25.747Z"
   },
   {
    "duration": 14,
    "start_time": "2025-01-03T11:03:25.753Z"
   },
   {
    "duration": 43,
    "start_time": "2025-01-03T11:03:25.768Z"
   },
   {
    "duration": 4400,
    "start_time": "2025-01-03T11:03:25.813Z"
   },
   {
    "duration": 2190,
    "start_time": "2025-01-03T11:03:30.215Z"
   },
   {
    "duration": 10,
    "start_time": "2025-01-03T11:03:32.406Z"
   },
   {
    "duration": 112,
    "start_time": "2025-01-03T11:03:32.417Z"
   },
   {
    "duration": 20,
    "start_time": "2025-01-03T11:03:32.530Z"
   },
   {
    "duration": 15,
    "start_time": "2025-01-03T11:03:32.553Z"
   },
   {
    "duration": 8,
    "start_time": "2025-01-03T11:03:32.570Z"
   },
   {
    "duration": 15,
    "start_time": "2025-01-03T11:03:32.579Z"
   },
   {
    "duration": 9,
    "start_time": "2025-01-03T11:03:32.596Z"
   },
   {
    "duration": 6,
    "start_time": "2025-01-03T11:03:32.606Z"
   },
   {
    "duration": 7,
    "start_time": "2025-01-03T11:03:32.614Z"
   },
   {
    "duration": 215,
    "start_time": "2025-01-03T11:03:32.622Z"
   },
   {
    "duration": 446,
    "start_time": "2025-01-03T11:03:32.839Z"
   },
   {
    "duration": 170,
    "start_time": "2025-01-03T11:03:33.287Z"
   },
   {
    "duration": 286,
    "start_time": "2025-01-03T11:03:33.458Z"
   },
   {
    "duration": 6,
    "start_time": "2025-01-03T11:03:33.746Z"
   },
   {
    "duration": 192,
    "start_time": "2025-01-03T11:03:33.754Z"
   },
   {
    "duration": 11,
    "start_time": "2025-01-03T11:03:33.948Z"
   },
   {
    "duration": 243,
    "start_time": "2025-01-03T11:03:33.960Z"
   },
   {
    "duration": 9,
    "start_time": "2025-01-03T11:03:34.204Z"
   },
   {
    "duration": 178,
    "start_time": "2025-01-03T11:03:34.215Z"
   },
   {
    "duration": 115,
    "start_time": "2025-01-03T11:03:34.395Z"
   },
   {
    "duration": 226,
    "start_time": "2025-01-03T11:03:34.512Z"
   },
   {
    "duration": 160,
    "start_time": "2025-01-03T11:03:34.740Z"
   },
   {
    "duration": 11,
    "start_time": "2025-01-03T11:03:34.902Z"
   },
   {
    "duration": 351,
    "start_time": "2025-01-03T11:03:34.915Z"
   },
   {
    "duration": 298,
    "start_time": "2025-01-03T11:03:35.268Z"
   },
   {
    "duration": 7,
    "start_time": "2025-01-03T11:03:35.567Z"
   },
   {
    "duration": 256,
    "start_time": "2025-01-03T11:03:35.575Z"
   },
   {
    "duration": 275,
    "start_time": "2025-01-03T11:03:35.837Z"
   },
   {
    "duration": 1217,
    "start_time": "2025-01-03T11:03:36.114Z"
   },
   {
    "duration": 8,
    "start_time": "2025-01-03T11:03:37.336Z"
   },
   {
    "duration": 9,
    "start_time": "2025-01-03T11:04:45.845Z"
   },
   {
    "duration": 8,
    "start_time": "2025-01-03T11:04:58.311Z"
   },
   {
    "duration": 5,
    "start_time": "2025-01-03T11:05:19.727Z"
   },
   {
    "duration": 5,
    "start_time": "2025-01-03T11:05:32.413Z"
   },
   {
    "duration": 5,
    "start_time": "2025-01-03T11:05:33.610Z"
   },
   {
    "duration": 3711,
    "start_time": "2025-01-03T11:05:47.646Z"
   },
   {
    "duration": 127,
    "start_time": "2025-01-03T11:05:51.360Z"
   },
   {
    "duration": 59,
    "start_time": "2025-01-03T11:05:51.489Z"
   },
   {
    "duration": 20,
    "start_time": "2025-01-03T11:05:51.550Z"
   },
   {
    "duration": 15,
    "start_time": "2025-01-03T11:05:51.572Z"
   },
   {
    "duration": 15,
    "start_time": "2025-01-03T11:05:51.589Z"
   },
   {
    "duration": 39,
    "start_time": "2025-01-03T11:05:51.606Z"
   },
   {
    "duration": 6,
    "start_time": "2025-01-03T11:05:51.646Z"
   },
   {
    "duration": 9,
    "start_time": "2025-01-03T11:05:51.654Z"
   },
   {
    "duration": 13,
    "start_time": "2025-01-03T11:05:51.666Z"
   },
   {
    "duration": 21,
    "start_time": "2025-01-03T11:05:51.681Z"
   },
   {
    "duration": 22,
    "start_time": "2025-01-03T11:05:51.704Z"
   },
   {
    "duration": 16,
    "start_time": "2025-01-03T11:05:51.727Z"
   },
   {
    "duration": 14,
    "start_time": "2025-01-03T11:05:51.745Z"
   },
   {
    "duration": 13,
    "start_time": "2025-01-03T11:05:51.760Z"
   },
   {
    "duration": 14,
    "start_time": "2025-01-03T11:05:51.775Z"
   },
   {
    "duration": 22,
    "start_time": "2025-01-03T11:05:51.791Z"
   },
   {
    "duration": 4,
    "start_time": "2025-01-03T11:05:51.814Z"
   },
   {
    "duration": 28,
    "start_time": "2025-01-03T11:05:51.819Z"
   },
   {
    "duration": 4,
    "start_time": "2025-01-03T11:05:51.849Z"
   },
   {
    "duration": 12,
    "start_time": "2025-01-03T11:05:51.854Z"
   },
   {
    "duration": 24,
    "start_time": "2025-01-03T11:05:51.867Z"
   },
   {
    "duration": 2017,
    "start_time": "2025-01-03T11:05:51.892Z"
   },
   {
    "duration": 9,
    "start_time": "2025-01-03T11:05:53.910Z"
   },
   {
    "duration": 20,
    "start_time": "2025-01-03T11:05:53.921Z"
   },
   {
    "duration": 12,
    "start_time": "2025-01-03T11:05:53.943Z"
   },
   {
    "duration": 8,
    "start_time": "2025-01-03T11:05:53.956Z"
   },
   {
    "duration": 7,
    "start_time": "2025-01-03T11:05:53.967Z"
   },
   {
    "duration": 33,
    "start_time": "2025-01-03T11:05:53.976Z"
   },
   {
    "duration": 12,
    "start_time": "2025-01-03T11:05:54.010Z"
   },
   {
    "duration": 13,
    "start_time": "2025-01-03T11:05:54.024Z"
   },
   {
    "duration": 21,
    "start_time": "2025-01-03T11:05:54.039Z"
   },
   {
    "duration": 202,
    "start_time": "2025-01-03T11:05:54.061Z"
   },
   {
    "duration": 439,
    "start_time": "2025-01-03T11:05:54.265Z"
   },
   {
    "duration": 179,
    "start_time": "2025-01-03T11:05:54.706Z"
   },
   {
    "duration": 223,
    "start_time": "2025-01-03T11:05:54.886Z"
   },
   {
    "duration": 6,
    "start_time": "2025-01-03T11:05:55.111Z"
   },
   {
    "duration": 154,
    "start_time": "2025-01-03T11:05:55.119Z"
   },
   {
    "duration": 12,
    "start_time": "2025-01-03T11:05:55.274Z"
   },
   {
    "duration": 242,
    "start_time": "2025-01-03T11:05:55.288Z"
   },
   {
    "duration": 12,
    "start_time": "2025-01-03T11:05:55.532Z"
   },
   {
    "duration": 179,
    "start_time": "2025-01-03T11:05:55.545Z"
   },
   {
    "duration": 204,
    "start_time": "2025-01-03T11:05:55.725Z"
   },
   {
    "duration": 228,
    "start_time": "2025-01-03T11:05:55.930Z"
   },
   {
    "duration": 162,
    "start_time": "2025-01-03T11:05:56.160Z"
   },
   {
    "duration": 20,
    "start_time": "2025-01-03T11:05:56.323Z"
   },
   {
    "duration": 319,
    "start_time": "2025-01-03T11:05:56.345Z"
   },
   {
    "duration": 182,
    "start_time": "2025-01-03T11:05:56.666Z"
   },
   {
    "duration": 8,
    "start_time": "2025-01-03T11:05:56.850Z"
   },
   {
    "duration": 272,
    "start_time": "2025-01-03T11:05:56.859Z"
   },
   {
    "duration": 286,
    "start_time": "2025-01-03T11:05:57.136Z"
   },
   {
    "duration": 1322,
    "start_time": "2025-01-03T11:05:57.424Z"
   },
   {
    "duration": 10,
    "start_time": "2025-01-03T11:05:58.749Z"
   },
   {
    "duration": 115,
    "start_time": "2025-01-03T11:07:02.383Z"
   },
   {
    "duration": 14,
    "start_time": "2025-01-03T11:07:34.679Z"
   },
   {
    "duration": 13,
    "start_time": "2025-01-03T11:07:46.364Z"
   },
   {
    "duration": 85,
    "start_time": "2025-01-03T11:08:59.891Z"
   },
   {
    "duration": 10,
    "start_time": "2025-01-03T11:10:35.909Z"
   },
   {
    "duration": 121,
    "start_time": "2025-01-03T11:10:36.896Z"
   },
   {
    "duration": 92,
    "start_time": "2025-01-03T11:10:47.523Z"
   },
   {
    "duration": 11,
    "start_time": "2025-01-03T11:10:55.142Z"
   },
   {
    "duration": 14,
    "start_time": "2025-01-03T11:10:55.806Z"
   },
   {
    "duration": 17,
    "start_time": "2025-01-03T11:11:28.033Z"
   },
   {
    "duration": 20,
    "start_time": "2025-01-03T11:11:28.566Z"
   },
   {
    "duration": 4,
    "start_time": "2025-01-03T11:19:37.277Z"
   },
   {
    "duration": 244,
    "start_time": "2025-01-03T11:19:38.298Z"
   },
   {
    "duration": 12,
    "start_time": "2025-01-03T11:22:22.493Z"
   },
   {
    "duration": 8,
    "start_time": "2025-01-03T11:23:13.462Z"
   },
   {
    "duration": 26,
    "start_time": "2025-01-03T11:26:46.197Z"
   },
   {
    "duration": 1410,
    "start_time": "2025-01-03T11:28:12.519Z"
   },
   {
    "duration": 12,
    "start_time": "2025-01-03T11:28:42.604Z"
   },
   {
    "duration": 31,
    "start_time": "2025-01-03T11:28:51.680Z"
   },
   {
    "duration": 13,
    "start_time": "2025-01-03T11:29:16.377Z"
   },
   {
    "duration": 12,
    "start_time": "2025-01-03T11:30:21.267Z"
   },
   {
    "duration": 3705,
    "start_time": "2025-01-03T11:31:05.552Z"
   },
   {
    "duration": 172,
    "start_time": "2025-01-03T11:31:09.258Z"
   },
   {
    "duration": 191,
    "start_time": "2025-01-03T11:31:09.432Z"
   },
   {
    "duration": 17,
    "start_time": "2025-01-03T11:31:09.625Z"
   },
   {
    "duration": 22,
    "start_time": "2025-01-03T11:31:09.643Z"
   },
   {
    "duration": 10,
    "start_time": "2025-01-03T11:31:09.666Z"
   },
   {
    "duration": 22,
    "start_time": "2025-01-03T11:31:09.677Z"
   },
   {
    "duration": 4,
    "start_time": "2025-01-03T11:31:09.701Z"
   },
   {
    "duration": 11,
    "start_time": "2025-01-03T11:31:09.707Z"
   },
   {
    "duration": 6,
    "start_time": "2025-01-03T11:31:09.720Z"
   },
   {
    "duration": 4,
    "start_time": "2025-01-03T11:31:09.737Z"
   },
   {
    "duration": 24,
    "start_time": "2025-01-03T11:31:09.742Z"
   },
   {
    "duration": 14,
    "start_time": "2025-01-03T11:31:09.768Z"
   },
   {
    "duration": 12,
    "start_time": "2025-01-03T11:31:09.784Z"
   },
   {
    "duration": 12,
    "start_time": "2025-01-03T11:31:09.798Z"
   },
   {
    "duration": 27,
    "start_time": "2025-01-03T11:31:09.812Z"
   },
   {
    "duration": 12,
    "start_time": "2025-01-03T11:31:09.841Z"
   },
   {
    "duration": 5,
    "start_time": "2025-01-03T11:31:09.855Z"
   },
   {
    "duration": 12,
    "start_time": "2025-01-03T11:31:09.862Z"
   },
   {
    "duration": 4,
    "start_time": "2025-01-03T11:31:09.876Z"
   },
   {
    "duration": 9,
    "start_time": "2025-01-03T11:31:09.881Z"
   },
   {
    "duration": 10,
    "start_time": "2025-01-03T11:31:09.891Z"
   },
   {
    "duration": 2027,
    "start_time": "2025-01-03T11:31:09.937Z"
   },
   {
    "duration": 8,
    "start_time": "2025-01-03T11:31:11.966Z"
   },
   {
    "duration": 11,
    "start_time": "2025-01-03T11:31:11.976Z"
   },
   {
    "duration": 34,
    "start_time": "2025-01-03T11:31:11.989Z"
   },
   {
    "duration": 14,
    "start_time": "2025-01-03T11:31:12.025Z"
   },
   {
    "duration": 6,
    "start_time": "2025-01-03T11:31:12.043Z"
   },
   {
    "duration": 5,
    "start_time": "2025-01-03T11:31:12.051Z"
   },
   {
    "duration": 8,
    "start_time": "2025-01-03T11:31:12.058Z"
   },
   {
    "duration": 9,
    "start_time": "2025-01-03T11:31:12.068Z"
   },
   {
    "duration": 6,
    "start_time": "2025-01-03T11:31:12.079Z"
   },
   {
    "duration": 209,
    "start_time": "2025-01-03T11:31:12.087Z"
   },
   {
    "duration": 444,
    "start_time": "2025-01-03T11:31:12.298Z"
   },
   {
    "duration": 179,
    "start_time": "2025-01-03T11:31:12.744Z"
   },
   {
    "duration": 223,
    "start_time": "2025-01-03T11:31:12.925Z"
   },
   {
    "duration": 7,
    "start_time": "2025-01-03T11:31:13.150Z"
   },
   {
    "duration": 123,
    "start_time": "2025-01-03T11:31:13.159Z"
   },
   {
    "duration": 13,
    "start_time": "2025-01-03T11:31:13.283Z"
   },
   {
    "duration": 256,
    "start_time": "2025-01-03T11:31:13.297Z"
   },
   {
    "duration": 9,
    "start_time": "2025-01-03T11:31:13.555Z"
   },
   {
    "duration": 186,
    "start_time": "2025-01-03T11:31:13.566Z"
   },
   {
    "duration": 211,
    "start_time": "2025-01-03T11:31:13.754Z"
   },
   {
    "duration": 225,
    "start_time": "2025-01-03T11:31:13.967Z"
   },
   {
    "duration": 162,
    "start_time": "2025-01-03T11:31:14.193Z"
   },
   {
    "duration": 11,
    "start_time": "2025-01-03T11:31:14.357Z"
   },
   {
    "duration": 398,
    "start_time": "2025-01-03T11:31:14.370Z"
   },
   {
    "duration": 168,
    "start_time": "2025-01-03T11:31:14.770Z"
   },
   {
    "duration": 8,
    "start_time": "2025-01-03T11:31:14.939Z"
   },
   {
    "duration": 12,
    "start_time": "2025-01-03T11:31:14.948Z"
   },
   {
    "duration": 242,
    "start_time": "2025-01-03T11:31:14.961Z"
   },
   {
    "duration": 103,
    "start_time": "2025-01-03T11:31:15.205Z"
   },
   {
    "duration": 0,
    "start_time": "2025-01-03T11:31:15.310Z"
   },
   {
    "duration": 0,
    "start_time": "2025-01-03T11:31:15.312Z"
   },
   {
    "duration": 0,
    "start_time": "2025-01-03T11:31:15.313Z"
   },
   {
    "duration": 47,
    "start_time": "2025-01-11T18:27:51.313Z"
   },
   {
    "duration": 6,
    "start_time": "2025-01-11T18:28:10.373Z"
   },
   {
    "duration": 7,
    "start_time": "2025-01-11T18:31:18.895Z"
   },
   {
    "duration": 6,
    "start_time": "2025-01-11T18:32:02.219Z"
   },
   {
    "duration": 7200,
    "start_time": "2025-01-11T18:32:12.347Z"
   },
   {
    "duration": 122,
    "start_time": "2025-01-11T18:32:19.549Z"
   },
   {
    "duration": 61,
    "start_time": "2025-01-11T18:32:19.673Z"
   },
   {
    "duration": 18,
    "start_time": "2025-01-11T18:32:19.736Z"
   },
   {
    "duration": 14,
    "start_time": "2025-01-11T18:32:19.755Z"
   },
   {
    "duration": 8,
    "start_time": "2025-01-11T18:32:19.771Z"
   },
   {
    "duration": 11,
    "start_time": "2025-01-11T18:32:19.780Z"
   },
   {
    "duration": 37,
    "start_time": "2025-01-11T18:32:19.792Z"
   },
   {
    "duration": 6,
    "start_time": "2025-01-11T18:32:19.831Z"
   },
   {
    "duration": 5,
    "start_time": "2025-01-11T18:32:19.840Z"
   },
   {
    "duration": 4,
    "start_time": "2025-01-11T18:32:19.848Z"
   },
   {
    "duration": 14,
    "start_time": "2025-01-11T18:32:19.854Z"
   },
   {
    "duration": 15,
    "start_time": "2025-01-11T18:32:19.869Z"
   },
   {
    "duration": 53,
    "start_time": "2025-01-11T18:32:19.886Z"
   },
   {
    "duration": 12,
    "start_time": "2025-01-11T18:32:19.941Z"
   },
   {
    "duration": 4,
    "start_time": "2025-01-11T18:32:19.955Z"
   },
   {
    "duration": 14,
    "start_time": "2025-01-11T18:32:19.960Z"
   },
   {
    "duration": 4,
    "start_time": "2025-01-11T18:32:19.975Z"
   },
   {
    "duration": 12,
    "start_time": "2025-01-11T18:32:19.980Z"
   },
   {
    "duration": 37,
    "start_time": "2025-01-11T18:32:19.993Z"
   },
   {
    "duration": 9,
    "start_time": "2025-01-11T18:32:20.032Z"
   },
   {
    "duration": 12,
    "start_time": "2025-01-11T18:32:20.042Z"
   },
   {
    "duration": 2013,
    "start_time": "2025-01-11T18:32:20.056Z"
   },
   {
    "duration": 8,
    "start_time": "2025-01-11T18:32:22.071Z"
   },
   {
    "duration": 17,
    "start_time": "2025-01-11T18:32:22.081Z"
   },
   {
    "duration": 15,
    "start_time": "2025-01-11T18:32:22.100Z"
   },
   {
    "duration": 21,
    "start_time": "2025-01-11T18:32:22.116Z"
   },
   {
    "duration": 9,
    "start_time": "2025-01-11T18:32:22.141Z"
   },
   {
    "duration": 5,
    "start_time": "2025-01-11T18:32:22.151Z"
   },
   {
    "duration": 8,
    "start_time": "2025-01-11T18:32:22.158Z"
   },
   {
    "duration": 6,
    "start_time": "2025-01-11T18:32:22.167Z"
   },
   {
    "duration": 6,
    "start_time": "2025-01-11T18:32:22.175Z"
   },
   {
    "duration": 219,
    "start_time": "2025-01-11T18:32:22.183Z"
   },
   {
    "duration": 439,
    "start_time": "2025-01-11T18:32:22.404Z"
   },
   {
    "duration": 178,
    "start_time": "2025-01-11T18:32:22.844Z"
   },
   {
    "duration": 225,
    "start_time": "2025-01-11T18:32:23.023Z"
   },
   {
    "duration": 7,
    "start_time": "2025-01-11T18:32:23.250Z"
   },
   {
    "duration": 132,
    "start_time": "2025-01-11T18:32:23.259Z"
   },
   {
    "duration": 12,
    "start_time": "2025-01-11T18:32:23.392Z"
   },
   {
    "duration": 235,
    "start_time": "2025-01-11T18:32:23.406Z"
   },
   {
    "duration": 9,
    "start_time": "2025-01-11T18:32:23.642Z"
   },
   {
    "duration": 277,
    "start_time": "2025-01-11T18:32:23.653Z"
   },
   {
    "duration": 116,
    "start_time": "2025-01-11T18:32:23.932Z"
   },
   {
    "duration": 227,
    "start_time": "2025-01-11T18:32:24.049Z"
   },
   {
    "duration": 170,
    "start_time": "2025-01-11T18:32:24.278Z"
   },
   {
    "duration": 11,
    "start_time": "2025-01-11T18:32:24.449Z"
   },
   {
    "duration": 385,
    "start_time": "2025-01-11T18:32:24.462Z"
   },
   {
    "duration": 111,
    "start_time": "2025-01-11T18:32:24.848Z"
   },
   {
    "duration": 0,
    "start_time": "2025-01-11T18:32:24.961Z"
   },
   {
    "duration": 0,
    "start_time": "2025-01-11T18:32:24.962Z"
   },
   {
    "duration": 0,
    "start_time": "2025-01-11T18:32:24.963Z"
   },
   {
    "duration": 0,
    "start_time": "2025-01-11T18:32:24.965Z"
   },
   {
    "duration": 0,
    "start_time": "2025-01-11T18:32:24.966Z"
   },
   {
    "duration": 0,
    "start_time": "2025-01-11T18:32:24.967Z"
   },
   {
    "duration": 116,
    "start_time": "2025-01-11T18:39:25.213Z"
   },
   {
    "duration": 10,
    "start_time": "2025-01-11T18:39:33.263Z"
   },
   {
    "duration": 9,
    "start_time": "2025-01-11T18:41:29.087Z"
   },
   {
    "duration": 11,
    "start_time": "2025-01-11T18:42:01.651Z"
   },
   {
    "duration": 15,
    "start_time": "2025-01-11T18:43:32.791Z"
   },
   {
    "duration": 10,
    "start_time": "2025-01-11T18:44:13.979Z"
   },
   {
    "duration": 14,
    "start_time": "2025-01-11T18:45:09.247Z"
   },
   {
    "duration": 14,
    "start_time": "2025-01-11T18:47:00.389Z"
   },
   {
    "duration": 48,
    "start_time": "2025-01-11T18:48:43.627Z"
   },
   {
    "duration": 10,
    "start_time": "2025-01-11T18:49:07.988Z"
   },
   {
    "duration": 22,
    "start_time": "2025-01-11T18:52:29.669Z"
   },
   {
    "duration": 85,
    "start_time": "2025-01-11T18:52:59.223Z"
   },
   {
    "duration": 104,
    "start_time": "2025-01-11T18:53:51.079Z"
   },
   {
    "duration": 22,
    "start_time": "2025-01-11T18:53:58.433Z"
   },
   {
    "duration": 20,
    "start_time": "2025-01-11T18:55:37.658Z"
   },
   {
    "duration": 3,
    "start_time": "2025-01-11T19:05:48.885Z"
   },
   {
    "duration": 3,
    "start_time": "2025-01-11T19:07:36.629Z"
   },
   {
    "duration": 11,
    "start_time": "2025-01-11T19:08:20.884Z"
   },
   {
    "duration": 6,
    "start_time": "2025-01-11T19:08:32.704Z"
   },
   {
    "duration": 4,
    "start_time": "2025-01-11T19:08:39.886Z"
   },
   {
    "duration": 5,
    "start_time": "2025-01-11T19:08:40.461Z"
   },
   {
    "duration": 23,
    "start_time": "2025-01-11T19:08:56.610Z"
   },
   {
    "duration": 5,
    "start_time": "2025-01-11T19:09:00.620Z"
   },
   {
    "duration": 18,
    "start_time": "2025-01-11T19:13:07.677Z"
   },
   {
    "duration": 3,
    "start_time": "2025-01-11T19:13:54.114Z"
   },
   {
    "duration": 5,
    "start_time": "2025-01-11T19:13:54.878Z"
   },
   {
    "duration": 17,
    "start_time": "2025-01-11T19:13:55.506Z"
   },
   {
    "duration": 17,
    "start_time": "2025-01-11T19:16:35.012Z"
   },
   {
    "duration": 87,
    "start_time": "2025-01-11T19:16:58.697Z"
   },
   {
    "duration": 85,
    "start_time": "2025-01-11T19:17:09.507Z"
   },
   {
    "duration": 81,
    "start_time": "2025-01-11T19:17:20.394Z"
   },
   {
    "duration": 16,
    "start_time": "2025-01-11T19:17:26.873Z"
   },
   {
    "duration": 8,
    "start_time": "2025-01-11T19:18:54.272Z"
   },
   {
    "duration": 18,
    "start_time": "2025-01-11T19:19:34.881Z"
   },
   {
    "duration": 17,
    "start_time": "2025-01-11T19:19:42.800Z"
   },
   {
    "duration": 26,
    "start_time": "2025-01-11T19:19:52.224Z"
   },
   {
    "duration": 23,
    "start_time": "2025-01-11T19:20:00.619Z"
   },
   {
    "duration": 25,
    "start_time": "2025-01-11T19:20:05.136Z"
   },
   {
    "duration": 16,
    "start_time": "2025-01-11T19:20:07.800Z"
   },
   {
    "duration": 9,
    "start_time": "2025-01-11T19:20:11.389Z"
   },
   {
    "duration": 20,
    "start_time": "2025-01-11T19:20:40.180Z"
   },
   {
    "duration": 19,
    "start_time": "2025-01-11T19:21:06.481Z"
   },
   {
    "duration": 16,
    "start_time": "2025-01-11T19:21:19.249Z"
   },
   {
    "duration": 17,
    "start_time": "2025-01-11T19:21:29.355Z"
   },
   {
    "duration": 22,
    "start_time": "2025-01-11T19:21:41.136Z"
   },
   {
    "duration": 11,
    "start_time": "2025-01-11T19:22:24.282Z"
   },
   {
    "duration": 17,
    "start_time": "2025-01-11T19:26:20.103Z"
   },
   {
    "duration": 11,
    "start_time": "2025-01-11T19:26:26.188Z"
   },
   {
    "duration": 9,
    "start_time": "2025-01-11T19:31:48.232Z"
   },
   {
    "duration": 11,
    "start_time": "2025-01-11T19:31:48.666Z"
   },
   {
    "duration": 6,
    "start_time": "2025-01-11T19:33:27.076Z"
   },
   {
    "duration": 14,
    "start_time": "2025-01-11T19:33:27.595Z"
   },
   {
    "duration": 19,
    "start_time": "2025-01-11T19:33:52.229Z"
   },
   {
    "duration": 2,
    "start_time": "2025-01-11T19:35:12.086Z"
   },
   {
    "duration": 5,
    "start_time": "2025-01-11T19:35:12.678Z"
   },
   {
    "duration": 13,
    "start_time": "2025-01-11T19:35:13.362Z"
   },
   {
    "duration": 3,
    "start_time": "2025-01-11T19:35:38.938Z"
   },
   {
    "duration": 7,
    "start_time": "2025-01-11T19:35:39.527Z"
   },
   {
    "duration": 11,
    "start_time": "2025-01-11T19:35:40.082Z"
   },
   {
    "duration": 6,
    "start_time": "2025-01-11T19:35:40.825Z"
   },
   {
    "duration": 11,
    "start_time": "2025-01-11T19:35:42.259Z"
   },
   {
    "duration": 6,
    "start_time": "2025-01-11T19:35:44.503Z"
   },
   {
    "duration": 13,
    "start_time": "2025-01-11T19:35:45.209Z"
   },
   {
    "duration": 10,
    "start_time": "2025-01-11T19:36:13.483Z"
   },
   {
    "duration": 3815,
    "start_time": "2025-01-11T19:41:47.920Z"
   },
   {
    "duration": 155,
    "start_time": "2025-01-11T19:41:51.739Z"
   },
   {
    "duration": 60,
    "start_time": "2025-01-11T19:41:51.895Z"
   },
   {
    "duration": 23,
    "start_time": "2025-01-11T19:41:51.957Z"
   },
   {
    "duration": 15,
    "start_time": "2025-01-11T19:41:51.982Z"
   },
   {
    "duration": 16,
    "start_time": "2025-01-11T19:41:51.998Z"
   },
   {
    "duration": 33,
    "start_time": "2025-01-11T19:41:52.016Z"
   },
   {
    "duration": 7,
    "start_time": "2025-01-11T19:41:52.052Z"
   },
   {
    "duration": 6,
    "start_time": "2025-01-11T19:41:52.061Z"
   },
   {
    "duration": 12,
    "start_time": "2025-01-11T19:41:52.070Z"
   },
   {
    "duration": 10,
    "start_time": "2025-01-11T19:41:52.084Z"
   },
   {
    "duration": 40,
    "start_time": "2025-01-11T19:41:52.096Z"
   },
   {
    "duration": 24,
    "start_time": "2025-01-11T19:41:52.138Z"
   },
   {
    "duration": 23,
    "start_time": "2025-01-11T19:41:52.164Z"
   },
   {
    "duration": 18,
    "start_time": "2025-01-11T19:41:52.189Z"
   },
   {
    "duration": 3,
    "start_time": "2025-01-11T19:41:52.209Z"
   },
   {
    "duration": 30,
    "start_time": "2025-01-11T19:41:52.214Z"
   },
   {
    "duration": 6,
    "start_time": "2025-01-11T19:41:52.246Z"
   },
   {
    "duration": 15,
    "start_time": "2025-01-11T19:41:52.254Z"
   },
   {
    "duration": 4,
    "start_time": "2025-01-11T19:41:52.271Z"
   },
   {
    "duration": 16,
    "start_time": "2025-01-11T19:41:52.277Z"
   },
   {
    "duration": 101,
    "start_time": "2025-01-11T19:41:52.295Z"
   },
   {
    "duration": 4,
    "start_time": "2025-01-11T19:41:52.398Z"
   },
   {
    "duration": 29,
    "start_time": "2025-01-11T19:41:52.404Z"
   },
   {
    "duration": 18,
    "start_time": "2025-01-11T19:41:52.435Z"
   },
   {
    "duration": 5,
    "start_time": "2025-01-11T19:41:52.454Z"
   },
   {
    "duration": 17,
    "start_time": "2025-01-11T19:41:52.460Z"
   },
   {
    "duration": 2344,
    "start_time": "2025-01-11T19:41:52.480Z"
   },
   {
    "duration": 13,
    "start_time": "2025-01-11T19:41:54.825Z"
   },
   {
    "duration": 26,
    "start_time": "2025-01-11T19:41:54.840Z"
   },
   {
    "duration": 9,
    "start_time": "2025-01-11T19:41:54.868Z"
   },
   {
    "duration": 13,
    "start_time": "2025-01-11T19:41:54.879Z"
   },
   {
    "duration": 4,
    "start_time": "2025-01-11T19:41:54.894Z"
   },
   {
    "duration": 32,
    "start_time": "2025-01-11T19:41:54.900Z"
   },
   {
    "duration": 13,
    "start_time": "2025-01-11T19:41:54.934Z"
   },
   {
    "duration": 35,
    "start_time": "2025-01-11T19:41:54.949Z"
   },
   {
    "duration": 204,
    "start_time": "2025-01-11T19:41:54.986Z"
   },
   {
    "duration": 491,
    "start_time": "2025-01-11T19:41:55.192Z"
   },
   {
    "duration": 202,
    "start_time": "2025-01-11T19:41:55.684Z"
   },
   {
    "duration": 279,
    "start_time": "2025-01-11T19:41:55.887Z"
   },
   {
    "duration": 8,
    "start_time": "2025-01-11T19:41:56.168Z"
   },
   {
    "duration": 136,
    "start_time": "2025-01-11T19:41:56.177Z"
   },
   {
    "duration": 24,
    "start_time": "2025-01-11T19:41:56.315Z"
   },
   {
    "duration": 247,
    "start_time": "2025-01-11T19:41:56.341Z"
   },
   {
    "duration": 9,
    "start_time": "2025-01-11T19:41:56.590Z"
   },
   {
    "duration": 273,
    "start_time": "2025-01-11T19:41:56.600Z"
   },
   {
    "duration": 131,
    "start_time": "2025-01-11T19:41:56.875Z"
   },
   {
    "duration": 253,
    "start_time": "2025-01-11T19:41:57.008Z"
   },
   {
    "duration": 179,
    "start_time": "2025-01-11T19:41:57.263Z"
   },
   {
    "duration": 15,
    "start_time": "2025-01-11T19:41:57.444Z"
   },
   {
    "duration": 338,
    "start_time": "2025-01-11T19:41:57.460Z"
   },
   {
    "duration": 187,
    "start_time": "2025-01-11T19:41:57.800Z"
   },
   {
    "duration": 8,
    "start_time": "2025-01-11T19:41:57.988Z"
   },
   {
    "duration": 4,
    "start_time": "2025-01-11T19:41:57.998Z"
   },
   {
    "duration": 275,
    "start_time": "2025-01-11T19:41:58.004Z"
   },
   {
    "duration": 320,
    "start_time": "2025-01-11T19:41:58.281Z"
   },
   {
    "duration": 1404,
    "start_time": "2025-01-11T19:41:58.603Z"
   },
   {
    "duration": 8,
    "start_time": "2025-01-11T19:42:00.009Z"
   },
   {
    "duration": 90,
    "start_time": "2025-01-11T19:45:29.541Z"
   },
   {
    "duration": 87,
    "start_time": "2025-01-11T19:45:37.181Z"
   },
   {
    "duration": 7,
    "start_time": "2025-01-11T19:46:53.620Z"
   },
   {
    "duration": 5,
    "start_time": "2025-01-11T19:47:00.483Z"
   },
   {
    "duration": 106,
    "start_time": "2025-01-11T20:02:56.532Z"
   },
   {
    "duration": 13,
    "start_time": "2025-01-11T20:03:14.302Z"
   },
   {
    "duration": 115,
    "start_time": "2025-01-11T20:04:54.067Z"
   },
   {
    "duration": 147,
    "start_time": "2025-01-11T20:05:42.027Z"
   },
   {
    "duration": 112,
    "start_time": "2025-01-11T20:08:01.967Z"
   },
   {
    "duration": 72,
    "start_time": "2025-01-11T20:08:49.614Z"
   },
   {
    "duration": 72,
    "start_time": "2025-01-11T20:09:12.770Z"
   },
   {
    "duration": 72,
    "start_time": "2025-01-11T20:11:47.991Z"
   },
   {
    "duration": 68,
    "start_time": "2025-01-11T20:13:52.212Z"
   },
   {
    "duration": 4,
    "start_time": "2025-01-11T20:14:35.772Z"
   },
   {
    "duration": 3572,
    "start_time": "2025-01-11T20:22:13.669Z"
   },
   {
    "duration": 172,
    "start_time": "2025-01-11T20:22:17.243Z"
   },
   {
    "duration": 89,
    "start_time": "2025-01-11T20:22:17.417Z"
   },
   {
    "duration": 16,
    "start_time": "2025-01-11T20:22:17.508Z"
   },
   {
    "duration": 16,
    "start_time": "2025-01-11T20:22:17.525Z"
   },
   {
    "duration": 9,
    "start_time": "2025-01-11T20:22:17.542Z"
   },
   {
    "duration": 13,
    "start_time": "2025-01-11T20:22:17.553Z"
   },
   {
    "duration": 4,
    "start_time": "2025-01-11T20:22:17.568Z"
   },
   {
    "duration": 14,
    "start_time": "2025-01-11T20:22:17.574Z"
   },
   {
    "duration": 4,
    "start_time": "2025-01-11T20:22:17.590Z"
   },
   {
    "duration": 6,
    "start_time": "2025-01-11T20:22:17.595Z"
   },
   {
    "duration": 32,
    "start_time": "2025-01-11T20:22:17.602Z"
   },
   {
    "duration": 13,
    "start_time": "2025-01-11T20:22:17.636Z"
   },
   {
    "duration": 13,
    "start_time": "2025-01-11T20:22:17.651Z"
   },
   {
    "duration": 12,
    "start_time": "2025-01-11T20:22:17.666Z"
   },
   {
    "duration": 5,
    "start_time": "2025-01-11T20:22:17.679Z"
   },
   {
    "duration": 15,
    "start_time": "2025-01-11T20:22:17.685Z"
   },
   {
    "duration": 4,
    "start_time": "2025-01-11T20:22:17.730Z"
   },
   {
    "duration": 13,
    "start_time": "2025-01-11T20:22:17.736Z"
   },
   {
    "duration": 4,
    "start_time": "2025-01-11T20:22:17.751Z"
   },
   {
    "duration": 9,
    "start_time": "2025-01-11T20:22:17.756Z"
   },
   {
    "duration": 91,
    "start_time": "2025-01-11T20:22:17.767Z"
   },
   {
    "duration": 3,
    "start_time": "2025-01-11T20:22:17.860Z"
   },
   {
    "duration": 29,
    "start_time": "2025-01-11T20:22:17.865Z"
   },
   {
    "duration": 19,
    "start_time": "2025-01-11T20:22:17.896Z"
   },
   {
    "duration": 6,
    "start_time": "2025-01-11T20:22:17.917Z"
   },
   {
    "duration": 12,
    "start_time": "2025-01-11T20:22:17.924Z"
   },
   {
    "duration": 1997,
    "start_time": "2025-01-11T20:22:17.941Z"
   },
   {
    "duration": 8,
    "start_time": "2025-01-11T20:22:19.940Z"
   },
   {
    "duration": 15,
    "start_time": "2025-01-11T20:22:19.949Z"
   },
   {
    "duration": 8,
    "start_time": "2025-01-11T20:22:19.966Z"
   },
   {
    "duration": 7,
    "start_time": "2025-01-11T20:22:19.976Z"
   },
   {
    "duration": 5,
    "start_time": "2025-01-11T20:22:19.985Z"
   },
   {
    "duration": 41,
    "start_time": "2025-01-11T20:22:19.991Z"
   },
   {
    "duration": 6,
    "start_time": "2025-01-11T20:22:20.034Z"
   },
   {
    "duration": 19,
    "start_time": "2025-01-11T20:22:20.042Z"
   },
   {
    "duration": 188,
    "start_time": "2025-01-11T20:22:20.063Z"
   },
   {
    "duration": 432,
    "start_time": "2025-01-11T20:22:20.252Z"
   },
   {
    "duration": 176,
    "start_time": "2025-01-11T20:22:20.685Z"
   },
   {
    "duration": 227,
    "start_time": "2025-01-11T20:22:20.863Z"
   },
   {
    "duration": 7,
    "start_time": "2025-01-11T20:22:21.091Z"
   },
   {
    "duration": 126,
    "start_time": "2025-01-11T20:22:21.100Z"
   },
   {
    "duration": 11,
    "start_time": "2025-01-11T20:22:21.230Z"
   },
   {
    "duration": 224,
    "start_time": "2025-01-11T20:22:21.243Z"
   },
   {
    "duration": 10,
    "start_time": "2025-01-11T20:22:21.468Z"
   },
   {
    "duration": 278,
    "start_time": "2025-01-11T20:22:21.480Z"
   },
   {
    "duration": 118,
    "start_time": "2025-01-11T20:22:21.759Z"
   },
   {
    "duration": 248,
    "start_time": "2025-01-11T20:22:21.878Z"
   },
   {
    "duration": 157,
    "start_time": "2025-01-11T20:22:22.130Z"
   },
   {
    "duration": 10,
    "start_time": "2025-01-11T20:22:22.289Z"
   },
   {
    "duration": 358,
    "start_time": "2025-01-11T20:22:22.301Z"
   },
   {
    "duration": 162,
    "start_time": "2025-01-11T20:22:22.660Z"
   },
   {
    "duration": 69,
    "start_time": "2025-01-11T20:22:22.824Z"
   },
   {
    "duration": 281,
    "start_time": "2025-01-11T20:22:22.895Z"
   },
   {
    "duration": 1221,
    "start_time": "2025-01-11T20:22:23.178Z"
   },
   {
    "duration": 9,
    "start_time": "2025-01-11T20:22:24.401Z"
   },
   {
    "duration": 3639,
    "start_time": "2025-01-11T20:26:16.060Z"
   },
   {
    "duration": 140,
    "start_time": "2025-01-11T20:26:19.701Z"
   },
   {
    "duration": 62,
    "start_time": "2025-01-11T20:26:19.845Z"
   },
   {
    "duration": 16,
    "start_time": "2025-01-11T20:26:19.909Z"
   },
   {
    "duration": 14,
    "start_time": "2025-01-11T20:26:19.926Z"
   },
   {
    "duration": 13,
    "start_time": "2025-01-11T20:26:19.942Z"
   },
   {
    "duration": 11,
    "start_time": "2025-01-11T20:26:19.957Z"
   },
   {
    "duration": 6,
    "start_time": "2025-01-11T20:26:19.969Z"
   },
   {
    "duration": 4,
    "start_time": "2025-01-11T20:26:19.977Z"
   },
   {
    "duration": 12,
    "start_time": "2025-01-11T20:26:19.983Z"
   },
   {
    "duration": 4,
    "start_time": "2025-01-11T20:26:19.997Z"
   },
   {
    "duration": 11,
    "start_time": "2025-01-11T20:26:20.030Z"
   },
   {
    "duration": 22,
    "start_time": "2025-01-11T20:26:20.043Z"
   },
   {
    "duration": 15,
    "start_time": "2025-01-11T20:26:20.067Z"
   },
   {
    "duration": 20,
    "start_time": "2025-01-11T20:26:20.084Z"
   },
   {
    "duration": 30,
    "start_time": "2025-01-11T20:26:20.106Z"
   },
   {
    "duration": 35,
    "start_time": "2025-01-11T20:26:20.138Z"
   },
   {
    "duration": 4,
    "start_time": "2025-01-11T20:26:20.175Z"
   },
   {
    "duration": 28,
    "start_time": "2025-01-11T20:26:20.181Z"
   },
   {
    "duration": 4,
    "start_time": "2025-01-11T20:26:20.211Z"
   },
   {
    "duration": 9,
    "start_time": "2025-01-11T20:26:20.217Z"
   },
   {
    "duration": 64,
    "start_time": "2025-01-11T20:26:20.227Z"
   },
   {
    "duration": 3,
    "start_time": "2025-01-11T20:26:20.293Z"
   },
   {
    "duration": 27,
    "start_time": "2025-01-11T20:26:20.298Z"
   },
   {
    "duration": 12,
    "start_time": "2025-01-11T20:26:20.327Z"
   },
   {
    "duration": 6,
    "start_time": "2025-01-11T20:26:20.341Z"
   },
   {
    "duration": 11,
    "start_time": "2025-01-11T20:26:20.349Z"
   },
   {
    "duration": 2058,
    "start_time": "2025-01-11T20:26:20.363Z"
   },
   {
    "duration": 13,
    "start_time": "2025-01-11T20:26:22.423Z"
   },
   {
    "duration": 14,
    "start_time": "2025-01-11T20:26:22.437Z"
   },
   {
    "duration": 8,
    "start_time": "2025-01-11T20:26:22.452Z"
   },
   {
    "duration": 7,
    "start_time": "2025-01-11T20:26:22.461Z"
   },
   {
    "duration": 5,
    "start_time": "2025-01-11T20:26:22.469Z"
   },
   {
    "duration": 18,
    "start_time": "2025-01-11T20:26:22.476Z"
   },
   {
    "duration": 7,
    "start_time": "2025-01-11T20:26:22.496Z"
   },
   {
    "duration": 32,
    "start_time": "2025-01-11T20:26:22.504Z"
   },
   {
    "duration": 193,
    "start_time": "2025-01-11T20:26:22.537Z"
   },
   {
    "duration": 446,
    "start_time": "2025-01-11T20:26:22.731Z"
   },
   {
    "duration": 183,
    "start_time": "2025-01-11T20:26:23.178Z"
   },
   {
    "duration": 224,
    "start_time": "2025-01-11T20:26:23.363Z"
   },
   {
    "duration": 7,
    "start_time": "2025-01-11T20:26:23.589Z"
   },
   {
    "duration": 127,
    "start_time": "2025-01-11T20:26:23.597Z"
   },
   {
    "duration": 13,
    "start_time": "2025-01-11T20:26:23.730Z"
   },
   {
    "duration": 231,
    "start_time": "2025-01-11T20:26:23.744Z"
   },
   {
    "duration": 8,
    "start_time": "2025-01-11T20:26:23.977Z"
   },
   {
    "duration": 272,
    "start_time": "2025-01-11T20:26:23.987Z"
   },
   {
    "duration": 120,
    "start_time": "2025-01-11T20:26:24.261Z"
   },
   {
    "duration": 228,
    "start_time": "2025-01-11T20:26:24.383Z"
   },
   {
    "duration": 165,
    "start_time": "2025-01-11T20:26:24.613Z"
   },
   {
    "duration": 12,
    "start_time": "2025-01-11T20:26:24.779Z"
   },
   {
    "duration": 374,
    "start_time": "2025-01-11T20:26:24.792Z"
   },
   {
    "duration": 176,
    "start_time": "2025-01-11T20:26:25.168Z"
   },
   {
    "duration": 68,
    "start_time": "2025-01-11T20:26:25.346Z"
   },
   {
    "duration": 291,
    "start_time": "2025-01-11T20:26:25.431Z"
   },
   {
    "duration": 1307,
    "start_time": "2025-01-11T20:26:25.724Z"
   },
   {
    "duration": 9,
    "start_time": "2025-01-11T20:26:27.033Z"
   },
   {
    "duration": 7591,
    "start_time": "2025-01-12T07:06:12.789Z"
   },
   {
    "duration": 140,
    "start_time": "2025-01-12T07:06:20.383Z"
   },
   {
    "duration": 81,
    "start_time": "2025-01-12T07:06:20.525Z"
   },
   {
    "duration": 22,
    "start_time": "2025-01-12T07:06:20.609Z"
   },
   {
    "duration": 36,
    "start_time": "2025-01-12T07:06:20.633Z"
   },
   {
    "duration": 22,
    "start_time": "2025-01-12T07:06:20.671Z"
   },
   {
    "duration": 42,
    "start_time": "2025-01-12T07:06:20.695Z"
   },
   {
    "duration": 15,
    "start_time": "2025-01-12T07:06:20.739Z"
   },
   {
    "duration": 26,
    "start_time": "2025-01-12T07:06:20.756Z"
   },
   {
    "duration": 35,
    "start_time": "2025-01-12T07:06:20.784Z"
   },
   {
    "duration": 14,
    "start_time": "2025-01-12T07:06:20.821Z"
   },
   {
    "duration": 36,
    "start_time": "2025-01-12T07:06:20.836Z"
   },
   {
    "duration": 17,
    "start_time": "2025-01-12T07:06:20.874Z"
   },
   {
    "duration": 47,
    "start_time": "2025-01-12T07:06:20.893Z"
   },
   {
    "duration": 20,
    "start_time": "2025-01-12T07:06:20.942Z"
   },
   {
    "duration": 19,
    "start_time": "2025-01-12T07:06:20.963Z"
   },
   {
    "duration": 29,
    "start_time": "2025-01-12T07:06:20.984Z"
   },
   {
    "duration": 9,
    "start_time": "2025-01-12T07:06:21.014Z"
   },
   {
    "duration": 50,
    "start_time": "2025-01-12T07:06:21.025Z"
   },
   {
    "duration": 39,
    "start_time": "2025-01-12T07:06:21.077Z"
   },
   {
    "duration": 14,
    "start_time": "2025-01-12T07:06:21.118Z"
   },
   {
    "duration": 93,
    "start_time": "2025-01-12T07:06:21.134Z"
   },
   {
    "duration": 9118,
    "start_time": "2025-01-12T07:08:10.401Z"
   },
   {
    "duration": 138,
    "start_time": "2025-01-12T07:08:19.521Z"
   },
   {
    "duration": 53,
    "start_time": "2025-01-12T07:08:19.661Z"
   },
   {
    "duration": 14,
    "start_time": "2025-01-12T07:08:19.717Z"
   },
   {
    "duration": 21,
    "start_time": "2025-01-12T07:08:19.733Z"
   },
   {
    "duration": 12,
    "start_time": "2025-01-12T07:08:19.756Z"
   },
   {
    "duration": 14,
    "start_time": "2025-01-12T07:08:19.769Z"
   },
   {
    "duration": 10,
    "start_time": "2025-01-12T07:08:19.784Z"
   },
   {
    "duration": 9,
    "start_time": "2025-01-12T07:08:19.795Z"
   },
   {
    "duration": 4,
    "start_time": "2025-01-12T07:08:19.808Z"
   },
   {
    "duration": 23,
    "start_time": "2025-01-12T07:08:19.814Z"
   },
   {
    "duration": 29,
    "start_time": "2025-01-12T07:08:19.839Z"
   },
   {
    "duration": 16,
    "start_time": "2025-01-12T07:08:19.870Z"
   },
   {
    "duration": 27,
    "start_time": "2025-01-12T07:08:19.888Z"
   },
   {
    "duration": 15,
    "start_time": "2025-01-12T07:08:19.916Z"
   },
   {
    "duration": 12,
    "start_time": "2025-01-12T07:08:19.932Z"
   },
   {
    "duration": 17,
    "start_time": "2025-01-12T07:08:19.959Z"
   },
   {
    "duration": 5,
    "start_time": "2025-01-12T07:08:19.978Z"
   },
   {
    "duration": 14,
    "start_time": "2025-01-12T07:08:19.984Z"
   },
   {
    "duration": 4,
    "start_time": "2025-01-12T07:08:20.000Z"
   },
   {
    "duration": 24,
    "start_time": "2025-01-12T07:08:20.006Z"
   },
   {
    "duration": 46,
    "start_time": "2025-01-12T07:08:20.031Z"
   },
   {
    "duration": 3,
    "start_time": "2025-01-12T07:08:20.080Z"
   },
   {
    "duration": 28,
    "start_time": "2025-01-12T07:08:20.085Z"
   },
   {
    "duration": 28,
    "start_time": "2025-01-12T07:08:20.115Z"
   },
   {
    "duration": 13,
    "start_time": "2025-01-12T07:08:20.145Z"
   },
   {
    "duration": 24,
    "start_time": "2025-01-12T07:08:20.160Z"
   },
   {
    "duration": 2507,
    "start_time": "2025-01-12T07:08:20.188Z"
   },
   {
    "duration": 9,
    "start_time": "2025-01-12T07:08:22.697Z"
   },
   {
    "duration": 20,
    "start_time": "2025-01-12T07:08:22.707Z"
   },
   {
    "duration": 8,
    "start_time": "2025-01-12T07:08:22.729Z"
   },
   {
    "duration": 26,
    "start_time": "2025-01-12T07:08:22.739Z"
   },
   {
    "duration": 10,
    "start_time": "2025-01-12T07:08:46.804Z"
   },
   {
    "duration": 10,
    "start_time": "2025-01-12T07:10:30.318Z"
   },
   {
    "duration": 15,
    "start_time": "2025-01-12T07:10:35.861Z"
   },
   {
    "duration": 24,
    "start_time": "2025-01-12T07:11:02.372Z"
   },
   {
    "duration": 9,
    "start_time": "2025-01-12T07:12:03.967Z"
   },
   {
    "duration": 5,
    "start_time": "2025-01-12T07:12:04.181Z"
   },
   {
    "duration": 16,
    "start_time": "2025-01-12T07:16:46.851Z"
   },
   {
    "duration": 121,
    "start_time": "2025-01-12T07:16:58.324Z"
   },
   {
    "duration": 13,
    "start_time": "2025-01-12T07:17:28.060Z"
   },
   {
    "duration": 12,
    "start_time": "2025-01-12T07:17:36.277Z"
   },
   {
    "duration": 12,
    "start_time": "2025-01-12T07:17:57.303Z"
   },
   {
    "duration": 8,
    "start_time": "2025-01-12T07:18:12.599Z"
   },
   {
    "duration": 13,
    "start_time": "2025-01-12T07:18:46.971Z"
   },
   {
    "duration": 9,
    "start_time": "2025-01-12T07:18:54.460Z"
   },
   {
    "duration": 121,
    "start_time": "2025-01-12T07:19:31.229Z"
   },
   {
    "duration": 69,
    "start_time": "2025-01-12T07:19:31.508Z"
   },
   {
    "duration": 31,
    "start_time": "2025-01-12T07:20:02.414Z"
   },
   {
    "duration": 30,
    "start_time": "2025-01-12T07:20:08.501Z"
   },
   {
    "duration": 2845,
    "start_time": "2025-01-12T07:40:30.765Z"
   },
   {
    "duration": 154,
    "start_time": "2025-01-12T07:40:33.613Z"
   },
   {
    "duration": 65,
    "start_time": "2025-01-12T07:40:33.769Z"
   },
   {
    "duration": 15,
    "start_time": "2025-01-12T07:40:33.837Z"
   },
   {
    "duration": 24,
    "start_time": "2025-01-12T07:40:33.855Z"
   },
   {
    "duration": 12,
    "start_time": "2025-01-12T07:40:33.882Z"
   },
   {
    "duration": 22,
    "start_time": "2025-01-12T07:40:33.896Z"
   },
   {
    "duration": 19,
    "start_time": "2025-01-12T07:40:33.920Z"
   },
   {
    "duration": 22,
    "start_time": "2025-01-12T07:40:33.941Z"
   },
   {
    "duration": 10,
    "start_time": "2025-01-12T07:40:33.967Z"
   },
   {
    "duration": 13,
    "start_time": "2025-01-12T07:40:33.979Z"
   },
   {
    "duration": 22,
    "start_time": "2025-01-12T07:40:33.994Z"
   },
   {
    "duration": 19,
    "start_time": "2025-01-12T07:40:34.019Z"
   },
   {
    "duration": 25,
    "start_time": "2025-01-12T07:40:34.059Z"
   },
   {
    "duration": 17,
    "start_time": "2025-01-12T07:40:34.087Z"
   },
   {
    "duration": 6,
    "start_time": "2025-01-12T07:40:34.107Z"
   },
   {
    "duration": 27,
    "start_time": "2025-01-12T07:40:34.116Z"
   },
   {
    "duration": 19,
    "start_time": "2025-01-12T07:40:34.145Z"
   },
   {
    "duration": 16,
    "start_time": "2025-01-12T07:40:34.166Z"
   },
   {
    "duration": 5,
    "start_time": "2025-01-12T07:40:34.184Z"
   },
   {
    "duration": 26,
    "start_time": "2025-01-12T07:40:34.190Z"
   },
   {
    "duration": 44,
    "start_time": "2025-01-12T07:40:34.217Z"
   },
   {
    "duration": 3,
    "start_time": "2025-01-12T07:40:34.263Z"
   },
   {
    "duration": 21,
    "start_time": "2025-01-12T07:40:34.268Z"
   },
   {
    "duration": 27,
    "start_time": "2025-01-12T07:40:34.291Z"
   },
   {
    "duration": 8,
    "start_time": "2025-01-12T07:40:34.321Z"
   },
   {
    "duration": 37,
    "start_time": "2025-01-12T07:40:34.331Z"
   },
   {
    "duration": 2335,
    "start_time": "2025-01-12T07:40:34.372Z"
   },
   {
    "duration": 9,
    "start_time": "2025-01-12T07:40:36.709Z"
   },
   {
    "duration": 116,
    "start_time": "2025-01-12T07:40:36.721Z"
   },
   {
    "duration": 22,
    "start_time": "2025-01-12T07:40:36.840Z"
   },
   {
    "duration": 20,
    "start_time": "2025-01-12T07:40:36.864Z"
   },
   {
    "duration": 12,
    "start_time": "2025-01-12T07:40:36.886Z"
   },
   {
    "duration": 7,
    "start_time": "2025-01-12T07:40:36.900Z"
   },
   {
    "duration": 32,
    "start_time": "2025-01-12T07:40:36.909Z"
   },
   {
    "duration": 239,
    "start_time": "2025-01-12T07:40:36.943Z"
   },
   {
    "duration": 480,
    "start_time": "2025-01-12T07:40:37.184Z"
   },
   {
    "duration": 208,
    "start_time": "2025-01-12T07:40:37.666Z"
   },
   {
    "duration": 286,
    "start_time": "2025-01-12T07:40:37.876Z"
   },
   {
    "duration": 8,
    "start_time": "2025-01-12T07:40:38.164Z"
   },
   {
    "duration": 145,
    "start_time": "2025-01-12T07:40:38.174Z"
   },
   {
    "duration": 14,
    "start_time": "2025-01-12T07:40:38.321Z"
   },
   {
    "duration": 368,
    "start_time": "2025-01-12T07:40:38.337Z"
   },
   {
    "duration": 10,
    "start_time": "2025-01-12T07:40:38.707Z"
   },
   {
    "duration": 206,
    "start_time": "2025-01-12T07:40:38.719Z"
   },
   {
    "duration": 143,
    "start_time": "2025-01-12T07:40:38.927Z"
   },
   {
    "duration": 276,
    "start_time": "2025-01-12T07:40:39.072Z"
   },
   {
    "duration": 194,
    "start_time": "2025-01-12T07:40:39.350Z"
   },
   {
    "duration": 22,
    "start_time": "2025-01-12T07:40:39.546Z"
   },
   {
    "duration": 354,
    "start_time": "2025-01-12T07:40:39.570Z"
   },
   {
    "duration": 223,
    "start_time": "2025-01-12T07:40:39.927Z"
   },
   {
    "duration": 81,
    "start_time": "2025-01-12T07:40:40.160Z"
   },
   {
    "duration": 349,
    "start_time": "2025-01-12T07:40:40.243Z"
   },
   {
    "duration": 1448,
    "start_time": "2025-01-12T07:40:40.594Z"
   },
   {
    "duration": 17,
    "start_time": "2025-01-12T07:40:42.044Z"
   },
   {
    "duration": 55,
    "start_time": "2025-01-12T09:33:42.844Z"
   },
   {
    "duration": 8148,
    "start_time": "2025-01-12T09:34:05.940Z"
   },
   {
    "duration": 162,
    "start_time": "2025-01-12T09:34:14.091Z"
   },
   {
    "duration": 95,
    "start_time": "2025-01-12T09:34:14.254Z"
   },
   {
    "duration": 16,
    "start_time": "2025-01-12T09:34:14.352Z"
   },
   {
    "duration": 12,
    "start_time": "2025-01-12T09:34:14.370Z"
   },
   {
    "duration": 17,
    "start_time": "2025-01-12T09:34:14.384Z"
   },
   {
    "duration": 25,
    "start_time": "2025-01-12T09:34:14.403Z"
   },
   {
    "duration": 5,
    "start_time": "2025-01-12T09:34:14.430Z"
   },
   {
    "duration": 4,
    "start_time": "2025-01-12T09:34:14.436Z"
   },
   {
    "duration": 9,
    "start_time": "2025-01-12T09:34:14.442Z"
   },
   {
    "duration": 8,
    "start_time": "2025-01-12T09:34:14.452Z"
   },
   {
    "duration": 19,
    "start_time": "2025-01-12T09:34:14.462Z"
   },
   {
    "duration": 24,
    "start_time": "2025-01-12T09:34:14.483Z"
   },
   {
    "duration": 15,
    "start_time": "2025-01-12T09:34:14.509Z"
   },
   {
    "duration": 12,
    "start_time": "2025-01-12T09:34:14.526Z"
   },
   {
    "duration": 4,
    "start_time": "2025-01-12T09:34:14.540Z"
   },
   {
    "duration": 14,
    "start_time": "2025-01-12T09:34:14.545Z"
   },
   {
    "duration": 35,
    "start_time": "2025-01-12T09:34:14.560Z"
   },
   {
    "duration": 18,
    "start_time": "2025-01-12T09:34:14.596Z"
   },
   {
    "duration": 4,
    "start_time": "2025-01-12T09:34:14.616Z"
   },
   {
    "duration": 9,
    "start_time": "2025-01-12T09:34:14.621Z"
   },
   {
    "duration": 89,
    "start_time": "2025-01-12T09:34:14.631Z"
   },
   {
    "duration": 3,
    "start_time": "2025-01-12T09:34:14.721Z"
   },
   {
    "duration": 10,
    "start_time": "2025-01-12T09:34:14.725Z"
   },
   {
    "duration": 11,
    "start_time": "2025-01-12T09:34:14.736Z"
   },
   {
    "duration": 5,
    "start_time": "2025-01-12T09:34:14.749Z"
   },
   {
    "duration": 37,
    "start_time": "2025-01-12T09:34:14.756Z"
   },
   {
    "duration": 5776,
    "start_time": "2025-01-12T09:34:14.802Z"
   },
   {
    "duration": 24,
    "start_time": "2025-01-12T09:34:20.580Z"
   },
   {
    "duration": 17,
    "start_time": "2025-01-12T09:34:20.606Z"
   },
   {
    "duration": 9,
    "start_time": "2025-01-12T09:34:20.625Z"
   },
   {
    "duration": 10,
    "start_time": "2025-01-12T09:34:20.636Z"
   },
   {
    "duration": 11,
    "start_time": "2025-01-12T09:34:20.648Z"
   },
   {
    "duration": 39,
    "start_time": "2025-01-12T09:34:20.661Z"
   },
   {
    "duration": 8,
    "start_time": "2025-01-12T09:34:20.703Z"
   },
   {
    "duration": 188,
    "start_time": "2025-01-12T09:34:20.713Z"
   },
   {
    "duration": 476,
    "start_time": "2025-01-12T09:34:20.903Z"
   },
   {
    "duration": 178,
    "start_time": "2025-01-12T09:34:21.381Z"
   },
   {
    "duration": 230,
    "start_time": "2025-01-12T09:34:21.560Z"
   },
   {
    "duration": 15,
    "start_time": "2025-01-12T09:34:21.793Z"
   },
   {
    "duration": 128,
    "start_time": "2025-01-12T09:34:21.809Z"
   },
   {
    "duration": 13,
    "start_time": "2025-01-12T09:34:21.939Z"
   },
   {
    "duration": 228,
    "start_time": "2025-01-12T09:34:21.954Z"
   },
   {
    "duration": 10,
    "start_time": "2025-01-12T09:34:22.195Z"
   },
   {
    "duration": 173,
    "start_time": "2025-01-12T09:34:22.206Z"
   },
   {
    "duration": 199,
    "start_time": "2025-01-12T09:34:22.381Z"
   },
   {
    "duration": 253,
    "start_time": "2025-01-12T09:34:22.582Z"
   },
   {
    "duration": 175,
    "start_time": "2025-01-12T09:34:22.837Z"
   },
   {
    "duration": 10,
    "start_time": "2025-01-12T09:34:23.014Z"
   },
   {
    "duration": 388,
    "start_time": "2025-01-12T09:34:23.025Z"
   },
   {
    "duration": 125,
    "start_time": "2025-01-12T09:34:23.415Z"
   },
   {
    "duration": 0,
    "start_time": "2025-01-12T09:34:23.541Z"
   },
   {
    "duration": 0,
    "start_time": "2025-01-12T09:34:23.543Z"
   },
   {
    "duration": 0,
    "start_time": "2025-01-12T09:34:23.544Z"
   },
   {
    "duration": 0,
    "start_time": "2025-01-12T09:34:23.545Z"
   },
   {
    "duration": 17,
    "start_time": "2025-01-12T09:45:45.360Z"
   },
   {
    "duration": 16,
    "start_time": "2025-01-12T10:01:00.282Z"
   },
   {
    "duration": 11,
    "start_time": "2025-01-12T10:01:10.457Z"
   },
   {
    "duration": 12,
    "start_time": "2025-01-12T10:01:37.931Z"
   },
   {
    "duration": 10,
    "start_time": "2025-01-12T10:02:20.325Z"
   },
   {
    "duration": 3829,
    "start_time": "2025-01-12T10:02:31.527Z"
   },
   {
    "duration": 188,
    "start_time": "2025-01-12T10:02:35.358Z"
   },
   {
    "duration": 58,
    "start_time": "2025-01-12T10:02:35.548Z"
   },
   {
    "duration": 54,
    "start_time": "2025-01-12T10:02:35.608Z"
   },
   {
    "duration": 13,
    "start_time": "2025-01-12T10:02:35.664Z"
   },
   {
    "duration": 46,
    "start_time": "2025-01-12T10:02:35.679Z"
   },
   {
    "duration": 36,
    "start_time": "2025-01-12T10:02:35.727Z"
   },
   {
    "duration": 38,
    "start_time": "2025-01-12T10:02:35.765Z"
   },
   {
    "duration": 33,
    "start_time": "2025-01-12T10:02:35.804Z"
   },
   {
    "duration": 28,
    "start_time": "2025-01-12T10:02:35.840Z"
   },
   {
    "duration": 22,
    "start_time": "2025-01-12T10:02:35.869Z"
   },
   {
    "duration": 60,
    "start_time": "2025-01-12T10:02:35.894Z"
   },
   {
    "duration": 20,
    "start_time": "2025-01-12T10:02:35.956Z"
   },
   {
    "duration": 35,
    "start_time": "2025-01-12T10:02:35.978Z"
   },
   {
    "duration": 62,
    "start_time": "2025-01-12T10:02:36.014Z"
   },
   {
    "duration": 19,
    "start_time": "2025-01-12T10:02:36.078Z"
   },
   {
    "duration": 39,
    "start_time": "2025-01-12T10:02:36.098Z"
   },
   {
    "duration": 28,
    "start_time": "2025-01-12T10:02:36.138Z"
   },
   {
    "duration": 37,
    "start_time": "2025-01-12T10:02:36.167Z"
   },
   {
    "duration": 106,
    "start_time": "2025-01-12T10:02:36.205Z"
   },
   {
    "duration": 51,
    "start_time": "2025-01-12T10:02:36.312Z"
   },
   {
    "duration": 87,
    "start_time": "2025-01-12T10:02:36.364Z"
   },
   {
    "duration": 3,
    "start_time": "2025-01-12T10:02:36.453Z"
   },
   {
    "duration": 13,
    "start_time": "2025-01-12T10:02:36.457Z"
   },
   {
    "duration": 12,
    "start_time": "2025-01-12T10:02:36.471Z"
   },
   {
    "duration": 14,
    "start_time": "2025-01-12T10:02:36.485Z"
   },
   {
    "duration": 28,
    "start_time": "2025-01-12T10:02:36.501Z"
   },
   {
    "duration": 11,
    "start_time": "2025-01-12T10:02:36.532Z"
   },
   {
    "duration": 27,
    "start_time": "2025-01-12T10:02:36.545Z"
   },
   {
    "duration": 11,
    "start_time": "2025-01-12T10:02:36.574Z"
   },
   {
    "duration": 21,
    "start_time": "2025-01-12T10:02:36.590Z"
   },
   {
    "duration": 25,
    "start_time": "2025-01-12T10:02:36.613Z"
   },
   {
    "duration": 25,
    "start_time": "2025-01-12T10:02:36.640Z"
   },
   {
    "duration": 13,
    "start_time": "2025-01-12T10:02:36.667Z"
   },
   {
    "duration": 182,
    "start_time": "2025-01-12T10:02:36.682Z"
   },
   {
    "duration": 447,
    "start_time": "2025-01-12T10:02:36.866Z"
   },
   {
    "duration": 164,
    "start_time": "2025-01-12T10:02:37.314Z"
   },
   {
    "duration": 215,
    "start_time": "2025-01-12T10:02:37.487Z"
   },
   {
    "duration": 8,
    "start_time": "2025-01-12T10:02:37.703Z"
   },
   {
    "duration": 121,
    "start_time": "2025-01-12T10:02:37.713Z"
   },
   {
    "duration": 11,
    "start_time": "2025-01-12T10:02:37.836Z"
   },
   {
    "duration": 213,
    "start_time": "2025-01-12T10:02:37.849Z"
   },
   {
    "duration": 8,
    "start_time": "2025-01-12T10:02:38.064Z"
   },
   {
    "duration": 248,
    "start_time": "2025-01-12T10:02:38.073Z"
   },
   {
    "duration": 116,
    "start_time": "2025-01-12T10:02:38.322Z"
   },
   {
    "duration": 224,
    "start_time": "2025-01-12T10:02:38.440Z"
   },
   {
    "duration": 155,
    "start_time": "2025-01-12T10:02:38.665Z"
   },
   {
    "duration": 10,
    "start_time": "2025-01-12T10:02:38.822Z"
   },
   {
    "duration": 343,
    "start_time": "2025-01-12T10:02:38.834Z"
   },
   {
    "duration": 178,
    "start_time": "2025-01-12T10:02:39.186Z"
   },
   {
    "duration": 137,
    "start_time": "2025-01-12T10:02:39.366Z"
   },
   {
    "duration": 283,
    "start_time": "2025-01-12T10:02:39.505Z"
   },
   {
    "duration": 1209,
    "start_time": "2025-01-12T10:02:39.790Z"
   },
   {
    "duration": 7,
    "start_time": "2025-01-12T10:02:41.001Z"
   },
   {
    "duration": 10,
    "start_time": "2025-01-12T10:03:51.150Z"
   },
   {
    "duration": 14,
    "start_time": "2025-01-12T10:05:16.312Z"
   },
   {
    "duration": 22,
    "start_time": "2025-01-12T10:10:45.892Z"
   },
   {
    "duration": 105,
    "start_time": "2025-01-12T10:10:53.360Z"
   },
   {
    "duration": 8,
    "start_time": "2025-01-12T10:11:01.149Z"
   },
   {
    "duration": 9,
    "start_time": "2025-01-12T10:11:07.926Z"
   },
   {
    "duration": 17,
    "start_time": "2025-01-12T10:11:24.722Z"
   },
   {
    "duration": 9,
    "start_time": "2025-01-12T10:13:27.817Z"
   },
   {
    "duration": 11,
    "start_time": "2025-01-12T10:14:42.557Z"
   },
   {
    "duration": 14,
    "start_time": "2025-01-12T10:14:56.618Z"
   },
   {
    "duration": 8,
    "start_time": "2025-01-12T10:15:06.312Z"
   },
   {
    "duration": 11,
    "start_time": "2025-01-12T10:15:51.540Z"
   },
   {
    "duration": 10,
    "start_time": "2025-01-12T10:16:01.072Z"
   },
   {
    "duration": 21,
    "start_time": "2025-01-12T10:16:35.756Z"
   },
   {
    "duration": 40,
    "start_time": "2025-01-12T10:16:52.949Z"
   },
   {
    "duration": 9,
    "start_time": "2025-01-12T10:51:10.308Z"
   },
   {
    "duration": 149,
    "start_time": "2025-01-12T10:57:56.589Z"
   },
   {
    "duration": 8,
    "start_time": "2025-01-12T10:58:30.624Z"
   },
   {
    "duration": 195,
    "start_time": "2025-01-12T11:00:35.297Z"
   },
   {
    "duration": 149,
    "start_time": "2025-01-12T11:02:54.254Z"
   },
   {
    "duration": 154,
    "start_time": "2025-01-12T11:03:01.204Z"
   },
   {
    "duration": 158,
    "start_time": "2025-01-12T11:03:51.542Z"
   },
   {
    "duration": 5,
    "start_time": "2025-01-12T11:18:04.172Z"
   },
   {
    "duration": 6,
    "start_time": "2025-01-12T11:22:04.942Z"
   },
   {
    "duration": 6,
    "start_time": "2025-01-12T11:22:17.941Z"
   },
   {
    "duration": 6,
    "start_time": "2025-01-12T11:22:24.547Z"
   },
   {
    "duration": 7,
    "start_time": "2025-01-12T11:22:25.657Z"
   },
   {
    "duration": 629,
    "start_time": "2025-01-12T11:25:35.474Z"
   },
   {
    "duration": 1248,
    "start_time": "2025-01-12T11:25:50.400Z"
   },
   {
    "duration": 6,
    "start_time": "2025-01-12T11:26:22.900Z"
   },
   {
    "duration": 7,
    "start_time": "2025-01-12T11:27:12.696Z"
   },
   {
    "duration": 8,
    "start_time": "2025-01-12T11:28:59.582Z"
   },
   {
    "duration": 157,
    "start_time": "2025-01-12T11:36:11.113Z"
   },
   {
    "duration": 197,
    "start_time": "2025-01-12T11:37:24.159Z"
   },
   {
    "duration": 204,
    "start_time": "2025-01-12T11:44:20.745Z"
   },
   {
    "duration": 204,
    "start_time": "2025-01-12T11:49:24.567Z"
   },
   {
    "duration": 218,
    "start_time": "2025-01-12T15:15:02.559Z"
   },
   {
    "duration": 297,
    "start_time": "2025-01-12T15:15:22.622Z"
   },
   {
    "duration": 226,
    "start_time": "2025-01-12T15:15:36.439Z"
   },
   {
    "duration": 20,
    "start_time": "2025-01-12T15:16:41.727Z"
   },
   {
    "duration": 234,
    "start_time": "2025-01-12T15:18:41.474Z"
   },
   {
    "duration": 241,
    "start_time": "2025-01-12T15:29:16.814Z"
   },
   {
    "duration": 179,
    "start_time": "2025-01-12T15:29:30.646Z"
   },
   {
    "duration": 217,
    "start_time": "2025-01-12T15:30:15.282Z"
   },
   {
    "duration": 171,
    "start_time": "2025-01-12T15:31:33.321Z"
   },
   {
    "duration": 156,
    "start_time": "2025-01-12T15:35:16.076Z"
   },
   {
    "duration": 152,
    "start_time": "2025-01-12T15:38:08.824Z"
   },
   {
    "duration": 11,
    "start_time": "2025-01-12T15:57:42.391Z"
   },
   {
    "duration": 10,
    "start_time": "2025-01-12T16:01:19.988Z"
   },
   {
    "duration": 13,
    "start_time": "2025-01-12T16:01:44.503Z"
   },
   {
    "duration": 10,
    "start_time": "2025-01-12T16:02:58.005Z"
   },
   {
    "duration": 13,
    "start_time": "2025-01-12T16:03:04.317Z"
   },
   {
    "duration": 3913,
    "start_time": "2025-01-12T16:08:05.884Z"
   },
   {
    "duration": 124,
    "start_time": "2025-01-12T16:08:09.799Z"
   },
   {
    "duration": 104,
    "start_time": "2025-01-12T16:08:09.925Z"
   },
   {
    "duration": 16,
    "start_time": "2025-01-12T16:08:10.031Z"
   },
   {
    "duration": 19,
    "start_time": "2025-01-12T16:08:10.049Z"
   },
   {
    "duration": 9,
    "start_time": "2025-01-12T16:08:10.070Z"
   },
   {
    "duration": 10,
    "start_time": "2025-01-12T16:08:10.081Z"
   },
   {
    "duration": 5,
    "start_time": "2025-01-12T16:08:10.093Z"
   },
   {
    "duration": 6,
    "start_time": "2025-01-12T16:08:10.099Z"
   },
   {
    "duration": 4,
    "start_time": "2025-01-12T16:08:10.108Z"
   },
   {
    "duration": 4,
    "start_time": "2025-01-12T16:08:10.114Z"
   },
   {
    "duration": 11,
    "start_time": "2025-01-12T16:08:10.119Z"
   },
   {
    "duration": 20,
    "start_time": "2025-01-12T16:08:10.131Z"
   },
   {
    "duration": 41,
    "start_time": "2025-01-12T16:08:10.153Z"
   },
   {
    "duration": 11,
    "start_time": "2025-01-12T16:08:10.195Z"
   },
   {
    "duration": 3,
    "start_time": "2025-01-12T16:08:10.208Z"
   },
   {
    "duration": 47,
    "start_time": "2025-01-12T16:08:10.213Z"
   },
   {
    "duration": 4,
    "start_time": "2025-01-12T16:08:10.261Z"
   },
   {
    "duration": 15,
    "start_time": "2025-01-12T16:08:10.266Z"
   },
   {
    "duration": 4,
    "start_time": "2025-01-12T16:08:10.282Z"
   },
   {
    "duration": 8,
    "start_time": "2025-01-12T16:08:10.288Z"
   },
   {
    "duration": 53,
    "start_time": "2025-01-12T16:08:10.297Z"
   },
   {
    "duration": 2,
    "start_time": "2025-01-12T16:08:10.352Z"
   },
   {
    "duration": 5,
    "start_time": "2025-01-12T16:08:10.356Z"
   },
   {
    "duration": 9,
    "start_time": "2025-01-12T16:08:10.386Z"
   },
   {
    "duration": 5,
    "start_time": "2025-01-12T16:08:10.397Z"
   },
   {
    "duration": 10,
    "start_time": "2025-01-12T16:08:10.404Z"
   },
   {
    "duration": 10,
    "start_time": "2025-01-12T16:08:10.418Z"
   },
   {
    "duration": 20,
    "start_time": "2025-01-12T16:08:10.430Z"
   },
   {
    "duration": 34,
    "start_time": "2025-01-12T16:08:10.452Z"
   },
   {
    "duration": 21,
    "start_time": "2025-01-12T16:08:10.487Z"
   },
   {
    "duration": 15,
    "start_time": "2025-01-12T16:08:10.509Z"
   },
   {
    "duration": 8,
    "start_time": "2025-01-12T16:08:10.526Z"
   },
   {
    "duration": 58,
    "start_time": "2025-01-12T16:08:10.536Z"
   },
   {
    "duration": 8,
    "start_time": "2025-01-12T16:08:10.595Z"
   },
   {
    "duration": 10,
    "start_time": "2025-01-12T16:08:10.604Z"
   },
   {
    "duration": 7,
    "start_time": "2025-01-12T16:08:10.616Z"
   },
   {
    "duration": 183,
    "start_time": "2025-01-12T16:08:10.624Z"
   },
   {
    "duration": 445,
    "start_time": "2025-01-12T16:08:10.808Z"
   },
   {
    "duration": 163,
    "start_time": "2025-01-12T16:08:11.255Z"
   },
   {
    "duration": 166,
    "start_time": "2025-01-12T16:08:11.420Z"
   },
   {
    "duration": 209,
    "start_time": "2025-01-12T16:08:11.588Z"
   },
   {
    "duration": 7,
    "start_time": "2025-01-12T16:08:11.799Z"
   },
   {
    "duration": 122,
    "start_time": "2025-01-12T16:08:11.808Z"
   },
   {
    "duration": 12,
    "start_time": "2025-01-12T16:08:11.932Z"
   },
   {
    "duration": 282,
    "start_time": "2025-01-12T16:08:11.945Z"
   },
   {
    "duration": 5,
    "start_time": "2025-01-12T16:08:12.228Z"
   },
   {
    "duration": 12,
    "start_time": "2025-01-12T16:08:12.235Z"
   },
   {
    "duration": 8,
    "start_time": "2025-01-12T16:08:12.248Z"
   },
   {
    "duration": 167,
    "start_time": "2025-01-12T16:08:12.258Z"
   },
   {
    "duration": 113,
    "start_time": "2025-01-12T16:08:12.427Z"
   },
   {
    "duration": 218,
    "start_time": "2025-01-12T16:08:12.541Z"
   },
   {
    "duration": 154,
    "start_time": "2025-01-12T16:08:12.762Z"
   },
   {
    "duration": 10,
    "start_time": "2025-01-12T16:08:12.917Z"
   },
   {
    "duration": 366,
    "start_time": "2025-01-12T16:08:12.928Z"
   },
   {
    "duration": 177,
    "start_time": "2025-01-12T16:08:13.296Z"
   },
   {
    "duration": 98,
    "start_time": "2025-01-12T16:08:13.475Z"
   },
   {
    "duration": 275,
    "start_time": "2025-01-12T16:08:13.575Z"
   },
   {
    "duration": 1159,
    "start_time": "2025-01-12T16:08:13.852Z"
   },
   {
    "duration": 7,
    "start_time": "2025-01-12T16:08:15.013Z"
   },
   {
    "duration": 137,
    "start_time": "2025-01-12T16:09:29.397Z"
   },
   {
    "duration": 8,
    "start_time": "2025-01-12T16:09:54.443Z"
   },
   {
    "duration": 3839,
    "start_time": "2025-01-12T16:18:59.129Z"
   },
   {
    "duration": 149,
    "start_time": "2025-01-12T16:19:02.970Z"
   },
   {
    "duration": 50,
    "start_time": "2025-01-12T16:19:03.121Z"
   },
   {
    "duration": 16,
    "start_time": "2025-01-12T16:19:03.173Z"
   },
   {
    "duration": 16,
    "start_time": "2025-01-12T16:19:03.190Z"
   },
   {
    "duration": 30,
    "start_time": "2025-01-12T16:19:03.207Z"
   },
   {
    "duration": 54,
    "start_time": "2025-01-12T16:19:03.238Z"
   },
   {
    "duration": 26,
    "start_time": "2025-01-12T16:19:03.293Z"
   },
   {
    "duration": 14,
    "start_time": "2025-01-12T16:19:03.320Z"
   },
   {
    "duration": 25,
    "start_time": "2025-01-12T16:19:03.336Z"
   },
   {
    "duration": 19,
    "start_time": "2025-01-12T16:19:03.363Z"
   },
   {
    "duration": 16,
    "start_time": "2025-01-12T16:19:03.383Z"
   },
   {
    "duration": 15,
    "start_time": "2025-01-12T16:19:03.401Z"
   },
   {
    "duration": 16,
    "start_time": "2025-01-12T16:19:03.417Z"
   },
   {
    "duration": 11,
    "start_time": "2025-01-12T16:19:03.434Z"
   },
   {
    "duration": 13,
    "start_time": "2025-01-12T16:19:03.447Z"
   },
   {
    "duration": 12,
    "start_time": "2025-01-12T16:19:03.461Z"
   },
   {
    "duration": 11,
    "start_time": "2025-01-12T16:19:03.474Z"
   },
   {
    "duration": 22,
    "start_time": "2025-01-12T16:19:03.486Z"
   },
   {
    "duration": 7,
    "start_time": "2025-01-12T16:19:03.509Z"
   },
   {
    "duration": 15,
    "start_time": "2025-01-12T16:19:03.518Z"
   },
   {
    "duration": 59,
    "start_time": "2025-01-12T16:19:03.535Z"
   },
   {
    "duration": 3,
    "start_time": "2025-01-12T16:19:03.595Z"
   },
   {
    "duration": 23,
    "start_time": "2025-01-12T16:19:03.599Z"
   },
   {
    "duration": 12,
    "start_time": "2025-01-12T16:19:03.623Z"
   },
   {
    "duration": 13,
    "start_time": "2025-01-12T16:19:03.636Z"
   },
   {
    "duration": 11,
    "start_time": "2025-01-12T16:19:03.651Z"
   },
   {
    "duration": 15,
    "start_time": "2025-01-12T16:19:03.666Z"
   },
   {
    "duration": 24,
    "start_time": "2025-01-12T16:19:03.682Z"
   },
   {
    "duration": 8,
    "start_time": "2025-01-12T16:19:03.708Z"
   },
   {
    "duration": 20,
    "start_time": "2025-01-12T16:19:03.718Z"
   },
   {
    "duration": 15,
    "start_time": "2025-01-12T16:19:03.740Z"
   },
   {
    "duration": 29,
    "start_time": "2025-01-12T16:19:03.757Z"
   },
   {
    "duration": 39,
    "start_time": "2025-01-12T16:19:03.788Z"
   },
   {
    "duration": 7,
    "start_time": "2025-01-12T16:19:03.829Z"
   },
   {
    "duration": 20,
    "start_time": "2025-01-12T16:19:03.838Z"
   },
   {
    "duration": 7,
    "start_time": "2025-01-12T16:19:03.860Z"
   },
   {
    "duration": 184,
    "start_time": "2025-01-12T16:19:03.868Z"
   },
   {
    "duration": 457,
    "start_time": "2025-01-12T16:19:04.054Z"
   },
   {
    "duration": 173,
    "start_time": "2025-01-12T16:19:04.513Z"
   },
   {
    "duration": 164,
    "start_time": "2025-01-12T16:19:04.688Z"
   },
   {
    "duration": 212,
    "start_time": "2025-01-12T16:19:04.853Z"
   },
   {
    "duration": 8,
    "start_time": "2025-01-12T16:19:05.066Z"
   },
   {
    "duration": 113,
    "start_time": "2025-01-12T16:19:05.086Z"
   },
   {
    "duration": 12,
    "start_time": "2025-01-12T16:19:05.200Z"
   },
   {
    "duration": 281,
    "start_time": "2025-01-12T16:19:05.214Z"
   },
   {
    "duration": 4,
    "start_time": "2025-01-12T16:19:05.497Z"
   },
   {
    "duration": 18,
    "start_time": "2025-01-12T16:19:05.503Z"
   },
   {
    "duration": 16,
    "start_time": "2025-01-12T16:19:05.522Z"
   },
   {
    "duration": 183,
    "start_time": "2025-01-12T16:19:05.540Z"
   },
   {
    "duration": 114,
    "start_time": "2025-01-12T16:19:05.724Z"
   },
   {
    "duration": 217,
    "start_time": "2025-01-12T16:19:05.840Z"
   },
   {
    "duration": 157,
    "start_time": "2025-01-12T16:19:06.059Z"
   },
   {
    "duration": 11,
    "start_time": "2025-01-12T16:19:06.218Z"
   },
   {
    "duration": 372,
    "start_time": "2025-01-12T16:19:06.230Z"
   },
   {
    "duration": 187,
    "start_time": "2025-01-12T16:19:06.604Z"
   },
   {
    "duration": 110,
    "start_time": "2025-01-12T16:19:06.793Z"
   },
   {
    "duration": 269,
    "start_time": "2025-01-12T16:19:06.904Z"
   },
   {
    "duration": 1200,
    "start_time": "2025-01-12T16:19:07.175Z"
   },
   {
    "duration": 7,
    "start_time": "2025-01-12T16:19:08.377Z"
   },
   {
    "duration": 67,
    "start_time": "2025-01-13T15:07:08.140Z"
   },
   {
    "duration": 8,
    "start_time": "2025-01-13T15:07:56.936Z"
   },
   {
    "duration": 8,
    "start_time": "2025-01-13T15:08:50.633Z"
   },
   {
    "duration": 11426,
    "start_time": "2025-01-13T15:09:02.936Z"
   },
   {
    "duration": 142,
    "start_time": "2025-01-13T15:09:14.366Z"
   },
   {
    "duration": 46,
    "start_time": "2025-01-13T15:09:14.510Z"
   },
   {
    "duration": 26,
    "start_time": "2025-01-13T15:09:14.558Z"
   },
   {
    "duration": 17,
    "start_time": "2025-01-13T15:09:14.585Z"
   },
   {
    "duration": 12,
    "start_time": "2025-01-13T15:09:14.604Z"
   },
   {
    "duration": 45,
    "start_time": "2025-01-13T15:09:14.618Z"
   },
   {
    "duration": 6,
    "start_time": "2025-01-13T15:09:14.665Z"
   },
   {
    "duration": 7,
    "start_time": "2025-01-13T15:09:14.674Z"
   },
   {
    "duration": 5,
    "start_time": "2025-01-13T15:09:14.685Z"
   },
   {
    "duration": 6,
    "start_time": "2025-01-13T15:09:14.692Z"
   },
   {
    "duration": 13,
    "start_time": "2025-01-13T15:09:14.700Z"
   },
   {
    "duration": 69,
    "start_time": "2025-01-13T15:09:14.714Z"
   },
   {
    "duration": 33,
    "start_time": "2025-01-13T15:09:14.785Z"
   },
   {
    "duration": 15,
    "start_time": "2025-01-13T15:09:14.819Z"
   },
   {
    "duration": 4,
    "start_time": "2025-01-13T15:09:14.836Z"
   },
   {
    "duration": 40,
    "start_time": "2025-01-13T15:09:14.842Z"
   },
   {
    "duration": 5,
    "start_time": "2025-01-13T15:09:14.884Z"
   },
   {
    "duration": 27,
    "start_time": "2025-01-13T15:09:14.890Z"
   },
   {
    "duration": 4,
    "start_time": "2025-01-13T15:09:14.919Z"
   },
   {
    "duration": 44,
    "start_time": "2025-01-13T15:09:14.924Z"
   },
   {
    "duration": 89,
    "start_time": "2025-01-13T15:09:14.971Z"
   },
   {
    "duration": 5,
    "start_time": "2025-01-13T15:09:15.063Z"
   },
   {
    "duration": 40,
    "start_time": "2025-01-13T15:09:15.071Z"
   },
   {
    "duration": 34,
    "start_time": "2025-01-13T15:09:15.113Z"
   },
   {
    "duration": 10,
    "start_time": "2025-01-13T15:09:15.149Z"
   },
   {
    "duration": 54,
    "start_time": "2025-01-13T15:09:15.161Z"
   },
   {
    "duration": 40,
    "start_time": "2025-01-13T15:09:15.219Z"
   },
   {
    "duration": 46,
    "start_time": "2025-01-13T15:09:15.262Z"
   },
   {
    "duration": 11,
    "start_time": "2025-01-13T15:09:15.310Z"
   },
   {
    "duration": 65,
    "start_time": "2025-01-13T15:09:15.322Z"
   },
   {
    "duration": 37,
    "start_time": "2025-01-13T15:09:15.389Z"
   },
   {
    "duration": 56,
    "start_time": "2025-01-13T15:09:15.429Z"
   },
   {
    "duration": 9,
    "start_time": "2025-01-13T15:09:15.487Z"
   },
   {
    "duration": 11,
    "start_time": "2025-01-13T15:09:15.498Z"
   },
   {
    "duration": 10,
    "start_time": "2025-01-13T15:09:15.511Z"
   },
   {
    "duration": 240,
    "start_time": "2025-01-13T15:09:15.524Z"
   },
   {
    "duration": 535,
    "start_time": "2025-01-13T15:09:15.766Z"
   },
   {
    "duration": 223,
    "start_time": "2025-01-13T15:09:16.303Z"
   },
   {
    "duration": 218,
    "start_time": "2025-01-13T15:09:16.528Z"
   },
   {
    "duration": 294,
    "start_time": "2025-01-13T15:09:16.748Z"
   },
   {
    "duration": 16,
    "start_time": "2025-01-13T15:09:17.044Z"
   },
   {
    "duration": 155,
    "start_time": "2025-01-13T15:09:17.063Z"
   },
   {
    "duration": 15,
    "start_time": "2025-01-13T15:09:17.220Z"
   },
   {
    "duration": 298,
    "start_time": "2025-01-13T15:09:17.236Z"
   },
   {
    "duration": 6,
    "start_time": "2025-01-13T15:09:17.536Z"
   },
   {
    "duration": 39,
    "start_time": "2025-01-13T15:09:17.544Z"
   },
   {
    "duration": 11,
    "start_time": "2025-01-13T15:09:17.585Z"
   },
   {
    "duration": 326,
    "start_time": "2025-01-13T15:09:17.598Z"
   },
   {
    "duration": 164,
    "start_time": "2025-01-13T15:09:17.927Z"
   },
   {
    "duration": 270,
    "start_time": "2025-01-13T15:09:18.093Z"
   },
   {
    "duration": 218,
    "start_time": "2025-01-13T15:09:18.366Z"
   },
   {
    "duration": 13,
    "start_time": "2025-01-13T15:09:18.586Z"
   },
   {
    "duration": 399,
    "start_time": "2025-01-13T15:09:18.601Z"
   },
   {
    "duration": 125,
    "start_time": "2025-01-13T15:09:19.002Z"
   },
   {
    "duration": 0,
    "start_time": "2025-01-13T15:09:19.129Z"
   },
   {
    "duration": 0,
    "start_time": "2025-01-13T15:09:19.130Z"
   },
   {
    "duration": 0,
    "start_time": "2025-01-13T15:09:19.131Z"
   },
   {
    "duration": 0,
    "start_time": "2025-01-13T15:09:19.132Z"
   },
   {
    "duration": 16,
    "start_time": "2025-01-13T15:10:38.270Z"
   },
   {
    "duration": 11,
    "start_time": "2025-01-13T15:10:58.811Z"
   },
   {
    "duration": 10,
    "start_time": "2025-01-13T15:18:28.584Z"
   },
   {
    "duration": 535,
    "start_time": "2025-01-13T15:20:27.009Z"
   },
   {
    "duration": 474,
    "start_time": "2025-01-13T15:20:34.498Z"
   },
   {
    "duration": 647,
    "start_time": "2025-01-13T15:20:43.660Z"
   },
   {
    "duration": 98,
    "start_time": "2025-01-13T15:23:43.060Z"
   },
   {
    "duration": 211,
    "start_time": "2025-01-13T15:24:04.329Z"
   },
   {
    "duration": 186,
    "start_time": "2025-01-13T15:24:50.236Z"
   },
   {
    "duration": 14,
    "start_time": "2025-01-13T15:26:09.450Z"
   },
   {
    "duration": 13,
    "start_time": "2025-01-13T15:26:23.921Z"
   },
   {
    "duration": 11,
    "start_time": "2025-01-13T15:27:11.110Z"
   },
   {
    "duration": 11,
    "start_time": "2025-01-13T15:27:23.501Z"
   },
   {
    "duration": 15,
    "start_time": "2025-01-13T15:30:40.032Z"
   },
   {
    "duration": 4306,
    "start_time": "2025-01-13T15:31:08.274Z"
   },
   {
    "duration": 164,
    "start_time": "2025-01-13T15:31:12.582Z"
   },
   {
    "duration": 69,
    "start_time": "2025-01-13T15:31:12.748Z"
   },
   {
    "duration": 18,
    "start_time": "2025-01-13T15:31:12.820Z"
   },
   {
    "duration": 17,
    "start_time": "2025-01-13T15:31:12.840Z"
   },
   {
    "duration": 27,
    "start_time": "2025-01-13T15:31:12.858Z"
   },
   {
    "duration": 31,
    "start_time": "2025-01-13T15:31:12.888Z"
   },
   {
    "duration": 16,
    "start_time": "2025-01-13T15:31:12.921Z"
   },
   {
    "duration": 8,
    "start_time": "2025-01-13T15:31:12.940Z"
   },
   {
    "duration": 6,
    "start_time": "2025-01-13T15:31:12.953Z"
   },
   {
    "duration": 11,
    "start_time": "2025-01-13T15:31:12.962Z"
   },
   {
    "duration": 19,
    "start_time": "2025-01-13T15:31:12.975Z"
   },
   {
    "duration": 16,
    "start_time": "2025-01-13T15:31:12.997Z"
   },
   {
    "duration": 23,
    "start_time": "2025-01-13T15:31:13.015Z"
   },
   {
    "duration": 18,
    "start_time": "2025-01-13T15:31:13.059Z"
   },
   {
    "duration": 5,
    "start_time": "2025-01-13T15:31:13.080Z"
   },
   {
    "duration": 17,
    "start_time": "2025-01-13T15:31:13.086Z"
   },
   {
    "duration": 4,
    "start_time": "2025-01-13T15:31:13.105Z"
   },
   {
    "duration": 58,
    "start_time": "2025-01-13T15:31:13.111Z"
   },
   {
    "duration": 8,
    "start_time": "2025-01-13T15:31:13.171Z"
   },
   {
    "duration": 13,
    "start_time": "2025-01-13T15:31:13.181Z"
   },
   {
    "duration": 103,
    "start_time": "2025-01-13T15:31:13.196Z"
   },
   {
    "duration": 3,
    "start_time": "2025-01-13T15:31:13.300Z"
   },
   {
    "duration": 21,
    "start_time": "2025-01-13T15:31:13.305Z"
   },
   {
    "duration": 24,
    "start_time": "2025-01-13T15:31:13.328Z"
   },
   {
    "duration": 8,
    "start_time": "2025-01-13T15:31:13.354Z"
   },
   {
    "duration": 15,
    "start_time": "2025-01-13T15:31:13.365Z"
   },
   {
    "duration": 14,
    "start_time": "2025-01-13T15:31:13.385Z"
   },
   {
    "duration": 30,
    "start_time": "2025-01-13T15:31:13.401Z"
   },
   {
    "duration": 31,
    "start_time": "2025-01-13T15:31:13.432Z"
   },
   {
    "duration": 28,
    "start_time": "2025-01-13T15:31:13.466Z"
   },
   {
    "duration": 20,
    "start_time": "2025-01-13T15:31:13.496Z"
   },
   {
    "duration": 95,
    "start_time": "2025-01-13T15:31:13.517Z"
   },
   {
    "duration": 15,
    "start_time": "2025-01-13T15:31:13.614Z"
   },
   {
    "duration": 21,
    "start_time": "2025-01-13T15:31:13.631Z"
   },
   {
    "duration": 10,
    "start_time": "2025-01-13T15:31:13.661Z"
   },
   {
    "duration": 255,
    "start_time": "2025-01-13T15:31:13.675Z"
   },
   {
    "duration": 540,
    "start_time": "2025-01-13T15:31:13.932Z"
   },
   {
    "duration": 247,
    "start_time": "2025-01-13T15:31:14.475Z"
   },
   {
    "duration": 238,
    "start_time": "2025-01-13T15:31:14.724Z"
   },
   {
    "duration": 316,
    "start_time": "2025-01-13T15:31:14.965Z"
   },
   {
    "duration": 12,
    "start_time": "2025-01-13T15:31:15.284Z"
   },
   {
    "duration": 179,
    "start_time": "2025-01-13T15:31:15.299Z"
   },
   {
    "duration": 16,
    "start_time": "2025-01-13T15:31:15.481Z"
   },
   {
    "duration": 389,
    "start_time": "2025-01-13T15:31:15.499Z"
   },
   {
    "duration": 7,
    "start_time": "2025-01-13T15:31:15.890Z"
   },
   {
    "duration": 28,
    "start_time": "2025-01-13T15:31:15.899Z"
   },
   {
    "duration": 34,
    "start_time": "2025-01-13T15:31:15.928Z"
   },
   {
    "duration": 232,
    "start_time": "2025-01-13T15:31:15.966Z"
   },
   {
    "duration": 140,
    "start_time": "2025-01-13T15:31:16.200Z"
   },
   {
    "duration": 268,
    "start_time": "2025-01-13T15:31:16.342Z"
   },
   {
    "duration": 197,
    "start_time": "2025-01-13T15:31:16.612Z"
   },
   {
    "duration": 13,
    "start_time": "2025-01-13T15:31:16.811Z"
   },
   {
    "duration": 392,
    "start_time": "2025-01-13T15:31:16.826Z"
   },
   {
    "duration": 144,
    "start_time": "2025-01-13T15:31:17.221Z"
   },
   {
    "duration": 0,
    "start_time": "2025-01-13T15:31:17.367Z"
   },
   {
    "duration": 0,
    "start_time": "2025-01-13T15:31:17.370Z"
   },
   {
    "duration": 0,
    "start_time": "2025-01-13T15:31:17.372Z"
   },
   {
    "duration": 0,
    "start_time": "2025-01-13T15:31:17.374Z"
   },
   {
    "duration": 59,
    "start_time": "2025-01-13T15:35:17.750Z"
   },
   {
    "duration": 246,
    "start_time": "2025-01-13T15:35:40.289Z"
   },
   {
    "duration": 226,
    "start_time": "2025-01-13T15:37:09.018Z"
   },
   {
    "duration": 247,
    "start_time": "2025-01-13T15:38:42.627Z"
   },
   {
    "duration": 266,
    "start_time": "2025-01-13T15:39:23.264Z"
   },
   {
    "duration": 121,
    "start_time": "2025-01-13T15:40:30.391Z"
   },
   {
    "duration": 354,
    "start_time": "2025-01-13T15:42:28.343Z"
   },
   {
    "duration": 1506,
    "start_time": "2025-01-13T15:42:32.467Z"
   },
   {
    "duration": 12,
    "start_time": "2025-01-13T15:42:35.270Z"
   },
   {
    "duration": 4464,
    "start_time": "2025-01-13T15:42:50.658Z"
   },
   {
    "duration": 165,
    "start_time": "2025-01-13T15:42:55.125Z"
   },
   {
    "duration": 62,
    "start_time": "2025-01-13T15:42:55.292Z"
   },
   {
    "duration": 29,
    "start_time": "2025-01-13T15:42:55.356Z"
   },
   {
    "duration": 23,
    "start_time": "2025-01-13T15:42:55.387Z"
   },
   {
    "duration": 17,
    "start_time": "2025-01-13T15:42:55.412Z"
   },
   {
    "duration": 30,
    "start_time": "2025-01-13T15:42:55.430Z"
   },
   {
    "duration": 9,
    "start_time": "2025-01-13T15:42:55.463Z"
   },
   {
    "duration": 11,
    "start_time": "2025-01-13T15:42:55.475Z"
   },
   {
    "duration": 9,
    "start_time": "2025-01-13T15:42:55.489Z"
   },
   {
    "duration": 5,
    "start_time": "2025-01-13T15:42:55.500Z"
   },
   {
    "duration": 12,
    "start_time": "2025-01-13T15:42:55.507Z"
   },
   {
    "duration": 59,
    "start_time": "2025-01-13T15:42:55.521Z"
   },
   {
    "duration": 26,
    "start_time": "2025-01-13T15:42:55.584Z"
   },
   {
    "duration": 60,
    "start_time": "2025-01-13T15:42:55.612Z"
   },
   {
    "duration": 31,
    "start_time": "2025-01-13T15:42:55.675Z"
   },
   {
    "duration": 39,
    "start_time": "2025-01-13T15:42:55.707Z"
   },
   {
    "duration": 7,
    "start_time": "2025-01-13T15:42:55.748Z"
   },
   {
    "duration": 35,
    "start_time": "2025-01-13T15:42:55.757Z"
   },
   {
    "duration": 5,
    "start_time": "2025-01-13T15:42:55.794Z"
   },
   {
    "duration": 49,
    "start_time": "2025-01-13T15:42:55.802Z"
   },
   {
    "duration": 78,
    "start_time": "2025-01-13T15:42:55.853Z"
   },
   {
    "duration": 2,
    "start_time": "2025-01-13T15:42:55.933Z"
   },
   {
    "duration": 19,
    "start_time": "2025-01-13T15:42:55.937Z"
   },
   {
    "duration": 23,
    "start_time": "2025-01-13T15:42:55.958Z"
   },
   {
    "duration": 10,
    "start_time": "2025-01-13T15:42:55.983Z"
   },
   {
    "duration": 22,
    "start_time": "2025-01-13T15:42:55.995Z"
   },
   {
    "duration": 22,
    "start_time": "2025-01-13T15:42:56.021Z"
   },
   {
    "duration": 48,
    "start_time": "2025-01-13T15:42:56.045Z"
   },
   {
    "duration": 9,
    "start_time": "2025-01-13T15:42:56.095Z"
   },
   {
    "duration": 26,
    "start_time": "2025-01-13T15:42:56.106Z"
   },
   {
    "duration": 47,
    "start_time": "2025-01-13T15:42:56.133Z"
   },
   {
    "duration": 51,
    "start_time": "2025-01-13T15:42:56.183Z"
   },
   {
    "duration": 34,
    "start_time": "2025-01-13T15:42:56.235Z"
   },
   {
    "duration": 33,
    "start_time": "2025-01-13T15:42:56.272Z"
   },
   {
    "duration": 35,
    "start_time": "2025-01-13T15:42:56.306Z"
   },
   {
    "duration": 247,
    "start_time": "2025-01-13T15:42:56.343Z"
   },
   {
    "duration": 488,
    "start_time": "2025-01-13T15:42:56.592Z"
   },
   {
    "duration": 208,
    "start_time": "2025-01-13T15:42:57.083Z"
   },
   {
    "duration": 213,
    "start_time": "2025-01-13T15:42:57.292Z"
   },
   {
    "duration": 267,
    "start_time": "2025-01-13T15:42:57.507Z"
   },
   {
    "duration": 11,
    "start_time": "2025-01-13T15:42:57.778Z"
   },
   {
    "duration": 183,
    "start_time": "2025-01-13T15:42:57.791Z"
   },
   {
    "duration": 22,
    "start_time": "2025-01-13T15:42:57.977Z"
   },
   {
    "duration": 451,
    "start_time": "2025-01-13T15:42:58.001Z"
   },
   {
    "duration": 15,
    "start_time": "2025-01-13T15:42:58.454Z"
   },
   {
    "duration": 18,
    "start_time": "2025-01-13T15:42:58.473Z"
   },
   {
    "duration": 16,
    "start_time": "2025-01-13T15:42:58.492Z"
   },
   {
    "duration": 250,
    "start_time": "2025-01-13T15:42:58.510Z"
   },
   {
    "duration": 164,
    "start_time": "2025-01-13T15:42:58.763Z"
   },
   {
    "duration": 301,
    "start_time": "2025-01-13T15:42:58.929Z"
   },
   {
    "duration": 205,
    "start_time": "2025-01-13T15:42:59.232Z"
   },
   {
    "duration": 28,
    "start_time": "2025-01-13T15:42:59.439Z"
   },
   {
    "duration": 361,
    "start_time": "2025-01-13T15:42:59.470Z"
   },
   {
    "duration": 289,
    "start_time": "2025-01-13T15:42:59.833Z"
   },
   {
    "duration": 125,
    "start_time": "2025-01-13T15:43:00.124Z"
   },
   {
    "duration": 351,
    "start_time": "2025-01-13T15:43:00.259Z"
   },
   {
    "duration": 1565,
    "start_time": "2025-01-13T15:43:00.612Z"
   },
   {
    "duration": 12,
    "start_time": "2025-01-13T15:43:02.180Z"
   },
   {
    "duration": 117,
    "start_time": "2025-01-13T15:47:34.988Z"
   },
   {
    "duration": 337,
    "start_time": "2025-01-13T15:48:00.791Z"
   },
   {
    "duration": 4759,
    "start_time": "2025-01-13T15:48:28.193Z"
   },
   {
    "duration": 131,
    "start_time": "2025-01-13T15:48:32.955Z"
   },
   {
    "duration": 118,
    "start_time": "2025-01-13T15:48:33.087Z"
   },
   {
    "duration": 19,
    "start_time": "2025-01-13T15:48:33.208Z"
   },
   {
    "duration": 33,
    "start_time": "2025-01-13T15:48:33.229Z"
   },
   {
    "duration": 21,
    "start_time": "2025-01-13T15:48:33.265Z"
   },
   {
    "duration": 18,
    "start_time": "2025-01-13T15:48:33.289Z"
   },
   {
    "duration": 7,
    "start_time": "2025-01-13T15:48:33.309Z"
   },
   {
    "duration": 18,
    "start_time": "2025-01-13T15:48:33.317Z"
   },
   {
    "duration": 20,
    "start_time": "2025-01-13T15:48:33.339Z"
   },
   {
    "duration": 6,
    "start_time": "2025-01-13T15:48:33.363Z"
   },
   {
    "duration": 23,
    "start_time": "2025-01-13T15:48:33.371Z"
   },
   {
    "duration": 28,
    "start_time": "2025-01-13T15:48:33.397Z"
   },
   {
    "duration": 28,
    "start_time": "2025-01-13T15:48:33.427Z"
   },
   {
    "duration": 41,
    "start_time": "2025-01-13T15:48:33.457Z"
   },
   {
    "duration": 85,
    "start_time": "2025-01-13T15:48:33.500Z"
   },
   {
    "duration": 43,
    "start_time": "2025-01-13T15:48:33.588Z"
   },
   {
    "duration": 14,
    "start_time": "2025-01-13T15:48:33.632Z"
   },
   {
    "duration": 44,
    "start_time": "2025-01-13T15:48:33.648Z"
   },
   {
    "duration": 9,
    "start_time": "2025-01-13T15:48:33.694Z"
   },
   {
    "duration": 13,
    "start_time": "2025-01-13T15:48:33.705Z"
   },
   {
    "duration": 92,
    "start_time": "2025-01-13T15:48:33.720Z"
   },
   {
    "duration": 3,
    "start_time": "2025-01-13T15:48:33.813Z"
   },
   {
    "duration": 53,
    "start_time": "2025-01-13T15:48:33.818Z"
   },
   {
    "duration": 35,
    "start_time": "2025-01-13T15:48:33.874Z"
   },
   {
    "duration": 24,
    "start_time": "2025-01-13T15:48:33.911Z"
   },
   {
    "duration": 45,
    "start_time": "2025-01-13T15:48:33.937Z"
   },
   {
    "duration": 15,
    "start_time": "2025-01-13T15:48:33.986Z"
   },
   {
    "duration": 38,
    "start_time": "2025-01-13T15:48:34.003Z"
   },
   {
    "duration": 23,
    "start_time": "2025-01-13T15:48:34.043Z"
   },
   {
    "duration": 34,
    "start_time": "2025-01-13T15:48:34.069Z"
   },
   {
    "duration": 19,
    "start_time": "2025-01-13T15:48:34.105Z"
   },
   {
    "duration": 81,
    "start_time": "2025-01-13T15:48:34.126Z"
   },
   {
    "duration": 11,
    "start_time": "2025-01-13T15:48:34.209Z"
   },
   {
    "duration": 32,
    "start_time": "2025-01-13T15:48:34.222Z"
   },
   {
    "duration": 27,
    "start_time": "2025-01-13T15:48:34.261Z"
   },
   {
    "duration": 237,
    "start_time": "2025-01-13T15:48:34.289Z"
   },
   {
    "duration": 537,
    "start_time": "2025-01-13T15:48:34.528Z"
   },
   {
    "duration": 234,
    "start_time": "2025-01-13T15:48:35.068Z"
   },
   {
    "duration": 230,
    "start_time": "2025-01-13T15:48:35.305Z"
   },
   {
    "duration": 311,
    "start_time": "2025-01-13T15:48:35.537Z"
   },
   {
    "duration": 20,
    "start_time": "2025-01-13T15:48:35.850Z"
   },
   {
    "duration": 174,
    "start_time": "2025-01-13T15:48:35.873Z"
   },
   {
    "duration": 35,
    "start_time": "2025-01-13T15:48:36.049Z"
   },
   {
    "duration": 387,
    "start_time": "2025-01-13T15:48:36.087Z"
   },
   {
    "duration": 8,
    "start_time": "2025-01-13T15:48:36.476Z"
   },
   {
    "duration": 32,
    "start_time": "2025-01-13T15:48:36.487Z"
   },
   {
    "duration": 33,
    "start_time": "2025-01-13T15:48:36.521Z"
   },
   {
    "duration": 232,
    "start_time": "2025-01-13T15:48:36.556Z"
   },
   {
    "duration": 152,
    "start_time": "2025-01-13T15:48:36.790Z"
   },
   {
    "duration": 296,
    "start_time": "2025-01-13T15:48:36.944Z"
   },
   {
    "duration": 214,
    "start_time": "2025-01-13T15:48:37.242Z"
   },
   {
    "duration": 21,
    "start_time": "2025-01-13T15:48:37.459Z"
   },
   {
    "duration": 399,
    "start_time": "2025-01-13T15:48:37.483Z"
   },
   {
    "duration": 299,
    "start_time": "2025-01-13T15:48:37.884Z"
   },
   {
    "duration": 132,
    "start_time": "2025-01-13T15:48:38.185Z"
   },
   {
    "duration": 383,
    "start_time": "2025-01-13T15:48:38.319Z"
   },
   {
    "duration": 1500,
    "start_time": "2025-01-13T15:48:38.704Z"
   },
   {
    "duration": 13,
    "start_time": "2025-01-13T15:48:40.206Z"
   }
  ],
  "colab": {
   "provenance": []
  },
  "kernelspec": {
   "display_name": "Python 3 (ipykernel)",
   "language": "python",
   "name": "python3"
  },
  "language_info": {
   "codemirror_mode": {
    "name": "ipython",
    "version": 3
   },
   "file_extension": ".py",
   "mimetype": "text/x-python",
   "name": "python",
   "nbconvert_exporter": "python",
   "pygments_lexer": "ipython3",
   "version": "3.12.7"
  },
  "toc": {
   "base_numbering": 1,
   "nav_menu": {},
   "number_sections": true,
   "sideBar": true,
   "skip_h1_title": true,
   "title_cell": "Table of Contents",
   "title_sidebar": "Contents",
   "toc_cell": false,
   "toc_position": {},
   "toc_section_display": true,
   "toc_window_display": false
  }
 },
 "nbformat": 4,
 "nbformat_minor": 5
}
